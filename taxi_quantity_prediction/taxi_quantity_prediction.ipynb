{
 "cells": [
  {
   "cell_type": "markdown",
   "metadata": {},
   "source": [
    "#  Прогнозирование заказов такси\n",
    "___\n",
    "# Forecasting taxi orders"
   ]
  },
  {
   "cell_type": "markdown",
   "metadata": {},
   "source": [
    "Компания из сферы услуг такси собрала данные о заказах такси в различных аэропортах. Для привлечения большего количества водителей в период пиковой нагрузки необходимо спрогнозировать количество заказов на последующий час.\n",
    "\n",
    "Необходимо построить модель, которая позволит сделать подобное предсказание.\n",
    "___\n",
    "A taxi service company collected data on taxi bookings at various airports. To attract more drivers during the peak period, it is necessary to predict the number of orders for the next hour.\n",
    "\n",
    "It is necessary to build a model that will allow such a prediction to be made."
   ]
  },
  {
   "cell_type": "markdown",
   "metadata": {},
   "source": [
    "## Подготовка данных\n",
    "___\n",
    "## Data preparation"
   ]
  },
  {
   "cell_type": "code",
   "execution_count": 1,
   "metadata": {},
   "outputs": [],
   "source": [
    "import pandas as pd\n",
    "import numpy as np\n",
    "from sklearn.model_selection import train_test_split\n",
    "from sklearn.model_selection import TimeSeriesSplit, GridSearchCV\n",
    "from statsmodels.tsa.seasonal import seasonal_decompose\n",
    "import matplotlib.pyplot as plt\n",
    "from sklearn.tree import DecisionTreeRegressor\n",
    "from sklearn.ensemble import RandomForestRegressor\n",
    "from sklearn.linear_model import LinearRegression\n",
    "from sklearn.metrics import mean_squared_error"
   ]
  },
  {
   "cell_type": "code",
   "execution_count": 2,
   "metadata": {},
   "outputs": [],
   "source": [
    "data = pd.read_csv('taxi.csv', index_col=[0], parse_dates=[0])"
   ]
  },
  {
   "cell_type": "code",
   "execution_count": 3,
   "metadata": {
    "scrolled": true
   },
   "outputs": [
    {
     "data": {
      "text/html": [
       "<div>\n",
       "<style scoped>\n",
       "    .dataframe tbody tr th:only-of-type {\n",
       "        vertical-align: middle;\n",
       "    }\n",
       "\n",
       "    .dataframe tbody tr th {\n",
       "        vertical-align: top;\n",
       "    }\n",
       "\n",
       "    .dataframe thead th {\n",
       "        text-align: right;\n",
       "    }\n",
       "</style>\n",
       "<table border=\"1\" class=\"dataframe\">\n",
       "  <thead>\n",
       "    <tr style=\"text-align: right;\">\n",
       "      <th></th>\n",
       "      <th>num_orders</th>\n",
       "    </tr>\n",
       "    <tr>\n",
       "      <th>datetime</th>\n",
       "      <th></th>\n",
       "    </tr>\n",
       "  </thead>\n",
       "  <tbody>\n",
       "    <tr>\n",
       "      <th>2018-03-01 00:00:00</th>\n",
       "      <td>9</td>\n",
       "    </tr>\n",
       "    <tr>\n",
       "      <th>2018-03-01 00:10:00</th>\n",
       "      <td>14</td>\n",
       "    </tr>\n",
       "    <tr>\n",
       "      <th>2018-03-01 00:20:00</th>\n",
       "      <td>28</td>\n",
       "    </tr>\n",
       "    <tr>\n",
       "      <th>2018-03-01 00:30:00</th>\n",
       "      <td>20</td>\n",
       "    </tr>\n",
       "    <tr>\n",
       "      <th>2018-03-01 00:40:00</th>\n",
       "      <td>32</td>\n",
       "    </tr>\n",
       "    <tr>\n",
       "      <th>...</th>\n",
       "      <td>...</td>\n",
       "    </tr>\n",
       "    <tr>\n",
       "      <th>2018-08-31 23:10:00</th>\n",
       "      <td>32</td>\n",
       "    </tr>\n",
       "    <tr>\n",
       "      <th>2018-08-31 23:20:00</th>\n",
       "      <td>24</td>\n",
       "    </tr>\n",
       "    <tr>\n",
       "      <th>2018-08-31 23:30:00</th>\n",
       "      <td>27</td>\n",
       "    </tr>\n",
       "    <tr>\n",
       "      <th>2018-08-31 23:40:00</th>\n",
       "      <td>39</td>\n",
       "    </tr>\n",
       "    <tr>\n",
       "      <th>2018-08-31 23:50:00</th>\n",
       "      <td>53</td>\n",
       "    </tr>\n",
       "  </tbody>\n",
       "</table>\n",
       "<p>26496 rows × 1 columns</p>\n",
       "</div>"
      ],
      "text/plain": [
       "                     num_orders\n",
       "datetime                       \n",
       "2018-03-01 00:00:00           9\n",
       "2018-03-01 00:10:00          14\n",
       "2018-03-01 00:20:00          28\n",
       "2018-03-01 00:30:00          20\n",
       "2018-03-01 00:40:00          32\n",
       "...                         ...\n",
       "2018-08-31 23:10:00          32\n",
       "2018-08-31 23:20:00          24\n",
       "2018-08-31 23:30:00          27\n",
       "2018-08-31 23:40:00          39\n",
       "2018-08-31 23:50:00          53\n",
       "\n",
       "[26496 rows x 1 columns]"
      ]
     },
     "execution_count": 3,
     "metadata": {},
     "output_type": "execute_result"
    }
   ],
   "source": [
    "data"
   ]
  },
  {
   "cell_type": "markdown",
   "metadata": {},
   "source": [
    "Проверим монотонноть индекса.\n",
    "___\n",
    "Let's check the monotonicity of the index."
   ]
  },
  {
   "cell_type": "code",
   "execution_count": 4,
   "metadata": {},
   "outputs": [
    {
     "name": "stdout",
     "output_type": "stream",
     "text": [
      "<class 'pandas.core.frame.DataFrame'>\n",
      "DatetimeIndex: 26496 entries, 2018-03-01 00:00:00 to 2018-08-31 23:50:00\n",
      "Data columns (total 1 columns):\n",
      " #   Column      Non-Null Count  Dtype\n",
      "---  ------      --------------  -----\n",
      " 0   num_orders  26496 non-null  int64\n",
      "dtypes: int64(1)\n",
      "memory usage: 414.0 KB\n"
     ]
    }
   ],
   "source": [
    "data.info()"
   ]
  },
  {
   "cell_type": "code",
   "execution_count": 5,
   "metadata": {},
   "outputs": [
    {
     "name": "stdout",
     "output_type": "stream",
     "text": [
      "True\n"
     ]
    }
   ],
   "source": [
    "print(data.index.is_monotonic)"
   ]
  },
  {
   "cell_type": "markdown",
   "metadata": {},
   "source": [
    "Данные упорядочены по временной оси.\n",
    "___\n",
    "The data is ordered along the time axis."
   ]
  },
  {
   "cell_type": "markdown",
   "metadata": {},
   "source": [
    "Сделаем ресемплинг по одному часу.\n",
    "___\n",
    "Let's do resampling for one hour."
   ]
  },
  {
   "cell_type": "code",
   "execution_count": 6,
   "metadata": {},
   "outputs": [],
   "source": [
    "data = data.resample('1H').mean()"
   ]
  },
  {
   "cell_type": "code",
   "execution_count": 7,
   "metadata": {},
   "outputs": [
    {
     "name": "stdout",
     "output_type": "stream",
     "text": [
      "<class 'pandas.core.frame.DataFrame'>\n",
      "DatetimeIndex: 4416 entries, 2018-03-01 00:00:00 to 2018-08-31 23:00:00\n",
      "Freq: H\n",
      "Data columns (total 1 columns):\n",
      " #   Column      Non-Null Count  Dtype  \n",
      "---  ------      --------------  -----  \n",
      " 0   num_orders  4416 non-null   float64\n",
      "dtypes: float64(1)\n",
      "memory usage: 69.0 KB\n"
     ]
    }
   ],
   "source": [
    "data.info()"
   ]
  },
  {
   "cell_type": "code",
   "execution_count": 8,
   "metadata": {},
   "outputs": [
    {
     "data": {
      "text/plain": [
       "4165"
      ]
     },
     "execution_count": 8,
     "metadata": {},
     "output_type": "execute_result"
    }
   ],
   "source": [
    "data.duplicated().sum()"
   ]
  },
  {
   "cell_type": "markdown",
   "metadata": {},
   "source": [
    "Дубликаты имеются однако это может быть характерной чертой представленных данных в силу большого количества повторов. Количество заказов в определенный момент времени может быть одинаковым в разных точках.\n",
    "___\n",
    "There are duplicates, however, this may be a characteristic feature of the presented data due to the large number of repetitions. The number of orders at a certain point in time can be the same at different points."
   ]
  },
  {
   "cell_type": "code",
   "execution_count": 9,
   "metadata": {},
   "outputs": [
    {
     "data": {
      "text/plain": [
       "num_orders    0\n",
       "dtype: int64"
      ]
     },
     "execution_count": 9,
     "metadata": {},
     "output_type": "execute_result"
    }
   ],
   "source": [
    "data.isna().sum()"
   ]
  },
  {
   "cell_type": "markdown",
   "metadata": {},
   "source": [
    "Пропуски отсутствуют."
   ]
  },
  {
   "cell_type": "markdown",
   "metadata": {},
   "source": [
    "## Анализ\n",
    "___\n",
    "## Analysis"
   ]
  },
  {
   "cell_type": "markdown",
   "metadata": {},
   "source": [
    "Проведем анализ данных. В первую очередь посмотрим сколзящее среднее. Возьмем в качестве значения окна - 10.\n",
    "___\n",
    "Let's analyze the data. Let's look at the moving average first. Let's take 10 as the value of the window."
   ]
  },
  {
   "cell_type": "code",
   "execution_count": 10,
   "metadata": {
    "scrolled": true
   },
   "outputs": [
    {
     "data": {
      "text/plain": [
       "<AxesSubplot:xlabel='datetime'>"
      ]
     },
     "execution_count": 10,
     "metadata": {},
     "output_type": "execute_result"
    },
    {
     "data": {
      "image/png": "[encoded data removed]",
      "text/plain": [
       "<Figure size 432x288 with 1 Axes>"
      ]
     },
     "metadata": {
      "needs_background": "light"
     },
     "output_type": "display_data"
    }
   ],
   "source": [
    "data.rolling(10).mean().plot()"
   ]
  },
  {
   "cell_type": "code",
   "execution_count": 11,
   "metadata": {
    "scrolled": true
   },
   "outputs": [],
   "source": [
    "decomposed = seasonal_decompose(data) "
   ]
  },
  {
   "cell_type": "code",
   "execution_count": 12,
   "metadata": {
    "scrolled": true
   },
   "outputs": [
    {
     "data": {
      "image/png": "[encoded data removed]",
      "text/plain": [
       "<Figure size 432x576 with 3 Axes>"
      ]
     },
     "metadata": {
      "needs_background": "light"
     },
     "output_type": "display_data"
    }
   ],
   "source": [
    "plt.figure(figsize=(6, 8))\n",
    "plt.subplot(311)\n",
    "decomposed.trend.plot(ax=plt.gca())\n",
    "plt.title('Trend')\n",
    "plt.subplot(312)\n",
    "decomposed.seasonal.plot(ax=plt.gca())\n",
    "plt.title('Seasonality')\n",
    "plt.subplot(313)\n",
    "decomposed.resid.plot(ax=plt.gca())\n",
    "plt.title('Residuals')\n",
    "plt.tight_layout()"
   ]
  },
  {
   "cell_type": "markdown",
   "metadata": {},
   "source": [
    "Из графика видно, что тренд состоит в плавном росте количества заказов, начиная с марта.\n",
    "\n",
    "Посмотрим далее сезонность на промежутке равном 7 дней.\n",
    "___\n",
    "It can be seen from the graph that the trend consists in a smooth increase in the number of orders starting from March.\n",
    "\n",
    "Let's look further at the seasonality on the interval equal to 7 days."
   ]
  },
  {
   "cell_type": "code",
   "execution_count": 13,
   "metadata": {},
   "outputs": [
    {
     "data": {
      "text/plain": [
       "<AxesSubplot:title={'center':'Seasonal'}, xlabel='datetime'>"
      ]
     },
     "execution_count": 13,
     "metadata": {},
     "output_type": "execute_result"
    },
    {
     "data": {
      "image/png": "[encoded data removed]",
      "text/plain": [
       "<Figure size 1080x360 with 1 Axes>"
      ]
     },
     "metadata": {
      "needs_background": "light"
     },
     "output_type": "display_data"
    }
   ],
   "source": [
    "decomposed.seasonal.tail(24*7).plot(title='Seasonal', figsize=(15, 5))"
   ]
  },
  {
   "cell_type": "markdown",
   "metadata": {},
   "source": [
    "Из графика видно 3 пика количества заказов, которые приходятся на начало рабочего дня, обеденное время, и вечернее.\n",
    "___\n",
    "The graph shows 3 peaks in the number of orders that fall at the beginning of the working day, lunchtime, and evening."
   ]
  },
  {
   "cell_type": "code",
   "execution_count": 14,
   "metadata": {},
   "outputs": [
    {
     "data": {
      "text/plain": [
       "<AxesSubplot:title={'center':'Seasonal'}, xlabel='datetime'>"
      ]
     },
     "execution_count": 14,
     "metadata": {},
     "output_type": "execute_result"
    },
    {
     "data": {
      "image/png": "[encoded data removed]",
      "text/plain": [
       "<Figure size 1080x360 with 1 Axes>"
      ]
     },
     "metadata": {
      "needs_background": "light"
     },
     "output_type": "display_data"
    }
   ],
   "source": [
    "decomposed.seasonal.tail(24).plot(title='Seasonal', figsize=(15, 5))"
   ]
  },
  {
   "cell_type": "markdown",
   "metadata": {},
   "source": [
    "Более детально можно увидеть динамику количества заказов в течение дня на 24-часовой временной оси.\n",
    "\n",
    "Уточнение: пики в 9-10, 15-16 часов и в полночь.\n",
    "___\n",
    "In more detail, you can see the dynamics of the number of orders during the day on the 24-hour time axis.\n",
    "\n",
    "Clarification: peaks at 9-10, 15-16 hours and at midnight."
   ]
  },
  {
   "cell_type": "markdown",
   "metadata": {},
   "source": [
    "Посмотрим ряд на стационарность.\n",
    "___\n",
    "Let's look at the stationarity series."
   ]
  },
  {
   "cell_type": "code",
   "execution_count": 15,
   "metadata": {},
   "outputs": [
    {
     "data": {
      "text/plain": [
       "<AxesSubplot:xlabel='datetime'>"
      ]
     },
     "execution_count": 15,
     "metadata": {},
     "output_type": "execute_result"
    },
    {
     "data": {
      "image/png": "[encoded data removed]",
      "text/plain": [
       "<Figure size 432x288 with 1 Axes>"
      ]
     },
     "metadata": {
      "needs_background": "light"
     },
     "output_type": "display_data"
    }
   ],
   "source": [
    "data['mean'] = data['num_orders'].rolling(10).mean()\n",
    "data['std'] = data['num_orders'].rolling(10).std()\n",
    "data.plot()"
   ]
  },
  {
   "cell_type": "markdown",
   "metadata": {},
   "source": [
    "Ряд нестационарный, соответственно для построения прогноза необходимо сделать его таковым. Для этого найдем разности временного ряда, так как они более стационарны.\n",
    "___\n",
    "The series is non-stationary, therefore, to build a forecast, it is necessary to make it such. To do this, we find the differences in the time series, since they are more stationary."
   ]
  },
  {
   "cell_type": "code",
   "execution_count": 16,
   "metadata": {},
   "outputs": [],
   "source": [
    "data -= data.shift(fill_value=0)"
   ]
  },
  {
   "cell_type": "markdown",
   "metadata": {},
   "source": [
    "Проверим на графике.\n",
    "___\n",
    "Let's check the chart."
   ]
  },
  {
   "cell_type": "code",
   "execution_count": 17,
   "metadata": {},
   "outputs": [
    {
     "data": {
      "text/plain": [
       "<AxesSubplot:xlabel='datetime'>"
      ]
     },
     "execution_count": 17,
     "metadata": {},
     "output_type": "execute_result"
    },
    {
     "data": {
      "image/png": "[encoded data removed]",
      "text/plain": [
       "<Figure size 432x288 with 1 Axes>"
      ]
     },
     "metadata": {
      "needs_background": "light"
     },
     "output_type": "display_data"
    }
   ],
   "source": [
    "data['mean'] = data['num_orders'].rolling(10).mean()\n",
    "data['std'] = data['num_orders'].rolling(10).std()\n",
    "data.plot()"
   ]
  },
  {
   "cell_type": "markdown",
   "metadata": {},
   "source": [
    "## Обучение\n",
    "___\n",
    "## Training"
   ]
  },
  {
   "cell_type": "markdown",
   "metadata": {},
   "source": [
    "Создадим функцию для создания признаков.\n",
    "___\n",
    "Let's create a function to create features."
   ]
  },
  {
   "cell_type": "code",
   "execution_count": 18,
   "metadata": {},
   "outputs": [],
   "source": [
    "def make_features(data, max_lag, rolling_mean_size):\n",
    "    data['dayofweek'] = data.index.dayofweek\n",
    "    data['hour'] = data.index.hour\n",
    "    \n",
    "    \n",
    "    for lag in range(1, max_lag + 1):\n",
    "        data['lag_{}'.format(lag)] = data['num_orders'].shift(lag)\n",
    "\n",
    "    data['rolling_mean'] = data['num_orders'].shift().rolling(rolling_mean_size).mean()"
   ]
  },
  {
   "cell_type": "code",
   "execution_count": 19,
   "metadata": {},
   "outputs": [],
   "source": [
    "make_features(data, 6, 6)"
   ]
  },
  {
   "cell_type": "code",
   "execution_count": 20,
   "metadata": {},
   "outputs": [],
   "source": [
    "train, test = train_test_split(data, shuffle=False, test_size=0.2)\n",
    "train = train.dropna()\n",
    "\n",
    "train_features = train.drop(['num_orders'], axis=1)\n",
    "train_target = train['num_orders']\n",
    "test_features = test.drop(['num_orders'], axis=1)\n",
    "test_target = test['num_orders']"
   ]
  },
  {
   "cell_type": "markdown",
   "metadata": {},
   "source": [
    "Обучим модели.\n",
    "___\n",
    "Let's train the models."
   ]
  },
  {
   "cell_type": "markdown",
   "metadata": {},
   "source": [
    "**Линейная регрессия**\n",
    "___\n",
    "**Linear regression**"
   ]
  },
  {
   "cell_type": "code",
   "execution_count": 21,
   "metadata": {},
   "outputs": [
    {
     "data": {
      "text/plain": [
       "LinearRegression(fit_intercept=False, normalize=True)"
      ]
     },
     "execution_count": 21,
     "metadata": {},
     "output_type": "execute_result"
    }
   ],
   "source": [
    "tscv = TimeSeriesSplit(n_splits=3)\n",
    "model_lr = LinearRegression()\n",
    "parameters = {\"fit_intercept\": [True, False], \"normalize\": [True, False]}\n",
    "grid_lr = GridSearchCV(model_lr, param_grid=parameters, cv=tscv, scoring='neg_root_mean_squared_error', refit=True)\n",
    "grid_lr.fit(train_features, train_target)\n",
    "params_lr = grid_lr.best_params_\n",
    "grid_lr_best = LinearRegression(**params_lr)\n",
    "grid_lr_best"
   ]
  },
  {
   "cell_type": "markdown",
   "metadata": {},
   "source": [
    "**Случайный лес**\n",
    "___\n",
    "**Random Forest**"
   ]
  },
  {
   "cell_type": "code",
   "execution_count": 22,
   "metadata": {},
   "outputs": [
    {
     "name": "stdout",
     "output_type": "stream",
     "text": [
      "Fitting 3 folds for each of 4 candidates, totalling 12 fits\n"
     ]
    },
    {
     "data": {
      "text/plain": [
       "RandomForestRegressor(max_depth=16, random_state=12345)"
      ]
     },
     "execution_count": 22,
     "metadata": {},
     "output_type": "execute_result"
    }
   ],
   "source": [
    "params_rfr = {\"max_depth\": range(1, 20, 5)}\n",
    "\n",
    "model_rfr = RandomForestRegressor(random_state=12345)\n",
    "\n",
    "grid_rfr = GridSearchCV(model_rfr, params_rfr, cv=tscv, n_jobs=-1, verbose=2, scoring='neg_root_mean_squared_error')\n",
    "grid_rfr.fit(train_features, train_target)\n",
    "params_rfr = grid_rfr.best_params_\n",
    "grid_rfr_best = RandomForestRegressor(**params_rfr, random_state=12345)\n",
    "grid_rfr_best"
   ]
  },
  {
   "cell_type": "markdown",
   "metadata": {},
   "source": [
    "**Дерево решений**\n",
    "___\n",
    "**Decision Tree**"
   ]
  },
  {
   "cell_type": "code",
   "execution_count": 23,
   "metadata": {},
   "outputs": [
    {
     "data": {
      "text/plain": [
       "DecisionTreeRegressor(max_depth=5, random_state=12345)"
      ]
     },
     "execution_count": 23,
     "metadata": {},
     "output_type": "execute_result"
    }
   ],
   "source": [
    "params_dtr = {\"max_depth\": range(1, 6)}\n",
    "\n",
    "model_dtr = DecisionTreeRegressor(random_state=12345)\n",
    "\n",
    "grid_dtr = GridSearchCV(\n",
    "    model_dtr, param_grid=params_dtr, cv=tscv, scoring='neg_root_mean_squared_error', refit=True\n",
    ")\n",
    "grid_dtr.fit(train_features, train_target)\n",
    "params_dtr = grid_dtr.best_params_\n",
    "grid_dtr_best = DecisionTreeRegressor(**params_dtr, random_state=12345)\n",
    "grid_dtr_best"
   ]
  },
  {
   "cell_type": "markdown",
   "metadata": {},
   "source": [
    "## Тестирование\n",
    "___\n",
    "## Testing"
   ]
  },
  {
   "cell_type": "markdown",
   "metadata": {},
   "source": [
    "Произведем тестирование модели.\n",
    "___\n",
    "Let's test the model."
   ]
  },
  {
   "cell_type": "code",
   "execution_count": 24,
   "metadata": {},
   "outputs": [
    {
     "name": "stdout",
     "output_type": "stream",
     "text": [
      "RMSE lr:  6.562817346024773\n"
     ]
    }
   ],
   "source": [
    "grid_lr_best.fit(train_features, train_target)\n",
    "test_pred_lr = grid_lr_best.predict(test_features)\n",
    "rmse_lr = mean_squared_error(test_pred_lr, test_target, squared= False)\n",
    "print(\"RMSE lr: \", rmse_lr)"
   ]
  },
  {
   "cell_type": "code",
   "execution_count": 25,
   "metadata": {},
   "outputs": [
    {
     "name": "stdout",
     "output_type": "stream",
     "text": [
      "RMSE rfr:  6.445773572316985\n"
     ]
    }
   ],
   "source": [
    "grid_rfr_best.fit(train_features, train_target)\n",
    "test_pred_rfr = grid_rfr_best.predict(test_features)\n",
    "rmse_rfr = mean_squared_error(test_pred_rfr, test_target, squared= False)\n",
    "print(\"RMSE rfr: \", rmse_rfr)"
   ]
  },
  {
   "cell_type": "code",
   "execution_count": 26,
   "metadata": {},
   "outputs": [
    {
     "name": "stdout",
     "output_type": "stream",
     "text": [
      "RMSE dtr:  7.62610789659467\n"
     ]
    }
   ],
   "source": [
    "grid_dtr_best.fit(train_features, train_target)\n",
    "test_pred_dtr = grid_dtr_best.predict(test_features)\n",
    "rmse_dtr = mean_squared_error(test_pred_dtr, test_target, squared= False)\n",
    "print(\"RMSE dtr: \", rmse_dtr)"
   ]
  },
  {
   "cell_type": "code",
   "execution_count": 27,
   "metadata": {},
   "outputs": [
    {
     "data": {
      "text/html": [
       "<div>\n",
       "<style scoped>\n",
       "    .dataframe tbody tr th:only-of-type {\n",
       "        vertical-align: middle;\n",
       "    }\n",
       "\n",
       "    .dataframe tbody tr th {\n",
       "        vertical-align: top;\n",
       "    }\n",
       "\n",
       "    .dataframe thead th {\n",
       "        text-align: right;\n",
       "    }\n",
       "</style>\n",
       "<table border=\"1\" class=\"dataframe\">\n",
       "  <thead>\n",
       "    <tr style=\"text-align: right;\">\n",
       "      <th></th>\n",
       "      <th>lr</th>\n",
       "      <th>rfr</th>\n",
       "      <th>dtr</th>\n",
       "    </tr>\n",
       "  </thead>\n",
       "  <tbody>\n",
       "    <tr>\n",
       "      <th>RMSE</th>\n",
       "      <td>6.562817</td>\n",
       "      <td>6.445774</td>\n",
       "      <td>7.626108</td>\n",
       "    </tr>\n",
       "  </tbody>\n",
       "</table>\n",
       "</div>"
      ],
      "text/plain": [
       "            lr       rfr       dtr\n",
       "RMSE  6.562817  6.445774  7.626108"
      ]
     },
     "metadata": {},
     "output_type": "display_data"
    }
   ],
   "source": [
    "table = [\n",
    "    [\n",
    "        rmse_lr,\n",
    "        rmse_rfr,\n",
    "        rmse_dtr\n",
    "    ]\n",
    "]\n",
    "columns = [\"lr\", \"rfr\", \"dtr\"]\n",
    "index = [\"RMSE\"]\n",
    "table = pd.DataFrame(table, index, columns)\n",
    "display(table)"
   ]
  },
  {
   "cell_type": "markdown",
   "metadata": {},
   "source": [
    "Объективно наиболее эффективный метод - Дерево решений.\n",
    "___\n",
    "Objectively, the most efficient method is the Decision Tree."
   ]
  },
  {
   "cell_type": "markdown",
   "metadata": {},
   "source": [
    "**Выводы:**\n",
    "\n",
    "- Тренд состоит в плавном росте количества заказов, начиная с марта;\n",
    "- Пики количества заказов такси приходятся на 9-10, 15-16 часов и на полночь;\n",
    "- Рекомендуемый метод обучения - случайный лес.\n",
    "___\n",
    "**Conclusions:**\n",
    "\n",
    "- The trend is a gradual increase in the number of orders starting from March;\n",
    "- The peaks of the number of taxi orders fall at 9-10, 15-16 and at midnight;\n",
    "- The recommended training method is random forest."
   ]
  }
 ],
 "metadata": {
  "ExecuteTimeLog": [
   {
    "duration": 1272,
    "start_time": "2022-09-07T12:35:37.448Z"
   },
   {
    "duration": 142,
    "start_time": "2022-09-07T12:36:09.196Z"
   },
   {
    "duration": 17,
    "start_time": "2022-09-07T12:36:13.770Z"
   },
   {
    "duration": 48,
    "start_time": "2022-09-07T12:36:27.264Z"
   },
   {
    "duration": 10,
    "start_time": "2022-09-07T12:36:28.921Z"
   },
   {
    "duration": 101,
    "start_time": "2022-09-07T12:38:39.996Z"
   },
   {
    "duration": 8,
    "start_time": "2022-09-07T12:38:46.820Z"
   },
   {
    "duration": 3,
    "start_time": "2022-09-07T12:41:26.733Z"
   },
   {
    "duration": 9,
    "start_time": "2022-09-07T12:43:31.800Z"
   },
   {
    "duration": 10,
    "start_time": "2022-09-07T12:43:37.814Z"
   },
   {
    "duration": 3,
    "start_time": "2022-09-07T12:44:42.776Z"
   },
   {
    "duration": 53,
    "start_time": "2022-09-07T12:44:42.781Z"
   },
   {
    "duration": 9,
    "start_time": "2022-09-07T12:44:42.835Z"
   },
   {
    "duration": 1125,
    "start_time": "2022-09-07T12:44:51.677Z"
   },
   {
    "duration": 50,
    "start_time": "2022-09-07T12:44:53.463Z"
   },
   {
    "duration": 16,
    "start_time": "2022-09-07T12:44:54.762Z"
   },
   {
    "duration": 101,
    "start_time": "2022-09-07T12:45:25.027Z"
   },
   {
    "duration": 7,
    "start_time": "2022-09-07T12:45:36.335Z"
   },
   {
    "duration": 12,
    "start_time": "2022-09-07T12:45:45.686Z"
   },
   {
    "duration": 6,
    "start_time": "2022-09-07T12:45:59.776Z"
   },
   {
    "duration": 6,
    "start_time": "2022-09-07T12:46:02.661Z"
   },
   {
    "duration": 6,
    "start_time": "2022-09-07T12:46:05.434Z"
   },
   {
    "duration": 3,
    "start_time": "2022-09-07T12:46:41.207Z"
   },
   {
    "duration": 8,
    "start_time": "2022-09-07T12:46:43.152Z"
   },
   {
    "duration": 7,
    "start_time": "2022-09-07T12:46:45.683Z"
   },
   {
    "duration": 10,
    "start_time": "2022-09-07T12:46:54.993Z"
   },
   {
    "duration": 7,
    "start_time": "2022-09-07T12:47:06.936Z"
   },
   {
    "duration": 5,
    "start_time": "2022-09-07T12:47:11.091Z"
   },
   {
    "duration": 10,
    "start_time": "2022-09-07T12:48:15.852Z"
   },
   {
    "duration": 5,
    "start_time": "2022-09-07T12:48:20.413Z"
   },
   {
    "duration": 9,
    "start_time": "2022-09-07T12:48:26.775Z"
   },
   {
    "duration": 6,
    "start_time": "2022-09-07T12:48:29.403Z"
   },
   {
    "duration": 11,
    "start_time": "2022-09-07T12:50:19.286Z"
   },
   {
    "duration": 693,
    "start_time": "2022-09-07T12:50:29.225Z"
   },
   {
    "duration": 25,
    "start_time": "2022-09-07T12:50:54.959Z"
   },
   {
    "duration": 9,
    "start_time": "2022-09-07T12:51:14.315Z"
   },
   {
    "duration": 11,
    "start_time": "2022-09-07T12:51:20.366Z"
   },
   {
    "duration": 4,
    "start_time": "2022-09-07T12:52:09.198Z"
   },
   {
    "duration": 216,
    "start_time": "2022-09-07T12:52:32.931Z"
   },
   {
    "duration": 23,
    "start_time": "2022-09-07T12:53:03.384Z"
   },
   {
    "duration": 3,
    "start_time": "2022-09-07T12:53:10.692Z"
   },
   {
    "duration": 54,
    "start_time": "2022-09-07T12:53:10.697Z"
   },
   {
    "duration": 9,
    "start_time": "2022-09-07T12:53:10.753Z"
   },
   {
    "duration": 17,
    "start_time": "2022-09-07T12:53:10.763Z"
   },
   {
    "duration": 3,
    "start_time": "2022-09-07T12:53:10.783Z"
   },
   {
    "duration": 12,
    "start_time": "2022-09-07T12:53:10.788Z"
   },
   {
    "duration": 14,
    "start_time": "2022-09-07T12:53:10.802Z"
   },
   {
    "duration": 6,
    "start_time": "2022-09-07T12:53:10.818Z"
   },
   {
    "duration": 6,
    "start_time": "2022-09-07T12:53:10.826Z"
   },
   {
    "duration": 322,
    "start_time": "2022-09-07T12:53:10.833Z"
   },
   {
    "duration": 11,
    "start_time": "2022-09-07T12:54:33.814Z"
   },
   {
    "duration": 1056,
    "start_time": "2022-09-09T12:02:26.960Z"
   },
   {
    "duration": 114,
    "start_time": "2022-09-09T12:02:28.018Z"
   },
   {
    "duration": 14,
    "start_time": "2022-09-09T12:02:28.133Z"
   },
   {
    "duration": 13,
    "start_time": "2022-09-09T12:02:28.148Z"
   },
   {
    "duration": 3,
    "start_time": "2022-09-09T12:02:28.162Z"
   },
   {
    "duration": 8,
    "start_time": "2022-09-09T12:02:28.167Z"
   },
   {
    "duration": 13,
    "start_time": "2022-09-09T12:02:28.176Z"
   },
   {
    "duration": 15,
    "start_time": "2022-09-09T12:02:28.190Z"
   },
   {
    "duration": 7,
    "start_time": "2022-09-09T12:02:28.206Z"
   },
   {
    "duration": 639,
    "start_time": "2022-09-09T12:02:37.734Z"
   },
   {
    "duration": 218,
    "start_time": "2022-09-09T12:03:58.345Z"
   },
   {
    "duration": 5,
    "start_time": "2022-09-09T12:04:34.956Z"
   },
   {
    "duration": 258,
    "start_time": "2022-09-09T12:04:36.306Z"
   },
   {
    "duration": 98,
    "start_time": "2022-09-09T12:08:00.164Z"
   },
   {
    "duration": 1003,
    "start_time": "2022-09-09T12:08:14.634Z"
   },
   {
    "duration": 46,
    "start_time": "2022-09-09T12:08:15.640Z"
   },
   {
    "duration": 16,
    "start_time": "2022-09-09T12:08:15.688Z"
   },
   {
    "duration": 16,
    "start_time": "2022-09-09T12:08:15.706Z"
   },
   {
    "duration": 6,
    "start_time": "2022-09-09T12:08:15.724Z"
   },
   {
    "duration": 23,
    "start_time": "2022-09-09T12:08:15.732Z"
   },
   {
    "duration": 20,
    "start_time": "2022-09-09T12:08:15.756Z"
   },
   {
    "duration": 24,
    "start_time": "2022-09-09T12:08:15.778Z"
   },
   {
    "duration": 30,
    "start_time": "2022-09-09T12:08:15.804Z"
   },
   {
    "duration": 35,
    "start_time": "2022-09-09T12:08:15.835Z"
   },
   {
    "duration": 439,
    "start_time": "2022-09-09T12:08:15.871Z"
   },
   {
    "duration": 98,
    "start_time": "2022-09-09T12:08:18.860Z"
   },
   {
    "duration": 1072,
    "start_time": "2022-09-09T12:09:06.478Z"
   },
   {
    "duration": 46,
    "start_time": "2022-09-09T12:09:07.551Z"
   },
   {
    "duration": 16,
    "start_time": "2022-09-09T12:09:07.598Z"
   },
   {
    "duration": 10,
    "start_time": "2022-09-09T12:09:07.616Z"
   },
   {
    "duration": 3,
    "start_time": "2022-09-09T12:09:07.628Z"
   },
   {
    "duration": 21,
    "start_time": "2022-09-09T12:09:07.632Z"
   },
   {
    "duration": 14,
    "start_time": "2022-09-09T12:09:07.655Z"
   },
   {
    "duration": 7,
    "start_time": "2022-09-09T12:09:07.671Z"
   },
   {
    "duration": 22,
    "start_time": "2022-09-09T12:09:07.679Z"
   },
   {
    "duration": 479,
    "start_time": "2022-09-09T12:09:33.787Z"
   },
   {
    "duration": 9,
    "start_time": "2022-09-09T12:09:35.765Z"
   },
   {
    "duration": 201,
    "start_time": "2022-09-09T12:09:37.526Z"
   },
   {
    "duration": 195,
    "start_time": "2022-09-09T12:09:39.817Z"
   },
   {
    "duration": 260,
    "start_time": "2022-09-09T12:09:46.881Z"
   },
   {
    "duration": 99,
    "start_time": "2022-09-09T12:12:13.460Z"
   },
   {
    "duration": 9,
    "start_time": "2022-09-09T12:13:19.617Z"
   },
   {
    "duration": 10,
    "start_time": "2022-09-09T12:13:43.976Z"
   },
   {
    "duration": 3,
    "start_time": "2022-09-09T12:14:00.057Z"
   },
   {
    "duration": 651,
    "start_time": "2022-09-09T12:14:03.533Z"
   },
   {
    "duration": 9,
    "start_time": "2022-09-09T12:15:34.630Z"
   },
   {
    "duration": 161,
    "start_time": "2022-09-09T12:18:13.454Z"
   },
   {
    "duration": 8,
    "start_time": "2022-09-09T12:18:39.742Z"
   },
   {
    "duration": 151,
    "start_time": "2022-09-09T12:18:42.623Z"
   },
   {
    "duration": 10,
    "start_time": "2022-09-09T12:19:47.488Z"
   },
   {
    "duration": 158,
    "start_time": "2022-09-09T12:19:51.039Z"
   },
   {
    "duration": 170,
    "start_time": "2022-09-09T12:20:22.849Z"
   },
   {
    "duration": 163,
    "start_time": "2022-09-09T12:20:30.694Z"
   },
   {
    "duration": 706,
    "start_time": "2022-09-09T12:26:06.817Z"
   },
   {
    "duration": 324,
    "start_time": "2022-09-09T12:26:21.048Z"
   },
   {
    "duration": 257,
    "start_time": "2022-09-09T12:26:47.296Z"
   },
   {
    "duration": 285,
    "start_time": "2022-09-09T12:27:57.915Z"
   },
   {
    "duration": 367,
    "start_time": "2022-09-09T12:29:31.281Z"
   },
   {
    "duration": 1267,
    "start_time": "2022-09-09T12:29:54.612Z"
   },
   {
    "duration": 54,
    "start_time": "2022-09-09T12:29:55.881Z"
   },
   {
    "duration": 12,
    "start_time": "2022-09-09T12:29:55.937Z"
   },
   {
    "duration": 12,
    "start_time": "2022-09-09T12:29:55.951Z"
   },
   {
    "duration": 3,
    "start_time": "2022-09-09T12:29:55.965Z"
   },
   {
    "duration": 13,
    "start_time": "2022-09-09T12:29:55.969Z"
   },
   {
    "duration": 12,
    "start_time": "2022-09-09T12:29:55.984Z"
   },
   {
    "duration": 7,
    "start_time": "2022-09-09T12:29:55.998Z"
   },
   {
    "duration": 8,
    "start_time": "2022-09-09T12:29:56.006Z"
   },
   {
    "duration": 211,
    "start_time": "2022-09-09T12:29:56.016Z"
   },
   {
    "duration": 7,
    "start_time": "2022-09-09T12:29:56.229Z"
   },
   {
    "duration": 717,
    "start_time": "2022-09-09T12:29:56.237Z"
   },
   {
    "duration": 186,
    "start_time": "2022-09-09T12:29:56.956Z"
   },
   {
    "duration": 192,
    "start_time": "2022-09-09T12:29:57.145Z"
   },
   {
    "duration": 282,
    "start_time": "2022-09-09T12:29:57.339Z"
   },
   {
    "duration": 14,
    "start_time": "2022-09-09T12:31:20.378Z"
   },
   {
    "duration": 251,
    "start_time": "2022-09-09T12:31:26.509Z"
   },
   {
    "duration": 3,
    "start_time": "2022-09-09T12:31:32.577Z"
   },
   {
    "duration": 388,
    "start_time": "2022-09-09T12:31:34.376Z"
   },
   {
    "duration": 5,
    "start_time": "2022-09-09T12:32:16.536Z"
   },
   {
    "duration": 261,
    "start_time": "2022-09-09T12:32:17.919Z"
   },
   {
    "duration": 10,
    "start_time": "2022-09-09T12:32:28.069Z"
   },
   {
    "duration": 4,
    "start_time": "2022-09-09T12:34:26.319Z"
   },
   {
    "duration": 3,
    "start_time": "2022-09-09T12:39:23.493Z"
   },
   {
    "duration": 3,
    "start_time": "2022-09-09T12:41:00.768Z"
   },
   {
    "duration": 10,
    "start_time": "2022-09-09T12:41:02.261Z"
   },
   {
    "duration": 107,
    "start_time": "2022-09-09T12:41:04.928Z"
   },
   {
    "duration": 9,
    "start_time": "2022-09-09T12:41:10.688Z"
   },
   {
    "duration": 20,
    "start_time": "2022-09-09T12:41:13.992Z"
   },
   {
    "duration": 8,
    "start_time": "2022-09-09T12:41:44.704Z"
   },
   {
    "duration": 9,
    "start_time": "2022-09-09T12:48:09.586Z"
   },
   {
    "duration": 1329,
    "start_time": "2022-09-09T12:48:46.075Z"
   },
   {
    "duration": 48,
    "start_time": "2022-09-09T12:48:47.406Z"
   },
   {
    "duration": 16,
    "start_time": "2022-09-09T12:48:47.456Z"
   },
   {
    "duration": 16,
    "start_time": "2022-09-09T12:48:47.474Z"
   },
   {
    "duration": 4,
    "start_time": "2022-09-09T12:48:47.492Z"
   },
   {
    "duration": 14,
    "start_time": "2022-09-09T12:48:47.497Z"
   },
   {
    "duration": 9,
    "start_time": "2022-09-09T12:48:47.512Z"
   },
   {
    "duration": 6,
    "start_time": "2022-09-09T12:48:47.522Z"
   },
   {
    "duration": 9,
    "start_time": "2022-09-09T12:48:47.530Z"
   },
   {
    "duration": 216,
    "start_time": "2022-09-09T12:48:47.540Z"
   },
   {
    "duration": 8,
    "start_time": "2022-09-09T12:48:47.757Z"
   },
   {
    "duration": 736,
    "start_time": "2022-09-09T12:48:47.766Z"
   },
   {
    "duration": 160,
    "start_time": "2022-09-09T12:48:48.504Z"
   },
   {
    "duration": 171,
    "start_time": "2022-09-09T12:48:48.666Z"
   },
   {
    "duration": 273,
    "start_time": "2022-09-09T12:48:48.839Z"
   },
   {
    "duration": 6,
    "start_time": "2022-09-09T12:48:49.113Z"
   },
   {
    "duration": 305,
    "start_time": "2022-09-09T12:48:49.120Z"
   },
   {
    "duration": 4,
    "start_time": "2022-09-09T12:48:49.427Z"
   },
   {
    "duration": 36,
    "start_time": "2022-09-09T12:48:49.432Z"
   },
   {
    "duration": 10,
    "start_time": "2022-09-09T12:48:49.470Z"
   },
   {
    "duration": 306,
    "start_time": "2022-09-09T12:48:51.320Z"
   },
   {
    "duration": 104,
    "start_time": "2022-09-09T12:50:38.360Z"
   },
   {
    "duration": 10311,
    "start_time": "2022-09-09T12:50:46.962Z"
   },
   {
    "duration": 10459,
    "start_time": "2022-09-09T12:51:11.042Z"
   },
   {
    "duration": 227,
    "start_time": "2022-09-09T12:52:01.109Z"
   },
   {
    "duration": 12,
    "start_time": "2022-09-09T12:53:37.044Z"
   },
   {
    "duration": 92,
    "start_time": "2022-09-09T12:54:20.409Z"
   },
   {
    "duration": 9,
    "start_time": "2022-09-09T12:54:49.098Z"
   },
   {
    "duration": 1741,
    "start_time": "2022-09-09T12:54:50.526Z"
   },
   {
    "duration": 11,
    "start_time": "2022-09-09T12:55:26.914Z"
   },
   {
    "duration": 1368,
    "start_time": "2022-09-09T12:55:46.570Z"
   },
   {
    "duration": 48,
    "start_time": "2022-09-09T12:55:47.940Z"
   },
   {
    "duration": 13,
    "start_time": "2022-09-09T12:55:47.990Z"
   },
   {
    "duration": 12,
    "start_time": "2022-09-09T12:55:48.005Z"
   },
   {
    "duration": 4,
    "start_time": "2022-09-09T12:55:48.019Z"
   },
   {
    "duration": 11,
    "start_time": "2022-09-09T12:55:48.024Z"
   },
   {
    "duration": 10,
    "start_time": "2022-09-09T12:55:48.037Z"
   },
   {
    "duration": 11,
    "start_time": "2022-09-09T12:55:48.049Z"
   },
   {
    "duration": 8,
    "start_time": "2022-09-09T12:55:48.062Z"
   },
   {
    "duration": 251,
    "start_time": "2022-09-09T12:55:48.071Z"
   },
   {
    "duration": 8,
    "start_time": "2022-09-09T12:55:48.323Z"
   },
   {
    "duration": 745,
    "start_time": "2022-09-09T12:55:48.332Z"
   },
   {
    "duration": 174,
    "start_time": "2022-09-09T12:55:49.079Z"
   },
   {
    "duration": 176,
    "start_time": "2022-09-09T12:55:49.255Z"
   },
   {
    "duration": 256,
    "start_time": "2022-09-09T12:55:49.433Z"
   },
   {
    "duration": 10,
    "start_time": "2022-09-09T12:55:49.690Z"
   },
   {
    "duration": 304,
    "start_time": "2022-09-09T12:55:49.701Z"
   },
   {
    "duration": 4,
    "start_time": "2022-09-09T12:55:50.006Z"
   },
   {
    "duration": 26,
    "start_time": "2022-09-09T12:55:50.011Z"
   },
   {
    "duration": 11,
    "start_time": "2022-09-09T12:55:50.039Z"
   },
   {
    "duration": 353,
    "start_time": "2022-09-09T12:55:50.052Z"
   },
   {
    "duration": 10525,
    "start_time": "2022-09-09T12:55:50.407Z"
   },
   {
    "duration": 240,
    "start_time": "2022-09-09T12:56:00.934Z"
   },
   {
    "duration": 281,
    "start_time": "2022-09-09T12:56:27.774Z"
   },
   {
    "duration": 8,
    "start_time": "2022-09-09T12:56:36.739Z"
   },
   {
    "duration": 1765,
    "start_time": "2022-09-09T12:56:41.040Z"
   },
   {
    "duration": 17,
    "start_time": "2022-09-09T12:56:47.574Z"
   },
   {
    "duration": 11,
    "start_time": "2022-09-09T12:58:26.532Z"
   },
   {
    "duration": 9,
    "start_time": "2022-09-09T12:58:30.717Z"
   },
   {
    "duration": 1315,
    "start_time": "2022-09-09T12:59:59.823Z"
   },
   {
    "duration": 49,
    "start_time": "2022-09-09T13:00:01.140Z"
   },
   {
    "duration": 12,
    "start_time": "2022-09-09T13:00:01.193Z"
   },
   {
    "duration": 17,
    "start_time": "2022-09-09T13:00:01.206Z"
   },
   {
    "duration": 3,
    "start_time": "2022-09-09T13:00:01.224Z"
   },
   {
    "duration": 10,
    "start_time": "2022-09-09T13:00:01.228Z"
   },
   {
    "duration": 15,
    "start_time": "2022-09-09T13:00:01.239Z"
   },
   {
    "duration": 8,
    "start_time": "2022-09-09T13:00:01.255Z"
   },
   {
    "duration": 7,
    "start_time": "2022-09-09T13:00:01.264Z"
   },
   {
    "duration": 242,
    "start_time": "2022-09-09T13:00:01.273Z"
   },
   {
    "duration": 8,
    "start_time": "2022-09-09T13:00:01.517Z"
   },
   {
    "duration": 749,
    "start_time": "2022-09-09T13:00:01.527Z"
   },
   {
    "duration": 172,
    "start_time": "2022-09-09T13:00:02.279Z"
   },
   {
    "duration": 173,
    "start_time": "2022-09-09T13:00:02.453Z"
   },
   {
    "duration": 259,
    "start_time": "2022-09-09T13:00:02.627Z"
   },
   {
    "duration": 5,
    "start_time": "2022-09-09T13:00:02.887Z"
   },
   {
    "duration": 290,
    "start_time": "2022-09-09T13:00:02.900Z"
   },
   {
    "duration": 8,
    "start_time": "2022-09-09T13:00:03.192Z"
   },
   {
    "duration": 12,
    "start_time": "2022-09-09T13:00:03.201Z"
   },
   {
    "duration": 9,
    "start_time": "2022-09-09T13:00:03.214Z"
   },
   {
    "duration": 294,
    "start_time": "2022-09-09T13:00:03.224Z"
   },
   {
    "duration": 10457,
    "start_time": "2022-09-09T13:00:03.520Z"
   },
   {
    "duration": 265,
    "start_time": "2022-09-09T13:00:13.979Z"
   },
   {
    "duration": 58,
    "start_time": "2022-09-09T13:00:14.246Z"
   },
   {
    "duration": 1892,
    "start_time": "2022-09-09T13:00:14.306Z"
   },
   {
    "duration": 17,
    "start_time": "2022-09-09T13:00:16.200Z"
   },
   {
    "duration": 12,
    "start_time": "2022-09-09T13:00:16.219Z"
   },
   {
    "duration": 2791,
    "start_time": "2022-09-09T15:39:03.481Z"
   },
   {
    "duration": 115,
    "start_time": "2022-09-09T15:39:06.275Z"
   },
   {
    "duration": 13,
    "start_time": "2022-09-09T15:39:06.392Z"
   },
   {
    "duration": 9,
    "start_time": "2022-09-09T15:39:06.407Z"
   },
   {
    "duration": 3,
    "start_time": "2022-09-09T15:39:06.418Z"
   },
   {
    "duration": 10,
    "start_time": "2022-09-09T15:39:06.423Z"
   },
   {
    "duration": 10,
    "start_time": "2022-09-09T15:39:06.435Z"
   },
   {
    "duration": 4,
    "start_time": "2022-09-09T15:39:06.446Z"
   },
   {
    "duration": 7,
    "start_time": "2022-09-09T15:39:06.452Z"
   },
   {
    "duration": 265,
    "start_time": "2022-09-09T15:39:06.463Z"
   },
   {
    "duration": 8,
    "start_time": "2022-09-09T15:39:06.730Z"
   },
   {
    "duration": 794,
    "start_time": "2022-09-09T15:39:06.740Z"
   },
   {
    "duration": 180,
    "start_time": "2022-09-09T15:39:07.536Z"
   },
   {
    "duration": 172,
    "start_time": "2022-09-09T15:39:07.717Z"
   },
   {
    "duration": 286,
    "start_time": "2022-09-09T15:39:07.890Z"
   },
   {
    "duration": 6,
    "start_time": "2022-09-09T15:39:08.178Z"
   },
   {
    "duration": 302,
    "start_time": "2022-09-09T15:39:08.186Z"
   },
   {
    "duration": 4,
    "start_time": "2022-09-09T15:39:08.491Z"
   },
   {
    "duration": 14,
    "start_time": "2022-09-09T15:39:08.497Z"
   },
   {
    "duration": 9,
    "start_time": "2022-09-09T15:39:08.522Z"
   },
   {
    "duration": 603,
    "start_time": "2022-09-09T15:39:08.533Z"
   },
   {
    "duration": 11032,
    "start_time": "2022-09-09T15:39:09.138Z"
   },
   {
    "duration": 245,
    "start_time": "2022-09-09T15:39:20.172Z"
   },
   {
    "duration": 18,
    "start_time": "2022-09-09T15:39:20.418Z"
   },
   {
    "duration": 193,
    "start_time": "2022-09-09T15:39:20.529Z"
   },
   {
    "duration": 1717,
    "start_time": "2022-09-14T11:17:44.336Z"
   },
   {
    "duration": 115,
    "start_time": "2022-09-14T11:17:46.055Z"
   },
   {
    "duration": 13,
    "start_time": "2022-09-14T11:17:46.172Z"
   },
   {
    "duration": 10,
    "start_time": "2022-09-14T11:17:46.186Z"
   },
   {
    "duration": 3,
    "start_time": "2022-09-14T11:17:46.199Z"
   },
   {
    "duration": 21,
    "start_time": "2022-09-14T11:17:46.204Z"
   },
   {
    "duration": 11,
    "start_time": "2022-09-14T11:17:46.226Z"
   },
   {
    "duration": 8,
    "start_time": "2022-09-14T11:17:46.238Z"
   },
   {
    "duration": 7,
    "start_time": "2022-09-14T11:17:46.248Z"
   },
   {
    "duration": 231,
    "start_time": "2022-09-14T11:17:46.256Z"
   },
   {
    "duration": 8,
    "start_time": "2022-09-14T11:17:46.489Z"
   },
   {
    "duration": 829,
    "start_time": "2022-09-14T11:17:46.498Z"
   },
   {
    "duration": 179,
    "start_time": "2022-09-14T11:17:47.328Z"
   },
   {
    "duration": 203,
    "start_time": "2022-09-14T11:17:47.510Z"
   },
   {
    "duration": 286,
    "start_time": "2022-09-14T11:17:47.715Z"
   },
   {
    "duration": 9,
    "start_time": "2022-09-14T11:17:48.003Z"
   },
   {
    "duration": 300,
    "start_time": "2022-09-14T11:17:48.014Z"
   },
   {
    "duration": 4,
    "start_time": "2022-09-14T11:18:35.386Z"
   },
   {
    "duration": 10,
    "start_time": "2022-09-14T11:19:10.944Z"
   },
   {
    "duration": 1479,
    "start_time": "2022-09-15T14:09:52.446Z"
   },
   {
    "duration": 4,
    "start_time": "2022-09-15T14:13:07.038Z"
   },
   {
    "duration": 138,
    "start_time": "2022-09-15T14:13:07.044Z"
   },
   {
    "duration": 13,
    "start_time": "2022-09-15T14:13:07.184Z"
   },
   {
    "duration": 17,
    "start_time": "2022-09-15T14:13:07.199Z"
   },
   {
    "duration": 13,
    "start_time": "2022-09-15T14:13:07.222Z"
   },
   {
    "duration": 31,
    "start_time": "2022-09-15T14:13:07.236Z"
   },
   {
    "duration": 42,
    "start_time": "2022-09-15T14:13:07.269Z"
   },
   {
    "duration": 27,
    "start_time": "2022-09-15T14:13:07.313Z"
   },
   {
    "duration": 29,
    "start_time": "2022-09-15T14:13:07.341Z"
   },
   {
    "duration": 237,
    "start_time": "2022-09-15T14:13:07.371Z"
   },
   {
    "duration": 8,
    "start_time": "2022-09-15T14:13:07.620Z"
   },
   {
    "duration": 794,
    "start_time": "2022-09-15T14:13:07.629Z"
   },
   {
    "duration": 169,
    "start_time": "2022-09-15T14:13:08.424Z"
   },
   {
    "duration": 165,
    "start_time": "2022-09-15T14:13:08.595Z"
   },
   {
    "duration": 268,
    "start_time": "2022-09-15T14:13:08.761Z"
   },
   {
    "duration": 4,
    "start_time": "2022-09-15T14:13:09.030Z"
   },
   {
    "duration": 292,
    "start_time": "2022-09-15T14:13:09.035Z"
   },
   {
    "duration": 3,
    "start_time": "2022-09-15T14:13:09.329Z"
   },
   {
    "duration": 14,
    "start_time": "2022-09-15T14:13:09.333Z"
   },
   {
    "duration": 20,
    "start_time": "2022-09-15T14:13:09.349Z"
   },
   {
    "duration": 120,
    "start_time": "2022-09-15T14:13:09.370Z"
   },
   {
    "duration": 0,
    "start_time": "2022-09-15T14:13:09.491Z"
   },
   {
    "duration": 0,
    "start_time": "2022-09-15T14:13:09.492Z"
   },
   {
    "duration": 0,
    "start_time": "2022-09-15T14:13:09.493Z"
   },
   {
    "duration": 0,
    "start_time": "2022-09-15T14:13:09.494Z"
   },
   {
    "duration": 0,
    "start_time": "2022-09-15T14:13:09.495Z"
   },
   {
    "duration": 0,
    "start_time": "2022-09-15T14:13:09.496Z"
   },
   {
    "duration": 0,
    "start_time": "2022-09-15T14:13:09.576Z"
   },
   {
    "duration": 1103,
    "start_time": "2022-09-15T14:13:22.228Z"
   },
   {
    "duration": 9503,
    "start_time": "2022-09-15T14:13:25.840Z"
   },
   {
    "duration": 139,
    "start_time": "2022-09-15T14:13:35.345Z"
   },
   {
    "duration": 142,
    "start_time": "2022-09-15T14:13:35.485Z"
   },
   {
    "duration": 0,
    "start_time": "2022-09-15T14:13:35.630Z"
   },
   {
    "duration": 0,
    "start_time": "2022-09-15T14:13:35.631Z"
   },
   {
    "duration": 0,
    "start_time": "2022-09-15T14:13:35.632Z"
   },
   {
    "duration": 0,
    "start_time": "2022-09-15T14:13:35.633Z"
   },
   {
    "duration": 63,
    "start_time": "2022-09-15T14:14:14.247Z"
   },
   {
    "duration": 1331,
    "start_time": "2022-09-15T14:16:13.722Z"
   },
   {
    "duration": 49,
    "start_time": "2022-09-15T14:16:15.055Z"
   },
   {
    "duration": 16,
    "start_time": "2022-09-15T14:16:15.106Z"
   },
   {
    "duration": 14,
    "start_time": "2022-09-15T14:16:15.124Z"
   },
   {
    "duration": 3,
    "start_time": "2022-09-15T14:16:15.140Z"
   },
   {
    "duration": 15,
    "start_time": "2022-09-15T14:16:15.144Z"
   },
   {
    "duration": 7,
    "start_time": "2022-09-15T14:16:15.161Z"
   },
   {
    "duration": 4,
    "start_time": "2022-09-15T14:16:15.170Z"
   },
   {
    "duration": 9,
    "start_time": "2022-09-15T14:16:15.175Z"
   },
   {
    "duration": 234,
    "start_time": "2022-09-15T14:16:15.185Z"
   },
   {
    "duration": 8,
    "start_time": "2022-09-15T14:16:15.421Z"
   },
   {
    "duration": 729,
    "start_time": "2022-09-15T14:16:15.430Z"
   },
   {
    "duration": 180,
    "start_time": "2022-09-15T14:16:16.161Z"
   },
   {
    "duration": 162,
    "start_time": "2022-09-15T14:16:16.343Z"
   },
   {
    "duration": 281,
    "start_time": "2022-09-15T14:16:16.506Z"
   },
   {
    "duration": 4,
    "start_time": "2022-09-15T14:16:16.789Z"
   },
   {
    "duration": 289,
    "start_time": "2022-09-15T14:16:16.794Z"
   },
   {
    "duration": 3,
    "start_time": "2022-09-15T14:16:17.085Z"
   },
   {
    "duration": 18,
    "start_time": "2022-09-15T14:16:17.090Z"
   },
   {
    "duration": 14,
    "start_time": "2022-09-15T14:16:17.109Z"
   },
   {
    "duration": 994,
    "start_time": "2022-09-15T14:16:17.125Z"
   },
   {
    "duration": 9594,
    "start_time": "2022-09-15T14:16:18.121Z"
   },
   {
    "duration": 133,
    "start_time": "2022-09-15T14:16:27.721Z"
   },
   {
    "duration": 284,
    "start_time": "2022-09-15T14:16:27.855Z"
   },
   {
    "duration": 0,
    "start_time": "2022-09-15T14:16:28.142Z"
   },
   {
    "duration": 0,
    "start_time": "2022-09-15T14:16:28.146Z"
   },
   {
    "duration": 0,
    "start_time": "2022-09-15T14:16:28.147Z"
   },
   {
    "duration": 0,
    "start_time": "2022-09-15T14:16:28.149Z"
   },
   {
    "duration": 12,
    "start_time": "2022-09-15T14:16:53.120Z"
   },
   {
    "duration": 20,
    "start_time": "2022-09-15T14:16:54.912Z"
   },
   {
    "duration": 1958,
    "start_time": "2022-09-15T14:17:26.763Z"
   },
   {
    "duration": 19,
    "start_time": "2022-09-15T14:17:29.431Z"
   },
   {
    "duration": 9,
    "start_time": "2022-09-15T14:17:31.308Z"
   },
   {
    "duration": 1349,
    "start_time": "2022-09-15T14:17:49.122Z"
   },
   {
    "duration": 55,
    "start_time": "2022-09-15T14:17:50.473Z"
   },
   {
    "duration": 11,
    "start_time": "2022-09-15T14:17:50.529Z"
   },
   {
    "duration": 9,
    "start_time": "2022-09-15T14:17:50.542Z"
   },
   {
    "duration": 3,
    "start_time": "2022-09-15T14:17:50.553Z"
   },
   {
    "duration": 11,
    "start_time": "2022-09-15T14:17:50.557Z"
   },
   {
    "duration": 9,
    "start_time": "2022-09-15T14:17:50.569Z"
   },
   {
    "duration": 21,
    "start_time": "2022-09-15T14:17:50.579Z"
   },
   {
    "duration": 14,
    "start_time": "2022-09-15T14:17:50.601Z"
   },
   {
    "duration": 234,
    "start_time": "2022-09-15T14:17:50.617Z"
   },
   {
    "duration": 6,
    "start_time": "2022-09-15T14:17:50.853Z"
   },
   {
    "duration": 708,
    "start_time": "2022-09-15T14:17:50.861Z"
   },
   {
    "duration": 166,
    "start_time": "2022-09-15T14:17:51.571Z"
   },
   {
    "duration": 174,
    "start_time": "2022-09-15T14:17:51.739Z"
   },
   {
    "duration": 270,
    "start_time": "2022-09-15T14:17:51.914Z"
   },
   {
    "duration": 6,
    "start_time": "2022-09-15T14:17:52.185Z"
   },
   {
    "duration": 318,
    "start_time": "2022-09-15T14:17:52.192Z"
   },
   {
    "duration": 16,
    "start_time": "2022-09-15T14:17:52.512Z"
   },
   {
    "duration": 12,
    "start_time": "2022-09-15T14:17:52.530Z"
   },
   {
    "duration": 11,
    "start_time": "2022-09-15T14:17:52.544Z"
   },
   {
    "duration": 962,
    "start_time": "2022-09-15T14:17:52.557Z"
   },
   {
    "duration": 9480,
    "start_time": "2022-09-15T14:17:53.610Z"
   },
   {
    "duration": 137,
    "start_time": "2022-09-15T14:18:03.092Z"
   },
   {
    "duration": 83,
    "start_time": "2022-09-15T14:18:03.231Z"
   },
   {
    "duration": 2066,
    "start_time": "2022-09-15T14:18:03.317Z"
   },
   {
    "duration": 30,
    "start_time": "2022-09-15T14:18:05.385Z"
   },
   {
    "duration": 10,
    "start_time": "2022-09-15T14:18:05.417Z"
   }
  ],
  "kernelspec": {
   "display_name": "Python 3 (ipykernel)",
   "language": "python",
   "name": "python3"
  },
  "language_info": {
   "codemirror_mode": {
    "name": "ipython",
    "version": 3
   },
   "file_extension": ".py",
   "mimetype": "text/x-python",
   "name": "python",
   "nbconvert_exporter": "python",
   "pygments_lexer": "ipython3",
   "version": "3.9.7"
  },
  "toc": {
   "base_numbering": 1,
   "nav_menu": {},
   "number_sections": true,
   "sideBar": true,
   "skip_h1_title": true,
   "title_cell": "Содержание",
   "title_sidebar": "Contents",
   "toc_cell": true,
   "toc_position": {
    "height": "calc(100% - 180px)",
    "left": "10px",
    "top": "150px",
    "width": "165px"
   },
   "toc_section_display": true,
   "toc_window_display": true
  }
 },
 "nbformat": 4,
 "nbformat_minor": 4
}
