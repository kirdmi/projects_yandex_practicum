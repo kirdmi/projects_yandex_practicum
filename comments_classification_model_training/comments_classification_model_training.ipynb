{
 "cells": [
  {
   "cell_type": "markdown",
   "metadata": {},
   "source": [
    "# Проект для онлайн-магазина\n",
    "___\n",
    "# Project for an online store"
   ]
  },
  {
   "cell_type": "markdown",
   "metadata": {},
   "source": [
    "В рамках онлайн-магазина происходит запуск сервиса, с помощью которого клиенты могут дополнять описания товаров, а также их редактировать.\n",
    "\n",
    "Необходимо создать инструмент, позволяющий искать токсичные комментарии и отправлять их на модерацию.\n",
    "\n",
    "Значение метрики качества *F1* должно быть не меньше 0.75.\n",
    "___\n",
    "As part of the online store, a service is being launched, with the help of which customers can supplement product descriptions, as well as edit them.\n",
    "\n",
    "It is necessary to create a tool that allows you to search for toxic comments and send them for moderation.\n",
    "\n",
    "The value of the quality metric *F1* must be at least 0.75."
   ]
  },
  {
   "cell_type": "markdown",
   "metadata": {},
   "source": [
    "## Подготовка данных\n",
    "___\n",
    "## Data preparation"
   ]
  },
  {
   "cell_type": "code",
   "execution_count": 1,
   "metadata": {},
   "outputs": [],
   "source": [
    "import pandas as pd\n",
    "import numpy as np\n",
    "import nltk\n",
    "from nltk.corpus import stopwords as nltk_stopwords\n",
    "from sklearn.feature_extraction.text import TfidfVectorizer\n",
    "from sklearn.linear_model import LogisticRegression\n",
    "from sklearn.tree import DecisionTreeClassifier\n",
    "from sklearn.ensemble import RandomForestClassifier\n",
    "import lightgbm as lgb\n",
    "from sklearn.model_selection import GridSearchCV\n",
    "from sklearn.metrics import accuracy_score\n",
    "from sklearn.metrics import f1_score\n",
    "from sklearn.model_selection import train_test_split\n",
    "from pymystem3 import Mystem\n",
    "import spacy\n",
    "from spacy.lang.en import English\n",
    "import re \n",
    "from sklearn.pipeline import Pipeline\n",
    "from sklearn.utils import shuffle"
   ]
  },
  {
   "cell_type": "code",
   "execution_count": 2,
   "metadata": {},
   "outputs": [],
   "source": [
    "data = pd.read_csv(\"toxic_comments.csv\")"
   ]
  },
  {
   "cell_type": "code",
   "execution_count": 3,
   "metadata": {},
   "outputs": [],
   "source": [
    "data = data.drop(columns=[\"Unnamed: 0\"])"
   ]
  },
  {
   "cell_type": "markdown",
   "metadata": {},
   "source": [
    "Уменьшим количество объектов, чтобы было возможно производить необходимые операции не в течении часов из-за ограниченного ресурса оперативной памяти.\n",
    "___\n",
    "We will reduce the number of objects so that it is possible to perform the necessary operations not within hours due to the limited resource of RAM."
   ]
  },
  {
   "cell_type": "code",
   "execution_count": 4,
   "metadata": {},
   "outputs": [],
   "source": [
    "data = data.sample(50000).reset_index(drop=True)"
   ]
  },
  {
   "cell_type": "code",
   "execution_count": 5,
   "metadata": {
    "scrolled": true
   },
   "outputs": [
    {
     "name": "stdout",
     "output_type": "stream",
     "text": [
      "<class 'pandas.core.frame.DataFrame'>\n",
      "RangeIndex: 50000 entries, 0 to 49999\n",
      "Data columns (total 2 columns):\n",
      "text     50000 non-null object\n",
      "toxic    50000 non-null int64\n",
      "dtypes: int64(1), object(1)\n",
      "memory usage: 781.4+ KB\n"
     ]
    }
   ],
   "source": [
    "data.info()"
   ]
  },
  {
   "cell_type": "code",
   "execution_count": 6,
   "metadata": {},
   "outputs": [],
   "source": [
    "nlp = spacy.load(\"en_core_web_sm\")"
   ]
  },
  {
   "cell_type": "code",
   "execution_count": 7,
   "metadata": {},
   "outputs": [],
   "source": [
    "def lemmatize(text):\n",
    "    global nlp\n",
    "    doc = nlp(text)\n",
    "    return \" \".join([token.lemma_ for token in doc])"
   ]
  },
  {
   "cell_type": "code",
   "execution_count": 8,
   "metadata": {},
   "outputs": [],
   "source": [
    "data[\"lemm\"] = data[\"text\"].apply(lemmatize)"
   ]
  },
  {
   "cell_type": "code",
   "execution_count": 9,
   "metadata": {},
   "outputs": [],
   "source": [
    "data[\"lemm\"] = [re.sub(r'[^a-zA-Z ]', ' ', (i)).lower() for i in data[\"lemm\"]]"
   ]
  },
  {
   "cell_type": "code",
   "execution_count": 10,
   "metadata": {},
   "outputs": [],
   "source": [
    "features = data[\"lemm\"]\n",
    "target = data[\"toxic\"]"
   ]
  },
  {
   "cell_type": "code",
   "execution_count": 11,
   "metadata": {},
   "outputs": [],
   "source": [
    "features_train, features_test, target_train, target_test = train_test_split(features, target, test_size = 0.4, random_state=12345)\n"
   ]
  },
  {
   "cell_type": "code",
   "execution_count": 12,
   "metadata": {},
   "outputs": [],
   "source": [
    "def upsample(features, target, repeat):\n",
    "    features_zeros = features[target == 0]\n",
    "    features_ones = features[target == 1]\n",
    "    target_zeros = target[target == 0]\n",
    "    target_ones = target[target == 1]\n",
    "\n",
    "    features_upsampled = pd.concat([features_zeros] + [features_ones] * repeat)\n",
    "    target_upsampled = pd.concat([target_zeros] + [target_ones] * repeat)\n",
    "    \n",
    "    features_upsampled, target_upsampled = shuffle(\n",
    "        features_upsampled, target_upsampled, random_state=12345)\n",
    "    \n",
    "    return features_upsampled, target_upsampled"
   ]
  },
  {
   "cell_type": "code",
   "execution_count": 13,
   "metadata": {},
   "outputs": [],
   "source": [
    "features_upsampled, target_upsampled = upsample(features_train, target_train, 10)"
   ]
  },
  {
   "cell_type": "code",
   "execution_count": 14,
   "metadata": {},
   "outputs": [
    {
     "data": {
      "text/plain": [
       "1    30350\n",
       "0    26965\n",
       "Name: toxic, dtype: int64"
      ]
     },
     "execution_count": 14,
     "metadata": {},
     "output_type": "execute_result"
    }
   ],
   "source": [
    "target_upsampled.value_counts()"
   ]
  },
  {
   "cell_type": "code",
   "execution_count": 15,
   "metadata": {
    "scrolled": true
   },
   "outputs": [
    {
     "name": "stderr",
     "output_type": "stream",
     "text": [
      "[nltk_data] Downloading package stopwords to\n",
      "[nltk_data]     C:\\Users\\kiril\\AppData\\Roaming\\nltk_data...\n",
      "[nltk_data]   Package stopwords is already up-to-date!\n"
     ]
    }
   ],
   "source": [
    "nltk.download(\"stopwords\")\n",
    "stopwords = set(nltk_stopwords.words(\"english\"))\n",
    "# count_vect = TfidfVectorizer(stop_words=stopwords)\n",
    "# tf_idf_train = count_vect.fit_transform(features_train)\n",
    "# tf_idf_test = count_vect.transform(features_test)"
   ]
  },
  {
   "cell_type": "markdown",
   "metadata": {},
   "source": [
    "## Обучение\n",
    "___\n",
    "## Training"
   ]
  },
  {
   "cell_type": "markdown",
   "metadata": {},
   "source": [
    "### Логистическая регрессия\n",
    "___\n",
    "### Logistic regression"
   ]
  },
  {
   "cell_type": "markdown",
   "metadata": {},
   "source": [
    "#### Эксперимент - логистическая регрессия и балансировка классов\n",
    "___\n",
    "#### Experiment - logistic regression and class balancing"
   ]
  },
  {
   "cell_type": "code",
   "execution_count": 16,
   "metadata": {
    "scrolled": true
   },
   "outputs": [
    {
     "name": "stderr",
     "output_type": "stream",
     "text": [
      "C:\\Users\\kiril\\anaconda3\\envs\\praktikum_env_win_new\\lib\\site-packages\\sklearn\\model_selection\\_split.py:1978: FutureWarning: The default value of cv will change from 3 to 5 in version 0.22. Specify it explicitly to silence this warning.\n",
      "  warnings.warn(CV_WARNING, FutureWarning)\n",
      "C:\\Users\\kiril\\anaconda3\\envs\\praktikum_env_win_new\\lib\\site-packages\\sklearn\\utils\\validation.py:179: DeprecationWarning: distutils Version classes are deprecated. Use packaging.version instead.\n",
      "  if LooseVersion(joblib_version) < '0.12':\n",
      "C:\\Users\\kiril\\anaconda3\\envs\\praktikum_env_win_new\\lib\\site-packages\\sklearn\\linear_model\\logistic.py:432: FutureWarning: Default solver will be changed to 'lbfgs' in 0.22. Specify a solver to silence this warning.\n",
      "  FutureWarning)\n"
     ]
    },
    {
     "name": "stdout",
     "output_type": "stream",
     "text": [
      "0.7334929226242076\n"
     ]
    }
   ],
   "source": [
    "pipe_lr_cb = Pipeline([('tfidf', TfidfVectorizer(stop_words=stopwords)),\n",
    "                    ('log_r', LogisticRegression(class_weight={0: 1, 1: 10}))])\n",
    "\n",
    "parameters_lr_cb = {\n",
    "                \"log_r__C\" : [1, 10, 100]\n",
    "                }\n",
    "\n",
    "grid_lr_cb = GridSearchCV(estimator=pipe_lr_cb, param_grid=parameters_lr_cb, scoring= 'f1', n_jobs=-1)\n",
    "\n",
    "grid_lr_cb.fit(features_train, target_train)\n",
    "print(grid_lr_cb.best_score_)"
   ]
  },
  {
   "cell_type": "code",
   "execution_count": 17,
   "metadata": {
    "scrolled": true
   },
   "outputs": [],
   "source": [
    "modelr_lr_cb = grid_lr_cb.best_estimator_"
   ]
  },
  {
   "cell_type": "code",
   "execution_count": 18,
   "metadata": {},
   "outputs": [
    {
     "name": "stdout",
     "output_type": "stream",
     "text": [
      "F1 LR_cb = 0.752724630661177\n"
     ]
    }
   ],
   "source": [
    "pred_lr_cb = modelr_lr_cb.predict(features_test)\n",
    "\n",
    "print(\"F1 LR_cb =\", f1_score(target_test, pred_lr_cb))"
   ]
  },
  {
   "cell_type": "markdown",
   "metadata": {},
   "source": [
    "#### Эксперимент - логистическая регрессия и апсэмплинг\n",
    "___\n",
    "#### Experiment - logistic regression and upsampling"
   ]
  },
  {
   "cell_type": "code",
   "execution_count": 19,
   "metadata": {},
   "outputs": [
    {
     "name": "stderr",
     "output_type": "stream",
     "text": [
      "C:\\Users\\kiril\\anaconda3\\envs\\praktikum_env_win_new\\lib\\site-packages\\sklearn\\model_selection\\_split.py:1978: FutureWarning: The default value of cv will change from 3 to 5 in version 0.22. Specify it explicitly to silence this warning.\n",
      "  warnings.warn(CV_WARNING, FutureWarning)\n",
      "C:\\Users\\kiril\\anaconda3\\envs\\praktikum_env_win_new\\lib\\site-packages\\sklearn\\utils\\validation.py:179: DeprecationWarning: distutils Version classes are deprecated. Use packaging.version instead.\n",
      "  if LooseVersion(joblib_version) < '0.12':\n",
      "C:\\Users\\kiril\\anaconda3\\envs\\praktikum_env_win_new\\lib\\site-packages\\sklearn\\linear_model\\logistic.py:432: FutureWarning: Default solver will be changed to 'lbfgs' in 0.22. Specify a solver to silence this warning.\n",
      "  FutureWarning)\n"
     ]
    },
    {
     "name": "stdout",
     "output_type": "stream",
     "text": [
      "0.9825062945368035\n"
     ]
    }
   ],
   "source": [
    "pipe_lr_up = Pipeline([('tfidf', TfidfVectorizer(stop_words=stopwords)),\n",
    "                    ('log_r', LogisticRegression())])\n",
    "\n",
    "parameters_lr_up = {\n",
    "                \"log_r__C\" : [1, 10, 100]\n",
    "                }\n",
    "\n",
    "grid_lr_up = GridSearchCV(estimator=pipe_lr_up, param_grid=parameters_lr_up, scoring= 'f1', n_jobs=-1)\n",
    "\n",
    "grid_lr_up.fit(features_upsampled, target_upsampled)\n",
    "print(grid_lr_up.best_score_)"
   ]
  },
  {
   "cell_type": "code",
   "execution_count": 20,
   "metadata": {},
   "outputs": [],
   "source": [
    "modelr_lr_up = grid_lr_up.best_estimator_"
   ]
  },
  {
   "cell_type": "code",
   "execution_count": 21,
   "metadata": {},
   "outputs": [
    {
     "name": "stdout",
     "output_type": "stream",
     "text": [
      "F1 LR_up = 0.7290322580645161\n"
     ]
    }
   ],
   "source": [
    "pred_lr_up = modelr_lr_up.predict(features_test)\n",
    "\n",
    "print(\"F1 LR_up =\", f1_score(target_test, pred_lr_up))"
   ]
  },
  {
   "cell_type": "markdown",
   "metadata": {},
   "source": [
    "### Дерево решений\n",
    "___\n",
    "### Decision tree"
   ]
  },
  {
   "cell_type": "markdown",
   "metadata": {},
   "source": [
    "#### Эксперимент - дерево решений и балансировка классов\n",
    "___\n",
    "#### Experiment - decision tree and class balancing"
   ]
  },
  {
   "cell_type": "code",
   "execution_count": 22,
   "metadata": {
    "scrolled": true
   },
   "outputs": [
    {
     "name": "stderr",
     "output_type": "stream",
     "text": [
      "C:\\Users\\kiril\\anaconda3\\envs\\praktikum_env_win_new\\lib\\site-packages\\sklearn\\model_selection\\_split.py:1978: FutureWarning: The default value of cv will change from 3 to 5 in version 0.22. Specify it explicitly to silence this warning.\n",
      "  warnings.warn(CV_WARNING, FutureWarning)\n",
      "C:\\Users\\kiril\\anaconda3\\envs\\praktikum_env_win_new\\lib\\site-packages\\sklearn\\utils\\validation.py:179: DeprecationWarning: distutils Version classes are deprecated. Use packaging.version instead.\n",
      "  if LooseVersion(joblib_version) < '0.12':\n"
     ]
    },
    {
     "name": "stdout",
     "output_type": "stream",
     "text": [
      "0.6022311631837429\n"
     ]
    }
   ],
   "source": [
    "pipe_dtr_cb = Pipeline([('tfidf', TfidfVectorizer(stop_words=stopwords)),\n",
    "                    ('dtr', DecisionTreeClassifier(class_weight={0: 1, 1: 10}))])\n",
    "\n",
    "params_dtr_cb = {\"dtr__max_depth\": range(1, 100, 5)}\n",
    "\n",
    "grid_dtr_cb = GridSearchCV(pipe_dtr_cb, param_grid=params_dtr_cb, scoring= 'f1', n_jobs=-1)\n",
    "\n",
    "grid_dtr_cb.fit(features_train, target_train)\n",
    "print(grid_dtr_cb.best_score_)"
   ]
  },
  {
   "cell_type": "code",
   "execution_count": 23,
   "metadata": {},
   "outputs": [],
   "source": [
    "model_dtr_cb = grid_dtr_cb.best_estimator_"
   ]
  },
  {
   "cell_type": "code",
   "execution_count": 24,
   "metadata": {
    "scrolled": true
   },
   "outputs": [
    {
     "name": "stdout",
     "output_type": "stream",
     "text": [
      "F1 DTR_cb = 0.620126079850572\n"
     ]
    }
   ],
   "source": [
    "pred_dtr_cb = model_dtr_cb.predict(features_test)\n",
    "\n",
    "print(\"F1 DTR_cb =\", f1_score(target_test, pred_dtr_cb))"
   ]
  },
  {
   "cell_type": "markdown",
   "metadata": {},
   "source": [
    "#### Эксперимент - дерево решений и апсэмплинг\n",
    "___\n",
    "#### Experiment - decision tree and upsampling"
   ]
  },
  {
   "cell_type": "code",
   "execution_count": 25,
   "metadata": {},
   "outputs": [
    {
     "name": "stderr",
     "output_type": "stream",
     "text": [
      "C:\\Users\\kiril\\anaconda3\\envs\\praktikum_env_win_new\\lib\\site-packages\\sklearn\\model_selection\\_split.py:1978: FutureWarning: The default value of cv will change from 3 to 5 in version 0.22. Specify it explicitly to silence this warning.\n",
      "  warnings.warn(CV_WARNING, FutureWarning)\n",
      "C:\\Users\\kiril\\anaconda3\\envs\\praktikum_env_win_new\\lib\\site-packages\\sklearn\\utils\\validation.py:179: DeprecationWarning: distutils Version classes are deprecated. Use packaging.version instead.\n",
      "  if LooseVersion(joblib_version) < '0.12':\n"
     ]
    },
    {
     "name": "stdout",
     "output_type": "stream",
     "text": [
      "0.9233544578363887\n"
     ]
    }
   ],
   "source": [
    "pipe_dtr_up = Pipeline([('tfidf', TfidfVectorizer(stop_words=stopwords)),\n",
    "                    ('dtr', DecisionTreeClassifier())])\n",
    "\n",
    "params_dtr_up = {\"dtr__max_depth\": range(1, 100, 5)}\n",
    "\n",
    "grid_dtr_up = GridSearchCV(pipe_dtr_up, param_grid=params_dtr_up, scoring= 'f1', n_jobs=-1)\n",
    "\n",
    "grid_dtr_up.fit(features_upsampled, target_upsampled)\n",
    "print(grid_dtr_up.best_score_)"
   ]
  },
  {
   "cell_type": "code",
   "execution_count": 26,
   "metadata": {},
   "outputs": [],
   "source": [
    "model_dtr_up = grid_dtr_up.best_estimator_"
   ]
  },
  {
   "cell_type": "code",
   "execution_count": 27,
   "metadata": {},
   "outputs": [
    {
     "name": "stdout",
     "output_type": "stream",
     "text": [
      "F1 DTR_up = 0.6198444496818291\n"
     ]
    }
   ],
   "source": [
    "pred_dtr_up = model_dtr_up.predict(features_test)\n",
    "\n",
    "print(\"F1 DTR_up =\", f1_score(target_test, pred_dtr_up))"
   ]
  },
  {
   "cell_type": "markdown",
   "metadata": {},
   "source": [
    "### Случайный лес\n",
    "___\n",
    "### Random Forest"
   ]
  },
  {
   "cell_type": "markdown",
   "metadata": {},
   "source": [
    "#### Эксперимент - cлучайный лес и балансировка классов\n",
    "___\n",
    "#### Experiment - random forest and class balancing"
   ]
  },
  {
   "cell_type": "code",
   "execution_count": 28,
   "metadata": {},
   "outputs": [
    {
     "name": "stderr",
     "output_type": "stream",
     "text": [
      "C:\\Users\\kiril\\anaconda3\\envs\\praktikum_env_win_new\\lib\\site-packages\\sklearn\\model_selection\\_split.py:1978: FutureWarning: The default value of cv will change from 3 to 5 in version 0.22. Specify it explicitly to silence this warning.\n",
      "  warnings.warn(CV_WARNING, FutureWarning)\n",
      "C:\\Users\\kiril\\anaconda3\\envs\\praktikum_env_win_new\\lib\\site-packages\\sklearn\\utils\\validation.py:179: DeprecationWarning: distutils Version classes are deprecated. Use packaging.version instead.\n",
      "  if LooseVersion(joblib_version) < '0.12':\n",
      "C:\\Users\\kiril\\anaconda3\\envs\\praktikum_env_win_new\\lib\\site-packages\\sklearn\\utils\\fixes.py:223: DeprecationWarning: distutils Version classes are deprecated. Use packaging.version instead.\n",
      "  if _joblib.__version__ >= LooseVersion('0.12'):\n"
     ]
    },
    {
     "name": "stdout",
     "output_type": "stream",
     "text": [
      "0.27527642273083147\n"
     ]
    }
   ],
   "source": [
    "pipe_rfc_cb = Pipeline([('tfidf', TfidfVectorizer(stop_words=stopwords)),\n",
    "                    ('rfc', RandomForestClassifier(class_weight={0: 1, 1: 10}))])\n",
    "\n",
    "params_rfc_cb = {\n",
    "    \"rfc__n_estimators\": [100,200],\n",
    "    \"rfc__max_depth\": range(1, 10)\n",
    "}\n",
    "\n",
    "grid_rfc_cb = GridSearchCV(pipe_rfc_cb, param_grid=params_rfc_cb, scoring= 'f1', n_jobs=-1)\n",
    "\n",
    "grid_rfc_cb.fit(features_train, target_train)\n",
    "print(grid_rfc_cb.best_score_)"
   ]
  },
  {
   "cell_type": "code",
   "execution_count": 29,
   "metadata": {},
   "outputs": [],
   "source": [
    "model_rfc_cb = grid_rfc_cb.best_estimator_"
   ]
  },
  {
   "cell_type": "code",
   "execution_count": 30,
   "metadata": {},
   "outputs": [
    {
     "name": "stderr",
     "output_type": "stream",
     "text": [
      "C:\\Users\\kiril\\anaconda3\\envs\\praktikum_env_win_new\\lib\\site-packages\\sklearn\\utils\\validation.py:179: DeprecationWarning: distutils Version classes are deprecated. Use packaging.version instead.\n",
      "  if LooseVersion(joblib_version) < '0.12':\n",
      "C:\\Users\\kiril\\anaconda3\\envs\\praktikum_env_win_new\\lib\\site-packages\\sklearn\\utils\\fixes.py:223: DeprecationWarning: distutils Version classes are deprecated. Use packaging.version instead.\n",
      "  if _joblib.__version__ >= LooseVersion('0.12'):\n",
      "C:\\Users\\kiril\\anaconda3\\envs\\praktikum_env_win_new\\lib\\site-packages\\sklearn\\utils\\fixes.py:223: DeprecationWarning: distutils Version classes are deprecated. Use packaging.version instead.\n",
      "  if _joblib.__version__ >= LooseVersion('0.12'):\n"
     ]
    },
    {
     "name": "stdout",
     "output_type": "stream",
     "text": [
      "F1 RFC_cb = 0.26903944510614447\n"
     ]
    }
   ],
   "source": [
    "model_rfc_cb.fit(features_train, target_train)\n",
    "pred_rfc_cb = model_rfc_cb.predict(features_test)\n",
    "print(\"F1 RFC_cb =\", f1_score(target_test, pred_rfc_cb))"
   ]
  },
  {
   "cell_type": "markdown",
   "metadata": {},
   "source": [
    "#### Эксперимент - cлучайный лес и апсэмплинг\n",
    "___\n",
    "#### Experiment - random forest and upsampling"
   ]
  },
  {
   "cell_type": "code",
   "execution_count": 31,
   "metadata": {},
   "outputs": [
    {
     "name": "stderr",
     "output_type": "stream",
     "text": [
      "C:\\Users\\kiril\\anaconda3\\envs\\praktikum_env_win_new\\lib\\site-packages\\sklearn\\model_selection\\_split.py:1978: FutureWarning: The default value of cv will change from 3 to 5 in version 0.22. Specify it explicitly to silence this warning.\n",
      "  warnings.warn(CV_WARNING, FutureWarning)\n",
      "C:\\Users\\kiril\\anaconda3\\envs\\praktikum_env_win_new\\lib\\site-packages\\sklearn\\utils\\validation.py:179: DeprecationWarning: distutils Version classes are deprecated. Use packaging.version instead.\n",
      "  if LooseVersion(joblib_version) < '0.12':\n",
      "C:\\Users\\kiril\\anaconda3\\envs\\praktikum_env_win_new\\lib\\site-packages\\sklearn\\utils\\fixes.py:223: DeprecationWarning: distutils Version classes are deprecated. Use packaging.version instead.\n",
      "  if _joblib.__version__ >= LooseVersion('0.12'):\n"
     ]
    },
    {
     "name": "stdout",
     "output_type": "stream",
     "text": [
      "0.7901851375718838\n"
     ]
    }
   ],
   "source": [
    "pipe_rfc_up = Pipeline([('tfidf', TfidfVectorizer(stop_words=stopwords)),\n",
    "                    ('rfc', RandomForestClassifier())])\n",
    "\n",
    "params_rfc_up = {\n",
    "    \"rfc__n_estimators\": [100,200],\n",
    "    \"rfc__max_depth\": range(1, 10)\n",
    "}\n",
    "\n",
    "grid_rfc_up = GridSearchCV(pipe_rfc_up, param_grid=params_rfc_up, scoring= 'f1', n_jobs=-1)\n",
    "\n",
    "grid_rfc_up.fit(features_upsampled, target_upsampled)\n",
    "print(grid_rfc_up.best_score_)"
   ]
  },
  {
   "cell_type": "code",
   "execution_count": 32,
   "metadata": {},
   "outputs": [],
   "source": [
    "model_rfc_up = grid_rfc_up.best_estimator_"
   ]
  },
  {
   "cell_type": "code",
   "execution_count": 33,
   "metadata": {},
   "outputs": [
    {
     "name": "stderr",
     "output_type": "stream",
     "text": [
      "C:\\Users\\kiril\\anaconda3\\envs\\praktikum_env_win_new\\lib\\site-packages\\sklearn\\utils\\validation.py:179: DeprecationWarning: distutils Version classes are deprecated. Use packaging.version instead.\n",
      "  if LooseVersion(joblib_version) < '0.12':\n",
      "C:\\Users\\kiril\\anaconda3\\envs\\praktikum_env_win_new\\lib\\site-packages\\sklearn\\utils\\fixes.py:223: DeprecationWarning: distutils Version classes are deprecated. Use packaging.version instead.\n",
      "  if _joblib.__version__ >= LooseVersion('0.12'):\n"
     ]
    },
    {
     "name": "stdout",
     "output_type": "stream",
     "text": [
      "F1 RFC_up = 0.26636883987156224\n"
     ]
    },
    {
     "name": "stderr",
     "output_type": "stream",
     "text": [
      "C:\\Users\\kiril\\anaconda3\\envs\\praktikum_env_win_new\\lib\\site-packages\\sklearn\\utils\\fixes.py:223: DeprecationWarning: distutils Version classes are deprecated. Use packaging.version instead.\n",
      "  if _joblib.__version__ >= LooseVersion('0.12'):\n"
     ]
    }
   ],
   "source": [
    "model_rfc_up.fit(features_upsampled, target_upsampled)\n",
    "pred_rfc_up = model_rfc_up.predict(features_test)\n",
    "print(\"F1 RFC_up =\", f1_score(target_test, pred_rfc_up))"
   ]
  },
  {
   "cell_type": "markdown",
   "metadata": {},
   "source": [
    "### LGBM"
   ]
  },
  {
   "cell_type": "markdown",
   "metadata": {},
   "source": [
    "#### Эксперимент - LGBM и балансировка классов\n",
    "___\n",
    "#### Experiment - LGBM and class balancing"
   ]
  },
  {
   "cell_type": "code",
   "execution_count": 34,
   "metadata": {},
   "outputs": [
    {
     "name": "stderr",
     "output_type": "stream",
     "text": [
      "C:\\Users\\kiril\\anaconda3\\envs\\praktikum_env_win_new\\lib\\site-packages\\sklearn\\model_selection\\_split.py:1978: FutureWarning: The default value of cv will change from 3 to 5 in version 0.22. Specify it explicitly to silence this warning.\n",
      "  warnings.warn(CV_WARNING, FutureWarning)\n",
      "C:\\Users\\kiril\\anaconda3\\envs\\praktikum_env_win_new\\lib\\site-packages\\sklearn\\utils\\validation.py:179: DeprecationWarning: distutils Version classes are deprecated. Use packaging.version instead.\n",
      "  if LooseVersion(joblib_version) < '0.12':\n"
     ]
    },
    {
     "name": "stdout",
     "output_type": "stream",
     "text": [
      "0.683337966071608\n"
     ]
    }
   ],
   "source": [
    "pipe_lgbm_cb = Pipeline([('tfidf', TfidfVectorizer(stop_words=stopwords)),\n",
    "                    ('lgbm', lgb.LGBMClassifier(class_weight={0: 1, 1: 10}))])\n",
    "\n",
    "parameters_lgbm_cb = {\n",
    "    'lgbm__boosting_type': ['gbdt'],\n",
    "    'lgbm__num_leaves': [25,35],\n",
    "    \"lgbm__max_depth\": [1, 10],\n",
    "    'lgbm__n_estimators': [50, 100]\n",
    "}\n",
    "\n",
    "grid_lgbm_cb = GridSearchCV(pipe_lgbm_cb, param_grid=parameters_lgbm_cb, scoring= 'f1', n_jobs=-1)\n",
    "\n",
    "grid_lgbm_cb.fit(features_train, target_train)\n",
    "print(grid_lgbm_cb.best_score_)"
   ]
  },
  {
   "cell_type": "code",
   "execution_count": 35,
   "metadata": {},
   "outputs": [],
   "source": [
    "model_lgbm_cb = grid_lgbm_cb.best_estimator_"
   ]
  },
  {
   "cell_type": "code",
   "execution_count": 36,
   "metadata": {},
   "outputs": [
    {
     "name": "stderr",
     "output_type": "stream",
     "text": [
      "C:\\Users\\kiril\\anaconda3\\envs\\praktikum_env_win_new\\lib\\site-packages\\sklearn\\utils\\validation.py:179: DeprecationWarning: distutils Version classes are deprecated. Use packaging.version instead.\n",
      "  if LooseVersion(joblib_version) < '0.12':\n"
     ]
    },
    {
     "name": "stdout",
     "output_type": "stream",
     "text": [
      "F1 LGBM_cb = 0.6948185345811457\n"
     ]
    }
   ],
   "source": [
    "model_lgbm_cb.fit(features_train, target_train)\n",
    "\n",
    "pred_lgbm_cb = model_lgbm_cb.predict(features_test)\n",
    "\n",
    "print(\"F1 LGBM_cb =\", f1_score(target_test, pred_lgbm_cb))"
   ]
  },
  {
   "cell_type": "markdown",
   "metadata": {},
   "source": [
    "#### Эксперимент - LGBM и апсэмплинг.\n",
    "___\n",
    "#### Experiment - LGBM and upsampling."
   ]
  },
  {
   "cell_type": "code",
   "execution_count": 37,
   "metadata": {},
   "outputs": [
    {
     "name": "stderr",
     "output_type": "stream",
     "text": [
      "C:\\Users\\kiril\\anaconda3\\envs\\praktikum_env_win_new\\lib\\site-packages\\sklearn\\model_selection\\_split.py:1978: FutureWarning: The default value of cv will change from 3 to 5 in version 0.22. Specify it explicitly to silence this warning.\n",
      "  warnings.warn(CV_WARNING, FutureWarning)\n",
      "C:\\Users\\kiril\\anaconda3\\envs\\praktikum_env_win_new\\lib\\site-packages\\sklearn\\utils\\validation.py:179: DeprecationWarning: distutils Version classes are deprecated. Use packaging.version instead.\n",
      "  if LooseVersion(joblib_version) < '0.12':\n"
     ]
    },
    {
     "name": "stdout",
     "output_type": "stream",
     "text": [
      "0.9082116069939681\n"
     ]
    }
   ],
   "source": [
    "pipe_lgbm_up = Pipeline([('tfidf', TfidfVectorizer(stop_words=stopwords)),\n",
    "                    ('lgbm', lgb.LGBMClassifier())])\n",
    "\n",
    "parameters_lgbm_up = {\n",
    "    'lgbm__boosting_type': ['gbdt'],\n",
    "    'lgbm__num_leaves': [25,35],\n",
    "    \"lgbm__max_depth\": [1, 10],\n",
    "    'lgbm__n_estimators': [50, 100]\n",
    "}\n",
    "\n",
    "grid_lgbm_up = GridSearchCV(pipe_lgbm_up, param_grid=parameters_lgbm_up, scoring= 'f1', n_jobs=-1)\n",
    "\n",
    "grid_lgbm_up.fit(features_upsampled, target_upsampled)\n",
    "print(grid_lgbm_up.best_score_)"
   ]
  },
  {
   "cell_type": "code",
   "execution_count": 38,
   "metadata": {},
   "outputs": [],
   "source": [
    "model_lgbm_up = grid_lgbm_up.best_estimator_"
   ]
  },
  {
   "cell_type": "code",
   "execution_count": 39,
   "metadata": {},
   "outputs": [
    {
     "name": "stderr",
     "output_type": "stream",
     "text": [
      "C:\\Users\\kiril\\anaconda3\\envs\\praktikum_env_win_new\\lib\\site-packages\\sklearn\\utils\\validation.py:179: DeprecationWarning: distutils Version classes are deprecated. Use packaging.version instead.\n",
      "  if LooseVersion(joblib_version) < '0.12':\n"
     ]
    },
    {
     "name": "stdout",
     "output_type": "stream",
     "text": [
      "F1 LGBM_up = 0.7007984969469235\n"
     ]
    }
   ],
   "source": [
    "model_lgbm_up.fit(features_upsampled, target_upsampled)\n",
    "\n",
    "pred_lgbm_up = model_lgbm_up.predict(features_test)\n",
    "\n",
    "print(\"F1 LGBM_up =\", f1_score(target_test, pred_lgbm_up))"
   ]
  },
  {
   "cell_type": "markdown",
   "metadata": {},
   "source": [
    "## Выводы\n",
    "___\n",
    "## Conclusions"
   ]
  },
  {
   "cell_type": "markdown",
   "metadata": {},
   "source": [
    "Соберем результаты **F1_score** в одной таблице для объективизации разницы.\n",
    "___\n",
    "Let's collect the results of **F1_score** in one table to objectify the difference."
   ]
  },
  {
   "cell_type": "code",
   "execution_count": 40,
   "metadata": {
    "scrolled": true
   },
   "outputs": [
    {
     "data": {
      "text/html": [
       "<div>\n",
       "<style scoped>\n",
       "    .dataframe tbody tr th:only-of-type {\n",
       "        vertical-align: middle;\n",
       "    }\n",
       "\n",
       "    .dataframe tbody tr th {\n",
       "        vertical-align: top;\n",
       "    }\n",
       "\n",
       "    .dataframe thead th {\n",
       "        text-align: right;\n",
       "    }\n",
       "</style>\n",
       "<table border=\"1\" class=\"dataframe\">\n",
       "  <thead>\n",
       "    <tr style=\"text-align: right;\">\n",
       "      <th></th>\n",
       "      <th>lr</th>\n",
       "      <th>dtr</th>\n",
       "      <th>rfc</th>\n",
       "      <th>lgbm</th>\n",
       "    </tr>\n",
       "  </thead>\n",
       "  <tbody>\n",
       "    <tr>\n",
       "      <td>F1_score_cb</td>\n",
       "      <td>0.752725</td>\n",
       "      <td>0.620126</td>\n",
       "      <td>0.269039</td>\n",
       "      <td>0.694819</td>\n",
       "    </tr>\n",
       "    <tr>\n",
       "      <td>F1_score_up</td>\n",
       "      <td>0.729032</td>\n",
       "      <td>0.619844</td>\n",
       "      <td>0.266369</td>\n",
       "      <td>0.700798</td>\n",
       "    </tr>\n",
       "  </tbody>\n",
       "</table>\n",
       "</div>"
      ],
      "text/plain": [
       "                   lr       dtr       rfc      lgbm\n",
       "F1_score_cb  0.752725  0.620126  0.269039  0.694819\n",
       "F1_score_up  0.729032  0.619844  0.266369  0.700798"
      ]
     },
     "metadata": {},
     "output_type": "display_data"
    }
   ],
   "source": [
    "table = [\n",
    "    [\n",
    "        f1_score(target_test, pred_lr_cb),\n",
    "        f1_score(target_test, pred_dtr_cb),\n",
    "        f1_score(target_test, pred_rfc_cb),\n",
    "        f1_score(target_test, pred_lgbm_cb),\n",
    "    ],\n",
    "    [\n",
    "        f1_score(target_test, pred_lr_up),\n",
    "        f1_score(target_test, pred_dtr_up),\n",
    "        f1_score(target_test, pred_rfc_up),\n",
    "        f1_score(target_test, pred_lgbm_up),\n",
    "    ]\n",
    "]\n",
    "columns = [\"lr\", \"dtr\", \"rfc\", \"lgbm\"]\n",
    "index = [\"F1_score_cb\", \"F1_score_up\"]\n",
    "table = pd.DataFrame(table, index, columns)\n",
    "display(table)"
   ]
  },
  {
   "cell_type": "markdown",
   "metadata": {},
   "source": [
    "Построение моделей было произведено на ограниченной части датафрейма, так как иначе лемматизация заняла слишком много времени в силу малого количества оперативной памяти. \n",
    "\n",
    "Наиболее удачной моделью является **Линейная регрессия**, значение его **F1_score** равно 0.752725, что выше обозначенного в задаче минимума.\n",
    "___\n",
    "The models were built on a limited part of the dataframe, since otherwise the lemmatization took too long due to the small amount of RAM.\n",
    "​\n",
    "The most successful model is **Linear regression**, its **F1_score** value is 0.752725, which is higher than the minimum indicated in the task."
   ]
  }
 ],
 "metadata": {
  "ExecuteTimeLog": [
   {
    "duration": 149,
    "start_time": "2022-09-16T16:42:58.272Z"
   },
   {
    "duration": 3482,
    "start_time": "2022-09-16T16:43:02.406Z"
   },
   {
    "duration": 6420,
    "start_time": "2022-09-16T16:43:07.050Z"
   },
   {
    "duration": 24,
    "start_time": "2022-09-16T16:43:16.153Z"
   },
   {
    "duration": 15,
    "start_time": "2022-09-16T16:43:55.587Z"
   },
   {
    "duration": 7,
    "start_time": "2022-09-16T16:44:05.476Z"
   },
   {
    "duration": 121,
    "start_time": "2022-09-16T16:56:03.050Z"
   },
   {
    "duration": 4,
    "start_time": "2022-09-16T16:56:17.595Z"
   },
   {
    "duration": 81,
    "start_time": "2022-09-16T16:56:21.902Z"
   },
   {
    "duration": 6,
    "start_time": "2022-09-16T16:56:29.156Z"
   },
   {
    "duration": 13,
    "start_time": "2022-09-16T16:56:33.002Z"
   },
   {
    "duration": 6390,
    "start_time": "2022-09-16T16:57:04.764Z"
   },
   {
    "duration": 66,
    "start_time": "2022-09-16T16:58:00.226Z"
   },
   {
    "duration": 44,
    "start_time": "2022-09-16T16:58:17.930Z"
   },
   {
    "duration": 26,
    "start_time": "2022-09-16T16:58:25.794Z"
   },
   {
    "duration": 44,
    "start_time": "2022-09-16T16:58:59.045Z"
   },
   {
    "duration": 2214,
    "start_time": "2022-09-16T16:59:46.430Z"
   },
   {
    "duration": 4374,
    "start_time": "2022-09-16T16:59:48.648Z"
   },
   {
    "duration": 25,
    "start_time": "2022-09-16T16:59:53.031Z"
   },
   {
    "duration": 17,
    "start_time": "2022-09-16T16:59:53.058Z"
   },
   {
    "duration": 54,
    "start_time": "2022-09-16T16:59:53.077Z"
   },
   {
    "duration": 5993,
    "start_time": "2022-09-16T16:59:53.133Z"
   },
   {
    "duration": 158,
    "start_time": "2022-09-16T16:59:59.128Z"
   },
   {
    "duration": 8,
    "start_time": "2022-09-16T17:00:53.592Z"
   },
   {
    "duration": 1794,
    "start_time": "2022-09-16T17:04:41.778Z"
   },
   {
    "duration": 1112,
    "start_time": "2022-09-16T17:04:43.939Z"
   },
   {
    "duration": 37,
    "start_time": "2022-09-16T17:04:46.085Z"
   },
   {
    "duration": 39,
    "start_time": "2022-09-16T17:04:48.247Z"
   },
   {
    "duration": 10,
    "start_time": "2022-09-16T17:04:51.031Z"
   },
   {
    "duration": 128,
    "start_time": "2022-09-16T17:05:33.490Z"
   },
   {
    "duration": 34,
    "start_time": "2022-09-16T17:05:59.056Z"
   },
   {
    "duration": 5,
    "start_time": "2022-09-16T17:06:03.852Z"
   },
   {
    "duration": 105,
    "start_time": "2022-09-16T17:06:05.202Z"
   },
   {
    "duration": 33,
    "start_time": "2022-09-16T17:06:17.042Z"
   },
   {
    "duration": 1682,
    "start_time": "2022-09-16T17:08:00.355Z"
   },
   {
    "duration": 1134,
    "start_time": "2022-09-16T17:08:02.039Z"
   },
   {
    "duration": 20,
    "start_time": "2022-09-16T17:08:03.175Z"
   },
   {
    "duration": 18,
    "start_time": "2022-09-16T17:08:03.254Z"
   },
   {
    "duration": 45,
    "start_time": "2022-09-16T17:08:10.935Z"
   },
   {
    "duration": 7522,
    "start_time": "2022-09-16T17:12:04.238Z"
   },
   {
    "duration": 1133,
    "start_time": "2022-09-16T17:12:57.760Z"
   },
   {
    "duration": 40619,
    "start_time": "2022-09-16T17:13:28.255Z"
   },
   {
    "duration": 10,
    "start_time": "2022-09-16T17:14:28.076Z"
   },
   {
    "duration": 1066,
    "start_time": "2022-09-16T17:14:28.092Z"
   },
   {
    "duration": 25,
    "start_time": "2022-09-16T17:14:29.170Z"
   },
   {
    "duration": 46,
    "start_time": "2022-09-16T17:14:29.200Z"
   },
   {
    "duration": 74,
    "start_time": "2022-09-16T17:14:29.252Z"
   },
   {
    "duration": 684,
    "start_time": "2022-09-16T17:14:29.332Z"
   },
   {
    "duration": 31,
    "start_time": "2022-09-16T17:14:36.847Z"
   },
   {
    "duration": 63951,
    "start_time": "2022-09-16T17:14:50.564Z"
   },
   {
    "duration": 4,
    "start_time": "2022-09-16T17:16:15.888Z"
   },
   {
    "duration": 19,
    "start_time": "2022-09-16T17:16:18.500Z"
   },
   {
    "duration": 730,
    "start_time": "2022-09-16T17:16:20.853Z"
   },
   {
    "duration": 5435,
    "start_time": "2022-09-16T17:16:33.241Z"
   },
   {
    "duration": 1268,
    "start_time": "2022-09-16T17:16:40.243Z"
   },
   {
    "duration": 20,
    "start_time": "2022-09-16T17:16:41.517Z"
   },
   {
    "duration": 21,
    "start_time": "2022-09-16T17:16:41.542Z"
   },
   {
    "duration": 31,
    "start_time": "2022-09-16T17:16:42.732Z"
   },
   {
    "duration": 765,
    "start_time": "2022-09-16T17:16:43.637Z"
   },
   {
    "duration": 12194,
    "start_time": "2022-09-16T17:16:45.765Z"
   },
   {
    "duration": 26,
    "start_time": "2022-09-16T17:17:06.560Z"
   },
   {
    "duration": 38,
    "start_time": "2022-09-16T17:17:32.440Z"
   },
   {
    "duration": 21,
    "start_time": "2022-09-16T17:17:36.700Z"
   },
   {
    "duration": 6,
    "start_time": "2022-09-16T17:17:49.493Z"
   },
   {
    "duration": 22,
    "start_time": "2022-09-16T17:17:50.936Z"
   },
   {
    "duration": 21,
    "start_time": "2022-09-16T17:17:54.679Z"
   },
   {
    "duration": 285,
    "start_time": "2022-09-16T17:18:03.535Z"
   },
   {
    "duration": 438,
    "start_time": "2022-09-16T17:18:07.237Z"
   },
   {
    "duration": 18,
    "start_time": "2022-09-16T17:18:43.678Z"
   },
   {
    "duration": 36,
    "start_time": "2022-09-16T17:18:55.694Z"
   },
   {
    "duration": 10,
    "start_time": "2022-09-16T17:20:37.131Z"
   },
   {
    "duration": 5,
    "start_time": "2022-09-16T17:20:51.866Z"
   },
   {
    "duration": 6,
    "start_time": "2022-09-16T17:23:32.262Z"
   },
   {
    "duration": 38,
    "start_time": "2022-09-16T17:23:47.417Z"
   },
   {
    "duration": 36,
    "start_time": "2022-09-16T17:23:56.601Z"
   },
   {
    "duration": 43,
    "start_time": "2022-09-16T17:24:01.787Z"
   },
   {
    "duration": 33,
    "start_time": "2022-09-16T17:26:30.559Z"
   },
   {
    "duration": 26,
    "start_time": "2022-09-16T17:26:33.438Z"
   },
   {
    "duration": 4314,
    "start_time": "2022-09-16T17:27:20.251Z"
   },
   {
    "duration": 1118,
    "start_time": "2022-09-16T17:27:24.570Z"
   },
   {
    "duration": 14,
    "start_time": "2022-09-16T17:27:25.690Z"
   },
   {
    "duration": 42,
    "start_time": "2022-09-16T17:27:25.707Z"
   },
   {
    "duration": 29,
    "start_time": "2022-09-16T17:27:25.751Z"
   },
   {
    "duration": 705,
    "start_time": "2022-09-16T17:27:25.782Z"
   },
   {
    "duration": 10037,
    "start_time": "2022-09-16T17:27:28.038Z"
   },
   {
    "duration": 6,
    "start_time": "2022-09-16T17:27:38.078Z"
   },
   {
    "duration": 290,
    "start_time": "2022-09-16T17:28:36.635Z"
   },
   {
    "duration": 393,
    "start_time": "2022-09-16T17:28:43.577Z"
   },
   {
    "duration": 5,
    "start_time": "2022-09-16T17:30:50.947Z"
   },
   {
    "duration": 1232,
    "start_time": "2022-09-16T17:31:02.449Z"
   },
   {
    "duration": 1348,
    "start_time": "2022-09-16T17:31:39.093Z"
   },
   {
    "duration": 1224,
    "start_time": "2022-09-16T17:31:52.344Z"
   },
   {
    "duration": 1544,
    "start_time": "2022-09-16T17:31:58.960Z"
   },
   {
    "duration": 1288,
    "start_time": "2022-09-16T17:32:03.294Z"
   },
   {
    "duration": 14,
    "start_time": "2022-09-16T17:33:09.571Z"
   },
   {
    "duration": 14,
    "start_time": "2022-09-16T17:33:13.324Z"
   },
   {
    "duration": 8,
    "start_time": "2022-09-16T17:33:19.875Z"
   },
   {
    "duration": 4459,
    "start_time": "2022-09-16T17:39:02.255Z"
   },
   {
    "duration": 1336,
    "start_time": "2022-09-16T17:39:06.716Z"
   },
   {
    "duration": 27,
    "start_time": "2022-09-16T17:39:08.059Z"
   },
   {
    "duration": 124,
    "start_time": "2022-09-16T17:39:08.089Z"
   },
   {
    "duration": 25,
    "start_time": "2022-09-16T17:39:08.215Z"
   },
   {
    "duration": 990,
    "start_time": "2022-09-16T17:39:10.792Z"
   },
   {
    "duration": 22,
    "start_time": "2022-09-16T17:40:01.582Z"
   },
   {
    "duration": 10,
    "start_time": "2022-09-16T17:40:30.382Z"
   },
   {
    "duration": 298,
    "start_time": "2022-09-16T17:40:37.492Z"
   },
   {
    "duration": 443,
    "start_time": "2022-09-16T17:40:39.932Z"
   },
   {
    "duration": 32,
    "start_time": "2022-09-16T17:40:47.090Z"
   },
   {
    "duration": 7,
    "start_time": "2022-09-16T17:40:54.870Z"
   },
   {
    "duration": 727,
    "start_time": "2022-09-16T17:42:17.956Z"
   },
   {
    "duration": 9565,
    "start_time": "2022-09-16T17:42:20.792Z"
   },
   {
    "duration": 6,
    "start_time": "2022-09-16T17:42:31.564Z"
   },
   {
    "duration": 8,
    "start_time": "2022-09-16T17:43:06.543Z"
   },
   {
    "duration": 6,
    "start_time": "2022-09-16T17:43:08.430Z"
   },
   {
    "duration": 13,
    "start_time": "2022-09-16T17:43:10.347Z"
   },
   {
    "duration": 6,
    "start_time": "2022-09-16T17:43:14.300Z"
   },
   {
    "duration": 285,
    "start_time": "2022-09-16T17:43:20.381Z"
   },
   {
    "duration": 42,
    "start_time": "2022-09-16T17:43:46.650Z"
   },
   {
    "duration": 7,
    "start_time": "2022-09-16T17:43:53.134Z"
   },
   {
    "duration": 4,
    "start_time": "2022-09-16T17:43:56.684Z"
   },
   {
    "duration": 6226,
    "start_time": "2022-09-16T17:44:27.082Z"
   },
   {
    "duration": 842,
    "start_time": "2022-09-16T17:44:33.310Z"
   },
   {
    "duration": 19,
    "start_time": "2022-09-16T17:44:34.157Z"
   },
   {
    "duration": 5,
    "start_time": "2022-09-16T17:44:34.179Z"
   },
   {
    "duration": 57,
    "start_time": "2022-09-16T17:44:34.185Z"
   },
   {
    "duration": 614,
    "start_time": "2022-09-16T17:44:34.244Z"
   },
   {
    "duration": 4571,
    "start_time": "2022-09-17T06:40:25.228Z"
   },
   {
    "duration": 3430,
    "start_time": "2022-09-17T06:40:32.342Z"
   },
   {
    "duration": 15,
    "start_time": "2022-09-17T06:40:35.774Z"
   },
   {
    "duration": 33,
    "start_time": "2022-09-17T06:40:37.709Z"
   },
   {
    "duration": 592,
    "start_time": "2022-09-17T06:40:40.237Z"
   },
   {
    "duration": 11126,
    "start_time": "2022-09-17T06:40:43.601Z"
   },
   {
    "duration": 3,
    "start_time": "2022-09-17T06:41:04.814Z"
   },
   {
    "duration": 21260,
    "start_time": "2022-09-17T06:41:10.097Z"
   },
   {
    "duration": 983177,
    "start_time": "2022-09-17T06:42:15.027Z"
   },
   {
    "duration": 4414,
    "start_time": "2022-09-17T06:59:05.568Z"
   },
   {
    "duration": 970,
    "start_time": "2022-09-17T06:59:09.985Z"
   },
   {
    "duration": 14,
    "start_time": "2022-09-17T06:59:10.957Z"
   },
   {
    "duration": 35,
    "start_time": "2022-09-17T06:59:11.834Z"
   },
   {
    "duration": 25,
    "start_time": "2022-09-17T06:59:12.657Z"
   },
   {
    "duration": 509,
    "start_time": "2022-09-17T06:59:15.206Z"
   },
   {
    "duration": 3,
    "start_time": "2022-09-17T06:59:16.503Z"
   },
   {
    "duration": 37486,
    "start_time": "2022-09-17T06:59:18.047Z"
   },
   {
    "duration": 7,
    "start_time": "2022-09-17T07:00:00.597Z"
   },
   {
    "duration": 4248,
    "start_time": "2022-09-17T07:00:21.789Z"
   },
   {
    "duration": 850,
    "start_time": "2022-09-17T07:00:26.039Z"
   },
   {
    "duration": 15,
    "start_time": "2022-09-17T07:00:26.891Z"
   },
   {
    "duration": 27,
    "start_time": "2022-09-17T07:00:26.907Z"
   },
   {
    "duration": 16,
    "start_time": "2022-09-17T07:00:26.938Z"
   },
   {
    "duration": 526,
    "start_time": "2022-09-17T07:00:26.957Z"
   },
   {
    "duration": 4,
    "start_time": "2022-09-17T07:00:27.485Z"
   },
   {
    "duration": 16499,
    "start_time": "2022-09-17T07:00:27.491Z"
   },
   {
    "duration": 0,
    "start_time": "2022-09-17T07:00:43.992Z"
   },
   {
    "duration": 0,
    "start_time": "2022-09-17T07:00:43.993Z"
   },
   {
    "duration": 0,
    "start_time": "2022-09-17T07:00:43.994Z"
   },
   {
    "duration": 0,
    "start_time": "2022-09-17T07:00:43.995Z"
   },
   {
    "duration": 4237,
    "start_time": "2022-09-17T07:00:59.677Z"
   },
   {
    "duration": 848,
    "start_time": "2022-09-17T07:01:03.916Z"
   },
   {
    "duration": 21,
    "start_time": "2022-09-17T07:01:04.768Z"
   },
   {
    "duration": 20,
    "start_time": "2022-09-17T07:01:04.792Z"
   },
   {
    "duration": 12,
    "start_time": "2022-09-17T07:01:04.814Z"
   },
   {
    "duration": 511,
    "start_time": "2022-09-17T07:01:04.828Z"
   },
   {
    "duration": 3,
    "start_time": "2022-09-17T07:01:05.341Z"
   },
   {
    "duration": 18465,
    "start_time": "2022-09-17T07:01:05.346Z"
   },
   {
    "duration": 10,
    "start_time": "2022-09-17T07:01:23.813Z"
   },
   {
    "duration": 7,
    "start_time": "2022-09-17T07:01:23.824Z"
   },
   {
    "duration": 6,
    "start_time": "2022-09-17T07:01:23.833Z"
   },
   {
    "duration": 288,
    "start_time": "2022-09-17T07:01:23.841Z"
   },
   {
    "duration": 38,
    "start_time": "2022-09-17T07:08:32.212Z"
   },
   {
    "duration": 509,
    "start_time": "2022-09-17T07:09:59.104Z"
   },
   {
    "duration": 4,
    "start_time": "2022-09-17T07:10:39.320Z"
   },
   {
    "duration": 21,
    "start_time": "2022-09-17T07:10:45.023Z"
   },
   {
    "duration": 36,
    "start_time": "2022-09-17T07:10:53.618Z"
   },
   {
    "duration": 28,
    "start_time": "2022-09-17T07:11:15.308Z"
   },
   {
    "duration": 338,
    "start_time": "2022-09-17T07:22:09.484Z"
   },
   {
    "duration": 498,
    "start_time": "2022-09-17T07:22:24.725Z"
   },
   {
    "duration": 343,
    "start_time": "2022-09-17T07:23:33.548Z"
   },
   {
    "duration": 23,
    "start_time": "2022-09-17T07:24:11.859Z"
   },
   {
    "duration": 4586,
    "start_time": "2022-09-17T07:24:15.649Z"
   },
   {
    "duration": 26,
    "start_time": "2022-09-17T08:21:51.316Z"
   },
   {
    "duration": 23,
    "start_time": "2022-09-17T08:22:23.604Z"
   },
   {
    "duration": 15,
    "start_time": "2022-09-17T08:22:51.031Z"
   },
   {
    "duration": 183,
    "start_time": "2022-09-17T08:23:12.506Z"
   },
   {
    "duration": 190,
    "start_time": "2022-09-17T08:23:16.120Z"
   },
   {
    "duration": 15,
    "start_time": "2022-09-17T08:24:33.714Z"
   },
   {
    "duration": 4385,
    "start_time": "2022-09-17T08:27:58.767Z"
   },
   {
    "duration": 864,
    "start_time": "2022-09-17T08:28:03.154Z"
   },
   {
    "duration": 13,
    "start_time": "2022-09-17T08:28:04.020Z"
   },
   {
    "duration": 38,
    "start_time": "2022-09-17T08:28:04.035Z"
   },
   {
    "duration": 21,
    "start_time": "2022-09-17T08:28:04.075Z"
   },
   {
    "duration": 505,
    "start_time": "2022-09-17T08:28:04.097Z"
   },
   {
    "duration": 3,
    "start_time": "2022-09-17T08:28:04.604Z"
   },
   {
    "duration": 17684,
    "start_time": "2022-09-17T08:28:04.609Z"
   },
   {
    "duration": 9,
    "start_time": "2022-09-17T08:28:22.296Z"
   },
   {
    "duration": 4,
    "start_time": "2022-09-17T08:28:22.308Z"
   },
   {
    "duration": 7,
    "start_time": "2022-09-17T08:28:22.313Z"
   },
   {
    "duration": 285,
    "start_time": "2022-09-17T08:28:22.321Z"
   },
   {
    "duration": 252,
    "start_time": "2022-09-17T08:28:22.607Z"
   },
   {
    "duration": 32,
    "start_time": "2022-09-17T08:28:22.861Z"
   },
   {
    "duration": 296,
    "start_time": "2022-09-17T08:28:22.895Z"
   },
   {
    "duration": 12,
    "start_time": "2022-09-17T08:28:23.193Z"
   },
   {
    "duration": 3845,
    "start_time": "2022-09-17T08:28:23.207Z"
   },
   {
    "duration": 148,
    "start_time": "2022-09-17T08:28:27.054Z"
   },
   {
    "duration": 16,
    "start_time": "2022-09-17T08:28:27.204Z"
   },
   {
    "duration": 11121,
    "start_time": "2022-09-17T08:37:25.105Z"
   },
   {
    "duration": 185,
    "start_time": "2022-09-17T08:37:42.831Z"
   },
   {
    "duration": 601,
    "start_time": "2022-09-17T08:49:57.604Z"
   },
   {
    "duration": 5656,
    "start_time": "2022-09-17T08:50:18.641Z"
   },
   {
    "duration": 113,
    "start_time": "2022-09-17T08:50:24.300Z"
   },
   {
    "duration": 4561,
    "start_time": "2022-09-17T08:50:24.416Z"
   },
   {
    "duration": 986,
    "start_time": "2022-09-17T08:50:28.978Z"
   },
   {
    "duration": 58,
    "start_time": "2022-09-17T08:50:29.967Z"
   },
   {
    "duration": 60,
    "start_time": "2022-09-17T08:50:30.026Z"
   },
   {
    "duration": 57,
    "start_time": "2022-09-17T08:50:30.089Z"
   },
   {
    "duration": 583,
    "start_time": "2022-09-17T08:50:30.148Z"
   },
   {
    "duration": 41,
    "start_time": "2022-09-17T08:50:30.734Z"
   },
   {
    "duration": 18821,
    "start_time": "2022-09-17T08:50:30.776Z"
   },
   {
    "duration": 46,
    "start_time": "2022-09-17T08:50:49.600Z"
   },
   {
    "duration": 49,
    "start_time": "2022-09-17T08:50:49.647Z"
   },
   {
    "duration": 48,
    "start_time": "2022-09-17T08:50:49.698Z"
   },
   {
    "duration": 237,
    "start_time": "2022-09-17T08:50:49.748Z"
   },
   {
    "duration": 293,
    "start_time": "2022-09-17T08:50:49.987Z"
   },
   {
    "duration": 88,
    "start_time": "2022-09-17T08:50:50.290Z"
   },
   {
    "duration": 312,
    "start_time": "2022-09-17T08:50:50.380Z"
   },
   {
    "duration": 63,
    "start_time": "2022-09-17T08:50:50.695Z"
   },
   {
    "duration": 10506,
    "start_time": "2022-09-17T08:50:50.760Z"
   },
   {
    "duration": 268,
    "start_time": "2022-09-17T08:51:01.268Z"
   },
   {
    "duration": 506,
    "start_time": "2022-09-17T08:51:21.275Z"
   },
   {
    "duration": 87,
    "start_time": "2022-09-17T08:51:24.858Z"
   },
   {
    "duration": 344,
    "start_time": "2022-09-17T08:51:28.224Z"
   },
   {
    "duration": 50,
    "start_time": "2022-09-17T08:51:29.918Z"
   },
   {
    "duration": 11304,
    "start_time": "2022-09-17T08:51:37.362Z"
   },
   {
    "duration": 4383,
    "start_time": "2022-09-17T08:51:52.744Z"
   },
   {
    "duration": 210,
    "start_time": "2022-09-17T08:52:03.004Z"
   },
   {
    "duration": 380,
    "start_time": "2022-09-17T08:53:51.170Z"
   },
   {
    "duration": 73971,
    "start_time": "2022-09-17T08:54:01.020Z"
   },
   {
    "duration": 981,
    "start_time": "2022-09-17T08:56:03.853Z"
   },
   {
    "duration": 1025,
    "start_time": "2022-09-17T08:58:37.508Z"
   },
   {
    "duration": 7508,
    "start_time": "2022-09-17T08:59:02.150Z"
   },
   {
    "duration": 184,
    "start_time": "2022-09-17T08:59:12.321Z"
   },
   {
    "duration": 35,
    "start_time": "2022-09-17T08:59:17.505Z"
   },
   {
    "duration": 25,
    "start_time": "2022-09-17T08:59:26.807Z"
   },
   {
    "duration": 2283,
    "start_time": "2022-09-17T08:59:41.442Z"
   },
   {
    "duration": 103,
    "start_time": "2022-09-17T08:59:43.728Z"
   },
   {
    "duration": 4144,
    "start_time": "2022-09-17T08:59:43.833Z"
   },
   {
    "duration": 890,
    "start_time": "2022-09-17T08:59:47.979Z"
   },
   {
    "duration": 59,
    "start_time": "2022-09-17T08:59:48.871Z"
   },
   {
    "duration": 66,
    "start_time": "2022-09-17T08:59:48.932Z"
   },
   {
    "duration": 56,
    "start_time": "2022-09-17T08:59:49.000Z"
   },
   {
    "duration": 555,
    "start_time": "2022-09-17T08:59:49.058Z"
   },
   {
    "duration": 43,
    "start_time": "2022-09-17T08:59:49.615Z"
   },
   {
    "duration": 17688,
    "start_time": "2022-09-17T08:59:49.660Z"
   },
   {
    "duration": 48,
    "start_time": "2022-09-17T09:00:07.350Z"
   },
   {
    "duration": 42,
    "start_time": "2022-09-17T09:00:07.400Z"
   },
   {
    "duration": 45,
    "start_time": "2022-09-17T09:00:07.443Z"
   },
   {
    "duration": 251,
    "start_time": "2022-09-17T09:00:07.491Z"
   },
   {
    "duration": 277,
    "start_time": "2022-09-17T09:00:07.743Z"
   },
   {
    "duration": 66,
    "start_time": "2022-09-17T09:00:08.021Z"
   },
   {
    "duration": 319,
    "start_time": "2022-09-17T09:00:08.089Z"
   },
   {
    "duration": 56,
    "start_time": "2022-09-17T09:00:08.410Z"
   },
   {
    "duration": 7883,
    "start_time": "2022-09-17T09:00:08.468Z"
   },
   {
    "duration": 186,
    "start_time": "2022-09-17T09:00:16.352Z"
   },
   {
    "duration": 2579,
    "start_time": "2022-09-17T09:09:56.310Z"
   },
   {
    "duration": 127,
    "start_time": "2022-09-17T09:09:58.891Z"
   },
   {
    "duration": 4681,
    "start_time": "2022-09-17T09:09:59.020Z"
   },
   {
    "duration": 948,
    "start_time": "2022-09-17T09:10:03.705Z"
   },
   {
    "duration": 77,
    "start_time": "2022-09-17T09:10:04.656Z"
   },
   {
    "duration": 69,
    "start_time": "2022-09-17T09:10:04.735Z"
   },
   {
    "duration": 55,
    "start_time": "2022-09-17T09:10:04.806Z"
   },
   {
    "duration": 643,
    "start_time": "2022-09-17T09:10:04.863Z"
   },
   {
    "duration": 43,
    "start_time": "2022-09-17T09:10:05.509Z"
   },
   {
    "duration": 18769,
    "start_time": "2022-09-17T09:10:05.554Z"
   },
   {
    "duration": 43,
    "start_time": "2022-09-17T09:10:24.325Z"
   },
   {
    "duration": 55,
    "start_time": "2022-09-17T09:10:24.370Z"
   },
   {
    "duration": 46,
    "start_time": "2022-09-17T09:10:24.429Z"
   },
   {
    "duration": 224,
    "start_time": "2022-09-17T09:10:24.477Z"
   },
   {
    "duration": 271,
    "start_time": "2022-09-17T09:10:24.703Z"
   },
   {
    "duration": 80,
    "start_time": "2022-09-17T09:10:24.976Z"
   },
   {
    "duration": 351,
    "start_time": "2022-09-17T09:10:25.058Z"
   },
   {
    "duration": 60,
    "start_time": "2022-09-17T09:10:25.411Z"
   },
   {
    "duration": 8161,
    "start_time": "2022-09-17T09:10:25.472Z"
   },
   {
    "duration": 189,
    "start_time": "2022-09-17T09:10:33.634Z"
   },
   {
    "duration": 556588,
    "start_time": "2022-09-17T09:10:33.825Z"
   },
   {
    "duration": 5623,
    "start_time": "2022-09-17T09:19:50.415Z"
   },
   {
    "duration": 22,
    "start_time": "2022-09-17T09:19:56.040Z"
   },
   {
    "duration": 3,
    "start_time": "2022-09-17T10:57:20.481Z"
   },
   {
    "duration": 2,
    "start_time": "2022-09-17T10:57:20.489Z"
   },
   {
    "duration": 4888,
    "start_time": "2022-09-17T10:57:20.492Z"
   },
   {
    "duration": 3334,
    "start_time": "2022-09-17T10:57:25.381Z"
   },
   {
    "duration": 12,
    "start_time": "2022-09-17T10:57:28.717Z"
   },
   {
    "duration": 21,
    "start_time": "2022-09-17T10:57:28.731Z"
   },
   {
    "duration": 11,
    "start_time": "2022-09-17T10:57:28.754Z"
   },
   {
    "duration": 579,
    "start_time": "2022-09-17T10:57:28.767Z"
   },
   {
    "duration": 3,
    "start_time": "2022-09-17T10:57:29.348Z"
   },
   {
    "duration": 15890,
    "start_time": "2022-09-17T10:57:29.352Z"
   },
   {
    "duration": 9,
    "start_time": "2022-09-17T10:57:45.243Z"
   },
   {
    "duration": 13,
    "start_time": "2022-09-17T10:57:45.253Z"
   },
   {
    "duration": 7,
    "start_time": "2022-09-17T10:57:45.267Z"
   },
   {
    "duration": 207,
    "start_time": "2022-09-17T10:57:45.276Z"
   },
   {
    "duration": 314,
    "start_time": "2022-09-17T10:58:01.576Z"
   },
   {
    "duration": 210,
    "start_time": "2022-09-17T10:58:12.367Z"
   },
   {
    "duration": 20,
    "start_time": "2022-09-17T10:58:15.968Z"
   },
   {
    "duration": 254,
    "start_time": "2022-09-17T10:58:22.011Z"
   },
   {
    "duration": 9,
    "start_time": "2022-09-17T10:58:25.526Z"
   },
   {
    "duration": 6696,
    "start_time": "2022-09-17T10:58:27.274Z"
   },
   {
    "duration": 126,
    "start_time": "2022-09-17T10:58:41.147Z"
   },
   {
    "duration": 419020,
    "start_time": "2022-09-17T10:58:48.169Z"
   },
   {
    "duration": 4,
    "start_time": "2022-09-17T15:49:46.382Z"
   },
   {
    "duration": 12,
    "start_time": "2022-09-17T15:49:46.388Z"
   },
   {
    "duration": 3882,
    "start_time": "2022-09-17T15:49:46.401Z"
   },
   {
    "duration": 3192,
    "start_time": "2022-09-17T15:49:50.285Z"
   },
   {
    "duration": 9,
    "start_time": "2022-09-17T15:49:53.479Z"
   },
   {
    "duration": 17,
    "start_time": "2022-09-17T15:49:53.489Z"
   },
   {
    "duration": 10,
    "start_time": "2022-09-17T15:49:53.508Z"
   },
   {
    "duration": 451,
    "start_time": "2022-09-17T15:49:53.521Z"
   },
   {
    "duration": 3,
    "start_time": "2022-09-17T15:49:53.973Z"
   },
   {
    "duration": 14580,
    "start_time": "2022-09-17T15:49:53.977Z"
   },
   {
    "duration": 291,
    "start_time": "2022-09-17T15:50:10.846Z"
   },
   {
    "duration": 4,
    "start_time": "2022-09-17T15:50:27.371Z"
   },
   {
    "duration": 16,
    "start_time": "2022-09-17T15:50:32.151Z"
   },
   {
    "duration": 50,
    "start_time": "2022-09-17T15:50:43.467Z"
   },
   {
    "duration": 9,
    "start_time": "2022-09-17T15:50:49.828Z"
   },
   {
    "duration": 10,
    "start_time": "2022-09-17T15:51:07.075Z"
   },
   {
    "duration": 4,
    "start_time": "2022-09-17T15:51:08.827Z"
   },
   {
    "duration": 10,
    "start_time": "2022-09-17T15:51:21.262Z"
   },
   {
    "duration": 5,
    "start_time": "2022-09-17T15:51:22.792Z"
   },
   {
    "duration": 3,
    "start_time": "2022-09-17T15:52:05.537Z"
   },
   {
    "duration": 12,
    "start_time": "2022-09-17T15:52:05.541Z"
   },
   {
    "duration": 3723,
    "start_time": "2022-09-17T15:52:05.554Z"
   },
   {
    "duration": 686,
    "start_time": "2022-09-17T15:52:09.279Z"
   },
   {
    "duration": 8,
    "start_time": "2022-09-17T15:52:09.966Z"
   },
   {
    "duration": 21,
    "start_time": "2022-09-17T15:52:09.976Z"
   },
   {
    "duration": 15,
    "start_time": "2022-09-17T15:52:09.998Z"
   },
   {
    "duration": 418,
    "start_time": "2022-09-17T15:52:10.014Z"
   },
   {
    "duration": 2,
    "start_time": "2022-09-17T15:52:10.434Z"
   },
   {
    "duration": 15594,
    "start_time": "2022-09-17T15:52:10.438Z"
   },
   {
    "duration": 10,
    "start_time": "2022-09-17T15:52:33.951Z"
   },
   {
    "duration": 11,
    "start_time": "2022-09-17T15:55:08.300Z"
   },
   {
    "duration": 5,
    "start_time": "2022-09-17T15:55:13.788Z"
   },
   {
    "duration": 7,
    "start_time": "2022-09-17T15:55:26.506Z"
   },
   {
    "duration": 5,
    "start_time": "2022-09-17T15:55:28.022Z"
   },
   {
    "duration": 327,
    "start_time": "2022-09-17T16:06:56.000Z"
   },
   {
    "duration": 4,
    "start_time": "2022-09-17T16:07:18.348Z"
   },
   {
    "duration": 4,
    "start_time": "2022-09-17T16:07:18.354Z"
   },
   {
    "duration": 3575,
    "start_time": "2022-09-17T16:07:18.360Z"
   },
   {
    "duration": 680,
    "start_time": "2022-09-17T16:07:21.937Z"
   },
   {
    "duration": 8,
    "start_time": "2022-09-17T16:07:22.619Z"
   },
   {
    "duration": 32,
    "start_time": "2022-09-17T16:07:22.628Z"
   },
   {
    "duration": 13,
    "start_time": "2022-09-17T16:07:22.662Z"
   },
   {
    "duration": 403,
    "start_time": "2022-09-17T16:07:22.676Z"
   },
   {
    "duration": 3,
    "start_time": "2022-09-17T16:07:23.081Z"
   },
   {
    "duration": 14667,
    "start_time": "2022-09-17T16:07:23.085Z"
   },
   {
    "duration": 12,
    "start_time": "2022-09-17T16:07:37.754Z"
   },
   {
    "duration": 4,
    "start_time": "2022-09-17T16:07:37.768Z"
   },
   {
    "duration": 5,
    "start_time": "2022-09-17T16:07:37.773Z"
   },
   {
    "duration": 264,
    "start_time": "2022-09-17T16:07:37.781Z"
   },
   {
    "duration": 235,
    "start_time": "2022-09-17T16:08:17.318Z"
   },
   {
    "duration": 20,
    "start_time": "2022-09-17T16:08:24.330Z"
   },
   {
    "duration": 238,
    "start_time": "2022-09-17T16:08:27.101Z"
   },
   {
    "duration": 14,
    "start_time": "2022-09-17T16:08:29.580Z"
   },
   {
    "duration": 41784,
    "start_time": "2022-09-17T16:08:40.878Z"
   },
   {
    "duration": 175,
    "start_time": "2022-09-17T16:09:27.608Z"
   },
   {
    "duration": 433,
    "start_time": "2022-09-17T16:11:38.034Z"
   },
   {
    "duration": 21,
    "start_time": "2022-09-17T16:11:42.063Z"
   },
   {
    "duration": 231,
    "start_time": "2022-09-17T16:11:49.080Z"
   },
   {
    "duration": 10,
    "start_time": "2022-09-17T16:11:51.432Z"
   },
   {
    "duration": 16990,
    "start_time": "2022-09-17T16:12:01.826Z"
   },
   {
    "duration": 150,
    "start_time": "2022-09-17T16:12:25.336Z"
   },
   {
    "duration": 6102,
    "start_time": "2022-09-17T16:12:38.946Z"
   },
   {
    "duration": 131,
    "start_time": "2022-09-17T16:12:48.088Z"
   },
   {
    "duration": 265,
    "start_time": "2022-09-17T16:13:29.974Z"
   },
   {
    "duration": 9,
    "start_time": "2022-09-17T16:13:31.677Z"
   },
   {
    "duration": 5993,
    "start_time": "2022-09-17T16:13:37.065Z"
   },
   {
    "duration": 142,
    "start_time": "2022-09-17T16:13:46.509Z"
   },
   {
    "duration": 155,
    "start_time": "2022-09-17T16:15:11.485Z"
   },
   {
    "duration": 143,
    "start_time": "2022-09-17T16:15:16.495Z"
   },
   {
    "duration": 129,
    "start_time": "2022-09-17T16:15:19.578Z"
   },
   {
    "duration": 132,
    "start_time": "2022-09-17T16:15:23.068Z"
   },
   {
    "duration": 142,
    "start_time": "2022-09-17T16:15:25.818Z"
   },
   {
    "duration": 148,
    "start_time": "2022-09-17T16:15:28.829Z"
   },
   {
    "duration": 160,
    "start_time": "2022-09-17T16:15:35.529Z"
   },
   {
    "duration": 173,
    "start_time": "2022-09-17T16:15:40.393Z"
   },
   {
    "duration": 132,
    "start_time": "2022-09-17T16:15:43.806Z"
   },
   {
    "duration": 141,
    "start_time": "2022-09-17T16:15:46.215Z"
   },
   {
    "duration": 140,
    "start_time": "2022-09-17T16:15:48.509Z"
   },
   {
    "duration": 145,
    "start_time": "2022-09-17T16:15:50.969Z"
   },
   {
    "duration": 134,
    "start_time": "2022-09-17T16:15:53.233Z"
   },
   {
    "duration": 145,
    "start_time": "2022-09-17T16:15:55.139Z"
   },
   {
    "duration": 140,
    "start_time": "2022-09-17T16:16:01.393Z"
   },
   {
    "duration": 142,
    "start_time": "2022-09-17T16:16:04.436Z"
   },
   {
    "duration": 149,
    "start_time": "2022-09-17T16:16:07.089Z"
   },
   {
    "duration": 127,
    "start_time": "2022-09-17T16:16:25.539Z"
   },
   {
    "duration": 145,
    "start_time": "2022-09-17T16:16:47.219Z"
   },
   {
    "duration": 143,
    "start_time": "2022-09-17T16:17:03.910Z"
   },
   {
    "duration": 5,
    "start_time": "2022-09-17T16:17:06.558Z"
   },
   {
    "duration": 138,
    "start_time": "2022-09-17T16:17:10.337Z"
   },
   {
    "duration": 6205,
    "start_time": "2022-09-17T16:17:29.355Z"
   },
   {
    "duration": 133,
    "start_time": "2022-09-17T16:17:37.582Z"
   },
   {
    "duration": 5,
    "start_time": "2022-09-17T16:17:45.705Z"
   },
   {
    "duration": 138,
    "start_time": "2022-09-17T16:17:50.600Z"
   },
   {
    "duration": 120,
    "start_time": "2022-09-17T16:18:13.884Z"
   },
   {
    "duration": 14,
    "start_time": "2022-09-17T16:18:57.297Z"
   },
   {
    "duration": 6,
    "start_time": "2022-09-17T16:19:06.251Z"
   },
   {
    "duration": 294,
    "start_time": "2022-09-17T16:27:42.855Z"
   },
   {
    "duration": 3,
    "start_time": "2022-09-17T16:27:47.640Z"
   },
   {
    "duration": 38,
    "start_time": "2022-09-17T16:27:48.988Z"
   },
   {
    "duration": 5,
    "start_time": "2022-09-17T16:34:54.605Z"
   },
   {
    "duration": 5,
    "start_time": "2022-09-17T16:34:54.612Z"
   },
   {
    "duration": 3785,
    "start_time": "2022-09-17T16:34:54.618Z"
   },
   {
    "duration": 669,
    "start_time": "2022-09-17T16:34:58.405Z"
   },
   {
    "duration": 8,
    "start_time": "2022-09-17T16:34:59.076Z"
   },
   {
    "duration": 19,
    "start_time": "2022-09-17T16:34:59.086Z"
   },
   {
    "duration": 19,
    "start_time": "2022-09-17T16:34:59.106Z"
   },
   {
    "duration": 422,
    "start_time": "2022-09-17T16:34:59.127Z"
   },
   {
    "duration": 3,
    "start_time": "2022-09-17T16:34:59.551Z"
   },
   {
    "duration": 14915,
    "start_time": "2022-09-17T16:34:59.556Z"
   },
   {
    "duration": 13,
    "start_time": "2022-09-17T16:35:14.472Z"
   },
   {
    "duration": 5,
    "start_time": "2022-09-17T16:35:14.487Z"
   },
   {
    "duration": 8,
    "start_time": "2022-09-17T16:35:14.494Z"
   },
   {
    "duration": 211,
    "start_time": "2022-09-17T16:35:14.504Z"
   },
   {
    "duration": 326,
    "start_time": "2022-09-17T16:36:40.779Z"
   },
   {
    "duration": 37,
    "start_time": "2022-09-17T16:37:18.539Z"
   },
   {
    "duration": 19,
    "start_time": "2022-09-17T16:38:34.328Z"
   },
   {
    "duration": 19,
    "start_time": "2022-09-17T16:38:46.885Z"
   },
   {
    "duration": 41,
    "start_time": "2022-09-17T16:38:55.313Z"
   },
   {
    "duration": 33,
    "start_time": "2022-09-17T16:39:14.977Z"
   },
   {
    "duration": 17,
    "start_time": "2022-09-17T16:40:44.057Z"
   },
   {
    "duration": 35,
    "start_time": "2022-09-17T16:41:00.727Z"
   },
   {
    "duration": 57,
    "start_time": "2022-09-17T16:41:12.397Z"
   },
   {
    "duration": 36,
    "start_time": "2022-09-17T16:41:17.882Z"
   },
   {
    "duration": 717,
    "start_time": "2022-09-17T16:41:31.349Z"
   },
   {
    "duration": 33,
    "start_time": "2022-09-17T16:42:28.379Z"
   },
   {
    "duration": 18,
    "start_time": "2022-09-17T16:42:53.350Z"
   },
   {
    "duration": 38,
    "start_time": "2022-09-17T16:43:02.086Z"
   },
   {
    "duration": 37,
    "start_time": "2022-09-17T16:43:25.598Z"
   },
   {
    "duration": 33,
    "start_time": "2022-09-17T16:45:34.115Z"
   },
   {
    "duration": 34,
    "start_time": "2022-09-17T16:46:14.503Z"
   },
   {
    "duration": 33,
    "start_time": "2022-09-17T16:46:25.670Z"
   },
   {
    "duration": 38,
    "start_time": "2022-09-17T16:48:41.009Z"
   },
   {
    "duration": 448,
    "start_time": "2022-09-17T16:49:46.731Z"
   },
   {
    "duration": 26,
    "start_time": "2022-09-17T16:49:55.705Z"
   },
   {
    "duration": 426,
    "start_time": "2022-09-17T16:50:09.846Z"
   },
   {
    "duration": 884,
    "start_time": "2022-09-17T16:50:27.702Z"
   },
   {
    "duration": 21,
    "start_time": "2022-09-17T16:50:34.679Z"
   },
   {
    "duration": 37,
    "start_time": "2022-09-17T16:50:45.984Z"
   },
   {
    "duration": 42,
    "start_time": "2022-09-17T16:51:46.104Z"
   },
   {
    "duration": 34,
    "start_time": "2022-09-17T16:52:16.661Z"
   },
   {
    "duration": 32,
    "start_time": "2022-09-17T16:52:36.506Z"
   },
   {
    "duration": 20,
    "start_time": "2022-09-17T16:52:55.946Z"
   },
   {
    "duration": 32,
    "start_time": "2022-09-17T16:53:12.439Z"
   },
   {
    "duration": 19,
    "start_time": "2022-09-17T16:53:30.909Z"
   },
   {
    "duration": 49,
    "start_time": "2022-09-17T16:53:36.769Z"
   },
   {
    "duration": 15,
    "start_time": "2022-09-17T16:54:08.813Z"
   },
   {
    "duration": 16,
    "start_time": "2022-09-17T16:54:11.462Z"
   },
   {
    "duration": 19,
    "start_time": "2022-09-17T16:54:43.072Z"
   },
   {
    "duration": 16,
    "start_time": "2022-09-17T16:54:49.012Z"
   },
   {
    "duration": 32,
    "start_time": "2022-09-17T16:59:43.539Z"
   },
   {
    "duration": 31,
    "start_time": "2022-09-17T16:59:51.554Z"
   },
   {
    "duration": 17,
    "start_time": "2022-09-17T17:01:26.439Z"
   },
   {
    "duration": 5,
    "start_time": "2022-09-17T17:01:31.941Z"
   },
   {
    "duration": 904,
    "start_time": "2022-09-17T17:01:59.339Z"
   },
   {
    "duration": 4388,
    "start_time": "2022-09-17T17:03:09.656Z"
   },
   {
    "duration": 3,
    "start_time": "2022-09-17T17:03:46.548Z"
   },
   {
    "duration": 15,
    "start_time": "2022-09-17T17:04:25.633Z"
   },
   {
    "duration": 6,
    "start_time": "2022-09-17T17:04:29.743Z"
   },
   {
    "duration": 36,
    "start_time": "2022-09-17T17:05:00.270Z"
   },
   {
    "duration": 33,
    "start_time": "2022-09-17T17:05:11.862Z"
   },
   {
    "duration": 784,
    "start_time": "2022-09-17T17:05:24.411Z"
   },
   {
    "duration": 662,
    "start_time": "2022-09-17T17:05:37.043Z"
   },
   {
    "duration": 3,
    "start_time": "2022-09-17T17:05:52.484Z"
   },
   {
    "duration": 4,
    "start_time": "2022-09-17T17:07:20.357Z"
   },
   {
    "duration": 4,
    "start_time": "2022-09-17T17:07:20.363Z"
   },
   {
    "duration": 3548,
    "start_time": "2022-09-17T17:07:20.369Z"
   },
   {
    "duration": 665,
    "start_time": "2022-09-17T17:07:23.919Z"
   },
   {
    "duration": 10,
    "start_time": "2022-09-17T17:07:24.586Z"
   },
   {
    "duration": 26,
    "start_time": "2022-09-17T17:07:24.598Z"
   },
   {
    "duration": 15,
    "start_time": "2022-09-17T17:07:24.626Z"
   },
   {
    "duration": 428,
    "start_time": "2022-09-17T17:07:24.643Z"
   },
   {
    "duration": 2,
    "start_time": "2022-09-17T17:07:25.073Z"
   },
   {
    "duration": 14849,
    "start_time": "2022-09-17T17:07:25.077Z"
   },
   {
    "duration": 23,
    "start_time": "2022-09-17T17:07:39.927Z"
   },
   {
    "duration": 10,
    "start_time": "2022-09-17T17:07:39.951Z"
   },
   {
    "duration": 7,
    "start_time": "2022-09-17T17:07:39.963Z"
   },
   {
    "duration": 192,
    "start_time": "2022-09-17T17:07:39.972Z"
   },
   {
    "duration": 526,
    "start_time": "2022-09-17T17:07:46.947Z"
   },
   {
    "duration": 235,
    "start_time": "2022-09-17T17:08:13.869Z"
   },
   {
    "duration": 398,
    "start_time": "2022-09-17T17:09:34.982Z"
   },
   {
    "duration": 209,
    "start_time": "2022-09-17T17:09:43.540Z"
   },
   {
    "duration": 19,
    "start_time": "2022-09-17T17:09:51.836Z"
   },
   {
    "duration": 558,
    "start_time": "2022-09-17T17:10:13.092Z"
   },
   {
    "duration": 10,
    "start_time": "2022-09-17T17:10:34.039Z"
   },
   {
    "duration": 280,
    "start_time": "2022-09-17T17:11:45.610Z"
   },
   {
    "duration": 3,
    "start_time": "2022-09-17T17:11:53.340Z"
   },
   {
    "duration": 79,
    "start_time": "2022-09-17T17:11:55.039Z"
   },
   {
    "duration": 5009,
    "start_time": "2022-09-17T17:12:33.041Z"
   },
   {
    "duration": 3,
    "start_time": "2022-09-17T17:12:43.642Z"
   },
   {
    "duration": 559,
    "start_time": "2022-09-17T17:13:03.141Z"
   },
   {
    "duration": 3,
    "start_time": "2022-09-17T17:13:04.982Z"
   },
   {
    "duration": 62,
    "start_time": "2022-09-17T17:13:06.201Z"
   },
   {
    "duration": 3,
    "start_time": "2022-09-17T17:13:34.948Z"
   },
   {
    "duration": 86,
    "start_time": "2022-09-17T17:14:01.093Z"
   },
   {
    "duration": 3,
    "start_time": "2022-09-17T17:14:42.735Z"
   },
   {
    "duration": 5,
    "start_time": "2022-09-17T17:14:42.740Z"
   },
   {
    "duration": 3763,
    "start_time": "2022-09-17T17:14:42.746Z"
   },
   {
    "duration": 673,
    "start_time": "2022-09-17T17:14:46.511Z"
   },
   {
    "duration": 9,
    "start_time": "2022-09-17T17:14:47.185Z"
   },
   {
    "duration": 26,
    "start_time": "2022-09-17T17:14:47.195Z"
   },
   {
    "duration": 10,
    "start_time": "2022-09-17T17:14:47.223Z"
   },
   {
    "duration": 471,
    "start_time": "2022-09-17T17:14:47.235Z"
   },
   {
    "duration": 4,
    "start_time": "2022-09-17T17:14:47.708Z"
   },
   {
    "duration": 13604,
    "start_time": "2022-09-17T17:14:47.713Z"
   },
   {
    "duration": 11,
    "start_time": "2022-09-17T17:15:01.319Z"
   },
   {
    "duration": 13,
    "start_time": "2022-09-17T17:15:01.332Z"
   },
   {
    "duration": 14,
    "start_time": "2022-09-17T17:15:01.346Z"
   },
   {
    "duration": 446,
    "start_time": "2022-09-17T17:15:01.362Z"
   },
   {
    "duration": 0,
    "start_time": "2022-09-17T17:15:01.811Z"
   },
   {
    "duration": 0,
    "start_time": "2022-09-17T17:15:01.812Z"
   },
   {
    "duration": 0,
    "start_time": "2022-09-17T17:15:01.813Z"
   },
   {
    "duration": 0,
    "start_time": "2022-09-17T17:15:01.814Z"
   },
   {
    "duration": 0,
    "start_time": "2022-09-17T17:15:01.815Z"
   },
   {
    "duration": 0,
    "start_time": "2022-09-17T17:15:01.816Z"
   },
   {
    "duration": 4,
    "start_time": "2022-09-17T17:15:32.239Z"
   },
   {
    "duration": 536,
    "start_time": "2022-09-17T17:15:35.209Z"
   },
   {
    "duration": 4,
    "start_time": "2022-09-17T17:15:35.747Z"
   },
   {
    "duration": 58,
    "start_time": "2022-09-17T17:15:35.928Z"
   },
   {
    "duration": 4659,
    "start_time": "2022-09-17T17:15:38.551Z"
   },
   {
    "duration": 3,
    "start_time": "2022-09-17T17:15:43.212Z"
   },
   {
    "duration": 68,
    "start_time": "2022-09-17T17:15:43.222Z"
   },
   {
    "duration": 4320,
    "start_time": "2022-09-17T17:16:18.727Z"
   },
   {
    "duration": 5,
    "start_time": "2022-09-17T17:16:24.605Z"
   },
   {
    "duration": 60,
    "start_time": "2022-09-17T17:16:25.742Z"
   },
   {
    "duration": 20,
    "start_time": "2022-09-17T17:17:13.653Z"
   },
   {
    "duration": 38,
    "start_time": "2022-09-17T17:17:42.790Z"
   },
   {
    "duration": 7,
    "start_time": "2022-09-17T17:18:00.909Z"
   },
   {
    "duration": 16923,
    "start_time": "2022-09-17T17:18:28.855Z"
   },
   {
    "duration": 5,
    "start_time": "2022-09-17T17:19:22.755Z"
   },
   {
    "duration": 203,
    "start_time": "2022-09-17T17:19:49.199Z"
   },
   {
    "duration": 43,
    "start_time": "2022-09-17T17:20:59.510Z"
   },
   {
    "duration": 37,
    "start_time": "2022-09-17T17:21:18.194Z"
   },
   {
    "duration": 4,
    "start_time": "2022-09-17T17:21:22.994Z"
   },
   {
    "duration": 51036,
    "start_time": "2022-09-17T17:23:08.386Z"
   },
   {
    "duration": 3,
    "start_time": "2022-09-17T17:24:23.276Z"
   },
   {
    "duration": 2421,
    "start_time": "2022-09-17T17:24:42.316Z"
   },
   {
    "duration": 17279,
    "start_time": "2022-09-17T17:25:29.459Z"
   },
   {
    "duration": 16351,
    "start_time": "2022-09-17T17:25:54.203Z"
   },
   {
    "duration": 47571,
    "start_time": "2022-09-17T17:26:19.293Z"
   },
   {
    "duration": 3,
    "start_time": "2022-09-17T17:27:12.659Z"
   },
   {
    "duration": 196,
    "start_time": "2022-09-17T17:27:15.048Z"
   },
   {
    "duration": 7312,
    "start_time": "2022-09-17T17:27:20.953Z"
   },
   {
    "duration": 202,
    "start_time": "2022-09-17T17:27:32.057Z"
   },
   {
    "duration": 183,
    "start_time": "2022-09-17T17:27:35.058Z"
   },
   {
    "duration": 186,
    "start_time": "2022-09-17T17:27:36.240Z"
   },
   {
    "duration": 184,
    "start_time": "2022-09-17T17:27:37.093Z"
   },
   {
    "duration": 193,
    "start_time": "2022-09-17T17:27:37.843Z"
   },
   {
    "duration": 182,
    "start_time": "2022-09-17T17:27:38.469Z"
   },
   {
    "duration": 184,
    "start_time": "2022-09-17T17:27:39.049Z"
   },
   {
    "duration": 180,
    "start_time": "2022-09-17T17:27:39.580Z"
   },
   {
    "duration": 189,
    "start_time": "2022-09-17T17:27:40.058Z"
   },
   {
    "duration": 185,
    "start_time": "2022-09-17T17:27:40.523Z"
   },
   {
    "duration": 197,
    "start_time": "2022-09-17T17:27:40.952Z"
   },
   {
    "duration": 184,
    "start_time": "2022-09-17T17:27:41.437Z"
   },
   {
    "duration": 237,
    "start_time": "2022-09-17T17:27:41.898Z"
   },
   {
    "duration": 208,
    "start_time": "2022-09-17T17:27:42.366Z"
   },
   {
    "duration": 662,
    "start_time": "2022-09-17T17:27:45.775Z"
   },
   {
    "duration": 778,
    "start_time": "2022-09-17T17:27:47.257Z"
   },
   {
    "duration": 910,
    "start_time": "2022-09-17T17:27:48.718Z"
   },
   {
    "duration": 833,
    "start_time": "2022-09-17T17:27:50.206Z"
   },
   {
    "duration": 703,
    "start_time": "2022-09-17T17:27:51.433Z"
   },
   {
    "duration": 4,
    "start_time": "2022-09-17T17:30:25.402Z"
   },
   {
    "duration": 9,
    "start_time": "2022-09-17T17:30:25.407Z"
   },
   {
    "duration": 3724,
    "start_time": "2022-09-17T17:30:25.418Z"
   },
   {
    "duration": 661,
    "start_time": "2022-09-17T17:30:29.145Z"
   },
   {
    "duration": 10,
    "start_time": "2022-09-17T17:30:29.807Z"
   },
   {
    "duration": 17,
    "start_time": "2022-09-17T17:30:29.822Z"
   },
   {
    "duration": 11,
    "start_time": "2022-09-17T17:30:29.840Z"
   },
   {
    "duration": 437,
    "start_time": "2022-09-17T17:30:29.853Z"
   },
   {
    "duration": 3,
    "start_time": "2022-09-17T17:30:30.292Z"
   },
   {
    "duration": 74063,
    "start_time": "2022-09-17T17:30:30.298Z"
   },
   {
    "duration": 45,
    "start_time": "2022-09-17T17:31:44.363Z"
   },
   {
    "duration": 4,
    "start_time": "2022-09-17T17:33:07.380Z"
   },
   {
    "duration": 7,
    "start_time": "2022-09-17T17:33:07.875Z"
   },
   {
    "duration": 246,
    "start_time": "2022-09-17T17:33:09.828Z"
   },
   {
    "duration": 13706,
    "start_time": "2022-09-17T17:33:15.119Z"
   },
   {
    "duration": 3,
    "start_time": "2022-09-17T17:33:31.320Z"
   },
   {
    "duration": 1296,
    "start_time": "2022-09-17T17:33:32.958Z"
   },
   {
    "duration": 23918,
    "start_time": "2022-09-17T17:33:38.791Z"
   },
   {
    "duration": 3,
    "start_time": "2022-09-17T17:34:10.448Z"
   },
   {
    "duration": 388,
    "start_time": "2022-09-17T17:34:11.006Z"
   },
   {
    "duration": 16667,
    "start_time": "2022-09-17T17:34:16.006Z"
   },
   {
    "duration": 4,
    "start_time": "2022-09-17T17:34:32.675Z"
   },
   {
    "duration": 410,
    "start_time": "2022-09-17T17:34:32.680Z"
   },
   {
    "duration": 4,
    "start_time": "2022-09-17T17:39:50.323Z"
   },
   {
    "duration": 6,
    "start_time": "2022-09-17T17:39:50.328Z"
   },
   {
    "duration": 3787,
    "start_time": "2022-09-17T17:39:50.336Z"
   },
   {
    "duration": 670,
    "start_time": "2022-09-17T17:39:54.125Z"
   },
   {
    "duration": 11,
    "start_time": "2022-09-17T17:39:54.798Z"
   },
   {
    "duration": 29,
    "start_time": "2022-09-17T17:39:54.810Z"
   },
   {
    "duration": 11,
    "start_time": "2022-09-17T17:39:54.841Z"
   },
   {
    "duration": 478,
    "start_time": "2022-09-17T17:39:54.854Z"
   },
   {
    "duration": 3,
    "start_time": "2022-09-17T17:39:55.334Z"
   },
   {
    "duration": 75558,
    "start_time": "2022-09-17T17:39:55.338Z"
   },
   {
    "duration": 46,
    "start_time": "2022-09-17T17:41:10.899Z"
   },
   {
    "duration": 3,
    "start_time": "2022-09-17T17:41:10.947Z"
   },
   {
    "duration": 10,
    "start_time": "2022-09-17T17:41:10.952Z"
   },
   {
    "duration": 165,
    "start_time": "2022-09-17T17:41:10.963Z"
   },
   {
    "duration": 13693,
    "start_time": "2022-09-17T17:41:11.129Z"
   },
   {
    "duration": 5,
    "start_time": "2022-09-17T17:41:24.826Z"
   },
   {
    "duration": 714,
    "start_time": "2022-09-17T17:41:24.835Z"
   },
   {
    "duration": 23507,
    "start_time": "2022-09-17T17:41:25.551Z"
   },
   {
    "duration": 3,
    "start_time": "2022-09-17T17:41:49.060Z"
   },
   {
    "duration": 416,
    "start_time": "2022-09-17T17:41:49.064Z"
   },
   {
    "duration": 16317,
    "start_time": "2022-09-17T17:41:49.481Z"
   },
   {
    "duration": 3,
    "start_time": "2022-09-17T17:42:05.799Z"
   },
   {
    "duration": 505,
    "start_time": "2022-09-17T17:42:05.803Z"
   },
   {
    "duration": 616901,
    "start_time": "2022-09-17T17:42:06.309Z"
   },
   {
    "duration": 0,
    "start_time": "2022-09-17T17:52:23.212Z"
   },
   {
    "duration": 0,
    "start_time": "2022-09-17T17:52:23.213Z"
   },
   {
    "duration": 0,
    "start_time": "2022-09-17T17:52:23.213Z"
   },
   {
    "duration": 3,
    "start_time": "2022-09-17T17:52:36.933Z"
   },
   {
    "duration": 5,
    "start_time": "2022-09-17T17:52:36.938Z"
   },
   {
    "duration": 3702,
    "start_time": "2022-09-17T17:52:36.945Z"
   },
   {
    "duration": 673,
    "start_time": "2022-09-17T17:52:40.648Z"
   },
   {
    "duration": 10,
    "start_time": "2022-09-17T17:52:41.324Z"
   },
   {
    "duration": 21,
    "start_time": "2022-09-17T17:52:41.335Z"
   },
   {
    "duration": 12,
    "start_time": "2022-09-17T17:52:41.358Z"
   },
   {
    "duration": 462,
    "start_time": "2022-09-17T17:52:41.372Z"
   },
   {
    "duration": 3,
    "start_time": "2022-09-17T17:52:41.835Z"
   },
   {
    "duration": 14768,
    "start_time": "2022-09-17T17:52:41.840Z"
   },
   {
    "duration": 14,
    "start_time": "2022-09-17T17:52:56.611Z"
   },
   {
    "duration": 11,
    "start_time": "2022-09-17T17:52:56.626Z"
   },
   {
    "duration": 6,
    "start_time": "2022-09-17T17:52:56.638Z"
   },
   {
    "duration": 196,
    "start_time": "2022-09-17T17:52:56.645Z"
   },
   {
    "duration": 557,
    "start_time": "2022-09-17T17:52:56.842Z"
   },
   {
    "duration": 3,
    "start_time": "2022-09-17T17:52:57.400Z"
   },
   {
    "duration": 73,
    "start_time": "2022-09-17T17:52:57.405Z"
   },
   {
    "duration": 4865,
    "start_time": "2022-09-17T17:52:57.480Z"
   },
   {
    "duration": 2,
    "start_time": "2022-09-17T17:53:02.347Z"
   },
   {
    "duration": 69,
    "start_time": "2022-09-17T17:53:02.351Z"
   },
   {
    "duration": 7495,
    "start_time": "2022-09-17T17:53:02.421Z"
   },
   {
    "duration": 2,
    "start_time": "2022-09-17T17:53:09.921Z"
   },
   {
    "duration": 201,
    "start_time": "2022-09-17T17:53:09.924Z"
   },
   {
    "duration": 3,
    "start_time": "2022-09-17T17:59:24.323Z"
   },
   {
    "duration": 9,
    "start_time": "2022-09-17T17:59:24.328Z"
   },
   {
    "duration": 3835,
    "start_time": "2022-09-17T17:59:24.339Z"
   },
   {
    "duration": 656,
    "start_time": "2022-09-17T17:59:28.175Z"
   },
   {
    "duration": 11,
    "start_time": "2022-09-17T17:59:28.833Z"
   },
   {
    "duration": 18,
    "start_time": "2022-09-17T17:59:28.846Z"
   },
   {
    "duration": 10,
    "start_time": "2022-09-17T17:59:28.865Z"
   },
   {
    "duration": 441,
    "start_time": "2022-09-17T17:59:28.877Z"
   },
   {
    "duration": 3,
    "start_time": "2022-09-17T17:59:29.321Z"
   },
   {
    "duration": 15511,
    "start_time": "2022-09-17T17:59:29.325Z"
   },
   {
    "duration": 12,
    "start_time": "2022-09-17T17:59:44.837Z"
   },
   {
    "duration": 6,
    "start_time": "2022-09-17T17:59:44.851Z"
   },
   {
    "duration": 6,
    "start_time": "2022-09-17T17:59:44.858Z"
   },
   {
    "duration": 179,
    "start_time": "2022-09-17T17:59:44.867Z"
   },
   {
    "duration": 613,
    "start_time": "2022-09-17T17:59:45.048Z"
   },
   {
    "duration": 3,
    "start_time": "2022-09-17T17:59:45.663Z"
   },
   {
    "duration": 77,
    "start_time": "2022-09-17T17:59:45.667Z"
   },
   {
    "duration": 5501,
    "start_time": "2022-09-17T17:59:45.746Z"
   },
   {
    "duration": 3,
    "start_time": "2022-09-17T17:59:51.249Z"
   },
   {
    "duration": 90,
    "start_time": "2022-09-17T17:59:51.253Z"
   },
   {
    "duration": 80,
    "start_time": "2022-09-17T18:01:52.479Z"
   },
   {
    "duration": 128,
    "start_time": "2022-09-17T18:02:00.489Z"
   },
   {
    "duration": 21687,
    "start_time": "2022-09-17T18:02:10.068Z"
   },
   {
    "duration": 3,
    "start_time": "2022-09-17T18:02:43.472Z"
   },
   {
    "duration": 339,
    "start_time": "2022-09-17T18:02:44.476Z"
   },
   {
    "duration": 28783,
    "start_time": "2022-09-17T18:03:15.751Z"
   },
   {
    "duration": 3,
    "start_time": "2022-09-17T18:03:44.621Z"
   },
   {
    "duration": 501,
    "start_time": "2022-09-17T18:03:44.625Z"
   },
   {
    "duration": 19,
    "start_time": "2022-09-17T18:03:45.128Z"
   },
   {
    "duration": 13,
    "start_time": "2022-09-17T18:06:05.610Z"
   },
   {
    "duration": 632,
    "start_time": "2022-09-17T18:13:44.880Z"
   },
   {
    "duration": 3,
    "start_time": "2022-09-17T18:13:47.398Z"
   },
   {
    "duration": 63,
    "start_time": "2022-09-17T18:13:48.743Z"
   },
   {
    "duration": 4868,
    "start_time": "2022-09-17T18:13:58.690Z"
   },
   {
    "duration": 2,
    "start_time": "2022-09-17T18:14:06.333Z"
   },
   {
    "duration": 70,
    "start_time": "2022-09-17T18:14:08.180Z"
   },
   {
    "duration": 20367,
    "start_time": "2022-09-17T18:14:14.543Z"
   },
   {
    "duration": 3,
    "start_time": "2022-09-17T18:14:34.911Z"
   },
   {
    "duration": 333,
    "start_time": "2022-09-17T18:14:34.922Z"
   },
   {
    "duration": 16249,
    "start_time": "2022-09-17T18:15:29.184Z"
   },
   {
    "duration": 87,
    "start_time": "2022-09-17T18:15:45.435Z"
   },
   {
    "duration": 411,
    "start_time": "2022-09-17T18:15:45.523Z"
   },
   {
    "duration": 11,
    "start_time": "2022-09-17T18:15:45.936Z"
   },
   {
    "duration": 20293,
    "start_time": "2022-09-17T18:16:09.450Z"
   },
   {
    "duration": 3,
    "start_time": "2022-09-17T18:17:18.280Z"
   },
   {
    "duration": 30,
    "start_time": "2022-09-17T18:17:19.936Z"
   },
   {
    "duration": 20291,
    "start_time": "2022-09-17T18:17:29.841Z"
   },
   {
    "duration": 4,
    "start_time": "2022-09-17T18:17:50.133Z"
   },
   {
    "duration": 93,
    "start_time": "2022-09-17T18:17:50.138Z"
   },
   {
    "duration": 3,
    "start_time": "2022-09-17T18:18:55.078Z"
   },
   {
    "duration": 7,
    "start_time": "2022-09-17T18:18:55.083Z"
   },
   {
    "duration": 3673,
    "start_time": "2022-09-17T18:18:55.091Z"
   },
   {
    "duration": 645,
    "start_time": "2022-09-17T18:18:58.766Z"
   },
   {
    "duration": 9,
    "start_time": "2022-09-17T18:18:59.413Z"
   },
   {
    "duration": 19,
    "start_time": "2022-09-17T18:18:59.423Z"
   },
   {
    "duration": 15,
    "start_time": "2022-09-17T18:18:59.444Z"
   },
   {
    "duration": 421,
    "start_time": "2022-09-17T18:18:59.460Z"
   },
   {
    "duration": 3,
    "start_time": "2022-09-17T18:18:59.883Z"
   },
   {
    "duration": 15544,
    "start_time": "2022-09-17T18:18:59.889Z"
   },
   {
    "duration": 13,
    "start_time": "2022-09-17T18:19:15.434Z"
   },
   {
    "duration": 11,
    "start_time": "2022-09-17T18:19:15.449Z"
   },
   {
    "duration": 8,
    "start_time": "2022-09-17T18:19:15.461Z"
   },
   {
    "duration": 225,
    "start_time": "2022-09-17T18:19:15.470Z"
   },
   {
    "duration": 769,
    "start_time": "2022-09-17T18:19:15.696Z"
   },
   {
    "duration": 3,
    "start_time": "2022-09-17T18:19:16.467Z"
   },
   {
    "duration": 79,
    "start_time": "2022-09-17T18:19:16.472Z"
   },
   {
    "duration": 5695,
    "start_time": "2022-09-17T18:19:16.552Z"
   },
   {
    "duration": 2,
    "start_time": "2022-09-17T18:19:22.249Z"
   },
   {
    "duration": 71,
    "start_time": "2022-09-17T18:19:22.253Z"
   },
   {
    "duration": 22248,
    "start_time": "2022-09-17T18:19:22.325Z"
   },
   {
    "duration": 3,
    "start_time": "2022-09-17T18:19:44.575Z"
   },
   {
    "duration": 52,
    "start_time": "2022-09-17T18:19:44.580Z"
   },
   {
    "duration": 44499,
    "start_time": "2022-09-17T18:19:44.634Z"
   },
   {
    "duration": 2,
    "start_time": "2022-09-17T18:20:29.134Z"
   },
   {
    "duration": 92,
    "start_time": "2022-09-17T18:20:29.138Z"
   },
   {
    "duration": 19,
    "start_time": "2022-09-17T18:20:29.231Z"
   },
   {
    "duration": 3,
    "start_time": "2022-09-17T19:42:31.049Z"
   },
   {
    "duration": 7,
    "start_time": "2022-09-17T19:42:31.054Z"
   },
   {
    "duration": 3611,
    "start_time": "2022-09-17T19:42:31.063Z"
   },
   {
    "duration": 2094,
    "start_time": "2022-09-17T19:42:34.676Z"
   },
   {
    "duration": 12,
    "start_time": "2022-09-17T19:42:36.772Z"
   },
   {
    "duration": 21,
    "start_time": "2022-09-17T19:42:36.785Z"
   },
   {
    "duration": 11,
    "start_time": "2022-09-17T19:42:36.808Z"
   },
   {
    "duration": 423,
    "start_time": "2022-09-17T19:42:36.820Z"
   },
   {
    "duration": 3,
    "start_time": "2022-09-17T19:42:37.244Z"
   },
   {
    "duration": 14673,
    "start_time": "2022-09-17T19:42:37.249Z"
   },
   {
    "duration": 11,
    "start_time": "2022-09-17T19:42:51.924Z"
   },
   {
    "duration": 6,
    "start_time": "2022-09-17T19:42:51.937Z"
   },
   {
    "duration": 6,
    "start_time": "2022-09-17T19:42:51.944Z"
   },
   {
    "duration": 184,
    "start_time": "2022-09-17T19:42:51.951Z"
   },
   {
    "duration": 9,
    "start_time": "2022-09-17T19:44:02.958Z"
   },
   {
    "duration": 5,
    "start_time": "2022-09-17T19:44:07.435Z"
   },
   {
    "duration": 4,
    "start_time": "2022-09-17T19:44:13.277Z"
   },
   {
    "duration": 4,
    "start_time": "2022-09-17T19:44:17.936Z"
   },
   {
    "duration": 4,
    "start_time": "2022-09-17T19:56:22.544Z"
   },
   {
    "duration": 8,
    "start_time": "2022-09-17T19:56:22.549Z"
   },
   {
    "duration": 3709,
    "start_time": "2022-09-17T19:56:22.558Z"
   },
   {
    "duration": 686,
    "start_time": "2022-09-17T19:56:26.268Z"
   },
   {
    "duration": 11,
    "start_time": "2022-09-17T19:56:26.956Z"
   },
   {
    "duration": 27,
    "start_time": "2022-09-17T19:56:26.968Z"
   },
   {
    "duration": 19,
    "start_time": "2022-09-17T19:56:26.996Z"
   },
   {
    "duration": 414,
    "start_time": "2022-09-17T19:56:27.016Z"
   },
   {
    "duration": 3,
    "start_time": "2022-09-17T19:56:27.432Z"
   },
   {
    "duration": 16153,
    "start_time": "2022-09-17T19:56:27.437Z"
   },
   {
    "duration": 14,
    "start_time": "2022-09-17T19:56:43.591Z"
   },
   {
    "duration": 4,
    "start_time": "2022-09-17T19:56:58.883Z"
   },
   {
    "duration": 3,
    "start_time": "2022-09-17T19:57:01.901Z"
   },
   {
    "duration": 4,
    "start_time": "2022-09-17T20:00:01.677Z"
   },
   {
    "duration": 4,
    "start_time": "2022-09-17T20:00:57.250Z"
   },
   {
    "duration": 4,
    "start_time": "2022-09-17T20:01:00.472Z"
   },
   {
    "duration": 4,
    "start_time": "2022-09-17T20:01:16.872Z"
   },
   {
    "duration": 18,
    "start_time": "2022-09-17T20:01:21.782Z"
   },
   {
    "duration": 9,
    "start_time": "2022-09-17T20:01:37.794Z"
   },
   {
    "duration": 114,
    "start_time": "2022-09-17T20:01:44.791Z"
   },
   {
    "duration": 4,
    "start_time": "2022-09-17T20:02:02.173Z"
   },
   {
    "duration": 287,
    "start_time": "2022-09-17T20:02:10.518Z"
   },
   {
    "duration": 967,
    "start_time": "2022-09-17T20:02:23.720Z"
   },
   {
    "duration": 2,
    "start_time": "2022-09-17T20:02:26.771Z"
   },
   {
    "duration": 78,
    "start_time": "2022-09-17T20:02:28.326Z"
   },
   {
    "duration": 867,
    "start_time": "2022-09-17T20:02:42.223Z"
   },
   {
    "duration": 3,
    "start_time": "2022-09-17T20:02:44.676Z"
   },
   {
    "duration": 12,
    "start_time": "2022-09-17T20:02:46.114Z"
   },
   {
    "duration": 7620,
    "start_time": "2022-09-17T20:02:55.108Z"
   },
   {
    "duration": 3,
    "start_time": "2022-09-17T20:03:02.837Z"
   },
   {
    "duration": 14,
    "start_time": "2022-09-17T20:03:04.616Z"
   },
   {
    "duration": 24641,
    "start_time": "2022-09-17T20:03:14.843Z"
   },
   {
    "duration": 3,
    "start_time": "2022-09-17T20:03:39.485Z"
   },
   {
    "duration": 41,
    "start_time": "2022-09-17T20:03:39.489Z"
   },
   {
    "duration": 24002,
    "start_time": "2022-09-17T20:05:31.806Z"
   },
   {
    "duration": 2,
    "start_time": "2022-09-17T20:06:03.113Z"
   },
   {
    "duration": 14,
    "start_time": "2022-09-17T20:06:05.264Z"
   },
   {
    "duration": 978,
    "start_time": "2022-09-17T20:06:37.446Z"
   },
   {
    "duration": 15,
    "start_time": "2022-09-17T20:06:50.467Z"
   },
   {
    "duration": 5,
    "start_time": "2022-09-17T20:07:12.641Z"
   },
   {
    "duration": 5,
    "start_time": "2022-09-17T20:07:29.110Z"
   },
   {
    "duration": 4,
    "start_time": "2022-09-17T20:07:33.911Z"
   },
   {
    "duration": 5,
    "start_time": "2022-09-17T20:07:39.813Z"
   },
   {
    "duration": 4,
    "start_time": "2022-09-17T20:27:44.403Z"
   },
   {
    "duration": 17,
    "start_time": "2022-09-17T20:27:44.408Z"
   },
   {
    "duration": 3682,
    "start_time": "2022-09-17T20:27:44.427Z"
   },
   {
    "duration": 658,
    "start_time": "2022-09-17T20:27:48.111Z"
   },
   {
    "duration": 11,
    "start_time": "2022-09-17T20:27:48.770Z"
   },
   {
    "duration": 24,
    "start_time": "2022-09-17T20:27:48.782Z"
   },
   {
    "duration": 11,
    "start_time": "2022-09-17T20:27:48.808Z"
   },
   {
    "duration": 409,
    "start_time": "2022-09-17T20:27:48.821Z"
   },
   {
    "duration": 3,
    "start_time": "2022-09-17T20:27:49.233Z"
   },
   {
    "duration": 74451,
    "start_time": "2022-09-17T20:27:49.238Z"
   },
   {
    "duration": 42,
    "start_time": "2022-09-17T20:29:03.690Z"
   },
   {
    "duration": 6,
    "start_time": "2022-09-17T20:29:03.733Z"
   },
   {
    "duration": 6,
    "start_time": "2022-09-17T20:29:03.740Z"
   },
   {
    "duration": 4,
    "start_time": "2022-09-17T20:29:03.748Z"
   },
   {
    "duration": 9,
    "start_time": "2022-09-17T20:29:03.753Z"
   },
   {
    "duration": 113,
    "start_time": "2022-09-17T20:29:03.763Z"
   },
   {
    "duration": 16234,
    "start_time": "2022-09-17T20:29:03.877Z"
   },
   {
    "duration": 3,
    "start_time": "2022-09-17T20:29:20.200Z"
   },
   {
    "duration": 173,
    "start_time": "2022-09-17T20:29:20.208Z"
   },
   {
    "duration": 26243,
    "start_time": "2022-09-17T20:29:20.383Z"
   },
   {
    "duration": 2,
    "start_time": "2022-09-17T20:29:46.628Z"
   },
   {
    "duration": 91,
    "start_time": "2022-09-17T20:29:46.631Z"
   },
   {
    "duration": 54669,
    "start_time": "2022-09-17T20:29:46.724Z"
   },
   {
    "duration": 4,
    "start_time": "2022-09-17T20:30:41.396Z"
   },
   {
    "duration": 175,
    "start_time": "2022-09-17T20:30:41.401Z"
   },
   {
    "duration": 98131,
    "start_time": "2022-09-17T20:30:41.578Z"
   },
   {
    "duration": 3,
    "start_time": "2022-09-17T20:32:19.711Z"
   },
   {
    "duration": 3900,
    "start_time": "2022-09-17T20:32:19.716Z"
   },
   {
    "duration": 19,
    "start_time": "2022-09-17T20:32:23.618Z"
   },
   {
    "duration": 292,
    "start_time": "2022-09-17T20:36:12.898Z"
   },
   {
    "duration": 6546,
    "start_time": "2022-09-17T20:36:56.721Z"
   },
   {
    "duration": 48,
    "start_time": "2022-09-17T20:37:05.290Z"
   },
   {
    "duration": 26,
    "start_time": "2022-09-17T20:37:13.016Z"
   },
   {
    "duration": 4,
    "start_time": "2022-09-17T20:37:18.365Z"
   },
   {
    "duration": 23,
    "start_time": "2022-09-17T20:37:21.848Z"
   },
   {
    "duration": 476,
    "start_time": "2022-09-17T20:37:55.053Z"
   },
   {
    "duration": 24,
    "start_time": "2022-09-17T20:38:10.565Z"
   },
   {
    "duration": 41443,
    "start_time": "2022-09-17T20:40:02.808Z"
   },
   {
    "duration": 1800,
    "start_time": "2022-09-17T20:40:44.253Z"
   },
   {
    "duration": 4640,
    "start_time": "2022-09-17T20:40:57.307Z"
   },
   {
    "duration": 27,
    "start_time": "2022-09-17T20:41:03.778Z"
   },
   {
    "duration": 680,
    "start_time": "2022-09-17T20:41:10.408Z"
   },
   {
    "duration": 2373,
    "start_time": "2022-09-17T20:41:11.090Z"
   },
   {
    "duration": 18,
    "start_time": "2022-09-17T20:41:23.156Z"
   },
   {
    "duration": 11,
    "start_time": "2022-09-17T20:41:25.736Z"
   },
   {
    "duration": 419,
    "start_time": "2022-09-17T20:41:28.591Z"
   },
   {
    "duration": 3,
    "start_time": "2022-09-17T20:41:29.012Z"
   },
   {
    "duration": 73536,
    "start_time": "2022-09-17T20:41:29.935Z"
   },
   {
    "duration": 42,
    "start_time": "2022-09-17T20:42:43.473Z"
   },
   {
    "duration": 3,
    "start_time": "2022-09-17T20:42:58.088Z"
   },
   {
    "duration": 5,
    "start_time": "2022-09-17T20:42:59.941Z"
   },
   {
    "duration": 302,
    "start_time": "2022-09-17T20:43:43.101Z"
   },
   {
    "duration": 27,
    "start_time": "2022-09-17T20:43:59.914Z"
   },
   {
    "duration": 23,
    "start_time": "2022-09-17T20:44:31.407Z"
   },
   {
    "duration": 22,
    "start_time": "2022-09-17T20:44:37.624Z"
   },
   {
    "duration": 2123,
    "start_time": "2022-09-17T20:46:53.077Z"
   },
   {
    "duration": 1801,
    "start_time": "2022-09-17T20:46:55.203Z"
   },
   {
    "duration": 3762,
    "start_time": "2022-09-17T20:46:57.006Z"
   },
   {
    "duration": 24,
    "start_time": "2022-09-17T20:47:00.769Z"
   },
   {
    "duration": 750,
    "start_time": "2022-09-17T20:47:00.800Z"
   },
   {
    "duration": 12,
    "start_time": "2022-09-17T20:47:01.552Z"
   },
   {
    "duration": 51,
    "start_time": "2022-09-17T20:47:01.565Z"
   },
   {
    "duration": 18,
    "start_time": "2022-09-17T20:47:01.619Z"
   },
   {
    "duration": 485,
    "start_time": "2022-09-17T20:47:01.639Z"
   },
   {
    "duration": 3,
    "start_time": "2022-09-17T20:47:02.127Z"
   },
   {
    "duration": 2052,
    "start_time": "2022-09-17T20:59:16.041Z"
   },
   {
    "duration": 1890,
    "start_time": "2022-09-17T20:59:18.094Z"
   },
   {
    "duration": 4035,
    "start_time": "2022-09-17T20:59:19.986Z"
   },
   {
    "duration": 25,
    "start_time": "2022-09-17T20:59:24.023Z"
   },
   {
    "duration": 736,
    "start_time": "2022-09-17T20:59:24.050Z"
   },
   {
    "duration": 16,
    "start_time": "2022-09-17T20:59:24.787Z"
   },
   {
    "duration": 20,
    "start_time": "2022-09-17T20:59:24.805Z"
   },
   {
    "duration": 14,
    "start_time": "2022-09-17T20:59:24.828Z"
   },
   {
    "duration": 488,
    "start_time": "2022-09-17T20:59:24.843Z"
   },
   {
    "duration": 4,
    "start_time": "2022-09-17T20:59:25.333Z"
   },
   {
    "duration": 3719,
    "start_time": "2022-09-18T13:26:33.455Z"
   },
   {
    "duration": 2048,
    "start_time": "2022-09-18T13:26:41.274Z"
   },
   {
    "duration": 12,
    "start_time": "2022-09-18T13:26:43.324Z"
   },
   {
    "duration": 21,
    "start_time": "2022-09-18T13:26:43.456Z"
   },
   {
    "duration": 15,
    "start_time": "2022-09-18T13:26:43.775Z"
   },
   {
    "duration": 447,
    "start_time": "2022-09-18T13:26:47.322Z"
   },
   {
    "duration": 3,
    "start_time": "2022-09-18T13:26:47.855Z"
   },
   {
    "duration": 309752,
    "start_time": "2022-09-18T13:26:49.020Z"
   },
   {
    "duration": 168,
    "start_time": "2022-09-18T13:33:15.251Z"
   },
   {
    "duration": 3,
    "start_time": "2022-09-18T13:33:18.669Z"
   },
   {
    "duration": 7,
    "start_time": "2022-09-18T13:33:20.190Z"
   },
   {
    "duration": 4,
    "start_time": "2022-09-18T13:33:23.901Z"
   },
   {
    "duration": 17,
    "start_time": "2022-09-18T13:33:29.604Z"
   },
   {
    "duration": 120,
    "start_time": "2022-09-18T13:33:32.386Z"
   },
   {
    "duration": 0,
    "start_time": "2022-09-18T13:35:17.790Z"
   },
   {
    "duration": 17,
    "start_time": "2022-09-18T13:35:34.173Z"
   },
   {
    "duration": 4,
    "start_time": "2022-09-18T13:35:36.019Z"
   },
   {
    "duration": 107830,
    "start_time": "2022-09-18T13:35:38.771Z"
   },
   {
    "duration": 3,
    "start_time": "2022-09-18T13:38:33.899Z"
   },
   {
    "duration": 173,
    "start_time": "2022-09-18T13:38:35.403Z"
   },
   {
    "duration": 209719,
    "start_time": "2022-09-18T13:39:50.999Z"
   },
   {
    "duration": 3,
    "start_time": "2022-09-18T13:46:24.887Z"
   },
   {
    "duration": 181,
    "start_time": "2022-09-18T13:46:26.451Z"
   },
   {
    "duration": 275451,
    "start_time": "2022-09-18T13:46:31.392Z"
   },
   {
    "duration": 2,
    "start_time": "2022-09-18T13:51:06.845Z"
   },
   {
    "duration": 347,
    "start_time": "2022-09-18T13:51:06.849Z"
   },
   {
    "duration": 9007,
    "start_time": "2022-09-18T13:55:38.443Z"
   },
   {
    "duration": 8722,
    "start_time": "2022-09-18T13:55:49.901Z"
   },
   {
    "duration": 9515,
    "start_time": "2022-09-18T13:59:45.389Z"
   },
   {
    "duration": 21,
    "start_time": "2022-09-18T14:00:11.145Z"
   },
   {
    "duration": 295,
    "start_time": "2022-09-18T14:00:15.491Z"
   },
   {
    "duration": 21,
    "start_time": "2022-09-18T14:00:45.007Z"
   },
   {
    "duration": 8,
    "start_time": "2022-09-18T14:01:06.451Z"
   },
   {
    "duration": 21,
    "start_time": "2022-09-18T14:01:11.485Z"
   },
   {
    "duration": 25,
    "start_time": "2022-09-18T14:02:16.883Z"
   },
   {
    "duration": 20,
    "start_time": "2022-09-18T14:02:29.804Z"
   },
   {
    "duration": 46,
    "start_time": "2022-09-18T14:02:56.516Z"
   },
   {
    "duration": 92,
    "start_time": "2022-09-18T14:03:09.160Z"
   },
   {
    "duration": 21,
    "start_time": "2022-09-18T14:07:19.412Z"
   },
   {
    "duration": 40,
    "start_time": "2022-09-18T14:07:37.300Z"
   },
   {
    "duration": 27,
    "start_time": "2022-09-18T14:07:52.050Z"
   },
   {
    "duration": 39,
    "start_time": "2022-09-18T14:08:04.272Z"
   },
   {
    "duration": 9727,
    "start_time": "2022-09-18T14:25:01.194Z"
   },
   {
    "duration": 3946,
    "start_time": "2022-09-18T14:25:39.752Z"
   },
   {
    "duration": 726,
    "start_time": "2022-09-18T14:25:43.700Z"
   },
   {
    "duration": 13,
    "start_time": "2022-09-18T14:25:44.428Z"
   },
   {
    "duration": 58,
    "start_time": "2022-09-18T14:25:44.443Z"
   },
   {
    "duration": 27,
    "start_time": "2022-09-18T14:25:44.506Z"
   },
   {
    "duration": 519,
    "start_time": "2022-09-18T14:25:44.536Z"
   },
   {
    "duration": 4,
    "start_time": "2022-09-18T14:25:45.056Z"
   },
   {
    "duration": 3848,
    "start_time": "2022-09-18T14:34:55.551Z"
   },
   {
    "duration": 722,
    "start_time": "2022-09-18T14:34:59.407Z"
   },
   {
    "duration": 12,
    "start_time": "2022-09-18T14:35:00.131Z"
   },
   {
    "duration": 40,
    "start_time": "2022-09-18T14:35:00.144Z"
   },
   {
    "duration": 22,
    "start_time": "2022-09-18T14:35:00.187Z"
   },
   {
    "duration": 499,
    "start_time": "2022-09-18T14:35:00.214Z"
   },
   {
    "duration": 3,
    "start_time": "2022-09-18T14:35:00.715Z"
   },
   {
    "duration": 3733,
    "start_time": "2022-09-18T14:45:34.051Z"
   },
   {
    "duration": 677,
    "start_time": "2022-09-18T14:45:37.786Z"
   },
   {
    "duration": 10,
    "start_time": "2022-09-18T14:45:38.465Z"
   },
   {
    "duration": 34,
    "start_time": "2022-09-18T14:45:38.477Z"
   },
   {
    "duration": 15,
    "start_time": "2022-09-18T14:45:38.514Z"
   },
   {
    "duration": 468,
    "start_time": "2022-09-18T14:45:38.530Z"
   },
   {
    "duration": 13,
    "start_time": "2022-09-18T14:45:39.000Z"
   },
   {
    "duration": 477526,
    "start_time": "2022-09-18T14:45:39.016Z"
   },
   {
    "duration": 275,
    "start_time": "2022-09-18T14:53:36.544Z"
   },
   {
    "duration": 3,
    "start_time": "2022-09-18T14:53:36.822Z"
   },
   {
    "duration": 11,
    "start_time": "2022-09-18T14:53:36.827Z"
   },
   {
    "duration": 5,
    "start_time": "2022-09-18T14:53:36.839Z"
   },
   {
    "duration": 14,
    "start_time": "2022-09-18T14:53:36.845Z"
   },
   {
    "duration": 163,
    "start_time": "2022-09-18T14:53:36.861Z"
   },
   {
    "duration": 166081,
    "start_time": "2022-09-18T14:53:37.025Z"
   },
   {
    "duration": 3,
    "start_time": "2022-09-18T14:56:23.108Z"
   },
   {
    "duration": 629,
    "start_time": "2022-09-18T14:56:23.113Z"
   },
   {
    "duration": 261079,
    "start_time": "2022-09-18T14:56:23.744Z"
   },
   {
    "duration": 3,
    "start_time": "2022-09-18T15:00:44.824Z"
   },
   {
    "duration": 532,
    "start_time": "2022-09-18T15:00:44.828Z"
   },
   {
    "duration": 400733,
    "start_time": "2022-09-18T15:00:45.362Z"
   },
   {
    "duration": 15,
    "start_time": "2022-09-18T15:07:26.097Z"
   },
   {
    "duration": 11606,
    "start_time": "2022-09-18T15:07:26.119Z"
   },
   {
    "duration": 1488225,
    "start_time": "2022-09-18T15:17:47.156Z"
   },
   {
    "duration": 1,
    "start_time": "2022-09-18T15:42:35.382Z"
   },
   {
    "duration": 0,
    "start_time": "2022-09-18T15:42:35.384Z"
   },
   {
    "duration": 0,
    "start_time": "2022-09-18T15:42:35.385Z"
   },
   {
    "duration": 0,
    "start_time": "2022-09-18T15:42:35.387Z"
   },
   {
    "duration": 50,
    "start_time": "2022-09-18T15:42:42.515Z"
   },
   {
    "duration": 30,
    "start_time": "2022-09-18T15:42:52.719Z"
   },
   {
    "duration": 3852,
    "start_time": "2022-09-18T19:18:13.312Z"
   },
   {
    "duration": 2297,
    "start_time": "2022-09-18T19:18:17.166Z"
   },
   {
    "duration": 13,
    "start_time": "2022-09-18T19:18:19.464Z"
   },
   {
    "duration": 28,
    "start_time": "2022-09-18T19:18:19.479Z"
   },
   {
    "duration": 14,
    "start_time": "2022-09-18T19:18:19.511Z"
   },
   {
    "duration": 452,
    "start_time": "2022-09-18T19:18:19.526Z"
   },
   {
    "duration": 3,
    "start_time": "2022-09-18T19:18:19.980Z"
   },
   {
    "duration": 309720,
    "start_time": "2022-09-18T19:18:19.984Z"
   },
   {
    "duration": 180,
    "start_time": "2022-09-18T19:23:29.705Z"
   },
   {
    "duration": 3,
    "start_time": "2022-09-18T19:23:29.887Z"
   },
   {
    "duration": 12,
    "start_time": "2022-09-18T19:23:29.892Z"
   },
   {
    "duration": 17,
    "start_time": "2022-09-18T19:23:29.906Z"
   },
   {
    "duration": 18,
    "start_time": "2022-09-18T19:23:29.924Z"
   },
   {
    "duration": 182,
    "start_time": "2022-09-18T19:23:29.944Z"
   },
   {
    "duration": 112393,
    "start_time": "2022-09-18T19:23:30.127Z"
   },
   {
    "duration": 79,
    "start_time": "2022-09-18T19:25:22.523Z"
   },
   {
    "duration": 413,
    "start_time": "2022-09-18T19:25:22.606Z"
   },
   {
    "duration": 100371,
    "start_time": "2022-09-18T19:25:23.021Z"
   },
   {
    "duration": 0,
    "start_time": "2022-09-18T19:27:03.400Z"
   },
   {
    "duration": 0,
    "start_time": "2022-09-18T19:27:03.401Z"
   },
   {
    "duration": 0,
    "start_time": "2022-09-18T19:27:03.402Z"
   },
   {
    "duration": 0,
    "start_time": "2022-09-18T19:27:03.403Z"
   },
   {
    "duration": 0,
    "start_time": "2022-09-18T19:27:03.405Z"
   },
   {
    "duration": 0,
    "start_time": "2022-09-18T19:27:03.406Z"
   },
   {
    "duration": 0,
    "start_time": "2022-09-18T19:27:03.408Z"
   },
   {
    "duration": 0,
    "start_time": "2022-09-18T19:27:03.409Z"
   },
   {
    "duration": 0,
    "start_time": "2022-09-18T19:27:03.410Z"
   },
   {
    "duration": 168511,
    "start_time": "2022-09-18T19:32:35.812Z"
   },
   {
    "duration": 2,
    "start_time": "2022-09-18T19:35:45.347Z"
   },
   {
    "duration": 347,
    "start_time": "2022-09-18T19:35:46.806Z"
   },
   {
    "duration": 156311,
    "start_time": "2022-09-18T19:35:54.852Z"
   },
   {
    "duration": 6,
    "start_time": "2022-09-18T19:38:42.371Z"
   },
   {
    "duration": 295,
    "start_time": "2022-09-18T19:38:43.622Z"
   },
   {
    "duration": 181151,
    "start_time": "2022-09-18T19:39:02.240Z"
   },
   {
    "duration": 3,
    "start_time": "2022-09-18T19:42:32.705Z"
   },
   {
    "duration": 3066,
    "start_time": "2022-09-18T19:42:33.911Z"
   },
   {
    "duration": 37,
    "start_time": "2022-09-18T19:42:41.104Z"
   },
   {
    "duration": 40,
    "start_time": "2022-09-18T19:43:00.355Z"
   },
   {
    "duration": 8,
    "start_time": "2022-09-18T19:43:14.754Z"
   },
   {
    "duration": 78021,
    "start_time": "2022-09-18T19:43:26.892Z"
   },
   {
    "duration": 5140,
    "start_time": "2022-09-18T19:44:59.400Z"
   },
   {
    "duration": 5030,
    "start_time": "2022-09-18T19:45:07.704Z"
   },
   {
    "duration": 17,
    "start_time": "2022-09-18T19:45:46.574Z"
   },
   {
    "duration": 0,
    "start_time": "2022-09-18T19:46:09.613Z"
   },
   {
    "duration": 0,
    "start_time": "2022-09-18T19:47:06.513Z"
   },
   {
    "duration": 38855,
    "start_time": "2022-09-18T19:47:09.696Z"
   },
   {
    "duration": 0,
    "start_time": "2022-09-18T19:47:48.552Z"
   },
   {
    "duration": 3825,
    "start_time": "2022-09-18T19:49:58.522Z"
   },
   {
    "duration": 650,
    "start_time": "2022-09-18T19:50:02.349Z"
   },
   {
    "duration": 9,
    "start_time": "2022-09-18T19:50:03.000Z"
   },
   {
    "duration": 20,
    "start_time": "2022-09-18T19:50:03.011Z"
   },
   {
    "duration": 13,
    "start_time": "2022-09-18T19:50:03.034Z"
   },
   {
    "duration": 437,
    "start_time": "2022-09-18T19:50:03.048Z"
   },
   {
    "duration": 3,
    "start_time": "2022-09-18T19:50:03.487Z"
   },
   {
    "duration": 8,
    "start_time": "2022-09-18T19:55:05.435Z"
   },
   {
    "duration": 680,
    "start_time": "2022-09-18T19:55:05.465Z"
   },
   {
    "duration": 17,
    "start_time": "2022-09-18T19:55:06.272Z"
   },
   {
    "duration": 3909,
    "start_time": "2022-09-18T19:55:44.073Z"
   },
   {
    "duration": 728,
    "start_time": "2022-09-18T19:55:47.983Z"
   },
   {
    "duration": 13,
    "start_time": "2022-09-18T19:55:48.716Z"
   },
   {
    "duration": 24,
    "start_time": "2022-09-18T19:55:48.731Z"
   },
   {
    "duration": 12,
    "start_time": "2022-09-18T19:55:48.758Z"
   },
   {
    "duration": 461,
    "start_time": "2022-09-18T19:55:48.771Z"
   },
   {
    "duration": 3,
    "start_time": "2022-09-18T19:55:49.234Z"
   },
   {
    "duration": 311139,
    "start_time": "2022-09-18T19:55:49.239Z"
   },
   {
    "duration": 172,
    "start_time": "2022-09-18T20:01:00.379Z"
   },
   {
    "duration": 3,
    "start_time": "2022-09-18T20:01:00.553Z"
   },
   {
    "duration": 25,
    "start_time": "2022-09-18T20:01:00.558Z"
   },
   {
    "duration": 20,
    "start_time": "2022-09-18T20:01:00.585Z"
   },
   {
    "duration": 29,
    "start_time": "2022-09-18T20:01:00.606Z"
   },
   {
    "duration": 267,
    "start_time": "2022-09-18T20:01:00.637Z"
   },
   {
    "duration": 291798,
    "start_time": "2022-09-18T20:01:00.906Z"
   },
   {
    "duration": 0,
    "start_time": "2022-09-18T20:05:52.706Z"
   },
   {
    "duration": 0,
    "start_time": "2022-09-18T20:05:52.707Z"
   },
   {
    "duration": 316538,
    "start_time": "2022-09-18T20:05:57.273Z"
   },
   {
    "duration": 3,
    "start_time": "2022-09-18T20:14:42.070Z"
   },
   {
    "duration": 297,
    "start_time": "2022-09-18T20:14:43.379Z"
   },
   {
    "duration": 15,
    "start_time": "2022-09-18T20:15:02.900Z"
   },
   {
    "duration": 465388,
    "start_time": "2022-09-18T20:15:14.714Z"
   },
   {
    "duration": 3,
    "start_time": "2022-09-18T20:23:59.323Z"
   },
   {
    "duration": 304,
    "start_time": "2022-09-18T20:24:01.971Z"
   },
   {
    "duration": 603366,
    "start_time": "2022-09-18T20:24:21.435Z"
   },
   {
    "duration": 4,
    "start_time": "2022-09-18T20:34:55.635Z"
   },
   {
    "duration": 304,
    "start_time": "2022-09-18T20:34:58.219Z"
   },
   {
    "duration": 47084,
    "start_time": "2022-09-18T20:35:54.646Z"
   },
   {
    "duration": 564776,
    "start_time": "2022-09-18T20:36:56.537Z"
   },
   {
    "duration": 11002,
    "start_time": "2022-09-18T20:46:29.345Z"
   },
   {
    "duration": 4282,
    "start_time": "2022-09-18T20:50:40.012Z"
   },
   {
    "duration": 763,
    "start_time": "2022-09-18T20:50:44.295Z"
   },
   {
    "duration": 14,
    "start_time": "2022-09-18T20:50:45.059Z"
   },
   {
    "duration": 31,
    "start_time": "2022-09-18T20:50:45.075Z"
   },
   {
    "duration": 18,
    "start_time": "2022-09-18T20:50:45.111Z"
   },
   {
    "duration": 475,
    "start_time": "2022-09-18T20:50:45.131Z"
   },
   {
    "duration": 3,
    "start_time": "2022-09-18T20:50:45.608Z"
   },
   {
    "duration": 3808,
    "start_time": "2022-09-18T20:50:52.887Z"
   },
   {
    "duration": 698,
    "start_time": "2022-09-18T20:50:56.697Z"
   },
   {
    "duration": 10,
    "start_time": "2022-09-18T20:50:57.397Z"
   },
   {
    "duration": 27,
    "start_time": "2022-09-18T20:50:57.408Z"
   },
   {
    "duration": 14,
    "start_time": "2022-09-18T20:50:57.439Z"
   },
   {
    "duration": 500,
    "start_time": "2022-09-18T20:50:57.455Z"
   },
   {
    "duration": 4,
    "start_time": "2022-09-18T20:50:57.957Z"
   },
   {
    "duration": 309103,
    "start_time": "2022-09-18T20:50:57.963Z"
   },
   {
    "duration": 205,
    "start_time": "2022-09-18T20:56:07.067Z"
   },
   {
    "duration": 4,
    "start_time": "2022-09-18T20:56:07.275Z"
   },
   {
    "duration": 18,
    "start_time": "2022-09-18T20:56:07.282Z"
   },
   {
    "duration": 4,
    "start_time": "2022-09-18T20:56:07.302Z"
   },
   {
    "duration": 22,
    "start_time": "2022-09-18T20:56:07.309Z"
   },
   {
    "duration": 198,
    "start_time": "2022-09-18T20:56:07.334Z"
   },
   {
    "duration": 606268,
    "start_time": "2022-09-18T20:56:07.535Z"
   },
   {
    "duration": 3,
    "start_time": "2022-09-18T21:06:13.804Z"
   },
   {
    "duration": 351,
    "start_time": "2022-09-18T21:06:13.901Z"
   },
   {
    "duration": 148355,
    "start_time": "2022-09-18T21:08:18.003Z"
   },
   {
    "duration": 2,
    "start_time": "2022-09-18T21:10:46.360Z"
   },
   {
    "duration": 367,
    "start_time": "2022-09-18T21:10:46.364Z"
   },
   {
    "duration": 11,
    "start_time": "2022-09-18T21:11:10.028Z"
   },
   {
    "duration": 7,
    "start_time": "2022-09-18T21:11:28.286Z"
   },
   {
    "duration": 160090,
    "start_time": "2022-09-18T21:11:54.240Z"
   },
   {
    "duration": 5,
    "start_time": "2022-09-18T21:14:55.742Z"
   },
   {
    "duration": 324,
    "start_time": "2022-09-18T21:14:57.540Z"
   },
   {
    "duration": 159235,
    "start_time": "2022-09-18T21:15:05.932Z"
   },
   {
    "duration": 7,
    "start_time": "2022-09-18T21:17:54.240Z"
   },
   {
    "duration": 302,
    "start_time": "2022-09-18T21:17:55.780Z"
   },
   {
    "duration": 156472,
    "start_time": "2022-09-18T21:18:04.898Z"
   },
   {
    "duration": 5,
    "start_time": "2022-09-18T21:21:28.347Z"
   },
   {
    "duration": 295,
    "start_time": "2022-09-18T21:21:29.643Z"
   },
   {
    "duration": 154825,
    "start_time": "2022-09-18T21:21:35.284Z"
   },
   {
    "duration": 5,
    "start_time": "2022-09-18T21:24:13.923Z"
   },
   {
    "duration": 322,
    "start_time": "2022-09-18T21:24:15.222Z"
   },
   {
    "duration": 152502,
    "start_time": "2022-09-18T21:24:22.329Z"
   },
   {
    "duration": 5,
    "start_time": "2022-09-18T21:27:01.600Z"
   },
   {
    "duration": 303,
    "start_time": "2022-09-18T21:27:02.826Z"
   },
   {
    "duration": 148624,
    "start_time": "2022-09-18T21:27:11.572Z"
   },
   {
    "duration": 6,
    "start_time": "2022-09-18T21:29:47.100Z"
   },
   {
    "duration": 319,
    "start_time": "2022-09-18T21:29:48.231Z"
   },
   {
    "duration": 188508,
    "start_time": "2022-09-18T21:30:00.812Z"
   },
   {
    "duration": 3,
    "start_time": "2022-09-18T21:33:09.322Z"
   },
   {
    "duration": 2438,
    "start_time": "2022-09-18T21:33:09.326Z"
   },
   {
    "duration": 187457,
    "start_time": "2022-09-18T21:34:25.964Z"
   },
   {
    "duration": 7,
    "start_time": "2022-09-18T21:37:33.424Z"
   },
   {
    "duration": 2336,
    "start_time": "2022-09-18T21:37:33.433Z"
   },
   {
    "duration": 184240,
    "start_time": "2022-09-18T21:39:07.356Z"
   },
   {
    "duration": 5,
    "start_time": "2022-09-18T21:42:11.600Z"
   },
   {
    "duration": 3400,
    "start_time": "2022-09-18T21:42:11.608Z"
   },
   {
    "duration": 179609,
    "start_time": "2022-09-18T21:43:30.124Z"
   },
   {
    "duration": 5,
    "start_time": "2022-09-18T21:46:29.735Z"
   },
   {
    "duration": 2013,
    "start_time": "2022-09-18T21:46:29.742Z"
   },
   {
    "duration": 577295,
    "start_time": "2022-09-18T21:48:12.410Z"
   },
   {
    "duration": 7,
    "start_time": "2022-09-18T21:57:49.707Z"
   },
   {
    "duration": 393,
    "start_time": "2022-09-18T21:57:49.716Z"
   },
   {
    "duration": 10,
    "start_time": "2022-09-18T21:58:24.143Z"
   },
   {
    "duration": 409953,
    "start_time": "2022-09-18T21:59:18.049Z"
   },
   {
    "duration": 2,
    "start_time": "2022-09-18T22:06:08.004Z"
   },
   {
    "duration": 418,
    "start_time": "2022-09-18T22:06:08.009Z"
   },
   {
    "duration": 3,
    "start_time": "2022-09-18T22:07:38.750Z"
   },
   {
    "duration": 326,
    "start_time": "2022-09-18T22:08:15.384Z"
   },
   {
    "duration": 21,
    "start_time": "2022-09-18T22:08:33.555Z"
   },
   {
    "duration": 9,
    "start_time": "2022-09-18T22:09:13.553Z"
   },
   {
    "duration": 3,
    "start_time": "2022-09-18T22:09:37.258Z"
   },
   {
    "duration": 22,
    "start_time": "2022-09-18T22:09:39.660Z"
   },
   {
    "duration": 16426,
    "start_time": "2022-09-18T22:10:37.779Z"
   },
   {
    "duration": 320,
    "start_time": "2022-09-18T22:11:06.675Z"
   },
   {
    "duration": 14658,
    "start_time": "2022-09-18T22:11:16.743Z"
   },
   {
    "duration": 306,
    "start_time": "2022-09-18T22:11:35.779Z"
   },
   {
    "duration": 18574,
    "start_time": "2022-09-18T22:11:45.831Z"
   },
   {
    "duration": 320,
    "start_time": "2022-09-18T22:12:09.810Z"
   },
   {
    "duration": 17374,
    "start_time": "2022-09-18T22:12:17.732Z"
   },
   {
    "duration": 320,
    "start_time": "2022-09-18T22:12:40.058Z"
   },
   {
    "duration": 21854,
    "start_time": "2022-09-18T22:12:51.655Z"
   },
   {
    "duration": 339,
    "start_time": "2022-09-18T22:13:17.946Z"
   },
   {
    "duration": 16886,
    "start_time": "2022-09-18T22:13:28.623Z"
   },
   {
    "duration": 423,
    "start_time": "2022-09-18T22:13:45.511Z"
   },
   {
    "duration": 14391,
    "start_time": "2022-09-18T22:13:58.914Z"
   },
   {
    "duration": 392,
    "start_time": "2022-09-18T22:14:13.310Z"
   },
   {
    "duration": 13522,
    "start_time": "2022-09-18T22:14:31.988Z"
   },
   {
    "duration": 390,
    "start_time": "2022-09-18T22:14:45.513Z"
   },
   {
    "duration": 21147,
    "start_time": "2022-09-18T22:14:52.662Z"
   },
   {
    "duration": 350,
    "start_time": "2022-09-18T22:15:13.901Z"
   },
   {
    "duration": 18680,
    "start_time": "2022-09-18T22:15:22.026Z"
   },
   {
    "duration": 298,
    "start_time": "2022-09-18T22:15:45.518Z"
   },
   {
    "duration": 21691,
    "start_time": "2022-09-18T22:15:53.917Z"
   },
   {
    "duration": 417,
    "start_time": "2022-09-18T22:16:15.610Z"
   },
   {
    "duration": 13985,
    "start_time": "2022-09-18T22:16:31.324Z"
   },
   {
    "duration": 332,
    "start_time": "2022-09-18T22:16:49.268Z"
   },
   {
    "duration": 14903,
    "start_time": "2022-09-18T22:16:58.503Z"
   },
   {
    "duration": 399,
    "start_time": "2022-09-18T22:17:13.408Z"
   },
   {
    "duration": 18885,
    "start_time": "2022-09-18T22:17:19.916Z"
   },
   {
    "duration": 404,
    "start_time": "2022-09-18T22:17:38.803Z"
   },
   {
    "duration": 12662,
    "start_time": "2022-09-18T22:17:44.439Z"
   },
   {
    "duration": 411,
    "start_time": "2022-09-18T22:17:57.103Z"
   },
   {
    "duration": 13833,
    "start_time": "2022-09-18T22:18:24.669Z"
   },
   {
    "duration": 333,
    "start_time": "2022-09-18T22:18:38.504Z"
   },
   {
    "duration": 17293,
    "start_time": "2022-09-18T22:18:51.117Z"
   },
   {
    "duration": 340,
    "start_time": "2022-09-18T22:19:08.501Z"
   },
   {
    "duration": 15745,
    "start_time": "2022-09-18T22:19:16.965Z"
   },
   {
    "duration": 399,
    "start_time": "2022-09-18T22:19:32.712Z"
   },
   {
    "duration": 8,
    "start_time": "2022-09-18T22:19:38.784Z"
   },
   {
    "duration": 13535,
    "start_time": "2022-09-18T22:20:02.768Z"
   },
   {
    "duration": 397,
    "start_time": "2022-09-18T22:20:16.308Z"
   },
   {
    "duration": 17791,
    "start_time": "2022-09-18T22:20:31.812Z"
   },
   {
    "duration": 392,
    "start_time": "2022-09-18T22:20:49.606Z"
   },
   {
    "duration": 314,
    "start_time": "2022-09-18T22:20:53.552Z"
   },
   {
    "duration": 101307,
    "start_time": "2022-09-18T22:21:00.327Z"
   },
   {
    "duration": 3,
    "start_time": "2022-09-18T22:22:41.637Z"
   },
   {
    "duration": 323,
    "start_time": "2022-09-18T22:22:41.642Z"
   },
   {
    "duration": 287794,
    "start_time": "2022-09-18T22:22:56.190Z"
   },
   {
    "duration": 5,
    "start_time": "2022-09-18T22:27:43.986Z"
   },
   {
    "duration": 372,
    "start_time": "2022-09-18T22:27:43.992Z"
   },
   {
    "duration": 24,
    "start_time": "2022-09-18T22:29:51.329Z"
   },
   {
    "duration": 21,
    "start_time": "2022-09-18T22:30:02.880Z"
   },
   {
    "duration": 22,
    "start_time": "2022-09-18T22:30:17.113Z"
   },
   {
    "duration": 520115,
    "start_time": "2022-09-18T22:30:23.410Z"
   },
   {
    "duration": 0,
    "start_time": "2022-09-18T22:39:03.528Z"
   },
   {
    "duration": 41418,
    "start_time": "2022-09-18T22:39:22.992Z"
   },
   {
    "duration": 0,
    "start_time": "2022-09-18T22:40:04.412Z"
   },
   {
    "duration": 0,
    "start_time": "2022-09-18T22:40:04.414Z"
   },
   {
    "duration": 4,
    "start_time": "2022-09-18T22:40:47.924Z"
   },
   {
    "duration": 1369,
    "start_time": "2022-09-18T22:40:49.247Z"
   },
   {
    "duration": 42,
    "start_time": "2022-09-18T22:45:55.936Z"
   },
   {
    "duration": 3728,
    "start_time": "2022-09-18T22:46:08.527Z"
   },
   {
    "duration": 679,
    "start_time": "2022-09-18T22:46:12.258Z"
   },
   {
    "duration": 10,
    "start_time": "2022-09-18T22:46:12.938Z"
   },
   {
    "duration": 24,
    "start_time": "2022-09-18T22:46:12.949Z"
   },
   {
    "duration": 11,
    "start_time": "2022-09-18T22:46:12.975Z"
   },
   {
    "duration": 435,
    "start_time": "2022-09-18T22:46:12.988Z"
   },
   {
    "duration": 3,
    "start_time": "2022-09-18T22:46:13.424Z"
   },
   {
    "duration": 30153,
    "start_time": "2022-09-18T22:46:13.429Z"
   },
   {
    "duration": 20,
    "start_time": "2022-09-18T22:46:43.584Z"
   },
   {
    "duration": 5,
    "start_time": "2022-09-18T22:46:43.605Z"
   },
   {
    "duration": 7,
    "start_time": "2022-09-18T22:46:43.611Z"
   },
   {
    "duration": 5,
    "start_time": "2022-09-18T22:46:43.619Z"
   },
   {
    "duration": 20,
    "start_time": "2022-09-18T22:46:43.625Z"
   },
   {
    "duration": 135,
    "start_time": "2022-09-18T22:46:43.647Z"
   },
   {
    "duration": 6174,
    "start_time": "2022-09-18T22:46:43.784Z"
   },
   {
    "duration": 2,
    "start_time": "2022-09-18T22:46:49.960Z"
   },
   {
    "duration": 44,
    "start_time": "2022-09-18T22:46:49.963Z"
   },
   {
    "duration": 18923,
    "start_time": "2022-09-18T22:47:00.771Z"
   },
   {
    "duration": 4,
    "start_time": "2022-09-18T22:47:19.696Z"
   },
   {
    "duration": 39,
    "start_time": "2022-09-18T22:47:19.702Z"
   },
   {
    "duration": 31287,
    "start_time": "2022-09-18T22:47:24.295Z"
   },
   {
    "duration": 2,
    "start_time": "2022-09-18T22:47:55.584Z"
   },
   {
    "duration": 315,
    "start_time": "2022-09-18T22:47:55.588Z"
   },
   {
    "duration": 397390,
    "start_time": "2022-09-18T22:48:03.466Z"
   },
   {
    "duration": 0,
    "start_time": "2022-09-18T22:54:40.858Z"
   },
   {
    "duration": 0,
    "start_time": "2022-09-18T22:54:40.859Z"
   },
   {
    "duration": 3982,
    "start_time": "2022-09-18T22:55:24.123Z"
   },
   {
    "duration": 719,
    "start_time": "2022-09-18T22:55:28.107Z"
   },
   {
    "duration": 13,
    "start_time": "2022-09-18T22:55:28.828Z"
   },
   {
    "duration": 42,
    "start_time": "2022-09-18T22:55:28.843Z"
   },
   {
    "duration": 35,
    "start_time": "2022-09-18T22:55:28.889Z"
   },
   {
    "duration": 453,
    "start_time": "2022-09-18T22:55:28.926Z"
   },
   {
    "duration": 3,
    "start_time": "2022-09-18T22:55:29.381Z"
   },
   {
    "duration": 3940,
    "start_time": "2022-09-18T22:57:40.483Z"
   },
   {
    "duration": 781,
    "start_time": "2022-09-18T22:57:44.426Z"
   },
   {
    "duration": 14,
    "start_time": "2022-09-18T22:57:45.208Z"
   },
   {
    "duration": 23,
    "start_time": "2022-09-18T22:57:45.223Z"
   },
   {
    "duration": 14,
    "start_time": "2022-09-18T22:57:45.249Z"
   },
   {
    "duration": 464,
    "start_time": "2022-09-18T22:57:45.265Z"
   },
   {
    "duration": 3,
    "start_time": "2022-09-18T22:57:45.731Z"
   },
   {
    "duration": 156571,
    "start_time": "2022-09-18T22:57:45.736Z"
   },
   {
    "duration": 91,
    "start_time": "2022-09-18T23:00:22.309Z"
   },
   {
    "duration": 3,
    "start_time": "2022-09-18T23:00:22.402Z"
   },
   {
    "duration": 8,
    "start_time": "2022-09-18T23:00:22.406Z"
   },
   {
    "duration": 4,
    "start_time": "2022-09-18T23:00:22.415Z"
   },
   {
    "duration": 13,
    "start_time": "2022-09-18T23:00:22.421Z"
   },
   {
    "duration": 140,
    "start_time": "2022-09-18T23:00:22.437Z"
   },
   {
    "duration": 301332,
    "start_time": "2022-09-18T23:00:22.578Z"
   },
   {
    "duration": 2,
    "start_time": "2022-09-18T23:05:24.001Z"
   },
   {
    "duration": 263,
    "start_time": "2022-09-18T23:05:24.005Z"
   },
   {
    "duration": 213058,
    "start_time": "2022-09-18T23:05:54.802Z"
   },
   {
    "duration": 2,
    "start_time": "2022-09-18T23:09:27.863Z"
   },
   {
    "duration": 176,
    "start_time": "2022-09-18T23:09:27.866Z"
   },
   {
    "duration": 37505,
    "start_time": "2022-09-18T23:09:47.589Z"
   },
   {
    "duration": 0,
    "start_time": "2022-09-18T23:10:25.095Z"
   },
   {
    "duration": 0,
    "start_time": "2022-09-18T23:10:25.100Z"
   },
   {
    "duration": 11,
    "start_time": "2022-09-18T23:10:34.198Z"
   },
   {
    "duration": 101432,
    "start_time": "2022-09-18T23:10:37.355Z"
   },
   {
    "duration": 4,
    "start_time": "2022-09-18T23:12:18.789Z"
   },
   {
    "duration": 168,
    "start_time": "2022-09-18T23:12:18.968Z"
   },
   {
    "duration": 183675,
    "start_time": "2022-09-18T23:12:19.137Z"
   },
   {
    "duration": 92,
    "start_time": "2022-09-18T23:15:22.814Z"
   },
   {
    "duration": 248,
    "start_time": "2022-09-18T23:15:22.908Z"
   },
   {
    "duration": 5120,
    "start_time": "2022-09-19T11:50:21.632Z"
   },
   {
    "duration": 3259,
    "start_time": "2022-09-19T11:50:26.755Z"
   },
   {
    "duration": 13,
    "start_time": "2022-09-19T11:50:30.016Z"
   },
   {
    "duration": 26,
    "start_time": "2022-09-19T11:50:30.031Z"
   },
   {
    "duration": 14,
    "start_time": "2022-09-19T11:50:30.060Z"
   },
   {
    "duration": 766,
    "start_time": "2022-09-19T11:50:30.076Z"
   },
   {
    "duration": 4,
    "start_time": "2022-09-19T11:50:30.844Z"
   },
   {
    "duration": 182087,
    "start_time": "2022-09-19T11:50:30.850Z"
   },
   {
    "duration": 114,
    "start_time": "2022-09-19T11:53:32.939Z"
   },
   {
    "duration": 3,
    "start_time": "2022-09-19T11:53:33.056Z"
   },
   {
    "duration": 15,
    "start_time": "2022-09-19T11:53:33.061Z"
   },
   {
    "duration": 25,
    "start_time": "2022-09-19T11:53:33.078Z"
   },
   {
    "duration": 24,
    "start_time": "2022-09-19T11:53:33.106Z"
   },
   {
    "duration": 194,
    "start_time": "2022-09-19T11:53:33.132Z"
   },
   {
    "duration": 332,
    "start_time": "2022-09-19T11:54:33.018Z"
   },
   {
    "duration": 539,
    "start_time": "2022-09-19T11:55:09.698Z"
   },
   {
    "duration": 26,
    "start_time": "2022-09-19T11:55:13.737Z"
   },
   {
    "duration": 25,
    "start_time": "2022-09-19T11:56:03.352Z"
   },
   {
    "duration": 3916,
    "start_time": "2022-09-19T11:56:59.780Z"
   },
   {
    "duration": 6111,
    "start_time": "2022-09-19T11:57:27.884Z"
   },
   {
    "duration": 4074,
    "start_time": "2022-09-19T11:57:55.826Z"
   },
   {
    "duration": 1393,
    "start_time": "2022-09-19T11:58:19.609Z"
   },
   {
    "duration": 8226,
    "start_time": "2022-09-19T11:58:29.168Z"
   },
   {
    "duration": 1440,
    "start_time": "2022-09-19T11:58:44.262Z"
   },
   {
    "duration": 3626,
    "start_time": "2022-09-19T11:59:06.969Z"
   },
   {
    "duration": 4247,
    "start_time": "2022-09-19T11:59:17.449Z"
   },
   {
    "duration": 2183,
    "start_time": "2022-09-19T11:59:32.418Z"
   },
   {
    "duration": 15,
    "start_time": "2022-09-19T12:00:34.916Z"
   },
   {
    "duration": 12,
    "start_time": "2022-09-19T12:01:02.416Z"
   },
   {
    "duration": 26,
    "start_time": "2022-09-19T12:02:47.132Z"
   },
   {
    "duration": 20,
    "start_time": "2022-09-19T12:03:05.020Z"
   },
   {
    "duration": 6,
    "start_time": "2022-09-19T12:03:53.480Z"
   },
   {
    "duration": 4829,
    "start_time": "2022-09-19T17:06:27.475Z"
   },
   {
    "duration": 2331,
    "start_time": "2022-09-19T17:06:32.307Z"
   },
   {
    "duration": 17,
    "start_time": "2022-09-19T17:06:34.640Z"
   },
   {
    "duration": 34,
    "start_time": "2022-09-19T17:06:34.659Z"
   },
   {
    "duration": 25,
    "start_time": "2022-09-19T17:06:34.697Z"
   },
   {
    "duration": 501,
    "start_time": "2022-09-19T17:06:34.724Z"
   },
   {
    "duration": 3,
    "start_time": "2022-09-19T17:06:35.226Z"
   },
   {
    "duration": 883865,
    "start_time": "2022-09-19T17:06:35.232Z"
   },
   {
    "duration": 504,
    "start_time": "2022-09-19T17:21:19.098Z"
   },
   {
    "duration": 5,
    "start_time": "2022-09-19T17:21:19.604Z"
   },
   {
    "duration": 20,
    "start_time": "2022-09-19T17:21:19.611Z"
   },
   {
    "duration": 30,
    "start_time": "2022-09-19T17:21:19.634Z"
   },
   {
    "duration": 71,
    "start_time": "2022-09-19T17:21:19.666Z"
   },
   {
    "duration": 11,
    "start_time": "2022-09-19T17:21:19.740Z"
   },
   {
    "duration": 176,
    "start_time": "2022-09-19T17:21:19.752Z"
   },
   {
    "duration": 383,
    "start_time": "2022-09-19T17:38:31.613Z"
   },
   {
    "duration": 39022,
    "start_time": "2022-09-19T17:38:41.768Z"
   },
   {
    "duration": 356372,
    "start_time": "2022-09-19T17:39:24.296Z"
   },
   {
    "duration": 3,
    "start_time": "2022-09-19T17:45:32.210Z"
   },
   {
    "duration": 921,
    "start_time": "2022-09-19T17:45:33.853Z"
   },
   {
    "duration": 20,
    "start_time": "2022-09-19T17:46:56.153Z"
   },
   {
    "duration": 448816,
    "start_time": "2022-09-19T17:47:14.945Z"
   },
   {
    "duration": 4,
    "start_time": "2022-09-19T17:54:43.770Z"
   },
   {
    "duration": 911,
    "start_time": "2022-09-19T17:54:43.855Z"
   },
   {
    "duration": 839,
    "start_time": "2022-09-19T17:56:43.464Z"
   },
   {
    "duration": 949,
    "start_time": "2022-09-19T17:56:50.987Z"
   },
   {
    "duration": 22,
    "start_time": "2022-09-19T17:58:38.386Z"
   },
   {
    "duration": 522123,
    "start_time": "2022-09-19T17:58:44.792Z"
   },
   {
    "duration": 3,
    "start_time": "2022-09-19T18:07:26.917Z"
   },
   {
    "duration": 897,
    "start_time": "2022-09-19T18:07:26.922Z"
   }
  ],
  "kernelspec": {
   "display_name": "Python 3 (ipykernel)",
   "language": "python",
   "name": "python3"
  },
  "language_info": {
   "codemirror_mode": {
    "name": "ipython",
    "version": 3
   },
   "file_extension": ".py",
   "mimetype": "text/x-python",
   "name": "python",
   "nbconvert_exporter": "python",
   "pygments_lexer": "ipython3",
   "version": "3.9.7"
  },
  "toc": {
   "base_numbering": 1,
   "nav_menu": {},
   "number_sections": true,
   "sideBar": true,
   "skip_h1_title": true,
   "title_cell": "Содержание",
   "title_sidebar": "Contents",
   "toc_cell": true,
   "toc_position": {
    "height": "calc(100% - 180px)",
    "left": "10px",
    "top": "150px",
    "width": "302.391px"
   },
   "toc_section_display": true,
   "toc_window_display": false
  }
 },
 "nbformat": 4,
 "nbformat_minor": 4
}
