{
 "cells": [
  {
   "cell_type": "markdown",
   "metadata": {},
   "source": [
    "# Рекомендация тарифов\n",
    "___\n",
    "# Tariff recommendation"
   ]
  },
  {
   "cell_type": "markdown",
   "metadata": {},
   "source": [
    "В доступе имеются данные о поведении клиентов, которые перешли на определенные тарифы. Необходимо создать модель для задач классификации, с помощью которой впоследствии можно производить выбор наиболее подходящего тарифа.\n",
    "\n",
    "Нужно построить модель с наибольшим значением **accuracy**. Минимальное целевое значение параметра - 0,75.\n",
    "___\n",
    "Access has data on the behavior of customers who have switched to certain tariffs. It is necessary to create a model for classification tasks, with the help of which you can subsequently select the most appropriate tariff.\n",
    "\n",
    "You need to build the model with the highest **accuracy** value. The minimum target value of the parameter is 0.75."
   ]
  },
  {
   "cell_type": "markdown",
   "metadata": {},
   "source": [
    "## Исследование данных\n",
    "___\n",
    "## Data exploration"
   ]
  },
  {
   "cell_type": "code",
   "execution_count": 1,
   "metadata": {},
   "outputs": [],
   "source": [
    "import pandas as pd\n",
    "import seaborn as sns\n",
    "import matplotlib.pyplot as plt\n",
    "from sklearn.model_selection import train_test_split\n",
    "from sklearn.tree import DecisionTreeClassifier\n",
    "from sklearn.metrics import accuracy_score\n",
    "from sklearn.ensemble import RandomForestClassifier\n",
    "from sklearn.linear_model import LogisticRegression\n",
    "from sklearn.dummy import DummyClassifier"
   ]
  },
  {
   "cell_type": "code",
   "execution_count": 2,
   "metadata": {},
   "outputs": [],
   "source": [
    "df = pd.read_csv('users_behavior.csv')"
   ]
  },
  {
   "cell_type": "code",
   "execution_count": 3,
   "metadata": {
    "scrolled": true
   },
   "outputs": [
    {
     "data": {
      "text/html": [
       "<div>\n",
       "<style scoped>\n",
       "    .dataframe tbody tr th:only-of-type {\n",
       "        vertical-align: middle;\n",
       "    }\n",
       "\n",
       "    .dataframe tbody tr th {\n",
       "        vertical-align: top;\n",
       "    }\n",
       "\n",
       "    .dataframe thead th {\n",
       "        text-align: right;\n",
       "    }\n",
       "</style>\n",
       "<table border=\"1\" class=\"dataframe\">\n",
       "  <thead>\n",
       "    <tr style=\"text-align: right;\">\n",
       "      <th></th>\n",
       "      <th>calls</th>\n",
       "      <th>minutes</th>\n",
       "      <th>messages</th>\n",
       "      <th>mb_used</th>\n",
       "      <th>is_ultra</th>\n",
       "    </tr>\n",
       "  </thead>\n",
       "  <tbody>\n",
       "    <tr>\n",
       "      <th>0</th>\n",
       "      <td>40.0</td>\n",
       "      <td>311.90</td>\n",
       "      <td>83.0</td>\n",
       "      <td>19915.42</td>\n",
       "      <td>0</td>\n",
       "    </tr>\n",
       "    <tr>\n",
       "      <th>1</th>\n",
       "      <td>85.0</td>\n",
       "      <td>516.75</td>\n",
       "      <td>56.0</td>\n",
       "      <td>22696.96</td>\n",
       "      <td>0</td>\n",
       "    </tr>\n",
       "    <tr>\n",
       "      <th>2</th>\n",
       "      <td>77.0</td>\n",
       "      <td>467.66</td>\n",
       "      <td>86.0</td>\n",
       "      <td>21060.45</td>\n",
       "      <td>0</td>\n",
       "    </tr>\n",
       "    <tr>\n",
       "      <th>3</th>\n",
       "      <td>106.0</td>\n",
       "      <td>745.53</td>\n",
       "      <td>81.0</td>\n",
       "      <td>8437.39</td>\n",
       "      <td>1</td>\n",
       "    </tr>\n",
       "    <tr>\n",
       "      <th>4</th>\n",
       "      <td>66.0</td>\n",
       "      <td>418.74</td>\n",
       "      <td>1.0</td>\n",
       "      <td>14502.75</td>\n",
       "      <td>0</td>\n",
       "    </tr>\n",
       "  </tbody>\n",
       "</table>\n",
       "</div>"
      ],
      "text/plain": [
       "   calls  minutes  messages   mb_used  is_ultra\n",
       "0   40.0   311.90      83.0  19915.42         0\n",
       "1   85.0   516.75      56.0  22696.96         0\n",
       "2   77.0   467.66      86.0  21060.45         0\n",
       "3  106.0   745.53      81.0   8437.39         1\n",
       "4   66.0   418.74       1.0  14502.75         0"
      ]
     },
     "execution_count": 3,
     "metadata": {},
     "output_type": "execute_result"
    }
   ],
   "source": [
    "df.head(5)"
   ]
  },
  {
   "cell_type": "code",
   "execution_count": 4,
   "metadata": {
    "scrolled": true
   },
   "outputs": [
    {
     "name": "stdout",
     "output_type": "stream",
     "text": [
      "<class 'pandas.core.frame.DataFrame'>\n",
      "RangeIndex: 3214 entries, 0 to 3213\n",
      "Data columns (total 5 columns):\n",
      " #   Column    Non-Null Count  Dtype  \n",
      "---  ------    --------------  -----  \n",
      " 0   calls     3214 non-null   float64\n",
      " 1   minutes   3214 non-null   float64\n",
      " 2   messages  3214 non-null   float64\n",
      " 3   mb_used   3214 non-null   float64\n",
      " 4   is_ultra  3214 non-null   int64  \n",
      "dtypes: float64(4), int64(1)\n",
      "memory usage: 125.7 KB\n"
     ]
    }
   ],
   "source": [
    "df.info()"
   ]
  },
  {
   "cell_type": "code",
   "execution_count": 5,
   "metadata": {},
   "outputs": [
    {
     "data": {
      "text/plain": [
       "0.0"
      ]
     },
     "execution_count": 5,
     "metadata": {},
     "output_type": "execute_result"
    }
   ],
   "source": [
    "df.duplicated().mean()"
   ]
  },
  {
   "cell_type": "code",
   "execution_count": 6,
   "metadata": {
    "scrolled": true
   },
   "outputs": [
    {
     "data": {
      "text/plain": [
       "calls       0.0\n",
       "minutes     0.0\n",
       "messages    0.0\n",
       "mb_used     0.0\n",
       "is_ultra    0.0\n",
       "dtype: float64"
      ]
     },
     "execution_count": 6,
     "metadata": {},
     "output_type": "execute_result"
    }
   ],
   "source": [
    "df.isna().mean()*100"
   ]
  },
  {
   "cell_type": "markdown",
   "metadata": {},
   "source": [
    "Данные без дубликатов и пропусков, типы данных корректны.\n",
    "___\n",
    "Data without duplicates and gaps, data types are correct."
   ]
  },
  {
   "cell_type": "markdown",
   "metadata": {},
   "source": [
    "## Предобработка данных\n",
    "___\n",
    "## Data preprocessing"
   ]
  },
  {
   "cell_type": "code",
   "execution_count": 7,
   "metadata": {},
   "outputs": [],
   "source": [
    "df_test, df_t_v = train_test_split(df, test_size=0.4, random_state=12345)"
   ]
  },
  {
   "cell_type": "code",
   "execution_count": 8,
   "metadata": {},
   "outputs": [],
   "source": [
    "df_train, df_valid = train_test_split(df_t_v, test_size=0.5, random_state=12345) "
   ]
  },
  {
   "cell_type": "markdown",
   "metadata": {},
   "source": [
    "Получилось 3 выборки, **df_test** (50% от изначальной df), **df_train** и **df_valid** (внутреннее соотношение 75% и 25%).\n",
    "___\n",
    "This resulted in 3 samples, **df_test** (50% of the original df), **df_train** and **df_valid** (internal ratio of 75% and 25%)."
   ]
  },
  {
   "cell_type": "markdown",
   "metadata": {},
   "source": [
    "## Исследование моделей\n",
    "___\n",
    "## Exploring Models"
   ]
  },
  {
   "cell_type": "code",
   "execution_count": 9,
   "metadata": {},
   "outputs": [],
   "source": [
    "features_train = df_train.drop(['is_ultra'], axis=1)\n",
    "target_train = df_train['is_ultra']\n",
    "features_valid = df_valid.drop(['is_ultra'], axis=1)\n",
    "target_valid = df_valid['is_ultra']"
   ]
  },
  {
   "cell_type": "code",
   "execution_count": 10,
   "metadata": {},
   "outputs": [
    {
     "name": "stdout",
     "output_type": "stream",
     "text": [
      "(643, 4)\n",
      "(643,)\n",
      "(643, 4)\n",
      "(643,)\n"
     ]
    }
   ],
   "source": [
    "print(features_train.shape)\n",
    "print(target_train.shape)\n",
    "print(features_valid.shape)\n",
    "print(target_valid.shape)"
   ]
  },
  {
   "cell_type": "markdown",
   "metadata": {},
   "source": [
    "Данные структурированы по признаку **is_ultra**.\n",
    "___\n",
    "The data is structured according to the attribute **is_ultra**."
   ]
  },
  {
   "cell_type": "markdown",
   "metadata": {},
   "source": [
    "Пробуем решающее дерево.\n",
    "___\n",
    "Let's try a decision tree."
   ]
  },
  {
   "cell_type": "code",
   "execution_count": 11,
   "metadata": {
    "scrolled": true
   },
   "outputs": [
    {
     "name": "stdout",
     "output_type": "stream",
     "text": [
      "Accuracy лучшей модели: DecisionTreeClassifier(max_depth=4, random_state=12345)\n",
      "Лучшая модель - 0.7853810264385692\n"
     ]
    }
   ],
   "source": [
    "best_model_dt = None\n",
    "best_result_dt = 0\n",
    "for depth in range(1, 6):\n",
    "    model = DecisionTreeClassifier(random_state=12345, max_depth=depth) # обучите модель с заданной глубиной дерева\n",
    "    model.fit(features_train, target_train) # обучите модель на тренировочной выборке\n",
    "    result = model.score(features_valid, target_valid) # посчитайте качество модели на валидационной выборке\n",
    "    if result > best_result_dt:\n",
    "        best_model_dt = model # сохраните наилучшую модель\n",
    "        best_result_dt = result #  сохраните наилучшее значение метрики accuracy на валидационных данных\n",
    "        \n",
    "print(\"Accuracy лучшей модели:\", best_model_dt)\n",
    "print('Лучшая модель -', best_result_dt)"
   ]
  },
  {
   "cell_type": "markdown",
   "metadata": {},
   "source": [
    "Доля правильных ответов выше обозначенного значения, значит данная модель нам подходит.\n",
    "___\n",
    "The proportion of correct answers is higher than the indicated value, which means that this model suits us."
   ]
  },
  {
   "cell_type": "markdown",
   "metadata": {},
   "source": [
    "Пробуем случайный лес.\n",
    "___\n",
    "Let's try a random forest."
   ]
  },
  {
   "cell_type": "code",
   "execution_count": 12,
   "metadata": {
    "scrolled": true
   },
   "outputs": [
    {
     "name": "stdout",
     "output_type": "stream",
     "text": [
      "Accuracy лучшей модели: RandomForestClassifier(n_estimators=14, random_state=12345)\n",
      "Лучшая модель - 0.7978227060653188\n"
     ]
    }
   ],
   "source": [
    "best_model_rf = None\n",
    "best_result_rf = 0\n",
    "for est in range(1, 16):\n",
    "    model = RandomForestClassifier(random_state=12345, n_estimators=est)\n",
    "    model.fit(features_train, target_train)\n",
    "    result = model.score(features_valid, target_valid)\n",
    "    if result > best_result_rf:\n",
    "        best_model_rf = model \n",
    "        best_result_rf = result \n",
    "        \n",
    "print(\"Accuracy лучшей модели:\", best_model_rf)\n",
    "print('Лучшая модель -', best_result_rf)"
   ]
  },
  {
   "cell_type": "markdown",
   "metadata": {},
   "source": [
    "Доля правильных ответов выше обозначенного значения, больше данного значения в случае использования **решающего дерева**.\n",
    "___\n",
    "The proportion of correct answers is higher than the indicated value, more than this value in the case of using **decision tree**."
   ]
  },
  {
   "cell_type": "markdown",
   "metadata": {},
   "source": [
    "Пробуем логистическую регрессию.\n",
    "___\n",
    "Let's try logistic regression."
   ]
  },
  {
   "cell_type": "code",
   "execution_count": 13,
   "metadata": {},
   "outputs": [
    {
     "name": "stdout",
     "output_type": "stream",
     "text": [
      "Accuracy лучшей модели: 0.6889580093312597\n",
      "Лучшая модель - LogisticRegression(max_iter=60, random_state=12345)\n"
     ]
    }
   ],
   "source": [
    "best_model_lr = None\n",
    "best_result_lr = 0\n",
    "for iter in range(60, 121):\n",
    "    model = LogisticRegression(random_state=12345, solver='lbfgs', max_iter=iter)\n",
    "    model.fit(features_train, target_train)\n",
    "    result = model.score(features_valid, target_valid)\n",
    "    if result > best_result_lr:\n",
    "        best_model_lr = model \n",
    "        best_result_lr = result \n",
    "        \n",
    "print(\"Accuracy лучшей модели:\", best_result_lr)\n",
    "print('Лучшая модель -', best_model_lr)"
   ]
  },
  {
   "cell_type": "markdown",
   "metadata": {},
   "source": [
    "Доля правильных ответов менее 0.75, данный вариант нам не подходит.\n",
    "___\n",
    "The proportion of correct answers is less than 0.75, this option does not suit us."
   ]
  },
  {
   "cell_type": "markdown",
   "metadata": {},
   "source": [
    "## Проверка модели на тестовой выборке\n",
    "___\n",
    "## Validate the model on the test set"
   ]
  },
  {
   "cell_type": "code",
   "execution_count": 14,
   "metadata": {},
   "outputs": [],
   "source": [
    "features_test = df_test.drop(['is_ultra'], axis=1)\n",
    "target_test = df_test['is_ultra']"
   ]
  },
  {
   "cell_type": "code",
   "execution_count": 15,
   "metadata": {},
   "outputs": [
    {
     "name": "stdout",
     "output_type": "stream",
     "text": [
      "0.9896265560165975\n"
     ]
    }
   ],
   "source": [
    "model = RandomForestClassifier(n_estimators=15, random_state=12345)\n",
    "model.fit(features_test, target_test)\n",
    "result = model.score(features_test, target_test)\n",
    "print(result)"
   ]
  },
  {
   "cell_type": "markdown",
   "metadata": {},
   "source": [
    "Модель хорошо показала себя на тестовой выборке. Доля правильных ответов более 0.75, равна 0.989626, что является практически идеальным результатом. Соответственно метод \"случайный лес\" в данном случае является оптимальным, особенно с указанными выше гиперпараметрами (RandomForestClassifier(n_estimators=15, random_state=12345)).\n",
    "___\n",
    "The model performed well on the test sample. The proportion of correct answers over 0.75 is 0.989626, which is an almost perfect result. Accordingly, the \"random forest\" method in this case is optimal, especially with the above hyperparameters (RandomForestClassifier(n_estimators=15, random_state=12345))."
   ]
  }
 ],
 "metadata": {
  "ExecuteTimeLog": [
   {
    "duration": 1603,
    "start_time": "2022-06-22T10:08:29.389Z"
   },
   {
    "duration": 158,
    "start_time": "2022-06-22T10:08:33.530Z"
   },
   {
    "duration": 16,
    "start_time": "2022-06-22T10:08:41.969Z"
   },
   {
    "duration": 13,
    "start_time": "2022-06-22T10:08:51.977Z"
   },
   {
    "duration": 9,
    "start_time": "2022-06-22T10:09:08.437Z"
   },
   {
    "duration": 9,
    "start_time": "2022-06-22T10:09:12.740Z"
   },
   {
    "duration": 8,
    "start_time": "2022-06-22T10:09:23.597Z"
   },
   {
    "duration": 6,
    "start_time": "2022-06-22T10:09:37.093Z"
   },
   {
    "duration": 3,
    "start_time": "2022-06-22T10:11:48.143Z"
   },
   {
    "duration": 30,
    "start_time": "2022-06-22T10:11:50.194Z"
   },
   {
    "duration": 12,
    "start_time": "2022-06-22T10:11:51.481Z"
   },
   {
    "duration": 11,
    "start_time": "2022-06-22T10:11:52.838Z"
   },
   {
    "duration": 11,
    "start_time": "2022-06-22T10:11:53.263Z"
   },
   {
    "duration": 7,
    "start_time": "2022-06-22T10:11:53.565Z"
   },
   {
    "duration": 7,
    "start_time": "2022-06-22T10:11:54.138Z"
   },
   {
    "duration": 6,
    "start_time": "2022-06-22T10:17:15.369Z"
   },
   {
    "duration": 5,
    "start_time": "2022-06-22T10:18:23.173Z"
   },
   {
    "duration": 5,
    "start_time": "2022-06-22T10:23:11.316Z"
   },
   {
    "duration": 4,
    "start_time": "2022-06-22T10:23:26.695Z"
   },
   {
    "duration": 122,
    "start_time": "2022-06-22T10:29:25.738Z"
   },
   {
    "duration": 3,
    "start_time": "2022-06-22T10:29:50.701Z"
   },
   {
    "duration": 3,
    "start_time": "2022-06-22T10:29:52.611Z"
   },
   {
    "duration": 30,
    "start_time": "2022-06-22T10:29:52.943Z"
   },
   {
    "duration": 11,
    "start_time": "2022-06-22T10:29:53.109Z"
   },
   {
    "duration": 13,
    "start_time": "2022-06-22T10:29:53.309Z"
   },
   {
    "duration": 8,
    "start_time": "2022-06-22T10:29:54.839Z"
   },
   {
    "duration": 6,
    "start_time": "2022-06-22T10:29:55.124Z"
   },
   {
    "duration": 6,
    "start_time": "2022-06-22T10:29:57.293Z"
   },
   {
    "duration": 4,
    "start_time": "2022-06-22T10:29:57.677Z"
   },
   {
    "duration": 5,
    "start_time": "2022-06-22T10:30:00.661Z"
   },
   {
    "duration": 4,
    "start_time": "2022-06-22T10:30:01.984Z"
   },
   {
    "duration": 30,
    "start_time": "2022-06-22T10:30:05.209Z"
   },
   {
    "duration": 13,
    "start_time": "2022-06-22T10:31:13.919Z"
   },
   {
    "duration": 3,
    "start_time": "2022-06-22T10:31:35.707Z"
   },
   {
    "duration": 4,
    "start_time": "2022-06-22T10:31:42.474Z"
   },
   {
    "duration": 35,
    "start_time": "2022-06-22T10:31:42.481Z"
   },
   {
    "duration": 12,
    "start_time": "2022-06-22T10:31:42.518Z"
   },
   {
    "duration": 12,
    "start_time": "2022-06-22T10:31:42.532Z"
   },
   {
    "duration": 5,
    "start_time": "2022-06-22T10:31:42.547Z"
   },
   {
    "duration": 7,
    "start_time": "2022-06-22T10:31:42.554Z"
   },
   {
    "duration": 6,
    "start_time": "2022-06-22T10:31:42.562Z"
   },
   {
    "duration": 5,
    "start_time": "2022-06-22T10:31:42.569Z"
   },
   {
    "duration": 5,
    "start_time": "2022-06-22T10:31:42.576Z"
   },
   {
    "duration": 7,
    "start_time": "2022-06-22T10:31:42.583Z"
   },
   {
    "duration": 58,
    "start_time": "2022-06-22T10:31:42.591Z"
   },
   {
    "duration": 203,
    "start_time": "2022-06-22T10:31:44.593Z"
   },
   {
    "duration": 9,
    "start_time": "2022-06-22T10:34:49.433Z"
   },
   {
    "duration": 3,
    "start_time": "2022-06-22T10:35:15.901Z"
   },
   {
    "duration": 3,
    "start_time": "2022-06-22T10:35:20.906Z"
   },
   {
    "duration": 37,
    "start_time": "2022-06-22T10:35:20.911Z"
   },
   {
    "duration": 11,
    "start_time": "2022-06-22T10:35:20.950Z"
   },
   {
    "duration": 27,
    "start_time": "2022-06-22T10:35:20.963Z"
   },
   {
    "duration": 7,
    "start_time": "2022-06-22T10:35:20.993Z"
   },
   {
    "duration": 10,
    "start_time": "2022-06-22T10:35:21.002Z"
   },
   {
    "duration": 7,
    "start_time": "2022-06-22T10:35:21.013Z"
   },
   {
    "duration": 8,
    "start_time": "2022-06-22T10:35:21.021Z"
   },
   {
    "duration": 7,
    "start_time": "2022-06-22T10:35:21.030Z"
   },
   {
    "duration": 9,
    "start_time": "2022-06-22T10:35:21.038Z"
   },
   {
    "duration": 29,
    "start_time": "2022-06-22T10:35:21.048Z"
   },
   {
    "duration": 221,
    "start_time": "2022-06-22T10:35:21.079Z"
   },
   {
    "duration": 20,
    "start_time": "2022-06-22T10:35:23.323Z"
   },
   {
    "duration": 4,
    "start_time": "2022-06-22T10:36:58.769Z"
   },
   {
    "duration": 46,
    "start_time": "2022-06-22T10:37:16.396Z"
   },
   {
    "duration": 4,
    "start_time": "2022-06-22T10:43:35.997Z"
   },
   {
    "duration": 12,
    "start_time": "2022-06-22T10:44:19.960Z"
   },
   {
    "duration": 6,
    "start_time": "2022-06-22T10:44:29.446Z"
   },
   {
    "duration": 3,
    "start_time": "2022-06-22T10:44:48.337Z"
   },
   {
    "duration": 28,
    "start_time": "2022-06-22T10:52:18.733Z"
   },
   {
    "duration": 201,
    "start_time": "2022-06-22T10:52:25.044Z"
   },
   {
    "duration": 18,
    "start_time": "2022-06-22T10:52:35.941Z"
   },
   {
    "duration": 19,
    "start_time": "2022-06-22T10:52:37.609Z"
   },
   {
    "duration": 731,
    "start_time": "2022-06-22T10:54:04.581Z"
   },
   {
    "duration": 10,
    "start_time": "2022-06-22T10:55:15.930Z"
   },
   {
    "duration": 12,
    "start_time": "2022-06-22T10:55:20.873Z"
   },
   {
    "duration": 1656,
    "start_time": "2022-06-22T15:42:51.782Z"
   },
   {
    "duration": 28,
    "start_time": "2022-06-22T15:42:53.440Z"
   },
   {
    "duration": 20,
    "start_time": "2022-06-22T15:42:53.469Z"
   },
   {
    "duration": 11,
    "start_time": "2022-06-22T15:42:53.490Z"
   },
   {
    "duration": 9,
    "start_time": "2022-06-22T15:42:53.503Z"
   },
   {
    "duration": 11,
    "start_time": "2022-06-22T15:42:53.514Z"
   },
   {
    "duration": 5,
    "start_time": "2022-06-22T15:42:53.526Z"
   },
   {
    "duration": 5,
    "start_time": "2022-06-22T15:42:53.533Z"
   },
   {
    "duration": 8,
    "start_time": "2022-06-22T15:42:53.540Z"
   },
   {
    "duration": 9,
    "start_time": "2022-06-22T15:42:53.550Z"
   },
   {
    "duration": 33,
    "start_time": "2022-06-22T15:42:53.561Z"
   },
   {
    "duration": 212,
    "start_time": "2022-06-22T15:42:53.596Z"
   },
   {
    "duration": 716,
    "start_time": "2022-06-22T15:42:53.810Z"
   },
   {
    "duration": 4,
    "start_time": "2022-06-22T15:42:54.528Z"
   },
   {
    "duration": 17,
    "start_time": "2022-06-22T15:42:54.535Z"
   },
   {
    "duration": 7,
    "start_time": "2022-06-22T15:42:54.554Z"
   },
   {
    "duration": 10,
    "start_time": "2022-06-22T15:43:59.585Z"
   },
   {
    "duration": 1485,
    "start_time": "2022-06-22T15:50:07.274Z"
   },
   {
    "duration": 29,
    "start_time": "2022-06-22T15:50:08.761Z"
   },
   {
    "duration": 15,
    "start_time": "2022-06-22T15:50:08.791Z"
   },
   {
    "duration": 13,
    "start_time": "2022-06-22T15:50:08.808Z"
   },
   {
    "duration": 14,
    "start_time": "2022-06-22T15:50:08.823Z"
   },
   {
    "duration": 6,
    "start_time": "2022-06-22T15:50:08.838Z"
   },
   {
    "duration": 11,
    "start_time": "2022-06-22T15:50:08.846Z"
   },
   {
    "duration": 4,
    "start_time": "2022-06-22T15:50:08.859Z"
   },
   {
    "duration": 8,
    "start_time": "2022-06-22T15:50:08.865Z"
   },
   {
    "duration": 6,
    "start_time": "2022-06-22T15:50:08.874Z"
   },
   {
    "duration": 43,
    "start_time": "2022-06-22T15:50:08.882Z"
   },
   {
    "duration": 206,
    "start_time": "2022-06-22T15:50:08.927Z"
   },
   {
    "duration": 691,
    "start_time": "2022-06-22T15:50:09.142Z"
   },
   {
    "duration": 3,
    "start_time": "2022-06-22T15:50:09.836Z"
   },
   {
    "duration": 12,
    "start_time": "2022-06-22T15:50:09.841Z"
   },
   {
    "duration": 6,
    "start_time": "2022-06-22T15:50:09.854Z"
   },
   {
    "duration": 1536,
    "start_time": "2022-06-22T17:57:54.399Z"
   },
   {
    "duration": 139,
    "start_time": "2022-06-22T17:57:55.938Z"
   },
   {
    "duration": 16,
    "start_time": "2022-06-22T17:57:56.079Z"
   },
   {
    "duration": 11,
    "start_time": "2022-06-22T17:57:56.097Z"
   },
   {
    "duration": 19,
    "start_time": "2022-06-22T17:57:56.110Z"
   },
   {
    "duration": 38,
    "start_time": "2022-06-22T17:57:56.131Z"
   },
   {
    "duration": 6,
    "start_time": "2022-06-22T17:58:40.390Z"
   },
   {
    "duration": 5,
    "start_time": "2022-06-22T17:58:42.589Z"
   },
   {
    "duration": 6,
    "start_time": "2022-06-22T17:58:48.322Z"
   },
   {
    "duration": 4,
    "start_time": "2022-06-22T17:58:49.894Z"
   },
   {
    "duration": 23,
    "start_time": "2022-06-22T17:58:58.070Z"
   },
   {
    "duration": 24,
    "start_time": "2022-06-22T18:01:13.882Z"
   },
   {
    "duration": 24,
    "start_time": "2022-06-22T18:01:21.872Z"
   },
   {
    "duration": 175,
    "start_time": "2022-06-22T18:01:32.721Z"
   },
   {
    "duration": 495,
    "start_time": "2022-06-22T18:01:39.308Z"
   },
   {
    "duration": 1013,
    "start_time": "2022-06-22T18:01:47.351Z"
   },
   {
    "duration": 285,
    "start_time": "2022-06-22T18:01:53.332Z"
   },
   {
    "duration": 258,
    "start_time": "2022-06-22T18:02:02.271Z"
   },
   {
    "duration": 226,
    "start_time": "2022-06-22T18:02:05.708Z"
   },
   {
    "duration": 253,
    "start_time": "2022-06-22T18:02:09.622Z"
   },
   {
    "duration": 294,
    "start_time": "2022-06-22T18:02:13.505Z"
   },
   {
    "duration": 251,
    "start_time": "2022-06-22T18:02:18.170Z"
   },
   {
    "duration": 291,
    "start_time": "2022-06-22T18:02:21.800Z"
   },
   {
    "duration": 366,
    "start_time": "2022-06-22T18:02:25.340Z"
   },
   {
    "duration": 316,
    "start_time": "2022-06-22T18:02:32.108Z"
   },
   {
    "duration": 114,
    "start_time": "2022-06-22T18:08:51.910Z"
   },
   {
    "duration": 15,
    "start_time": "2022-06-22T18:09:05.739Z"
   },
   {
    "duration": 9,
    "start_time": "2022-06-22T18:15:04.769Z"
   },
   {
    "duration": 3,
    "start_time": "2022-06-22T18:15:11.805Z"
   },
   {
    "duration": 29,
    "start_time": "2022-06-22T18:15:11.811Z"
   },
   {
    "duration": 16,
    "start_time": "2022-06-22T18:15:11.842Z"
   },
   {
    "duration": 26,
    "start_time": "2022-06-22T18:15:11.859Z"
   },
   {
    "duration": 9,
    "start_time": "2022-06-22T18:15:11.887Z"
   },
   {
    "duration": 6,
    "start_time": "2022-06-22T18:15:11.897Z"
   },
   {
    "duration": 5,
    "start_time": "2022-06-22T18:15:11.905Z"
   },
   {
    "duration": 6,
    "start_time": "2022-06-22T18:15:11.911Z"
   },
   {
    "duration": 6,
    "start_time": "2022-06-22T18:15:11.919Z"
   },
   {
    "duration": 19,
    "start_time": "2022-06-22T18:15:11.926Z"
   },
   {
    "duration": 40,
    "start_time": "2022-06-22T18:15:11.947Z"
   },
   {
    "duration": 299,
    "start_time": "2022-06-22T18:15:11.989Z"
   },
   {
    "duration": 914,
    "start_time": "2022-06-22T18:15:12.290Z"
   },
   {
    "duration": 3,
    "start_time": "2022-06-22T18:15:13.206Z"
   },
   {
    "duration": 70,
    "start_time": "2022-06-22T18:15:14.332Z"
   },
   {
    "duration": 6,
    "start_time": "2022-06-22T18:15:40.627Z"
   },
   {
    "duration": 3,
    "start_time": "2022-06-22T18:19:48.636Z"
   },
   {
    "duration": 36,
    "start_time": "2022-06-22T18:19:48.642Z"
   },
   {
    "duration": 16,
    "start_time": "2022-06-22T18:19:48.681Z"
   },
   {
    "duration": 16,
    "start_time": "2022-06-22T18:19:48.700Z"
   },
   {
    "duration": 10,
    "start_time": "2022-06-22T18:19:48.719Z"
   },
   {
    "duration": 7,
    "start_time": "2022-06-22T18:19:48.731Z"
   },
   {
    "duration": 13,
    "start_time": "2022-06-22T18:19:48.739Z"
   },
   {
    "duration": 8,
    "start_time": "2022-06-22T18:19:48.754Z"
   },
   {
    "duration": 13,
    "start_time": "2022-06-22T18:19:48.764Z"
   },
   {
    "duration": 8,
    "start_time": "2022-06-22T18:19:48.779Z"
   },
   {
    "duration": 26,
    "start_time": "2022-06-22T18:19:51.067Z"
   },
   {
    "duration": 349,
    "start_time": "2022-06-22T18:19:54.151Z"
   },
   {
    "duration": 932,
    "start_time": "2022-06-22T18:19:58.061Z"
   },
   {
    "duration": 5,
    "start_time": "2022-06-22T18:20:01.968Z"
   },
   {
    "duration": 71,
    "start_time": "2022-06-22T18:20:03.515Z"
   },
   {
    "duration": 7,
    "start_time": "2022-06-22T18:20:06.541Z"
   },
   {
    "duration": 7,
    "start_time": "2022-06-22T18:22:27.177Z"
   },
   {
    "duration": 1452,
    "start_time": "2022-06-22T18:24:41.241Z"
   },
   {
    "duration": 28,
    "start_time": "2022-06-22T18:24:42.695Z"
   },
   {
    "duration": 16,
    "start_time": "2022-06-22T18:24:42.725Z"
   },
   {
    "duration": 16,
    "start_time": "2022-06-22T18:24:42.743Z"
   },
   {
    "duration": 12,
    "start_time": "2022-06-22T18:24:42.761Z"
   },
   {
    "duration": 10,
    "start_time": "2022-06-22T18:24:42.775Z"
   },
   {
    "duration": 8,
    "start_time": "2022-06-22T18:24:42.787Z"
   },
   {
    "duration": 9,
    "start_time": "2022-06-22T18:24:42.796Z"
   },
   {
    "duration": 10,
    "start_time": "2022-06-22T18:24:42.806Z"
   },
   {
    "duration": 9,
    "start_time": "2022-06-22T18:24:42.818Z"
   },
   {
    "duration": 133,
    "start_time": "2022-06-22T18:24:42.829Z"
   },
   {
    "duration": 0,
    "start_time": "2022-06-22T18:24:42.964Z"
   },
   {
    "duration": 0,
    "start_time": "2022-06-22T18:24:42.966Z"
   },
   {
    "duration": 1,
    "start_time": "2022-06-22T18:24:42.967Z"
   },
   {
    "duration": 0,
    "start_time": "2022-06-22T18:24:42.969Z"
   },
   {
    "duration": 0,
    "start_time": "2022-06-22T18:24:42.970Z"
   },
   {
    "duration": 32,
    "start_time": "2022-06-22T18:25:35.244Z"
   },
   {
    "duration": 1394,
    "start_time": "2022-06-22T18:25:42.335Z"
   },
   {
    "duration": 42,
    "start_time": "2022-06-22T18:25:43.731Z"
   },
   {
    "duration": 15,
    "start_time": "2022-06-22T18:25:43.775Z"
   },
   {
    "duration": 11,
    "start_time": "2022-06-22T18:25:43.792Z"
   },
   {
    "duration": 14,
    "start_time": "2022-06-22T18:25:43.805Z"
   },
   {
    "duration": 7,
    "start_time": "2022-06-22T18:25:43.820Z"
   },
   {
    "duration": 7,
    "start_time": "2022-06-22T18:25:43.828Z"
   },
   {
    "duration": 18,
    "start_time": "2022-06-22T18:25:43.836Z"
   },
   {
    "duration": 6,
    "start_time": "2022-06-22T18:25:43.857Z"
   },
   {
    "duration": 9,
    "start_time": "2022-06-22T18:25:43.867Z"
   },
   {
    "duration": 37,
    "start_time": "2022-06-22T18:25:43.878Z"
   },
   {
    "duration": 321,
    "start_time": "2022-06-22T18:25:43.917Z"
   },
   {
    "duration": 1031,
    "start_time": "2022-06-22T18:25:44.239Z"
   },
   {
    "duration": 0,
    "start_time": "2022-06-22T18:25:45.273Z"
   },
   {
    "duration": 0,
    "start_time": "2022-06-22T18:25:45.274Z"
   },
   {
    "duration": 0,
    "start_time": "2022-06-22T18:25:45.275Z"
   },
   {
    "duration": 1378,
    "start_time": "2022-06-22T18:26:10.806Z"
   },
   {
    "duration": 27,
    "start_time": "2022-06-22T18:26:12.187Z"
   },
   {
    "duration": 14,
    "start_time": "2022-06-22T18:26:12.216Z"
   },
   {
    "duration": 11,
    "start_time": "2022-06-22T18:26:12.232Z"
   },
   {
    "duration": 13,
    "start_time": "2022-06-22T18:26:12.244Z"
   },
   {
    "duration": 21,
    "start_time": "2022-06-22T18:26:12.258Z"
   },
   {
    "duration": 6,
    "start_time": "2022-06-22T18:26:12.280Z"
   },
   {
    "duration": 7,
    "start_time": "2022-06-22T18:26:12.287Z"
   },
   {
    "duration": 8,
    "start_time": "2022-06-22T18:26:12.296Z"
   },
   {
    "duration": 6,
    "start_time": "2022-06-22T18:26:12.306Z"
   },
   {
    "duration": 26,
    "start_time": "2022-06-22T18:26:12.313Z"
   },
   {
    "duration": 346,
    "start_time": "2022-06-22T18:26:12.341Z"
   },
   {
    "duration": 886,
    "start_time": "2022-06-22T18:26:12.689Z"
   },
   {
    "duration": 4,
    "start_time": "2022-06-22T18:26:13.577Z"
   },
   {
    "duration": 85,
    "start_time": "2022-06-22T18:26:13.583Z"
   },
   {
    "duration": 6,
    "start_time": "2022-06-22T18:26:13.669Z"
   },
   {
    "duration": 1774,
    "start_time": "2022-06-22T20:01:22.671Z"
   },
   {
    "duration": 63,
    "start_time": "2022-06-22T20:01:24.447Z"
   },
   {
    "duration": 15,
    "start_time": "2022-06-22T20:01:24.512Z"
   },
   {
    "duration": 11,
    "start_time": "2022-06-22T20:01:24.529Z"
   },
   {
    "duration": 8,
    "start_time": "2022-06-22T20:01:24.543Z"
   },
   {
    "duration": 7,
    "start_time": "2022-06-22T20:01:24.552Z"
   },
   {
    "duration": 8,
    "start_time": "2022-06-22T20:01:24.561Z"
   },
   {
    "duration": 15,
    "start_time": "2022-06-22T20:01:24.571Z"
   },
   {
    "duration": 12,
    "start_time": "2022-06-22T20:01:24.588Z"
   },
   {
    "duration": 14,
    "start_time": "2022-06-22T20:01:24.601Z"
   },
   {
    "duration": 31,
    "start_time": "2022-06-22T20:01:24.617Z"
   },
   {
    "duration": 305,
    "start_time": "2022-06-22T20:01:24.650Z"
   },
   {
    "duration": 894,
    "start_time": "2022-06-22T20:01:24.957Z"
   },
   {
    "duration": 3,
    "start_time": "2022-06-22T20:01:25.854Z"
   },
   {
    "duration": 93,
    "start_time": "2022-06-22T20:01:25.859Z"
   },
   {
    "duration": 7,
    "start_time": "2022-06-22T20:01:25.954Z"
   }
  ],
  "kernelspec": {
   "display_name": "Python 3 (ipykernel)",
   "language": "python",
   "name": "python3"
  },
  "language_info": {
   "codemirror_mode": {
    "name": "ipython",
    "version": 3
   },
   "file_extension": ".py",
   "mimetype": "text/x-python",
   "name": "python",
   "nbconvert_exporter": "python",
   "pygments_lexer": "ipython3",
   "version": "3.9.7"
  },
  "toc": {
   "base_numbering": 1,
   "nav_menu": {},
   "number_sections": true,
   "sideBar": true,
   "skip_h1_title": true,
   "title_cell": "Table of Contents",
   "title_sidebar": "Contents",
   "toc_cell": false,
   "toc_position": {},
   "toc_section_display": true,
   "toc_window_display": false
  }
 },
 "nbformat": 4,
 "nbformat_minor": 4
}
