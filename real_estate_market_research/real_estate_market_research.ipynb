{
 "cells": [
  {
   "cell_type": "markdown",
   "metadata": {},
   "source": [
    "# Исследование объявлений о продаже квартир\n",
    "___\n",
    "# Study of ads for the sale of apartments\n",
    "\n",
    "Имеются данные сервиса Я.Недвижимости. Сервис является агрегатором объявлений о продаже квартир.\n",
    "\n",
    "Необходимо научиться определять рыночную стоимость различных объектов недвижимости.\n",
    "\n",
    "Задача - установить параметры, которые позволят создать автоматизированную систему, которая может отследить аномалии и мошенническую деятельность.\n",
    "\n",
    "Имеется два типа данных - вписанные пользователем и полученные автоматически на основе картографических данных.\n",
    "___\n",
    "There is data from the Ya.Nedvizhimost service. The service is an aggregator of ads for the sale of apartments.\n",
    "\n",
    "It is necessary to learn how to determine the market value of various real estate objects.\n",
    "\n",
    "The challenge is to set parameters that will allow the creation of an automated system that can track down anomalies and fraudulent activity.\n",
    "\n",
    "There are two types of data - entered by the user and obtained automatically based on cartographic data."
   ]
  },
  {
   "cell_type": "markdown",
   "metadata": {},
   "source": [
    "## Изучение данных из файла\n",
    "___\n",
    "## Examining data from a file"
   ]
  },
  {
   "cell_type": "code",
   "execution_count": 1,
   "metadata": {},
   "outputs": [],
   "source": [
    "import pandas as pd\n",
    "import matplotlib.pyplot as plt\n",
    "import numpy as np"
   ]
  },
  {
   "cell_type": "code",
   "execution_count": 2,
   "metadata": {},
   "outputs": [],
   "source": [
    "df = pd.read_csv('real_estate_data.csv', sep=\"\\t\")"
   ]
  },
  {
   "cell_type": "code",
   "execution_count": 3,
   "metadata": {
    "scrolled": true
   },
   "outputs": [
    {
     "data": {
      "text/html": [
       "<div>\n",
       "<style scoped>\n",
       "    .dataframe tbody tr th:only-of-type {\n",
       "        vertical-align: middle;\n",
       "    }\n",
       "\n",
       "    .dataframe tbody tr th {\n",
       "        vertical-align: top;\n",
       "    }\n",
       "\n",
       "    .dataframe thead th {\n",
       "        text-align: right;\n",
       "    }\n",
       "</style>\n",
       "<table border=\"1\" class=\"dataframe\">\n",
       "  <thead>\n",
       "    <tr style=\"text-align: right;\">\n",
       "      <th></th>\n",
       "      <th>total_images</th>\n",
       "      <th>last_price</th>\n",
       "      <th>total_area</th>\n",
       "      <th>first_day_exposition</th>\n",
       "      <th>rooms</th>\n",
       "      <th>ceiling_height</th>\n",
       "      <th>floors_total</th>\n",
       "      <th>living_area</th>\n",
       "      <th>floor</th>\n",
       "      <th>is_apartment</th>\n",
       "      <th>...</th>\n",
       "      <th>kitchen_area</th>\n",
       "      <th>balcony</th>\n",
       "      <th>locality_name</th>\n",
       "      <th>airports_nearest</th>\n",
       "      <th>cityCenters_nearest</th>\n",
       "      <th>parks_around3000</th>\n",
       "      <th>parks_nearest</th>\n",
       "      <th>ponds_around3000</th>\n",
       "      <th>ponds_nearest</th>\n",
       "      <th>days_exposition</th>\n",
       "    </tr>\n",
       "  </thead>\n",
       "  <tbody>\n",
       "    <tr>\n",
       "      <th>0</th>\n",
       "      <td>20</td>\n",
       "      <td>13000000.0</td>\n",
       "      <td>108.0</td>\n",
       "      <td>2019-03-07T00:00:00</td>\n",
       "      <td>3</td>\n",
       "      <td>2.70</td>\n",
       "      <td>16.0</td>\n",
       "      <td>51.0</td>\n",
       "      <td>8</td>\n",
       "      <td>NaN</td>\n",
       "      <td>...</td>\n",
       "      <td>25.0</td>\n",
       "      <td>NaN</td>\n",
       "      <td>Санкт-Петербург</td>\n",
       "      <td>18863.0</td>\n",
       "      <td>16028.0</td>\n",
       "      <td>1.0</td>\n",
       "      <td>482.0</td>\n",
       "      <td>2.0</td>\n",
       "      <td>755.0</td>\n",
       "      <td>NaN</td>\n",
       "    </tr>\n",
       "    <tr>\n",
       "      <th>1</th>\n",
       "      <td>7</td>\n",
       "      <td>3350000.0</td>\n",
       "      <td>40.4</td>\n",
       "      <td>2018-12-04T00:00:00</td>\n",
       "      <td>1</td>\n",
       "      <td>NaN</td>\n",
       "      <td>11.0</td>\n",
       "      <td>18.6</td>\n",
       "      <td>1</td>\n",
       "      <td>NaN</td>\n",
       "      <td>...</td>\n",
       "      <td>11.0</td>\n",
       "      <td>2.0</td>\n",
       "      <td>посёлок Шушары</td>\n",
       "      <td>12817.0</td>\n",
       "      <td>18603.0</td>\n",
       "      <td>0.0</td>\n",
       "      <td>NaN</td>\n",
       "      <td>0.0</td>\n",
       "      <td>NaN</td>\n",
       "      <td>81.0</td>\n",
       "    </tr>\n",
       "    <tr>\n",
       "      <th>2</th>\n",
       "      <td>10</td>\n",
       "      <td>5196000.0</td>\n",
       "      <td>56.0</td>\n",
       "      <td>2015-08-20T00:00:00</td>\n",
       "      <td>2</td>\n",
       "      <td>NaN</td>\n",
       "      <td>5.0</td>\n",
       "      <td>34.3</td>\n",
       "      <td>4</td>\n",
       "      <td>NaN</td>\n",
       "      <td>...</td>\n",
       "      <td>8.3</td>\n",
       "      <td>0.0</td>\n",
       "      <td>Санкт-Петербург</td>\n",
       "      <td>21741.0</td>\n",
       "      <td>13933.0</td>\n",
       "      <td>1.0</td>\n",
       "      <td>90.0</td>\n",
       "      <td>2.0</td>\n",
       "      <td>574.0</td>\n",
       "      <td>558.0</td>\n",
       "    </tr>\n",
       "    <tr>\n",
       "      <th>3</th>\n",
       "      <td>0</td>\n",
       "      <td>64900000.0</td>\n",
       "      <td>159.0</td>\n",
       "      <td>2015-07-24T00:00:00</td>\n",
       "      <td>3</td>\n",
       "      <td>NaN</td>\n",
       "      <td>14.0</td>\n",
       "      <td>NaN</td>\n",
       "      <td>9</td>\n",
       "      <td>NaN</td>\n",
       "      <td>...</td>\n",
       "      <td>NaN</td>\n",
       "      <td>0.0</td>\n",
       "      <td>Санкт-Петербург</td>\n",
       "      <td>28098.0</td>\n",
       "      <td>6800.0</td>\n",
       "      <td>2.0</td>\n",
       "      <td>84.0</td>\n",
       "      <td>3.0</td>\n",
       "      <td>234.0</td>\n",
       "      <td>424.0</td>\n",
       "    </tr>\n",
       "    <tr>\n",
       "      <th>4</th>\n",
       "      <td>2</td>\n",
       "      <td>10000000.0</td>\n",
       "      <td>100.0</td>\n",
       "      <td>2018-06-19T00:00:00</td>\n",
       "      <td>2</td>\n",
       "      <td>3.03</td>\n",
       "      <td>14.0</td>\n",
       "      <td>32.0</td>\n",
       "      <td>13</td>\n",
       "      <td>NaN</td>\n",
       "      <td>...</td>\n",
       "      <td>41.0</td>\n",
       "      <td>NaN</td>\n",
       "      <td>Санкт-Петербург</td>\n",
       "      <td>31856.0</td>\n",
       "      <td>8098.0</td>\n",
       "      <td>2.0</td>\n",
       "      <td>112.0</td>\n",
       "      <td>1.0</td>\n",
       "      <td>48.0</td>\n",
       "      <td>121.0</td>\n",
       "    </tr>\n",
       "  </tbody>\n",
       "</table>\n",
       "<p>5 rows × 22 columns</p>\n",
       "</div>"
      ],
      "text/plain": [
       "   total_images  last_price  total_area first_day_exposition  rooms  \\\n",
       "0            20  13000000.0       108.0  2019-03-07T00:00:00      3   \n",
       "1             7   3350000.0        40.4  2018-12-04T00:00:00      1   \n",
       "2            10   5196000.0        56.0  2015-08-20T00:00:00      2   \n",
       "3             0  64900000.0       159.0  2015-07-24T00:00:00      3   \n",
       "4             2  10000000.0       100.0  2018-06-19T00:00:00      2   \n",
       "\n",
       "   ceiling_height  floors_total  living_area  floor is_apartment  ...  \\\n",
       "0            2.70          16.0         51.0      8          NaN  ...   \n",
       "1             NaN          11.0         18.6      1          NaN  ...   \n",
       "2             NaN           5.0         34.3      4          NaN  ...   \n",
       "3             NaN          14.0          NaN      9          NaN  ...   \n",
       "4            3.03          14.0         32.0     13          NaN  ...   \n",
       "\n",
       "   kitchen_area  balcony    locality_name  airports_nearest  \\\n",
       "0          25.0      NaN  Санкт-Петербург           18863.0   \n",
       "1          11.0      2.0   посёлок Шушары           12817.0   \n",
       "2           8.3      0.0  Санкт-Петербург           21741.0   \n",
       "3           NaN      0.0  Санкт-Петербург           28098.0   \n",
       "4          41.0      NaN  Санкт-Петербург           31856.0   \n",
       "\n",
       "  cityCenters_nearest  parks_around3000  parks_nearest  ponds_around3000  \\\n",
       "0             16028.0               1.0          482.0               2.0   \n",
       "1             18603.0               0.0            NaN               0.0   \n",
       "2             13933.0               1.0           90.0               2.0   \n",
       "3              6800.0               2.0           84.0               3.0   \n",
       "4              8098.0               2.0          112.0               1.0   \n",
       "\n",
       "   ponds_nearest  days_exposition  \n",
       "0          755.0              NaN  \n",
       "1            NaN             81.0  \n",
       "2          574.0            558.0  \n",
       "3          234.0            424.0  \n",
       "4           48.0            121.0  \n",
       "\n",
       "[5 rows x 22 columns]"
      ]
     },
     "execution_count": 3,
     "metadata": {},
     "output_type": "execute_result"
    }
   ],
   "source": [
    "df.head(5)"
   ]
  },
  {
   "cell_type": "code",
   "execution_count": 4,
   "metadata": {
    "scrolled": true
   },
   "outputs": [
    {
     "name": "stdout",
     "output_type": "stream",
     "text": [
      "<class 'pandas.core.frame.DataFrame'>\n",
      "RangeIndex: 23699 entries, 0 to 23698\n",
      "Data columns (total 22 columns):\n",
      " #   Column                Non-Null Count  Dtype  \n",
      "---  ------                --------------  -----  \n",
      " 0   total_images          23699 non-null  int64  \n",
      " 1   last_price            23699 non-null  float64\n",
      " 2   total_area            23699 non-null  float64\n",
      " 3   first_day_exposition  23699 non-null  object \n",
      " 4   rooms                 23699 non-null  int64  \n",
      " 5   ceiling_height        14504 non-null  float64\n",
      " 6   floors_total          23613 non-null  float64\n",
      " 7   living_area           21796 non-null  float64\n",
      " 8   floor                 23699 non-null  int64  \n",
      " 9   is_apartment          2775 non-null   object \n",
      " 10  studio                23699 non-null  bool   \n",
      " 11  open_plan             23699 non-null  bool   \n",
      " 12  kitchen_area          21421 non-null  float64\n",
      " 13  balcony               12180 non-null  float64\n",
      " 14  locality_name         23650 non-null  object \n",
      " 15  airports_nearest      18157 non-null  float64\n",
      " 16  cityCenters_nearest   18180 non-null  float64\n",
      " 17  parks_around3000      18181 non-null  float64\n",
      " 18  parks_nearest         8079 non-null   float64\n",
      " 19  ponds_around3000      18181 non-null  float64\n",
      " 20  ponds_nearest         9110 non-null   float64\n",
      " 21  days_exposition       20518 non-null  float64\n",
      "dtypes: bool(2), float64(14), int64(3), object(3)\n",
      "memory usage: 3.7+ MB\n"
     ]
    }
   ],
   "source": [
    "df.info()"
   ]
  },
  {
   "cell_type": "code",
   "execution_count": 5,
   "metadata": {},
   "outputs": [
    {
     "name": "stdout",
     "output_type": "stream",
     "text": [
      "Процент нулевых значений: total_images             0.000000\n",
      "last_price               0.000000\n",
      "total_area               0.000000\n",
      "first_day_exposition     0.000000\n",
      "rooms                    0.000000\n",
      "ceiling_height          38.799105\n",
      "floors_total             0.362885\n",
      "living_area              8.029875\n",
      "floor                    0.000000\n",
      "is_apartment            88.290645\n",
      "studio                   0.000000\n",
      "open_plan                0.000000\n",
      "kitchen_area             9.612220\n",
      "balcony                 48.605426\n",
      "locality_name            0.206760\n",
      "airports_nearest        23.384953\n",
      "cityCenters_nearest     23.287902\n",
      "parks_around3000        23.283683\n",
      "parks_nearest           65.909954\n",
      "ponds_around3000        23.283683\n",
      "ponds_nearest           61.559559\n",
      "days_exposition         13.422507\n",
      "dtype: float64\n"
     ]
    }
   ],
   "source": [
    "print('Процент нулевых значений:', df.isnull().mean()*100)"
   ]
  },
  {
   "cell_type": "code",
   "execution_count": 6,
   "metadata": {},
   "outputs": [
    {
     "data": {
      "text/html": [
       "<div>\n",
       "<style scoped>\n",
       "    .dataframe tbody tr th:only-of-type {\n",
       "        vertical-align: middle;\n",
       "    }\n",
       "\n",
       "    .dataframe tbody tr th {\n",
       "        vertical-align: top;\n",
       "    }\n",
       "\n",
       "    .dataframe thead th {\n",
       "        text-align: right;\n",
       "    }\n",
       "</style>\n",
       "<table border=\"1\" class=\"dataframe\">\n",
       "  <thead>\n",
       "    <tr style=\"text-align: right;\">\n",
       "      <th></th>\n",
       "      <th>count</th>\n",
       "      <th>mean</th>\n",
       "      <th>std</th>\n",
       "      <th>min</th>\n",
       "      <th>25%</th>\n",
       "      <th>50%</th>\n",
       "      <th>75%</th>\n",
       "      <th>max</th>\n",
       "    </tr>\n",
       "  </thead>\n",
       "  <tbody>\n",
       "    <tr>\n",
       "      <th>total_images</th>\n",
       "      <td>23699.0</td>\n",
       "      <td>9.858475e+00</td>\n",
       "      <td>5.682529e+00</td>\n",
       "      <td>0.0</td>\n",
       "      <td>6.00</td>\n",
       "      <td>9.00</td>\n",
       "      <td>14.0</td>\n",
       "      <td>50.0</td>\n",
       "    </tr>\n",
       "    <tr>\n",
       "      <th>last_price</th>\n",
       "      <td>23699.0</td>\n",
       "      <td>6.541549e+06</td>\n",
       "      <td>1.088701e+07</td>\n",
       "      <td>12190.0</td>\n",
       "      <td>3400000.00</td>\n",
       "      <td>4650000.00</td>\n",
       "      <td>6800000.0</td>\n",
       "      <td>763000000.0</td>\n",
       "    </tr>\n",
       "    <tr>\n",
       "      <th>total_area</th>\n",
       "      <td>23699.0</td>\n",
       "      <td>6.034865e+01</td>\n",
       "      <td>3.565408e+01</td>\n",
       "      <td>12.0</td>\n",
       "      <td>40.00</td>\n",
       "      <td>52.00</td>\n",
       "      <td>69.9</td>\n",
       "      <td>900.0</td>\n",
       "    </tr>\n",
       "    <tr>\n",
       "      <th>rooms</th>\n",
       "      <td>23699.0</td>\n",
       "      <td>2.070636e+00</td>\n",
       "      <td>1.078405e+00</td>\n",
       "      <td>0.0</td>\n",
       "      <td>1.00</td>\n",
       "      <td>2.00</td>\n",
       "      <td>3.0</td>\n",
       "      <td>19.0</td>\n",
       "    </tr>\n",
       "    <tr>\n",
       "      <th>ceiling_height</th>\n",
       "      <td>14504.0</td>\n",
       "      <td>2.771499e+00</td>\n",
       "      <td>1.261056e+00</td>\n",
       "      <td>1.0</td>\n",
       "      <td>2.52</td>\n",
       "      <td>2.65</td>\n",
       "      <td>2.8</td>\n",
       "      <td>100.0</td>\n",
       "    </tr>\n",
       "    <tr>\n",
       "      <th>floors_total</th>\n",
       "      <td>23613.0</td>\n",
       "      <td>1.067382e+01</td>\n",
       "      <td>6.597173e+00</td>\n",
       "      <td>1.0</td>\n",
       "      <td>5.00</td>\n",
       "      <td>9.00</td>\n",
       "      <td>16.0</td>\n",
       "      <td>60.0</td>\n",
       "    </tr>\n",
       "    <tr>\n",
       "      <th>living_area</th>\n",
       "      <td>21796.0</td>\n",
       "      <td>3.445785e+01</td>\n",
       "      <td>2.203045e+01</td>\n",
       "      <td>2.0</td>\n",
       "      <td>18.60</td>\n",
       "      <td>30.00</td>\n",
       "      <td>42.3</td>\n",
       "      <td>409.7</td>\n",
       "    </tr>\n",
       "    <tr>\n",
       "      <th>floor</th>\n",
       "      <td>23699.0</td>\n",
       "      <td>5.892358e+00</td>\n",
       "      <td>4.885249e+00</td>\n",
       "      <td>1.0</td>\n",
       "      <td>2.00</td>\n",
       "      <td>4.00</td>\n",
       "      <td>8.0</td>\n",
       "      <td>33.0</td>\n",
       "    </tr>\n",
       "    <tr>\n",
       "      <th>kitchen_area</th>\n",
       "      <td>21421.0</td>\n",
       "      <td>1.056981e+01</td>\n",
       "      <td>5.905438e+00</td>\n",
       "      <td>1.3</td>\n",
       "      <td>7.00</td>\n",
       "      <td>9.10</td>\n",
       "      <td>12.0</td>\n",
       "      <td>112.0</td>\n",
       "    </tr>\n",
       "    <tr>\n",
       "      <th>balcony</th>\n",
       "      <td>12180.0</td>\n",
       "      <td>1.150082e+00</td>\n",
       "      <td>1.071300e+00</td>\n",
       "      <td>0.0</td>\n",
       "      <td>0.00</td>\n",
       "      <td>1.00</td>\n",
       "      <td>2.0</td>\n",
       "      <td>5.0</td>\n",
       "    </tr>\n",
       "    <tr>\n",
       "      <th>airports_nearest</th>\n",
       "      <td>18157.0</td>\n",
       "      <td>2.879367e+04</td>\n",
       "      <td>1.263088e+04</td>\n",
       "      <td>0.0</td>\n",
       "      <td>18585.00</td>\n",
       "      <td>26726.00</td>\n",
       "      <td>37273.0</td>\n",
       "      <td>84869.0</td>\n",
       "    </tr>\n",
       "    <tr>\n",
       "      <th>cityCenters_nearest</th>\n",
       "      <td>18180.0</td>\n",
       "      <td>1.419128e+04</td>\n",
       "      <td>8.608386e+03</td>\n",
       "      <td>181.0</td>\n",
       "      <td>9238.00</td>\n",
       "      <td>13098.50</td>\n",
       "      <td>16293.0</td>\n",
       "      <td>65968.0</td>\n",
       "    </tr>\n",
       "    <tr>\n",
       "      <th>parks_around3000</th>\n",
       "      <td>18181.0</td>\n",
       "      <td>6.114075e-01</td>\n",
       "      <td>8.020736e-01</td>\n",
       "      <td>0.0</td>\n",
       "      <td>0.00</td>\n",
       "      <td>0.00</td>\n",
       "      <td>1.0</td>\n",
       "      <td>3.0</td>\n",
       "    </tr>\n",
       "    <tr>\n",
       "      <th>parks_nearest</th>\n",
       "      <td>8079.0</td>\n",
       "      <td>4.908046e+02</td>\n",
       "      <td>3.423180e+02</td>\n",
       "      <td>1.0</td>\n",
       "      <td>288.00</td>\n",
       "      <td>455.00</td>\n",
       "      <td>612.0</td>\n",
       "      <td>3190.0</td>\n",
       "    </tr>\n",
       "    <tr>\n",
       "      <th>ponds_around3000</th>\n",
       "      <td>18181.0</td>\n",
       "      <td>7.702547e-01</td>\n",
       "      <td>9.383456e-01</td>\n",
       "      <td>0.0</td>\n",
       "      <td>0.00</td>\n",
       "      <td>1.00</td>\n",
       "      <td>1.0</td>\n",
       "      <td>3.0</td>\n",
       "    </tr>\n",
       "    <tr>\n",
       "      <th>ponds_nearest</th>\n",
       "      <td>9110.0</td>\n",
       "      <td>5.179809e+02</td>\n",
       "      <td>2.777206e+02</td>\n",
       "      <td>13.0</td>\n",
       "      <td>294.00</td>\n",
       "      <td>502.00</td>\n",
       "      <td>729.0</td>\n",
       "      <td>1344.0</td>\n",
       "    </tr>\n",
       "    <tr>\n",
       "      <th>days_exposition</th>\n",
       "      <td>20518.0</td>\n",
       "      <td>1.808886e+02</td>\n",
       "      <td>2.197280e+02</td>\n",
       "      <td>1.0</td>\n",
       "      <td>45.00</td>\n",
       "      <td>95.00</td>\n",
       "      <td>232.0</td>\n",
       "      <td>1580.0</td>\n",
       "    </tr>\n",
       "  </tbody>\n",
       "</table>\n",
       "</div>"
      ],
      "text/plain": [
       "                       count          mean           std      min         25%  \\\n",
       "total_images         23699.0  9.858475e+00  5.682529e+00      0.0        6.00   \n",
       "last_price           23699.0  6.541549e+06  1.088701e+07  12190.0  3400000.00   \n",
       "total_area           23699.0  6.034865e+01  3.565408e+01     12.0       40.00   \n",
       "rooms                23699.0  2.070636e+00  1.078405e+00      0.0        1.00   \n",
       "ceiling_height       14504.0  2.771499e+00  1.261056e+00      1.0        2.52   \n",
       "floors_total         23613.0  1.067382e+01  6.597173e+00      1.0        5.00   \n",
       "living_area          21796.0  3.445785e+01  2.203045e+01      2.0       18.60   \n",
       "floor                23699.0  5.892358e+00  4.885249e+00      1.0        2.00   \n",
       "kitchen_area         21421.0  1.056981e+01  5.905438e+00      1.3        7.00   \n",
       "balcony              12180.0  1.150082e+00  1.071300e+00      0.0        0.00   \n",
       "airports_nearest     18157.0  2.879367e+04  1.263088e+04      0.0    18585.00   \n",
       "cityCenters_nearest  18180.0  1.419128e+04  8.608386e+03    181.0     9238.00   \n",
       "parks_around3000     18181.0  6.114075e-01  8.020736e-01      0.0        0.00   \n",
       "parks_nearest         8079.0  4.908046e+02  3.423180e+02      1.0      288.00   \n",
       "ponds_around3000     18181.0  7.702547e-01  9.383456e-01      0.0        0.00   \n",
       "ponds_nearest         9110.0  5.179809e+02  2.777206e+02     13.0      294.00   \n",
       "days_exposition      20518.0  1.808886e+02  2.197280e+02      1.0       45.00   \n",
       "\n",
       "                            50%        75%          max  \n",
       "total_images               9.00       14.0         50.0  \n",
       "last_price           4650000.00  6800000.0  763000000.0  \n",
       "total_area                52.00       69.9        900.0  \n",
       "rooms                      2.00        3.0         19.0  \n",
       "ceiling_height             2.65        2.8        100.0  \n",
       "floors_total               9.00       16.0         60.0  \n",
       "living_area               30.00       42.3        409.7  \n",
       "floor                      4.00        8.0         33.0  \n",
       "kitchen_area               9.10       12.0        112.0  \n",
       "balcony                    1.00        2.0          5.0  \n",
       "airports_nearest       26726.00    37273.0      84869.0  \n",
       "cityCenters_nearest    13098.50    16293.0      65968.0  \n",
       "parks_around3000           0.00        1.0          3.0  \n",
       "parks_nearest            455.00      612.0       3190.0  \n",
       "ponds_around3000           1.00        1.0          3.0  \n",
       "ponds_nearest            502.00      729.0       1344.0  \n",
       "days_exposition           95.00      232.0       1580.0  "
      ]
     },
     "execution_count": 6,
     "metadata": {},
     "output_type": "execute_result"
    }
   ],
   "source": [
    "df.describe().T"
   ]
  },
  {
   "cell_type": "markdown",
   "metadata": {},
   "source": [
    "**Описание данных:**\n",
    "\n",
    "- airports_nearest — расстояние до ближайшего аэропорта в метрах (м)\n",
    "- balcony — число балконов\n",
    "- ceiling_height — высота потолков (м)\n",
    "- cityCenters_nearest — расстояние до центра города (м)\n",
    "- days_exposition — сколько дней было размещено объявление (от публикации до снятия)\n",
    "- first_day_exposition — дата публикации\n",
    "- floor — этаж\n",
    "- floors_total — всего этажей в доме\n",
    "- is_apartment — апартаменты (булев тип)\n",
    "- kitchen_area — площадь кухни в квадратных метрах (м²)\n",
    "- last_price — цена на момент снятия с публикации\n",
    "- living_area — жилая площадь в квадратных метрах (м²)\n",
    "- locality_name — название населённого пункта\n",
    "- open_plan — свободная планировка (булев тип)\n",
    "- parks_around3000 — число парков в радиусе 3 км\n",
    "- parks_nearest — расстояние до ближайшего парка (м)\n",
    "- ponds_around3000 — число водоёмов в радиусе 3 км\n",
    "- ponds_nearest — расстояние до ближайшего водоёма (м)\n",
    "- rooms — число комнат\n",
    "- studio — квартира-студия (булев тип)\n",
    "total_area — площадь квартиры в квадратных метрах (м²)\n",
    "total_images — число фотографий квартиры в объявлении\n",
    "___\n",
    "**Data Description:**\n",
    "\n",
    "- airports_nearest - distance to the nearest airport in meters (m)\n",
    "- balcony — number of balconies\n",
    "- ceiling_height - ceiling height (m)\n",
    "- cityCenters_nearest - distance to the city center (m)\n",
    "- days_exposition - how many days the ad was placed (from publication to removal)\n",
    "- first_day_exposition — publication date\n",
    "- floor - floor\n",
    "- floors_total - total floors in the house\n",
    "- is_apartment - apartments (boolean type)\n",
    "- kitchen_area - kitchen area in square meters (m²)\n",
    "- last_price - price at the time of removal from publication\n",
    "- living_area - living area in square meters (m²)\n",
    "- locality_name - name of the locality\n",
    "- open_plan - free layout (boolean type)\n",
    "- parks_around3000 - number of parks within a 3 km radius\n",
    "- parks_nearest - distance to the nearest park (m)\n",
    "- ponds_around3000 - number of ponds within a radius of 3 km\n",
    "- ponds_nearest — distance to the nearest body of water (m)\n",
    "- rooms - number of rooms\n",
    "- studio - studio apartment (boolean type)\n",
    "total_area - area of ​​the apartment in square meters (m²)\n",
    "total_images - the number of photos of the apartment in the ad"
   ]
  },
  {
   "cell_type": "markdown",
   "metadata": {},
   "source": [
    "### Вывод\n",
    "___\n",
    "### Conclusion"
   ]
  },
  {
   "cell_type": "markdown",
   "metadata": {},
   "source": [
    "Минимальные и максимальные значения преимущественно адекватны, однако стоит посмотреть отдельно данные, например, сгруппированные по **days_exposition**.\n",
    "\n",
    "В данных виден ряд недочетов, которые необходимо разобрать и исправить.\n",
    "1) Формат даты в **first_day_exposition** нужно привести к стандартному.\n",
    "\n",
    "2) Принять решение о целесообразности изменения  пропущенных данных, либо, вероятно, удаления строк с данными.\n",
    "\n",
    "3) Для удобства обработки данных стоит изменить тип данных **float64** на **int64**.\n",
    "___\n",
    "The minimum and maximum values are mostly adequate, but it is worth looking at the data separately, for example, grouped by **days_exposition**.\n",
    "\n",
    "There are a number of shortcomings in the data that need to be analyzed and corrected.\n",
    "1) The date format in **first_day_exposition** must be converted to the standard one.\n",
    "\n",
    "2) Make a decision on the advisability of changing the missing data, or, probably, deleting rows with data.\n",
    "\n",
    "3) For the convenience of data processing, it is worth changing the data type **float64** to **int64**."
   ]
  },
  {
   "cell_type": "markdown",
   "metadata": {},
   "source": [
    "## Предобработка данных\n",
    "___\n",
    "## Data preprocessing"
   ]
  },
  {
   "cell_type": "code",
   "execution_count": 7,
   "metadata": {
    "scrolled": true
   },
   "outputs": [
    {
     "name": "stdout",
     "output_type": "stream",
     "text": [
      "Процент нулевых значений: total_images             0.000000\n",
      "last_price               0.000000\n",
      "total_area               0.000000\n",
      "first_day_exposition     0.000000\n",
      "rooms                    0.000000\n",
      "ceiling_height          38.799105\n",
      "floors_total             0.362885\n",
      "living_area              8.029875\n",
      "floor                    0.000000\n",
      "is_apartment            88.290645\n",
      "studio                   0.000000\n",
      "open_plan                0.000000\n",
      "kitchen_area             9.612220\n",
      "balcony                 48.605426\n",
      "locality_name            0.206760\n",
      "airports_nearest        23.384953\n",
      "cityCenters_nearest     23.287902\n",
      "parks_around3000        23.283683\n",
      "parks_nearest           65.909954\n",
      "ponds_around3000        23.283683\n",
      "ponds_nearest           61.559559\n",
      "days_exposition         13.422507\n",
      "dtype: float64\n"
     ]
    }
   ],
   "source": [
    "print('Процент нулевых значений:', df.isnull().mean()*100)"
   ]
  },
  {
   "cell_type": "markdown",
   "metadata": {},
   "source": [
    "Был произведен подсчет процентных соотношений в стобцах, в результате которого выявлены аномальные значения, что должно быть подвержено проверке в последующем. Для начала разберемся с пропусками.\n",
    "\n",
    "1) Столбцы, в которых невозможно поменять данные, процент которых мал, и строчки с пропусками в которых можно удалить:\n",
    "- **floors_total** - процент пропусков меньше 0,5%, что не является значимым;\n",
    "- **locality_name** - невозможно придумать название местности, это ошибка ввода в результате человеческого фактора.\n",
    "\n",
    "2) Столбцы, в которых пропуск данных вероятнее всего обозначает отсутствие заданного параметра:\n",
    "- **balcony** - пропуск данных эквивалентен отсутствию балкона;\n",
    "- **airports_nearest, cityCenters_nearest, parks_around3000, parks_nearest, ponds_around3000, ponds_nearest** - все указанные столбцы включают в себя количественные данные, полученные картографически, обозначающие расстояние до определенной точки в км и м. В данном случае в столбцах **airports_nearest, cityCenters_nearest, parks_around3000, ponds_around3000** эти данные практически эквивалентны по значениям, что, вероятно, может указывать на системную ошибку внесения данных. В столбцах **parks_nearest, ponds_nearest** идентичная ситуация. В обоих случаях невозможно найти правду, но и заменять на нули также невозможно, сместяться статистические показатели, потому рациональнее будет оставить данные значения пустыми.\n",
    "- **is_apartment** - пропуск данных в значительном количестве строк, удалять пустые значения нецелесообразно, они имеют вид булевых, скорее всего отсутствие равно False - на что можно заменить их.\n",
    "- **kitchen_area** - данные значения необходимы, потому легче убрать строки с пропусками, несмотря на довольно значимую долю пропусков (10,63%)\n",
    "- **ceiling_height** - слишком большой процент пропусков, однако для достаточной верности соотношений и резуьтата необходимо удлаить эти строки.\n",
    "- **living_area** - также необходимо убрать пропуски, чтобы более доказательно выстраивать подсчеты.\n",
    "- **days_exposition** - уберем строки с данными пропусками также, заменить на ноль их невозможно.\n",
    "___\n",
    "A calculation of the percentages in the columns was made, as a result of which anomalous values ​​were revealed, which should be subject to verification in the future. First, let's deal with gaps.\n",
    "\n",
    "1) Columns in which it is impossible to change data, the percentage of which is small, and lines with gaps in which you can delete:\n",
    "- **floors_total** - the percentage of gaps is less than 0.5%, which is not significant;\n",
    "- **locality_name** - it is impossible to come up with the name of the locality, this is an input error as a result of the human factor.\n",
    "\n",
    "2) Columns in which data omission most likely means the absence of a given parameter:\n",
    "- **balcony** - skipping data is equivalent to not having a balcony;\n",
    "- **airports_nearest, cityCenters_nearest, parks_around3000, parks_nearest, ponds_around3000, ponds_nearest** - all specified columns include quantitative data obtained by cartography, indicating the distance to a certain point in km and m. In this case, in the columns **airports_nearest, cityCenters_nearest, parks_around3000, ponds_around3000** these data are almost equivalent in value, which may indicate a system entry error. The **parks_nearest, ponds_nearest** columns are identical. In both cases, it is impossible to find the truth, but it is also impossible to replace with zeros, statistical indicators will shift, therefore it would be more rational to leave these values ​​​​empty.\n",
    "- **is_apartment** - omission of data in a significant number of lines, deleting empty values ​​is impractical, they look like booleans, most likely the absence is equal to False - what can be replaced with them.\n",
    "- **kitchen_area** - these values ​​are necessary, because it is easier to remove lines with gaps, despite a rather significant share of gaps (10.63%)\n",
    "- **ceiling_height** - the percentage of gaps is too high, however, for sufficient correctness of the ratios and the result, these lines must be removed.\n",
    "- **living_area** - it is also necessary to remove gaps in order to more convincingly build calculations.\n",
    "- **days_exposition** - we will also remove lines with these gaps, it is impossible to replace them with zero."
   ]
  },
  {
   "cell_type": "code",
   "execution_count": 8,
   "metadata": {},
   "outputs": [],
   "source": [
    "df = df.dropna(subset=['floors_total', 'locality_name']).reset_index(drop=True)"
   ]
  },
  {
   "cell_type": "code",
   "execution_count": 9,
   "metadata": {},
   "outputs": [],
   "source": [
    "df['balcony'] = df['balcony'].fillna(0)"
   ]
  },
  {
   "cell_type": "code",
   "execution_count": 10,
   "metadata": {},
   "outputs": [],
   "source": [
    "df['is_apartment'] = df['is_apartment'].fillna(False)"
   ]
  },
  {
   "cell_type": "code",
   "execution_count": 11,
   "metadata": {},
   "outputs": [],
   "source": [
    "df = df.dropna(subset=['kitchen_area']).reset_index(drop=True)"
   ]
  },
  {
   "cell_type": "code",
   "execution_count": 12,
   "metadata": {},
   "outputs": [],
   "source": [
    "df = df.dropna(subset=['living_area']).reset_index(drop=True)"
   ]
  },
  {
   "cell_type": "code",
   "execution_count": 13,
   "metadata": {},
   "outputs": [],
   "source": [
    "df = df.dropna(subset=['ceiling_height']).reset_index(drop=True)"
   ]
  },
  {
   "cell_type": "code",
   "execution_count": 14,
   "metadata": {},
   "outputs": [],
   "source": [
    "df = df.dropna(subset=['days_exposition']).reset_index(drop=True)"
   ]
  },
  {
   "cell_type": "markdown",
   "metadata": {},
   "source": [
    "Вышеописанные проблемы решены, данные очищены от критичных пропусков, некритичные оставлены, либо заменены на другие значения.\n",
    "___\n",
    "The above problems are solved, the data is cleared of critical gaps, non-critical ones are left, or replaced with other values."
   ]
  },
  {
   "cell_type": "markdown",
   "metadata": {},
   "source": [
    "Для соблюдения хорошего тона поменяем название столбца **cityCenters_nearest**.\n",
    "___\n",
    "For good manners, let's change the name of the column **cityCenters_nearest**."
   ]
  },
  {
   "cell_type": "code",
   "execution_count": 15,
   "metadata": {},
   "outputs": [],
   "source": [
    "df = df.rename(columns={'cityCenters_nearest': 'city_centers_nearest'})"
   ]
  },
  {
   "cell_type": "code",
   "execution_count": 16,
   "metadata": {
    "scrolled": true
   },
   "outputs": [
    {
     "data": {
      "text/html": [
       "<div>\n",
       "<style scoped>\n",
       "    .dataframe tbody tr th:only-of-type {\n",
       "        vertical-align: middle;\n",
       "    }\n",
       "\n",
       "    .dataframe tbody tr th {\n",
       "        vertical-align: top;\n",
       "    }\n",
       "\n",
       "    .dataframe thead th {\n",
       "        text-align: right;\n",
       "    }\n",
       "</style>\n",
       "<table border=\"1\" class=\"dataframe\">\n",
       "  <thead>\n",
       "    <tr style=\"text-align: right;\">\n",
       "      <th></th>\n",
       "      <th>total_images</th>\n",
       "      <th>last_price</th>\n",
       "      <th>total_area</th>\n",
       "      <th>rooms</th>\n",
       "      <th>ceiling_height</th>\n",
       "      <th>floors_total</th>\n",
       "      <th>living_area</th>\n",
       "      <th>floor</th>\n",
       "      <th>kitchen_area</th>\n",
       "      <th>balcony</th>\n",
       "      <th>airports_nearest</th>\n",
       "      <th>city_centers_nearest</th>\n",
       "      <th>parks_around3000</th>\n",
       "      <th>parks_nearest</th>\n",
       "      <th>ponds_around3000</th>\n",
       "      <th>ponds_nearest</th>\n",
       "      <th>days_exposition</th>\n",
       "    </tr>\n",
       "  </thead>\n",
       "  <tbody>\n",
       "    <tr>\n",
       "      <th>count</th>\n",
       "      <td>11036.000000</td>\n",
       "      <td>1.103600e+04</td>\n",
       "      <td>11036.000000</td>\n",
       "      <td>11036.000000</td>\n",
       "      <td>11036.000000</td>\n",
       "      <td>11036.000000</td>\n",
       "      <td>11036.000000</td>\n",
       "      <td>11036.000000</td>\n",
       "      <td>11036.000000</td>\n",
       "      <td>11036.00000</td>\n",
       "      <td>8911.000000</td>\n",
       "      <td>8929.000000</td>\n",
       "      <td>8929.00000</td>\n",
       "      <td>4036.000000</td>\n",
       "      <td>8929.000000</td>\n",
       "      <td>4350.000000</td>\n",
       "      <td>11036.000000</td>\n",
       "    </tr>\n",
       "    <tr>\n",
       "      <th>mean</th>\n",
       "      <td>10.194455</td>\n",
       "      <td>6.490253e+06</td>\n",
       "      <td>60.274217</td>\n",
       "      <td>2.093603</td>\n",
       "      <td>2.753212</td>\n",
       "      <td>10.279358</td>\n",
       "      <td>34.717101</td>\n",
       "      <td>5.679050</td>\n",
       "      <td>10.381074</td>\n",
       "      <td>0.69971</td>\n",
       "      <td>28948.988217</td>\n",
       "      <td>14249.705454</td>\n",
       "      <td>0.62885</td>\n",
       "      <td>473.207879</td>\n",
       "      <td>0.756524</td>\n",
       "      <td>522.569195</td>\n",
       "      <td>192.665730</td>\n",
       "    </tr>\n",
       "    <tr>\n",
       "      <th>std</th>\n",
       "      <td>5.582683</td>\n",
       "      <td>9.908717e+06</td>\n",
       "      <td>34.979726</td>\n",
       "      <td>1.058348</td>\n",
       "      <td>1.237386</td>\n",
       "      <td>6.209131</td>\n",
       "      <td>22.327498</td>\n",
       "      <td>4.636464</td>\n",
       "      <td>5.842084</td>\n",
       "      <td>1.00334</td>\n",
       "      <td>12764.324398</td>\n",
       "      <td>8746.447536</td>\n",
       "      <td>0.81732</td>\n",
       "      <td>313.635502</td>\n",
       "      <td>0.940828</td>\n",
       "      <td>279.697071</td>\n",
       "      <td>229.036891</td>\n",
       "    </tr>\n",
       "    <tr>\n",
       "      <th>min</th>\n",
       "      <td>0.000000</td>\n",
       "      <td>1.219000e+04</td>\n",
       "      <td>17.000000</td>\n",
       "      <td>1.000000</td>\n",
       "      <td>1.000000</td>\n",
       "      <td>1.000000</td>\n",
       "      <td>2.000000</td>\n",
       "      <td>1.000000</td>\n",
       "      <td>2.000000</td>\n",
       "      <td>0.00000</td>\n",
       "      <td>0.000000</td>\n",
       "      <td>208.000000</td>\n",
       "      <td>0.00000</td>\n",
       "      <td>3.000000</td>\n",
       "      <td>0.000000</td>\n",
       "      <td>16.000000</td>\n",
       "      <td>1.000000</td>\n",
       "    </tr>\n",
       "    <tr>\n",
       "      <th>25%</th>\n",
       "      <td>6.000000</td>\n",
       "      <td>3.550000e+06</td>\n",
       "      <td>40.500000</td>\n",
       "      <td>1.000000</td>\n",
       "      <td>2.520000</td>\n",
       "      <td>5.000000</td>\n",
       "      <td>19.000000</td>\n",
       "      <td>2.000000</td>\n",
       "      <td>7.000000</td>\n",
       "      <td>0.00000</td>\n",
       "      <td>18450.500000</td>\n",
       "      <td>9467.000000</td>\n",
       "      <td>0.00000</td>\n",
       "      <td>283.750000</td>\n",
       "      <td>0.000000</td>\n",
       "      <td>296.000000</td>\n",
       "      <td>45.000000</td>\n",
       "    </tr>\n",
       "    <tr>\n",
       "      <th>50%</th>\n",
       "      <td>10.000000</td>\n",
       "      <td>4.700000e+06</td>\n",
       "      <td>52.000000</td>\n",
       "      <td>2.000000</td>\n",
       "      <td>2.650000</td>\n",
       "      <td>9.000000</td>\n",
       "      <td>30.000000</td>\n",
       "      <td>4.000000</td>\n",
       "      <td>9.000000</td>\n",
       "      <td>0.00000</td>\n",
       "      <td>26856.000000</td>\n",
       "      <td>13056.000000</td>\n",
       "      <td>0.00000</td>\n",
       "      <td>447.000000</td>\n",
       "      <td>0.000000</td>\n",
       "      <td>507.000000</td>\n",
       "      <td>107.000000</td>\n",
       "    </tr>\n",
       "    <tr>\n",
       "      <th>75%</th>\n",
       "      <td>14.000000</td>\n",
       "      <td>6.700000e+06</td>\n",
       "      <td>69.600000</td>\n",
       "      <td>3.000000</td>\n",
       "      <td>2.800000</td>\n",
       "      <td>14.000000</td>\n",
       "      <td>42.500000</td>\n",
       "      <td>8.000000</td>\n",
       "      <td>11.720000</td>\n",
       "      <td>1.00000</td>\n",
       "      <td>37347.000000</td>\n",
       "      <td>16085.000000</td>\n",
       "      <td>1.00000</td>\n",
       "      <td>602.000000</td>\n",
       "      <td>1.000000</td>\n",
       "      <td>737.000000</td>\n",
       "      <td>251.000000</td>\n",
       "    </tr>\n",
       "    <tr>\n",
       "      <th>max</th>\n",
       "      <td>50.000000</td>\n",
       "      <td>4.200000e+08</td>\n",
       "      <td>900.000000</td>\n",
       "      <td>16.000000</td>\n",
       "      <td>100.000000</td>\n",
       "      <td>60.000000</td>\n",
       "      <td>409.700000</td>\n",
       "      <td>27.000000</td>\n",
       "      <td>112.000000</td>\n",
       "      <td>5.00000</td>\n",
       "      <td>84869.000000</td>\n",
       "      <td>65968.000000</td>\n",
       "      <td>3.00000</td>\n",
       "      <td>3190.000000</td>\n",
       "      <td>3.000000</td>\n",
       "      <td>1344.000000</td>\n",
       "      <td>1580.000000</td>\n",
       "    </tr>\n",
       "  </tbody>\n",
       "</table>\n",
       "</div>"
      ],
      "text/plain": [
       "       total_images    last_price    total_area         rooms  ceiling_height  \\\n",
       "count  11036.000000  1.103600e+04  11036.000000  11036.000000    11036.000000   \n",
       "mean      10.194455  6.490253e+06     60.274217      2.093603        2.753212   \n",
       "std        5.582683  9.908717e+06     34.979726      1.058348        1.237386   \n",
       "min        0.000000  1.219000e+04     17.000000      1.000000        1.000000   \n",
       "25%        6.000000  3.550000e+06     40.500000      1.000000        2.520000   \n",
       "50%       10.000000  4.700000e+06     52.000000      2.000000        2.650000   \n",
       "75%       14.000000  6.700000e+06     69.600000      3.000000        2.800000   \n",
       "max       50.000000  4.200000e+08    900.000000     16.000000      100.000000   \n",
       "\n",
       "       floors_total   living_area         floor  kitchen_area      balcony  \\\n",
       "count  11036.000000  11036.000000  11036.000000  11036.000000  11036.00000   \n",
       "mean      10.279358     34.717101      5.679050     10.381074      0.69971   \n",
       "std        6.209131     22.327498      4.636464      5.842084      1.00334   \n",
       "min        1.000000      2.000000      1.000000      2.000000      0.00000   \n",
       "25%        5.000000     19.000000      2.000000      7.000000      0.00000   \n",
       "50%        9.000000     30.000000      4.000000      9.000000      0.00000   \n",
       "75%       14.000000     42.500000      8.000000     11.720000      1.00000   \n",
       "max       60.000000    409.700000     27.000000    112.000000      5.00000   \n",
       "\n",
       "       airports_nearest  city_centers_nearest  parks_around3000  \\\n",
       "count       8911.000000           8929.000000        8929.00000   \n",
       "mean       28948.988217          14249.705454           0.62885   \n",
       "std        12764.324398           8746.447536           0.81732   \n",
       "min            0.000000            208.000000           0.00000   \n",
       "25%        18450.500000           9467.000000           0.00000   \n",
       "50%        26856.000000          13056.000000           0.00000   \n",
       "75%        37347.000000          16085.000000           1.00000   \n",
       "max        84869.000000          65968.000000           3.00000   \n",
       "\n",
       "       parks_nearest  ponds_around3000  ponds_nearest  days_exposition  \n",
       "count    4036.000000       8929.000000    4350.000000     11036.000000  \n",
       "mean      473.207879          0.756524     522.569195       192.665730  \n",
       "std       313.635502          0.940828     279.697071       229.036891  \n",
       "min         3.000000          0.000000      16.000000         1.000000  \n",
       "25%       283.750000          0.000000     296.000000        45.000000  \n",
       "50%       447.000000          0.000000     507.000000       107.000000  \n",
       "75%       602.000000          1.000000     737.000000       251.000000  \n",
       "max      3190.000000          3.000000    1344.000000      1580.000000  "
      ]
     },
     "execution_count": 16,
     "metadata": {},
     "output_type": "execute_result"
    }
   ],
   "source": [
    "df.describe()"
   ]
  },
  {
   "cell_type": "markdown",
   "metadata": {},
   "source": [
    "Перейдем к вопросу типов данных.\n",
    "Не бывает количество комнат, этажей, балконов, выраженное не в целых числах.\n",
    "Потому данные в столбцах **rooms, floors_total, floor, balcony** нужно перевести в формат **int**, чтобы избежать неточностей и облегчить подсчеты.\n",
    "___\n",
    "Let's move on to the issue of data types.\n",
    "There is no number of rooms, floors, balconies, expressed not in whole numbers.\n",
    "Therefore, the data in the **rooms, floors_total, floor, balcony** columns must be converted to **int** format to avoid inaccuracies and make calculations easier."
   ]
  },
  {
   "cell_type": "code",
   "execution_count": 17,
   "metadata": {},
   "outputs": [
    {
     "name": "stdout",
     "output_type": "stream",
     "text": [
      "<class 'pandas.core.frame.DataFrame'>\n",
      "RangeIndex: 11036 entries, 0 to 11035\n",
      "Data columns (total 22 columns):\n",
      " #   Column                Non-Null Count  Dtype  \n",
      "---  ------                --------------  -----  \n",
      " 0   total_images          11036 non-null  int64  \n",
      " 1   last_price            11036 non-null  float64\n",
      " 2   total_area            11036 non-null  float64\n",
      " 3   first_day_exposition  11036 non-null  object \n",
      " 4   rooms                 11036 non-null  int64  \n",
      " 5   ceiling_height        11036 non-null  float64\n",
      " 6   floors_total          11036 non-null  int64  \n",
      " 7   living_area           11036 non-null  float64\n",
      " 8   floor                 11036 non-null  int64  \n",
      " 9   is_apartment          11036 non-null  bool   \n",
      " 10  studio                11036 non-null  bool   \n",
      " 11  open_plan             11036 non-null  bool   \n",
      " 12  kitchen_area          11036 non-null  float64\n",
      " 13  balcony               11036 non-null  int64  \n",
      " 14  locality_name         11036 non-null  object \n",
      " 15  airports_nearest      8911 non-null   float64\n",
      " 16  city_centers_nearest  8929 non-null   float64\n",
      " 17  parks_around3000      8929 non-null   float64\n",
      " 18  parks_nearest         4036 non-null   float64\n",
      " 19  ponds_around3000      8929 non-null   float64\n",
      " 20  ponds_nearest         4350 non-null   float64\n",
      " 21  days_exposition       11036 non-null  float64\n",
      "dtypes: bool(3), float64(12), int64(5), object(2)\n",
      "memory usage: 1.6+ MB\n"
     ]
    },
    {
     "data": {
      "text/html": [
       "<div>\n",
       "<style scoped>\n",
       "    .dataframe tbody tr th:only-of-type {\n",
       "        vertical-align: middle;\n",
       "    }\n",
       "\n",
       "    .dataframe tbody tr th {\n",
       "        vertical-align: top;\n",
       "    }\n",
       "\n",
       "    .dataframe thead th {\n",
       "        text-align: right;\n",
       "    }\n",
       "</style>\n",
       "<table border=\"1\" class=\"dataframe\">\n",
       "  <thead>\n",
       "    <tr style=\"text-align: right;\">\n",
       "      <th></th>\n",
       "      <th>total_images</th>\n",
       "      <th>last_price</th>\n",
       "      <th>total_area</th>\n",
       "      <th>first_day_exposition</th>\n",
       "      <th>rooms</th>\n",
       "      <th>ceiling_height</th>\n",
       "      <th>floors_total</th>\n",
       "      <th>living_area</th>\n",
       "      <th>floor</th>\n",
       "      <th>is_apartment</th>\n",
       "      <th>...</th>\n",
       "      <th>kitchen_area</th>\n",
       "      <th>balcony</th>\n",
       "      <th>locality_name</th>\n",
       "      <th>airports_nearest</th>\n",
       "      <th>city_centers_nearest</th>\n",
       "      <th>parks_around3000</th>\n",
       "      <th>parks_nearest</th>\n",
       "      <th>ponds_around3000</th>\n",
       "      <th>ponds_nearest</th>\n",
       "      <th>days_exposition</th>\n",
       "    </tr>\n",
       "  </thead>\n",
       "  <tbody>\n",
       "    <tr>\n",
       "      <th>0</th>\n",
       "      <td>2</td>\n",
       "      <td>10000000.0</td>\n",
       "      <td>100.0</td>\n",
       "      <td>2018-06-19T00:00:00</td>\n",
       "      <td>2</td>\n",
       "      <td>3.03</td>\n",
       "      <td>14</td>\n",
       "      <td>32.0</td>\n",
       "      <td>13</td>\n",
       "      <td>False</td>\n",
       "      <td>...</td>\n",
       "      <td>41.0</td>\n",
       "      <td>0</td>\n",
       "      <td>Санкт-Петербург</td>\n",
       "      <td>31856.0</td>\n",
       "      <td>8098.0</td>\n",
       "      <td>2.0</td>\n",
       "      <td>112.0</td>\n",
       "      <td>1.0</td>\n",
       "      <td>48.0</td>\n",
       "      <td>121.0</td>\n",
       "    </tr>\n",
       "    <tr>\n",
       "      <th>1</th>\n",
       "      <td>18</td>\n",
       "      <td>5400000.0</td>\n",
       "      <td>61.0</td>\n",
       "      <td>2017-02-26T00:00:00</td>\n",
       "      <td>3</td>\n",
       "      <td>2.50</td>\n",
       "      <td>9</td>\n",
       "      <td>43.6</td>\n",
       "      <td>7</td>\n",
       "      <td>False</td>\n",
       "      <td>...</td>\n",
       "      <td>6.5</td>\n",
       "      <td>2</td>\n",
       "      <td>Санкт-Петербург</td>\n",
       "      <td>50898.0</td>\n",
       "      <td>15008.0</td>\n",
       "      <td>0.0</td>\n",
       "      <td>NaN</td>\n",
       "      <td>0.0</td>\n",
       "      <td>NaN</td>\n",
       "      <td>289.0</td>\n",
       "    </tr>\n",
       "    <tr>\n",
       "      <th>2</th>\n",
       "      <td>5</td>\n",
       "      <td>5050000.0</td>\n",
       "      <td>39.6</td>\n",
       "      <td>2017-11-16T00:00:00</td>\n",
       "      <td>1</td>\n",
       "      <td>2.67</td>\n",
       "      <td>12</td>\n",
       "      <td>20.3</td>\n",
       "      <td>3</td>\n",
       "      <td>False</td>\n",
       "      <td>...</td>\n",
       "      <td>8.5</td>\n",
       "      <td>0</td>\n",
       "      <td>Санкт-Петербург</td>\n",
       "      <td>38357.0</td>\n",
       "      <td>13878.0</td>\n",
       "      <td>1.0</td>\n",
       "      <td>310.0</td>\n",
       "      <td>2.0</td>\n",
       "      <td>553.0</td>\n",
       "      <td>137.0</td>\n",
       "    </tr>\n",
       "    <tr>\n",
       "      <th>3</th>\n",
       "      <td>20</td>\n",
       "      <td>3550000.0</td>\n",
       "      <td>42.8</td>\n",
       "      <td>2017-07-01T00:00:00</td>\n",
       "      <td>2</td>\n",
       "      <td>2.56</td>\n",
       "      <td>5</td>\n",
       "      <td>27.0</td>\n",
       "      <td>5</td>\n",
       "      <td>False</td>\n",
       "      <td>...</td>\n",
       "      <td>5.2</td>\n",
       "      <td>1</td>\n",
       "      <td>Петергоф</td>\n",
       "      <td>37868.0</td>\n",
       "      <td>33058.0</td>\n",
       "      <td>1.0</td>\n",
       "      <td>294.0</td>\n",
       "      <td>3.0</td>\n",
       "      <td>298.0</td>\n",
       "      <td>366.0</td>\n",
       "    </tr>\n",
       "    <tr>\n",
       "      <th>4</th>\n",
       "      <td>11</td>\n",
       "      <td>6700000.0</td>\n",
       "      <td>82.0</td>\n",
       "      <td>2017-11-23T00:00:00</td>\n",
       "      <td>3</td>\n",
       "      <td>3.05</td>\n",
       "      <td>5</td>\n",
       "      <td>55.6</td>\n",
       "      <td>1</td>\n",
       "      <td>False</td>\n",
       "      <td>...</td>\n",
       "      <td>9.0</td>\n",
       "      <td>0</td>\n",
       "      <td>Санкт-Петербург</td>\n",
       "      <td>22108.0</td>\n",
       "      <td>10698.0</td>\n",
       "      <td>3.0</td>\n",
       "      <td>420.0</td>\n",
       "      <td>0.0</td>\n",
       "      <td>NaN</td>\n",
       "      <td>397.0</td>\n",
       "    </tr>\n",
       "    <tr>\n",
       "      <th>5</th>\n",
       "      <td>8</td>\n",
       "      <td>3250000.0</td>\n",
       "      <td>31.0</td>\n",
       "      <td>2017-01-27T00:00:00</td>\n",
       "      <td>1</td>\n",
       "      <td>2.50</td>\n",
       "      <td>5</td>\n",
       "      <td>19.4</td>\n",
       "      <td>2</td>\n",
       "      <td>False</td>\n",
       "      <td>...</td>\n",
       "      <td>5.6</td>\n",
       "      <td>1</td>\n",
       "      <td>Санкт-Петербург</td>\n",
       "      <td>44060.0</td>\n",
       "      <td>10842.0</td>\n",
       "      <td>1.0</td>\n",
       "      <td>759.0</td>\n",
       "      <td>0.0</td>\n",
       "      <td>NaN</td>\n",
       "      <td>168.0</td>\n",
       "    </tr>\n",
       "    <tr>\n",
       "      <th>6</th>\n",
       "      <td>16</td>\n",
       "      <td>14200000.0</td>\n",
       "      <td>121.0</td>\n",
       "      <td>2019-01-09T00:00:00</td>\n",
       "      <td>3</td>\n",
       "      <td>2.75</td>\n",
       "      <td>16</td>\n",
       "      <td>76.0</td>\n",
       "      <td>8</td>\n",
       "      <td>False</td>\n",
       "      <td>...</td>\n",
       "      <td>12.0</td>\n",
       "      <td>0</td>\n",
       "      <td>Санкт-Петербург</td>\n",
       "      <td>38900.0</td>\n",
       "      <td>12843.0</td>\n",
       "      <td>0.0</td>\n",
       "      <td>NaN</td>\n",
       "      <td>0.0</td>\n",
       "      <td>NaN</td>\n",
       "      <td>97.0</td>\n",
       "    </tr>\n",
       "    <tr>\n",
       "      <th>7</th>\n",
       "      <td>12</td>\n",
       "      <td>6120000.0</td>\n",
       "      <td>80.0</td>\n",
       "      <td>2017-09-28T00:00:00</td>\n",
       "      <td>3</td>\n",
       "      <td>2.70</td>\n",
       "      <td>27</td>\n",
       "      <td>48.0</td>\n",
       "      <td>11</td>\n",
       "      <td>False</td>\n",
       "      <td>...</td>\n",
       "      <td>12.0</td>\n",
       "      <td>2</td>\n",
       "      <td>посёлок Парголово</td>\n",
       "      <td>53134.0</td>\n",
       "      <td>19311.0</td>\n",
       "      <td>0.0</td>\n",
       "      <td>NaN</td>\n",
       "      <td>0.0</td>\n",
       "      <td>NaN</td>\n",
       "      <td>74.0</td>\n",
       "    </tr>\n",
       "    <tr>\n",
       "      <th>8</th>\n",
       "      <td>20</td>\n",
       "      <td>5000000.0</td>\n",
       "      <td>58.0</td>\n",
       "      <td>2017-04-24T00:00:00</td>\n",
       "      <td>2</td>\n",
       "      <td>2.75</td>\n",
       "      <td>25</td>\n",
       "      <td>30.0</td>\n",
       "      <td>15</td>\n",
       "      <td>False</td>\n",
       "      <td>...</td>\n",
       "      <td>11.0</td>\n",
       "      <td>2</td>\n",
       "      <td>деревня Кудрово</td>\n",
       "      <td>NaN</td>\n",
       "      <td>NaN</td>\n",
       "      <td>NaN</td>\n",
       "      <td>NaN</td>\n",
       "      <td>NaN</td>\n",
       "      <td>NaN</td>\n",
       "      <td>60.0</td>\n",
       "    </tr>\n",
       "    <tr>\n",
       "      <th>9</th>\n",
       "      <td>11</td>\n",
       "      <td>2950000.0</td>\n",
       "      <td>32.0</td>\n",
       "      <td>2016-10-29T00:00:00</td>\n",
       "      <td>1</td>\n",
       "      <td>2.60</td>\n",
       "      <td>9</td>\n",
       "      <td>17.7</td>\n",
       "      <td>9</td>\n",
       "      <td>False</td>\n",
       "      <td>...</td>\n",
       "      <td>6.1</td>\n",
       "      <td>0</td>\n",
       "      <td>Санкт-Петербург</td>\n",
       "      <td>15414.0</td>\n",
       "      <td>14211.0</td>\n",
       "      <td>2.0</td>\n",
       "      <td>517.0</td>\n",
       "      <td>1.0</td>\n",
       "      <td>190.0</td>\n",
       "      <td>615.0</td>\n",
       "    </tr>\n",
       "  </tbody>\n",
       "</table>\n",
       "<p>10 rows × 22 columns</p>\n",
       "</div>"
      ],
      "text/plain": [
       "   total_images  last_price  total_area first_day_exposition  rooms  \\\n",
       "0             2  10000000.0       100.0  2018-06-19T00:00:00      2   \n",
       "1            18   5400000.0        61.0  2017-02-26T00:00:00      3   \n",
       "2             5   5050000.0        39.6  2017-11-16T00:00:00      1   \n",
       "3            20   3550000.0        42.8  2017-07-01T00:00:00      2   \n",
       "4            11   6700000.0        82.0  2017-11-23T00:00:00      3   \n",
       "5             8   3250000.0        31.0  2017-01-27T00:00:00      1   \n",
       "6            16  14200000.0       121.0  2019-01-09T00:00:00      3   \n",
       "7            12   6120000.0        80.0  2017-09-28T00:00:00      3   \n",
       "8            20   5000000.0        58.0  2017-04-24T00:00:00      2   \n",
       "9            11   2950000.0        32.0  2016-10-29T00:00:00      1   \n",
       "\n",
       "   ceiling_height  floors_total  living_area  floor  is_apartment  ...  \\\n",
       "0            3.03            14         32.0     13         False  ...   \n",
       "1            2.50             9         43.6      7         False  ...   \n",
       "2            2.67            12         20.3      3         False  ...   \n",
       "3            2.56             5         27.0      5         False  ...   \n",
       "4            3.05             5         55.6      1         False  ...   \n",
       "5            2.50             5         19.4      2         False  ...   \n",
       "6            2.75            16         76.0      8         False  ...   \n",
       "7            2.70            27         48.0     11         False  ...   \n",
       "8            2.75            25         30.0     15         False  ...   \n",
       "9            2.60             9         17.7      9         False  ...   \n",
       "\n",
       "   kitchen_area  balcony      locality_name  airports_nearest  \\\n",
       "0          41.0        0    Санкт-Петербург           31856.0   \n",
       "1           6.5        2    Санкт-Петербург           50898.0   \n",
       "2           8.5        0    Санкт-Петербург           38357.0   \n",
       "3           5.2        1           Петергоф           37868.0   \n",
       "4           9.0        0    Санкт-Петербург           22108.0   \n",
       "5           5.6        1    Санкт-Петербург           44060.0   \n",
       "6          12.0        0    Санкт-Петербург           38900.0   \n",
       "7          12.0        2  посёлок Парголово           53134.0   \n",
       "8          11.0        2    деревня Кудрово               NaN   \n",
       "9           6.1        0    Санкт-Петербург           15414.0   \n",
       "\n",
       "  city_centers_nearest  parks_around3000  parks_nearest  ponds_around3000  \\\n",
       "0               8098.0               2.0          112.0               1.0   \n",
       "1              15008.0               0.0            NaN               0.0   \n",
       "2              13878.0               1.0          310.0               2.0   \n",
       "3              33058.0               1.0          294.0               3.0   \n",
       "4              10698.0               3.0          420.0               0.0   \n",
       "5              10842.0               1.0          759.0               0.0   \n",
       "6              12843.0               0.0            NaN               0.0   \n",
       "7              19311.0               0.0            NaN               0.0   \n",
       "8                  NaN               NaN            NaN               NaN   \n",
       "9              14211.0               2.0          517.0               1.0   \n",
       "\n",
       "   ponds_nearest  days_exposition  \n",
       "0           48.0            121.0  \n",
       "1            NaN            289.0  \n",
       "2          553.0            137.0  \n",
       "3          298.0            366.0  \n",
       "4            NaN            397.0  \n",
       "5            NaN            168.0  \n",
       "6            NaN             97.0  \n",
       "7            NaN             74.0  \n",
       "8            NaN             60.0  \n",
       "9          190.0            615.0  \n",
       "\n",
       "[10 rows x 22 columns]"
      ]
     },
     "execution_count": 17,
     "metadata": {},
     "output_type": "execute_result"
    }
   ],
   "source": [
    "df = df.astype({ \"rooms\": \"int64\", \"floors_total\": \"int64\", \"floor\": \"int64\", \"balcony\": \"int64\"})\n",
    "df.info()\n",
    "df.describe()\n",
    "df.head(10)"
   ]
  },
  {
   "cell_type": "markdown",
   "metadata": {},
   "source": [
    "## Расчёты и добавление результатов в таблицу\n",
    "___\n",
    "## Calculations and adding results to the table"
   ]
  },
  {
   "cell_type": "markdown",
   "metadata": {},
   "source": [
    "Необходимо посчитать и добавить в таблицу ряд параметров:\n",
    "- цену квадратного метра;\n",
    "- этаж квартиры; варианты — первый, последний, другой;\n",
    "- день недели, месяц и год публикации объявления;\n",
    "- соотношение жилой и общей площади, а также отношение площади кухни к общей.\n",
    "___\n",
    "It is necessary to calculate and add to the table a number of parameters:\n",
    "- price per square meter;\n",
    "- floor of the apartment; options - first, last, other;\n",
    "- day of the week, month and year of publication of the announcement;\n",
    "- the ratio of residential and total area, as well as the ratio of kitchen area to total."
   ]
  },
  {
   "cell_type": "code",
   "execution_count": 18,
   "metadata": {},
   "outputs": [],
   "source": [
    "df['square_m_price'] = df['last_price']/df['total_area']"
   ]
  },
  {
   "cell_type": "code",
   "execution_count": 19,
   "metadata": {},
   "outputs": [],
   "source": [
    "df.loc[df['floor'] == 1, 'floor_cat'] = 'первый'\n",
    "df.loc[df['floor'] == df['floors_total'], 'floor_cat'] = 'последний'\n",
    "df.loc[(df['floor'] != 1)&(df['floor'] != df['floors_total']), 'floor_cat'] = 'другой'"
   ]
  },
  {
   "cell_type": "code",
   "execution_count": 20,
   "metadata": {},
   "outputs": [],
   "source": [
    "df['first_day_exposition_dt'] = pd.to_datetime(\n",
    "    df['first_day_exposition'], format='%Y-%m-%dT%H:%M:%S'\n",
    ")"
   ]
  },
  {
   "cell_type": "code",
   "execution_count": 21,
   "metadata": {},
   "outputs": [],
   "source": [
    "df['living_total_comp'] = df['living_area']/df['total_area']\n",
    "df['kitch_total_comp'] = df['kitchen_area']/df['total_area']"
   ]
  },
  {
   "cell_type": "code",
   "execution_count": 22,
   "metadata": {},
   "outputs": [
    {
     "data": {
      "text/html": [
       "<div>\n",
       "<style scoped>\n",
       "    .dataframe tbody tr th:only-of-type {\n",
       "        vertical-align: middle;\n",
       "    }\n",
       "\n",
       "    .dataframe tbody tr th {\n",
       "        vertical-align: top;\n",
       "    }\n",
       "\n",
       "    .dataframe thead th {\n",
       "        text-align: right;\n",
       "    }\n",
       "</style>\n",
       "<table border=\"1\" class=\"dataframe\">\n",
       "  <thead>\n",
       "    <tr style=\"text-align: right;\">\n",
       "      <th></th>\n",
       "      <th>total_images</th>\n",
       "      <th>last_price</th>\n",
       "      <th>total_area</th>\n",
       "      <th>first_day_exposition</th>\n",
       "      <th>rooms</th>\n",
       "      <th>ceiling_height</th>\n",
       "      <th>floors_total</th>\n",
       "      <th>living_area</th>\n",
       "      <th>floor</th>\n",
       "      <th>is_apartment</th>\n",
       "      <th>...</th>\n",
       "      <th>parks_around3000</th>\n",
       "      <th>parks_nearest</th>\n",
       "      <th>ponds_around3000</th>\n",
       "      <th>ponds_nearest</th>\n",
       "      <th>days_exposition</th>\n",
       "      <th>square_m_price</th>\n",
       "      <th>floor_cat</th>\n",
       "      <th>first_day_exposition_dt</th>\n",
       "      <th>living_total_comp</th>\n",
       "      <th>kitch_total_comp</th>\n",
       "    </tr>\n",
       "  </thead>\n",
       "  <tbody>\n",
       "    <tr>\n",
       "      <th>0</th>\n",
       "      <td>2</td>\n",
       "      <td>10000000.0</td>\n",
       "      <td>100.0</td>\n",
       "      <td>2018-06-19T00:00:00</td>\n",
       "      <td>2</td>\n",
       "      <td>3.03</td>\n",
       "      <td>14</td>\n",
       "      <td>32.0</td>\n",
       "      <td>13</td>\n",
       "      <td>False</td>\n",
       "      <td>...</td>\n",
       "      <td>2.0</td>\n",
       "      <td>112.0</td>\n",
       "      <td>1.0</td>\n",
       "      <td>48.0</td>\n",
       "      <td>121.0</td>\n",
       "      <td>100000.000000</td>\n",
       "      <td>другой</td>\n",
       "      <td>2018-06-19</td>\n",
       "      <td>0.320000</td>\n",
       "      <td>0.410000</td>\n",
       "    </tr>\n",
       "    <tr>\n",
       "      <th>1</th>\n",
       "      <td>18</td>\n",
       "      <td>5400000.0</td>\n",
       "      <td>61.0</td>\n",
       "      <td>2017-02-26T00:00:00</td>\n",
       "      <td>3</td>\n",
       "      <td>2.50</td>\n",
       "      <td>9</td>\n",
       "      <td>43.6</td>\n",
       "      <td>7</td>\n",
       "      <td>False</td>\n",
       "      <td>...</td>\n",
       "      <td>0.0</td>\n",
       "      <td>NaN</td>\n",
       "      <td>0.0</td>\n",
       "      <td>NaN</td>\n",
       "      <td>289.0</td>\n",
       "      <td>88524.590164</td>\n",
       "      <td>другой</td>\n",
       "      <td>2017-02-26</td>\n",
       "      <td>0.714754</td>\n",
       "      <td>0.106557</td>\n",
       "    </tr>\n",
       "    <tr>\n",
       "      <th>2</th>\n",
       "      <td>5</td>\n",
       "      <td>5050000.0</td>\n",
       "      <td>39.6</td>\n",
       "      <td>2017-11-16T00:00:00</td>\n",
       "      <td>1</td>\n",
       "      <td>2.67</td>\n",
       "      <td>12</td>\n",
       "      <td>20.3</td>\n",
       "      <td>3</td>\n",
       "      <td>False</td>\n",
       "      <td>...</td>\n",
       "      <td>1.0</td>\n",
       "      <td>310.0</td>\n",
       "      <td>2.0</td>\n",
       "      <td>553.0</td>\n",
       "      <td>137.0</td>\n",
       "      <td>127525.252525</td>\n",
       "      <td>другой</td>\n",
       "      <td>2017-11-16</td>\n",
       "      <td>0.512626</td>\n",
       "      <td>0.214646</td>\n",
       "    </tr>\n",
       "    <tr>\n",
       "      <th>3</th>\n",
       "      <td>20</td>\n",
       "      <td>3550000.0</td>\n",
       "      <td>42.8</td>\n",
       "      <td>2017-07-01T00:00:00</td>\n",
       "      <td>2</td>\n",
       "      <td>2.56</td>\n",
       "      <td>5</td>\n",
       "      <td>27.0</td>\n",
       "      <td>5</td>\n",
       "      <td>False</td>\n",
       "      <td>...</td>\n",
       "      <td>1.0</td>\n",
       "      <td>294.0</td>\n",
       "      <td>3.0</td>\n",
       "      <td>298.0</td>\n",
       "      <td>366.0</td>\n",
       "      <td>82943.925234</td>\n",
       "      <td>последний</td>\n",
       "      <td>2017-07-01</td>\n",
       "      <td>0.630841</td>\n",
       "      <td>0.121495</td>\n",
       "    </tr>\n",
       "    <tr>\n",
       "      <th>4</th>\n",
       "      <td>11</td>\n",
       "      <td>6700000.0</td>\n",
       "      <td>82.0</td>\n",
       "      <td>2017-11-23T00:00:00</td>\n",
       "      <td>3</td>\n",
       "      <td>3.05</td>\n",
       "      <td>5</td>\n",
       "      <td>55.6</td>\n",
       "      <td>1</td>\n",
       "      <td>False</td>\n",
       "      <td>...</td>\n",
       "      <td>3.0</td>\n",
       "      <td>420.0</td>\n",
       "      <td>0.0</td>\n",
       "      <td>NaN</td>\n",
       "      <td>397.0</td>\n",
       "      <td>81707.317073</td>\n",
       "      <td>первый</td>\n",
       "      <td>2017-11-23</td>\n",
       "      <td>0.678049</td>\n",
       "      <td>0.109756</td>\n",
       "    </tr>\n",
       "  </tbody>\n",
       "</table>\n",
       "<p>5 rows × 27 columns</p>\n",
       "</div>"
      ],
      "text/plain": [
       "   total_images  last_price  total_area first_day_exposition  rooms  \\\n",
       "0             2  10000000.0       100.0  2018-06-19T00:00:00      2   \n",
       "1            18   5400000.0        61.0  2017-02-26T00:00:00      3   \n",
       "2             5   5050000.0        39.6  2017-11-16T00:00:00      1   \n",
       "3            20   3550000.0        42.8  2017-07-01T00:00:00      2   \n",
       "4            11   6700000.0        82.0  2017-11-23T00:00:00      3   \n",
       "\n",
       "   ceiling_height  floors_total  living_area  floor  is_apartment  ...  \\\n",
       "0            3.03            14         32.0     13         False  ...   \n",
       "1            2.50             9         43.6      7         False  ...   \n",
       "2            2.67            12         20.3      3         False  ...   \n",
       "3            2.56             5         27.0      5         False  ...   \n",
       "4            3.05             5         55.6      1         False  ...   \n",
       "\n",
       "   parks_around3000  parks_nearest  ponds_around3000  ponds_nearest  \\\n",
       "0               2.0          112.0               1.0           48.0   \n",
       "1               0.0            NaN               0.0            NaN   \n",
       "2               1.0          310.0               2.0          553.0   \n",
       "3               1.0          294.0               3.0          298.0   \n",
       "4               3.0          420.0               0.0            NaN   \n",
       "\n",
       "  days_exposition  square_m_price  floor_cat  first_day_exposition_dt  \\\n",
       "0           121.0   100000.000000     другой               2018-06-19   \n",
       "1           289.0    88524.590164     другой               2017-02-26   \n",
       "2           137.0   127525.252525     другой               2017-11-16   \n",
       "3           366.0    82943.925234  последний               2017-07-01   \n",
       "4           397.0    81707.317073     первый               2017-11-23   \n",
       "\n",
       "   living_total_comp  kitch_total_comp  \n",
       "0           0.320000          0.410000  \n",
       "1           0.714754          0.106557  \n",
       "2           0.512626          0.214646  \n",
       "3           0.630841          0.121495  \n",
       "4           0.678049          0.109756  \n",
       "\n",
       "[5 rows x 27 columns]"
      ]
     },
     "execution_count": 22,
     "metadata": {},
     "output_type": "execute_result"
    }
   ],
   "source": [
    "df.head(5)"
   ]
  },
  {
   "cell_type": "markdown",
   "metadata": {},
   "source": [
    "Поставленные выше задачи выполнены, созданы новые столбцы, включающие необходимые значения.\n",
    "___\n",
    "The tasks set above are completed, new columns are created that include the required values."
   ]
  },
  {
   "cell_type": "markdown",
   "metadata": {},
   "source": [
    "## Исследовательский анализ данных"
   ]
  },
  {
   "cell_type": "code",
   "execution_count": 23,
   "metadata": {
    "scrolled": true
   },
   "outputs": [
    {
     "data": {
      "text/plain": [
       "<AxesSubplot:>"
      ]
     },
     "execution_count": 23,
     "metadata": {},
     "output_type": "execute_result"
    },
    {
     "data": {
      "image/png": "[encoded data removed]",
      "text/plain": [
       "<Figure size 432x288 with 1 Axes>"
      ]
     },
     "metadata": {
      "needs_background": "light"
     },
     "output_type": "display_data"
    }
   ],
   "source": [
    "df['square_m_price'].hist()"
   ]
  },
  {
   "cell_type": "markdown",
   "metadata": {},
   "source": [
    "Распределение цены необычное, требуется более глубокий анализ данного столбца.\n",
    "___\n",
    "The price distribution is unusual, a deeper analysis of this column is required."
   ]
  },
  {
   "cell_type": "code",
   "execution_count": 24,
   "metadata": {},
   "outputs": [
    {
     "data": {
      "text/plain": [
       "(0.0, 100000.0)"
      ]
     },
     "execution_count": 24,
     "metadata": {},
     "output_type": "execute_result"
    },
    {
     "data": {
      "image/png": "[encoded data removed]",
      "text/plain": [
       "<Figure size 432x288 with 1 Axes>"
      ]
     },
     "metadata": {
      "needs_background": "light"
     },
     "output_type": "display_data"
    }
   ],
   "source": [
    "df.boxplot()\n",
    "plt.ylim(0, 100000)"
   ]
  },
  {
   "cell_type": "markdown",
   "metadata": {},
   "source": [
    "Из диаграммы размаха видно, что в столбце **square_m_price** довольно странное распределение значений, есть объективные выбросы. Либо логичная разница в цене, зависящая от множества факторов. \n",
    "___\n",
    "It can be seen from the range diagram that the **square_m_price** column has a rather strange distribution of values, there are objective outliers. Or a logical difference in price, depending on many factors."
   ]
  },
  {
   "cell_type": "code",
   "execution_count": 25,
   "metadata": {
    "scrolled": true
   },
   "outputs": [
    {
     "data": {
      "text/plain": [
       "count    1.103600e+04\n",
       "mean     9.964023e+04\n",
       "std      4.645304e+04\n",
       "min      1.118349e+02\n",
       "25%      7.814052e+04\n",
       "50%      9.534884e+04\n",
       "75%      1.136775e+05\n",
       "max      1.736842e+06\n",
       "Name: square_m_price, dtype: float64"
      ]
     },
     "execution_count": 25,
     "metadata": {},
     "output_type": "execute_result"
    }
   ],
   "source": [
    "df['square_m_price'].describe()"
   ]
  },
  {
   "cell_type": "markdown",
   "metadata": {},
   "source": [
    "Из описательных характеристик видно, что цены рознятся от чисел умноженных на 10^2 до 10^6. Разброс широк.\n",
    "___\n",
    "From the descriptive characteristics, it can be seen that prices vary from numbers multiplied by 10^2 to 10^6. The spread is wide."
   ]
  },
  {
   "cell_type": "code",
   "execution_count": 26,
   "metadata": {},
   "outputs": [
    {
     "data": {
      "text/plain": [
       "<AxesSubplot:>"
      ]
     },
     "execution_count": 26,
     "metadata": {},
     "output_type": "execute_result"
    },
    {
     "data": {
      "image/png": "[encoded data removed]",
      "text/plain": [
       "<Figure size 432x288 with 1 Axes>"
      ]
     },
     "metadata": {
      "needs_background": "light"
     },
     "output_type": "display_data"
    }
   ],
   "source": [
    "df['floor_cat'].hist()"
   ]
  },
  {
   "cell_type": "markdown",
   "metadata": {},
   "source": [
    "Превалирует жилье не на первом и не на последнем этаже.\n",
    "___\n",
    "Housing prevails not on the first and not on the last floor."
   ]
  },
  {
   "cell_type": "code",
   "execution_count": 27,
   "metadata": {},
   "outputs": [
    {
     "data": {
      "text/plain": [
       "<AxesSubplot:>"
      ]
     },
     "execution_count": 27,
     "metadata": {},
     "output_type": "execute_result"
    },
    {
     "data": {
      "image/png": "[encoded data removed]",
      "text/plain": [
       "<Figure size 432x288 with 1 Axes>"
      ]
     },
     "metadata": {
      "needs_background": "light"
     },
     "output_type": "display_data"
    }
   ],
   "source": [
    "df['first_day_exposition_dt'].hist()"
   ]
  },
  {
   "cell_type": "markdown",
   "metadata": {},
   "source": [
    "Видно, что пик выставления жилья на продажу был в периоды конец 2017/начало 2018, далее наблюдалось плато на сравнительно более выскоком уровне нежели чем до пика, и в конце 2018/начале2019 года вновь был пик, после которого рынок пошел на спад.\n",
    "___\n",
    "It can be seen that the peak of listing of housing for sale was in the periods of late 2017/early 2018, then there was a plateau at a relatively higher level than before the peak, and at the end of 2018/beginning of 2019 there was a peak again, after which the market began to decline."
   ]
  },
  {
   "cell_type": "code",
   "execution_count": 28,
   "metadata": {},
   "outputs": [
    {
     "data": {
      "text/plain": [
       "<AxesSubplot:>"
      ]
     },
     "execution_count": 28,
     "metadata": {},
     "output_type": "execute_result"
    },
    {
     "data": {
      "image/png": "[encoded data removed]",
      "text/plain": [
       "<Figure size 432x288 with 1 Axes>"
      ]
     },
     "metadata": {
      "needs_background": "light"
     },
     "output_type": "display_data"
    }
   ],
   "source": [
    "df['living_total_comp'].hist()"
   ]
  },
  {
   "cell_type": "markdown",
   "metadata": {},
   "source": [
    "Нормальное распределение значений с преимуществом в соотношении, равном 0,5-0,6.\n",
    "___\n",
    "Normal distribution of values with an advantage in the ratio equal to 0.5-0.6."
   ]
  },
  {
   "cell_type": "code",
   "execution_count": 29,
   "metadata": {},
   "outputs": [
    {
     "data": {
      "text/plain": [
       "<AxesSubplot:>"
      ]
     },
     "execution_count": 29,
     "metadata": {},
     "output_type": "execute_result"
    },
    {
     "data": {
      "image/png": "[encoded data removed]",
      "text/plain": [
       "<Figure size 432x288 with 1 Axes>"
      ]
     },
     "metadata": {
      "needs_background": "light"
     },
     "output_type": "display_data"
    }
   ],
   "source": [
    "df['kitch_total_comp'].hist()"
   ]
  },
  {
   "cell_type": "markdown",
   "metadata": {},
   "source": [
    "Видно превалирование соотношений в области 0,9-1,6.\n",
    "___\n",
    "One can see the prevalence of ratios in the region of 0.9-1.6."
   ]
  },
  {
   "cell_type": "markdown",
   "metadata": {},
   "source": [
    "Изучим время продажи квартиры. Построим гистограмму. Посчитаем среднее и медиану. \n",
    "Ответим на вопросы:\n",
    "- Сколько обычно занимает продажа?\n",
    "- Когда можно считать, что продажи прошли очень быстро, а когда необычно долго?\n",
    "___\n",
    "We will study the time of sale of the apartment. Let's build a histogram. Let's calculate the mean and median.\n",
    "We will answer the questions:\n",
    "How long does a sale usually take?\n",
    "- When can we assume that sales were very fast, and when unusually long?"
   ]
  },
  {
   "cell_type": "code",
   "execution_count": 30,
   "metadata": {
    "scrolled": true
   },
   "outputs": [
    {
     "data": {
      "text/plain": [
       "<AxesSubplot:>"
      ]
     },
     "execution_count": 30,
     "metadata": {},
     "output_type": "execute_result"
    },
    {
     "data": {
      "image/png": "[encoded data removed]",
      "text/plain": [
       "<Figure size 432x288 with 1 Axes>"
      ]
     },
     "metadata": {
      "needs_background": "light"
     },
     "output_type": "display_data"
    }
   ],
   "source": [
    "df['days_exposition'].hist()"
   ]
  },
  {
   "cell_type": "code",
   "execution_count": 31,
   "metadata": {},
   "outputs": [
    {
     "data": {
      "text/plain": [
       "count    11036.000000\n",
       "mean       192.665730\n",
       "std        229.036891\n",
       "min          1.000000\n",
       "25%         45.000000\n",
       "50%        107.000000\n",
       "75%        251.000000\n",
       "max       1580.000000\n",
       "Name: days_exposition, dtype: float64"
      ]
     },
     "execution_count": 31,
     "metadata": {},
     "output_type": "execute_result"
    }
   ],
   "source": [
    "df['days_exposition'].describe()"
   ]
  },
  {
   "cell_type": "markdown",
   "metadata": {},
   "source": [
    "**Вывод:**\n",
    "В среднем продажа занимает 192 дня. Минимальное количество дней, ушедшее на продажу - 1 день, максимальное - 1580. Большинство продаж приходится на значения от 45 до 251 дней. \n",
    "Соответственно, можно считать, что продажи прошли очень быстро, если они заняли менее 45 дней, а необычно долго, если более 251 дня.\n",
    "___\n",
    "**Conclusion:**\n",
    "On average, a sale takes 192 days. The minimum number of days left for a sale is 1 day, the maximum is 1580. Most of the sales fall on values from 45 to 251 days.\n",
    "Accordingly, sales can be considered very fast if they took less than 45 days, and unusually long if more than 251 days."
   ]
  },
  {
   "cell_type": "markdown",
   "metadata": {},
   "source": [
    "Выясним какие факторы больше всего влияют на стоимость квартиры.\n",
    "Ответим на вопросы:\n",
    "- Зависит ли цена от квадратного метра, числа комнат, этажа (первого или последнего), удалённости от центра?\n",
    "- Есть ли зависимость от даты размещения: дня недели, месяца и года?\n",
    "___\n",
    "Find out what factors most affect the cost of an apartment.\n",
    "We will answer the questions:\n",
    "- Does the price depend on a square meter, number of rooms, floor (first or last), distance from the center?\n",
    "- Is there a dependence on the date of placement: day of the week, month and year?"
   ]
  },
  {
   "cell_type": "code",
   "execution_count": 32,
   "metadata": {
    "scrolled": true
   },
   "outputs": [
    {
     "data": {
      "text/plain": [
       "<AxesSubplot:xlabel='rooms'>"
      ]
     },
     "execution_count": 32,
     "metadata": {},
     "output_type": "execute_result"
    },
    {
     "data": {
      "image/png": "[encoded data removed]",
      "text/plain": [
       "<Figure size 864x360 with 1 Axes>"
      ]
     },
     "metadata": {
      "needs_background": "light"
     },
     "output_type": "display_data"
    }
   ],
   "source": [
    "df.pivot_table(index='rooms', values='last_price').plot(grid=True, figsize=(12, 5)) "
   ]
  },
  {
   "cell_type": "markdown",
   "metadata": {},
   "source": [
    "Обнаружен аномальный всплеск цен в случае количества комнат, равном 12. В остальном видна логичная линия повышения стоимости.\n",
    "**Однако**, в таком случае хотелось бы проверить насколько в целом количество комнат и площадь квартир соотносимы, нет ли расхождений в данном случае.\n",
    "___\n",
    "An anomalous price surge was detected in the case of a number of rooms equal to 12. Otherwise, a logical price increase line is visible.\n",
    "**However**, in this case, I would like to check whether the number of rooms and the area of apartments are generally correlated, if there are any discrepancies in this case."
   ]
  },
  {
   "cell_type": "code",
   "execution_count": 33,
   "metadata": {},
   "outputs": [
    {
     "data": {
      "text/plain": [
       "<AxesSubplot:xlabel='rooms'>"
      ]
     },
     "execution_count": 33,
     "metadata": {},
     "output_type": "execute_result"
    },
    {
     "data": {
      "image/png": "[encoded data removed]",
      "text/plain": [
       "<Figure size 864x360 with 1 Axes>"
      ]
     },
     "metadata": {
      "needs_background": "light"
     },
     "output_type": "display_data"
    }
   ],
   "source": [
    "df['rooms'].describe()\n",
    "df.pivot_table(index='rooms', values='total_area').plot(grid=True, figsize=(12, 5)) "
   ]
  },
  {
   "cell_type": "markdown",
   "metadata": {},
   "source": [
    "Зависимость кол-во комнат/площадь положительная и имеет место. Но снова аномально высокие значений в случае 12-ти комнат.\n",
    "___\n",
    "Dependence number of rooms / area is positive and takes place. But again, abnormally high values in the case of 12 rooms."
   ]
  },
  {
   "cell_type": "code",
   "execution_count": 34,
   "metadata": {},
   "outputs": [
    {
     "data": {
      "text/html": [
       "<div>\n",
       "<style scoped>\n",
       "    .dataframe tbody tr th:only-of-type {\n",
       "        vertical-align: middle;\n",
       "    }\n",
       "\n",
       "    .dataframe tbody tr th {\n",
       "        vertical-align: top;\n",
       "    }\n",
       "\n",
       "    .dataframe thead th {\n",
       "        text-align: right;\n",
       "    }\n",
       "</style>\n",
       "<table border=\"1\" class=\"dataframe\">\n",
       "  <thead>\n",
       "    <tr style=\"text-align: right;\">\n",
       "      <th></th>\n",
       "      <th>total_images</th>\n",
       "      <th>last_price</th>\n",
       "      <th>total_area</th>\n",
       "      <th>first_day_exposition</th>\n",
       "      <th>rooms</th>\n",
       "      <th>ceiling_height</th>\n",
       "      <th>floors_total</th>\n",
       "      <th>living_area</th>\n",
       "      <th>floor</th>\n",
       "      <th>is_apartment</th>\n",
       "      <th>...</th>\n",
       "      <th>parks_around3000</th>\n",
       "      <th>parks_nearest</th>\n",
       "      <th>ponds_around3000</th>\n",
       "      <th>ponds_nearest</th>\n",
       "      <th>days_exposition</th>\n",
       "      <th>square_m_price</th>\n",
       "      <th>floor_cat</th>\n",
       "      <th>first_day_exposition_dt</th>\n",
       "      <th>living_total_comp</th>\n",
       "      <th>kitch_total_comp</th>\n",
       "    </tr>\n",
       "  </thead>\n",
       "  <tbody>\n",
       "    <tr>\n",
       "      <th>418</th>\n",
       "      <td>5</td>\n",
       "      <td>25000000.0</td>\n",
       "      <td>363.0</td>\n",
       "      <td>2017-12-23T00:00:00</td>\n",
       "      <td>14</td>\n",
       "      <td>3.16</td>\n",
       "      <td>5</td>\n",
       "      <td>222.0</td>\n",
       "      <td>4</td>\n",
       "      <td>False</td>\n",
       "      <td>...</td>\n",
       "      <td>0.0</td>\n",
       "      <td>NaN</td>\n",
       "      <td>2.0</td>\n",
       "      <td>435.0</td>\n",
       "      <td>418.0</td>\n",
       "      <td>68870.523416</td>\n",
       "      <td>другой</td>\n",
       "      <td>2017-12-23</td>\n",
       "      <td>0.611570</td>\n",
       "      <td>0.045730</td>\n",
       "    </tr>\n",
       "    <tr>\n",
       "      <th>4509</th>\n",
       "      <td>8</td>\n",
       "      <td>33000000.0</td>\n",
       "      <td>194.1</td>\n",
       "      <td>2017-02-07T00:00:00</td>\n",
       "      <td>11</td>\n",
       "      <td>3.43</td>\n",
       "      <td>5</td>\n",
       "      <td>129.0</td>\n",
       "      <td>2</td>\n",
       "      <td>False</td>\n",
       "      <td>...</td>\n",
       "      <td>1.0</td>\n",
       "      <td>686.0</td>\n",
       "      <td>2.0</td>\n",
       "      <td>66.0</td>\n",
       "      <td>813.0</td>\n",
       "      <td>170015.455951</td>\n",
       "      <td>другой</td>\n",
       "      <td>2017-02-07</td>\n",
       "      <td>0.664606</td>\n",
       "      <td>0.061309</td>\n",
       "    </tr>\n",
       "    <tr>\n",
       "      <th>8511</th>\n",
       "      <td>4</td>\n",
       "      <td>15500000.0</td>\n",
       "      <td>216.1</td>\n",
       "      <td>2016-07-04T00:00:00</td>\n",
       "      <td>10</td>\n",
       "      <td>3.15</td>\n",
       "      <td>5</td>\n",
       "      <td>161.4</td>\n",
       "      <td>2</td>\n",
       "      <td>False</td>\n",
       "      <td>...</td>\n",
       "      <td>1.0</td>\n",
       "      <td>368.0</td>\n",
       "      <td>0.0</td>\n",
       "      <td>NaN</td>\n",
       "      <td>11.0</td>\n",
       "      <td>71726.052753</td>\n",
       "      <td>другой</td>\n",
       "      <td>2016-07-04</td>\n",
       "      <td>0.746876</td>\n",
       "      <td>0.091624</td>\n",
       "    </tr>\n",
       "    <tr>\n",
       "      <th>8877</th>\n",
       "      <td>11</td>\n",
       "      <td>40000000.0</td>\n",
       "      <td>290.0</td>\n",
       "      <td>2016-06-21T00:00:00</td>\n",
       "      <td>10</td>\n",
       "      <td>3.50</td>\n",
       "      <td>6</td>\n",
       "      <td>189.4</td>\n",
       "      <td>6</td>\n",
       "      <td>False</td>\n",
       "      <td>...</td>\n",
       "      <td>3.0</td>\n",
       "      <td>316.0</td>\n",
       "      <td>1.0</td>\n",
       "      <td>227.0</td>\n",
       "      <td>77.0</td>\n",
       "      <td>137931.034483</td>\n",
       "      <td>последний</td>\n",
       "      <td>2016-06-21</td>\n",
       "      <td>0.653103</td>\n",
       "      <td>0.103448</td>\n",
       "    </tr>\n",
       "    <tr>\n",
       "      <th>9183</th>\n",
       "      <td>8</td>\n",
       "      <td>420000000.0</td>\n",
       "      <td>900.0</td>\n",
       "      <td>2017-12-06T00:00:00</td>\n",
       "      <td>12</td>\n",
       "      <td>2.80</td>\n",
       "      <td>25</td>\n",
       "      <td>409.7</td>\n",
       "      <td>25</td>\n",
       "      <td>False</td>\n",
       "      <td>...</td>\n",
       "      <td>0.0</td>\n",
       "      <td>NaN</td>\n",
       "      <td>2.0</td>\n",
       "      <td>318.0</td>\n",
       "      <td>106.0</td>\n",
       "      <td>466666.666667</td>\n",
       "      <td>последний</td>\n",
       "      <td>2017-12-06</td>\n",
       "      <td>0.455222</td>\n",
       "      <td>0.124444</td>\n",
       "    </tr>\n",
       "  </tbody>\n",
       "</table>\n",
       "<p>5 rows × 27 columns</p>\n",
       "</div>"
      ],
      "text/plain": [
       "      total_images   last_price  total_area first_day_exposition  rooms  \\\n",
       "418              5   25000000.0       363.0  2017-12-23T00:00:00     14   \n",
       "4509             8   33000000.0       194.1  2017-02-07T00:00:00     11   \n",
       "8511             4   15500000.0       216.1  2016-07-04T00:00:00     10   \n",
       "8877            11   40000000.0       290.0  2016-06-21T00:00:00     10   \n",
       "9183             8  420000000.0       900.0  2017-12-06T00:00:00     12   \n",
       "\n",
       "      ceiling_height  floors_total  living_area  floor  is_apartment  ...  \\\n",
       "418             3.16             5        222.0      4         False  ...   \n",
       "4509            3.43             5        129.0      2         False  ...   \n",
       "8511            3.15             5        161.4      2         False  ...   \n",
       "8877            3.50             6        189.4      6         False  ...   \n",
       "9183            2.80            25        409.7     25         False  ...   \n",
       "\n",
       "      parks_around3000  parks_nearest  ponds_around3000  ponds_nearest  \\\n",
       "418                0.0            NaN               2.0          435.0   \n",
       "4509               1.0          686.0               2.0           66.0   \n",
       "8511               1.0          368.0               0.0            NaN   \n",
       "8877               3.0          316.0               1.0          227.0   \n",
       "9183               0.0            NaN               2.0          318.0   \n",
       "\n",
       "     days_exposition  square_m_price  floor_cat  first_day_exposition_dt  \\\n",
       "418            418.0    68870.523416     другой               2017-12-23   \n",
       "4509           813.0   170015.455951     другой               2017-02-07   \n",
       "8511            11.0    71726.052753     другой               2016-07-04   \n",
       "8877            77.0   137931.034483  последний               2016-06-21   \n",
       "9183           106.0   466666.666667  последний               2017-12-06   \n",
       "\n",
       "      living_total_comp  kitch_total_comp  \n",
       "418            0.611570          0.045730  \n",
       "4509           0.664606          0.061309  \n",
       "8511           0.746876          0.091624  \n",
       "8877           0.653103          0.103448  \n",
       "9183           0.455222          0.124444  \n",
       "\n",
       "[5 rows x 27 columns]"
      ]
     },
     "execution_count": 34,
     "metadata": {},
     "output_type": "execute_result"
    }
   ],
   "source": [
    "df.query('rooms >= 10 and rooms <=14')"
   ]
  },
  {
   "cell_type": "markdown",
   "metadata": {},
   "source": [
    "Отсюда наглядно в цифрах видна значительная площадь квартиры с 12-ю комнатами. Такая площадь возможна, несмотря на то, что сильно влияет на графики.\n",
    "___\n",
    "From here, a significant area of ​​the apartment with 12 rooms is clearly visible in numbers. Such an area is possible, despite the fact that it greatly affects the graphs."
   ]
  },
  {
   "cell_type": "code",
   "execution_count": 35,
   "metadata": {
    "scrolled": true
   },
   "outputs": [
    {
     "data": {
      "text/plain": [
       "<AxesSubplot:xlabel='floor_cat'>"
      ]
     },
     "execution_count": 35,
     "metadata": {},
     "output_type": "execute_result"
    },
    {
     "data": {
      "image/png": "[encoded data removed]",
      "text/plain": [
       "<Figure size 864x360 with 1 Axes>"
      ]
     },
     "metadata": {
      "needs_background": "light"
     },
     "output_type": "display_data"
    }
   ],
   "source": [
    "df.pivot_table(index='floor_cat', values='last_price').plot(grid=True, figsize=(12, 5)) "
   ]
  },
  {
   "cell_type": "markdown",
   "metadata": {},
   "source": [
    "Очевидно, что цена зависит от этажа, уменьшаясь в случае первого этажа, и увеличиваясь к последнему.\n",
    "___\n",
    "Obviously, the price depends on the floor, decreasing in the case of the first floor, and increasing towards the last."
   ]
  },
  {
   "cell_type": "code",
   "execution_count": 36,
   "metadata": {},
   "outputs": [
    {
     "data": {
      "text/plain": [
       "<AxesSubplot:xlabel='city_centers_nearest'>"
      ]
     },
     "execution_count": 36,
     "metadata": {},
     "output_type": "execute_result"
    },
    {
     "data": {
      "image/png": "[encoded data removed]",
      "text/plain": [
       "<Figure size 864x360 with 1 Axes>"
      ]
     },
     "metadata": {
      "needs_background": "light"
     },
     "output_type": "display_data"
    }
   ],
   "source": [
    "df.pivot_table(index='city_centers_nearest', values='last_price').plot(grid=True, figsize=(12, 5)) "
   ]
  },
  {
   "cell_type": "markdown",
   "metadata": {},
   "source": [
    "Объективно цена зависит от приближенности к центру города.\n",
    "___\n",
    "Objectively, the price depends on the proximity to the city center."
   ]
  },
  {
   "cell_type": "code",
   "execution_count": 37,
   "metadata": {
    "scrolled": true
   },
   "outputs": [
    {
     "data": {
      "text/plain": [
       "<AxesSubplot:xlabel='first_day_exposition_dt'>"
      ]
     },
     "execution_count": 37,
     "metadata": {},
     "output_type": "execute_result"
    },
    {
     "data": {
      "image/png": "[encoded data removed]",
      "text/plain": [
       "<Figure size 864x360 with 1 Axes>"
      ]
     },
     "metadata": {
      "needs_background": "light"
     },
     "output_type": "display_data"
    }
   ],
   "source": [
    "df.pivot_table(index='first_day_exposition_dt', values='last_price').plot(grid=True, figsize=(12, 5)) "
   ]
  },
  {
   "cell_type": "code",
   "execution_count": 38,
   "metadata": {},
   "outputs": [],
   "source": [
    "df['week_day_exp'] = pd.DatetimeIndex(df['first_day_exposition_dt']).weekday"
   ]
  },
  {
   "cell_type": "code",
   "execution_count": 39,
   "metadata": {},
   "outputs": [
    {
     "data": {
      "text/plain": [
       "<AxesSubplot:xlabel='week_day_exp'>"
      ]
     },
     "execution_count": 39,
     "metadata": {},
     "output_type": "execute_result"
    },
    {
     "data": {
      "image/png": "[encoded data removed]",
      "text/plain": [
       "<Figure size 864x360 with 1 Axes>"
      ]
     },
     "metadata": {
      "needs_background": "light"
     },
     "output_type": "display_data"
    }
   ],
   "source": [
    "df.pivot_table(index='week_day_exp', values='last_price').plot(grid=True, figsize=(12, 5)) "
   ]
  },
  {
   "cell_type": "markdown",
   "metadata": {},
   "source": [
    "Цена наиболее мала в объявлениях, опубликованных в период с пятницы по воскресенье.\n",
    "___\n",
    "The price is lowest in ads published between Friday and Sunday."
   ]
  },
  {
   "cell_type": "code",
   "execution_count": 40,
   "metadata": {},
   "outputs": [],
   "source": [
    "df['month_exp'] = pd.DatetimeIndex(df['first_day_exposition_dt']).month"
   ]
  },
  {
   "cell_type": "code",
   "execution_count": 41,
   "metadata": {},
   "outputs": [
    {
     "data": {
      "text/plain": [
       "<AxesSubplot:xlabel='month_exp'>"
      ]
     },
     "execution_count": 41,
     "metadata": {},
     "output_type": "execute_result"
    },
    {
     "data": {
      "image/png": "[encoded data removed]",
      "text/plain": [
       "<Figure size 864x360 with 1 Axes>"
      ]
     },
     "metadata": {
      "needs_background": "light"
     },
     "output_type": "display_data"
    }
   ],
   "source": [
    "df.pivot_table(index='month_exp', values='last_price').plot(grid=True, figsize=(12, 5)) "
   ]
  },
  {
   "cell_type": "markdown",
   "metadata": {},
   "source": [
    "Цена наиболее мала в объявлениях, опубликованных в марте, июне, октябре.\n",
    "___\n",
    "The price is the smallest in the ads published in March, June, October."
   ]
  },
  {
   "cell_type": "code",
   "execution_count": 42,
   "metadata": {},
   "outputs": [],
   "source": [
    "df['year_exp'] = pd.DatetimeIndex(df['first_day_exposition_dt']).year"
   ]
  },
  {
   "cell_type": "code",
   "execution_count": 43,
   "metadata": {
    "scrolled": true
   },
   "outputs": [
    {
     "data": {
      "text/plain": [
       "<AxesSubplot:xlabel='year_exp'>"
      ]
     },
     "execution_count": 43,
     "metadata": {},
     "output_type": "execute_result"
    },
    {
     "data": {
      "image/png": "[encoded data removed]",
      "text/plain": [
       "<Figure size 864x360 with 1 Axes>"
      ]
     },
     "metadata": {
      "needs_background": "light"
     },
     "output_type": "display_data"
    }
   ],
   "source": [
    "df.pivot_table(index='year_exp', values='last_price').plot(grid=True, figsize=(12, 5)) "
   ]
  },
  {
   "cell_type": "markdown",
   "metadata": {},
   "source": [
    "Цена имеет тенденцию к снижению с годами.\n",
    "___\n",
    "The price tends to decrease over the years."
   ]
  },
  {
   "cell_type": "markdown",
   "metadata": {},
   "source": [
    "Следующие задачи:\n",
    "\n",
    "- Выберем 10 населённых пунктов с наибольшим числом объявлений. Посчитаем среднюю цену квадратного метра в этих населённых пунктах. \n",
    "- Выделим населённые пункты с самой высокой и низкой стоимостью жилья. Эти данные можно найти по имени в столбце locality_name\n",
    "___\n",
    "The following tasks:\n",
    "\n",
    "- We will select 10 settlements with the largest number of ads. Let's calculate the average price per square meter in these settlements.\n",
    "- Select the settlements with the highest and lowest cost of housing. This data can be found by name in the column locality_name"
   ]
  },
  {
   "cell_type": "code",
   "execution_count": 44,
   "metadata": {
    "scrolled": true
   },
   "outputs": [
    {
     "data": {
      "text/html": [
       "<div>\n",
       "<style scoped>\n",
       "    .dataframe tbody tr th:only-of-type {\n",
       "        vertical-align: middle;\n",
       "    }\n",
       "\n",
       "    .dataframe tbody tr th {\n",
       "        vertical-align: top;\n",
       "    }\n",
       "\n",
       "    .dataframe thead th {\n",
       "        text-align: right;\n",
       "    }\n",
       "</style>\n",
       "<table border=\"1\" class=\"dataframe\">\n",
       "  <thead>\n",
       "    <tr style=\"text-align: right;\">\n",
       "      <th></th>\n",
       "      <th>locality_name</th>\n",
       "    </tr>\n",
       "  </thead>\n",
       "  <tbody>\n",
       "    <tr>\n",
       "      <th>Санкт-Петербург</th>\n",
       "      <td>7750</td>\n",
       "    </tr>\n",
       "    <tr>\n",
       "      <th>Всеволожск</th>\n",
       "      <td>200</td>\n",
       "    </tr>\n",
       "    <tr>\n",
       "      <th>посёлок Шушары</th>\n",
       "      <td>181</td>\n",
       "    </tr>\n",
       "    <tr>\n",
       "      <th>Пушкин</th>\n",
       "      <td>175</td>\n",
       "    </tr>\n",
       "    <tr>\n",
       "      <th>посёлок Мурино</th>\n",
       "      <td>173</td>\n",
       "    </tr>\n",
       "    <tr>\n",
       "      <th>Колпино</th>\n",
       "      <td>169</td>\n",
       "    </tr>\n",
       "    <tr>\n",
       "      <th>Петергоф</th>\n",
       "      <td>120</td>\n",
       "    </tr>\n",
       "    <tr>\n",
       "      <th>посёлок Парголово</th>\n",
       "      <td>114</td>\n",
       "    </tr>\n",
       "    <tr>\n",
       "      <th>Гатчина</th>\n",
       "      <td>112</td>\n",
       "    </tr>\n",
       "    <tr>\n",
       "      <th>деревня Кудрово</th>\n",
       "      <td>104</td>\n",
       "    </tr>\n",
       "  </tbody>\n",
       "</table>\n",
       "</div>"
      ],
      "text/plain": [
       "                   locality_name\n",
       "Санкт-Петербург             7750\n",
       "Всеволожск                   200\n",
       "посёлок Шушары               181\n",
       "Пушкин                       175\n",
       "посёлок Мурино               173\n",
       "Колпино                      169\n",
       "Петергоф                     120\n",
       "посёлок Парголово            114\n",
       "Гатчина                      112\n",
       "деревня Кудрово              104"
      ]
     },
     "execution_count": 44,
     "metadata": {},
     "output_type": "execute_result"
    }
   ],
   "source": [
    "top_loc = df['locality_name'].value_counts().head(10).to_frame()\n",
    "top_loc"
   ]
  },
  {
   "cell_type": "code",
   "execution_count": 45,
   "metadata": {},
   "outputs": [
    {
     "data": {
      "text/plain": [
       "[112267.78131982347,\n",
       " 66865.1795778299,\n",
       " 78478.30191866736,\n",
       " 102080.85484978852,\n",
       " 87137.89743099282,\n",
       " 74657.33507912108,\n",
       " 83630.18649914415,\n",
       " 90112.37100929485,\n",
       " 68700.82978245043,\n",
       " 90644.83487018228]"
      ]
     },
     "execution_count": 45,
     "metadata": {},
     "output_type": "execute_result"
    }
   ],
   "source": [
    "t = []\n",
    "for loc in list(top_loc.index):\n",
    "    t.append(df.query('locality_name == @loc')['square_m_price'].mean())\n",
    "t"
   ]
  },
  {
   "cell_type": "code",
   "execution_count": 46,
   "metadata": {},
   "outputs": [],
   "source": [
    "top_loc['av_price'] =  t"
   ]
  },
  {
   "cell_type": "code",
   "execution_count": 47,
   "metadata": {
    "scrolled": true
   },
   "outputs": [
    {
     "data": {
      "text/plain": [
       "Всеволожск            66865.179578\n",
       "Гатчина               68700.829782\n",
       "Колпино               74657.335079\n",
       "посёлок Шушары        78478.301919\n",
       "Петергоф              83630.186499\n",
       "посёлок Мурино        87137.897431\n",
       "посёлок Парголово     90112.371009\n",
       "деревня Кудрово       90644.834870\n",
       "Пушкин               102080.854850\n",
       "Санкт-Петербург      112267.781320\n",
       "Name: av_price, dtype: float64"
      ]
     },
     "execution_count": 47,
     "metadata": {},
     "output_type": "execute_result"
    }
   ],
   "source": [
    "top_loc['av_price'].sort_values(ascending=True)"
   ]
  },
  {
   "cell_type": "markdown",
   "metadata": {},
   "source": [
    "Самая высокая стоимость жилья в Санкт-Петербурге - 112267.781320, самая низкая в Всеволожске - 66865.179578.\n",
    "___\n",
    "The highest cost of housing in St. Petersburg is 112267.781320, the lowest in Vsevolozhsk is 66865.179578."
   ]
  },
  {
   "cell_type": "markdown",
   "metadata": {},
   "source": [
    "Следующие задачи:\n",
    "- Изучить предложения квартир: для каждой квартиры есть информация о расстоянии до центра;\n",
    "- Выделить квартиры в Санкт-Петербурге (locality_name)\n",
    "- выяснить, какая область входит в центр. \n",
    "- Создать столбец с расстоянием до центра в километрах: округлите до целых значений. \n",
    "- посчитать среднюю цену для каждого километра.\n",
    "- Построить график: он должен показывать, как цена зависит от удалённости от центра. \n",
    "- Определить границу, где график сильно меняется — это и будет центральная зона\n",
    "___\n",
    "The following tasks:\n",
    "- Study the offers of apartments: for each apartment there is information about the distance to the center;\n",
    "- Select apartments in St. Petersburg (locality_name)\n",
    "- find out which area is included in the center.\n",
    "- Create a column with the distance to the center in kilometers: round to whole values.\n",
    "- calculate the average price for each kilometer.\n",
    "- Build a graph: it should show how the price depends on the distance from the center.\n",
    "- Determine the boundary where the graph changes a lot - this will be the central zone"
   ]
  },
  {
   "cell_type": "code",
   "execution_count": 48,
   "metadata": {},
   "outputs": [
    {
     "data": {
      "text/plain": [
       "<AxesSubplot:xlabel='to_center'>"
      ]
     },
     "execution_count": 48,
     "metadata": {},
     "output_type": "execute_result"
    },
    {
     "data": {
      "image/png": "[encoded data removed]",
      "text/plain": [
       "<Figure size 1080x360 with 1 Axes>"
      ]
     },
     "metadata": {
      "needs_background": "light"
     },
     "output_type": "display_data"
    }
   ],
   "source": [
    "center = df.query('locality_name == \"Санкт-Петербург\"').copy()\n",
    "city_med = center['city_centers_nearest'].median()\n",
    "center['city_centers_nearest'] = center['city_centers_nearest'].fillna(value=city_med)\n",
    "center['to_center'] = (center['city_centers_nearest']/1000).astype('int')\n",
    "center['to_center'].describe()\n",
    "center.pivot_table(index='to_center', values='last_price').plot(grid=True, figsize=(15, 5)) "
   ]
  },
  {
   "cell_type": "markdown",
   "metadata": {},
   "source": [
    "Исходя из проведенного исследования, центральная зона ограничивается 2 км, после данных значений видно очевидное падение цен.\n",
    "___\n",
    "Based on the study, the central zone is limited to 2 km, after these values, an obvious drop in prices can be seen."
   ]
  },
  {
   "cell_type": "markdown",
   "metadata": {},
   "source": [
    "Следующие задачи:\n",
    "- Выделить сегмент квартир в центре. \n",
    "- Проанализировать эту территорию и изучите следующие параметры: площадь, цена, число комнат, высота потолков.\n",
    "- Выделить факторы, которые влияют на стоимость квартиры (число комнат, этаж, удалённость от центра, дата размещения объявления). \n",
    "- Сделать выводы. Отличаются ли они от общих выводов по всей базе?\n",
    "___\n",
    "The following tasks:\n",
    "- Select a segment of apartments in the center.\n",
    "- Analyze this territory and study the following parameters: area, price, number of rooms, ceiling height.\n",
    "- Identify factors that affect the cost of an apartment (number of rooms, floor, distance from the center, date of placement of the ad).\n",
    "- To conclude. Do they differ from the general conclusions throughout the database?"
   ]
  },
  {
   "cell_type": "code",
   "execution_count": 49,
   "metadata": {},
   "outputs": [],
   "source": [
    "flats_in_center = center.query('to_center <= 2').copy()"
   ]
  },
  {
   "cell_type": "code",
   "execution_count": 50,
   "metadata": {},
   "outputs": [
    {
     "data": {
      "text/plain": [
       "count    338.000000\n",
       "mean      99.823166\n",
       "std       53.781467\n",
       "min       27.000000\n",
       "25%       65.000000\n",
       "50%       87.900000\n",
       "75%      115.225000\n",
       "max      483.900000\n",
       "Name: total_area, dtype: float64"
      ]
     },
     "execution_count": 50,
     "metadata": {},
     "output_type": "execute_result"
    },
    {
     "data": {
      "image/png": "[encoded data removed]",
      "text/plain": [
       "<Figure size 432x288 with 1 Axes>"
      ]
     },
     "metadata": {
      "needs_background": "light"
     },
     "output_type": "display_data"
    }
   ],
   "source": [
    "flats_in_center['total_area'].hist()\n",
    "flats_in_center['total_area'].describe()"
   ]
  },
  {
   "cell_type": "markdown",
   "metadata": {},
   "source": [
    "Средняя площадь данных квартир равна 99,82 м2, минимальная - 27 м2, максимальная - 483,9. Большинство квартир приходится на диапазон площадей от 65 м2 до 115,225 м2.\n",
    "___\n",
    "The average area of these apartments is 99.82 m2, the minimum is 27 m2, and the maximum is 483.9. Most of the apartments fall within the area range from 65 m2 to 115.225 m2."
   ]
  },
  {
   "cell_type": "code",
   "execution_count": 51,
   "metadata": {},
   "outputs": [
    {
     "data": {
      "text/plain": [
       "count    3.380000e+02\n",
       "mean     1.693236e+07\n",
       "std      2.642115e+07\n",
       "min      2.750000e+06\n",
       "25%      7.412500e+06\n",
       "50%      9.850000e+06\n",
       "75%      1.500000e+07\n",
       "max      3.300000e+08\n",
       "Name: last_price, dtype: float64"
      ]
     },
     "execution_count": 51,
     "metadata": {},
     "output_type": "execute_result"
    },
    {
     "data": {
      "image/png": "[encoded data removed]",
      "text/plain": [
       "<Figure size 432x288 with 1 Axes>"
      ]
     },
     "metadata": {
      "needs_background": "light"
     },
     "output_type": "display_data"
    }
   ],
   "source": [
    "flats_in_center['last_price'].hist()\n",
    "flats_in_center['last_price'].describe()"
   ]
  },
  {
   "cell_type": "markdown",
   "metadata": {},
   "source": [
    "Средняя цена данных квартир равна 16 932 360 руб., минимальная - 2750000 руб., максимальная - 330000000 руб. \n",
    "Большинство квартир приходится на диапазон цен от 7412500 руб. до 15000000 руб.\n",
    "___\n",
    "The average price of these apartments is 16,932,360 rubles, the minimum price is 2,750,000 rubles, and the maximum price is 33,000,000 rubles.\n",
    "Most apartments fall within the price range from 7,412,500 rubles. up to 15000000 rub."
   ]
  },
  {
   "cell_type": "code",
   "execution_count": 52,
   "metadata": {
    "scrolled": true
   },
   "outputs": [
    {
     "data": {
      "text/plain": [
       "count    338.000000\n",
       "mean       3.162722\n",
       "std        1.416363\n",
       "min        1.000000\n",
       "25%        2.000000\n",
       "50%        3.000000\n",
       "75%        4.000000\n",
       "max       11.000000\n",
       "Name: rooms, dtype: float64"
      ]
     },
     "execution_count": 52,
     "metadata": {},
     "output_type": "execute_result"
    },
    {
     "data": {
      "image/png": "[encoded data removed]",
      "text/plain": [
       "<Figure size 432x288 with 1 Axes>"
      ]
     },
     "metadata": {
      "needs_background": "light"
     },
     "output_type": "display_data"
    }
   ],
   "source": [
    "flats_in_center['rooms'].hist()\n",
    "flats_in_center['rooms'].describe()"
   ]
  },
  {
   "cell_type": "markdown",
   "metadata": {},
   "source": [
    "Среднее количество комнат в квартирах равно 3,16, минимальное - 1, максимальное - 11. Большинство квартир приходится на диапазон количества комнат от 2 до 4.\n",
    "___\n",
    "The average number of rooms in apartments is 3.16, the minimum is 1, and the maximum is 11. Most apartments fall within the range of 2 to 4 rooms."
   ]
  },
  {
   "cell_type": "code",
   "execution_count": 53,
   "metadata": {},
   "outputs": [
    {
     "data": {
      "text/plain": [
       "count    338.000000\n",
       "mean       3.220414\n",
       "std        0.381136\n",
       "min        2.500000\n",
       "25%        3.000000\n",
       "50%        3.200000\n",
       "75%        3.500000\n",
       "max        4.900000\n",
       "Name: ceiling_height, dtype: float64"
      ]
     },
     "execution_count": 53,
     "metadata": {},
     "output_type": "execute_result"
    },
    {
     "data": {
      "image/png": "[encoded data removed]",
      "text/plain": [
       "<Figure size 432x288 with 1 Axes>"
      ]
     },
     "metadata": {
      "needs_background": "light"
     },
     "output_type": "display_data"
    }
   ],
   "source": [
    "flats_in_center['ceiling_height'].hist()\n",
    "flats_in_center['ceiling_height'].describe()"
   ]
  },
  {
   "cell_type": "markdown",
   "metadata": {},
   "source": [
    "Средняя высота потолков равна 3,2 м, минимальная - 2,5 м, максимальная - 4,9 м. \n",
    "Большинство квартир приходится на диапазон высот потолков от 3 м до 3,5 м.\n",
    "___\n",
    "The average ceiling height is 3.2 m, the minimum is 2.5 m, and the maximum is 4.9 m.\n",
    "Most of the apartments fall within the range of ceiling heights from 3 m to 3.5 m."
   ]
  },
  {
   "cell_type": "code",
   "execution_count": 54,
   "metadata": {},
   "outputs": [
    {
     "data": {
      "text/plain": [
       "<AxesSubplot:xlabel='rooms'>"
      ]
     },
     "execution_count": 54,
     "metadata": {},
     "output_type": "execute_result"
    },
    {
     "data": {
      "image/png": "[encoded data removed]",
      "text/plain": [
       "<Figure size 864x360 with 1 Axes>"
      ]
     },
     "metadata": {
      "needs_background": "light"
     },
     "output_type": "display_data"
    }
   ],
   "source": [
    "flats_in_center.pivot_table(index='rooms', values='last_price').plot(grid=True, figsize=(12, 5)) "
   ]
  },
  {
   "cell_type": "code",
   "execution_count": 55,
   "metadata": {
    "scrolled": true
   },
   "outputs": [
    {
     "data": {
      "text/plain": [
       "<AxesSubplot:xlabel='floor'>"
      ]
     },
     "execution_count": 55,
     "metadata": {},
     "output_type": "execute_result"
    },
    {
     "data": {
      "image/png": "[encoded data removed]",
      "text/plain": [
       "<Figure size 864x360 with 1 Axes>"
      ]
     },
     "metadata": {
      "needs_background": "light"
     },
     "output_type": "display_data"
    }
   ],
   "source": [
    "flats_in_center.pivot_table(index='floor', values='last_price').plot(grid=True, figsize=(12, 5)) "
   ]
  },
  {
   "cell_type": "markdown",
   "metadata": {},
   "source": [
    "Видна объективная зависимость цены от количества комнат и высоты этажа.\n",
    "___\n",
    "The objective dependence of the price on the number of rooms and the height of the floor is visible."
   ]
  },
  {
   "cell_type": "code",
   "execution_count": 56,
   "metadata": {
    "scrolled": true
   },
   "outputs": [
    {
     "data": {
      "text/plain": [
       "<AxesSubplot:xlabel='to_center'>"
      ]
     },
     "execution_count": 56,
     "metadata": {},
     "output_type": "execute_result"
    },
    {
     "data": {
      "image/png": "[encoded data removed]",
      "text/plain": [
       "<Figure size 864x360 with 1 Axes>"
      ]
     },
     "metadata": {
      "needs_background": "light"
     },
     "output_type": "display_data"
    }
   ],
   "source": [
    "flats_in_center.pivot_table(index='to_center', values='last_price').plot(grid=True, figsize=(12, 5)) "
   ]
  },
  {
   "cell_type": "markdown",
   "metadata": {},
   "source": [
    "Чем дальше квартира от непосредственно центра, тем больше падает цена.\n",
    "___\n",
    "The farther the apartment is from the center itself, the more the price drops."
   ]
  },
  {
   "cell_type": "code",
   "execution_count": 57,
   "metadata": {
    "scrolled": true
   },
   "outputs": [
    {
     "data": {
      "text/plain": [
       "<AxesSubplot:xlabel='week_day_exp'>"
      ]
     },
     "execution_count": 57,
     "metadata": {},
     "output_type": "execute_result"
    },
    {
     "data": {
      "image/png": "[encoded data removed]",
      "text/plain": [
       "<Figure size 864x360 with 1 Axes>"
      ]
     },
     "metadata": {
      "needs_background": "light"
     },
     "output_type": "display_data"
    }
   ],
   "source": [
    "flats_in_center.pivot_table(index='week_day_exp', values='last_price').plot(grid=True, figsize=(12, 5)) "
   ]
  },
  {
   "cell_type": "markdown",
   "metadata": {},
   "source": [
    "Пики снижения/повышения стоимости приходятся практически на те же дни, что и в основной базе - это суббота/пятница, однако в воскресенье происходит стремительный рост.\n",
    "___\n",
    "Peaks of decrease/increase in value fall on almost the same days as in the main database - this is Saturday/Friday, but on Sunday there is a rapid growth."
   ]
  },
  {
   "cell_type": "code",
   "execution_count": 58,
   "metadata": {},
   "outputs": [
    {
     "data": {
      "text/plain": [
       "<AxesSubplot:xlabel='month_exp'>"
      ]
     },
     "execution_count": 58,
     "metadata": {},
     "output_type": "execute_result"
    },
    {
     "data": {
      "image/png": "[encoded data removed]",
      "text/plain": [
       "<Figure size 864x360 with 1 Axes>"
      ]
     },
     "metadata": {
      "needs_background": "light"
     },
     "output_type": "display_data"
    }
   ],
   "source": [
    "flats_in_center.pivot_table(index='month_exp', values='last_price').plot(grid=True, figsize=(12, 5)) "
   ]
  },
  {
   "cell_type": "markdown",
   "metadata": {},
   "source": [
    "Пики снижения/повышения стоимости приходятся практически на те же месяца, за исключением октября, вместо которого в настоящей ситуации значение имеет ноябрь.\n",
    "___\n",
    "The peaks of the decrease/increase in value fall on almost the same months, with the exception of October, instead of which, in this situation, November matters."
   ]
  },
  {
   "cell_type": "code",
   "execution_count": 59,
   "metadata": {},
   "outputs": [
    {
     "data": {
      "text/plain": [
       "<AxesSubplot:xlabel='year_exp'>"
      ]
     },
     "execution_count": 59,
     "metadata": {},
     "output_type": "execute_result"
    },
    {
     "data": {
      "image/png": "[encoded data removed]",
      "text/plain": [
       "<Figure size 864x360 with 1 Axes>"
      ]
     },
     "metadata": {
      "needs_background": "light"
     },
     "output_type": "display_data"
    }
   ],
   "source": [
    "flats_in_center.pivot_table(index='year_exp', values='last_price').plot(grid=True, figsize=(12, 5)) "
   ]
  },
  {
   "cell_type": "markdown",
   "metadata": {},
   "source": [
    "Пики снижения/повышения стоимости приходятся на те же года.\n",
    "___\n",
    "Peaks of decrease/increase in value fall on the same years."
   ]
  },
  {
   "cell_type": "markdown",
   "metadata": {},
   "source": [
    "Данные не отличаются глобальным образом от выборки из общей базы, за исключением ряда моментов, описанных в промежуточных выводах выше.\n",
    "___\n",
    "The data does not differ globally from a sample from a common base, with the exception of a number of points described in the intermediate conclusions above."
   ]
  },
  {
   "cell_type": "markdown",
   "metadata": {},
   "source": [
    "## Общий вывод\n",
    "___\n",
    "## General conclusion"
   ]
  },
  {
   "cell_type": "markdown",
   "metadata": {},
   "source": [
    "Была произведена работа по очистке базы от \"грязных\" данных, высчитаны необходимые параметры. \n",
    "В течение исследования были обнаружены недостатки исходной базы, скорее всего связанные с их некорректным вводом/получением. Однако получилось сократить материал до позволительного размера выборки, значения которой впоследствии позволили произвести правильные расчеты.\n",
    "Были выяснены первые по количествую объявлений локации(города). Также была определена центральная область Санкт-Петербурга, и подсчитаны параметры и зависимости отдельно, которые впоследствии были подвергнуты анализу и сравнению с общей выборкой - отличия незначительные, тенденции в двух выборках схожи, что говорит об общей тенденции развития рынка в указанном временном диапазоне.\n",
    "___\n",
    "Work was carried out to clean the database from \"dirty\" data, the necessary parameters were calculated.\n",
    "During the study, shortcomings of the original database were discovered, most likely related to their incorrect input / receipt. However, it was possible to reduce the material to an allowable sample size, the values ​​of which subsequently made it possible to make correct calculations.\n",
    "The first locations (cities) by the number of ads were found out. The central region of St. Petersburg was also determined, and the parameters and dependencies were calculated separately, which were subsequently analyzed and compared with the general sample - the differences are insignificant, the trends in the two samples are similar, which indicates a general trend in the development of the market in the specified time range."
   ]
  }
 ],
 "metadata": {
  "ExecuteTimeLog": [
   {
    "duration": 1310,
    "start_time": "2022-05-03T10:06:40.848Z"
   },
   {
    "duration": 114,
    "start_time": "2022-05-03T10:07:00.893Z"
   },
   {
    "duration": 4,
    "start_time": "2022-05-03T10:07:06.539Z"
   },
   {
    "duration": 4,
    "start_time": "2022-05-03T10:07:09.273Z"
   },
   {
    "duration": 98,
    "start_time": "2022-05-03T10:07:09.991Z"
   },
   {
    "duration": 14,
    "start_time": "2022-05-03T10:07:25.346Z"
   },
   {
    "duration": 107,
    "start_time": "2022-05-03T10:07:38.650Z"
   },
   {
    "duration": 24,
    "start_time": "2022-05-03T10:07:42.710Z"
   },
   {
    "duration": 22,
    "start_time": "2022-05-03T10:08:05.795Z"
   },
   {
    "duration": 82,
    "start_time": "2022-05-04T07:12:50.836Z"
   },
   {
    "duration": 8,
    "start_time": "2022-05-04T07:14:08.715Z"
   },
   {
    "duration": 8,
    "start_time": "2022-05-04T07:14:26.483Z"
   },
   {
    "duration": 8,
    "start_time": "2022-05-04T07:14:38.667Z"
   },
   {
    "duration": 1193,
    "start_time": "2022-05-04T07:14:45.652Z"
   },
   {
    "duration": 114,
    "start_time": "2022-05-04T07:14:46.848Z"
   },
   {
    "duration": 38,
    "start_time": "2022-05-04T07:14:46.965Z"
   },
   {
    "duration": 30,
    "start_time": "2022-05-04T07:14:47.007Z"
   },
   {
    "duration": 106,
    "start_time": "2022-05-04T07:14:51.234Z"
   },
   {
    "duration": 82,
    "start_time": "2022-05-04T07:15:15.786Z"
   },
   {
    "duration": 295,
    "start_time": "2022-05-04T07:19:19.503Z"
   },
   {
    "duration": 215,
    "start_time": "2022-05-04T07:19:21.153Z"
   },
   {
    "duration": 3,
    "start_time": "2022-05-04T07:21:08.459Z"
   },
   {
    "duration": 137,
    "start_time": "2022-05-04T07:21:09.652Z"
   },
   {
    "duration": 23,
    "start_time": "2022-05-04T07:21:14.444Z"
   },
   {
    "duration": 32,
    "start_time": "2022-05-04T07:21:19.547Z"
   },
   {
    "duration": 10,
    "start_time": "2022-05-04T07:21:22.759Z"
   },
   {
    "duration": 9,
    "start_time": "2022-05-04T07:21:34.674Z"
   },
   {
    "duration": 93,
    "start_time": "2022-05-04T07:21:55.114Z"
   },
   {
    "duration": 9,
    "start_time": "2022-05-04T07:23:19.741Z"
   },
   {
    "duration": 42,
    "start_time": "2022-05-04T07:23:28.675Z"
   },
   {
    "duration": 13,
    "start_time": "2022-05-04T07:23:43.972Z"
   },
   {
    "duration": 16,
    "start_time": "2022-05-04T07:24:03.611Z"
   },
   {
    "duration": 13,
    "start_time": "2022-05-04T07:24:08.443Z"
   },
   {
    "duration": 9,
    "start_time": "2022-05-04T07:29:07.860Z"
   },
   {
    "duration": 9,
    "start_time": "2022-05-04T07:29:16.996Z"
   },
   {
    "duration": 13,
    "start_time": "2022-05-04T07:29:19.699Z"
   },
   {
    "duration": 5,
    "start_time": "2022-05-04T07:32:38.726Z"
   },
   {
    "duration": 22,
    "start_time": "2022-05-04T07:32:43.970Z"
   },
   {
    "duration": 24,
    "start_time": "2022-05-04T07:33:12.542Z"
   },
   {
    "duration": 67,
    "start_time": "2022-05-04T07:33:38.753Z"
   },
   {
    "duration": 1221,
    "start_time": "2022-05-09T10:20:53.234Z"
   },
   {
    "duration": 129,
    "start_time": "2022-05-09T10:20:54.458Z"
   },
   {
    "duration": 26,
    "start_time": "2022-05-09T10:20:54.589Z"
   },
   {
    "duration": 16,
    "start_time": "2022-05-09T10:20:54.618Z"
   },
   {
    "duration": 24,
    "start_time": "2022-05-09T10:20:54.637Z"
   },
   {
    "duration": 110,
    "start_time": "2022-05-09T10:20:54.663Z"
   },
   {
    "duration": 9,
    "start_time": "2022-05-09T10:20:54.775Z"
   },
   {
    "duration": 79,
    "start_time": "2022-05-09T10:20:54.786Z"
   },
   {
    "duration": 19,
    "start_time": "2022-05-09T10:21:36.993Z"
   },
   {
    "duration": 4,
    "start_time": "2022-05-09T10:22:13.523Z"
   },
   {
    "duration": 4,
    "start_time": "2022-05-09T10:22:15.846Z"
   },
   {
    "duration": 7,
    "start_time": "2022-05-09T10:22:16.389Z"
   },
   {
    "duration": 9,
    "start_time": "2022-05-09T10:22:16.851Z"
   },
   {
    "duration": 10,
    "start_time": "2022-05-09T10:22:17.223Z"
   },
   {
    "duration": 9,
    "start_time": "2022-05-09T10:22:17.590Z"
   },
   {
    "duration": 8,
    "start_time": "2022-05-09T10:22:17.969Z"
   },
   {
    "duration": 5,
    "start_time": "2022-05-09T10:23:35.756Z"
   },
   {
    "duration": 57,
    "start_time": "2022-05-09T10:23:42.077Z"
   },
   {
    "duration": 80,
    "start_time": "2022-05-09T10:24:12.750Z"
   },
   {
    "duration": 5,
    "start_time": "2022-05-09T10:24:48.036Z"
   },
   {
    "duration": 9,
    "start_time": "2022-05-09T10:24:55.872Z"
   },
   {
    "duration": 6,
    "start_time": "2022-05-09T10:25:02.606Z"
   },
   {
    "duration": 6,
    "start_time": "2022-05-09T10:25:08.547Z"
   },
   {
    "duration": 40,
    "start_time": "2022-05-09T10:25:15.871Z"
   },
   {
    "duration": 144,
    "start_time": "2022-05-09T10:25:42.472Z"
   },
   {
    "duration": 177,
    "start_time": "2022-05-09T10:26:03.437Z"
   },
   {
    "duration": 382,
    "start_time": "2022-05-09T10:26:35.674Z"
   },
   {
    "duration": 280,
    "start_time": "2022-05-09T10:26:48.020Z"
   },
   {
    "duration": 128,
    "start_time": "2022-05-09T10:26:58.238Z"
   },
   {
    "duration": 136,
    "start_time": "2022-05-09T10:30:33.512Z"
   },
   {
    "duration": 145,
    "start_time": "2022-05-09T10:32:21.027Z"
   },
   {
    "duration": 230,
    "start_time": "2022-05-09T10:37:21.513Z"
   },
   {
    "duration": 228,
    "start_time": "2022-05-09T10:37:30.424Z"
   },
   {
    "duration": 209,
    "start_time": "2022-05-09T10:37:42.504Z"
   },
   {
    "duration": 221,
    "start_time": "2022-05-09T10:37:45.800Z"
   },
   {
    "duration": 314,
    "start_time": "2022-05-09T10:37:53.493Z"
   },
   {
    "duration": 149,
    "start_time": "2022-05-09T10:38:04.049Z"
   },
   {
    "duration": 132,
    "start_time": "2022-05-09T10:38:39.756Z"
   },
   {
    "duration": 131,
    "start_time": "2022-05-09T10:38:44.233Z"
   },
   {
    "duration": 120,
    "start_time": "2022-05-09T10:38:54.989Z"
   },
   {
    "duration": 123,
    "start_time": "2022-05-09T10:39:03.359Z"
   },
   {
    "duration": 129,
    "start_time": "2022-05-09T10:39:30.444Z"
   },
   {
    "duration": 183,
    "start_time": "2022-05-09T10:39:39.141Z"
   },
   {
    "duration": 1750,
    "start_time": "2022-05-09T10:39:44.652Z"
   },
   {
    "duration": 259,
    "start_time": "2022-05-09T10:39:49.513Z"
   },
   {
    "duration": 356,
    "start_time": "2022-05-09T10:39:56.305Z"
   },
   {
    "duration": 77,
    "start_time": "2022-05-09T10:40:36.980Z"
   },
   {
    "duration": 501,
    "start_time": "2022-05-09T10:40:42.294Z"
   },
   {
    "duration": 512,
    "start_time": "2022-05-09T10:42:25.491Z"
   },
   {
    "duration": 483,
    "start_time": "2022-05-09T10:42:34.907Z"
   },
   {
    "duration": 667,
    "start_time": "2022-05-09T10:42:38.905Z"
   },
   {
    "duration": 428,
    "start_time": "2022-05-09T10:42:42.127Z"
   },
   {
    "duration": 413,
    "start_time": "2022-05-09T10:42:47.319Z"
   },
   {
    "duration": 707,
    "start_time": "2022-05-09T10:43:01.464Z"
   },
   {
    "duration": 133,
    "start_time": "2022-05-09T10:43:15.979Z"
   },
   {
    "duration": 697,
    "start_time": "2022-05-09T10:43:20.567Z"
   },
   {
    "duration": 835,
    "start_time": "2022-05-09T10:43:25.549Z"
   },
   {
    "duration": 571,
    "start_time": "2022-05-09T10:44:08.475Z"
   },
   {
    "duration": 501,
    "start_time": "2022-05-09T10:44:16.482Z"
   },
   {
    "duration": 511,
    "start_time": "2022-05-09T10:44:27.163Z"
   },
   {
    "duration": 508,
    "start_time": "2022-05-09T10:44:33.587Z"
   },
   {
    "duration": 9,
    "start_time": "2022-05-09T10:45:57.993Z"
   },
   {
    "duration": 685,
    "start_time": "2022-05-09T10:46:45.204Z"
   },
   {
    "duration": 553,
    "start_time": "2022-05-09T10:46:57.209Z"
   },
   {
    "duration": 574,
    "start_time": "2022-05-09T10:47:06.655Z"
   },
   {
    "duration": 845,
    "start_time": "2022-05-09T10:47:18.344Z"
   },
   {
    "duration": 903,
    "start_time": "2022-05-09T10:47:30.538Z"
   },
   {
    "duration": 130,
    "start_time": "2022-05-09T10:51:35.784Z"
   },
   {
    "duration": 725,
    "start_time": "2022-05-09T11:07:29.590Z"
   },
   {
    "duration": 86,
    "start_time": "2022-05-09T11:07:30.318Z"
   },
   {
    "duration": 18,
    "start_time": "2022-05-09T11:07:30.406Z"
   },
   {
    "duration": 43,
    "start_time": "2022-05-09T11:07:30.427Z"
   },
   {
    "duration": 36,
    "start_time": "2022-05-09T11:07:30.471Z"
   },
   {
    "duration": 80,
    "start_time": "2022-05-09T11:07:30.509Z"
   },
   {
    "duration": 10,
    "start_time": "2022-05-09T11:07:30.592Z"
   },
   {
    "duration": 76,
    "start_time": "2022-05-09T11:07:30.603Z"
   },
   {
    "duration": 17,
    "start_time": "2022-05-09T11:07:30.680Z"
   },
   {
    "duration": 4,
    "start_time": "2022-05-09T11:07:30.701Z"
   },
   {
    "duration": 48,
    "start_time": "2022-05-09T11:07:30.707Z"
   },
   {
    "duration": 24,
    "start_time": "2022-05-09T11:07:30.757Z"
   },
   {
    "duration": 21,
    "start_time": "2022-05-09T11:07:30.783Z"
   },
   {
    "duration": 44,
    "start_time": "2022-05-09T11:07:30.806Z"
   },
   {
    "duration": 52,
    "start_time": "2022-05-09T11:07:30.852Z"
   },
   {
    "duration": 49,
    "start_time": "2022-05-09T11:07:30.906Z"
   },
   {
    "duration": 99,
    "start_time": "2022-05-09T11:07:30.957Z"
   },
   {
    "duration": 82,
    "start_time": "2022-05-09T11:07:31.058Z"
   },
   {
    "duration": 15,
    "start_time": "2022-05-09T11:07:31.142Z"
   },
   {
    "duration": 42,
    "start_time": "2022-05-09T11:07:31.159Z"
   },
   {
    "duration": 36,
    "start_time": "2022-05-09T11:07:31.203Z"
   },
   {
    "duration": 13,
    "start_time": "2022-05-09T11:07:31.241Z"
   },
   {
    "duration": 55,
    "start_time": "2022-05-09T11:07:31.255Z"
   },
   {
    "duration": 146,
    "start_time": "2022-05-09T11:07:31.312Z"
   },
   {
    "duration": 496,
    "start_time": "2022-05-09T11:07:31.460Z"
   },
   {
    "duration": 9,
    "start_time": "2022-05-09T11:07:31.957Z"
   },
   {
    "duration": 680,
    "start_time": "2022-05-09T11:07:31.968Z"
   },
   {
    "duration": 722,
    "start_time": "2022-05-09T11:07:32.654Z"
   },
   {
    "duration": 576,
    "start_time": "2022-05-09T11:07:33.378Z"
   },
   {
    "duration": 547,
    "start_time": "2022-05-09T11:07:33.956Z"
   },
   {
    "duration": 1021,
    "start_time": "2022-05-09T11:08:16.397Z"
   },
   {
    "duration": 681,
    "start_time": "2022-05-09T11:08:58.094Z"
   },
   {
    "duration": 87,
    "start_time": "2022-05-09T11:08:58.778Z"
   },
   {
    "duration": 27,
    "start_time": "2022-05-09T11:08:58.867Z"
   },
   {
    "duration": 28,
    "start_time": "2022-05-09T11:08:58.896Z"
   },
   {
    "duration": 38,
    "start_time": "2022-05-09T11:08:58.927Z"
   },
   {
    "duration": 115,
    "start_time": "2022-05-09T11:08:58.967Z"
   },
   {
    "duration": 11,
    "start_time": "2022-05-09T11:08:59.083Z"
   },
   {
    "duration": 83,
    "start_time": "2022-05-09T11:08:59.095Z"
   },
   {
    "duration": 23,
    "start_time": "2022-05-09T11:08:59.180Z"
   },
   {
    "duration": 4,
    "start_time": "2022-05-09T11:08:59.206Z"
   },
   {
    "duration": 46,
    "start_time": "2022-05-09T11:08:59.212Z"
   },
   {
    "duration": 12,
    "start_time": "2022-05-09T11:08:59.261Z"
   },
   {
    "duration": 13,
    "start_time": "2022-05-09T11:08:59.275Z"
   },
   {
    "duration": 10,
    "start_time": "2022-05-09T11:08:59.291Z"
   },
   {
    "duration": 11,
    "start_time": "2022-05-09T11:08:59.304Z"
   },
   {
    "duration": 6,
    "start_time": "2022-05-09T11:08:59.317Z"
   },
   {
    "duration": 88,
    "start_time": "2022-05-09T11:08:59.325Z"
   },
   {
    "duration": 101,
    "start_time": "2022-05-09T11:08:59.416Z"
   },
   {
    "duration": 5,
    "start_time": "2022-05-09T11:08:59.520Z"
   },
   {
    "duration": 30,
    "start_time": "2022-05-09T11:08:59.527Z"
   },
   {
    "duration": 9,
    "start_time": "2022-05-09T11:08:59.560Z"
   },
   {
    "duration": 11,
    "start_time": "2022-05-09T11:08:59.571Z"
   },
   {
    "duration": 72,
    "start_time": "2022-05-09T11:08:59.584Z"
   },
   {
    "duration": 234,
    "start_time": "2022-05-09T11:08:59.659Z"
   },
   {
    "duration": 816,
    "start_time": "2022-05-09T11:08:59.895Z"
   },
   {
    "duration": 11,
    "start_time": "2022-05-09T11:09:00.714Z"
   },
   {
    "duration": 308,
    "start_time": "2022-05-09T11:09:00.727Z"
   },
   {
    "duration": 420,
    "start_time": "2022-05-09T11:09:01.037Z"
   },
   {
    "duration": 157,
    "start_time": "2022-05-09T11:09:01.459Z"
   },
   {
    "duration": 147,
    "start_time": "2022-05-09T11:09:01.618Z"
   },
   {
    "duration": 153,
    "start_time": "2022-05-09T11:13:19.654Z"
   },
   {
    "duration": 82,
    "start_time": "2022-05-09T11:14:10.760Z"
   },
   {
    "duration": 11,
    "start_time": "2022-05-09T11:14:34.082Z"
   },
   {
    "duration": 9,
    "start_time": "2022-05-09T11:19:30.844Z"
   },
   {
    "duration": 7,
    "start_time": "2022-05-09T11:19:35.420Z"
   },
   {
    "duration": 7,
    "start_time": "2022-05-09T11:19:48.848Z"
   },
   {
    "duration": 21,
    "start_time": "2022-05-09T11:20:28.596Z"
   },
   {
    "duration": 12,
    "start_time": "2022-05-09T11:20:44.515Z"
   },
   {
    "duration": 14,
    "start_time": "2022-05-09T11:21:20.583Z"
   },
   {
    "duration": 11,
    "start_time": "2022-05-09T11:21:46.898Z"
   },
   {
    "duration": 155,
    "start_time": "2022-05-09T11:30:29.888Z"
   },
   {
    "duration": 134,
    "start_time": "2022-05-09T11:30:37.282Z"
   },
   {
    "duration": 11,
    "start_time": "2022-05-09T11:30:43.425Z"
   },
   {
    "duration": 190,
    "start_time": "2022-05-09T11:30:47.704Z"
   },
   {
    "duration": 7,
    "start_time": "2022-05-09T11:32:02.071Z"
   },
   {
    "duration": 10,
    "start_time": "2022-05-09T11:32:05.347Z"
   },
   {
    "duration": 165,
    "start_time": "2022-05-09T11:32:31.609Z"
   },
   {
    "duration": 9,
    "start_time": "2022-05-09T11:32:49.788Z"
   },
   {
    "duration": 148,
    "start_time": "2022-05-09T11:33:21.406Z"
   },
   {
    "duration": 27,
    "start_time": "2022-05-09T11:37:34.247Z"
   },
   {
    "duration": 136,
    "start_time": "2022-05-09T11:39:22.355Z"
   },
   {
    "duration": 127,
    "start_time": "2022-05-09T11:39:29.789Z"
   },
   {
    "duration": 142,
    "start_time": "2022-05-09T11:39:37.536Z"
   },
   {
    "duration": 178,
    "start_time": "2022-05-09T11:39:59.585Z"
   },
   {
    "duration": 185,
    "start_time": "2022-05-09T11:40:15.393Z"
   },
   {
    "duration": 29,
    "start_time": "2022-05-09T11:41:03.898Z"
   },
   {
    "duration": 329,
    "start_time": "2022-05-09T11:41:15.894Z"
   },
   {
    "duration": 31,
    "start_time": "2022-05-09T11:43:38.720Z"
   },
   {
    "duration": 153,
    "start_time": "2022-05-09T11:44:21.115Z"
   },
   {
    "duration": 171,
    "start_time": "2022-05-09T11:45:57.849Z"
   },
   {
    "duration": 252,
    "start_time": "2022-05-09T11:48:17.849Z"
   },
   {
    "duration": 1100,
    "start_time": "2022-05-09T11:50:16.964Z"
   },
   {
    "duration": 145,
    "start_time": "2022-05-09T11:50:43.622Z"
   },
   {
    "duration": 4,
    "start_time": "2022-05-09T11:51:50.896Z"
   },
   {
    "duration": 159,
    "start_time": "2022-05-09T11:52:01.386Z"
   },
   {
    "duration": 5,
    "start_time": "2022-05-09T12:07:44.831Z"
   },
   {
    "duration": 165,
    "start_time": "2022-05-09T12:07:46.765Z"
   },
   {
    "duration": 6,
    "start_time": "2022-05-09T12:09:51.460Z"
   },
   {
    "duration": 165,
    "start_time": "2022-05-09T12:10:11.300Z"
   },
   {
    "duration": 6,
    "start_time": "2022-05-09T12:10:52.801Z"
   },
   {
    "duration": 152,
    "start_time": "2022-05-09T12:11:06.301Z"
   },
   {
    "duration": 8,
    "start_time": "2022-05-09T12:17:15.396Z"
   },
   {
    "duration": 11,
    "start_time": "2022-05-09T12:17:36.669Z"
   },
   {
    "duration": 10,
    "start_time": "2022-05-09T12:17:41.417Z"
   },
   {
    "duration": 11,
    "start_time": "2022-05-09T12:18:04.881Z"
   },
   {
    "duration": 45,
    "start_time": "2022-05-09T12:19:16.360Z"
   },
   {
    "duration": 35,
    "start_time": "2022-05-09T12:19:26.667Z"
   },
   {
    "duration": 9,
    "start_time": "2022-05-09T12:19:58.442Z"
   },
   {
    "duration": 35,
    "start_time": "2022-05-09T12:20:02.516Z"
   },
   {
    "duration": 13,
    "start_time": "2022-05-09T12:20:50.179Z"
   },
   {
    "duration": 6,
    "start_time": "2022-05-09T12:21:03.456Z"
   },
   {
    "duration": 6,
    "start_time": "2022-05-09T12:21:09.627Z"
   },
   {
    "duration": 8,
    "start_time": "2022-05-09T12:21:26.501Z"
   },
   {
    "duration": 12,
    "start_time": "2022-05-09T12:21:29.324Z"
   },
   {
    "duration": 6,
    "start_time": "2022-05-09T12:21:31.567Z"
   },
   {
    "duration": 27,
    "start_time": "2022-05-09T12:21:44.841Z"
   },
   {
    "duration": 27,
    "start_time": "2022-05-09T12:25:50.567Z"
   },
   {
    "duration": 6,
    "start_time": "2022-05-09T12:26:09.439Z"
   },
   {
    "duration": 7,
    "start_time": "2022-05-09T12:26:20.753Z"
   },
   {
    "duration": 5,
    "start_time": "2022-05-09T12:26:44.706Z"
   },
   {
    "duration": 187,
    "start_time": "2022-05-09T12:27:10.176Z"
   },
   {
    "duration": 92,
    "start_time": "2022-05-09T12:27:17.404Z"
   },
   {
    "duration": 6,
    "start_time": "2022-05-09T12:27:23.232Z"
   },
   {
    "duration": 21,
    "start_time": "2022-05-09T12:27:38.211Z"
   },
   {
    "duration": 190,
    "start_time": "2022-05-09T12:27:42.320Z"
   },
   {
    "duration": 19,
    "start_time": "2022-05-09T12:27:49.559Z"
   },
   {
    "duration": 10,
    "start_time": "2022-05-09T12:27:59.946Z"
   },
   {
    "duration": 38,
    "start_time": "2022-05-09T12:28:03.448Z"
   },
   {
    "duration": 11,
    "start_time": "2022-05-09T12:29:42.292Z"
   },
   {
    "duration": 191,
    "start_time": "2022-05-09T12:30:03.137Z"
   },
   {
    "duration": 145,
    "start_time": "2022-05-09T12:30:06.448Z"
   },
   {
    "duration": 12,
    "start_time": "2022-05-09T12:30:12.401Z"
   },
   {
    "duration": 11,
    "start_time": "2022-05-09T12:41:41.361Z"
   },
   {
    "duration": 7,
    "start_time": "2022-05-09T12:41:47.932Z"
   },
   {
    "duration": 8,
    "start_time": "2022-05-09T12:42:36.434Z"
   },
   {
    "duration": 10,
    "start_time": "2022-05-09T12:42:40.766Z"
   },
   {
    "duration": 5,
    "start_time": "2022-05-09T12:43:06.255Z"
   },
   {
    "duration": 8,
    "start_time": "2022-05-09T12:43:12.651Z"
   },
   {
    "duration": 8,
    "start_time": "2022-05-09T12:47:01.435Z"
   },
   {
    "duration": 11,
    "start_time": "2022-05-09T12:48:39.240Z"
   },
   {
    "duration": 8,
    "start_time": "2022-05-09T12:48:46.649Z"
   },
   {
    "duration": 7,
    "start_time": "2022-05-09T12:48:50.295Z"
   },
   {
    "duration": 5,
    "start_time": "2022-05-09T12:49:22.415Z"
   },
   {
    "duration": 7,
    "start_time": "2022-05-09T12:50:52.064Z"
   },
   {
    "duration": 84,
    "start_time": "2022-05-09T12:51:24.923Z"
   },
   {
    "duration": 152,
    "start_time": "2022-05-09T12:54:29.507Z"
   },
   {
    "duration": 145,
    "start_time": "2022-05-09T12:54:36.547Z"
   },
   {
    "duration": 138,
    "start_time": "2022-05-09T12:54:41.356Z"
   },
   {
    "duration": 19,
    "start_time": "2022-05-09T12:54:47.071Z"
   },
   {
    "duration": 10,
    "start_time": "2022-05-09T12:54:58.516Z"
   },
   {
    "duration": 11,
    "start_time": "2022-05-09T12:55:41.024Z"
   },
   {
    "duration": 7,
    "start_time": "2022-05-09T12:56:08.248Z"
   },
   {
    "duration": 30,
    "start_time": "2022-05-09T12:56:22.480Z"
   },
   {
    "duration": 7,
    "start_time": "2022-05-09T12:56:36.940Z"
   },
   {
    "duration": 9,
    "start_time": "2022-05-09T12:56:38.973Z"
   },
   {
    "duration": 7,
    "start_time": "2022-05-09T12:56:44.597Z"
   },
   {
    "duration": 10,
    "start_time": "2022-05-09T12:56:58.703Z"
   },
   {
    "duration": 10,
    "start_time": "2022-05-09T12:57:08.495Z"
   },
   {
    "duration": 13,
    "start_time": "2022-05-09T12:57:34.265Z"
   },
   {
    "duration": 11,
    "start_time": "2022-05-09T12:57:37.674Z"
   },
   {
    "duration": 12,
    "start_time": "2022-05-09T12:57:46.907Z"
   },
   {
    "duration": 12,
    "start_time": "2022-05-09T12:57:49.193Z"
   },
   {
    "duration": 11,
    "start_time": "2022-05-09T12:58:03.626Z"
   },
   {
    "duration": 15,
    "start_time": "2022-05-09T12:59:25.851Z"
   },
   {
    "duration": 13,
    "start_time": "2022-05-09T12:59:27.911Z"
   },
   {
    "duration": 19,
    "start_time": "2022-05-09T13:01:13.919Z"
   },
   {
    "duration": 15,
    "start_time": "2022-05-09T13:01:32.834Z"
   },
   {
    "duration": 7,
    "start_time": "2022-05-09T13:01:47.388Z"
   },
   {
    "duration": 10,
    "start_time": "2022-05-09T13:02:06.519Z"
   },
   {
    "duration": 12,
    "start_time": "2022-05-09T13:03:07.748Z"
   },
   {
    "duration": 7,
    "start_time": "2022-05-09T13:03:12.320Z"
   },
   {
    "duration": 12,
    "start_time": "2022-05-09T13:04:43.873Z"
   },
   {
    "duration": 9,
    "start_time": "2022-05-09T13:04:55.564Z"
   },
   {
    "duration": 41,
    "start_time": "2022-05-09T13:05:04.359Z"
   },
   {
    "duration": 10,
    "start_time": "2022-05-09T13:05:15.173Z"
   },
   {
    "duration": 3,
    "start_time": "2022-05-09T13:07:50.472Z"
   },
   {
    "duration": 11,
    "start_time": "2022-05-09T13:07:59.379Z"
   },
   {
    "duration": 12,
    "start_time": "2022-05-09T13:08:05.650Z"
   },
   {
    "duration": 11,
    "start_time": "2022-05-09T13:08:20.468Z"
   },
   {
    "duration": 10,
    "start_time": "2022-05-09T13:08:26.387Z"
   },
   {
    "duration": 8,
    "start_time": "2022-05-09T13:09:02.801Z"
   },
   {
    "duration": 9,
    "start_time": "2022-05-09T13:09:12.244Z"
   },
   {
    "duration": 11,
    "start_time": "2022-05-09T13:09:14.878Z"
   },
   {
    "duration": 12,
    "start_time": "2022-05-09T13:09:32.307Z"
   },
   {
    "duration": 10,
    "start_time": "2022-05-09T13:09:49.357Z"
   },
   {
    "duration": 7,
    "start_time": "2022-05-09T13:10:08.615Z"
   },
   {
    "duration": 16,
    "start_time": "2022-05-09T13:10:19.313Z"
   },
   {
    "duration": 2619,
    "start_time": "2022-05-09T13:10:37.629Z"
   },
   {
    "duration": 22,
    "start_time": "2022-05-09T13:11:10.243Z"
   },
   {
    "duration": 11,
    "start_time": "2022-05-09T13:11:21.656Z"
   },
   {
    "duration": 8,
    "start_time": "2022-05-09T13:11:24.345Z"
   },
   {
    "duration": 7,
    "start_time": "2022-05-09T13:11:29.369Z"
   },
   {
    "duration": 143,
    "start_time": "2022-05-09T13:11:38.124Z"
   },
   {
    "duration": 8,
    "start_time": "2022-05-09T13:11:40.119Z"
   },
   {
    "duration": 10,
    "start_time": "2022-05-09T13:14:12.020Z"
   },
   {
    "duration": 8,
    "start_time": "2022-05-09T13:14:34.462Z"
   },
   {
    "duration": 5,
    "start_time": "2022-05-09T13:14:43.876Z"
   },
   {
    "duration": 8,
    "start_time": "2022-05-09T13:14:46.839Z"
   },
   {
    "duration": 5,
    "start_time": "2022-05-09T13:14:49.642Z"
   },
   {
    "duration": 10,
    "start_time": "2022-05-09T13:14:51.941Z"
   },
   {
    "duration": 9,
    "start_time": "2022-05-09T13:17:30.665Z"
   },
   {
    "duration": 9,
    "start_time": "2022-05-09T13:17:55.176Z"
   },
   {
    "duration": 9,
    "start_time": "2022-05-09T13:17:58.079Z"
   },
   {
    "duration": 9,
    "start_time": "2022-05-09T13:18:00.118Z"
   },
   {
    "duration": 11,
    "start_time": "2022-05-09T13:19:44.592Z"
   },
   {
    "duration": 15,
    "start_time": "2022-05-09T13:19:55.754Z"
   },
   {
    "duration": 15,
    "start_time": "2022-05-09T13:19:58.269Z"
   },
   {
    "duration": 14,
    "start_time": "2022-05-09T13:20:02.048Z"
   },
   {
    "duration": 4,
    "start_time": "2022-05-09T13:20:32.630Z"
   },
   {
    "duration": 29,
    "start_time": "2022-05-09T13:21:26.704Z"
   },
   {
    "duration": 39,
    "start_time": "2022-05-09T13:21:36.545Z"
   },
   {
    "duration": 36,
    "start_time": "2022-05-09T13:21:55.153Z"
   },
   {
    "duration": 36,
    "start_time": "2022-05-09T13:22:06.227Z"
   },
   {
    "duration": 45,
    "start_time": "2022-05-09T13:22:37.243Z"
   },
   {
    "duration": 39,
    "start_time": "2022-05-09T13:22:48.139Z"
   },
   {
    "duration": 43,
    "start_time": "2022-05-09T13:23:04.049Z"
   },
   {
    "duration": 9,
    "start_time": "2022-05-09T13:24:32.201Z"
   },
   {
    "duration": 10,
    "start_time": "2022-05-09T13:25:05.084Z"
   },
   {
    "duration": 15,
    "start_time": "2022-05-09T13:25:11.896Z"
   },
   {
    "duration": 33,
    "start_time": "2022-05-09T13:25:26.395Z"
   },
   {
    "duration": 44,
    "start_time": "2022-05-09T13:25:32.533Z"
   },
   {
    "duration": 4,
    "start_time": "2022-05-09T13:27:32.233Z"
   },
   {
    "duration": 9,
    "start_time": "2022-05-09T13:27:36.706Z"
   },
   {
    "duration": 4,
    "start_time": "2022-05-09T13:29:03.756Z"
   },
   {
    "duration": 7,
    "start_time": "2022-05-09T13:29:19.947Z"
   },
   {
    "duration": 7,
    "start_time": "2022-05-09T13:29:31.491Z"
   },
   {
    "duration": 7,
    "start_time": "2022-05-09T13:29:40.331Z"
   },
   {
    "duration": 25,
    "start_time": "2022-05-09T13:35:29.549Z"
   },
   {
    "duration": 18,
    "start_time": "2022-05-09T13:35:47.353Z"
   },
   {
    "duration": 10,
    "start_time": "2022-05-09T13:36:01.109Z"
   },
   {
    "duration": 2314,
    "start_time": "2022-05-09T13:36:03.712Z"
   },
   {
    "duration": 2580,
    "start_time": "2022-05-09T13:37:03.758Z"
   },
   {
    "duration": 10,
    "start_time": "2022-05-09T13:37:07.129Z"
   },
   {
    "duration": 23,
    "start_time": "2022-05-09T13:38:05.921Z"
   },
   {
    "duration": 14,
    "start_time": "2022-05-09T13:38:53.866Z"
   },
   {
    "duration": 17,
    "start_time": "2022-05-09T13:39:06.589Z"
   },
   {
    "duration": 138,
    "start_time": "2022-05-09T13:39:47.832Z"
   },
   {
    "duration": 136,
    "start_time": "2022-05-09T13:40:02.385Z"
   },
   {
    "duration": 664,
    "start_time": "2022-05-09T13:40:06.811Z"
   },
   {
    "duration": 132,
    "start_time": "2022-05-09T13:40:14.224Z"
   },
   {
    "duration": 138,
    "start_time": "2022-05-09T13:40:20.821Z"
   },
   {
    "duration": 279,
    "start_time": "2022-05-09T13:41:08.512Z"
   },
   {
    "duration": 209,
    "start_time": "2022-05-09T13:41:44.587Z"
   },
   {
    "duration": 8,
    "start_time": "2022-05-09T13:46:15.500Z"
   },
   {
    "duration": 194,
    "start_time": "2022-05-09T13:46:49.673Z"
   },
   {
    "duration": 196,
    "start_time": "2022-05-09T13:47:06.352Z"
   },
   {
    "duration": 144,
    "start_time": "2022-05-09T13:47:32.776Z"
   },
   {
    "duration": 133,
    "start_time": "2022-05-09T13:48:09.495Z"
   },
   {
    "duration": 135,
    "start_time": "2022-05-09T13:48:47.435Z"
   },
   {
    "duration": 148,
    "start_time": "2022-05-09T13:48:57.228Z"
   },
   {
    "duration": 335,
    "start_time": "2022-05-09T13:49:19.934Z"
   },
   {
    "duration": 130,
    "start_time": "2022-05-09T13:49:32.515Z"
   },
   {
    "duration": 169,
    "start_time": "2022-05-09T14:04:47.333Z"
   },
   {
    "duration": 181,
    "start_time": "2022-05-09T14:04:49.277Z"
   },
   {
    "duration": 164,
    "start_time": "2022-05-09T14:04:51.594Z"
   },
   {
    "duration": 256,
    "start_time": "2022-05-09T14:04:53.790Z"
   },
   {
    "duration": 168,
    "start_time": "2022-05-09T14:06:17.659Z"
   },
   {
    "duration": 143,
    "start_time": "2022-05-09T14:06:41.108Z"
   },
   {
    "duration": 170,
    "start_time": "2022-05-09T14:07:53.890Z"
   },
   {
    "duration": 165,
    "start_time": "2022-05-09T14:08:06.213Z"
   },
   {
    "duration": 162,
    "start_time": "2022-05-09T14:08:14.741Z"
   },
   {
    "duration": 144,
    "start_time": "2022-05-09T14:09:04.305Z"
   }
  ],
  "kernelspec": {
   "display_name": "Python 3 (ipykernel)",
   "language": "python",
   "name": "python3"
  },
  "language_info": {
   "codemirror_mode": {
    "name": "ipython",
    "version": 3
   },
   "file_extension": ".py",
   "mimetype": "text/x-python",
   "name": "python",
   "nbconvert_exporter": "python",
   "pygments_lexer": "ipython3",
   "version": "3.9.7"
  },
  "toc": {
   "base_numbering": 1,
   "nav_menu": {},
   "number_sections": true,
   "sideBar": true,
   "skip_h1_title": true,
   "title_cell": "Содержание",
   "title_sidebar": "Contents",
   "toc_cell": true,
   "toc_position": {
    "height": "calc(100% - 180px)",
    "left": "10px",
    "top": "150px",
    "width": "165px"
   },
   "toc_section_display": true,
   "toc_window_display": false
  }
 },
 "nbformat": 4,
 "nbformat_minor": 4
}
