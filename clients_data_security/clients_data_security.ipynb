{
 "cells": [
  {
   "cell_type": "markdown",
   "metadata": {
    "tags": []
   },
   "source": [
    "# Защита персональных данных клиентов\n",
    "___\n",
    "# Protection of personal data of customers"
   ]
  },
  {
   "cell_type": "markdown",
   "metadata": {},
   "source": [
    "Необходимо защитить персональные данные клиентов страховой компании. Нужно создать определенный метод преобразования, который не позволит ззлоумышленникам восстановить персональную информацию.\n",
    "\n",
    "Защиту данных требуется произвести таким образом, чтобы после качество машинного обучения не ухудшалось.\n",
    "___\n",
    "It is necessary to protect the personal data of the clients of the insurance company. You need to create a specific conversion method that will not allow attackers to recover personal information.\n",
    "\n",
    "Data protection needs to be done in such a way that the quality of machine learning does not deteriorate after."
   ]
  },
  {
   "cell_type": "markdown",
   "metadata": {},
   "source": [
    "## Загрузка данных\n",
    "___\n",
    "## Loading data"
   ]
  },
  {
   "cell_type": "code",
   "execution_count": 1,
   "metadata": {},
   "outputs": [],
   "source": [
    "import pandas as pd\n",
    "import seaborn as sns\n",
    "import matplotlib.pyplot as plt\n",
    "import numpy as np\n",
    "from sklearn.metrics import r2_score"
   ]
  },
  {
   "cell_type": "code",
   "execution_count": 2,
   "metadata": {},
   "outputs": [],
   "source": [
    "data = pd.read_csv('insurance.csv')"
   ]
  },
  {
   "cell_type": "code",
   "execution_count": 3,
   "metadata": {},
   "outputs": [
    {
     "data": {
      "text/html": [
       "<div>\n",
       "<style scoped>\n",
       "    .dataframe tbody tr th:only-of-type {\n",
       "        vertical-align: middle;\n",
       "    }\n",
       "\n",
       "    .dataframe tbody tr th {\n",
       "        vertical-align: top;\n",
       "    }\n",
       "\n",
       "    .dataframe thead th {\n",
       "        text-align: right;\n",
       "    }\n",
       "</style>\n",
       "<table border=\"1\" class=\"dataframe\">\n",
       "  <thead>\n",
       "    <tr style=\"text-align: right;\">\n",
       "      <th></th>\n",
       "      <th>Пол</th>\n",
       "      <th>Возраст</th>\n",
       "      <th>Зарплата</th>\n",
       "      <th>Члены семьи</th>\n",
       "      <th>Страховые выплаты</th>\n",
       "    </tr>\n",
       "  </thead>\n",
       "  <tbody>\n",
       "    <tr>\n",
       "      <th>0</th>\n",
       "      <td>1</td>\n",
       "      <td>41.0</td>\n",
       "      <td>49600.0</td>\n",
       "      <td>1</td>\n",
       "      <td>0</td>\n",
       "    </tr>\n",
       "    <tr>\n",
       "      <th>1</th>\n",
       "      <td>0</td>\n",
       "      <td>46.0</td>\n",
       "      <td>38000.0</td>\n",
       "      <td>1</td>\n",
       "      <td>1</td>\n",
       "    </tr>\n",
       "    <tr>\n",
       "      <th>2</th>\n",
       "      <td>0</td>\n",
       "      <td>29.0</td>\n",
       "      <td>21000.0</td>\n",
       "      <td>0</td>\n",
       "      <td>0</td>\n",
       "    </tr>\n",
       "    <tr>\n",
       "      <th>3</th>\n",
       "      <td>0</td>\n",
       "      <td>21.0</td>\n",
       "      <td>41700.0</td>\n",
       "      <td>2</td>\n",
       "      <td>0</td>\n",
       "    </tr>\n",
       "    <tr>\n",
       "      <th>4</th>\n",
       "      <td>1</td>\n",
       "      <td>28.0</td>\n",
       "      <td>26100.0</td>\n",
       "      <td>0</td>\n",
       "      <td>0</td>\n",
       "    </tr>\n",
       "  </tbody>\n",
       "</table>\n",
       "</div>"
      ],
      "text/plain": [
       "   Пол  Возраст  Зарплата  Члены семьи  Страховые выплаты\n",
       "0    1     41.0   49600.0            1                  0\n",
       "1    0     46.0   38000.0            1                  1\n",
       "2    0     29.0   21000.0            0                  0\n",
       "3    0     21.0   41700.0            2                  0\n",
       "4    1     28.0   26100.0            0                  0"
      ]
     },
     "execution_count": 3,
     "metadata": {},
     "output_type": "execute_result"
    }
   ],
   "source": [
    "data.head(5)"
   ]
  },
  {
   "cell_type": "code",
   "execution_count": 4,
   "metadata": {},
   "outputs": [
    {
     "name": "stdout",
     "output_type": "stream",
     "text": [
      "<class 'pandas.core.frame.DataFrame'>\n",
      "RangeIndex: 5000 entries, 0 to 4999\n",
      "Data columns (total 5 columns):\n",
      " #   Column             Non-Null Count  Dtype  \n",
      "---  ------             --------------  -----  \n",
      " 0   Пол                5000 non-null   int64  \n",
      " 1   Возраст            5000 non-null   float64\n",
      " 2   Зарплата           5000 non-null   float64\n",
      " 3   Члены семьи        5000 non-null   int64  \n",
      " 4   Страховые выплаты  5000 non-null   int64  \n",
      "dtypes: float64(2), int64(3)\n",
      "memory usage: 195.4 KB\n"
     ]
    }
   ],
   "source": [
    "data.info()"
   ]
  },
  {
   "cell_type": "code",
   "execution_count": 5,
   "metadata": {},
   "outputs": [
    {
     "data": {
      "text/plain": [
       "Пол                  0\n",
       "Возраст              0\n",
       "Зарплата             0\n",
       "Члены семьи          0\n",
       "Страховые выплаты    0\n",
       "dtype: int64"
      ]
     },
     "execution_count": 5,
     "metadata": {},
     "output_type": "execute_result"
    }
   ],
   "source": [
    "data.isna().sum()"
   ]
  },
  {
   "cell_type": "code",
   "execution_count": 6,
   "metadata": {
    "scrolled": true
   },
   "outputs": [
    {
     "data": {
      "text/plain": [
       "153"
      ]
     },
     "execution_count": 6,
     "metadata": {},
     "output_type": "execute_result"
    }
   ],
   "source": [
    "data.duplicated().sum()"
   ]
  },
  {
   "cell_type": "code",
   "execution_count": 7,
   "metadata": {},
   "outputs": [
    {
     "data": {
      "text/plain": [
       "5000"
      ]
     },
     "execution_count": 7,
     "metadata": {},
     "output_type": "execute_result"
    }
   ],
   "source": [
    "data.shape[0]"
   ]
  },
  {
   "cell_type": "code",
   "execution_count": 8,
   "metadata": {
    "scrolled": true
   },
   "outputs": [
    {
     "name": "stdout",
     "output_type": "stream",
     "text": [
      "Процент дубликатов = 0.0306\n"
     ]
    }
   ],
   "source": [
    "print('Процент дубликатов =', data.duplicated().sum()/data.shape[0])"
   ]
  },
  {
   "cell_type": "markdown",
   "metadata": {},
   "source": [
    "Процент категорически мал, от дубликатов можно избавляться.\n",
    "___\n",
    "The percentage is categorically small, you can get rid of duplicates."
   ]
  },
  {
   "cell_type": "code",
   "execution_count": 9,
   "metadata": {},
   "outputs": [],
   "source": [
    "data = data.drop_duplicates().reset_index()"
   ]
  },
  {
   "cell_type": "code",
   "execution_count": 10,
   "metadata": {},
   "outputs": [
    {
     "data": {
      "text/plain": [
       "0"
      ]
     },
     "execution_count": 10,
     "metadata": {},
     "output_type": "execute_result"
    }
   ],
   "source": [
    "data.duplicated().sum()"
   ]
  },
  {
   "cell_type": "markdown",
   "metadata": {},
   "source": [
    "Дубликаты удалены. Данные предобработаны.\n",
    "___\n",
    "Duplicates removed. The data has been preprocessed."
   ]
  },
  {
   "cell_type": "markdown",
   "metadata": {},
   "source": [
    "## Алгоритм преобразования\n",
    "___\n",
    "## Conversion algorithm"
   ]
  },
  {
   "cell_type": "markdown",
   "metadata": {},
   "source": [
    "**Алгоритм**\n",
    "\n",
    "Данные -> Матрица данных умножается на обратную матрицу -> Далее проивзодятся расчеты по алгоритму линейной регрессии\n",
    "___\n",
    "**Algorithm**\n",
    "\n",
    "Data -> The data matrix is multiplied by the inverse matrix -> Next, calculations are made using the linear regression algorithm"
   ]
  },
  {
   "cell_type": "markdown",
   "metadata": {},
   "source": [
    "**Обоснование**\n",
    "\n",
    "Таким образом получится видоизменить данные еще перед началом расчетов, что впоследствии помешает восстановить данные по обратным расчетам, так как входные данные были уже изменены.\n",
    "___\n",
    "**Rationale**\n",
    "\n",
    "Thus, it will be possible to modify the data even before the start of the calculations, which will subsequently prevent the restoration of data from reverse calculations, since the input data has already been changed."
   ]
  },
  {
   "cell_type": "markdown",
   "metadata": {},
   "source": [
    "## Проверка алгоритма\n",
    "___\n",
    "## Algorithm check"
   ]
  },
  {
   "cell_type": "markdown",
   "metadata": {},
   "source": [
    "Создаем квадратную матрицу.\n",
    "___\n",
    "We create a square matrix."
   ]
  },
  {
   "cell_type": "code",
   "execution_count": 11,
   "metadata": {},
   "outputs": [
    {
     "data": {
      "text/plain": [
       "array([[3.33869180e-01, 7.06422343e-01, 8.75526222e-01, 7.02557110e-01,\n",
       "        3.12530161e-01],\n",
       "       [6.50552732e-01, 7.00749978e-01, 9.65814703e-01, 1.61901340e-01,\n",
       "        5.65524909e-01],\n",
       "       [1.11509969e-01, 3.38183204e-01, 4.26744152e-04, 9.01463697e-01,\n",
       "        9.01005877e-01],\n",
       "       [2.32121322e-01, 6.91127958e-01, 4.46825739e-01, 9.01386994e-01,\n",
       "        1.28193607e-01],\n",
       "       [1.17679377e-01, 4.64782140e-01, 5.78932924e-01, 8.63413504e-01,\n",
       "        7.80083512e-01]])"
      ]
     },
     "execution_count": 11,
     "metadata": {},
     "output_type": "execute_result"
    }
   ],
   "source": [
    "X = np.random.rand(5,5)\n",
    "\n",
    "X"
   ]
  },
  {
   "cell_type": "markdown",
   "metadata": {},
   "source": [
    "Проверяем обратимая ли она.\n",
    "___\n",
    "Check if it is reversible."
   ]
  },
  {
   "cell_type": "code",
   "execution_count": 12,
   "metadata": {
    "scrolled": true
   },
   "outputs": [
    {
     "data": {
      "text/plain": [
       "array([[ 39.94823067,  -9.36236195,  19.21521133, -22.05538575,\n",
       "        -27.78681591],\n",
       "       [-47.14086286,  12.738166  , -20.61337779,  27.31905262,\n",
       "         28.97104935],\n",
       "       [  9.30648401,  -2.50918329,   2.4734152 ,  -5.5911842 ,\n",
       "         -3.84748402],\n",
       "       [ 22.65507829,  -6.52557997,  10.15605053, -12.02765716,\n",
       "        -14.09952849],\n",
       "       [ -9.92122278,   2.9076471 ,  -3.6936006 ,   4.51210479,\n",
       "          6.6734744 ]])"
      ]
     },
     "execution_count": 12,
     "metadata": {},
     "output_type": "execute_result"
    }
   ],
   "source": [
    "np.linalg.inv(X)"
   ]
  },
  {
   "cell_type": "markdown",
   "metadata": {},
   "source": [
    "Выолним умножение признаков на обратимую матрицу. Для начала определим признаки и целевые значения.\n",
    "___\n",
    "Let's perform feature multiplication by an invertible matrix. First, let's define features and target values."
   ]
  },
  {
   "cell_type": "code",
   "execution_count": 13,
   "metadata": {},
   "outputs": [],
   "source": [
    "features = data.drop('Страховые выплаты', axis=1)\n",
    "target = data['Страховые выплаты']"
   ]
  },
  {
   "cell_type": "code",
   "execution_count": 14,
   "metadata": {},
   "outputs": [],
   "source": [
    "features_mult = features@X"
   ]
  },
  {
   "cell_type": "markdown",
   "metadata": {},
   "source": [
    "Создадим класс Линейной регрессии.\n",
    "___\n",
    "Let's create a Linear Regression class."
   ]
  },
  {
   "cell_type": "code",
   "execution_count": 15,
   "metadata": {},
   "outputs": [],
   "source": [
    "class LinearRegression:\n",
    "    def fit(self, train_features, train_target):\n",
    "        X = np.concatenate((np.ones((train_features.shape[0], 1)), train_features), axis=1)\n",
    "        y = train_target\n",
    "        w = np.linalg.inv(X.T.dot(X)).dot(X.T).dot(y)\n",
    "        self.w = w[1:]\n",
    "        self.w0 = w[0]\n",
    "\n",
    "    def predict(self, test_features):\n",
    "        return test_features.dot(self.w) + self.w0"
   ]
  },
  {
   "cell_type": "markdown",
   "metadata": {},
   "source": [
    "Сначала произведем расчеты на основании первоначальных признаков.\n",
    "___\n",
    "First, we will make calculations based on the initial features."
   ]
  },
  {
   "cell_type": "code",
   "execution_count": 16,
   "metadata": {},
   "outputs": [],
   "source": [
    "model = LinearRegression()\n",
    "model.fit(features, target)\n",
    "predictions = model.predict(features)\n",
    "r2_score_before = r2_score(target, predictions)"
   ]
  },
  {
   "cell_type": "markdown",
   "metadata": {},
   "source": [
    "Далее произведем те же расчеты на измененных признаках.\n",
    "___\n",
    "Next, we will perform the same calculations on the modified features."
   ]
  },
  {
   "cell_type": "code",
   "execution_count": 17,
   "metadata": {
    "scrolled": true
   },
   "outputs": [],
   "source": [
    "model = LinearRegression()\n",
    "model.fit(features_mult, target)\n",
    "predictions_mult = model.predict(features_mult)\n",
    "r2_score_mult = r2_score(target, predictions)"
   ]
  },
  {
   "cell_type": "code",
   "execution_count": 18,
   "metadata": {
    "scrolled": true
   },
   "outputs": [
    {
     "data": {
      "text/html": [
       "<div>\n",
       "<style scoped>\n",
       "    .dataframe tbody tr th:only-of-type {\n",
       "        vertical-align: middle;\n",
       "    }\n",
       "\n",
       "    .dataframe tbody tr th {\n",
       "        vertical-align: top;\n",
       "    }\n",
       "\n",
       "    .dataframe thead th {\n",
       "        text-align: right;\n",
       "    }\n",
       "</style>\n",
       "<table border=\"1\" class=\"dataframe\">\n",
       "  <thead>\n",
       "    <tr style=\"text-align: right;\">\n",
       "      <th></th>\n",
       "      <th>до изменений</th>\n",
       "      <th>после изменений</th>\n",
       "    </tr>\n",
       "  </thead>\n",
       "  <tbody>\n",
       "    <tr>\n",
       "      <th>r2 score</th>\n",
       "      <td>0.430218</td>\n",
       "      <td>0.430218</td>\n",
       "    </tr>\n",
       "  </tbody>\n",
       "</table>\n",
       "</div>"
      ],
      "text/plain": [
       "          до изменений  после изменений\n",
       "r2 score      0.430218         0.430218"
      ]
     },
     "metadata": {},
     "output_type": "display_data"
    }
   ],
   "source": [
    "table = [\n",
    "    [\n",
    "        r2_score_before,\n",
    "        r2_score_mult\n",
    "    ]\n",
    "]\n",
    "\n",
    "columns = [\"до изменений\", \"после изменений\"]\n",
    "index = ['r2 score']\n",
    "table_1 = pd.DataFrame(table, index, columns)\n",
    "display(table_1)"
   ]
  },
  {
   "cell_type": "markdown",
   "metadata": {},
   "source": [
    "Очевидно отстутствие различий в значениях r2. Качество линейной регрессии не изменилось после преобразования признаков с помощью обратимой матрицы.\n",
    "___\n",
    "Obviously, there is no difference in the values of r2. The quality of the linear regression did not change after the feature transformation using the reversible matrix."
   ]
  }
 ],
 "metadata": {
  "ExecuteTimeLog": [
   {
    "duration": 908,
    "start_time": "2022-07-31T16:19:12.586Z"
   },
   {
    "duration": 119,
    "start_time": "2022-07-31T16:19:30.312Z"
   },
   {
    "duration": 88,
    "start_time": "2022-07-31T16:19:37.680Z"
   },
   {
    "duration": 16,
    "start_time": "2022-07-31T16:19:48.910Z"
   },
   {
    "duration": 12,
    "start_time": "2022-07-31T16:20:04.325Z"
   },
   {
    "duration": 12,
    "start_time": "2022-07-31T16:20:16.486Z"
   },
   {
    "duration": 7,
    "start_time": "2022-07-31T16:20:23.835Z"
   },
   {
    "duration": 7,
    "start_time": "2022-07-31T16:20:28.966Z"
   },
   {
    "duration": 8,
    "start_time": "2022-07-31T16:20:40.407Z"
   },
   {
    "duration": 5,
    "start_time": "2022-07-31T16:20:44.018Z"
   },
   {
    "duration": 6,
    "start_time": "2022-07-31T16:37:18.767Z"
   },
   {
    "duration": 23,
    "start_time": "2022-07-31T16:37:56.362Z"
   },
   {
    "duration": 90,
    "start_time": "2022-07-31T16:38:10.911Z"
   },
   {
    "duration": 10,
    "start_time": "2022-07-31T16:38:14.338Z"
   },
   {
    "duration": 7,
    "start_time": "2022-07-31T16:38:24.449Z"
   },
   {
    "duration": 6,
    "start_time": "2022-07-31T16:38:38.633Z"
   },
   {
    "duration": 8,
    "start_time": "2022-07-31T16:38:52.964Z"
   },
   {
    "duration": 4,
    "start_time": "2022-07-31T16:38:56.099Z"
   },
   {
    "duration": 4,
    "start_time": "2022-07-31T16:38:59.060Z"
   },
   {
    "duration": 4,
    "start_time": "2022-07-31T16:39:02.275Z"
   },
   {
    "duration": 6,
    "start_time": "2022-07-31T16:39:16.613Z"
   },
   {
    "duration": 13,
    "start_time": "2022-07-31T16:40:06.166Z"
   },
   {
    "duration": 7,
    "start_time": "2022-07-31T16:40:15.247Z"
   },
   {
    "duration": 14,
    "start_time": "2022-07-31T16:40:20.509Z"
   },
   {
    "duration": 10,
    "start_time": "2022-07-31T16:40:38.388Z"
   },
   {
    "duration": 4,
    "start_time": "2022-07-31T16:41:22.327Z"
   },
   {
    "duration": 6,
    "start_time": "2022-07-31T16:41:31.743Z"
   },
   {
    "duration": 18,
    "start_time": "2022-07-31T17:29:43.271Z"
   },
   {
    "duration": 12,
    "start_time": "2022-07-31T17:29:53.266Z"
   },
   {
    "duration": 4,
    "start_time": "2022-07-31T17:30:21.731Z"
   },
   {
    "duration": 536,
    "start_time": "2022-07-31T17:30:48.598Z"
   },
   {
    "duration": 541,
    "start_time": "2022-07-31T17:31:05.537Z"
   },
   {
    "duration": 24,
    "start_time": "2022-07-31T17:31:10.201Z"
   },
   {
    "duration": 45,
    "start_time": "2022-07-31T17:32:30.336Z"
   },
   {
    "duration": 57,
    "start_time": "2022-07-31T17:32:37.507Z"
   },
   {
    "duration": 217,
    "start_time": "2022-07-31T17:32:49.935Z"
   },
   {
    "duration": 253,
    "start_time": "2022-07-31T17:33:07.279Z"
   },
   {
    "duration": 1077,
    "start_time": "2022-07-31T17:33:27.169Z"
   },
   {
    "duration": 28,
    "start_time": "2022-07-31T17:33:28.248Z"
   },
   {
    "duration": 12,
    "start_time": "2022-07-31T17:33:28.278Z"
   },
   {
    "duration": 10,
    "start_time": "2022-07-31T17:33:28.292Z"
   },
   {
    "duration": 5,
    "start_time": "2022-07-31T17:33:28.304Z"
   },
   {
    "duration": 8,
    "start_time": "2022-07-31T17:33:28.310Z"
   },
   {
    "duration": 11,
    "start_time": "2022-07-31T17:33:28.319Z"
   },
   {
    "duration": 5,
    "start_time": "2022-07-31T17:33:28.331Z"
   },
   {
    "duration": 5,
    "start_time": "2022-07-31T17:33:28.338Z"
   },
   {
    "duration": 6,
    "start_time": "2022-07-31T17:33:28.344Z"
   },
   {
    "duration": 3,
    "start_time": "2022-07-31T17:33:28.351Z"
   },
   {
    "duration": 11,
    "start_time": "2022-07-31T17:38:55.449Z"
   },
   {
    "duration": 13,
    "start_time": "2022-07-31T17:39:07.155Z"
   },
   {
    "duration": 12,
    "start_time": "2022-07-31T17:39:14.933Z"
   },
   {
    "duration": 10,
    "start_time": "2022-07-31T17:39:18.024Z"
   },
   {
    "duration": 2991,
    "start_time": "2022-07-31T17:41:10.674Z"
   },
   {
    "duration": 76,
    "start_time": "2022-07-31T17:41:25.409Z"
   },
   {
    "duration": 92,
    "start_time": "2022-07-31T17:45:31.654Z"
   },
   {
    "duration": 9,
    "start_time": "2022-07-31T17:46:57.522Z"
   },
   {
    "duration": 70,
    "start_time": "2022-07-31T17:47:11.185Z"
   },
   {
    "duration": 76,
    "start_time": "2022-07-31T17:47:17.457Z"
   },
   {
    "duration": 79,
    "start_time": "2022-07-31T17:47:25.563Z"
   },
   {
    "duration": 71,
    "start_time": "2022-07-31T17:47:49.252Z"
   },
   {
    "duration": 1013,
    "start_time": "2022-07-31T17:47:54.984Z"
   },
   {
    "duration": 3,
    "start_time": "2022-07-31T17:48:05.061Z"
   },
   {
    "duration": 29,
    "start_time": "2022-07-31T17:48:05.066Z"
   },
   {
    "duration": 11,
    "start_time": "2022-07-31T17:48:05.097Z"
   },
   {
    "duration": 11,
    "start_time": "2022-07-31T17:48:05.109Z"
   },
   {
    "duration": 5,
    "start_time": "2022-07-31T17:48:05.121Z"
   },
   {
    "duration": 5,
    "start_time": "2022-07-31T17:48:05.127Z"
   },
   {
    "duration": 4,
    "start_time": "2022-07-31T17:48:05.133Z"
   },
   {
    "duration": 5,
    "start_time": "2022-07-31T17:48:05.138Z"
   },
   {
    "duration": 9,
    "start_time": "2022-07-31T17:48:05.144Z"
   },
   {
    "duration": 5,
    "start_time": "2022-07-31T17:48:05.154Z"
   },
   {
    "duration": 160,
    "start_time": "2022-07-31T17:48:10.595Z"
   },
   {
    "duration": 79,
    "start_time": "2022-07-31T17:48:29.494Z"
   },
   {
    "duration": 43,
    "start_time": "2022-08-02T10:32:16.337Z"
   },
   {
    "duration": 1220,
    "start_time": "2022-08-02T10:32:21.804Z"
   },
   {
    "duration": 87,
    "start_time": "2022-08-02T10:32:23.026Z"
   },
   {
    "duration": 11,
    "start_time": "2022-08-02T10:32:23.114Z"
   },
   {
    "duration": 11,
    "start_time": "2022-08-02T10:32:23.127Z"
   },
   {
    "duration": 5,
    "start_time": "2022-08-02T10:32:23.139Z"
   },
   {
    "duration": 7,
    "start_time": "2022-08-02T10:32:23.145Z"
   },
   {
    "duration": 4,
    "start_time": "2022-08-02T10:32:23.154Z"
   },
   {
    "duration": 7,
    "start_time": "2022-08-02T10:32:23.159Z"
   },
   {
    "duration": 4,
    "start_time": "2022-08-02T10:32:23.168Z"
   },
   {
    "duration": 6,
    "start_time": "2022-08-02T10:32:23.173Z"
   },
   {
    "duration": 4,
    "start_time": "2022-08-02T10:32:28.702Z"
   },
   {
    "duration": 6,
    "start_time": "2022-08-02T10:32:46.238Z"
   },
   {
    "duration": 4,
    "start_time": "2022-08-02T10:32:48.266Z"
   },
   {
    "duration": 4,
    "start_time": "2022-08-02T10:32:48.688Z"
   },
   {
    "duration": 4,
    "start_time": "2022-08-02T10:32:49.051Z"
   },
   {
    "duration": 4,
    "start_time": "2022-08-02T10:32:49.388Z"
   },
   {
    "duration": 9,
    "start_time": "2022-08-02T10:33:08.141Z"
   },
   {
    "duration": 4,
    "start_time": "2022-08-02T10:33:49.136Z"
   },
   {
    "duration": 4,
    "start_time": "2022-08-02T10:35:02.346Z"
   },
   {
    "duration": 68,
    "start_time": "2022-08-02T10:36:45.453Z"
   },
   {
    "duration": 3,
    "start_time": "2022-08-02T10:36:56.942Z"
   },
   {
    "duration": 4,
    "start_time": "2022-08-02T10:36:57.876Z"
   },
   {
    "duration": 4,
    "start_time": "2022-08-02T10:37:00.139Z"
   },
   {
    "duration": 3,
    "start_time": "2022-08-02T10:37:00.850Z"
   },
   {
    "duration": 11,
    "start_time": "2022-08-02T10:37:04.839Z"
   },
   {
    "duration": 1090,
    "start_time": "2022-08-02T10:37:31.293Z"
   },
   {
    "duration": 36,
    "start_time": "2022-08-02T10:37:32.384Z"
   },
   {
    "duration": 12,
    "start_time": "2022-08-02T10:37:32.421Z"
   },
   {
    "duration": 11,
    "start_time": "2022-08-02T10:37:34.197Z"
   },
   {
    "duration": 6,
    "start_time": "2022-08-02T10:37:34.700Z"
   },
   {
    "duration": 7,
    "start_time": "2022-08-02T10:37:36.382Z"
   },
   {
    "duration": 4,
    "start_time": "2022-08-02T10:37:36.906Z"
   },
   {
    "duration": 5,
    "start_time": "2022-08-02T10:37:38.743Z"
   },
   {
    "duration": 5,
    "start_time": "2022-08-02T10:38:14.647Z"
   },
   {
    "duration": 6,
    "start_time": "2022-08-02T10:38:16.290Z"
   },
   {
    "duration": 13,
    "start_time": "2022-08-02T10:38:23.662Z"
   },
   {
    "duration": 4,
    "start_time": "2022-08-02T10:38:35.538Z"
   },
   {
    "duration": 5,
    "start_time": "2022-08-02T10:38:37.449Z"
   },
   {
    "duration": 5,
    "start_time": "2022-08-02T10:38:39.684Z"
   },
   {
    "duration": 86,
    "start_time": "2022-08-02T10:38:40.138Z"
   },
   {
    "duration": 4,
    "start_time": "2022-08-02T10:38:51.457Z"
   },
   {
    "duration": 5,
    "start_time": "2022-08-02T10:38:52.205Z"
   },
   {
    "duration": 3,
    "start_time": "2022-08-02T10:38:54.645Z"
   },
   {
    "duration": 4,
    "start_time": "2022-08-02T10:38:54.998Z"
   },
   {
    "duration": 12,
    "start_time": "2022-08-02T10:38:59.596Z"
   },
   {
    "duration": 4,
    "start_time": "2022-08-02T10:40:00.034Z"
   },
   {
    "duration": 13,
    "start_time": "2022-08-02T10:40:51.382Z"
   },
   {
    "duration": 204,
    "start_time": "2022-08-02T10:41:08.102Z"
   },
   {
    "duration": 28,
    "start_time": "2022-08-02T10:41:08.308Z"
   },
   {
    "duration": 7,
    "start_time": "2022-08-02T10:41:08.338Z"
   },
   {
    "duration": 12,
    "start_time": "2022-08-02T10:41:08.347Z"
   },
   {
    "duration": 5,
    "start_time": "2022-08-02T10:41:08.361Z"
   },
   {
    "duration": 6,
    "start_time": "2022-08-02T10:41:08.367Z"
   },
   {
    "duration": 8,
    "start_time": "2022-08-02T10:41:08.374Z"
   },
   {
    "duration": 5,
    "start_time": "2022-08-02T10:41:08.384Z"
   },
   {
    "duration": 6,
    "start_time": "2022-08-02T10:41:08.401Z"
   },
   {
    "duration": 7,
    "start_time": "2022-08-02T10:41:08.408Z"
   },
   {
    "duration": 5,
    "start_time": "2022-08-02T10:41:08.416Z"
   },
   {
    "duration": 8,
    "start_time": "2022-08-02T10:41:08.422Z"
   },
   {
    "duration": 73,
    "start_time": "2022-08-02T10:41:08.431Z"
   },
   {
    "duration": 3,
    "start_time": "2022-08-02T10:41:08.507Z"
   },
   {
    "duration": 90,
    "start_time": "2022-08-02T10:41:08.512Z"
   },
   {
    "duration": 7,
    "start_time": "2022-08-02T10:41:10.966Z"
   },
   {
    "duration": 9,
    "start_time": "2022-08-02T10:41:24.997Z"
   },
   {
    "duration": 11,
    "start_time": "2022-08-02T10:41:54.785Z"
   },
   {
    "duration": 7,
    "start_time": "2022-08-02T10:43:08.236Z"
   },
   {
    "duration": 6,
    "start_time": "2022-08-02T10:43:09.536Z"
   },
   {
    "duration": 5,
    "start_time": "2022-08-02T10:43:24.698Z"
   },
   {
    "duration": 6,
    "start_time": "2022-08-02T10:43:30.534Z"
   },
   {
    "duration": 5,
    "start_time": "2022-08-02T10:43:39.946Z"
   },
   {
    "duration": 76,
    "start_time": "2022-08-02T10:43:42.830Z"
   },
   {
    "duration": 11,
    "start_time": "2022-08-02T10:43:49.045Z"
   },
   {
    "duration": 12,
    "start_time": "2022-08-02T10:43:53.171Z"
   },
   {
    "duration": 3,
    "start_time": "2022-08-02T10:43:58.260Z"
   },
   {
    "duration": 35,
    "start_time": "2022-08-02T10:43:58.264Z"
   },
   {
    "duration": 8,
    "start_time": "2022-08-02T10:43:58.301Z"
   },
   {
    "duration": 11,
    "start_time": "2022-08-02T10:43:58.311Z"
   },
   {
    "duration": 5,
    "start_time": "2022-08-02T10:43:58.325Z"
   },
   {
    "duration": 10,
    "start_time": "2022-08-02T10:43:58.332Z"
   },
   {
    "duration": 4,
    "start_time": "2022-08-02T10:43:58.343Z"
   },
   {
    "duration": 7,
    "start_time": "2022-08-02T10:43:58.348Z"
   },
   {
    "duration": 5,
    "start_time": "2022-08-02T10:43:58.357Z"
   },
   {
    "duration": 11,
    "start_time": "2022-08-02T10:43:58.364Z"
   },
   {
    "duration": 5,
    "start_time": "2022-08-02T10:43:58.401Z"
   },
   {
    "duration": 7,
    "start_time": "2022-08-02T10:43:58.407Z"
   },
   {
    "duration": 10,
    "start_time": "2022-08-02T10:43:58.416Z"
   },
   {
    "duration": 14,
    "start_time": "2022-08-02T10:43:58.503Z"
   },
   {
    "duration": 85,
    "start_time": "2022-08-02T10:43:58.521Z"
   },
   {
    "duration": 6,
    "start_time": "2022-08-02T10:44:00.240Z"
   },
   {
    "duration": 11,
    "start_time": "2022-08-02T10:44:04.744Z"
   },
   {
    "duration": 12,
    "start_time": "2022-08-02T10:44:13.089Z"
   },
   {
    "duration": 13,
    "start_time": "2022-08-02T10:44:27.836Z"
   },
   {
    "duration": 12,
    "start_time": "2022-08-02T10:45:24.680Z"
   },
   {
    "duration": 62,
    "start_time": "2022-08-02T10:45:31.441Z"
   },
   {
    "duration": 1377,
    "start_time": "2022-08-02T10:45:38.397Z"
   },
   {
    "duration": 29,
    "start_time": "2022-08-02T10:45:39.776Z"
   },
   {
    "duration": 12,
    "start_time": "2022-08-02T10:45:39.806Z"
   },
   {
    "duration": 15,
    "start_time": "2022-08-02T10:45:39.820Z"
   },
   {
    "duration": 12,
    "start_time": "2022-08-02T10:45:39.836Z"
   },
   {
    "duration": 18,
    "start_time": "2022-08-02T10:45:39.850Z"
   },
   {
    "duration": 14,
    "start_time": "2022-08-02T10:45:39.869Z"
   },
   {
    "duration": 17,
    "start_time": "2022-08-02T10:45:39.885Z"
   },
   {
    "duration": 14,
    "start_time": "2022-08-02T10:45:39.904Z"
   },
   {
    "duration": 7,
    "start_time": "2022-08-02T10:45:39.921Z"
   },
   {
    "duration": 5,
    "start_time": "2022-08-02T10:45:39.930Z"
   },
   {
    "duration": 7,
    "start_time": "2022-08-02T10:45:39.937Z"
   },
   {
    "duration": 64,
    "start_time": "2022-08-02T10:45:39.946Z"
   },
   {
    "duration": 92,
    "start_time": "2022-08-02T10:45:40.012Z"
   },
   {
    "duration": 5,
    "start_time": "2022-08-02T10:45:40.105Z"
   },
   {
    "duration": 9,
    "start_time": "2022-08-02T10:45:40.112Z"
   },
   {
    "duration": 451,
    "start_time": "2022-08-02T10:45:40.123Z"
   },
   {
    "duration": 0,
    "start_time": "2022-08-02T10:45:40.575Z"
   },
   {
    "duration": 5,
    "start_time": "2022-08-02T10:47:24.083Z"
   },
   {
    "duration": 8,
    "start_time": "2022-08-02T10:47:29.778Z"
   },
   {
    "duration": 5,
    "start_time": "2022-08-02T10:47:41.289Z"
   },
   {
    "duration": 9,
    "start_time": "2022-08-02T10:48:02.100Z"
   },
   {
    "duration": 8,
    "start_time": "2022-08-02T10:48:09.368Z"
   },
   {
    "duration": 3,
    "start_time": "2022-08-02T10:50:35.853Z"
   },
   {
    "duration": 32,
    "start_time": "2022-08-02T10:50:35.858Z"
   },
   {
    "duration": 7,
    "start_time": "2022-08-02T10:50:35.892Z"
   },
   {
    "duration": 11,
    "start_time": "2022-08-02T10:50:35.900Z"
   },
   {
    "duration": 5,
    "start_time": "2022-08-02T10:50:35.913Z"
   },
   {
    "duration": 7,
    "start_time": "2022-08-02T10:50:35.920Z"
   },
   {
    "duration": 3,
    "start_time": "2022-08-02T10:50:35.929Z"
   },
   {
    "duration": 7,
    "start_time": "2022-08-02T10:50:35.933Z"
   },
   {
    "duration": 4,
    "start_time": "2022-08-02T10:50:35.942Z"
   },
   {
    "duration": 6,
    "start_time": "2022-08-02T10:50:35.948Z"
   },
   {
    "duration": 4,
    "start_time": "2022-08-02T10:50:35.956Z"
   },
   {
    "duration": 44,
    "start_time": "2022-08-02T10:50:35.961Z"
   },
   {
    "duration": 7,
    "start_time": "2022-08-02T10:50:36.006Z"
   },
   {
    "duration": 88,
    "start_time": "2022-08-02T10:50:36.015Z"
   },
   {
    "duration": 4,
    "start_time": "2022-08-02T10:50:36.104Z"
   },
   {
    "duration": 10,
    "start_time": "2022-08-02T10:50:36.109Z"
   },
   {
    "duration": 6,
    "start_time": "2022-08-02T10:50:37.645Z"
   },
   {
    "duration": 4,
    "start_time": "2022-08-02T10:52:36.234Z"
   },
   {
    "duration": 5,
    "start_time": "2022-08-02T10:52:42.448Z"
   },
   {
    "duration": 4,
    "start_time": "2022-08-02T10:52:54.275Z"
   },
   {
    "duration": 10,
    "start_time": "2022-08-02T10:53:07.975Z"
   },
   {
    "duration": 7,
    "start_time": "2022-08-02T10:56:11.842Z"
   },
   {
    "duration": 7,
    "start_time": "2022-08-02T10:56:22.940Z"
   },
   {
    "duration": 8,
    "start_time": "2022-08-02T10:56:32.364Z"
   },
   {
    "duration": 8,
    "start_time": "2022-08-02T10:56:42.522Z"
   },
   {
    "duration": 8,
    "start_time": "2022-08-02T10:56:55.742Z"
   },
   {
    "duration": 1272,
    "start_time": "2022-08-02T11:00:33.230Z"
   },
   {
    "duration": 29,
    "start_time": "2022-08-02T11:00:34.505Z"
   },
   {
    "duration": 13,
    "start_time": "2022-08-02T11:00:34.536Z"
   },
   {
    "duration": 19,
    "start_time": "2022-08-02T11:00:34.550Z"
   },
   {
    "duration": 29,
    "start_time": "2022-08-02T11:00:34.571Z"
   },
   {
    "duration": 11,
    "start_time": "2022-08-02T11:00:34.602Z"
   },
   {
    "duration": 5,
    "start_time": "2022-08-02T11:00:34.614Z"
   },
   {
    "duration": 14,
    "start_time": "2022-08-02T11:00:34.620Z"
   },
   {
    "duration": 11,
    "start_time": "2022-08-02T11:00:34.635Z"
   },
   {
    "duration": 13,
    "start_time": "2022-08-02T11:00:34.648Z"
   },
   {
    "duration": 5,
    "start_time": "2022-08-02T11:00:34.662Z"
   },
   {
    "duration": 8,
    "start_time": "2022-08-02T11:00:34.669Z"
   },
   {
    "duration": 7,
    "start_time": "2022-08-02T11:00:34.703Z"
   },
   {
    "duration": 89,
    "start_time": "2022-08-02T11:00:34.713Z"
   },
   {
    "duration": 7,
    "start_time": "2022-08-02T11:00:34.804Z"
   },
   {
    "duration": 12,
    "start_time": "2022-08-02T11:00:34.812Z"
   },
   {
    "duration": 183,
    "start_time": "2022-08-02T11:00:34.825Z"
   },
   {
    "duration": 100,
    "start_time": "2022-08-02T11:00:35.009Z"
   },
   {
    "duration": 2027,
    "start_time": "2022-08-02T12:04:32.535Z"
   },
   {
    "duration": 97,
    "start_time": "2022-08-02T12:04:34.564Z"
   },
   {
    "duration": 13,
    "start_time": "2022-08-02T12:04:34.662Z"
   },
   {
    "duration": 11,
    "start_time": "2022-08-02T12:04:34.676Z"
   },
   {
    "duration": 6,
    "start_time": "2022-08-02T12:04:34.690Z"
   },
   {
    "duration": 7,
    "start_time": "2022-08-02T12:04:34.697Z"
   },
   {
    "duration": 4,
    "start_time": "2022-08-02T12:04:34.706Z"
   },
   {
    "duration": 9,
    "start_time": "2022-08-02T12:04:34.711Z"
   },
   {
    "duration": 6,
    "start_time": "2022-08-02T12:04:34.731Z"
   },
   {
    "duration": 22,
    "start_time": "2022-08-02T12:04:34.739Z"
   },
   {
    "duration": 5,
    "start_time": "2022-08-02T12:04:34.763Z"
   },
   {
    "duration": 12,
    "start_time": "2022-08-02T12:04:34.770Z"
   },
   {
    "duration": 57,
    "start_time": "2022-08-02T12:04:34.783Z"
   },
   {
    "duration": 92,
    "start_time": "2022-08-02T12:04:34.843Z"
   },
   {
    "duration": 18,
    "start_time": "2022-08-02T12:04:34.936Z"
   },
   {
    "duration": 18,
    "start_time": "2022-08-02T12:04:34.957Z"
   },
   {
    "duration": 175,
    "start_time": "2022-08-02T12:04:34.977Z"
   },
   {
    "duration": 80,
    "start_time": "2022-08-02T12:04:35.154Z"
   },
   {
    "duration": 1603,
    "start_time": "2022-08-06T17:42:05.170Z"
   },
   {
    "duration": 90,
    "start_time": "2022-08-06T17:42:06.775Z"
   },
   {
    "duration": 13,
    "start_time": "2022-08-06T17:42:06.866Z"
   },
   {
    "duration": 14,
    "start_time": "2022-08-06T17:42:06.881Z"
   },
   {
    "duration": 8,
    "start_time": "2022-08-06T17:42:06.897Z"
   },
   {
    "duration": 10,
    "start_time": "2022-08-06T17:42:06.907Z"
   },
   {
    "duration": 20,
    "start_time": "2022-08-06T17:42:06.919Z"
   },
   {
    "duration": 8,
    "start_time": "2022-08-06T17:42:06.941Z"
   },
   {
    "duration": 8,
    "start_time": "2022-08-06T17:42:06.950Z"
   },
   {
    "duration": 6,
    "start_time": "2022-08-06T17:42:06.960Z"
   },
   {
    "duration": 5,
    "start_time": "2022-08-06T17:42:55.682Z"
   },
   {
    "duration": 101,
    "start_time": "2022-08-06T17:43:06.408Z"
   },
   {
    "duration": 4,
    "start_time": "2022-08-06T17:43:14.662Z"
   },
   {
    "duration": 6,
    "start_time": "2022-08-06T17:43:16.914Z"
   },
   {
    "duration": 5,
    "start_time": "2022-08-06T17:43:21.602Z"
   },
   {
    "duration": 3,
    "start_time": "2022-08-06T17:43:23.606Z"
   },
   {
    "duration": 4,
    "start_time": "2022-08-06T17:44:21.006Z"
   },
   {
    "duration": 79,
    "start_time": "2022-08-06T17:44:24.031Z"
   },
   {
    "duration": 4,
    "start_time": "2022-08-06T17:44:37.443Z"
   },
   {
    "duration": 134,
    "start_time": "2022-08-06T17:44:39.361Z"
   },
   {
    "duration": 4,
    "start_time": "2022-08-06T17:44:53.595Z"
   },
   {
    "duration": 65,
    "start_time": "2022-08-06T17:44:55.613Z"
   },
   {
    "duration": 4,
    "start_time": "2022-08-06T17:45:25.252Z"
   },
   {
    "duration": 9,
    "start_time": "2022-08-06T17:45:27.395Z"
   },
   {
    "duration": 10,
    "start_time": "2022-08-06T17:45:29.047Z"
   },
   {
    "duration": 8,
    "start_time": "2022-08-06T17:45:30.833Z"
   },
   {
    "duration": 1338,
    "start_time": "2022-08-06T17:45:39.068Z"
   },
   {
    "duration": 27,
    "start_time": "2022-08-06T17:45:40.408Z"
   },
   {
    "duration": 12,
    "start_time": "2022-08-06T17:45:40.436Z"
   },
   {
    "duration": 10,
    "start_time": "2022-08-06T17:45:40.450Z"
   },
   {
    "duration": 5,
    "start_time": "2022-08-06T17:45:40.461Z"
   },
   {
    "duration": 7,
    "start_time": "2022-08-06T17:45:40.468Z"
   },
   {
    "duration": 4,
    "start_time": "2022-08-06T17:45:40.476Z"
   },
   {
    "duration": 5,
    "start_time": "2022-08-06T17:45:40.487Z"
   },
   {
    "duration": 6,
    "start_time": "2022-08-06T17:45:40.493Z"
   },
   {
    "duration": 8,
    "start_time": "2022-08-06T17:45:40.501Z"
   },
   {
    "duration": 5,
    "start_time": "2022-08-06T17:45:40.510Z"
   },
   {
    "duration": 7,
    "start_time": "2022-08-06T17:45:40.516Z"
   },
   {
    "duration": 62,
    "start_time": "2022-08-06T17:45:40.525Z"
   },
   {
    "duration": 97,
    "start_time": "2022-08-06T17:45:40.590Z"
   },
   {
    "duration": 7,
    "start_time": "2022-08-06T17:45:40.689Z"
   },
   {
    "duration": 17,
    "start_time": "2022-08-06T17:45:40.697Z"
   },
   {
    "duration": 108,
    "start_time": "2022-08-06T17:45:40.788Z"
   },
   {
    "duration": 195,
    "start_time": "2022-08-06T17:45:40.898Z"
   }
  ],
  "kernelspec": {
   "display_name": "Python 3 (ipykernel)",
   "language": "python",
   "name": "python3"
  },
  "language_info": {
   "codemirror_mode": {
    "name": "ipython",
    "version": 3
   },
   "file_extension": ".py",
   "mimetype": "text/x-python",
   "name": "python",
   "nbconvert_exporter": "python",
   "pygments_lexer": "ipython3",
   "version": "3.7.8"
  },
  "toc": {
   "base_numbering": 1,
   "nav_menu": {},
   "number_sections": true,
   "sideBar": true,
   "skip_h1_title": true,
   "title_cell": "Содержание",
   "title_sidebar": "Contents",
   "toc_cell": true,
   "toc_position": {
    "height": "calc(100% - 180px)",
    "left": "10px",
    "top": "150px",
    "width": "165px"
   },
   "toc_section_display": true,
   "toc_window_display": true
  }
 },
 "nbformat": 4,
 "nbformat_minor": 4
}
