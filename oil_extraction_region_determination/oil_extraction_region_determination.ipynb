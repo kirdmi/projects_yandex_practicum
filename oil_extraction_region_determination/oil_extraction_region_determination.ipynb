{
 "cells": [
  {
   "cell_type": "markdown",
   "metadata": {},
   "source": [
    "# Выбор локации для скважины\n",
    "___\n",
    "# Choice of location for the well"
   ]
  },
  {
   "cell_type": "markdown",
   "metadata": {},
   "source": [
    "Основная задача - принять решение о локализации потенциальной скважины.\n",
    "\n",
    "Для ее решения имеются данные о пробы нефти в 3-х регионах. В каждом из регионом по 10000 месторождений, в которых были произведены замеры качества и объема.\n",
    "\n",
    "Необходимо построить модель машинного обучения, с помощью которой впоследствии будет возможно определенеи региона, имеющего наибольший экономический потенциал.\n",
    "___\n",
    "The main task is to decide on the localization of a potential well.\n",
    "\n",
    "To solve it, there are data on oil samples in 3 regions. There are 10,000 deposits in each region, in which measurements of quality and volume were made.\n",
    "\n",
    "It is necessary to build a machine learning model, with the help of which it will subsequently be possible to determine the region with the greatest economic potential."
   ]
  },
  {
   "cell_type": "markdown",
   "metadata": {},
   "source": [
    "## Загрузка и подготовка данных\n",
    "___\n",
    "## Loading and preparing data"
   ]
  },
  {
   "cell_type": "code",
   "execution_count": 1,
   "metadata": {},
   "outputs": [],
   "source": [
    "import pandas as pd\n",
    "import seaborn as sns\n",
    "import matplotlib.pyplot as plt\n",
    "import numpy as np\n",
    "from sklearn.model_selection import train_test_split\n",
    "from sklearn.metrics import f1_score\n",
    "import re\n",
    "from sklearn.dummy import DummyClassifier\n",
    "from sklearn.utils import shuffle\n",
    "from sklearn.metrics import precision_score, recall_score\n",
    "from sklearn.preprocessing import StandardScaler\n",
    "from sklearn.metrics import roc_auc_score\n",
    "from sklearn.metrics import roc_curve\n",
    "from sklearn.metrics import mean_squared_error\n",
    "from sklearn.linear_model import LinearRegression\n",
    "from random import sample\n",
    "from numpy.random import RandomState"
   ]
  },
  {
   "cell_type": "code",
   "execution_count": 2,
   "metadata": {},
   "outputs": [],
   "source": [
    "df_1 = pd.read_csv('geo_data_0.csv')\n",
    "\n",
    "df_2 = pd.read_csv('geo_data_1.csv')\n",
    "\n",
    "df_3 = pd.read_csv('geo_data_2.csv')"
   ]
  },
  {
   "cell_type": "code",
   "execution_count": 3,
   "metadata": {
    "scrolled": true
   },
   "outputs": [
    {
     "data": {
      "text/html": [
       "<div>\n",
       "<style scoped>\n",
       "    .dataframe tbody tr th:only-of-type {\n",
       "        vertical-align: middle;\n",
       "    }\n",
       "\n",
       "    .dataframe tbody tr th {\n",
       "        vertical-align: top;\n",
       "    }\n",
       "\n",
       "    .dataframe thead th {\n",
       "        text-align: right;\n",
       "    }\n",
       "</style>\n",
       "<table border=\"1\" class=\"dataframe\">\n",
       "  <thead>\n",
       "    <tr style=\"text-align: right;\">\n",
       "      <th></th>\n",
       "      <th>id</th>\n",
       "      <th>f0</th>\n",
       "      <th>f1</th>\n",
       "      <th>f2</th>\n",
       "      <th>product</th>\n",
       "    </tr>\n",
       "  </thead>\n",
       "  <tbody>\n",
       "    <tr>\n",
       "      <th>0</th>\n",
       "      <td>txEyH</td>\n",
       "      <td>0.705745</td>\n",
       "      <td>-0.497823</td>\n",
       "      <td>1.221170</td>\n",
       "      <td>105.280062</td>\n",
       "    </tr>\n",
       "    <tr>\n",
       "      <th>1</th>\n",
       "      <td>2acmU</td>\n",
       "      <td>1.334711</td>\n",
       "      <td>-0.340164</td>\n",
       "      <td>4.365080</td>\n",
       "      <td>73.037750</td>\n",
       "    </tr>\n",
       "    <tr>\n",
       "      <th>2</th>\n",
       "      <td>409Wp</td>\n",
       "      <td>1.022732</td>\n",
       "      <td>0.151990</td>\n",
       "      <td>1.419926</td>\n",
       "      <td>85.265647</td>\n",
       "    </tr>\n",
       "    <tr>\n",
       "      <th>3</th>\n",
       "      <td>iJLyR</td>\n",
       "      <td>-0.032172</td>\n",
       "      <td>0.139033</td>\n",
       "      <td>2.978566</td>\n",
       "      <td>168.620776</td>\n",
       "    </tr>\n",
       "    <tr>\n",
       "      <th>4</th>\n",
       "      <td>Xdl7t</td>\n",
       "      <td>1.988431</td>\n",
       "      <td>0.155413</td>\n",
       "      <td>4.751769</td>\n",
       "      <td>154.036647</td>\n",
       "    </tr>\n",
       "  </tbody>\n",
       "</table>\n",
       "</div>"
      ],
      "text/plain": [
       "      id        f0        f1        f2     product\n",
       "0  txEyH  0.705745 -0.497823  1.221170  105.280062\n",
       "1  2acmU  1.334711 -0.340164  4.365080   73.037750\n",
       "2  409Wp  1.022732  0.151990  1.419926   85.265647\n",
       "3  iJLyR -0.032172  0.139033  2.978566  168.620776\n",
       "4  Xdl7t  1.988431  0.155413  4.751769  154.036647"
      ]
     },
     "execution_count": 3,
     "metadata": {},
     "output_type": "execute_result"
    }
   ],
   "source": [
    "df_1.head(5)"
   ]
  },
  {
   "cell_type": "code",
   "execution_count": 4,
   "metadata": {
    "scrolled": true
   },
   "outputs": [
    {
     "name": "stdout",
     "output_type": "stream",
     "text": [
      "<class 'pandas.core.frame.DataFrame'>\n",
      "RangeIndex: 100000 entries, 0 to 99999\n",
      "Data columns (total 5 columns):\n",
      " #   Column   Non-Null Count   Dtype  \n",
      "---  ------   --------------   -----  \n",
      " 0   id       100000 non-null  object \n",
      " 1   f0       100000 non-null  float64\n",
      " 2   f1       100000 non-null  float64\n",
      " 3   f2       100000 non-null  float64\n",
      " 4   product  100000 non-null  float64\n",
      "dtypes: float64(4), object(1)\n",
      "memory usage: 3.8+ MB\n"
     ]
    }
   ],
   "source": [
    "df_1.info()"
   ]
  },
  {
   "cell_type": "code",
   "execution_count": 5,
   "metadata": {},
   "outputs": [
    {
     "data": {
      "text/plain": [
       "0.0"
      ]
     },
     "execution_count": 5,
     "metadata": {},
     "output_type": "execute_result"
    }
   ],
   "source": [
    "df_1.duplicated().mean()"
   ]
  },
  {
   "cell_type": "code",
   "execution_count": 6,
   "metadata": {
    "scrolled": true
   },
   "outputs": [
    {
     "data": {
      "text/plain": [
       "id         0.0\n",
       "f0         0.0\n",
       "f1         0.0\n",
       "f2         0.0\n",
       "product    0.0\n",
       "dtype: float64"
      ]
     },
     "execution_count": 6,
     "metadata": {},
     "output_type": "execute_result"
    }
   ],
   "source": [
    "df_1.isna().mean()*100"
   ]
  },
  {
   "cell_type": "code",
   "execution_count": 7,
   "metadata": {},
   "outputs": [],
   "source": [
    "df_1 = df_1.drop(['id'], axis = 1)"
   ]
  },
  {
   "cell_type": "code",
   "execution_count": 8,
   "metadata": {
    "scrolled": true
   },
   "outputs": [
    {
     "data": {
      "text/html": [
       "<div>\n",
       "<style scoped>\n",
       "    .dataframe tbody tr th:only-of-type {\n",
       "        vertical-align: middle;\n",
       "    }\n",
       "\n",
       "    .dataframe tbody tr th {\n",
       "        vertical-align: top;\n",
       "    }\n",
       "\n",
       "    .dataframe thead th {\n",
       "        text-align: right;\n",
       "    }\n",
       "</style>\n",
       "<table border=\"1\" class=\"dataframe\">\n",
       "  <thead>\n",
       "    <tr style=\"text-align: right;\">\n",
       "      <th></th>\n",
       "      <th>id</th>\n",
       "      <th>f0</th>\n",
       "      <th>f1</th>\n",
       "      <th>f2</th>\n",
       "      <th>product</th>\n",
       "    </tr>\n",
       "  </thead>\n",
       "  <tbody>\n",
       "    <tr>\n",
       "      <th>0</th>\n",
       "      <td>kBEdx</td>\n",
       "      <td>-15.001348</td>\n",
       "      <td>-8.276000</td>\n",
       "      <td>-0.005876</td>\n",
       "      <td>3.179103</td>\n",
       "    </tr>\n",
       "    <tr>\n",
       "      <th>1</th>\n",
       "      <td>62mP7</td>\n",
       "      <td>14.272088</td>\n",
       "      <td>-3.475083</td>\n",
       "      <td>0.999183</td>\n",
       "      <td>26.953261</td>\n",
       "    </tr>\n",
       "    <tr>\n",
       "      <th>2</th>\n",
       "      <td>vyE1P</td>\n",
       "      <td>6.263187</td>\n",
       "      <td>-5.948386</td>\n",
       "      <td>5.001160</td>\n",
       "      <td>134.766305</td>\n",
       "    </tr>\n",
       "    <tr>\n",
       "      <th>3</th>\n",
       "      <td>KcrkZ</td>\n",
       "      <td>-13.081196</td>\n",
       "      <td>-11.506057</td>\n",
       "      <td>4.999415</td>\n",
       "      <td>137.945408</td>\n",
       "    </tr>\n",
       "    <tr>\n",
       "      <th>4</th>\n",
       "      <td>AHL4O</td>\n",
       "      <td>12.702195</td>\n",
       "      <td>-8.147433</td>\n",
       "      <td>5.004363</td>\n",
       "      <td>134.766305</td>\n",
       "    </tr>\n",
       "  </tbody>\n",
       "</table>\n",
       "</div>"
      ],
      "text/plain": [
       "      id         f0         f1        f2     product\n",
       "0  kBEdx -15.001348  -8.276000 -0.005876    3.179103\n",
       "1  62mP7  14.272088  -3.475083  0.999183   26.953261\n",
       "2  vyE1P   6.263187  -5.948386  5.001160  134.766305\n",
       "3  KcrkZ -13.081196 -11.506057  4.999415  137.945408\n",
       "4  AHL4O  12.702195  -8.147433  5.004363  134.766305"
      ]
     },
     "execution_count": 8,
     "metadata": {},
     "output_type": "execute_result"
    }
   ],
   "source": [
    "df_2.head(5)"
   ]
  },
  {
   "cell_type": "code",
   "execution_count": 9,
   "metadata": {
    "scrolled": true
   },
   "outputs": [
    {
     "name": "stdout",
     "output_type": "stream",
     "text": [
      "<class 'pandas.core.frame.DataFrame'>\n",
      "RangeIndex: 100000 entries, 0 to 99999\n",
      "Data columns (total 5 columns):\n",
      " #   Column   Non-Null Count   Dtype  \n",
      "---  ------   --------------   -----  \n",
      " 0   id       100000 non-null  object \n",
      " 1   f0       100000 non-null  float64\n",
      " 2   f1       100000 non-null  float64\n",
      " 3   f2       100000 non-null  float64\n",
      " 4   product  100000 non-null  float64\n",
      "dtypes: float64(4), object(1)\n",
      "memory usage: 3.8+ MB\n"
     ]
    }
   ],
   "source": [
    "df_2.info()"
   ]
  },
  {
   "cell_type": "code",
   "execution_count": 10,
   "metadata": {
    "scrolled": true
   },
   "outputs": [
    {
     "data": {
      "text/plain": [
       "0.0"
      ]
     },
     "execution_count": 10,
     "metadata": {},
     "output_type": "execute_result"
    }
   ],
   "source": [
    "df_2.duplicated().mean()"
   ]
  },
  {
   "cell_type": "code",
   "execution_count": 11,
   "metadata": {
    "scrolled": true
   },
   "outputs": [
    {
     "data": {
      "text/plain": [
       "id         0.0\n",
       "f0         0.0\n",
       "f1         0.0\n",
       "f2         0.0\n",
       "product    0.0\n",
       "dtype: float64"
      ]
     },
     "execution_count": 11,
     "metadata": {},
     "output_type": "execute_result"
    }
   ],
   "source": [
    "df_2.isna().mean()*100"
   ]
  },
  {
   "cell_type": "code",
   "execution_count": 12,
   "metadata": {},
   "outputs": [],
   "source": [
    "df_2 = df_2.drop(['id'], axis = 1)"
   ]
  },
  {
   "cell_type": "code",
   "execution_count": 13,
   "metadata": {},
   "outputs": [
    {
     "data": {
      "text/html": [
       "<div>\n",
       "<style scoped>\n",
       "    .dataframe tbody tr th:only-of-type {\n",
       "        vertical-align: middle;\n",
       "    }\n",
       "\n",
       "    .dataframe tbody tr th {\n",
       "        vertical-align: top;\n",
       "    }\n",
       "\n",
       "    .dataframe thead th {\n",
       "        text-align: right;\n",
       "    }\n",
       "</style>\n",
       "<table border=\"1\" class=\"dataframe\">\n",
       "  <thead>\n",
       "    <tr style=\"text-align: right;\">\n",
       "      <th></th>\n",
       "      <th>id</th>\n",
       "      <th>f0</th>\n",
       "      <th>f1</th>\n",
       "      <th>f2</th>\n",
       "      <th>product</th>\n",
       "    </tr>\n",
       "  </thead>\n",
       "  <tbody>\n",
       "    <tr>\n",
       "      <th>0</th>\n",
       "      <td>fwXo0</td>\n",
       "      <td>-1.146987</td>\n",
       "      <td>0.963328</td>\n",
       "      <td>-0.828965</td>\n",
       "      <td>27.758673</td>\n",
       "    </tr>\n",
       "    <tr>\n",
       "      <th>1</th>\n",
       "      <td>WJtFt</td>\n",
       "      <td>0.262778</td>\n",
       "      <td>0.269839</td>\n",
       "      <td>-2.530187</td>\n",
       "      <td>56.069697</td>\n",
       "    </tr>\n",
       "    <tr>\n",
       "      <th>2</th>\n",
       "      <td>ovLUW</td>\n",
       "      <td>0.194587</td>\n",
       "      <td>0.289035</td>\n",
       "      <td>-5.586433</td>\n",
       "      <td>62.871910</td>\n",
       "    </tr>\n",
       "    <tr>\n",
       "      <th>3</th>\n",
       "      <td>q6cA6</td>\n",
       "      <td>2.236060</td>\n",
       "      <td>-0.553760</td>\n",
       "      <td>0.930038</td>\n",
       "      <td>114.572842</td>\n",
       "    </tr>\n",
       "    <tr>\n",
       "      <th>4</th>\n",
       "      <td>WPMUX</td>\n",
       "      <td>-0.515993</td>\n",
       "      <td>1.716266</td>\n",
       "      <td>5.899011</td>\n",
       "      <td>149.600746</td>\n",
       "    </tr>\n",
       "  </tbody>\n",
       "</table>\n",
       "</div>"
      ],
      "text/plain": [
       "      id        f0        f1        f2     product\n",
       "0  fwXo0 -1.146987  0.963328 -0.828965   27.758673\n",
       "1  WJtFt  0.262778  0.269839 -2.530187   56.069697\n",
       "2  ovLUW  0.194587  0.289035 -5.586433   62.871910\n",
       "3  q6cA6  2.236060 -0.553760  0.930038  114.572842\n",
       "4  WPMUX -0.515993  1.716266  5.899011  149.600746"
      ]
     },
     "execution_count": 13,
     "metadata": {},
     "output_type": "execute_result"
    }
   ],
   "source": [
    "df_3.head(5)"
   ]
  },
  {
   "cell_type": "code",
   "execution_count": 14,
   "metadata": {},
   "outputs": [
    {
     "data": {
      "text/plain": [
       "0.0"
      ]
     },
     "execution_count": 14,
     "metadata": {},
     "output_type": "execute_result"
    }
   ],
   "source": [
    "df_3.duplicated().mean()"
   ]
  },
  {
   "cell_type": "code",
   "execution_count": 15,
   "metadata": {
    "scrolled": true
   },
   "outputs": [
    {
     "data": {
      "text/plain": [
       "id         0.0\n",
       "f0         0.0\n",
       "f1         0.0\n",
       "f2         0.0\n",
       "product    0.0\n",
       "dtype: float64"
      ]
     },
     "execution_count": 15,
     "metadata": {},
     "output_type": "execute_result"
    }
   ],
   "source": [
    "df_3.isna().mean()*100"
   ]
  },
  {
   "cell_type": "code",
   "execution_count": 16,
   "metadata": {},
   "outputs": [],
   "source": [
    "df_3 = df_3.drop(['id'], axis = 1)"
   ]
  },
  {
   "cell_type": "markdown",
   "metadata": {},
   "source": [
    "Данные по регионам чистые, датасеты не обладают дубликатами, пропусками. Столбцы \"id\" были удалены, так как являются уникальными для каждого клиента и будут мешать построению функционирующей модели.\n",
    "___\n",
    "The data by region is clean, the datasets do not have duplicates or gaps. The \"id\" columns have been removed as they are unique to each client and will interfere with building a functioning model."
   ]
  },
  {
   "cell_type": "markdown",
   "metadata": {},
   "source": [
    "## Обучение и проверка модели\n",
    "___\n",
    "## Train and validate the model"
   ]
  },
  {
   "cell_type": "markdown",
   "metadata": {},
   "source": [
    "Выделим признаки и целевые показатели.\n",
    "___\n",
    "Let's highlight the signs and targets."
   ]
  },
  {
   "cell_type": "code",
   "execution_count": 17,
   "metadata": {},
   "outputs": [],
   "source": [
    "features_1 = df_1.drop('product', axis=1)\n",
    "target_1 = df_1['product']"
   ]
  },
  {
   "cell_type": "code",
   "execution_count": 18,
   "metadata": {},
   "outputs": [],
   "source": [
    "features_2 = df_2.drop('product', axis=1)\n",
    "target_2 = df_2['product']"
   ]
  },
  {
   "cell_type": "code",
   "execution_count": 19,
   "metadata": {},
   "outputs": [],
   "source": [
    "features_3 = df_3.drop('product', axis=1)\n",
    "target_3 = df_3['product']"
   ]
  },
  {
   "cell_type": "markdown",
   "metadata": {},
   "source": [
    "Разделим выборки.\n",
    "___\n",
    "Let's split the samples."
   ]
  },
  {
   "cell_type": "code",
   "execution_count": 20,
   "metadata": {},
   "outputs": [],
   "source": [
    "features_train_1, features_valid_1, target_train_1, target_valid_1 = train_test_split(features_1, target_1, test_size=0.25, random_state=12345)"
   ]
  },
  {
   "cell_type": "code",
   "execution_count": 21,
   "metadata": {},
   "outputs": [],
   "source": [
    "features_train_2, features_valid_2, target_train_2, target_valid_2 = train_test_split(features_2, target_2, test_size=0.25, random_state=12345)"
   ]
  },
  {
   "cell_type": "code",
   "execution_count": 22,
   "metadata": {},
   "outputs": [],
   "source": [
    "features_train_3, features_valid_3, target_train_3, target_valid_3 = train_test_split(features_3, target_3, test_size=0.25, random_state=12345)"
   ]
  },
  {
   "cell_type": "markdown",
   "metadata": {},
   "source": [
    "Масштабируем данные для улучшения результата.\n",
    "___\n",
    "We scale the data to improve the result."
   ]
  },
  {
   "cell_type": "code",
   "execution_count": 23,
   "metadata": {
    "scrolled": true
   },
   "outputs": [
    {
     "name": "stderr",
     "output_type": "stream",
     "text": [
      "C:\\Users\\kiril\\anaconda3\\lib\\site-packages\\pandas\\core\\frame.py:3678: SettingWithCopyWarning: \n",
      "A value is trying to be set on a copy of a slice from a DataFrame.\n",
      "Try using .loc[row_indexer,col_indexer] = value instead\n",
      "\n",
      "See the caveats in the documentation: https://pandas.pydata.org/pandas-docs/stable/user_guide/indexing.html#returning-a-view-versus-a-copy\n",
      "  self[col] = igetitem(value, i)\n",
      "C:\\Users\\kiril\\anaconda3\\lib\\site-packages\\pandas\\core\\frame.py:3678: SettingWithCopyWarning: \n",
      "A value is trying to be set on a copy of a slice from a DataFrame.\n",
      "Try using .loc[row_indexer,col_indexer] = value instead\n",
      "\n",
      "See the caveats in the documentation: https://pandas.pydata.org/pandas-docs/stable/user_guide/indexing.html#returning-a-view-versus-a-copy\n",
      "  self[col] = igetitem(value, i)\n"
     ]
    }
   ],
   "source": [
    "numeric = ['f0', 'f1', 'f2']\n",
    "\n",
    "scaler = StandardScaler()\n",
    "scaler.fit(features_train_1[numeric])\n",
    "features_train_1[numeric] = scaler.transform(features_train_1[numeric])\n",
    "features_valid_1[numeric] = scaler.transform(features_valid_1[numeric])   "
   ]
  },
  {
   "cell_type": "code",
   "execution_count": 24,
   "metadata": {},
   "outputs": [
    {
     "name": "stderr",
     "output_type": "stream",
     "text": [
      "C:\\Users\\kiril\\anaconda3\\lib\\site-packages\\pandas\\core\\frame.py:3678: SettingWithCopyWarning: \n",
      "A value is trying to be set on a copy of a slice from a DataFrame.\n",
      "Try using .loc[row_indexer,col_indexer] = value instead\n",
      "\n",
      "See the caveats in the documentation: https://pandas.pydata.org/pandas-docs/stable/user_guide/indexing.html#returning-a-view-versus-a-copy\n",
      "  self[col] = igetitem(value, i)\n",
      "C:\\Users\\kiril\\anaconda3\\lib\\site-packages\\pandas\\core\\frame.py:3678: SettingWithCopyWarning: \n",
      "A value is trying to be set on a copy of a slice from a DataFrame.\n",
      "Try using .loc[row_indexer,col_indexer] = value instead\n",
      "\n",
      "See the caveats in the documentation: https://pandas.pydata.org/pandas-docs/stable/user_guide/indexing.html#returning-a-view-versus-a-copy\n",
      "  self[col] = igetitem(value, i)\n"
     ]
    }
   ],
   "source": [
    "numeric = ['f0', 'f1', 'f2']\n",
    "\n",
    "scaler = StandardScaler()\n",
    "scaler.fit(features_train_2[numeric])\n",
    "features_train_2[numeric] = scaler.transform(features_train_2[numeric])\n",
    "features_valid_2[numeric] = scaler.transform(features_valid_2[numeric])   "
   ]
  },
  {
   "cell_type": "code",
   "execution_count": 25,
   "metadata": {
    "scrolled": true
   },
   "outputs": [
    {
     "name": "stderr",
     "output_type": "stream",
     "text": [
      "C:\\Users\\kiril\\anaconda3\\lib\\site-packages\\pandas\\core\\frame.py:3678: SettingWithCopyWarning: \n",
      "A value is trying to be set on a copy of a slice from a DataFrame.\n",
      "Try using .loc[row_indexer,col_indexer] = value instead\n",
      "\n",
      "See the caveats in the documentation: https://pandas.pydata.org/pandas-docs/stable/user_guide/indexing.html#returning-a-view-versus-a-copy\n",
      "  self[col] = igetitem(value, i)\n",
      "C:\\Users\\kiril\\anaconda3\\lib\\site-packages\\pandas\\core\\frame.py:3678: SettingWithCopyWarning: \n",
      "A value is trying to be set on a copy of a slice from a DataFrame.\n",
      "Try using .loc[row_indexer,col_indexer] = value instead\n",
      "\n",
      "See the caveats in the documentation: https://pandas.pydata.org/pandas-docs/stable/user_guide/indexing.html#returning-a-view-versus-a-copy\n",
      "  self[col] = igetitem(value, i)\n"
     ]
    }
   ],
   "source": [
    "numeric = ['f0', 'f1', 'f2']\n",
    "\n",
    "scaler = StandardScaler()\n",
    "scaler.fit(features_train_3[numeric])\n",
    "features_train_3[numeric] = scaler.transform(features_train_3[numeric])\n",
    "features_valid_3[numeric] = scaler.transform(features_valid_3[numeric])   "
   ]
  },
  {
   "cell_type": "markdown",
   "metadata": {},
   "source": [
    "Создадим функцию для упрощения задачи.\n",
    "___\n",
    "Let's create a function to simplify the task."
   ]
  },
  {
   "cell_type": "code",
   "execution_count": 26,
   "metadata": {},
   "outputs": [],
   "source": [
    "def lin_reg(features_train, target_train, features_valid):\n",
    "    model = LinearRegression()\n",
    "    model.fit(features_train, target_train)\n",
    "    predictions_valid = model.predict(features_valid)\n",
    "    return predictions_valid"
   ]
  },
  {
   "cell_type": "code",
   "execution_count": 27,
   "metadata": {},
   "outputs": [],
   "source": [
    "predictions_valid_1 = lin_reg(features_train_1, target_train_1, features_valid_1)"
   ]
  },
  {
   "cell_type": "code",
   "execution_count": 28,
   "metadata": {},
   "outputs": [],
   "source": [
    "predictions_valid_2 = lin_reg(features_train_2, target_train_2, features_valid_2)"
   ]
  },
  {
   "cell_type": "code",
   "execution_count": 29,
   "metadata": {},
   "outputs": [],
   "source": [
    "predictions_valid_3 = lin_reg(features_train_3, target_train_3, features_valid_3)"
   ]
  },
  {
   "cell_type": "code",
   "execution_count": 30,
   "metadata": {},
   "outputs": [
    {
     "data": {
      "text/plain": [
       "92.59256778438035"
      ]
     },
     "execution_count": 30,
     "metadata": {},
     "output_type": "execute_result"
    }
   ],
   "source": [
    "predictions_valid_1.mean()"
   ]
  },
  {
   "cell_type": "code",
   "execution_count": 31,
   "metadata": {},
   "outputs": [
    {
     "data": {
      "text/plain": [
       "68.728546895446"
      ]
     },
     "execution_count": 31,
     "metadata": {},
     "output_type": "execute_result"
    }
   ],
   "source": [
    "predictions_valid_2.mean()"
   ]
  },
  {
   "cell_type": "code",
   "execution_count": 32,
   "metadata": {},
   "outputs": [
    {
     "data": {
      "text/plain": [
       "94.96504596800489"
      ]
     },
     "execution_count": 32,
     "metadata": {},
     "output_type": "execute_result"
    }
   ],
   "source": [
    "predictions_valid_3.mean()"
   ]
  },
  {
   "cell_type": "code",
   "execution_count": 33,
   "metadata": {},
   "outputs": [
    {
     "data": {
      "text/plain": [
       "92.07859674082941"
      ]
     },
     "execution_count": 33,
     "metadata": {},
     "output_type": "execute_result"
    }
   ],
   "source": [
    "target_valid_1.mean()"
   ]
  },
  {
   "cell_type": "code",
   "execution_count": 34,
   "metadata": {},
   "outputs": [
    {
     "data": {
      "text/plain": [
       "68.72313602437494"
      ]
     },
     "execution_count": 34,
     "metadata": {},
     "output_type": "execute_result"
    }
   ],
   "source": [
    "target_valid_2.mean()"
   ]
  },
  {
   "cell_type": "code",
   "execution_count": 35,
   "metadata": {},
   "outputs": [
    {
     "data": {
      "text/plain": [
       "94.88423280885489"
      ]
     },
     "execution_count": 35,
     "metadata": {},
     "output_type": "execute_result"
    }
   ],
   "source": [
    "target_valid_3.mean()"
   ]
  },
  {
   "cell_type": "code",
   "execution_count": 36,
   "metadata": {
    "scrolled": true
   },
   "outputs": [
    {
     "name": "stdout",
     "output_type": "stream",
     "text": [
      "RMSE модели 1: 37.5794217150813\n"
     ]
    }
   ],
   "source": [
    "rmse_1 = mean_squared_error(target_valid_1, predictions_valid_1)**0.5\n",
    "print(\"RMSE модели 1:\", rmse_1)"
   ]
  },
  {
   "cell_type": "code",
   "execution_count": 37,
   "metadata": {},
   "outputs": [
    {
     "name": "stdout",
     "output_type": "stream",
     "text": [
      "RMSE модели 2: 0.8930992867756168\n"
     ]
    }
   ],
   "source": [
    "rmse_2 = mean_squared_error(target_valid_2, predictions_valid_2)**0.5\n",
    "print(\"RMSE модели 2:\", rmse_2)"
   ]
  },
  {
   "cell_type": "code",
   "execution_count": 38,
   "metadata": {},
   "outputs": [
    {
     "name": "stdout",
     "output_type": "stream",
     "text": [
      "RMSE модели 3: 40.02970873393434\n"
     ]
    }
   ],
   "source": [
    "rmse_3 = mean_squared_error(target_valid_3, predictions_valid_3)**0.5\n",
    "print(\"RMSE модели 3:\", rmse_3)"
   ]
  },
  {
   "cell_type": "code",
   "execution_count": 39,
   "metadata": {
    "scrolled": true
   },
   "outputs": [
    {
     "data": {
      "text/html": [
       "<div>\n",
       "<style scoped>\n",
       "    .dataframe tbody tr th:only-of-type {\n",
       "        vertical-align: middle;\n",
       "    }\n",
       "\n",
       "    .dataframe tbody tr th {\n",
       "        vertical-align: top;\n",
       "    }\n",
       "\n",
       "    .dataframe thead th {\n",
       "        text-align: right;\n",
       "    }\n",
       "</style>\n",
       "<table border=\"1\" class=\"dataframe\">\n",
       "  <thead>\n",
       "    <tr style=\"text-align: right;\">\n",
       "      <th></th>\n",
       "      <th>stock_predicted</th>\n",
       "      <th>stock</th>\n",
       "      <th>rmse</th>\n",
       "    </tr>\n",
       "  </thead>\n",
       "  <tbody>\n",
       "    <tr>\n",
       "      <th>region_1</th>\n",
       "      <td>92.592568</td>\n",
       "      <td>92.078597</td>\n",
       "      <td>37.579422</td>\n",
       "    </tr>\n",
       "    <tr>\n",
       "      <th>region_2</th>\n",
       "      <td>68.728547</td>\n",
       "      <td>68.723136</td>\n",
       "      <td>0.893099</td>\n",
       "    </tr>\n",
       "    <tr>\n",
       "      <th>region_3</th>\n",
       "      <td>94.965046</td>\n",
       "      <td>94.884233</td>\n",
       "      <td>40.029709</td>\n",
       "    </tr>\n",
       "  </tbody>\n",
       "</table>\n",
       "</div>"
      ],
      "text/plain": [
       "          stock_predicted      stock       rmse\n",
       "region_1        92.592568  92.078597  37.579422\n",
       "region_2        68.728547  68.723136   0.893099\n",
       "region_3        94.965046  94.884233  40.029709"
      ]
     },
     "metadata": {},
     "output_type": "display_data"
    }
   ],
   "source": [
    "table = [[predictions_valid_1.mean(), target_valid_1.mean(), rmse_1],\n",
    "        [predictions_valid_2.mean(), target_valid_2.mean(), rmse_2],\n",
    "        [predictions_valid_3.mean(), target_valid_3.mean(), rmse_3]]\n",
    "columns = ['stock_predicted', 'stock', 'rmse']\n",
    "index = ['region_1', 'region_2', 'region_3'] \n",
    "table_1 = pd.DataFrame(table, index, columns) \n",
    "display(table_1)"
   ]
  },
  {
   "cell_type": "markdown",
   "metadata": {},
   "source": [
    "Среди двух регионов можно выделить 2 наиболее перспективных: 1 и 3.\n",
    "___\n",
    "Among the two regions, 2 most promising can be distinguished: 1 and 3."
   ]
  },
  {
   "cell_type": "markdown",
   "metadata": {},
   "source": [
    "## Подготовка к расчёту прибыли\n",
    "___\n",
    "## Preparation for profit calculation"
   ]
  },
  {
   "cell_type": "code",
   "execution_count": 40,
   "metadata": {},
   "outputs": [],
   "source": [
    "BAR_1K = 450000\n",
    "BUDGET = 10000000000\n",
    "OILER_COUNT = 200\n",
    "NO_LOSS_STOCK_VOL = BUDGET/OILER_COUNT/BAR_1K"
   ]
  },
  {
   "cell_type": "code",
   "execution_count": 41,
   "metadata": {
    "scrolled": true
   },
   "outputs": [
    {
     "name": "stdout",
     "output_type": "stream",
     "text": [
      "Достаточный объём сырья для безубыточной разработки новой скважины: 111.11111111111111\n"
     ]
    }
   ],
   "source": [
    "print(\"Достаточный объём сырья для безубыточной разработки новой скважины:\", NO_LOSS_STOCK_VOL)"
   ]
  },
  {
   "cell_type": "code",
   "execution_count": 42,
   "metadata": {},
   "outputs": [
    {
     "data": {
      "text/html": [
       "<div>\n",
       "<style scoped>\n",
       "    .dataframe tbody tr th:only-of-type {\n",
       "        vertical-align: middle;\n",
       "    }\n",
       "\n",
       "    .dataframe tbody tr th {\n",
       "        vertical-align: top;\n",
       "    }\n",
       "\n",
       "    .dataframe thead th {\n",
       "        text-align: right;\n",
       "    }\n",
       "</style>\n",
       "<table border=\"1\" class=\"dataframe\">\n",
       "  <thead>\n",
       "    <tr style=\"text-align: right;\">\n",
       "      <th></th>\n",
       "      <th>stock</th>\n",
       "      <th>no_loss_stock_vol</th>\n",
       "    </tr>\n",
       "  </thead>\n",
       "  <tbody>\n",
       "    <tr>\n",
       "      <th>region_1</th>\n",
       "      <td>92.500</td>\n",
       "      <td>111.111111</td>\n",
       "    </tr>\n",
       "    <tr>\n",
       "      <th>region_2</th>\n",
       "      <td>68.825</td>\n",
       "      <td>111.111111</td>\n",
       "    </tr>\n",
       "    <tr>\n",
       "      <th>region_3</th>\n",
       "      <td>95.000</td>\n",
       "      <td>111.111111</td>\n",
       "    </tr>\n",
       "  </tbody>\n",
       "</table>\n",
       "</div>"
      ],
      "text/plain": [
       "           stock  no_loss_stock_vol\n",
       "region_1  92.500         111.111111\n",
       "region_2  68.825         111.111111\n",
       "region_3  95.000         111.111111"
      ]
     },
     "metadata": {},
     "output_type": "display_data"
    }
   ],
   "source": [
    "table = [[df_1['product'].mean(), NO_LOSS_STOCK_VOL],\n",
    "        [df_2['product'].mean(), NO_LOSS_STOCK_VOL],\n",
    "        [df_3['product'].mean(), NO_LOSS_STOCK_VOL]]\n",
    "columns = ['stock', 'no_loss_stock_vol']\n",
    "index = ['region_1', 'region_2', 'region_3'] \n",
    "table_2 = pd.DataFrame(table, index, columns) \n",
    "display(table_2)"
   ]
  },
  {
   "cell_type": "markdown",
   "metadata": {},
   "source": [
    "Средние данные опять лучше в 1 и 3 регионах.\n",
    "___\n",
    "The average data is again better in regions 1 and 3."
   ]
  },
  {
   "cell_type": "markdown",
   "metadata": {},
   "source": [
    "## Расчёт прибыли и рисков \n",
    "___\n",
    "## Profit and Risk Calculation"
   ]
  },
  {
   "cell_type": "code",
   "execution_count": 43,
   "metadata": {},
   "outputs": [],
   "source": [
    "def calc(target, predicted, count):\n",
    "    predicted_200 = predicted.sort_values(ascending=False)\n",
    "    target_200 = target[predicted_200.index][:count]\n",
    "    income = target_200.sum() * BAR_1K - BUDGET\n",
    "    return income"
   ]
  },
  {
   "cell_type": "code",
   "execution_count": 44,
   "metadata": {},
   "outputs": [],
   "source": [
    "COUNT = 200"
   ]
  },
  {
   "cell_type": "code",
   "execution_count": 45,
   "metadata": {},
   "outputs": [],
   "source": [
    "state = RandomState(12345) "
   ]
  },
  {
   "cell_type": "code",
   "execution_count": 46,
   "metadata": {},
   "outputs": [
    {
     "name": "stdout",
     "output_type": "stream",
     "text": [
      "Средняя прибыль: 425.93852691059203\n",
      "2,5% квантиль: -102090094.83793654\n",
      "97,5% квантиль: 947976353.3583689\n",
      "Риск убытков: 6.0 %\n"
     ]
    }
   ],
   "source": [
    "target_1_b = pd.Series(target_valid_1).reset_index(drop=True)\n",
    "predict_1_b = pd.Series(predictions_valid_1).reset_index(drop=True)\n",
    "values_1 = []\n",
    "for i in range(1000):\n",
    "    target_sub = target_1_b.sample(n=500, replace=True, random_state=state)\n",
    "    predictions_sub = predict_1_b[target_sub.index]\n",
    "    income_choice = calc(target_sub, predictions_sub, COUNT)\n",
    "    values_1.append(income_choice)    \n",
    "    value_1 = pd.Series(values_1)\n",
    "    harm_risk_1 = (value_1[value_1 < 0].count()/value_1.count())*100\n",
    "    mean_1 = value_1.mean()\n",
    "    lower_1 = value_1.quantile(0.025)\n",
    "    high_1 = value_1.quantile(0.975)\n",
    "    \n",
    "\n",
    "    \n",
    "\n",
    "print('Средняя прибыль:', mean_1/1000000)\n",
    "print('2,5% квантиль:', lower_1)\n",
    "print('97,5% квантиль:', high_1)\n",
    "print('Риск убытков:', harm_risk_1,\"%\")"
   ]
  },
  {
   "cell_type": "code",
   "execution_count": 47,
   "metadata": {},
   "outputs": [
    {
     "name": "stdout",
     "output_type": "stream",
     "text": [
      "Средняя прибыль: 518.2594936973251\n",
      "2,5% квантиль: 128123231.43308444\n",
      "97,5% квантиль: 953612982.0669085\n",
      "Риск убытков: 0.3 %\n"
     ]
    }
   ],
   "source": [
    "target_2_b = pd.Series(target_valid_2).reset_index(drop=True)\n",
    "predict_2_b = pd.Series(predictions_valid_2).reset_index(drop=True)\n",
    "values_2 = []\n",
    "for i in range(1000):\n",
    "    target_sub = target_2_b.sample(n=500, replace=True, random_state=state)\n",
    "    predictions_sub = predict_2_b[target_sub.index]\n",
    "    income_choice = calc(target_sub, predictions_sub, COUNT)\n",
    "    values_2.append(income_choice)    \n",
    "    value_2 = pd.Series(values_2)\n",
    "    harm_risk_2 = (value_2[value_2 < 0].count()/value_2.count())*100\n",
    "    mean_2 = value_2.mean()\n",
    "    lower_2 = value_2.quantile(0.025)\n",
    "    high_2 = value_2.quantile(0.975)\n",
    "\n",
    "print('Средняя прибыль:', mean_2/1000000)\n",
    "print('2,5% квантиль:', lower_2)\n",
    "print('97,5% квантиль:', high_2)\n",
    "print('Риск убытков:', harm_risk_2,\"%\")"
   ]
  },
  {
   "cell_type": "code",
   "execution_count": 48,
   "metadata": {},
   "outputs": [
    {
     "name": "stdout",
     "output_type": "stream",
     "text": [
      "Средняя прибыль: 420.19400534404986\n",
      "2,5% квантиль: -115852609.16001143\n",
      "97,5% квантиль: 989629939.8445739\n",
      "Риск убытков: 6.2 %\n"
     ]
    }
   ],
   "source": [
    "target_3_b = pd.Series(target_valid_3).reset_index(drop=True)\n",
    "predict_3_b = pd.Series(predictions_valid_3).reset_index(drop=True)\n",
    "values_3 = []\n",
    "for i in range(1000):\n",
    "    target_sub = target_3_b.sample(n=500, replace=True, random_state=state)\n",
    "    predictions_sub = predict_3_b[target_sub.index]\n",
    "    income_choice = calc(target_sub, predictions_sub, COUNT)\n",
    "    values_3.append(income_choice)    \n",
    "    value_3 = pd.Series(values_3)\n",
    "    harm_risk_3 = (value_3[value_3 < 0].count()/value_3.count())*100\n",
    "    mean_3 = value_3.mean()\n",
    "    lower_3 = value_3.quantile(0.025)\n",
    "    high_3 = value_3.quantile(0.975)\n",
    "\n",
    "print('Средняя прибыль:', mean_3/1000000)\n",
    "print('2,5% квантиль:', lower_3)\n",
    "print('97,5% квантиль:', high_3)\n",
    "print('Риск убытков:', harm_risk_3,\"%\")"
   ]
  },
  {
   "cell_type": "code",
   "execution_count": 49,
   "metadata": {
    "scrolled": true
   },
   "outputs": [
    {
     "data": {
      "text/html": [
       "<div>\n",
       "<style scoped>\n",
       "    .dataframe tbody tr th:only-of-type {\n",
       "        vertical-align: middle;\n",
       "    }\n",
       "\n",
       "    .dataframe tbody tr th {\n",
       "        vertical-align: top;\n",
       "    }\n",
       "\n",
       "    .dataframe thead th {\n",
       "        text-align: right;\n",
       "    }\n",
       "</style>\n",
       "<table border=\"1\" class=\"dataframe\">\n",
       "  <thead>\n",
       "    <tr style=\"text-align: right;\">\n",
       "      <th></th>\n",
       "      <th>Средняя прибыль</th>\n",
       "      <th>2,5% квантиль</th>\n",
       "      <th>97,5% квантиль</th>\n",
       "      <th>Риск убытков</th>\n",
       "    </tr>\n",
       "  </thead>\n",
       "  <tbody>\n",
       "    <tr>\n",
       "      <th>region_1</th>\n",
       "      <td>4.259385e+08</td>\n",
       "      <td>-1.020901e+08</td>\n",
       "      <td>9.479764e+08</td>\n",
       "      <td>6.0</td>\n",
       "    </tr>\n",
       "    <tr>\n",
       "      <th>region_2</th>\n",
       "      <td>5.182595e+08</td>\n",
       "      <td>1.281232e+08</td>\n",
       "      <td>9.536130e+08</td>\n",
       "      <td>0.3</td>\n",
       "    </tr>\n",
       "    <tr>\n",
       "      <th>region_3</th>\n",
       "      <td>4.201940e+08</td>\n",
       "      <td>-1.158526e+08</td>\n",
       "      <td>9.896299e+08</td>\n",
       "      <td>6.2</td>\n",
       "    </tr>\n",
       "  </tbody>\n",
       "</table>\n",
       "</div>"
      ],
      "text/plain": [
       "          Средняя прибыль  2,5% квантиль  97,5% квантиль  Риск убытков\n",
       "region_1     4.259385e+08  -1.020901e+08    9.479764e+08           6.0\n",
       "region_2     5.182595e+08   1.281232e+08    9.536130e+08           0.3\n",
       "region_3     4.201940e+08  -1.158526e+08    9.896299e+08           6.2"
      ]
     },
     "metadata": {},
     "output_type": "display_data"
    }
   ],
   "source": [
    "table = [[mean_1, lower_1, high_1, harm_risk_1],\n",
    "        [mean_2, lower_2, high_2, harm_risk_2],\n",
    "        [mean_3, lower_3, high_3, harm_risk_3]]\n",
    "columns = ['Средняя прибыль', '2,5% квантиль', '97,5% квантиль', 'Риск убытков']\n",
    "index = ['region_1', 'region_2', 'region_3'] \n",
    "table_2 = pd.DataFrame(table, index, columns) \n",
    "display(table_2)"
   ]
  },
  {
   "cell_type": "markdown",
   "metadata": {},
   "source": [
    "Вывод - наиболее перспективен регион под номером 2, так как его разработка обнаруживает минимальный риск (0.3%) и потенциальная средняя прибыль наиболее высока (518.2595). Два других региона обладают одинаково высоким уровнем риска убытков.\n",
    "___\n",
    "Conclusion - the region number 2 is the most promising, since its development reveals the minimum risk (0.3%) and the potential average profit is the highest (518.2595). The other two regions have an equally high risk of loss."
   ]
  }
 ],
 "metadata": {
  "ExecuteTimeLog": [
   {
    "duration": 1544,
    "start_time": "2022-07-16T17:41:03.584Z"
   },
   {
    "duration": 740,
    "start_time": "2022-07-16T17:43:15.458Z"
   },
   {
    "duration": 18,
    "start_time": "2022-07-16T17:43:45.266Z"
   },
   {
    "duration": 29,
    "start_time": "2022-07-16T17:44:00.258Z"
   },
   {
    "duration": 34,
    "start_time": "2022-07-16T17:44:07.014Z"
   },
   {
    "duration": 47,
    "start_time": "2022-07-16T17:44:15.980Z"
   },
   {
    "duration": 21,
    "start_time": "2022-07-16T17:44:18.763Z"
   },
   {
    "duration": 30,
    "start_time": "2022-07-16T17:44:44.755Z"
   },
   {
    "duration": 9,
    "start_time": "2022-07-16T17:44:54.988Z"
   },
   {
    "duration": 16,
    "start_time": "2022-07-16T17:45:02.373Z"
   },
   {
    "duration": 10,
    "start_time": "2022-07-16T17:45:08.120Z"
   },
   {
    "duration": 10,
    "start_time": "2022-07-16T17:45:13.126Z"
   },
   {
    "duration": 47,
    "start_time": "2022-07-16T17:45:37.974Z"
   },
   {
    "duration": 66,
    "start_time": "2022-07-16T17:45:43.728Z"
   },
   {
    "duration": 14,
    "start_time": "2022-07-16T17:45:47.707Z"
   },
   {
    "duration": 354,
    "start_time": "2022-07-16T17:46:35.310Z"
   },
   {
    "duration": 10,
    "start_time": "2022-07-16T17:47:03.082Z"
   },
   {
    "duration": 14,
    "start_time": "2022-07-16T17:47:13.961Z"
   },
   {
    "duration": 42,
    "start_time": "2022-07-16T17:47:32.989Z"
   },
   {
    "duration": 11,
    "start_time": "2022-07-16T17:47:47.768Z"
   },
   {
    "duration": 9,
    "start_time": "2022-07-16T17:48:02.363Z"
   },
   {
    "duration": 349,
    "start_time": "2022-07-16T17:48:07.699Z"
   },
   {
    "duration": 10,
    "start_time": "2022-07-16T17:49:20.753Z"
   },
   {
    "duration": 44,
    "start_time": "2022-07-16T17:49:34.830Z"
   },
   {
    "duration": 9,
    "start_time": "2022-07-16T17:49:47.025Z"
   },
   {
    "duration": 6,
    "start_time": "2022-07-16T17:55:18.898Z"
   },
   {
    "duration": 10,
    "start_time": "2022-07-16T17:55:24.062Z"
   },
   {
    "duration": 6,
    "start_time": "2022-07-16T17:55:38.888Z"
   },
   {
    "duration": 6,
    "start_time": "2022-07-16T17:55:49.266Z"
   },
   {
    "duration": 100,
    "start_time": "2022-07-16T18:09:40.594Z"
   },
   {
    "duration": 26,
    "start_time": "2022-07-16T18:09:51.361Z"
   },
   {
    "duration": 5,
    "start_time": "2022-07-16T18:14:07.585Z"
   },
   {
    "duration": 32,
    "start_time": "2022-07-16T18:15:05.444Z"
   },
   {
    "duration": 16,
    "start_time": "2022-07-16T18:15:47.373Z"
   },
   {
    "duration": 5,
    "start_time": "2022-07-16T18:16:14.885Z"
   },
   {
    "duration": 24,
    "start_time": "2022-07-16T18:18:03.934Z"
   },
   {
    "duration": 23,
    "start_time": "2022-07-16T18:18:31.518Z"
   },
   {
    "duration": 46,
    "start_time": "2022-07-16T18:19:23.733Z"
   },
   {
    "duration": 1567,
    "start_time": "2022-07-18T13:59:05.859Z"
   },
   {
    "duration": 782,
    "start_time": "2022-07-18T13:59:07.428Z"
   },
   {
    "duration": 15,
    "start_time": "2022-07-18T13:59:08.212Z"
   },
   {
    "duration": 16,
    "start_time": "2022-07-18T13:59:08.229Z"
   },
   {
    "duration": 47,
    "start_time": "2022-07-18T13:59:08.247Z"
   },
   {
    "duration": 27,
    "start_time": "2022-07-18T13:59:08.296Z"
   },
   {
    "duration": 7,
    "start_time": "2022-07-18T13:59:08.325Z"
   },
   {
    "duration": 26,
    "start_time": "2022-07-18T13:59:08.334Z"
   },
   {
    "duration": 34,
    "start_time": "2022-07-18T13:59:08.362Z"
   },
   {
    "duration": 46,
    "start_time": "2022-07-18T13:59:08.397Z"
   },
   {
    "duration": 11,
    "start_time": "2022-07-18T13:59:08.445Z"
   },
   {
    "duration": 9,
    "start_time": "2022-07-18T13:59:08.458Z"
   },
   {
    "duration": 16,
    "start_time": "2022-07-18T13:59:08.468Z"
   },
   {
    "duration": 60,
    "start_time": "2022-07-18T13:59:08.488Z"
   },
   {
    "duration": 12,
    "start_time": "2022-07-18T13:59:08.550Z"
   },
   {
    "duration": 13,
    "start_time": "2022-07-18T13:59:08.563Z"
   },
   {
    "duration": 9,
    "start_time": "2022-07-18T13:59:08.577Z"
   },
   {
    "duration": 20,
    "start_time": "2022-07-18T13:59:08.587Z"
   },
   {
    "duration": 15,
    "start_time": "2022-07-18T13:59:08.609Z"
   },
   {
    "duration": 29,
    "start_time": "2022-07-18T13:59:08.626Z"
   },
   {
    "duration": 3,
    "start_time": "2022-07-18T13:59:11.780Z"
   },
   {
    "duration": 113,
    "start_time": "2022-07-18T14:01:04.762Z"
   },
   {
    "duration": 4,
    "start_time": "2022-07-18T14:01:56.255Z"
   },
   {
    "duration": 16,
    "start_time": "2022-07-18T14:01:58.302Z"
   },
   {
    "duration": 5,
    "start_time": "2022-07-18T14:02:22.871Z"
   },
   {
    "duration": 454,
    "start_time": "2022-07-18T14:02:22.878Z"
   },
   {
    "duration": 11,
    "start_time": "2022-07-18T14:02:23.334Z"
   },
   {
    "duration": 29,
    "start_time": "2022-07-18T14:02:23.347Z"
   },
   {
    "duration": 67,
    "start_time": "2022-07-18T14:02:23.379Z"
   },
   {
    "duration": 10,
    "start_time": "2022-07-18T14:02:23.447Z"
   },
   {
    "duration": 12,
    "start_time": "2022-07-18T14:02:23.459Z"
   },
   {
    "duration": 18,
    "start_time": "2022-07-18T14:02:23.473Z"
   },
   {
    "duration": 29,
    "start_time": "2022-07-18T14:02:23.493Z"
   },
   {
    "duration": 49,
    "start_time": "2022-07-18T14:02:23.524Z"
   },
   {
    "duration": 10,
    "start_time": "2022-07-18T14:02:23.575Z"
   },
   {
    "duration": 7,
    "start_time": "2022-07-18T14:02:23.587Z"
   },
   {
    "duration": 38,
    "start_time": "2022-07-18T14:02:23.596Z"
   },
   {
    "duration": 62,
    "start_time": "2022-07-18T14:02:23.637Z"
   },
   {
    "duration": 10,
    "start_time": "2022-07-18T14:02:23.701Z"
   },
   {
    "duration": 13,
    "start_time": "2022-07-18T14:02:23.713Z"
   },
   {
    "duration": 17,
    "start_time": "2022-07-18T14:02:23.728Z"
   },
   {
    "duration": 19,
    "start_time": "2022-07-18T14:02:23.747Z"
   },
   {
    "duration": 5,
    "start_time": "2022-07-18T14:02:23.767Z"
   },
   {
    "duration": 26,
    "start_time": "2022-07-18T14:02:23.774Z"
   },
   {
    "duration": 3,
    "start_time": "2022-07-18T14:02:25.369Z"
   },
   {
    "duration": 4,
    "start_time": "2022-07-18T14:02:28.434Z"
   },
   {
    "duration": 78,
    "start_time": "2022-07-18T14:02:29.746Z"
   },
   {
    "duration": 4,
    "start_time": "2022-07-18T14:04:10.544Z"
   },
   {
    "duration": 9,
    "start_time": "2022-07-18T14:04:48.482Z"
   },
   {
    "duration": 3,
    "start_time": "2022-07-18T14:05:06.713Z"
   },
   {
    "duration": 15,
    "start_time": "2022-07-18T14:05:13.201Z"
   },
   {
    "duration": 4,
    "start_time": "2022-07-18T14:05:14.633Z"
   },
   {
    "duration": 4,
    "start_time": "2022-07-18T14:05:16.681Z"
   },
   {
    "duration": 5,
    "start_time": "2022-07-18T14:05:25.922Z"
   },
   {
    "duration": 5,
    "start_time": "2022-07-18T14:06:07.088Z"
   },
   {
    "duration": 5,
    "start_time": "2022-07-18T14:14:39.670Z"
   },
   {
    "duration": 3,
    "start_time": "2022-07-18T14:14:46.191Z"
   },
   {
    "duration": 11,
    "start_time": "2022-07-18T14:14:46.542Z"
   },
   {
    "duration": 4,
    "start_time": "2022-07-18T14:14:46.789Z"
   },
   {
    "duration": 5,
    "start_time": "2022-07-18T14:14:46.974Z"
   },
   {
    "duration": 5,
    "start_time": "2022-07-18T14:14:47.394Z"
   },
   {
    "duration": 4,
    "start_time": "2022-07-18T14:15:04.115Z"
   },
   {
    "duration": 4,
    "start_time": "2022-07-18T14:15:05.823Z"
   },
   {
    "duration": 5,
    "start_time": "2022-07-18T14:15:11.078Z"
   },
   {
    "duration": 5,
    "start_time": "2022-07-18T14:26:09.794Z"
   },
   {
    "duration": 425,
    "start_time": "2022-07-18T14:26:09.801Z"
   },
   {
    "duration": 10,
    "start_time": "2022-07-18T14:26:10.228Z"
   },
   {
    "duration": 21,
    "start_time": "2022-07-18T14:26:10.240Z"
   },
   {
    "duration": 73,
    "start_time": "2022-07-18T14:26:10.263Z"
   },
   {
    "duration": 17,
    "start_time": "2022-07-18T14:26:10.338Z"
   },
   {
    "duration": 6,
    "start_time": "2022-07-18T14:26:10.358Z"
   },
   {
    "duration": 23,
    "start_time": "2022-07-18T14:26:10.366Z"
   },
   {
    "duration": 49,
    "start_time": "2022-07-18T14:26:10.391Z"
   },
   {
    "duration": 58,
    "start_time": "2022-07-18T14:26:10.442Z"
   },
   {
    "duration": 30,
    "start_time": "2022-07-18T14:26:10.501Z"
   },
   {
    "duration": 6,
    "start_time": "2022-07-18T14:26:10.533Z"
   },
   {
    "duration": 23,
    "start_time": "2022-07-18T14:26:10.540Z"
   },
   {
    "duration": 67,
    "start_time": "2022-07-18T14:26:10.566Z"
   },
   {
    "duration": 12,
    "start_time": "2022-07-18T14:26:10.634Z"
   },
   {
    "duration": 12,
    "start_time": "2022-07-18T14:26:10.647Z"
   },
   {
    "duration": 11,
    "start_time": "2022-07-18T14:26:10.661Z"
   },
   {
    "duration": 20,
    "start_time": "2022-07-18T14:26:10.674Z"
   },
   {
    "duration": 10,
    "start_time": "2022-07-18T14:26:10.696Z"
   },
   {
    "duration": 27,
    "start_time": "2022-07-18T14:26:10.707Z"
   },
   {
    "duration": 15,
    "start_time": "2022-07-18T14:26:10.735Z"
   },
   {
    "duration": 19,
    "start_time": "2022-07-18T14:26:10.752Z"
   },
   {
    "duration": 20,
    "start_time": "2022-07-18T14:26:10.773Z"
   },
   {
    "duration": 41,
    "start_time": "2022-07-18T14:26:10.795Z"
   },
   {
    "duration": 27,
    "start_time": "2022-07-18T14:26:10.838Z"
   },
   {
    "duration": 3,
    "start_time": "2022-07-18T14:26:10.867Z"
   },
   {
    "duration": 60,
    "start_time": "2022-07-18T14:26:10.871Z"
   },
   {
    "duration": 105,
    "start_time": "2022-07-18T14:26:10.934Z"
   },
   {
    "duration": 185,
    "start_time": "2022-07-18T14:26:11.041Z"
   },
   {
    "duration": 197,
    "start_time": "2022-07-18T14:26:11.230Z"
   },
   {
    "duration": 10,
    "start_time": "2022-07-18T14:26:11.430Z"
   },
   {
    "duration": 8,
    "start_time": "2022-07-18T14:26:11.442Z"
   },
   {
    "duration": 9,
    "start_time": "2022-07-18T14:26:11.452Z"
   },
   {
    "duration": 16,
    "start_time": "2022-07-18T14:26:11.464Z"
   },
   {
    "duration": 16,
    "start_time": "2022-07-18T14:26:11.483Z"
   },
   {
    "duration": 30,
    "start_time": "2022-07-18T14:26:11.501Z"
   },
   {
    "duration": 10,
    "start_time": "2022-07-18T14:26:11.533Z"
   },
   {
    "duration": 15,
    "start_time": "2022-07-18T14:26:11.545Z"
   },
   {
    "duration": 13,
    "start_time": "2022-07-18T14:26:13.880Z"
   },
   {
    "duration": 18,
    "start_time": "2022-07-18T14:26:38.657Z"
   },
   {
    "duration": 12,
    "start_time": "2022-07-18T14:31:21.675Z"
   },
   {
    "duration": 3,
    "start_time": "2022-07-18T14:40:59.497Z"
   },
   {
    "duration": 4,
    "start_time": "2022-07-18T14:41:24.731Z"
   },
   {
    "duration": 12,
    "start_time": "2022-07-18T14:41:53.119Z"
   },
   {
    "duration": 3,
    "start_time": "2022-07-18T14:41:56.368Z"
   },
   {
    "duration": 5,
    "start_time": "2022-07-18T14:45:37.897Z"
   },
   {
    "duration": 3,
    "start_time": "2022-07-18T14:46:50.409Z"
   },
   {
    "duration": 6,
    "start_time": "2022-07-18T14:49:47.893Z"
   },
   {
    "duration": 3,
    "start_time": "2022-07-18T14:50:38.317Z"
   },
   {
    "duration": 5,
    "start_time": "2022-07-18T14:50:41.125Z"
   },
   {
    "duration": 6,
    "start_time": "2022-07-18T14:50:47.647Z"
   },
   {
    "duration": 48,
    "start_time": "2022-07-18T14:51:19.685Z"
   },
   {
    "duration": 4,
    "start_time": "2022-07-18T14:51:25.860Z"
   },
   {
    "duration": 11,
    "start_time": "2022-07-18T14:51:42.821Z"
   },
   {
    "duration": 5,
    "start_time": "2022-07-18T14:53:17.628Z"
   },
   {
    "duration": 5,
    "start_time": "2022-07-18T15:04:47.342Z"
   },
   {
    "duration": 6,
    "start_time": "2022-07-18T15:05:24.637Z"
   },
   {
    "duration": 52,
    "start_time": "2022-07-18T17:04:20.723Z"
   },
   {
    "duration": 12,
    "start_time": "2022-07-18T17:04:46.000Z"
   },
   {
    "duration": 1646,
    "start_time": "2022-07-18T17:04:52.398Z"
   },
   {
    "duration": 1792,
    "start_time": "2022-07-18T17:04:54.046Z"
   },
   {
    "duration": 13,
    "start_time": "2022-07-18T17:04:55.840Z"
   },
   {
    "duration": 14,
    "start_time": "2022-07-18T17:04:55.854Z"
   },
   {
    "duration": 55,
    "start_time": "2022-07-18T17:04:55.870Z"
   },
   {
    "duration": 10,
    "start_time": "2022-07-18T17:04:55.927Z"
   },
   {
    "duration": 16,
    "start_time": "2022-07-18T17:04:55.939Z"
   },
   {
    "duration": 49,
    "start_time": "2022-07-18T17:04:55.957Z"
   },
   {
    "duration": 15,
    "start_time": "2022-07-18T17:04:56.008Z"
   },
   {
    "duration": 53,
    "start_time": "2022-07-18T17:04:56.025Z"
   },
   {
    "duration": 29,
    "start_time": "2022-07-18T17:04:56.080Z"
   },
   {
    "duration": 15,
    "start_time": "2022-07-18T17:04:56.112Z"
   },
   {
    "duration": 16,
    "start_time": "2022-07-18T17:04:56.129Z"
   },
   {
    "duration": 76,
    "start_time": "2022-07-18T17:04:56.148Z"
   },
   {
    "duration": 10,
    "start_time": "2022-07-18T17:04:56.226Z"
   },
   {
    "duration": 17,
    "start_time": "2022-07-18T17:04:56.238Z"
   },
   {
    "duration": 26,
    "start_time": "2022-07-18T17:04:56.257Z"
   },
   {
    "duration": 14,
    "start_time": "2022-07-18T17:04:56.285Z"
   },
   {
    "duration": 20,
    "start_time": "2022-07-18T17:04:56.301Z"
   },
   {
    "duration": 22,
    "start_time": "2022-07-18T17:04:56.324Z"
   },
   {
    "duration": 16,
    "start_time": "2022-07-18T17:04:56.347Z"
   },
   {
    "duration": 17,
    "start_time": "2022-07-18T17:04:56.364Z"
   },
   {
    "duration": 48,
    "start_time": "2022-07-18T17:04:56.382Z"
   },
   {
    "duration": 19,
    "start_time": "2022-07-18T17:04:56.432Z"
   },
   {
    "duration": 24,
    "start_time": "2022-07-18T17:04:56.452Z"
   },
   {
    "duration": 4,
    "start_time": "2022-07-18T17:04:56.477Z"
   },
   {
    "duration": 222,
    "start_time": "2022-07-18T17:04:56.482Z"
   },
   {
    "duration": 107,
    "start_time": "2022-07-18T17:04:56.706Z"
   },
   {
    "duration": 105,
    "start_time": "2022-07-18T17:04:56.815Z"
   },
   {
    "duration": 10,
    "start_time": "2022-07-18T17:04:56.923Z"
   },
   {
    "duration": 102,
    "start_time": "2022-07-18T17:04:57.009Z"
   },
   {
    "duration": 11,
    "start_time": "2022-07-18T17:04:57.113Z"
   },
   {
    "duration": 11,
    "start_time": "2022-07-18T17:04:57.127Z"
   },
   {
    "duration": 6,
    "start_time": "2022-07-18T17:04:57.140Z"
   },
   {
    "duration": 15,
    "start_time": "2022-07-18T17:04:57.148Z"
   },
   {
    "duration": 8,
    "start_time": "2022-07-18T17:04:57.165Z"
   },
   {
    "duration": 6,
    "start_time": "2022-07-18T17:04:57.174Z"
   },
   {
    "duration": 25,
    "start_time": "2022-07-18T17:04:57.181Z"
   },
   {
    "duration": 16,
    "start_time": "2022-07-18T17:04:57.209Z"
   },
   {
    "duration": 3,
    "start_time": "2022-07-18T17:04:57.226Z"
   },
   {
    "duration": 12,
    "start_time": "2022-07-18T17:04:57.233Z"
   },
   {
    "duration": 14,
    "start_time": "2022-07-18T17:04:57.246Z"
   },
   {
    "duration": 4,
    "start_time": "2022-07-18T17:04:57.261Z"
   },
   {
    "duration": 9,
    "start_time": "2022-07-18T17:04:57.266Z"
   },
   {
    "duration": 84,
    "start_time": "2022-07-18T17:04:58.289Z"
   },
   {
    "duration": 4,
    "start_time": "2022-07-18T17:05:42.480Z"
   },
   {
    "duration": 404,
    "start_time": "2022-07-18T17:05:42.486Z"
   },
   {
    "duration": 13,
    "start_time": "2022-07-18T17:05:42.892Z"
   },
   {
    "duration": 28,
    "start_time": "2022-07-18T17:05:42.907Z"
   },
   {
    "duration": 43,
    "start_time": "2022-07-18T17:05:42.937Z"
   },
   {
    "duration": 26,
    "start_time": "2022-07-18T17:05:42.982Z"
   },
   {
    "duration": 7,
    "start_time": "2022-07-18T17:05:43.010Z"
   },
   {
    "duration": 20,
    "start_time": "2022-07-18T17:05:43.019Z"
   },
   {
    "duration": 15,
    "start_time": "2022-07-18T17:05:43.041Z"
   },
   {
    "duration": 65,
    "start_time": "2022-07-18T17:05:43.057Z"
   },
   {
    "duration": 9,
    "start_time": "2022-07-18T17:05:43.125Z"
   },
   {
    "duration": 13,
    "start_time": "2022-07-18T17:05:43.136Z"
   },
   {
    "duration": 15,
    "start_time": "2022-07-18T17:05:43.151Z"
   },
   {
    "duration": 58,
    "start_time": "2022-07-18T17:05:43.168Z"
   },
   {
    "duration": 10,
    "start_time": "2022-07-18T17:05:43.229Z"
   },
   {
    "duration": 6,
    "start_time": "2022-07-18T17:05:43.241Z"
   },
   {
    "duration": 7,
    "start_time": "2022-07-18T17:05:43.249Z"
   },
   {
    "duration": 7,
    "start_time": "2022-07-18T17:05:43.258Z"
   },
   {
    "duration": 8,
    "start_time": "2022-07-18T17:05:43.266Z"
   },
   {
    "duration": 42,
    "start_time": "2022-07-18T17:05:43.275Z"
   },
   {
    "duration": 20,
    "start_time": "2022-07-18T17:05:43.320Z"
   },
   {
    "duration": 14,
    "start_time": "2022-07-18T17:05:43.342Z"
   },
   {
    "duration": 18,
    "start_time": "2022-07-18T17:05:43.358Z"
   },
   {
    "duration": 48,
    "start_time": "2022-07-18T17:05:43.378Z"
   },
   {
    "duration": 20,
    "start_time": "2022-07-18T17:05:43.429Z"
   },
   {
    "duration": 3,
    "start_time": "2022-07-18T17:05:43.451Z"
   },
   {
    "duration": 16,
    "start_time": "2022-07-18T17:05:43.455Z"
   },
   {
    "duration": 17,
    "start_time": "2022-07-18T17:05:43.605Z"
   },
   {
    "duration": 86,
    "start_time": "2022-07-18T17:05:43.627Z"
   },
   {
    "duration": 87,
    "start_time": "2022-07-18T17:05:43.716Z"
   },
   {
    "duration": 103,
    "start_time": "2022-07-18T17:05:43.806Z"
   },
   {
    "duration": 16,
    "start_time": "2022-07-18T17:05:43.911Z"
   },
   {
    "duration": 6,
    "start_time": "2022-07-18T17:05:43.929Z"
   },
   {
    "duration": 11,
    "start_time": "2022-07-18T17:05:43.936Z"
   },
   {
    "duration": 5,
    "start_time": "2022-07-18T17:05:43.949Z"
   },
   {
    "duration": 12,
    "start_time": "2022-07-18T17:05:43.956Z"
   },
   {
    "duration": 6,
    "start_time": "2022-07-18T17:05:43.970Z"
   },
   {
    "duration": 5,
    "start_time": "2022-07-18T17:05:43.978Z"
   },
   {
    "duration": 29,
    "start_time": "2022-07-18T17:05:43.984Z"
   },
   {
    "duration": 9,
    "start_time": "2022-07-18T17:05:44.015Z"
   },
   {
    "duration": 6,
    "start_time": "2022-07-18T17:05:44.026Z"
   },
   {
    "duration": 17,
    "start_time": "2022-07-18T17:05:44.034Z"
   },
   {
    "duration": 4,
    "start_time": "2022-07-18T17:05:44.053Z"
   },
   {
    "duration": 6,
    "start_time": "2022-07-18T17:05:44.059Z"
   },
   {
    "duration": 14,
    "start_time": "2022-07-18T17:05:44.066Z"
   },
   {
    "duration": 19,
    "start_time": "2022-07-18T17:06:15.211Z"
   },
   {
    "duration": 20,
    "start_time": "2022-07-18T17:06:34.899Z"
   },
   {
    "duration": 10,
    "start_time": "2022-07-18T17:06:45.840Z"
   },
   {
    "duration": 11,
    "start_time": "2022-07-18T17:07:00.389Z"
   },
   {
    "duration": 11,
    "start_time": "2022-07-18T17:07:34.547Z"
   },
   {
    "duration": 11,
    "start_time": "2022-07-18T17:08:02.853Z"
   },
   {
    "duration": 10,
    "start_time": "2022-07-18T17:30:39.565Z"
   },
   {
    "duration": 10,
    "start_time": "2022-07-18T17:35:16.357Z"
   },
   {
    "duration": 9,
    "start_time": "2022-07-18T17:35:42.370Z"
   },
   {
    "duration": 4,
    "start_time": "2022-07-18T17:35:56.019Z"
   },
   {
    "duration": 4,
    "start_time": "2022-07-18T17:36:05.161Z"
   },
   {
    "duration": 391,
    "start_time": "2022-07-18T17:36:05.167Z"
   },
   {
    "duration": 10,
    "start_time": "2022-07-18T17:36:05.560Z"
   },
   {
    "duration": 18,
    "start_time": "2022-07-18T17:36:05.571Z"
   },
   {
    "duration": 59,
    "start_time": "2022-07-18T17:36:05.591Z"
   },
   {
    "duration": 10,
    "start_time": "2022-07-18T17:36:05.651Z"
   },
   {
    "duration": 7,
    "start_time": "2022-07-18T17:36:05.663Z"
   },
   {
    "duration": 32,
    "start_time": "2022-07-18T17:36:05.672Z"
   },
   {
    "duration": 16,
    "start_time": "2022-07-18T17:36:05.706Z"
   },
   {
    "duration": 39,
    "start_time": "2022-07-18T17:36:05.723Z"
   },
   {
    "duration": 9,
    "start_time": "2022-07-18T17:36:05.765Z"
   },
   {
    "duration": 29,
    "start_time": "2022-07-18T17:36:05.775Z"
   },
   {
    "duration": 14,
    "start_time": "2022-07-18T17:36:05.806Z"
   },
   {
    "duration": 46,
    "start_time": "2022-07-18T17:36:05.822Z"
   },
   {
    "duration": 9,
    "start_time": "2022-07-18T17:36:05.869Z"
   },
   {
    "duration": 24,
    "start_time": "2022-07-18T17:36:05.880Z"
   },
   {
    "duration": 5,
    "start_time": "2022-07-18T17:36:05.906Z"
   },
   {
    "duration": 12,
    "start_time": "2022-07-18T17:36:05.912Z"
   },
   {
    "duration": 13,
    "start_time": "2022-07-18T17:36:05.925Z"
   },
   {
    "duration": 20,
    "start_time": "2022-07-18T17:36:05.940Z"
   },
   {
    "duration": 15,
    "start_time": "2022-07-18T17:36:05.961Z"
   },
   {
    "duration": 15,
    "start_time": "2022-07-18T17:36:05.977Z"
   },
   {
    "duration": 35,
    "start_time": "2022-07-18T17:36:05.994Z"
   },
   {
    "duration": 21,
    "start_time": "2022-07-18T17:36:06.031Z"
   },
   {
    "duration": 18,
    "start_time": "2022-07-18T17:36:06.054Z"
   },
   {
    "duration": 31,
    "start_time": "2022-07-18T17:36:06.074Z"
   },
   {
    "duration": 16,
    "start_time": "2022-07-18T17:36:06.106Z"
   },
   {
    "duration": 93,
    "start_time": "2022-07-18T17:36:06.124Z"
   },
   {
    "duration": 98,
    "start_time": "2022-07-18T17:36:06.306Z"
   },
   {
    "duration": 103,
    "start_time": "2022-07-18T17:36:06.407Z"
   },
   {
    "duration": 8,
    "start_time": "2022-07-18T17:36:06.511Z"
   },
   {
    "duration": 11,
    "start_time": "2022-07-18T17:36:06.521Z"
   },
   {
    "duration": 10,
    "start_time": "2022-07-18T17:36:06.534Z"
   },
   {
    "duration": 15,
    "start_time": "2022-07-18T17:36:06.545Z"
   },
   {
    "duration": 13,
    "start_time": "2022-07-18T17:36:06.562Z"
   },
   {
    "duration": 10,
    "start_time": "2022-07-18T17:36:06.577Z"
   },
   {
    "duration": 16,
    "start_time": "2022-07-18T17:36:06.589Z"
   },
   {
    "duration": 12,
    "start_time": "2022-07-18T17:36:06.607Z"
   },
   {
    "duration": 19,
    "start_time": "2022-07-18T17:36:06.621Z"
   },
   {
    "duration": 4,
    "start_time": "2022-07-18T17:36:06.642Z"
   },
   {
    "duration": 14,
    "start_time": "2022-07-18T17:36:06.648Z"
   },
   {
    "duration": 22,
    "start_time": "2022-07-18T17:36:06.664Z"
   },
   {
    "duration": 5,
    "start_time": "2022-07-18T17:36:06.703Z"
   },
   {
    "duration": 3,
    "start_time": "2022-07-18T17:36:08.975Z"
   },
   {
    "duration": 11,
    "start_time": "2022-07-18T17:36:10.913Z"
   },
   {
    "duration": 12,
    "start_time": "2022-07-18T17:36:28.899Z"
   },
   {
    "duration": 11,
    "start_time": "2022-07-18T17:37:11.656Z"
   },
   {
    "duration": 3,
    "start_time": "2022-07-18T17:43:15.305Z"
   },
   {
    "duration": 3,
    "start_time": "2022-07-18T17:43:19.879Z"
   },
   {
    "duration": 11,
    "start_time": "2022-07-18T17:43:21.821Z"
   },
   {
    "duration": 11,
    "start_time": "2022-07-18T17:44:46.999Z"
   },
   {
    "duration": 11,
    "start_time": "2022-07-18T17:45:04.481Z"
   },
   {
    "duration": 12,
    "start_time": "2022-07-18T17:45:08.179Z"
   },
   {
    "duration": 13,
    "start_time": "2022-07-18T17:45:08.884Z"
   },
   {
    "duration": 3,
    "start_time": "2022-07-18T17:48:31.371Z"
   },
   {
    "duration": 3,
    "start_time": "2022-07-18T17:48:34.103Z"
   },
   {
    "duration": 18,
    "start_time": "2022-07-18T17:48:36.769Z"
   },
   {
    "duration": 4,
    "start_time": "2022-07-18T17:48:54.382Z"
   },
   {
    "duration": 17,
    "start_time": "2022-07-18T17:48:56.563Z"
   },
   {
    "duration": 14,
    "start_time": "2022-07-18T17:49:10.177Z"
   },
   {
    "duration": 13,
    "start_time": "2022-07-18T17:49:23.522Z"
   },
   {
    "duration": 18,
    "start_time": "2022-07-18T17:49:30.044Z"
   },
   {
    "duration": 3,
    "start_time": "2022-07-18T17:50:46.324Z"
   },
   {
    "duration": 3,
    "start_time": "2022-07-18T17:50:47.634Z"
   },
   {
    "duration": 19,
    "start_time": "2022-07-18T17:50:48.882Z"
   },
   {
    "duration": 4,
    "start_time": "2022-07-18T17:51:14.929Z"
   },
   {
    "duration": 17,
    "start_time": "2022-07-18T17:51:17.616Z"
   },
   {
    "duration": 3,
    "start_time": "2022-07-18T17:52:03.086Z"
   },
   {
    "duration": 18,
    "start_time": "2022-07-18T17:52:04.842Z"
   },
   {
    "duration": 1065,
    "start_time": "2022-07-18T17:58:02.907Z"
   },
   {
    "duration": 17,
    "start_time": "2022-07-18T17:58:21.111Z"
   },
   {
    "duration": 1247,
    "start_time": "2022-07-18T17:58:50.173Z"
   },
   {
    "duration": 2583,
    "start_time": "2022-07-18T17:59:58.362Z"
   },
   {
    "duration": 13,
    "start_time": "2022-07-18T18:01:53.661Z"
   },
   {
    "duration": 2448,
    "start_time": "2022-07-18T18:02:03.062Z"
   },
   {
    "duration": 2127,
    "start_time": "2022-07-18T18:03:36.592Z"
   },
   {
    "duration": 3,
    "start_time": "2022-07-18T18:05:22.267Z"
   },
   {
    "duration": 4,
    "start_time": "2022-07-18T18:05:24.463Z"
   },
   {
    "duration": 2470,
    "start_time": "2022-07-18T18:05:25.669Z"
   },
   {
    "duration": 2244,
    "start_time": "2022-07-18T18:06:04.655Z"
   },
   {
    "duration": 1478,
    "start_time": "2022-07-18T18:51:30.829Z"
   },
   {
    "duration": 382,
    "start_time": "2022-07-18T18:51:32.309Z"
   },
   {
    "duration": 17,
    "start_time": "2022-07-18T18:51:32.693Z"
   },
   {
    "duration": 14,
    "start_time": "2022-07-18T18:51:32.713Z"
   },
   {
    "duration": 49,
    "start_time": "2022-07-18T18:51:32.729Z"
   },
   {
    "duration": 34,
    "start_time": "2022-07-18T18:51:32.779Z"
   },
   {
    "duration": 6,
    "start_time": "2022-07-18T18:51:32.815Z"
   },
   {
    "duration": 12,
    "start_time": "2022-07-18T18:51:32.823Z"
   },
   {
    "duration": 17,
    "start_time": "2022-07-18T18:51:32.837Z"
   },
   {
    "duration": 73,
    "start_time": "2022-07-18T18:51:32.858Z"
   },
   {
    "duration": 12,
    "start_time": "2022-07-18T18:51:32.933Z"
   },
   {
    "duration": 6,
    "start_time": "2022-07-18T18:51:32.947Z"
   },
   {
    "duration": 13,
    "start_time": "2022-07-18T18:51:32.954Z"
   },
   {
    "duration": 78,
    "start_time": "2022-07-18T18:51:32.969Z"
   },
   {
    "duration": 9,
    "start_time": "2022-07-18T18:51:33.048Z"
   },
   {
    "duration": 10,
    "start_time": "2022-07-18T18:51:33.059Z"
   },
   {
    "duration": 24,
    "start_time": "2022-07-18T18:51:33.071Z"
   },
   {
    "duration": 16,
    "start_time": "2022-07-18T18:51:33.096Z"
   },
   {
    "duration": 12,
    "start_time": "2022-07-18T18:51:33.114Z"
   },
   {
    "duration": 26,
    "start_time": "2022-07-18T18:51:33.128Z"
   },
   {
    "duration": 17,
    "start_time": "2022-07-18T18:51:33.156Z"
   },
   {
    "duration": 17,
    "start_time": "2022-07-18T18:51:33.174Z"
   },
   {
    "duration": 32,
    "start_time": "2022-07-18T18:51:33.193Z"
   },
   {
    "duration": 22,
    "start_time": "2022-07-18T18:51:33.227Z"
   },
   {
    "duration": 22,
    "start_time": "2022-07-18T18:51:33.250Z"
   },
   {
    "duration": 3,
    "start_time": "2022-07-18T18:51:33.274Z"
   },
   {
    "duration": 43,
    "start_time": "2022-07-18T18:51:33.278Z"
   },
   {
    "duration": 181,
    "start_time": "2022-07-18T18:51:33.324Z"
   },
   {
    "duration": 103,
    "start_time": "2022-07-18T18:51:33.507Z"
   },
   {
    "duration": 4,
    "start_time": "2022-07-18T18:51:33.612Z"
   },
   {
    "duration": 187,
    "start_time": "2022-07-18T18:51:33.618Z"
   },
   {
    "duration": 5,
    "start_time": "2022-07-18T18:51:33.806Z"
   },
   {
    "duration": 7,
    "start_time": "2022-07-18T18:51:33.812Z"
   },
   {
    "duration": 6,
    "start_time": "2022-07-18T18:51:33.820Z"
   },
   {
    "duration": 6,
    "start_time": "2022-07-18T18:51:33.828Z"
   },
   {
    "duration": 7,
    "start_time": "2022-07-18T18:51:33.836Z"
   },
   {
    "duration": 5,
    "start_time": "2022-07-18T18:51:33.845Z"
   },
   {
    "duration": 9,
    "start_time": "2022-07-18T18:51:33.852Z"
   },
   {
    "duration": 43,
    "start_time": "2022-07-18T18:51:33.862Z"
   },
   {
    "duration": 2,
    "start_time": "2022-07-18T18:51:33.907Z"
   },
   {
    "duration": 7,
    "start_time": "2022-07-18T18:51:33.911Z"
   },
   {
    "duration": 11,
    "start_time": "2022-07-18T18:51:33.920Z"
   },
   {
    "duration": 4,
    "start_time": "2022-07-18T18:51:33.933Z"
   },
   {
    "duration": 6,
    "start_time": "2022-07-18T18:51:33.938Z"
   },
   {
    "duration": 2175,
    "start_time": "2022-07-18T18:51:33.945Z"
   },
   {
    "duration": 1139,
    "start_time": "2022-07-18T18:51:36.122Z"
   },
   {
    "duration": 1237,
    "start_time": "2022-07-18T18:53:28.344Z"
   },
   {
    "duration": 1118,
    "start_time": "2022-07-18T18:53:35.849Z"
   },
   {
    "duration": 1029,
    "start_time": "2022-07-18T18:54:02.593Z"
   },
   {
    "duration": 1060,
    "start_time": "2022-07-18T18:54:07.598Z"
   },
   {
    "duration": 1047,
    "start_time": "2022-07-18T18:54:28.221Z"
   },
   {
    "duration": 4,
    "start_time": "2022-07-18T18:55:52.909Z"
   },
   {
    "duration": 1072,
    "start_time": "2022-07-18T18:55:57.939Z"
   },
   {
    "duration": 1041,
    "start_time": "2022-07-18T18:56:07.014Z"
   },
   {
    "duration": 1119,
    "start_time": "2022-07-18T18:56:15.561Z"
   },
   {
    "duration": 3,
    "start_time": "2022-07-18T18:57:09.145Z"
   },
   {
    "duration": 1080,
    "start_time": "2022-07-18T18:57:12.976Z"
   },
   {
    "duration": 4,
    "start_time": "2022-07-18T18:57:50.553Z"
   },
   {
    "duration": 1127,
    "start_time": "2022-07-18T18:57:52.906Z"
   },
   {
    "duration": 24,
    "start_time": "2022-07-18T18:58:01.327Z"
   },
   {
    "duration": 22,
    "start_time": "2022-07-18T18:58:35.998Z"
   },
   {
    "duration": 1054,
    "start_time": "2022-07-18T18:58:56.729Z"
   },
   {
    "duration": 1045,
    "start_time": "2022-07-18T18:59:03.845Z"
   },
   {
    "duration": 1014,
    "start_time": "2022-07-18T18:59:15.022Z"
   },
   {
    "duration": 1053,
    "start_time": "2022-07-18T18:59:21.477Z"
   },
   {
    "duration": 19,
    "start_time": "2022-07-18T18:59:38.695Z"
   },
   {
    "duration": 18,
    "start_time": "2022-07-18T18:59:50.678Z"
   },
   {
    "duration": 1235,
    "start_time": "2022-07-18T19:00:22.470Z"
   },
   {
    "duration": 15,
    "start_time": "2022-07-18T19:00:33.346Z"
   },
   {
    "duration": 1379,
    "start_time": "2022-07-18T19:00:39.570Z"
   },
   {
    "duration": 2060,
    "start_time": "2022-07-18T19:00:57.398Z"
   },
   {
    "duration": 2278,
    "start_time": "2022-07-18T19:01:25.509Z"
   },
   {
    "duration": 2289,
    "start_time": "2022-07-18T19:02:10.242Z"
   },
   {
    "duration": 2216,
    "start_time": "2022-07-18T19:02:44.842Z"
   },
   {
    "duration": 2324,
    "start_time": "2022-07-18T19:03:15.144Z"
   },
   {
    "duration": 10,
    "start_time": "2022-07-18T19:06:15.465Z"
   },
   {
    "duration": 4,
    "start_time": "2022-07-18T19:08:44.230Z"
   },
   {
    "duration": 368,
    "start_time": "2022-07-18T19:08:44.236Z"
   },
   {
    "duration": 10,
    "start_time": "2022-07-18T19:08:44.606Z"
   },
   {
    "duration": 19,
    "start_time": "2022-07-18T19:08:44.618Z"
   },
   {
    "duration": 71,
    "start_time": "2022-07-18T19:08:44.639Z"
   },
   {
    "duration": 12,
    "start_time": "2022-07-18T19:08:44.712Z"
   },
   {
    "duration": 5,
    "start_time": "2022-07-18T19:08:44.726Z"
   },
   {
    "duration": 16,
    "start_time": "2022-07-18T19:08:44.732Z"
   },
   {
    "duration": 17,
    "start_time": "2022-07-18T19:08:44.751Z"
   },
   {
    "duration": 72,
    "start_time": "2022-07-18T19:08:44.770Z"
   },
   {
    "duration": 10,
    "start_time": "2022-07-18T19:08:44.844Z"
   },
   {
    "duration": 7,
    "start_time": "2022-07-18T19:08:44.856Z"
   },
   {
    "duration": 40,
    "start_time": "2022-07-18T19:08:44.865Z"
   },
   {
    "duration": 55,
    "start_time": "2022-07-18T19:08:44.907Z"
   },
   {
    "duration": 12,
    "start_time": "2022-07-18T19:08:44.963Z"
   },
   {
    "duration": 27,
    "start_time": "2022-07-18T19:08:44.977Z"
   },
   {
    "duration": 18,
    "start_time": "2022-07-18T19:08:45.006Z"
   },
   {
    "duration": 13,
    "start_time": "2022-07-18T19:08:45.026Z"
   },
   {
    "duration": 15,
    "start_time": "2022-07-18T19:08:45.041Z"
   },
   {
    "duration": 19,
    "start_time": "2022-07-18T19:08:45.058Z"
   },
   {
    "duration": 18,
    "start_time": "2022-07-18T19:08:45.079Z"
   },
   {
    "duration": 18,
    "start_time": "2022-07-18T19:08:45.106Z"
   },
   {
    "duration": 21,
    "start_time": "2022-07-18T19:08:45.126Z"
   },
   {
    "duration": 28,
    "start_time": "2022-07-18T19:08:45.153Z"
   },
   {
    "duration": 20,
    "start_time": "2022-07-18T19:08:45.205Z"
   },
   {
    "duration": 4,
    "start_time": "2022-07-18T19:08:45.227Z"
   },
   {
    "duration": 17,
    "start_time": "2022-07-18T19:08:45.232Z"
   },
   {
    "duration": 63,
    "start_time": "2022-07-18T19:08:45.250Z"
   },
   {
    "duration": 211,
    "start_time": "2022-07-18T19:08:45.315Z"
   },
   {
    "duration": 180,
    "start_time": "2022-07-18T19:08:45.527Z"
   },
   {
    "duration": 11,
    "start_time": "2022-07-18T19:08:45.708Z"
   },
   {
    "duration": 11,
    "start_time": "2022-07-18T19:08:45.720Z"
   },
   {
    "duration": 7,
    "start_time": "2022-07-18T19:08:45.732Z"
   },
   {
    "duration": 11,
    "start_time": "2022-07-18T19:08:45.741Z"
   },
   {
    "duration": 7,
    "start_time": "2022-07-18T19:08:45.754Z"
   },
   {
    "duration": 6,
    "start_time": "2022-07-18T19:08:45.763Z"
   },
   {
    "duration": 35,
    "start_time": "2022-07-18T19:08:45.771Z"
   },
   {
    "duration": 10,
    "start_time": "2022-07-18T19:08:45.808Z"
   },
   {
    "duration": 18,
    "start_time": "2022-07-18T19:08:45.820Z"
   },
   {
    "duration": 4,
    "start_time": "2022-07-18T19:08:45.840Z"
   },
   {
    "duration": 7,
    "start_time": "2022-07-18T19:08:45.846Z"
   },
   {
    "duration": 13,
    "start_time": "2022-07-18T19:08:45.855Z"
   },
   {
    "duration": 3,
    "start_time": "2022-07-18T19:08:45.871Z"
   },
   {
    "duration": 3,
    "start_time": "2022-07-18T19:08:45.905Z"
   },
   {
    "duration": 2252,
    "start_time": "2022-07-18T19:08:45.909Z"
   },
   {
    "duration": 2197,
    "start_time": "2022-07-18T19:08:48.163Z"
   },
   {
    "duration": 2196,
    "start_time": "2022-07-18T19:08:50.361Z"
   },
   {
    "duration": 12,
    "start_time": "2022-07-18T19:08:52.559Z"
   },
   {
    "duration": 3,
    "start_time": "2022-07-18T19:11:00.937Z"
   },
   {
    "duration": 3,
    "start_time": "2022-07-18T19:11:06.065Z"
   },
   {
    "duration": 3,
    "start_time": "2022-07-18T19:11:12.469Z"
   },
   {
    "duration": 4,
    "start_time": "2022-07-18T19:11:13.834Z"
   },
   {
    "duration": 1576,
    "start_time": "2022-07-18T19:14:36.080Z"
   },
   {
    "duration": 438,
    "start_time": "2022-07-18T19:14:37.660Z"
   },
   {
    "duration": 20,
    "start_time": "2022-07-18T19:14:38.100Z"
   },
   {
    "duration": 22,
    "start_time": "2022-07-18T19:14:38.123Z"
   },
   {
    "duration": 96,
    "start_time": "2022-07-18T19:14:38.147Z"
   },
   {
    "duration": 12,
    "start_time": "2022-07-18T19:14:38.245Z"
   },
   {
    "duration": 7,
    "start_time": "2022-07-18T19:14:38.259Z"
   },
   {
    "duration": 35,
    "start_time": "2022-07-18T19:14:38.268Z"
   },
   {
    "duration": 19,
    "start_time": "2022-07-18T19:14:38.305Z"
   },
   {
    "duration": 77,
    "start_time": "2022-07-18T19:14:38.327Z"
   },
   {
    "duration": 11,
    "start_time": "2022-07-18T19:14:38.406Z"
   },
   {
    "duration": 8,
    "start_time": "2022-07-18T19:14:38.418Z"
   },
   {
    "duration": 18,
    "start_time": "2022-07-18T19:14:38.427Z"
   },
   {
    "duration": 81,
    "start_time": "2022-07-18T19:14:38.447Z"
   },
   {
    "duration": 11,
    "start_time": "2022-07-18T19:14:38.530Z"
   },
   {
    "duration": 6,
    "start_time": "2022-07-18T19:14:38.543Z"
   },
   {
    "duration": 9,
    "start_time": "2022-07-18T19:14:38.551Z"
   },
   {
    "duration": 8,
    "start_time": "2022-07-18T19:14:38.561Z"
   },
   {
    "duration": 33,
    "start_time": "2022-07-18T19:14:38.571Z"
   },
   {
    "duration": 24,
    "start_time": "2022-07-18T19:14:38.606Z"
   },
   {
    "duration": 21,
    "start_time": "2022-07-18T19:14:38.632Z"
   },
   {
    "duration": 21,
    "start_time": "2022-07-18T19:14:38.655Z"
   },
   {
    "duration": 52,
    "start_time": "2022-07-18T19:14:38.679Z"
   },
   {
    "duration": 28,
    "start_time": "2022-07-18T19:14:38.733Z"
   },
   {
    "duration": 53,
    "start_time": "2022-07-18T19:14:38.763Z"
   },
   {
    "duration": 3,
    "start_time": "2022-07-18T19:14:38.818Z"
   },
   {
    "duration": 22,
    "start_time": "2022-07-18T19:14:38.823Z"
   },
   {
    "duration": 158,
    "start_time": "2022-07-18T19:14:38.850Z"
   },
   {
    "duration": 99,
    "start_time": "2022-07-18T19:14:39.011Z"
   },
   {
    "duration": 94,
    "start_time": "2022-07-18T19:14:39.113Z"
   },
   {
    "duration": 96,
    "start_time": "2022-07-18T19:14:39.209Z"
   },
   {
    "duration": 6,
    "start_time": "2022-07-18T19:14:39.307Z"
   },
   {
    "duration": 8,
    "start_time": "2022-07-18T19:14:39.315Z"
   },
   {
    "duration": 9,
    "start_time": "2022-07-18T19:14:39.325Z"
   },
   {
    "duration": 6,
    "start_time": "2022-07-18T19:14:39.336Z"
   },
   {
    "duration": 9,
    "start_time": "2022-07-18T19:14:39.344Z"
   },
   {
    "duration": 9,
    "start_time": "2022-07-18T19:14:39.355Z"
   },
   {
    "duration": 7,
    "start_time": "2022-07-18T19:14:39.366Z"
   },
   {
    "duration": 12,
    "start_time": "2022-07-18T19:14:39.404Z"
   },
   {
    "duration": 3,
    "start_time": "2022-07-18T19:14:39.418Z"
   },
   {
    "duration": 12,
    "start_time": "2022-07-18T19:14:39.423Z"
   },
   {
    "duration": 16,
    "start_time": "2022-07-18T19:14:39.437Z"
   },
   {
    "duration": 3,
    "start_time": "2022-07-18T19:14:39.455Z"
   },
   {
    "duration": 14,
    "start_time": "2022-07-18T19:14:39.460Z"
   },
   {
    "duration": 2386,
    "start_time": "2022-07-18T19:14:39.475Z"
   },
   {
    "duration": 2282,
    "start_time": "2022-07-18T19:14:41.863Z"
   },
   {
    "duration": 2360,
    "start_time": "2022-07-18T19:14:44.148Z"
   },
   {
    "duration": 14,
    "start_time": "2022-07-18T19:14:46.511Z"
   },
   {
    "duration": 1710,
    "start_time": "2022-07-20T07:56:24.207Z"
   },
   {
    "duration": 822,
    "start_time": "2022-07-20T07:56:25.919Z"
   },
   {
    "duration": 12,
    "start_time": "2022-07-20T07:56:26.743Z"
   },
   {
    "duration": 19,
    "start_time": "2022-07-20T07:56:26.757Z"
   },
   {
    "duration": 67,
    "start_time": "2022-07-20T07:56:26.780Z"
   },
   {
    "duration": 10,
    "start_time": "2022-07-20T07:56:26.849Z"
   },
   {
    "duration": 23,
    "start_time": "2022-07-20T07:56:26.861Z"
   },
   {
    "duration": 20,
    "start_time": "2022-07-20T07:56:26.886Z"
   },
   {
    "duration": 20,
    "start_time": "2022-07-20T07:56:26.908Z"
   },
   {
    "duration": 48,
    "start_time": "2022-07-20T07:56:26.929Z"
   },
   {
    "duration": 10,
    "start_time": "2022-07-20T07:56:26.979Z"
   },
   {
    "duration": 6,
    "start_time": "2022-07-20T07:56:26.991Z"
   },
   {
    "duration": 13,
    "start_time": "2022-07-20T07:56:26.998Z"
   },
   {
    "duration": 76,
    "start_time": "2022-07-20T07:56:27.013Z"
   },
   {
    "duration": 11,
    "start_time": "2022-07-20T07:56:27.090Z"
   },
   {
    "duration": 6,
    "start_time": "2022-07-20T07:56:27.103Z"
   },
   {
    "duration": 9,
    "start_time": "2022-07-20T07:56:27.111Z"
   },
   {
    "duration": 15,
    "start_time": "2022-07-20T07:56:27.121Z"
   },
   {
    "duration": 11,
    "start_time": "2022-07-20T07:56:27.137Z"
   },
   {
    "duration": 4,
    "start_time": "2022-07-20T07:58:36.404Z"
   },
   {
    "duration": 441,
    "start_time": "2022-07-20T07:58:36.410Z"
   },
   {
    "duration": 10,
    "start_time": "2022-07-20T07:58:36.853Z"
   },
   {
    "duration": 41,
    "start_time": "2022-07-20T07:58:36.865Z"
   },
   {
    "duration": 60,
    "start_time": "2022-07-20T07:58:36.909Z"
   },
   {
    "duration": 18,
    "start_time": "2022-07-20T07:58:36.971Z"
   },
   {
    "duration": 9,
    "start_time": "2022-07-20T07:58:36.990Z"
   },
   {
    "duration": 18,
    "start_time": "2022-07-20T07:58:37.000Z"
   },
   {
    "duration": 20,
    "start_time": "2022-07-20T07:58:37.020Z"
   },
   {
    "duration": 68,
    "start_time": "2022-07-20T07:58:37.042Z"
   },
   {
    "duration": 10,
    "start_time": "2022-07-20T07:58:37.112Z"
   },
   {
    "duration": 10,
    "start_time": "2022-07-20T07:58:37.123Z"
   },
   {
    "duration": 13,
    "start_time": "2022-07-20T07:58:37.135Z"
   },
   {
    "duration": 62,
    "start_time": "2022-07-20T07:58:37.163Z"
   },
   {
    "duration": 9,
    "start_time": "2022-07-20T07:58:37.227Z"
   },
   {
    "duration": 27,
    "start_time": "2022-07-20T07:58:37.237Z"
   },
   {
    "duration": 24,
    "start_time": "2022-07-20T07:58:37.267Z"
   },
   {
    "duration": 11,
    "start_time": "2022-07-20T07:58:37.293Z"
   },
   {
    "duration": 8,
    "start_time": "2022-07-20T07:58:37.305Z"
   },
   {
    "duration": 14,
    "start_time": "2022-07-20T07:58:37.315Z"
   },
   {
    "duration": 14,
    "start_time": "2022-07-20T07:58:37.331Z"
   },
   {
    "duration": 18,
    "start_time": "2022-07-20T07:58:37.347Z"
   },
   {
    "duration": 36,
    "start_time": "2022-07-20T07:58:37.372Z"
   },
   {
    "duration": 21,
    "start_time": "2022-07-20T07:58:37.410Z"
   },
   {
    "duration": 35,
    "start_time": "2022-07-20T07:58:37.433Z"
   },
   {
    "duration": 10,
    "start_time": "2022-07-20T07:58:37.472Z"
   },
   {
    "duration": 96,
    "start_time": "2022-07-20T07:58:37.485Z"
   },
   {
    "duration": 103,
    "start_time": "2022-07-20T07:58:37.586Z"
   },
   {
    "duration": 110,
    "start_time": "2022-07-20T07:58:37.765Z"
   },
   {
    "duration": 208,
    "start_time": "2022-07-20T07:58:37.878Z"
   },
   {
    "duration": 7,
    "start_time": "2022-07-20T07:58:38.088Z"
   },
   {
    "duration": 9,
    "start_time": "2022-07-20T07:58:38.097Z"
   },
   {
    "duration": 11,
    "start_time": "2022-07-20T07:58:38.109Z"
   },
   {
    "duration": 9,
    "start_time": "2022-07-20T07:58:38.121Z"
   },
   {
    "duration": 9,
    "start_time": "2022-07-20T07:58:38.131Z"
   },
   {
    "duration": 8,
    "start_time": "2022-07-20T07:58:38.143Z"
   },
   {
    "duration": 5,
    "start_time": "2022-07-20T07:58:38.154Z"
   },
   {
    "duration": 35,
    "start_time": "2022-07-20T07:58:38.164Z"
   },
   {
    "duration": 19,
    "start_time": "2022-07-20T07:58:38.201Z"
   },
   {
    "duration": 5,
    "start_time": "2022-07-20T07:58:56.611Z"
   },
   {
    "duration": 440,
    "start_time": "2022-07-20T07:58:56.619Z"
   },
   {
    "duration": 19,
    "start_time": "2022-07-20T07:58:57.061Z"
   },
   {
    "duration": 26,
    "start_time": "2022-07-20T07:58:57.083Z"
   },
   {
    "duration": 68,
    "start_time": "2022-07-20T07:58:57.112Z"
   },
   {
    "duration": 12,
    "start_time": "2022-07-20T07:58:57.181Z"
   },
   {
    "duration": 8,
    "start_time": "2022-07-20T07:58:57.196Z"
   },
   {
    "duration": 23,
    "start_time": "2022-07-20T07:58:57.207Z"
   },
   {
    "duration": 33,
    "start_time": "2022-07-20T07:58:57.232Z"
   },
   {
    "duration": 54,
    "start_time": "2022-07-20T07:58:57.266Z"
   },
   {
    "duration": 15,
    "start_time": "2022-07-20T07:58:57.322Z"
   },
   {
    "duration": 29,
    "start_time": "2022-07-20T07:58:57.339Z"
   },
   {
    "duration": 38,
    "start_time": "2022-07-20T07:58:57.371Z"
   },
   {
    "duration": 63,
    "start_time": "2022-07-20T07:58:57.413Z"
   },
   {
    "duration": 12,
    "start_time": "2022-07-20T07:58:57.479Z"
   },
   {
    "duration": 5,
    "start_time": "2022-07-20T07:58:57.493Z"
   },
   {
    "duration": 9,
    "start_time": "2022-07-20T07:58:57.499Z"
   },
   {
    "duration": 8,
    "start_time": "2022-07-20T07:58:57.510Z"
   },
   {
    "duration": 12,
    "start_time": "2022-07-20T07:58:57.519Z"
   },
   {
    "duration": 12,
    "start_time": "2022-07-20T07:58:57.533Z"
   },
   {
    "duration": 28,
    "start_time": "2022-07-20T07:58:57.547Z"
   },
   {
    "duration": 22,
    "start_time": "2022-07-20T07:58:57.577Z"
   },
   {
    "duration": 24,
    "start_time": "2022-07-20T07:58:57.602Z"
   },
   {
    "duration": 43,
    "start_time": "2022-07-20T07:58:57.628Z"
   },
   {
    "duration": 23,
    "start_time": "2022-07-20T07:58:57.673Z"
   },
   {
    "duration": 3,
    "start_time": "2022-07-20T07:58:57.698Z"
   },
   {
    "duration": 82,
    "start_time": "2022-07-20T07:58:57.703Z"
   },
   {
    "duration": 93,
    "start_time": "2022-07-20T07:58:57.788Z"
   },
   {
    "duration": 96,
    "start_time": "2022-07-20T07:58:57.884Z"
   },
   {
    "duration": 184,
    "start_time": "2022-07-20T07:58:57.988Z"
   },
   {
    "duration": 12,
    "start_time": "2022-07-20T07:58:58.178Z"
   },
   {
    "duration": 8,
    "start_time": "2022-07-20T07:58:58.192Z"
   },
   {
    "duration": 6,
    "start_time": "2022-07-20T07:58:58.202Z"
   },
   {
    "duration": 7,
    "start_time": "2022-07-20T07:58:58.209Z"
   },
   {
    "duration": 10,
    "start_time": "2022-07-20T07:58:58.218Z"
   },
   {
    "duration": 8,
    "start_time": "2022-07-20T07:58:58.230Z"
   },
   {
    "duration": 9,
    "start_time": "2022-07-20T07:58:58.240Z"
   },
   {
    "duration": 16,
    "start_time": "2022-07-20T07:58:58.250Z"
   },
   {
    "duration": 15,
    "start_time": "2022-07-20T07:58:58.268Z"
   },
   {
    "duration": 3,
    "start_time": "2022-07-20T07:58:58.286Z"
   },
   {
    "duration": 6,
    "start_time": "2022-07-20T07:58:58.292Z"
   },
   {
    "duration": 13,
    "start_time": "2022-07-20T07:58:58.299Z"
   },
   {
    "duration": 4,
    "start_time": "2022-07-20T08:01:00.995Z"
   },
   {
    "duration": 4,
    "start_time": "2022-07-20T08:01:04.638Z"
   },
   {
    "duration": 2221,
    "start_time": "2022-07-20T08:34:37.753Z"
   },
   {
    "duration": 2114,
    "start_time": "2022-07-20T08:34:53.355Z"
   },
   {
    "duration": 2048,
    "start_time": "2022-07-20T08:35:05.045Z"
   },
   {
    "duration": 10,
    "start_time": "2022-07-20T08:35:13.649Z"
   },
   {
    "duration": 2199,
    "start_time": "2022-07-20T08:36:29.307Z"
   },
   {
    "duration": 2142,
    "start_time": "2022-07-20T08:37:26.603Z"
   },
   {
    "duration": 2223,
    "start_time": "2022-07-20T08:38:00.523Z"
   },
   {
    "duration": 2117,
    "start_time": "2022-07-20T08:38:21.354Z"
   },
   {
    "duration": 11,
    "start_time": "2022-07-20T08:38:32.399Z"
   },
   {
    "duration": 4,
    "start_time": "2022-07-20T08:39:55.873Z"
   },
   {
    "duration": 393,
    "start_time": "2022-07-20T08:39:55.880Z"
   },
   {
    "duration": 10,
    "start_time": "2022-07-20T08:39:56.275Z"
   },
   {
    "duration": 19,
    "start_time": "2022-07-20T08:39:56.287Z"
   },
   {
    "duration": 66,
    "start_time": "2022-07-20T08:39:56.309Z"
   },
   {
    "duration": 12,
    "start_time": "2022-07-20T08:39:56.377Z"
   },
   {
    "duration": 6,
    "start_time": "2022-07-20T08:39:56.390Z"
   },
   {
    "duration": 12,
    "start_time": "2022-07-20T08:39:56.397Z"
   },
   {
    "duration": 17,
    "start_time": "2022-07-20T08:39:56.411Z"
   },
   {
    "duration": 66,
    "start_time": "2022-07-20T08:39:56.430Z"
   },
   {
    "duration": 11,
    "start_time": "2022-07-20T08:39:56.498Z"
   },
   {
    "duration": 6,
    "start_time": "2022-07-20T08:39:56.511Z"
   },
   {
    "duration": 12,
    "start_time": "2022-07-20T08:39:56.519Z"
   },
   {
    "duration": 69,
    "start_time": "2022-07-20T08:39:56.534Z"
   },
   {
    "duration": 10,
    "start_time": "2022-07-20T08:39:56.605Z"
   },
   {
    "duration": 5,
    "start_time": "2022-07-20T08:39:56.616Z"
   },
   {
    "duration": 9,
    "start_time": "2022-07-20T08:39:56.623Z"
   },
   {
    "duration": 30,
    "start_time": "2022-07-20T08:39:56.634Z"
   },
   {
    "duration": 6,
    "start_time": "2022-07-20T08:39:56.666Z"
   },
   {
    "duration": 20,
    "start_time": "2022-07-20T08:39:56.673Z"
   },
   {
    "duration": 10,
    "start_time": "2022-07-20T08:39:56.695Z"
   },
   {
    "duration": 12,
    "start_time": "2022-07-20T08:39:56.707Z"
   },
   {
    "duration": 18,
    "start_time": "2022-07-20T08:39:56.721Z"
   },
   {
    "duration": 39,
    "start_time": "2022-07-20T08:39:56.741Z"
   },
   {
    "duration": 19,
    "start_time": "2022-07-20T08:39:56.782Z"
   },
   {
    "duration": 4,
    "start_time": "2022-07-20T08:39:56.803Z"
   },
   {
    "duration": 60,
    "start_time": "2022-07-20T08:39:56.809Z"
   },
   {
    "duration": 109,
    "start_time": "2022-07-20T08:39:56.871Z"
   },
   {
    "duration": 193,
    "start_time": "2022-07-20T08:39:56.983Z"
   },
   {
    "duration": 188,
    "start_time": "2022-07-20T08:39:57.178Z"
   },
   {
    "duration": 15,
    "start_time": "2022-07-20T08:39:57.368Z"
   },
   {
    "duration": 12,
    "start_time": "2022-07-20T08:39:57.384Z"
   },
   {
    "duration": 9,
    "start_time": "2022-07-20T08:39:57.398Z"
   },
   {
    "duration": 12,
    "start_time": "2022-07-20T08:39:57.409Z"
   },
   {
    "duration": 6,
    "start_time": "2022-07-20T08:39:57.423Z"
   },
   {
    "duration": 10,
    "start_time": "2022-07-20T08:39:57.431Z"
   },
   {
    "duration": 22,
    "start_time": "2022-07-20T08:39:57.443Z"
   },
   {
    "duration": 8,
    "start_time": "2022-07-20T08:39:57.466Z"
   },
   {
    "duration": 11,
    "start_time": "2022-07-20T08:39:57.476Z"
   },
   {
    "duration": 4,
    "start_time": "2022-07-20T08:39:57.489Z"
   },
   {
    "duration": 6,
    "start_time": "2022-07-20T08:39:57.496Z"
   },
   {
    "duration": 13,
    "start_time": "2022-07-20T08:39:57.503Z"
   },
   {
    "duration": 4,
    "start_time": "2022-07-20T08:39:57.517Z"
   },
   {
    "duration": 28,
    "start_time": "2022-07-20T08:39:57.523Z"
   },
   {
    "duration": 2226,
    "start_time": "2022-07-20T08:41:02.146Z"
   },
   {
    "duration": 9,
    "start_time": "2022-07-20T08:41:37.407Z"
   },
   {
    "duration": 4,
    "start_time": "2022-07-20T08:42:02.144Z"
   },
   {
    "duration": 8,
    "start_time": "2022-07-20T08:42:07.968Z"
   },
   {
    "duration": 4,
    "start_time": "2022-07-20T08:42:35.840Z"
   },
   {
    "duration": 5,
    "start_time": "2022-07-20T08:42:41.792Z"
   },
   {
    "duration": 3,
    "start_time": "2022-07-20T08:42:57.135Z"
   },
   {
    "duration": 4,
    "start_time": "2022-07-20T08:42:58.904Z"
   },
   {
    "duration": 4,
    "start_time": "2022-07-20T08:43:12.545Z"
   },
   {
    "duration": 4,
    "start_time": "2022-07-20T08:43:15.327Z"
   },
   {
    "duration": 4,
    "start_time": "2022-07-20T08:43:36.798Z"
   },
   {
    "duration": 6,
    "start_time": "2022-07-20T08:43:40.271Z"
   },
   {
    "duration": 99,
    "start_time": "2022-07-20T08:43:56.430Z"
   },
   {
    "duration": 5,
    "start_time": "2022-07-20T08:44:02.719Z"
   },
   {
    "duration": 3,
    "start_time": "2022-07-20T08:44:37.445Z"
   },
   {
    "duration": 2146,
    "start_time": "2022-07-20T08:45:15.206Z"
   },
   {
    "duration": 2281,
    "start_time": "2022-07-20T08:45:19.477Z"
   },
   {
    "duration": 2594,
    "start_time": "2022-07-20T08:45:56.086Z"
   },
   {
    "duration": 2254,
    "start_time": "2022-07-20T08:46:42.205Z"
   },
   {
    "duration": 2768,
    "start_time": "2022-07-20T08:47:12.768Z"
   },
   {
    "duration": 2243,
    "start_time": "2022-07-20T08:47:40.402Z"
   },
   {
    "duration": 2764,
    "start_time": "2022-07-20T08:48:13.027Z"
   },
   {
    "duration": 16,
    "start_time": "2022-07-20T08:49:04.666Z"
   },
   {
    "duration": 5,
    "start_time": "2022-07-20T08:52:06.586Z"
   },
   {
    "duration": 434,
    "start_time": "2022-07-20T08:52:06.593Z"
   },
   {
    "duration": 9,
    "start_time": "2022-07-20T08:52:07.029Z"
   },
   {
    "duration": 18,
    "start_time": "2022-07-20T08:52:07.039Z"
   },
   {
    "duration": 51,
    "start_time": "2022-07-20T08:52:07.065Z"
   },
   {
    "duration": 10,
    "start_time": "2022-07-20T08:52:07.118Z"
   },
   {
    "duration": 18,
    "start_time": "2022-07-20T08:52:07.130Z"
   },
   {
    "duration": 26,
    "start_time": "2022-07-20T08:52:07.149Z"
   },
   {
    "duration": 20,
    "start_time": "2022-07-20T08:52:07.178Z"
   },
   {
    "duration": 40,
    "start_time": "2022-07-20T08:52:07.200Z"
   },
   {
    "duration": 33,
    "start_time": "2022-07-20T08:52:07.242Z"
   },
   {
    "duration": 9,
    "start_time": "2022-07-20T08:52:07.278Z"
   },
   {
    "duration": 13,
    "start_time": "2022-07-20T08:52:07.289Z"
   },
   {
    "duration": 46,
    "start_time": "2022-07-20T08:52:07.306Z"
   },
   {
    "duration": 20,
    "start_time": "2022-07-20T08:52:07.363Z"
   },
   {
    "duration": 9,
    "start_time": "2022-07-20T08:52:07.385Z"
   },
   {
    "duration": 8,
    "start_time": "2022-07-20T08:52:07.396Z"
   },
   {
    "duration": 8,
    "start_time": "2022-07-20T08:52:07.406Z"
   },
   {
    "duration": 8,
    "start_time": "2022-07-20T08:52:07.416Z"
   },
   {
    "duration": 14,
    "start_time": "2022-07-20T08:52:07.425Z"
   },
   {
    "duration": 32,
    "start_time": "2022-07-20T08:52:07.440Z"
   },
   {
    "duration": 11,
    "start_time": "2022-07-20T08:52:07.474Z"
   },
   {
    "duration": 18,
    "start_time": "2022-07-20T08:52:07.486Z"
   },
   {
    "duration": 16,
    "start_time": "2022-07-20T08:52:07.506Z"
   },
   {
    "duration": 48,
    "start_time": "2022-07-20T08:52:07.523Z"
   },
   {
    "duration": 7,
    "start_time": "2022-07-20T08:52:07.572Z"
   },
   {
    "duration": 19,
    "start_time": "2022-07-20T08:52:07.580Z"
   },
   {
    "duration": 169,
    "start_time": "2022-07-20T08:52:07.601Z"
   },
   {
    "duration": 123,
    "start_time": "2022-07-20T08:52:07.772Z"
   },
   {
    "duration": 172,
    "start_time": "2022-07-20T08:52:07.897Z"
   },
   {
    "duration": 21,
    "start_time": "2022-07-20T08:52:08.071Z"
   },
   {
    "duration": 8,
    "start_time": "2022-07-20T08:52:08.093Z"
   },
   {
    "duration": 6,
    "start_time": "2022-07-20T08:52:08.103Z"
   },
   {
    "duration": 12,
    "start_time": "2022-07-20T08:52:08.112Z"
   },
   {
    "duration": 17,
    "start_time": "2022-07-20T08:52:08.125Z"
   },
   {
    "duration": 16,
    "start_time": "2022-07-20T08:52:08.145Z"
   },
   {
    "duration": 28,
    "start_time": "2022-07-20T08:52:08.163Z"
   },
   {
    "duration": 7,
    "start_time": "2022-07-20T08:52:08.194Z"
   },
   {
    "duration": 16,
    "start_time": "2022-07-20T08:52:08.203Z"
   },
   {
    "duration": 4,
    "start_time": "2022-07-20T08:52:10.154Z"
   },
   {
    "duration": 4,
    "start_time": "2022-07-20T08:52:11.992Z"
   },
   {
    "duration": 11,
    "start_time": "2022-07-20T08:52:14.545Z"
   },
   {
    "duration": 6,
    "start_time": "2022-07-20T08:53:06.475Z"
   },
   {
    "duration": 5,
    "start_time": "2022-07-20T08:53:08.970Z"
   },
   {
    "duration": 2699,
    "start_time": "2022-07-20T08:53:11.704Z"
   },
   {
    "duration": 5,
    "start_time": "2022-07-20T08:53:24.785Z"
   },
   {
    "duration": 411,
    "start_time": "2022-07-20T08:53:24.793Z"
   },
   {
    "duration": 9,
    "start_time": "2022-07-20T08:53:25.206Z"
   },
   {
    "duration": 19,
    "start_time": "2022-07-20T08:53:25.217Z"
   },
   {
    "duration": 68,
    "start_time": "2022-07-20T08:53:25.238Z"
   },
   {
    "duration": 10,
    "start_time": "2022-07-20T08:53:25.307Z"
   },
   {
    "duration": 6,
    "start_time": "2022-07-20T08:53:25.318Z"
   },
   {
    "duration": 15,
    "start_time": "2022-07-20T08:53:25.325Z"
   },
   {
    "duration": 62,
    "start_time": "2022-07-20T08:53:25.342Z"
   },
   {
    "duration": 51,
    "start_time": "2022-07-20T08:53:25.406Z"
   },
   {
    "duration": 21,
    "start_time": "2022-07-20T08:53:25.459Z"
   },
   {
    "duration": 9,
    "start_time": "2022-07-20T08:53:25.482Z"
   },
   {
    "duration": 11,
    "start_time": "2022-07-20T08:53:25.492Z"
   },
   {
    "duration": 73,
    "start_time": "2022-07-20T08:53:25.507Z"
   },
   {
    "duration": 10,
    "start_time": "2022-07-20T08:53:25.582Z"
   },
   {
    "duration": 6,
    "start_time": "2022-07-20T08:53:25.594Z"
   },
   {
    "duration": 16,
    "start_time": "2022-07-20T08:53:25.602Z"
   },
   {
    "duration": 9,
    "start_time": "2022-07-20T08:53:25.619Z"
   },
   {
    "duration": 8,
    "start_time": "2022-07-20T08:53:25.630Z"
   },
   {
    "duration": 28,
    "start_time": "2022-07-20T08:53:25.640Z"
   },
   {
    "duration": 11,
    "start_time": "2022-07-20T08:53:25.677Z"
   },
   {
    "duration": 17,
    "start_time": "2022-07-20T08:53:25.690Z"
   },
   {
    "duration": 18,
    "start_time": "2022-07-20T08:53:25.709Z"
   },
   {
    "duration": 17,
    "start_time": "2022-07-20T08:53:25.728Z"
   },
   {
    "duration": 22,
    "start_time": "2022-07-20T08:53:25.763Z"
   },
   {
    "duration": 3,
    "start_time": "2022-07-20T08:53:25.787Z"
   },
   {
    "duration": 16,
    "start_time": "2022-07-20T08:53:25.792Z"
   },
   {
    "duration": 177,
    "start_time": "2022-07-20T08:53:25.810Z"
   },
   {
    "duration": 188,
    "start_time": "2022-07-20T08:53:25.989Z"
   },
   {
    "duration": 194,
    "start_time": "2022-07-20T08:53:26.184Z"
   },
   {
    "duration": 11,
    "start_time": "2022-07-20T08:53:26.380Z"
   },
   {
    "duration": 7,
    "start_time": "2022-07-20T08:53:26.393Z"
   },
   {
    "duration": 10,
    "start_time": "2022-07-20T08:53:26.403Z"
   },
   {
    "duration": 12,
    "start_time": "2022-07-20T08:53:26.414Z"
   },
   {
    "duration": 6,
    "start_time": "2022-07-20T08:53:26.427Z"
   },
   {
    "duration": 5,
    "start_time": "2022-07-20T08:53:26.434Z"
   },
   {
    "duration": 8,
    "start_time": "2022-07-20T08:53:26.440Z"
   },
   {
    "duration": 22,
    "start_time": "2022-07-20T08:53:26.450Z"
   },
   {
    "duration": 19,
    "start_time": "2022-07-20T08:53:26.473Z"
   },
   {
    "duration": 4,
    "start_time": "2022-07-20T08:53:26.494Z"
   },
   {
    "duration": 7,
    "start_time": "2022-07-20T08:53:26.501Z"
   },
   {
    "duration": 14,
    "start_time": "2022-07-20T08:53:26.510Z"
   },
   {
    "duration": 3,
    "start_time": "2022-07-20T08:53:26.525Z"
   },
   {
    "duration": 7,
    "start_time": "2022-07-20T08:53:26.529Z"
   },
   {
    "duration": 2593,
    "start_time": "2022-07-20T08:53:26.537Z"
   },
   {
    "duration": 2563,
    "start_time": "2022-07-20T08:53:29.132Z"
   },
   {
    "duration": 2664,
    "start_time": "2022-07-20T08:53:31.696Z"
   },
   {
    "duration": 21,
    "start_time": "2022-07-20T08:53:34.363Z"
   },
   {
    "duration": 1475,
    "start_time": "2022-07-20T08:53:54.984Z"
   },
   {
    "duration": 452,
    "start_time": "2022-07-20T08:53:56.461Z"
   },
   {
    "duration": 13,
    "start_time": "2022-07-20T08:53:56.915Z"
   },
   {
    "duration": 17,
    "start_time": "2022-07-20T08:53:56.930Z"
   },
   {
    "duration": 61,
    "start_time": "2022-07-20T08:53:56.949Z"
   },
   {
    "duration": 10,
    "start_time": "2022-07-20T08:53:57.012Z"
   },
   {
    "duration": 9,
    "start_time": "2022-07-20T08:53:57.023Z"
   },
   {
    "duration": 14,
    "start_time": "2022-07-20T08:53:57.034Z"
   },
   {
    "duration": 21,
    "start_time": "2022-07-20T08:53:57.065Z"
   },
   {
    "duration": 44,
    "start_time": "2022-07-20T08:53:57.088Z"
   },
   {
    "duration": 44,
    "start_time": "2022-07-20T08:53:57.135Z"
   },
   {
    "duration": 6,
    "start_time": "2022-07-20T08:53:57.181Z"
   },
   {
    "duration": 12,
    "start_time": "2022-07-20T08:53:57.188Z"
   },
   {
    "duration": 49,
    "start_time": "2022-07-20T08:53:57.203Z"
   },
   {
    "duration": 33,
    "start_time": "2022-07-20T08:53:57.253Z"
   },
   {
    "duration": 7,
    "start_time": "2022-07-20T08:53:57.289Z"
   },
   {
    "duration": 7,
    "start_time": "2022-07-20T08:53:57.298Z"
   },
   {
    "duration": 6,
    "start_time": "2022-07-20T08:53:57.307Z"
   },
   {
    "duration": 7,
    "start_time": "2022-07-20T08:53:57.315Z"
   },
   {
    "duration": 16,
    "start_time": "2022-07-20T08:53:57.324Z"
   },
   {
    "duration": 40,
    "start_time": "2022-07-20T08:53:57.341Z"
   },
   {
    "duration": 16,
    "start_time": "2022-07-20T08:53:57.384Z"
   },
   {
    "duration": 24,
    "start_time": "2022-07-20T08:53:57.402Z"
   },
   {
    "duration": 50,
    "start_time": "2022-07-20T08:53:57.428Z"
   },
   {
    "duration": 26,
    "start_time": "2022-07-20T08:53:57.481Z"
   },
   {
    "duration": 3,
    "start_time": "2022-07-20T08:53:57.509Z"
   },
   {
    "duration": 56,
    "start_time": "2022-07-20T08:53:57.513Z"
   },
   {
    "duration": 107,
    "start_time": "2022-07-20T08:53:57.577Z"
   },
   {
    "duration": 208,
    "start_time": "2022-07-20T08:53:57.687Z"
   },
   {
    "duration": 67,
    "start_time": "2022-07-20T08:53:57.902Z"
   },
   {
    "duration": 113,
    "start_time": "2022-07-20T08:53:57.970Z"
   },
   {
    "duration": 5,
    "start_time": "2022-07-20T08:53:58.085Z"
   },
   {
    "duration": 4,
    "start_time": "2022-07-20T08:53:58.092Z"
   },
   {
    "duration": 4,
    "start_time": "2022-07-20T08:53:58.098Z"
   },
   {
    "duration": 6,
    "start_time": "2022-07-20T08:53:58.104Z"
   },
   {
    "duration": 6,
    "start_time": "2022-07-20T08:53:58.111Z"
   },
   {
    "duration": 7,
    "start_time": "2022-07-20T08:53:58.119Z"
   },
   {
    "duration": 7,
    "start_time": "2022-07-20T08:53:58.127Z"
   },
   {
    "duration": 36,
    "start_time": "2022-07-20T08:53:58.136Z"
   },
   {
    "duration": 4,
    "start_time": "2022-07-20T08:53:58.173Z"
   },
   {
    "duration": 8,
    "start_time": "2022-07-20T08:53:58.182Z"
   },
   {
    "duration": 128,
    "start_time": "2022-07-20T08:53:58.192Z"
   },
   {
    "duration": 0,
    "start_time": "2022-07-20T08:53:58.321Z"
   },
   {
    "duration": 0,
    "start_time": "2022-07-20T08:53:58.323Z"
   },
   {
    "duration": 0,
    "start_time": "2022-07-20T08:53:58.324Z"
   },
   {
    "duration": 0,
    "start_time": "2022-07-20T08:53:58.324Z"
   },
   {
    "duration": 0,
    "start_time": "2022-07-20T08:53:58.325Z"
   },
   {
    "duration": 0,
    "start_time": "2022-07-20T08:53:58.326Z"
   },
   {
    "duration": 1403,
    "start_time": "2022-07-20T08:54:28.880Z"
   },
   {
    "duration": 450,
    "start_time": "2022-07-20T08:54:30.285Z"
   },
   {
    "duration": 19,
    "start_time": "2022-07-20T08:54:30.738Z"
   },
   {
    "duration": 60,
    "start_time": "2022-07-20T08:54:30.759Z"
   },
   {
    "duration": 58,
    "start_time": "2022-07-20T08:54:30.822Z"
   },
   {
    "duration": 10,
    "start_time": "2022-07-20T08:54:30.882Z"
   },
   {
    "duration": 64,
    "start_time": "2022-07-20T08:54:30.894Z"
   },
   {
    "duration": 56,
    "start_time": "2022-07-20T08:54:30.960Z"
   },
   {
    "duration": 58,
    "start_time": "2022-07-20T08:54:31.018Z"
   },
   {
    "duration": 65,
    "start_time": "2022-07-20T08:54:31.080Z"
   },
   {
    "duration": 11,
    "start_time": "2022-07-20T08:54:31.147Z"
   },
   {
    "duration": 33,
    "start_time": "2022-07-20T08:54:31.160Z"
   },
   {
    "duration": 38,
    "start_time": "2022-07-20T08:54:31.195Z"
   },
   {
    "duration": 85,
    "start_time": "2022-07-20T08:54:31.236Z"
   },
   {
    "duration": 12,
    "start_time": "2022-07-20T08:54:31.322Z"
   },
   {
    "duration": 23,
    "start_time": "2022-07-20T08:54:31.336Z"
   },
   {
    "duration": 32,
    "start_time": "2022-07-20T08:54:31.361Z"
   },
   {
    "duration": 33,
    "start_time": "2022-07-20T08:54:31.395Z"
   },
   {
    "duration": 15,
    "start_time": "2022-07-20T08:54:31.430Z"
   },
   {
    "duration": 20,
    "start_time": "2022-07-20T08:54:31.447Z"
   },
   {
    "duration": 27,
    "start_time": "2022-07-20T08:54:31.469Z"
   },
   {
    "duration": 14,
    "start_time": "2022-07-20T08:54:31.498Z"
   },
   {
    "duration": 23,
    "start_time": "2022-07-20T08:54:31.513Z"
   },
   {
    "duration": 33,
    "start_time": "2022-07-20T08:54:31.538Z"
   },
   {
    "duration": 22,
    "start_time": "2022-07-20T08:54:31.574Z"
   },
   {
    "duration": 3,
    "start_time": "2022-07-20T08:54:31.597Z"
   },
   {
    "duration": 21,
    "start_time": "2022-07-20T08:54:31.602Z"
   },
   {
    "duration": 97,
    "start_time": "2022-07-20T08:54:31.673Z"
   },
   {
    "duration": 302,
    "start_time": "2022-07-20T08:54:31.772Z"
   },
   {
    "duration": 9,
    "start_time": "2022-07-20T08:54:32.076Z"
   },
   {
    "duration": 15,
    "start_time": "2022-07-20T08:54:32.087Z"
   },
   {
    "duration": 14,
    "start_time": "2022-07-20T08:54:32.104Z"
   },
   {
    "duration": 13,
    "start_time": "2022-07-20T08:54:32.164Z"
   },
   {
    "duration": 16,
    "start_time": "2022-07-20T08:54:32.179Z"
   },
   {
    "duration": 8,
    "start_time": "2022-07-20T08:54:32.197Z"
   },
   {
    "duration": 7,
    "start_time": "2022-07-20T08:54:32.207Z"
   },
   {
    "duration": 6,
    "start_time": "2022-07-20T08:54:32.215Z"
   },
   {
    "duration": 5,
    "start_time": "2022-07-20T08:54:32.223Z"
   },
   {
    "duration": 41,
    "start_time": "2022-07-20T08:54:32.230Z"
   },
   {
    "duration": 19,
    "start_time": "2022-07-20T08:54:32.273Z"
   },
   {
    "duration": 5,
    "start_time": "2022-07-20T08:54:32.295Z"
   },
   {
    "duration": 14,
    "start_time": "2022-07-20T08:54:32.302Z"
   },
   {
    "duration": 3,
    "start_time": "2022-07-20T08:54:32.318Z"
   },
   {
    "duration": 5,
    "start_time": "2022-07-20T08:54:32.323Z"
   },
   {
    "duration": 2721,
    "start_time": "2022-07-20T08:54:32.329Z"
   },
   {
    "duration": 2669,
    "start_time": "2022-07-20T08:54:35.052Z"
   },
   {
    "duration": 2716,
    "start_time": "2022-07-20T08:54:37.722Z"
   },
   {
    "duration": 16,
    "start_time": "2022-07-20T08:54:40.440Z"
   },
   {
    "duration": 2471,
    "start_time": "2022-07-21T15:12:15.286Z"
   },
   {
    "duration": 1910,
    "start_time": "2022-07-21T15:12:17.760Z"
   },
   {
    "duration": 17,
    "start_time": "2022-07-21T15:12:19.672Z"
   },
   {
    "duration": 20,
    "start_time": "2022-07-21T15:12:19.692Z"
   },
   {
    "duration": 60,
    "start_time": "2022-07-21T15:12:19.714Z"
   },
   {
    "duration": 29,
    "start_time": "2022-07-21T15:12:19.776Z"
   },
   {
    "duration": 9,
    "start_time": "2022-07-21T15:12:19.807Z"
   },
   {
    "duration": 18,
    "start_time": "2022-07-21T15:12:19.818Z"
   },
   {
    "duration": 18,
    "start_time": "2022-07-21T15:12:19.838Z"
   },
   {
    "duration": 71,
    "start_time": "2022-07-21T15:12:19.860Z"
   },
   {
    "duration": 10,
    "start_time": "2022-07-21T15:12:19.933Z"
   },
   {
    "duration": 8,
    "start_time": "2022-07-21T15:12:19.945Z"
   },
   {
    "duration": 14,
    "start_time": "2022-07-21T15:12:19.954Z"
   },
   {
    "duration": 83,
    "start_time": "2022-07-21T15:12:19.969Z"
   },
   {
    "duration": 11,
    "start_time": "2022-07-21T15:12:20.055Z"
   },
   {
    "duration": 10,
    "start_time": "2022-07-21T15:12:20.068Z"
   },
   {
    "duration": 11,
    "start_time": "2022-07-21T15:12:20.080Z"
   },
   {
    "duration": 9,
    "start_time": "2022-07-21T15:12:20.109Z"
   },
   {
    "duration": 13,
    "start_time": "2022-07-21T15:12:20.121Z"
   },
   {
    "duration": 33,
    "start_time": "2022-07-21T15:12:20.136Z"
   },
   {
    "duration": 19,
    "start_time": "2022-07-21T15:12:20.172Z"
   },
   {
    "duration": 41,
    "start_time": "2022-07-21T15:12:20.193Z"
   },
   {
    "duration": 25,
    "start_time": "2022-07-21T15:12:20.236Z"
   },
   {
    "duration": 22,
    "start_time": "2022-07-21T15:12:20.262Z"
   },
   {
    "duration": 36,
    "start_time": "2022-07-21T15:12:20.286Z"
   },
   {
    "duration": 3,
    "start_time": "2022-07-21T15:12:20.324Z"
   },
   {
    "duration": 92,
    "start_time": "2022-07-21T15:12:20.329Z"
   },
   {
    "duration": 276,
    "start_time": "2022-07-21T15:12:20.427Z"
   },
   {
    "duration": 20,
    "start_time": "2022-07-21T15:12:20.707Z"
   },
   {
    "duration": 76,
    "start_time": "2022-07-21T15:12:20.729Z"
   },
   {
    "duration": 100,
    "start_time": "2022-07-21T15:12:20.807Z"
   },
   {
    "duration": 10,
    "start_time": "2022-07-21T15:12:20.909Z"
   },
   {
    "duration": 7,
    "start_time": "2022-07-21T15:12:20.921Z"
   },
   {
    "duration": 11,
    "start_time": "2022-07-21T15:12:20.930Z"
   },
   {
    "duration": 15,
    "start_time": "2022-07-21T15:12:20.944Z"
   },
   {
    "duration": 9,
    "start_time": "2022-07-21T15:12:20.961Z"
   },
   {
    "duration": 7,
    "start_time": "2022-07-21T15:12:20.972Z"
   },
   {
    "duration": 5,
    "start_time": "2022-07-21T15:12:21.004Z"
   },
   {
    "duration": 31,
    "start_time": "2022-07-21T15:12:21.011Z"
   },
   {
    "duration": 3,
    "start_time": "2022-07-21T15:12:21.045Z"
   },
   {
    "duration": 7,
    "start_time": "2022-07-21T15:12:21.050Z"
   },
   {
    "duration": 24,
    "start_time": "2022-07-21T15:12:21.058Z"
   },
   {
    "duration": 4,
    "start_time": "2022-07-21T15:12:35.160Z"
   },
   {
    "duration": 116,
    "start_time": "2022-07-21T15:13:17.573Z"
   },
   {
    "duration": 4,
    "start_time": "2022-07-21T15:13:21.475Z"
   },
   {
    "duration": 12,
    "start_time": "2022-07-21T15:13:24.155Z"
   },
   {
    "duration": 10,
    "start_time": "2022-07-21T15:13:36.999Z"
   },
   {
    "duration": 4,
    "start_time": "2022-07-21T15:15:53.481Z"
   },
   {
    "duration": 4,
    "start_time": "2022-07-21T15:15:55.689Z"
   },
   {
    "duration": 31,
    "start_time": "2022-07-21T15:15:59.163Z"
   },
   {
    "duration": 4,
    "start_time": "2022-07-21T15:16:13.308Z"
   },
   {
    "duration": 4,
    "start_time": "2022-07-21T15:16:16.607Z"
   },
   {
    "duration": 3146,
    "start_time": "2022-07-21T15:16:42.531Z"
   },
   {
    "duration": 21,
    "start_time": "2022-07-21T15:17:36.330Z"
   },
   {
    "duration": 2871,
    "start_time": "2022-07-21T15:17:46.541Z"
   },
   {
    "duration": 2844,
    "start_time": "2022-07-21T15:18:22.448Z"
   },
   {
    "duration": 2699,
    "start_time": "2022-07-21T15:18:32.930Z"
   },
   {
    "duration": 3074,
    "start_time": "2022-07-21T15:22:10.293Z"
   },
   {
    "duration": 2879,
    "start_time": "2022-07-21T15:22:23.136Z"
   },
   {
    "duration": 7,
    "start_time": "2022-07-21T15:26:18.811Z"
   },
   {
    "duration": 10,
    "start_time": "2022-07-21T15:26:30.123Z"
   },
   {
    "duration": 7,
    "start_time": "2022-07-21T15:26:50.954Z"
   },
   {
    "duration": 9,
    "start_time": "2022-07-21T15:26:57.971Z"
   },
   {
    "duration": 9,
    "start_time": "2022-07-21T15:27:11.946Z"
   },
   {
    "duration": 14,
    "start_time": "2022-07-21T15:28:05.365Z"
   },
   {
    "duration": 18,
    "start_time": "2022-07-21T15:28:16.426Z"
   },
   {
    "duration": 15,
    "start_time": "2022-07-21T15:28:21.084Z"
   },
   {
    "duration": 10,
    "start_time": "2022-07-21T15:28:27.284Z"
   },
   {
    "duration": 10,
    "start_time": "2022-07-21T15:30:16.619Z"
   },
   {
    "duration": 8,
    "start_time": "2022-07-21T15:31:00.201Z"
   },
   {
    "duration": 9,
    "start_time": "2022-07-21T15:31:05.575Z"
   },
   {
    "duration": 4,
    "start_time": "2022-07-21T15:31:54.535Z"
   },
   {
    "duration": 384,
    "start_time": "2022-07-21T15:31:54.543Z"
   },
   {
    "duration": 10,
    "start_time": "2022-07-21T15:31:54.929Z"
   },
   {
    "duration": 18,
    "start_time": "2022-07-21T15:31:54.941Z"
   },
   {
    "duration": 65,
    "start_time": "2022-07-21T15:31:54.961Z"
   },
   {
    "duration": 10,
    "start_time": "2022-07-21T15:31:55.028Z"
   },
   {
    "duration": 12,
    "start_time": "2022-07-21T15:31:55.039Z"
   },
   {
    "duration": 17,
    "start_time": "2022-07-21T15:31:55.053Z"
   },
   {
    "duration": 34,
    "start_time": "2022-07-21T15:31:55.072Z"
   },
   {
    "duration": 49,
    "start_time": "2022-07-21T15:31:55.108Z"
   },
   {
    "duration": 9,
    "start_time": "2022-07-21T15:31:55.160Z"
   },
   {
    "duration": 7,
    "start_time": "2022-07-21T15:31:55.170Z"
   },
   {
    "duration": 32,
    "start_time": "2022-07-21T15:31:55.178Z"
   },
   {
    "duration": 72,
    "start_time": "2022-07-21T15:31:55.212Z"
   },
   {
    "duration": 19,
    "start_time": "2022-07-21T15:31:55.286Z"
   },
   {
    "duration": 7,
    "start_time": "2022-07-21T15:31:55.306Z"
   },
   {
    "duration": 11,
    "start_time": "2022-07-21T15:31:55.314Z"
   },
   {
    "duration": 8,
    "start_time": "2022-07-21T15:31:55.327Z"
   },
   {
    "duration": 18,
    "start_time": "2022-07-21T15:31:55.336Z"
   },
   {
    "duration": 14,
    "start_time": "2022-07-21T15:31:55.356Z"
   },
   {
    "duration": 12,
    "start_time": "2022-07-21T15:31:55.372Z"
   },
   {
    "duration": 26,
    "start_time": "2022-07-21T15:31:55.386Z"
   },
   {
    "duration": 23,
    "start_time": "2022-07-21T15:31:55.414Z"
   },
   {
    "duration": 19,
    "start_time": "2022-07-21T15:31:55.439Z"
   },
   {
    "duration": 51,
    "start_time": "2022-07-21T15:31:55.460Z"
   },
   {
    "duration": 4,
    "start_time": "2022-07-21T15:31:55.513Z"
   },
   {
    "duration": 88,
    "start_time": "2022-07-21T15:31:55.519Z"
   },
   {
    "duration": 101,
    "start_time": "2022-07-21T15:31:55.609Z"
   },
   {
    "duration": 190,
    "start_time": "2022-07-21T15:31:55.714Z"
   },
   {
    "duration": 5,
    "start_time": "2022-07-21T15:31:55.906Z"
   },
   {
    "duration": 98,
    "start_time": "2022-07-21T15:31:55.916Z"
   },
   {
    "duration": 7,
    "start_time": "2022-07-21T15:31:56.016Z"
   },
   {
    "duration": 8,
    "start_time": "2022-07-21T15:31:56.024Z"
   },
   {
    "duration": 9,
    "start_time": "2022-07-21T15:31:56.034Z"
   },
   {
    "duration": 10,
    "start_time": "2022-07-21T15:31:56.045Z"
   },
   {
    "duration": 5,
    "start_time": "2022-07-21T15:31:56.057Z"
   },
   {
    "duration": 6,
    "start_time": "2022-07-21T15:31:56.063Z"
   },
   {
    "duration": 7,
    "start_time": "2022-07-21T15:31:56.070Z"
   },
   {
    "duration": 12,
    "start_time": "2022-07-21T15:31:56.105Z"
   },
   {
    "duration": 3,
    "start_time": "2022-07-21T15:31:56.119Z"
   },
   {
    "duration": 7,
    "start_time": "2022-07-21T15:31:56.124Z"
   },
   {
    "duration": 34,
    "start_time": "2022-07-21T15:31:56.133Z"
   },
   {
    "duration": 4,
    "start_time": "2022-07-21T15:31:56.168Z"
   },
   {
    "duration": 8,
    "start_time": "2022-07-21T15:31:56.174Z"
   },
   {
    "duration": 3310,
    "start_time": "2022-07-21T15:31:59.299Z"
   },
   {
    "duration": 4304,
    "start_time": "2022-07-21T15:32:12.402Z"
   },
   {
    "duration": 5,
    "start_time": "2022-07-21T15:32:35.097Z"
   },
   {
    "duration": 4,
    "start_time": "2022-07-21T15:32:37.527Z"
   },
   {
    "duration": 16,
    "start_time": "2022-07-21T15:32:39.731Z"
   },
   {
    "duration": 3,
    "start_time": "2022-07-21T15:32:51.984Z"
   },
   {
    "duration": 4,
    "start_time": "2022-07-21T15:32:54.310Z"
   },
   {
    "duration": 4383,
    "start_time": "2022-07-21T15:32:56.153Z"
   },
   {
    "duration": 16,
    "start_time": "2022-07-21T15:33:58.761Z"
   },
   {
    "duration": 20,
    "start_time": "2022-07-21T15:34:05.359Z"
   },
   {
    "duration": 4872,
    "start_time": "2022-07-21T15:34:27.839Z"
   },
   {
    "duration": 4,
    "start_time": "2022-07-21T15:35:28.192Z"
   },
   {
    "duration": 5181,
    "start_time": "2022-07-21T15:35:30.685Z"
   },
   {
    "duration": 5536,
    "start_time": "2022-07-21T15:37:38.852Z"
   },
   {
    "duration": 3009,
    "start_time": "2022-07-21T15:37:54.190Z"
   },
   {
    "duration": 3471,
    "start_time": "2022-07-21T15:38:40.745Z"
   },
   {
    "duration": 4803,
    "start_time": "2022-07-21T15:38:45.465Z"
   },
   {
    "duration": 3565,
    "start_time": "2022-07-21T15:38:54.367Z"
   },
   {
    "duration": 25,
    "start_time": "2022-07-21T15:39:07.066Z"
   },
   {
    "duration": 17,
    "start_time": "2022-07-21T15:39:12.377Z"
   },
   {
    "duration": 3963,
    "start_time": "2022-07-21T15:39:15.233Z"
   },
   {
    "duration": 4,
    "start_time": "2022-07-21T15:42:43.088Z"
   },
   {
    "duration": 401,
    "start_time": "2022-07-21T15:42:43.094Z"
   },
   {
    "duration": 14,
    "start_time": "2022-07-21T15:42:43.497Z"
   },
   {
    "duration": 19,
    "start_time": "2022-07-21T15:42:43.513Z"
   },
   {
    "duration": 51,
    "start_time": "2022-07-21T15:42:43.534Z"
   },
   {
    "duration": 11,
    "start_time": "2022-07-21T15:42:43.607Z"
   },
   {
    "duration": 7,
    "start_time": "2022-07-21T15:42:43.620Z"
   },
   {
    "duration": 16,
    "start_time": "2022-07-21T15:42:43.629Z"
   },
   {
    "duration": 18,
    "start_time": "2022-07-21T15:42:43.647Z"
   },
   {
    "duration": 68,
    "start_time": "2022-07-21T15:42:43.668Z"
   },
   {
    "duration": 10,
    "start_time": "2022-07-21T15:42:43.738Z"
   },
   {
    "duration": 6,
    "start_time": "2022-07-21T15:42:43.750Z"
   },
   {
    "duration": 13,
    "start_time": "2022-07-21T15:42:43.758Z"
   },
   {
    "duration": 76,
    "start_time": "2022-07-21T15:42:43.773Z"
   },
   {
    "duration": 10,
    "start_time": "2022-07-21T15:42:43.851Z"
   },
   {
    "duration": 6,
    "start_time": "2022-07-21T15:42:43.863Z"
   },
   {
    "duration": 9,
    "start_time": "2022-07-21T15:42:43.871Z"
   },
   {
    "duration": 25,
    "start_time": "2022-07-21T15:42:43.882Z"
   },
   {
    "duration": 9,
    "start_time": "2022-07-21T15:42:43.908Z"
   },
   {
    "duration": 19,
    "start_time": "2022-07-21T15:42:43.919Z"
   },
   {
    "duration": 14,
    "start_time": "2022-07-21T15:42:43.939Z"
   },
   {
    "duration": 15,
    "start_time": "2022-07-21T15:42:43.954Z"
   },
   {
    "duration": 41,
    "start_time": "2022-07-21T15:42:43.970Z"
   },
   {
    "duration": 17,
    "start_time": "2022-07-21T15:42:44.013Z"
   },
   {
    "duration": 19,
    "start_time": "2022-07-21T15:42:44.032Z"
   },
   {
    "duration": 4,
    "start_time": "2022-07-21T15:42:44.052Z"
   },
   {
    "duration": 54,
    "start_time": "2022-07-21T15:42:44.058Z"
   },
   {
    "duration": 96,
    "start_time": "2022-07-21T15:42:44.117Z"
   },
   {
    "duration": 99,
    "start_time": "2022-07-21T15:42:44.215Z"
   },
   {
    "duration": 97,
    "start_time": "2022-07-21T15:42:44.315Z"
   },
   {
    "duration": 9,
    "start_time": "2022-07-21T15:42:44.503Z"
   },
   {
    "duration": 11,
    "start_time": "2022-07-21T15:42:44.514Z"
   },
   {
    "duration": 7,
    "start_time": "2022-07-21T15:42:44.526Z"
   },
   {
    "duration": 7,
    "start_time": "2022-07-21T15:42:44.534Z"
   },
   {
    "duration": 6,
    "start_time": "2022-07-21T15:42:44.543Z"
   },
   {
    "duration": 8,
    "start_time": "2022-07-21T15:42:44.551Z"
   },
   {
    "duration": 16,
    "start_time": "2022-07-21T15:42:44.561Z"
   },
   {
    "duration": 7,
    "start_time": "2022-07-21T15:42:44.578Z"
   },
   {
    "duration": 28,
    "start_time": "2022-07-21T15:42:44.586Z"
   },
   {
    "duration": 3,
    "start_time": "2022-07-21T15:42:44.615Z"
   },
   {
    "duration": 5,
    "start_time": "2022-07-21T15:42:44.620Z"
   },
   {
    "duration": 13,
    "start_time": "2022-07-21T15:42:44.627Z"
   },
   {
    "duration": 3,
    "start_time": "2022-07-21T15:42:44.642Z"
   },
   {
    "duration": 13,
    "start_time": "2022-07-21T15:42:44.646Z"
   },
   {
    "duration": 3595,
    "start_time": "2022-07-21T15:42:44.661Z"
   },
   {
    "duration": 1348,
    "start_time": "2022-07-21T15:42:50.727Z"
   },
   {
    "duration": 382,
    "start_time": "2022-07-21T15:42:52.077Z"
   },
   {
    "duration": 14,
    "start_time": "2022-07-21T15:42:52.461Z"
   },
   {
    "duration": 27,
    "start_time": "2022-07-21T15:42:52.478Z"
   },
   {
    "duration": 45,
    "start_time": "2022-07-21T15:42:52.506Z"
   },
   {
    "duration": 9,
    "start_time": "2022-07-21T15:42:52.553Z"
   },
   {
    "duration": 8,
    "start_time": "2022-07-21T15:42:52.564Z"
   },
   {
    "duration": 32,
    "start_time": "2022-07-21T15:42:52.573Z"
   },
   {
    "duration": 14,
    "start_time": "2022-07-21T15:42:52.606Z"
   },
   {
    "duration": 46,
    "start_time": "2022-07-21T15:42:52.623Z"
   },
   {
    "duration": 35,
    "start_time": "2022-07-21T15:42:52.671Z"
   },
   {
    "duration": 34,
    "start_time": "2022-07-21T15:42:52.708Z"
   },
   {
    "duration": 30,
    "start_time": "2022-07-21T15:42:52.744Z"
   },
   {
    "duration": 60,
    "start_time": "2022-07-21T15:42:52.776Z"
   },
   {
    "duration": 24,
    "start_time": "2022-07-21T15:42:52.838Z"
   },
   {
    "duration": 19,
    "start_time": "2022-07-21T15:42:52.863Z"
   },
   {
    "duration": 16,
    "start_time": "2022-07-21T15:42:52.885Z"
   },
   {
    "duration": 14,
    "start_time": "2022-07-21T15:42:52.902Z"
   },
   {
    "duration": 13,
    "start_time": "2022-07-21T15:42:52.918Z"
   },
   {
    "duration": 18,
    "start_time": "2022-07-21T15:42:52.933Z"
   },
   {
    "duration": 15,
    "start_time": "2022-07-21T15:42:52.953Z"
   },
   {
    "duration": 15,
    "start_time": "2022-07-21T15:42:52.969Z"
   },
   {
    "duration": 42,
    "start_time": "2022-07-21T15:42:52.986Z"
   },
   {
    "duration": 25,
    "start_time": "2022-07-21T15:42:53.030Z"
   },
   {
    "duration": 23,
    "start_time": "2022-07-21T15:42:53.057Z"
   },
   {
    "duration": 3,
    "start_time": "2022-07-21T15:42:53.105Z"
   },
   {
    "duration": 23,
    "start_time": "2022-07-21T15:42:53.110Z"
   },
   {
    "duration": 168,
    "start_time": "2022-07-21T15:42:53.139Z"
   },
   {
    "duration": 106,
    "start_time": "2022-07-21T15:42:53.309Z"
   },
   {
    "duration": 6,
    "start_time": "2022-07-21T15:42:53.505Z"
   },
   {
    "duration": 97,
    "start_time": "2022-07-21T15:42:53.513Z"
   },
   {
    "duration": 8,
    "start_time": "2022-07-21T15:42:53.612Z"
   },
   {
    "duration": 10,
    "start_time": "2022-07-21T15:42:53.622Z"
   },
   {
    "duration": 12,
    "start_time": "2022-07-21T15:42:53.633Z"
   },
   {
    "duration": 8,
    "start_time": "2022-07-21T15:42:53.646Z"
   },
   {
    "duration": 6,
    "start_time": "2022-07-21T15:42:53.656Z"
   },
   {
    "duration": 11,
    "start_time": "2022-07-21T15:42:53.664Z"
   },
   {
    "duration": 9,
    "start_time": "2022-07-21T15:42:53.677Z"
   },
   {
    "duration": 12,
    "start_time": "2022-07-21T15:42:53.704Z"
   },
   {
    "duration": 3,
    "start_time": "2022-07-21T15:42:53.718Z"
   },
   {
    "duration": 8,
    "start_time": "2022-07-21T15:42:53.722Z"
   },
   {
    "duration": 21,
    "start_time": "2022-07-21T15:42:53.732Z"
   },
   {
    "duration": 3,
    "start_time": "2022-07-21T15:42:53.755Z"
   },
   {
    "duration": 7,
    "start_time": "2022-07-21T15:42:53.759Z"
   },
   {
    "duration": 143,
    "start_time": "2022-07-21T15:42:53.768Z"
   },
   {
    "duration": 0,
    "start_time": "2022-07-21T15:42:53.913Z"
   },
   {
    "duration": 0,
    "start_time": "2022-07-21T15:42:53.914Z"
   },
   {
    "duration": 0,
    "start_time": "2022-07-21T15:42:53.915Z"
   },
   {
    "duration": 0,
    "start_time": "2022-07-21T15:42:53.916Z"
   },
   {
    "duration": 16,
    "start_time": "2022-07-21T15:43:29.378Z"
   },
   {
    "duration": 8,
    "start_time": "2022-07-21T15:43:37.817Z"
   },
   {
    "duration": 3247,
    "start_time": "2022-07-21T15:43:47.933Z"
   },
   {
    "duration": 16,
    "start_time": "2022-07-21T15:43:53.340Z"
   },
   {
    "duration": 3175,
    "start_time": "2022-07-21T15:43:58.394Z"
   },
   {
    "duration": 8,
    "start_time": "2022-07-21T15:44:03.637Z"
   },
   {
    "duration": 2883,
    "start_time": "2022-07-21T15:44:04.593Z"
   },
   {
    "duration": 2640,
    "start_time": "2022-07-21T15:44:07.478Z"
   },
   {
    "duration": 19,
    "start_time": "2022-07-21T15:44:10.120Z"
   },
   {
    "duration": 1378,
    "start_time": "2022-07-21T15:44:43.625Z"
   },
   {
    "duration": 408,
    "start_time": "2022-07-21T15:44:45.005Z"
   },
   {
    "duration": 15,
    "start_time": "2022-07-21T15:44:45.415Z"
   },
   {
    "duration": 17,
    "start_time": "2022-07-21T15:44:45.432Z"
   },
   {
    "duration": 78,
    "start_time": "2022-07-21T15:44:45.451Z"
   },
   {
    "duration": 10,
    "start_time": "2022-07-21T15:44:45.531Z"
   },
   {
    "duration": 7,
    "start_time": "2022-07-21T15:44:45.542Z"
   },
   {
    "duration": 17,
    "start_time": "2022-07-21T15:44:45.551Z"
   },
   {
    "duration": 20,
    "start_time": "2022-07-21T15:44:45.569Z"
   },
   {
    "duration": 44,
    "start_time": "2022-07-21T15:44:45.604Z"
   },
   {
    "duration": 10,
    "start_time": "2022-07-21T15:44:45.649Z"
   },
   {
    "duration": 6,
    "start_time": "2022-07-21T15:44:45.660Z"
   },
   {
    "duration": 13,
    "start_time": "2022-07-21T15:44:45.668Z"
   },
   {
    "duration": 48,
    "start_time": "2022-07-21T15:44:45.706Z"
   },
   {
    "duration": 9,
    "start_time": "2022-07-21T15:44:45.755Z"
   },
   {
    "duration": 6,
    "start_time": "2022-07-21T15:44:45.765Z"
   },
   {
    "duration": 9,
    "start_time": "2022-07-21T15:44:45.773Z"
   },
   {
    "duration": 5,
    "start_time": "2022-07-21T15:44:45.804Z"
   },
   {
    "duration": 8,
    "start_time": "2022-07-21T15:44:45.811Z"
   },
   {
    "duration": 17,
    "start_time": "2022-07-21T15:44:45.820Z"
   },
   {
    "duration": 13,
    "start_time": "2022-07-21T15:44:45.839Z"
   },
   {
    "duration": 14,
    "start_time": "2022-07-21T15:44:45.853Z"
   },
   {
    "duration": 52,
    "start_time": "2022-07-21T15:44:45.868Z"
   },
   {
    "duration": 22,
    "start_time": "2022-07-21T15:44:45.922Z"
   },
   {
    "duration": 20,
    "start_time": "2022-07-21T15:44:45.946Z"
   },
   {
    "duration": 3,
    "start_time": "2022-07-21T15:44:45.968Z"
   },
   {
    "duration": 44,
    "start_time": "2022-07-21T15:44:45.973Z"
   },
   {
    "duration": 93,
    "start_time": "2022-07-21T15:44:46.018Z"
   },
   {
    "duration": 201,
    "start_time": "2022-07-21T15:44:46.115Z"
   },
   {
    "duration": 84,
    "start_time": "2022-07-21T15:44:46.322Z"
   },
   {
    "duration": 98,
    "start_time": "2022-07-21T15:44:46.408Z"
   },
   {
    "duration": 10,
    "start_time": "2022-07-21T15:44:46.509Z"
   },
   {
    "duration": 16,
    "start_time": "2022-07-21T15:44:46.521Z"
   },
   {
    "duration": 12,
    "start_time": "2022-07-21T15:44:46.539Z"
   },
   {
    "duration": 10,
    "start_time": "2022-07-21T15:44:46.554Z"
   },
   {
    "duration": 8,
    "start_time": "2022-07-21T15:44:46.566Z"
   },
   {
    "duration": 12,
    "start_time": "2022-07-21T15:44:46.576Z"
   },
   {
    "duration": 7,
    "start_time": "2022-07-21T15:44:46.603Z"
   },
   {
    "duration": 19,
    "start_time": "2022-07-21T15:44:46.612Z"
   },
   {
    "duration": 4,
    "start_time": "2022-07-21T15:44:46.633Z"
   },
   {
    "duration": 12,
    "start_time": "2022-07-21T15:44:46.642Z"
   },
   {
    "duration": 17,
    "start_time": "2022-07-21T15:44:46.656Z"
   },
   {
    "duration": 30,
    "start_time": "2022-07-21T15:44:46.675Z"
   },
   {
    "duration": 12,
    "start_time": "2022-07-21T15:44:46.708Z"
   },
   {
    "duration": 127,
    "start_time": "2022-07-21T15:44:46.722Z"
   },
   {
    "duration": 0,
    "start_time": "2022-07-21T15:44:46.850Z"
   },
   {
    "duration": 0,
    "start_time": "2022-07-21T15:44:46.851Z"
   },
   {
    "duration": 0,
    "start_time": "2022-07-21T15:44:46.852Z"
   },
   {
    "duration": 1,
    "start_time": "2022-07-21T15:44:46.852Z"
   },
   {
    "duration": 16,
    "start_time": "2022-07-21T15:44:53.374Z"
   },
   {
    "duration": 19,
    "start_time": "2022-07-21T15:44:54.414Z"
   },
   {
    "duration": 17,
    "start_time": "2022-07-21T15:45:02.487Z"
   },
   {
    "duration": 18,
    "start_time": "2022-07-21T15:45:04.974Z"
   },
   {
    "duration": 78,
    "start_time": "2022-07-21T15:45:10.416Z"
   },
   {
    "duration": 17,
    "start_time": "2022-07-21T15:45:12.914Z"
   },
   {
    "duration": 22,
    "start_time": "2022-07-21T15:45:16.615Z"
   },
   {
    "duration": 3,
    "start_time": "2022-07-21T15:45:21.888Z"
   },
   {
    "duration": 4,
    "start_time": "2022-07-21T15:45:24.132Z"
   },
   {
    "duration": 16,
    "start_time": "2022-07-21T15:45:25.759Z"
   },
   {
    "duration": 22,
    "start_time": "2022-07-21T15:45:42.087Z"
   },
   {
    "duration": 3277,
    "start_time": "2022-07-21T15:45:57.815Z"
   },
   {
    "duration": 18,
    "start_time": "2022-07-21T15:46:45.163Z"
   },
   {
    "duration": 72,
    "start_time": "2022-07-21T15:47:31.840Z"
   },
   {
    "duration": 22,
    "start_time": "2022-07-21T15:47:41.272Z"
   },
   {
    "duration": 2659,
    "start_time": "2022-07-21T15:47:52.737Z"
   },
   {
    "duration": 2696,
    "start_time": "2022-07-21T15:47:58.189Z"
   },
   {
    "duration": 2,
    "start_time": "2022-07-21T15:48:00.887Z"
   },
   {
    "duration": 2732,
    "start_time": "2022-07-21T15:48:00.891Z"
   },
   {
    "duration": 2717,
    "start_time": "2022-07-21T15:48:03.625Z"
   },
   {
    "duration": 11,
    "start_time": "2022-07-21T15:48:06.344Z"
   },
   {
    "duration": 1448,
    "start_time": "2022-07-22T09:02:25.308Z"
   },
   {
    "duration": 820,
    "start_time": "2022-07-22T09:02:26.758Z"
   },
   {
    "duration": 14,
    "start_time": "2022-07-22T09:02:27.579Z"
   },
   {
    "duration": 17,
    "start_time": "2022-07-22T09:02:27.595Z"
   },
   {
    "duration": 46,
    "start_time": "2022-07-22T09:02:27.613Z"
   },
   {
    "duration": 10,
    "start_time": "2022-07-22T09:02:27.661Z"
   },
   {
    "duration": 9,
    "start_time": "2022-07-22T09:02:27.673Z"
   },
   {
    "duration": 30,
    "start_time": "2022-07-22T09:02:27.684Z"
   },
   {
    "duration": 21,
    "start_time": "2022-07-22T09:02:27.716Z"
   },
   {
    "duration": 45,
    "start_time": "2022-07-22T09:02:27.740Z"
   },
   {
    "duration": 10,
    "start_time": "2022-07-22T09:02:27.787Z"
   },
   {
    "duration": 6,
    "start_time": "2022-07-22T09:02:27.798Z"
   },
   {
    "duration": 10,
    "start_time": "2022-07-22T09:02:27.806Z"
   },
   {
    "duration": 71,
    "start_time": "2022-07-22T09:02:27.818Z"
   },
   {
    "duration": 11,
    "start_time": "2022-07-22T09:02:27.891Z"
   },
   {
    "duration": 8,
    "start_time": "2022-07-22T09:02:27.903Z"
   },
   {
    "duration": 8,
    "start_time": "2022-07-22T09:02:27.912Z"
   },
   {
    "duration": 25,
    "start_time": "2022-07-22T09:02:27.921Z"
   },
   {
    "duration": 8,
    "start_time": "2022-07-22T09:02:27.948Z"
   },
   {
    "duration": 15,
    "start_time": "2022-07-22T09:02:27.958Z"
   },
   {
    "duration": 13,
    "start_time": "2022-07-22T09:02:27.974Z"
   },
   {
    "duration": 16,
    "start_time": "2022-07-22T09:02:27.989Z"
   },
   {
    "duration": 46,
    "start_time": "2022-07-22T09:02:28.007Z"
   },
   {
    "duration": 18,
    "start_time": "2022-07-22T09:02:28.054Z"
   },
   {
    "duration": 19,
    "start_time": "2022-07-22T09:02:28.074Z"
   },
   {
    "duration": 3,
    "start_time": "2022-07-22T09:02:28.094Z"
   },
   {
    "duration": 149,
    "start_time": "2022-07-22T09:02:28.099Z"
   },
   {
    "duration": 103,
    "start_time": "2022-07-22T09:02:28.254Z"
   },
   {
    "duration": 187,
    "start_time": "2022-07-22T09:02:28.359Z"
   },
   {
    "duration": 106,
    "start_time": "2022-07-22T09:02:28.548Z"
   },
   {
    "duration": 6,
    "start_time": "2022-07-22T09:02:28.656Z"
   },
   {
    "duration": 12,
    "start_time": "2022-07-22T09:02:28.663Z"
   },
   {
    "duration": 7,
    "start_time": "2022-07-22T09:02:28.676Z"
   },
   {
    "duration": 6,
    "start_time": "2022-07-22T09:02:28.685Z"
   },
   {
    "duration": 8,
    "start_time": "2022-07-22T09:02:28.692Z"
   },
   {
    "duration": 46,
    "start_time": "2022-07-22T09:02:28.701Z"
   },
   {
    "duration": 19,
    "start_time": "2022-07-22T09:02:28.749Z"
   },
   {
    "duration": 6,
    "start_time": "2022-07-22T09:02:28.769Z"
   },
   {
    "duration": 12,
    "start_time": "2022-07-22T09:02:28.776Z"
   },
   {
    "duration": 2,
    "start_time": "2022-07-22T09:02:28.790Z"
   },
   {
    "duration": 6,
    "start_time": "2022-07-22T09:02:28.794Z"
   },
   {
    "duration": 14,
    "start_time": "2022-07-22T09:02:28.802Z"
   },
   {
    "duration": 3,
    "start_time": "2022-07-22T09:02:28.818Z"
   },
   {
    "duration": 26,
    "start_time": "2022-07-22T09:02:28.822Z"
   },
   {
    "duration": 61,
    "start_time": "2022-07-22T09:02:35.403Z"
   },
   {
    "duration": 2668,
    "start_time": "2022-07-22T09:02:46.106Z"
   },
   {
    "duration": 3,
    "start_time": "2022-07-22T09:04:57.175Z"
   },
   {
    "duration": 2822,
    "start_time": "2022-07-22T09:05:00.874Z"
   },
   {
    "duration": 112,
    "start_time": "2022-07-22T09:05:22.742Z"
   },
   {
    "duration": 2848,
    "start_time": "2022-07-22T09:05:36.297Z"
   },
   {
    "duration": 4,
    "start_time": "2022-07-22T09:12:11.493Z"
   },
   {
    "duration": 3,
    "start_time": "2022-07-22T09:12:14.115Z"
   },
   {
    "duration": 2810,
    "start_time": "2022-07-22T09:12:16.568Z"
   },
   {
    "duration": 4,
    "start_time": "2022-07-22T09:14:34.398Z"
   },
   {
    "duration": 3022,
    "start_time": "2022-07-22T09:14:37.380Z"
   },
   {
    "duration": 3,
    "start_time": "2022-07-22T09:15:15.068Z"
   },
   {
    "duration": 2935,
    "start_time": "2022-07-22T09:15:19.594Z"
   },
   {
    "duration": 3,
    "start_time": "2022-07-22T09:18:35.442Z"
   },
   {
    "duration": 3,
    "start_time": "2022-07-22T09:18:37.813Z"
   },
   {
    "duration": 3,
    "start_time": "2022-07-22T09:19:06.157Z"
   },
   {
    "duration": 3,
    "start_time": "2022-07-22T09:19:07.184Z"
   },
   {
    "duration": 3,
    "start_time": "2022-07-22T09:19:08.595Z"
   },
   {
    "duration": 2927,
    "start_time": "2022-07-22T09:19:09.943Z"
   },
   {
    "duration": 3344,
    "start_time": "2022-07-22T09:20:59.044Z"
   },
   {
    "duration": 20,
    "start_time": "2022-07-22T09:21:32.055Z"
   },
   {
    "duration": 18,
    "start_time": "2022-07-22T09:21:34.699Z"
   },
   {
    "duration": 3262,
    "start_time": "2022-07-22T09:21:48.536Z"
   },
   {
    "duration": 3171,
    "start_time": "2022-07-22T09:22:03.597Z"
   },
   {
    "duration": 4,
    "start_time": "2022-07-22T09:28:01.042Z"
   },
   {
    "duration": 2,
    "start_time": "2022-07-22T09:28:03.195Z"
   },
   {
    "duration": 4,
    "start_time": "2022-07-22T09:28:13.015Z"
   },
   {
    "duration": 3325,
    "start_time": "2022-07-22T09:28:13.445Z"
   },
   {
    "duration": 3431,
    "start_time": "2022-07-22T09:30:56.767Z"
   },
   {
    "duration": 3257,
    "start_time": "2022-07-22T09:31:33.996Z"
   },
   {
    "duration": 5,
    "start_time": "2022-07-22T09:32:53.365Z"
   },
   {
    "duration": 3,
    "start_time": "2022-07-22T09:32:55.485Z"
   },
   {
    "duration": 3,
    "start_time": "2022-07-22T09:32:57.792Z"
   },
   {
    "duration": 3267,
    "start_time": "2022-07-22T09:33:00.316Z"
   },
   {
    "duration": 1495,
    "start_time": "2022-07-22T09:38:22.363Z"
   },
   {
    "duration": 1552,
    "start_time": "2022-07-22T09:38:40.365Z"
   },
   {
    "duration": 3200,
    "start_time": "2022-07-22T09:39:08.476Z"
   },
   {
    "duration": 3156,
    "start_time": "2022-07-22T09:39:22.003Z"
   },
   {
    "duration": 3147,
    "start_time": "2022-07-22T09:39:50.876Z"
   },
   {
    "duration": 3268,
    "start_time": "2022-07-22T09:40:01.585Z"
   },
   {
    "duration": 3211,
    "start_time": "2022-07-22T09:40:30.773Z"
   },
   {
    "duration": 3291,
    "start_time": "2022-07-22T09:40:57.574Z"
   },
   {
    "duration": 3291,
    "start_time": "2022-07-22T09:41:07.295Z"
   },
   {
    "duration": 3,
    "start_time": "2022-07-22T09:42:49.577Z"
   },
   {
    "duration": 3622,
    "start_time": "2022-07-22T09:42:51.631Z"
   },
   {
    "duration": 3479,
    "start_time": "2022-07-22T09:44:48.144Z"
   },
   {
    "duration": 6,
    "start_time": "2022-07-22T09:56:17.946Z"
   },
   {
    "duration": 6,
    "start_time": "2022-07-22T09:56:23.311Z"
   },
   {
    "duration": 5,
    "start_time": "2022-07-22T09:56:29.619Z"
   },
   {
    "duration": 6,
    "start_time": "2022-07-22T09:56:47.629Z"
   },
   {
    "duration": 5,
    "start_time": "2022-07-22T10:00:26.029Z"
   },
   {
    "duration": 4325,
    "start_time": "2022-07-22T10:00:28.936Z"
   },
   {
    "duration": 5,
    "start_time": "2022-07-22T10:00:58.389Z"
   },
   {
    "duration": 3707,
    "start_time": "2022-07-22T10:01:00.054Z"
   },
   {
    "duration": 4309,
    "start_time": "2022-07-22T10:04:16.003Z"
   },
   {
    "duration": 3587,
    "start_time": "2022-07-22T10:04:35.566Z"
   },
   {
    "duration": 3,
    "start_time": "2022-07-22T10:04:43.982Z"
   },
   {
    "duration": 2997,
    "start_time": "2022-07-22T10:04:45.916Z"
   },
   {
    "duration": 3122,
    "start_time": "2022-07-22T10:05:45.033Z"
   },
   {
    "duration": 3556,
    "start_time": "2022-07-22T10:06:42.405Z"
   },
   {
    "duration": 3915,
    "start_time": "2022-07-22T10:07:08.750Z"
   },
   {
    "duration": 3269,
    "start_time": "2022-07-22T10:09:36.918Z"
   },
   {
    "duration": 2729,
    "start_time": "2022-07-22T10:10:09.413Z"
   },
   {
    "duration": 3187,
    "start_time": "2022-07-22T10:12:28.370Z"
   },
   {
    "duration": 3400,
    "start_time": "2022-07-22T10:13:31.513Z"
   },
   {
    "duration": 24,
    "start_time": "2022-07-22T10:14:03.378Z"
   },
   {
    "duration": 3112,
    "start_time": "2022-07-22T10:14:12.097Z"
   },
   {
    "duration": 67,
    "start_time": "2022-07-22T10:15:04.187Z"
   },
   {
    "duration": 3135,
    "start_time": "2022-07-22T10:15:08.391Z"
   },
   {
    "duration": 3104,
    "start_time": "2022-07-22T10:16:22.904Z"
   },
   {
    "duration": 3090,
    "start_time": "2022-07-22T10:16:34.792Z"
   },
   {
    "duration": 3109,
    "start_time": "2022-07-22T10:17:08.905Z"
   },
   {
    "duration": 3181,
    "start_time": "2022-07-22T10:17:21.972Z"
   },
   {
    "duration": 3297,
    "start_time": "2022-07-22T10:17:47.459Z"
   },
   {
    "duration": 3204,
    "start_time": "2022-07-22T10:17:58.161Z"
   },
   {
    "duration": 184,
    "start_time": "2022-07-22T10:18:36.431Z"
   },
   {
    "duration": 19,
    "start_time": "2022-07-22T10:18:51.544Z"
   },
   {
    "duration": 3225,
    "start_time": "2022-07-22T10:19:06.523Z"
   },
   {
    "duration": 3151,
    "start_time": "2022-07-22T10:19:27.982Z"
   },
   {
    "duration": 3131,
    "start_time": "2022-07-22T10:19:49.690Z"
   },
   {
    "duration": 3240,
    "start_time": "2022-07-22T10:20:02.856Z"
   },
   {
    "duration": 3132,
    "start_time": "2022-07-22T10:21:42.305Z"
   },
   {
    "duration": 46,
    "start_time": "2022-07-22T10:45:11.320Z"
   },
   {
    "duration": 1439,
    "start_time": "2022-07-22T10:45:20.420Z"
   },
   {
    "duration": 725,
    "start_time": "2022-07-22T10:45:21.861Z"
   },
   {
    "duration": 13,
    "start_time": "2022-07-22T10:45:22.588Z"
   },
   {
    "duration": 15,
    "start_time": "2022-07-22T10:45:22.603Z"
   },
   {
    "duration": 48,
    "start_time": "2022-07-22T10:45:22.620Z"
   },
   {
    "duration": 9,
    "start_time": "2022-07-22T10:45:22.670Z"
   },
   {
    "duration": 13,
    "start_time": "2022-07-22T10:45:22.680Z"
   },
   {
    "duration": 17,
    "start_time": "2022-07-22T10:45:22.695Z"
   },
   {
    "duration": 15,
    "start_time": "2022-07-22T10:45:22.714Z"
   },
   {
    "duration": 61,
    "start_time": "2022-07-22T10:45:22.730Z"
   },
   {
    "duration": 9,
    "start_time": "2022-07-22T10:45:22.792Z"
   },
   {
    "duration": 5,
    "start_time": "2022-07-22T10:45:22.803Z"
   },
   {
    "duration": 11,
    "start_time": "2022-07-22T10:45:22.810Z"
   },
   {
    "duration": 74,
    "start_time": "2022-07-22T10:45:22.824Z"
   },
   {
    "duration": 10,
    "start_time": "2022-07-22T10:45:22.899Z"
   },
   {
    "duration": 9,
    "start_time": "2022-07-22T10:45:22.910Z"
   },
   {
    "duration": 7,
    "start_time": "2022-07-22T10:45:22.921Z"
   },
   {
    "duration": 9,
    "start_time": "2022-07-22T10:45:22.930Z"
   },
   {
    "duration": 31,
    "start_time": "2022-07-22T10:45:22.940Z"
   },
   {
    "duration": 15,
    "start_time": "2022-07-22T10:45:22.973Z"
   },
   {
    "duration": 13,
    "start_time": "2022-07-22T10:45:22.989Z"
   },
   {
    "duration": 12,
    "start_time": "2022-07-22T10:45:23.004Z"
   },
   {
    "duration": 44,
    "start_time": "2022-07-22T10:45:23.018Z"
   },
   {
    "duration": 20,
    "start_time": "2022-07-22T10:45:23.063Z"
   },
   {
    "duration": 19,
    "start_time": "2022-07-22T10:45:23.084Z"
   },
   {
    "duration": 3,
    "start_time": "2022-07-22T10:45:23.104Z"
   },
   {
    "duration": 57,
    "start_time": "2022-07-22T10:45:23.109Z"
   },
   {
    "duration": 198,
    "start_time": "2022-07-22T10:45:23.168Z"
   },
   {
    "duration": 199,
    "start_time": "2022-07-22T10:45:23.369Z"
   },
   {
    "duration": 89,
    "start_time": "2022-07-22T10:45:23.572Z"
   },
   {
    "duration": 6,
    "start_time": "2022-07-22T10:45:23.663Z"
   },
   {
    "duration": 14,
    "start_time": "2022-07-22T10:45:23.671Z"
   },
   {
    "duration": 6,
    "start_time": "2022-07-22T10:45:23.687Z"
   },
   {
    "duration": 15,
    "start_time": "2022-07-22T10:45:23.695Z"
   },
   {
    "duration": 8,
    "start_time": "2022-07-22T10:45:23.712Z"
   },
   {
    "duration": 6,
    "start_time": "2022-07-22T10:45:23.722Z"
   },
   {
    "duration": 9,
    "start_time": "2022-07-22T10:45:23.730Z"
   },
   {
    "duration": 22,
    "start_time": "2022-07-22T10:45:23.741Z"
   },
   {
    "duration": 19,
    "start_time": "2022-07-22T10:45:23.765Z"
   },
   {
    "duration": 5,
    "start_time": "2022-07-22T10:45:23.786Z"
   },
   {
    "duration": 7,
    "start_time": "2022-07-22T10:45:23.795Z"
   },
   {
    "duration": 12,
    "start_time": "2022-07-22T10:45:23.804Z"
   },
   {
    "duration": 3,
    "start_time": "2022-07-22T10:45:23.817Z"
   },
   {
    "duration": 9,
    "start_time": "2022-07-22T10:45:23.822Z"
   },
   {
    "duration": 29,
    "start_time": "2022-07-22T10:45:23.832Z"
   },
   {
    "duration": 3897,
    "start_time": "2022-07-22T10:45:25.158Z"
   },
   {
    "duration": 0,
    "start_time": "2022-07-22T10:45:29.057Z"
   },
   {
    "duration": 6,
    "start_time": "2022-07-22T10:45:34.008Z"
   },
   {
    "duration": 6,
    "start_time": "2022-07-22T10:45:38.877Z"
   },
   {
    "duration": 6,
    "start_time": "2022-07-22T10:45:43.512Z"
   },
   {
    "duration": 8,
    "start_time": "2022-07-22T10:45:57.863Z"
   },
   {
    "duration": 10,
    "start_time": "2022-07-22T10:46:05.437Z"
   },
   {
    "duration": 9,
    "start_time": "2022-07-22T10:46:11.434Z"
   },
   {
    "duration": 10,
    "start_time": "2022-07-22T10:46:22.235Z"
   },
   {
    "duration": 13,
    "start_time": "2022-07-22T10:46:31.319Z"
   },
   {
    "duration": 11,
    "start_time": "2022-07-22T10:46:35.062Z"
   },
   {
    "duration": 10,
    "start_time": "2022-07-22T10:46:39.111Z"
   },
   {
    "duration": 12,
    "start_time": "2022-07-22T10:46:43.013Z"
   },
   {
    "duration": 6,
    "start_time": "2022-07-22T10:46:47.264Z"
   },
   {
    "duration": 6,
    "start_time": "2022-07-22T10:46:53.004Z"
   },
   {
    "duration": 10,
    "start_time": "2022-07-22T10:46:57.139Z"
   },
   {
    "duration": 10,
    "start_time": "2022-07-22T10:47:00.720Z"
   },
   {
    "duration": 4,
    "start_time": "2022-07-22T10:48:06.493Z"
   },
   {
    "duration": 20,
    "start_time": "2022-07-22T10:48:08.798Z"
   },
   {
    "duration": 5,
    "start_time": "2022-07-22T10:48:17.847Z"
   },
   {
    "duration": 4456,
    "start_time": "2022-07-22T10:48:19.356Z"
   },
   {
    "duration": 3,
    "start_time": "2022-07-22T10:50:04.587Z"
   },
   {
    "duration": 4342,
    "start_time": "2022-07-22T10:50:06.720Z"
   },
   {
    "duration": 3036,
    "start_time": "2022-07-22T10:50:12.308Z"
   },
   {
    "duration": 3092,
    "start_time": "2022-07-22T10:50:36.208Z"
   },
   {
    "duration": 14,
    "start_time": "2022-07-22T10:50:44.639Z"
   },
   {
    "duration": 2972,
    "start_time": "2022-07-22T10:51:06.892Z"
   },
   {
    "duration": 2789,
    "start_time": "2022-07-22T10:51:21.113Z"
   },
   {
    "duration": 11,
    "start_time": "2022-07-22T10:51:25.483Z"
   },
   {
    "duration": 1330,
    "start_time": "2022-07-22T10:51:39.797Z"
   },
   {
    "duration": 401,
    "start_time": "2022-07-22T10:51:41.129Z"
   },
   {
    "duration": 12,
    "start_time": "2022-07-22T10:51:41.532Z"
   },
   {
    "duration": 32,
    "start_time": "2022-07-22T10:51:41.546Z"
   },
   {
    "duration": 52,
    "start_time": "2022-07-22T10:51:41.580Z"
   },
   {
    "duration": 10,
    "start_time": "2022-07-22T10:51:41.634Z"
   },
   {
    "duration": 19,
    "start_time": "2022-07-22T10:51:41.646Z"
   },
   {
    "duration": 28,
    "start_time": "2022-07-22T10:51:41.667Z"
   },
   {
    "duration": 28,
    "start_time": "2022-07-22T10:51:41.697Z"
   },
   {
    "duration": 53,
    "start_time": "2022-07-22T10:51:41.727Z"
   },
   {
    "duration": 9,
    "start_time": "2022-07-22T10:51:41.782Z"
   },
   {
    "duration": 22,
    "start_time": "2022-07-22T10:51:41.793Z"
   },
   {
    "duration": 20,
    "start_time": "2022-07-22T10:51:41.816Z"
   },
   {
    "duration": 69,
    "start_time": "2022-07-22T10:51:41.837Z"
   },
   {
    "duration": 9,
    "start_time": "2022-07-22T10:51:41.907Z"
   },
   {
    "duration": 35,
    "start_time": "2022-07-22T10:51:41.918Z"
   },
   {
    "duration": 29,
    "start_time": "2022-07-22T10:51:41.954Z"
   },
   {
    "duration": 25,
    "start_time": "2022-07-22T10:51:41.985Z"
   },
   {
    "duration": 24,
    "start_time": "2022-07-22T10:51:42.012Z"
   },
   {
    "duration": 56,
    "start_time": "2022-07-22T10:51:42.038Z"
   },
   {
    "duration": 48,
    "start_time": "2022-07-22T10:51:42.096Z"
   },
   {
    "duration": 49,
    "start_time": "2022-07-22T10:51:42.145Z"
   },
   {
    "duration": 26,
    "start_time": "2022-07-22T10:51:42.196Z"
   },
   {
    "duration": 21,
    "start_time": "2022-07-22T10:51:42.224Z"
   },
   {
    "duration": 20,
    "start_time": "2022-07-22T10:51:42.247Z"
   },
   {
    "duration": 28,
    "start_time": "2022-07-22T10:51:42.269Z"
   },
   {
    "duration": 29,
    "start_time": "2022-07-22T10:51:42.298Z"
   },
   {
    "duration": 146,
    "start_time": "2022-07-22T10:51:42.334Z"
   },
   {
    "duration": 254,
    "start_time": "2022-07-22T10:51:42.482Z"
   },
   {
    "duration": 24,
    "start_time": "2022-07-22T10:51:42.739Z"
   },
   {
    "duration": 117,
    "start_time": "2022-07-22T10:51:42.765Z"
   },
   {
    "duration": 6,
    "start_time": "2022-07-22T10:51:42.884Z"
   },
   {
    "duration": 13,
    "start_time": "2022-07-22T10:51:42.891Z"
   },
   {
    "duration": 6,
    "start_time": "2022-07-22T10:51:42.905Z"
   },
   {
    "duration": 5,
    "start_time": "2022-07-22T10:51:42.913Z"
   },
   {
    "duration": 8,
    "start_time": "2022-07-22T10:51:42.920Z"
   },
   {
    "duration": 7,
    "start_time": "2022-07-22T10:51:42.930Z"
   },
   {
    "duration": 27,
    "start_time": "2022-07-22T10:51:42.938Z"
   },
   {
    "duration": 20,
    "start_time": "2022-07-22T10:51:42.973Z"
   },
   {
    "duration": 3,
    "start_time": "2022-07-22T10:51:42.995Z"
   },
   {
    "duration": 12,
    "start_time": "2022-07-22T10:51:43.000Z"
   },
   {
    "duration": 25,
    "start_time": "2022-07-22T10:51:43.014Z"
   },
   {
    "duration": 6,
    "start_time": "2022-07-22T10:51:43.040Z"
   },
   {
    "duration": 6,
    "start_time": "2022-07-22T10:51:43.048Z"
   },
   {
    "duration": 23,
    "start_time": "2022-07-22T10:51:43.056Z"
   },
   {
    "duration": 2736,
    "start_time": "2022-07-22T10:51:43.080Z"
   },
   {
    "duration": 3,
    "start_time": "2022-07-22T10:51:45.817Z"
   },
   {
    "duration": 2897,
    "start_time": "2022-07-22T10:51:45.821Z"
   },
   {
    "duration": 2826,
    "start_time": "2022-07-22T10:51:48.720Z"
   },
   {
    "duration": 16,
    "start_time": "2022-07-22T10:51:51.548Z"
   }
  ],
  "kernelspec": {
   "display_name": "Python 3 (ipykernel)",
   "language": "python",
   "name": "python3"
  },
  "language_info": {
   "codemirror_mode": {
    "name": "ipython",
    "version": 3
   },
   "file_extension": ".py",
   "mimetype": "text/x-python",
   "name": "python",
   "nbconvert_exporter": "python",
   "pygments_lexer": "ipython3",
   "version": "3.9.7"
  },
  "toc": {
   "base_numbering": 1,
   "nav_menu": {},
   "number_sections": true,
   "sideBar": true,
   "skip_h1_title": true,
   "title_cell": "Table of Contents",
   "title_sidebar": "Contents",
   "toc_cell": false,
   "toc_position": {},
   "toc_section_display": true,
   "toc_window_display": false
  }
 },
 "nbformat": 4,
 "nbformat_minor": 4
}
