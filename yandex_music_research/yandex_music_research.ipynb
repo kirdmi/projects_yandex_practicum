{
 "cells": [
  {
   "cell_type": "markdown",
   "metadata": {
    "id": "E0vqbgi9ay0H"
   },
   "source": [
    "# Музыка\n",
    "___\n",
    "# Music"
   ]
  },
  {
   "cell_type": "markdown",
   "metadata": {
    "id": "VUC88oWjTJw2"
   },
   "source": [
    "**Цель исследования** \n",
    "\n",
    "Проверка трех гипотез:\n",
    "1. Активность пользователей зависит от дня недели.\n",
    "2. Утром понедельника наиболее пробладают одни жанры в Москве, другие в Петербурге.\n",
    "3. Житеям Москвы и Петербурга нравятся разные жанры музыки. Для Москвы характерна любовь к поп-музыке, для Петербурга - к русскому рэпу.\n",
    "\n",
    "Исследование пройдёт в три этапа:\n",
    " 1. Обзор данных.\n",
    " 2. Предобработка данных.\n",
    " 3. Проверка гипотез.\n",
    "___\n",
    "**Purpose of the study**\n",
    "\n",
    "Testing three hypotheses:\n",
    "1. User activity depends on the day of the week.\n",
    "2. On Monday morning, some genres are most often sold in Moscow, others in St. Petersburg.\n",
    "3. Residents of Moscow and St. Petersburg like different genres of music. For the nature of Moscow, love for pop music, for St. Petersburg - for Russian rap.\n",
    "\n",
    "The study will take place in three stages:\n",
    "   1. Data review.\n",
    "   2. Data preprocessing.\n",
    "   3. Testing the hypothesis."
   ]
  },
  {
   "cell_type": "markdown",
   "metadata": {
    "id": "Ml1hmfXC_Zcs"
   },
   "source": [
    "## Обзор данных\n",
    "___\n",
    "## Data review\n",
    "\n"
   ]
  },
  {
   "cell_type": "code",
   "execution_count": 39,
   "metadata": {
    "id": "AXN7PHPN_Zcs"
   },
   "outputs": [],
   "source": [
    "import pandas as pd"
   ]
  },
  {
   "cell_type": "code",
   "execution_count": 40,
   "metadata": {
    "id": "fFVu7vqh_Zct"
   },
   "outputs": [],
   "source": [
    "df = pd.read_csv('yandex_music_project.csv')"
   ]
  },
  {
   "cell_type": "code",
   "execution_count": 41,
   "metadata": {
    "id": "oWTVX3gW_Zct"
   },
   "outputs": [
    {
     "data": {
      "text/html": [
       "<div>\n",
       "<style scoped>\n",
       "    .dataframe tbody tr th:only-of-type {\n",
       "        vertical-align: middle;\n",
       "    }\n",
       "\n",
       "    .dataframe tbody tr th {\n",
       "        vertical-align: top;\n",
       "    }\n",
       "\n",
       "    .dataframe thead th {\n",
       "        text-align: right;\n",
       "    }\n",
       "</style>\n",
       "<table border=\"1\" class=\"dataframe\">\n",
       "  <thead>\n",
       "    <tr style=\"text-align: right;\">\n",
       "      <th></th>\n",
       "      <th>userID</th>\n",
       "      <th>Track</th>\n",
       "      <th>artist</th>\n",
       "      <th>genre</th>\n",
       "      <th>City</th>\n",
       "      <th>time</th>\n",
       "      <th>Day</th>\n",
       "    </tr>\n",
       "  </thead>\n",
       "  <tbody>\n",
       "    <tr>\n",
       "      <td>0</td>\n",
       "      <td>FFB692EC</td>\n",
       "      <td>Kamigata To Boots</td>\n",
       "      <td>The Mass Missile</td>\n",
       "      <td>rock</td>\n",
       "      <td>Saint-Petersburg</td>\n",
       "      <td>20:28:33</td>\n",
       "      <td>Wednesday</td>\n",
       "    </tr>\n",
       "    <tr>\n",
       "      <td>1</td>\n",
       "      <td>55204538</td>\n",
       "      <td>Delayed Because of Accident</td>\n",
       "      <td>Andreas Rönnberg</td>\n",
       "      <td>rock</td>\n",
       "      <td>Moscow</td>\n",
       "      <td>14:07:09</td>\n",
       "      <td>Friday</td>\n",
       "    </tr>\n",
       "    <tr>\n",
       "      <td>2</td>\n",
       "      <td>20EC38</td>\n",
       "      <td>Funiculì funiculà</td>\n",
       "      <td>Mario Lanza</td>\n",
       "      <td>pop</td>\n",
       "      <td>Saint-Petersburg</td>\n",
       "      <td>20:58:07</td>\n",
       "      <td>Wednesday</td>\n",
       "    </tr>\n",
       "    <tr>\n",
       "      <td>3</td>\n",
       "      <td>A3DD03C9</td>\n",
       "      <td>Dragons in the Sunset</td>\n",
       "      <td>Fire + Ice</td>\n",
       "      <td>folk</td>\n",
       "      <td>Saint-Petersburg</td>\n",
       "      <td>08:37:09</td>\n",
       "      <td>Monday</td>\n",
       "    </tr>\n",
       "    <tr>\n",
       "      <td>4</td>\n",
       "      <td>E2DC1FAE</td>\n",
       "      <td>Soul People</td>\n",
       "      <td>Space Echo</td>\n",
       "      <td>dance</td>\n",
       "      <td>Moscow</td>\n",
       "      <td>08:34:34</td>\n",
       "      <td>Monday</td>\n",
       "    </tr>\n",
       "    <tr>\n",
       "      <td>5</td>\n",
       "      <td>842029A1</td>\n",
       "      <td>Преданная</td>\n",
       "      <td>IMPERVTOR</td>\n",
       "      <td>rusrap</td>\n",
       "      <td>Saint-Petersburg</td>\n",
       "      <td>13:09:41</td>\n",
       "      <td>Friday</td>\n",
       "    </tr>\n",
       "    <tr>\n",
       "      <td>6</td>\n",
       "      <td>4CB90AA5</td>\n",
       "      <td>True</td>\n",
       "      <td>Roman Messer</td>\n",
       "      <td>dance</td>\n",
       "      <td>Moscow</td>\n",
       "      <td>13:00:07</td>\n",
       "      <td>Wednesday</td>\n",
       "    </tr>\n",
       "    <tr>\n",
       "      <td>7</td>\n",
       "      <td>F03E1C1F</td>\n",
       "      <td>Feeling This Way</td>\n",
       "      <td>Polina Griffith</td>\n",
       "      <td>dance</td>\n",
       "      <td>Moscow</td>\n",
       "      <td>20:47:49</td>\n",
       "      <td>Wednesday</td>\n",
       "    </tr>\n",
       "    <tr>\n",
       "      <td>8</td>\n",
       "      <td>8FA1D3BE</td>\n",
       "      <td>И вновь продолжается бой</td>\n",
       "      <td>NaN</td>\n",
       "      <td>ruspop</td>\n",
       "      <td>Moscow</td>\n",
       "      <td>09:17:40</td>\n",
       "      <td>Friday</td>\n",
       "    </tr>\n",
       "    <tr>\n",
       "      <td>9</td>\n",
       "      <td>E772D5C0</td>\n",
       "      <td>Pessimist</td>\n",
       "      <td>NaN</td>\n",
       "      <td>dance</td>\n",
       "      <td>Saint-Petersburg</td>\n",
       "      <td>21:20:49</td>\n",
       "      <td>Wednesday</td>\n",
       "    </tr>\n",
       "  </tbody>\n",
       "</table>\n",
       "</div>"
      ],
      "text/plain": [
       "     userID                        Track            artist   genre  \\\n",
       "0  FFB692EC            Kamigata To Boots  The Mass Missile    rock   \n",
       "1  55204538  Delayed Because of Accident  Andreas Rönnberg    rock   \n",
       "2    20EC38            Funiculì funiculà       Mario Lanza     pop   \n",
       "3  A3DD03C9        Dragons in the Sunset        Fire + Ice    folk   \n",
       "4  E2DC1FAE                  Soul People        Space Echo   dance   \n",
       "5  842029A1                    Преданная         IMPERVTOR  rusrap   \n",
       "6  4CB90AA5                         True      Roman Messer   dance   \n",
       "7  F03E1C1F             Feeling This Way   Polina Griffith   dance   \n",
       "8  8FA1D3BE     И вновь продолжается бой               NaN  ruspop   \n",
       "9  E772D5C0                    Pessimist               NaN   dance   \n",
       "\n",
       "             City        time        Day  \n",
       "0  Saint-Petersburg  20:28:33  Wednesday  \n",
       "1            Moscow  14:07:09     Friday  \n",
       "2  Saint-Petersburg  20:58:07  Wednesday  \n",
       "3  Saint-Petersburg  08:37:09     Monday  \n",
       "4            Moscow  08:34:34     Monday  \n",
       "5  Saint-Petersburg  13:09:41     Friday  \n",
       "6            Moscow  13:00:07  Wednesday  \n",
       "7            Moscow  20:47:49  Wednesday  \n",
       "8            Moscow  09:17:40     Friday  \n",
       "9  Saint-Petersburg  21:20:49  Wednesday  "
      ]
     },
     "execution_count": 41,
     "metadata": {},
     "output_type": "execute_result"
    }
   ],
   "source": [
    "df.head(10)"
   ]
  },
  {
   "cell_type": "code",
   "execution_count": 42,
   "metadata": {
    "id": "DSf2kIb-_Zct"
   },
   "outputs": [
    {
     "name": "stdout",
     "output_type": "stream",
     "text": [
      "<class 'pandas.core.frame.DataFrame'>\n",
      "RangeIndex: 65079 entries, 0 to 65078\n",
      "Data columns (total 7 columns):\n",
      "  userID    65079 non-null object\n",
      "Track       63848 non-null object\n",
      "artist      57876 non-null object\n",
      "genre       63881 non-null object\n",
      "  City      65079 non-null object\n",
      "time        65079 non-null object\n",
      "Day         65079 non-null object\n",
      "dtypes: object(7)\n",
      "memory usage: 3.5+ MB\n"
     ]
    }
   ],
   "source": [
    "df.info()"
   ]
  },
  {
   "cell_type": "markdown",
   "metadata": {
    "id": "TaQ2Iwbr_Zct"
   },
   "source": [
    "В названиях колонок видны три нарушения стиля:\n",
    "1. Строчные буквы сочетаются с прописными.\n",
    "2. Встречаются пробелы.\n",
    "\n",
    "Количество значений в столбцах различается. Значит, в данных есть пропущенные значения.\n",
    "___\n",
    "There are three style violations in the column headings:\n",
    "1. Lowercase letters are combined with uppercase.\n",
    "2. There are gaps.\n",
    "\n",
    "The number of values in the columns varies. This means there are missing values in the data."
   ]
  },
  {
   "cell_type": "markdown",
   "metadata": {
    "id": "SjYF6Ub9_Zct"
   },
   "source": [
    "## Предобработка данных\n",
    "___\n",
    "## Data preprocessing"
   ]
  },
  {
   "cell_type": "markdown",
   "metadata": {
    "id": "dIaKXr29_Zct"
   },
   "source": [
    "### Стиль заголовков\n",
    "___\n",
    "### Heading style"
   ]
  },
  {
   "cell_type": "code",
   "execution_count": 43,
   "metadata": {
    "id": "oKOTdF_Q_Zct"
   },
   "outputs": [
    {
     "data": {
      "text/plain": [
       "Index(['  userID', 'Track', 'artist', 'genre', '  City  ', 'time', 'Day'], dtype='object')"
      ]
     },
     "execution_count": 43,
     "metadata": {},
     "output_type": "execute_result"
    }
   ],
   "source": [
    "df.columns"
   ]
  },
  {
   "cell_type": "code",
   "execution_count": 44,
   "metadata": {
    "id": "ISlFqs5y_Zct",
    "scrolled": true
   },
   "outputs": [],
   "source": [
    "df = df.rename(columns={'  userID': 'user_id', 'Track': 'track', '  City  ': 'city', 'Day': 'day'})"
   ]
  },
  {
   "cell_type": "code",
   "execution_count": 45,
   "metadata": {
    "id": "d4NOAmTW_Zct"
   },
   "outputs": [
    {
     "data": {
      "text/plain": [
       "Index(['user_id', 'track', 'artist', 'genre', 'city', 'time', 'day'], dtype='object')"
      ]
     },
     "execution_count": 45,
     "metadata": {},
     "output_type": "execute_result"
    }
   ],
   "source": [
    "df.columns"
   ]
  },
  {
   "cell_type": "markdown",
   "metadata": {
    "id": "5ISfbcfY_Zct"
   },
   "source": [
    "### Пропуски значений\n",
    "___\n",
    "### Missing values"
   ]
  },
  {
   "cell_type": "code",
   "execution_count": 46,
   "metadata": {
    "id": "RskX29qr_Zct"
   },
   "outputs": [
    {
     "data": {
      "text/plain": [
       "user_id       0\n",
       "track      1231\n",
       "artist     7203\n",
       "genre      1198\n",
       "city          0\n",
       "time          0\n",
       "day           0\n",
       "dtype: int64"
      ]
     },
     "execution_count": 46,
     "metadata": {},
     "output_type": "execute_result"
    }
   ],
   "source": [
    "df.isna().sum()"
   ]
  },
  {
   "cell_type": "markdown",
   "metadata": {
    "id": "fSv2laPA_Zct"
   },
   "source": [
    "Имеется некоторое количество пропущенных значений, заменим их на строку `'unknown'`.\n",
    "___\n",
    "There are some missing values, let's replace them with the string `'unknown'`."
   ]
  },
  {
   "cell_type": "code",
   "execution_count": 47,
   "metadata": {
    "id": "KplB5qWs_Zct"
   },
   "outputs": [],
   "source": [
    "columns_to_replace = ['track', 'artist', 'genre']\n",
    "for column in columns_to_replace:\n",
    "    df[column] = df[column].fillna('unknown')\n"
   ]
  },
  {
   "cell_type": "code",
   "execution_count": 48,
   "metadata": {
    "id": "Tq4nYRX4_Zct"
   },
   "outputs": [
    {
     "data": {
      "text/plain": [
       "user_id    0\n",
       "track      0\n",
       "artist     0\n",
       "genre      0\n",
       "city       0\n",
       "time       0\n",
       "day        0\n",
       "dtype: int64"
      ]
     },
     "execution_count": 48,
     "metadata": {},
     "output_type": "execute_result"
    }
   ],
   "source": [
    "df.isna().sum()"
   ]
  },
  {
   "cell_type": "markdown",
   "metadata": {
    "id": "BWKRtBJ3_Zct",
    "tags": []
   },
   "source": [
    "### Дубликаты\n",
    "___\n",
    "### Duplicates"
   ]
  },
  {
   "cell_type": "code",
   "execution_count": 49,
   "metadata": {
    "id": "36eES_S0_Zct"
   },
   "outputs": [
    {
     "data": {
      "text/plain": [
       "3826"
      ]
     },
     "execution_count": 49,
     "metadata": {},
     "output_type": "execute_result"
    }
   ],
   "source": [
    "df.duplicated().sum()"
   ]
  },
  {
   "cell_type": "code",
   "execution_count": 50,
   "metadata": {
    "id": "exFHq6tt_Zct"
   },
   "outputs": [],
   "source": [
    "df = df.drop_duplicates().reset_index(drop=True) "
   ]
  },
  {
   "cell_type": "code",
   "execution_count": 51,
   "metadata": {
    "id": "-8PuNWQ0_Zct"
   },
   "outputs": [
    {
     "data": {
      "text/plain": [
       "0"
      ]
     },
     "execution_count": 51,
     "metadata": {},
     "output_type": "execute_result"
    }
   ],
   "source": [
    "df.duplicated().sum()"
   ]
  },
  {
   "cell_type": "code",
   "execution_count": 53,
   "metadata": {
    "id": "JIUcqzZN_Zct"
   },
   "outputs": [
    {
     "data": {
      "text/plain": [
       "array(['acid', 'acoustic', 'action', 'adult', 'africa', 'afrikaans',\n",
       "       'alternative', 'alternativepunk', 'ambient', 'americana',\n",
       "       'animated', 'anime', 'arabesk', 'arabic', 'arena',\n",
       "       'argentinetango', 'art', 'audiobook', 'author', 'avantgarde',\n",
       "       'axé', 'baile', 'balkan', 'beats', 'bigroom', 'black', 'bluegrass',\n",
       "       'blues', 'bollywood', 'bossa', 'brazilian', 'breakbeat', 'breaks',\n",
       "       'broadway', 'cantautori', 'cantopop', 'canzone', 'caribbean',\n",
       "       'caucasian', 'celtic', 'chamber', 'chanson', 'children', 'chill',\n",
       "       'chinese', 'choral', 'christian', 'christmas', 'classical',\n",
       "       'classicmetal', 'club', 'colombian', 'comedy', 'conjazz',\n",
       "       'contemporary', 'country', 'cuban', 'dance', 'dancehall',\n",
       "       'dancepop', 'dark', 'death', 'deep', 'deutschrock', 'deutschspr',\n",
       "       'dirty', 'disco', 'dnb', 'documentary', 'downbeat', 'downtempo',\n",
       "       'drum', 'dub', 'dubstep', 'eastern', 'easy', 'electronic',\n",
       "       'electropop', 'emo', 'entehno', 'epicmetal', 'estrada', 'ethnic',\n",
       "       'eurofolk', 'european', 'experimental', 'extrememetal', 'fado',\n",
       "       'fairytail', 'film', 'fitness', 'flamenco', 'folk', 'folklore',\n",
       "       'folkmetal', 'folkrock', 'folktronica', 'forró', 'frankreich',\n",
       "       'französisch', 'french', 'funk', 'future', 'gangsta', 'garage',\n",
       "       'german', 'ghazal', 'gitarre', 'glitch', 'gospel', 'gothic',\n",
       "       'grime', 'grunge', 'gypsy', 'handsup', \"hard'n'heavy\", 'hardcore',\n",
       "       'hardstyle', 'hardtechno', 'hip', 'hip-hop', 'hiphop',\n",
       "       'historisch', 'holiday', 'hop', 'horror', 'house', 'hymn', 'idm',\n",
       "       'independent', 'indian', 'indie', 'indipop', 'industrial',\n",
       "       'inspirational', 'instrumental', 'international', 'irish', 'jam',\n",
       "       'japanese', 'jazz', 'jewish', 'jpop', 'jungle', 'k-pop',\n",
       "       'karadeniz', 'karaoke', 'kayokyoku', 'korean', 'laiko', 'latin',\n",
       "       'latino', 'leftfield', 'local', 'lounge', 'loungeelectronic',\n",
       "       'lovers', 'malaysian', 'mandopop', 'marschmusik', 'meditative',\n",
       "       'mediterranean', 'melodic', 'metal', 'metalcore', 'mexican',\n",
       "       'middle', 'minimal', 'miscellaneous', 'modern', 'mood', 'mpb',\n",
       "       'muslim', 'native', 'neoklassik', 'neue', 'new', 'newage',\n",
       "       'newwave', 'nu', 'nujazz', 'numetal', 'oceania', 'old', 'opera',\n",
       "       'orchestral', 'other', 'piano', 'podcasts', 'pop', 'popdance',\n",
       "       'popelectronic', 'popeurodance', 'poprussian', 'post',\n",
       "       'posthardcore', 'postrock', 'power', 'progmetal', 'progressive',\n",
       "       'psychedelic', 'punjabi', 'punk', 'quebecois', 'ragga', 'ram',\n",
       "       'rancheras', 'rap', 'rave', 'reggae', 'reggaeton', 'regional',\n",
       "       'relax', 'religious', 'retro', 'rhythm', 'rnb', 'rnr', 'rock',\n",
       "       'rockabilly', 'rockalternative', 'rockindie', 'rockother',\n",
       "       'romance', 'roots', 'ruspop', 'rusrap', 'rusrock', 'russian',\n",
       "       'salsa', 'samba', 'scenic', 'schlager', 'self', 'sertanejo',\n",
       "       'shanson', 'shoegazing', 'showtunes', 'singer', 'ska', 'skarock',\n",
       "       'slow', 'smooth', 'soft', 'soul', 'soulful', 'sound', 'soundtrack',\n",
       "       'southern', 'specialty', 'speech', 'spiritual', 'sport',\n",
       "       'stonerrock', 'surf', 'swing', 'synthpop', 'synthrock',\n",
       "       'sängerportrait', 'tango', 'tanzorchester', 'taraftar', 'tatar',\n",
       "       'tech', 'techno', 'teen', 'thrash', 'top', 'traditional',\n",
       "       'tradjazz', 'trance', 'tribal', 'trip', 'triphop', 'tropical',\n",
       "       'türk', 'türkçe', 'ukrrock', 'unknown', 'urban', 'uzbek',\n",
       "       'variété', 'vi', 'videogame', 'vocal', 'western', 'world',\n",
       "       'worldbeat', 'ïîï', 'электроника'], dtype=object)"
      ]
     },
     "execution_count": 53,
     "metadata": {},
     "output_type": "execute_result"
    }
   ],
   "source": [
    "df_sorted = df.sort_values('genre', ascending=True)\n",
    "df_sorted['genre'].unique()"
   ]
  },
  {
   "cell_type": "code",
   "execution_count": 54,
   "metadata": {
    "id": "ErNDkmns_Zct"
   },
   "outputs": [],
   "source": [
    "def replace_wrong_genres(wrong_genres, correct_genre):\n",
    "    for wrong_gen in wrong_genres:\n",
    "        df['genre'] = df['genre'].replace(wrong_genres, correct_genre)\n",
    "   "
   ]
  },
  {
   "cell_type": "code",
   "execution_count": 55,
   "metadata": {
    "id": "YN5i2hpmSo09"
   },
   "outputs": [],
   "source": [
    "hip_duplicates = ['hip', 'hop', 'hip-hop']\n",
    "hip_name = 'hiphop'\n",
    "\n",
    "replace_wrong_genres(hip_duplicates, hip_name)"
   ]
  },
  {
   "cell_type": "code",
   "execution_count": 56,
   "metadata": {
    "id": "wvixALnFG15m"
   },
   "outputs": [
    {
     "data": {
      "text/plain": [
       "array(['acid', 'acoustic', 'action', 'adult', 'africa', 'afrikaans',\n",
       "       'alternative', 'alternativepunk', 'ambient', 'americana',\n",
       "       'animated', 'anime', 'arabesk', 'arabic', 'arena',\n",
       "       'argentinetango', 'art', 'audiobook', 'author', 'avantgarde',\n",
       "       'axé', 'baile', 'balkan', 'beats', 'bigroom', 'black', 'bluegrass',\n",
       "       'blues', 'bollywood', 'bossa', 'brazilian', 'breakbeat', 'breaks',\n",
       "       'broadway', 'cantautori', 'cantopop', 'canzone', 'caribbean',\n",
       "       'caucasian', 'celtic', 'chamber', 'chanson', 'children', 'chill',\n",
       "       'chinese', 'choral', 'christian', 'christmas', 'classical',\n",
       "       'classicmetal', 'club', 'colombian', 'comedy', 'conjazz',\n",
       "       'contemporary', 'country', 'cuban', 'dance', 'dancehall',\n",
       "       'dancepop', 'dark', 'death', 'deep', 'deutschrock', 'deutschspr',\n",
       "       'dirty', 'disco', 'dnb', 'documentary', 'downbeat', 'downtempo',\n",
       "       'drum', 'dub', 'dubstep', 'eastern', 'easy', 'electronic',\n",
       "       'electropop', 'emo', 'entehno', 'epicmetal', 'estrada', 'ethnic',\n",
       "       'eurofolk', 'european', 'experimental', 'extrememetal', 'fado',\n",
       "       'fairytail', 'film', 'fitness', 'flamenco', 'folk', 'folklore',\n",
       "       'folkmetal', 'folkrock', 'folktronica', 'forró', 'frankreich',\n",
       "       'französisch', 'french', 'funk', 'future', 'gangsta', 'garage',\n",
       "       'german', 'ghazal', 'gitarre', 'glitch', 'gospel', 'gothic',\n",
       "       'grime', 'grunge', 'gypsy', 'handsup', \"hard'n'heavy\", 'hardcore',\n",
       "       'hardstyle', 'hardtechno', 'hiphop', 'historisch', 'holiday',\n",
       "       'horror', 'house', 'hymn', 'idm', 'independent', 'indian', 'indie',\n",
       "       'indipop', 'industrial', 'inspirational', 'instrumental',\n",
       "       'international', 'irish', 'jam', 'japanese', 'jazz', 'jewish',\n",
       "       'jpop', 'jungle', 'k-pop', 'karadeniz', 'karaoke', 'kayokyoku',\n",
       "       'korean', 'laiko', 'latin', 'latino', 'leftfield', 'local',\n",
       "       'lounge', 'loungeelectronic', 'lovers', 'malaysian', 'mandopop',\n",
       "       'marschmusik', 'meditative', 'mediterranean', 'melodic', 'metal',\n",
       "       'metalcore', 'mexican', 'middle', 'minimal', 'miscellaneous',\n",
       "       'modern', 'mood', 'mpb', 'muslim', 'native', 'neoklassik', 'neue',\n",
       "       'new', 'newage', 'newwave', 'nu', 'nujazz', 'numetal', 'oceania',\n",
       "       'old', 'opera', 'orchestral', 'other', 'piano', 'podcasts', 'pop',\n",
       "       'popdance', 'popelectronic', 'popeurodance', 'poprussian', 'post',\n",
       "       'posthardcore', 'postrock', 'power', 'progmetal', 'progressive',\n",
       "       'psychedelic', 'punjabi', 'punk', 'quebecois', 'ragga', 'ram',\n",
       "       'rancheras', 'rap', 'rave', 'reggae', 'reggaeton', 'regional',\n",
       "       'relax', 'religious', 'retro', 'rhythm', 'rnb', 'rnr', 'rock',\n",
       "       'rockabilly', 'rockalternative', 'rockindie', 'rockother',\n",
       "       'romance', 'roots', 'ruspop', 'rusrap', 'rusrock', 'russian',\n",
       "       'salsa', 'samba', 'scenic', 'schlager', 'self', 'sertanejo',\n",
       "       'shanson', 'shoegazing', 'showtunes', 'singer', 'ska', 'skarock',\n",
       "       'slow', 'smooth', 'soft', 'soul', 'soulful', 'sound', 'soundtrack',\n",
       "       'southern', 'specialty', 'speech', 'spiritual', 'sport',\n",
       "       'stonerrock', 'surf', 'swing', 'synthpop', 'synthrock',\n",
       "       'sängerportrait', 'tango', 'tanzorchester', 'taraftar', 'tatar',\n",
       "       'tech', 'techno', 'teen', 'thrash', 'top', 'traditional',\n",
       "       'tradjazz', 'trance', 'tribal', 'trip', 'triphop', 'tropical',\n",
       "       'türk', 'türkçe', 'ukrrock', 'unknown', 'urban', 'uzbek',\n",
       "       'variété', 'vi', 'videogame', 'vocal', 'western', 'world',\n",
       "       'worldbeat', 'ïîï', 'электроника'], dtype=object)"
      ]
     },
     "execution_count": 56,
     "metadata": {},
     "output_type": "execute_result"
    }
   ],
   "source": [
    "df_sorted_1 = df.sort_values('genre', ascending=True)\n",
    "df_sorted_1['genre'].unique()"
   ]
  },
  {
   "cell_type": "markdown",
   "metadata": {
    "id": "jz6a9-7HQUDd"
   },
   "source": [
    "**Выводы**\n",
    "\n",
    "В результате предобработки данных получилось определить 3 проблемы:\n",
    "\n",
    "- нарушения в стиле заголовков,\n",
    "- пропущенные значения,\n",
    "- дубликаты — явные и неявные.\n",
    "\n",
    "Все выявленные недочеты были устранены.\n",
    "___\n",
    "**Conclusions**\n",
    "\n",
    "As a result of data preprocessing, it was possible to identify 3 problems:\n",
    "\n",
    "- headline style violations,\n",
    "- missing values,\n",
    "- duplicates - explicit and implicit.\n",
    "\n",
    "All identified shortcomings were eliminated."
   ]
  },
  {
   "cell_type": "markdown",
   "metadata": {
    "id": "WttZHXH0SqKk"
   },
   "source": [
    "## Проверка гипотез\n",
    "___\n",
    "## Testing hypotheses"
   ]
  },
  {
   "cell_type": "markdown",
   "metadata": {
    "id": "Im936VVi_Zcu"
   },
   "source": [
    "### Сравнение поведения пользователей двух столиц\n",
    "___\n",
    "### Comparison of user behavior in two capitals"
   ]
  },
  {
   "cell_type": "code",
   "execution_count": 57,
   "metadata": {
    "id": "0_Qs96oh_Zcu"
   },
   "outputs": [
    {
     "data": {
      "text/plain": [
       "city\n",
       "Moscow              42741\n",
       "Saint-Petersburg    18512\n",
       "Name: user_id, dtype: int64"
      ]
     },
     "execution_count": 57,
     "metadata": {},
     "output_type": "execute_result"
    }
   ],
   "source": [
    "df.groupby('city')['user_id'].count()"
   ]
  },
  {
   "cell_type": "code",
   "execution_count": 58,
   "metadata": {
    "id": "uZMKjiJz_Zcu"
   },
   "outputs": [
    {
     "data": {
      "text/plain": [
       "day\n",
       "Friday       21840\n",
       "Monday       21354\n",
       "Wednesday    18059\n",
       "Name: user_id, dtype: int64"
      ]
     },
     "execution_count": 58,
     "metadata": {},
     "output_type": "execute_result"
    }
   ],
   "source": [
    "df.groupby('day')['user_id'].count()"
   ]
  },
  {
   "cell_type": "code",
   "execution_count": 59,
   "metadata": {
    "id": "Nz3GdQB1_Zcu"
   },
   "outputs": [],
   "source": [
    "def number_tracks(day, city): \n",
    "    track_list = df[df['day'] == day]\n",
    "    track_list = track_list[track_list['city'] == city]\n",
    "    track_list_count = track_list['user_id'].count()\n",
    "    return track_list_count"
   ]
  },
  {
   "cell_type": "code",
   "execution_count": 60,
   "metadata": {
    "id": "rJcRATNQ_Zcu"
   },
   "outputs": [
    {
     "data": {
      "text/plain": [
       "15740"
      ]
     },
     "metadata": {},
     "output_type": "display_data"
    }
   ],
   "source": [
    "display(number_tracks('Monday', 'Moscow'))"
   ]
  },
  {
   "cell_type": "code",
   "execution_count": 61,
   "metadata": {
    "id": "hq_ncZ5T_Zcu"
   },
   "outputs": [
    {
     "data": {
      "text/plain": [
       "5614"
      ]
     },
     "metadata": {},
     "output_type": "display_data"
    }
   ],
   "source": [
    "display(number_tracks('Monday', 'Saint-Petersburg'))"
   ]
  },
  {
   "cell_type": "code",
   "execution_count": 62,
   "metadata": {
    "id": "_NTy2VPU_Zcu"
   },
   "outputs": [
    {
     "data": {
      "text/plain": [
       "11056"
      ]
     },
     "metadata": {},
     "output_type": "display_data"
    }
   ],
   "source": [
    "display(number_tracks('Wednesday', 'Moscow'))"
   ]
  },
  {
   "cell_type": "code",
   "execution_count": 63,
   "metadata": {
    "id": "j2y3TAwo_Zcu"
   },
   "outputs": [
    {
     "data": {
      "text/plain": [
       "7003"
      ]
     },
     "metadata": {},
     "output_type": "display_data"
    }
   ],
   "source": [
    "display(number_tracks('Wednesday', 'Saint-Petersburg'))"
   ]
  },
  {
   "cell_type": "code",
   "execution_count": 64,
   "metadata": {
    "id": "vYDw5u_K_Zcu"
   },
   "outputs": [
    {
     "data": {
      "text/plain": [
       "15945"
      ]
     },
     "metadata": {},
     "output_type": "display_data"
    }
   ],
   "source": [
    "display(number_tracks('Friday', 'Moscow'))"
   ]
  },
  {
   "cell_type": "code",
   "execution_count": 65,
   "metadata": {
    "id": "8_yzFtW3_Zcu"
   },
   "outputs": [
    {
     "data": {
      "text/plain": [
       "5895"
      ]
     },
     "metadata": {},
     "output_type": "display_data"
    }
   ],
   "source": [
    "display(number_tracks('Friday', 'Saint-Petersburg'))"
   ]
  },
  {
   "cell_type": "code",
   "execution_count": 66,
   "metadata": {
    "id": "APAcLpOr_Zcu"
   },
   "outputs": [
    {
     "data": {
      "text/html": [
       "<div>\n",
       "<style scoped>\n",
       "    .dataframe tbody tr th:only-of-type {\n",
       "        vertical-align: middle;\n",
       "    }\n",
       "\n",
       "    .dataframe tbody tr th {\n",
       "        vertical-align: top;\n",
       "    }\n",
       "\n",
       "    .dataframe thead th {\n",
       "        text-align: right;\n",
       "    }\n",
       "</style>\n",
       "<table border=\"1\" class=\"dataframe\">\n",
       "  <thead>\n",
       "    <tr style=\"text-align: right;\">\n",
       "      <th></th>\n",
       "      <th>city</th>\n",
       "      <th>monday</th>\n",
       "      <th>wednesday</th>\n",
       "      <th>friday</th>\n",
       "    </tr>\n",
       "  </thead>\n",
       "  <tbody>\n",
       "    <tr>\n",
       "      <td>0</td>\n",
       "      <td>Moscow</td>\n",
       "      <td>15740</td>\n",
       "      <td>11056</td>\n",
       "      <td>15945</td>\n",
       "    </tr>\n",
       "    <tr>\n",
       "      <td>1</td>\n",
       "      <td>Saint-Petersburg</td>\n",
       "      <td>5614</td>\n",
       "      <td>7003</td>\n",
       "      <td>5895</td>\n",
       "    </tr>\n",
       "  </tbody>\n",
       "</table>\n",
       "</div>"
      ],
      "text/plain": [
       "               city  monday  wednesday  friday\n",
       "0            Moscow   15740      11056   15945\n",
       "1  Saint-Petersburg    5614       7003    5895"
      ]
     },
     "metadata": {},
     "output_type": "display_data"
    }
   ],
   "source": [
    "data = [['Moscow', 15740, 11056, 15945], ['Saint-Petersburg',5614, 7003, 5895]]\n",
    "columns = ['city', 'monday', 'wednesday', 'friday']\n",
    "day_results = pd.DataFrame(data=data, columns=columns)\n",
    "display(day_results)"
   ]
  },
  {
   "cell_type": "markdown",
   "metadata": {
    "id": "-EgPIHYu_Zcu"
   },
   "source": [
    "**Выводы**\n",
    "\n",
    "- Пик прослушиваний в Москве отмечается в понедельник и пятницу, в среду имеется спад.\n",
    "- В Петербурге музыку слушают преимущественно по средам.\n",
    "\n",
    "Первая гипотеза подтверждена.\n",
    "___\n",
    "**Conclusions**\n",
    "\n",
    "- The peak of listening in Moscow is marked on Monday and Friday, on Wednesday there is a recession.\n",
    "- In St. Petersburg people listen to music mainly on Wednesdays.\n",
    "\n",
    "The first hypothesis is confirmed."
   ]
  },
  {
   "cell_type": "markdown",
   "metadata": {
    "id": "atZAxtq4_Zcu"
   },
   "source": [
    "### Музыка в начале и в конце недели\n",
    "___\n",
    "### Music at the beginning and end of the week"
   ]
  },
  {
   "cell_type": "code",
   "execution_count": 67,
   "metadata": {
    "id": "qeaFfM_P_Zcu"
   },
   "outputs": [],
   "source": [
    "moscow_general = df[df['city'] == 'Moscow'] "
   ]
  },
  {
   "cell_type": "code",
   "execution_count": 68,
   "metadata": {
    "id": "ORaVRKto_Zcu"
   },
   "outputs": [],
   "source": [
    "spb_general = df[df['city'] == 'Saint-Petersburg'] "
   ]
  },
  {
   "cell_type": "code",
   "execution_count": 30,
   "metadata": {
    "id": "laJT9BYl_Zcu"
   },
   "outputs": [],
   "source": [
    "def genre_weekday(table, day, time1, time2):\n",
    "    genre_df = table[table['day'] == day]\n",
    "    genre_df = genre_df[genre_df['time'] > time1]\n",
    "    genre_df = genre_df[genre_df['time'] < time2]\n",
    "    genre_df_count = genre_df.groupby('genre')['genre'].count()\n",
    "    genre_df_sorted = genre_df_count.sort_values(ascending=False)\n",
    "    return genre_df_sorted.head(10)"
   ]
  },
  {
   "cell_type": "code",
   "execution_count": 31,
   "metadata": {
    "id": "yz7itPUQ_Zcu"
   },
   "outputs": [
    {
     "data": {
      "text/plain": [
       "genre\n",
       "pop            781\n",
       "dance          549\n",
       "electronic     480\n",
       "rock           474\n",
       "hiphop         286\n",
       "ruspop         186\n",
       "world          181\n",
       "rusrap         175\n",
       "alternative    164\n",
       "unknown        161\n",
       "Name: genre, dtype: int64"
      ]
     },
     "metadata": {},
     "output_type": "display_data"
    }
   ],
   "source": [
    "display(genre_weekday(moscow_general, 'Monday', '07:00', '11:00'))"
   ]
  },
  {
   "cell_type": "code",
   "execution_count": 32,
   "metadata": {
    "id": "kwUcHPdy_Zcu"
   },
   "outputs": [
    {
     "data": {
      "text/plain": [
       "genre\n",
       "pop            218\n",
       "dance          182\n",
       "rock           162\n",
       "electronic     147\n",
       "hiphop          80\n",
       "ruspop          64\n",
       "alternative     58\n",
       "rusrap          55\n",
       "jazz            44\n",
       "classical       40\n",
       "Name: genre, dtype: int64"
      ]
     },
     "metadata": {},
     "output_type": "display_data"
    }
   ],
   "source": [
    "display(genre_weekday(spb_general, 'Monday', '07:00', '11:00'))"
   ]
  },
  {
   "cell_type": "code",
   "execution_count": 33,
   "metadata": {
    "id": "EzXVRE1o_Zcu"
   },
   "outputs": [
    {
     "data": {
      "text/plain": [
       "genre\n",
       "pop            717\n",
       "dance          524\n",
       "rock           518\n",
       "electronic     485\n",
       "hiphop         238\n",
       "alternative    182\n",
       "world          172\n",
       "classical      172\n",
       "ruspop         149\n",
       "rusrap         133\n",
       "Name: genre, dtype: int64"
      ]
     },
     "metadata": {},
     "output_type": "display_data"
    }
   ],
   "source": [
    "display(genre_weekday(moscow_general, 'Monday', '17:00', '23:00'))"
   ]
  },
  {
   "cell_type": "code",
   "execution_count": 34,
   "metadata": {
    "id": "JZaEKu5v_Zcu"
   },
   "outputs": [
    {
     "data": {
      "text/plain": [
       "genre\n",
       "pop            263\n",
       "rock           208\n",
       "electronic     192\n",
       "dance          191\n",
       "hiphop         104\n",
       "alternative     72\n",
       "classical       71\n",
       "jazz            57\n",
       "rusrap          54\n",
       "ruspop          53\n",
       "Name: genre, dtype: int64"
      ]
     },
     "metadata": {},
     "output_type": "display_data"
    }
   ],
   "source": [
    "display(genre_weekday(spb_general, 'Monday', '17:00', '23:00'))"
   ]
  },
  {
   "cell_type": "markdown",
   "metadata": {
    "id": "wrCe4MNX_Zcu"
   },
   "source": [
    "**Выводы**\n",
    "\n",
    "Если сравнить топ-10 жанров в понедельник утром, можно сделать такие выводы:\n",
    "\n",
    "1. В Москве и Петербурге слушают похожую музыку. Единственное отличие — в московский рейтинг вошёл жанр “world”, а в петербургский — джаз и классика.\n",
    "\n",
    "2. В Москве пропущенных значений оказалось так много, что значение `'unknown'` заняло десятое место среди самых популярных жанров. Значит, пропущенные значения занимают существенную долю в данных и угрожают достоверности исследования.\n",
    "\n",
    "Вечер пятницы не меняет эту картину. Некоторые жанры поднимаются немного выше, другие спускаются, но в целом топ-10 остаётся тем же самым.\n",
    "\n",
    "Таким образом, вторая гипотеза подтвердилась лишь частично:\n",
    "* Пользователи слушают похожую музыку в начале недели и в конце.\n",
    "* Разница между Москвой и Петербургом не слишком выражена. В Москве чаще слушают русскую популярную музыку, в Петербурге — джаз.\n",
    "\n",
    "Однако пропуски в данных ставят под сомнение этот результат. В Москве их так много, что рейтинг топ-10 мог бы выглядеть иначе, если бы не утерянные  данные о жанрах.\n",
    "___\n",
    "**Conclusions**\n",
    "\n",
    "If we compare the top 10 genres on Monday morning, we can draw the following conclusions:\n",
    "\n",
    "1. In Moscow and St. Petersburg they listen to similar music. The only difference is that the Moscow rating includes the “world” genre, while the St. Petersburg rating includes jazz and classical.\n",
    "\n",
    "2. There were so many missing values ​​in Moscow that the value `'unknown'` took tenth place among the most popular genres. This means that missing values ​​occupy a significant share in the data and threaten the reliability of the study.\n",
    "\n",
    "Friday night does not change this picture. Some genres rise a little higher, others go down, but overall the top 10 stays the same.\n",
    "\n",
    "Thus, the second hypothesis was only partially confirmed:\n",
    "* Users listen to similar music at the beginning of the week and at the end.\n",
    "* The difference between Moscow and St. Petersburg is not very pronounced. In Moscow, they listen to Russian popular music more often, in St. Petersburg - jazz.\n",
    "\n",
    "However, gaps in the data cast doubt on this result. There are so many of them in Moscow that the top 10 ranking could look different if it were not for the lost genre data."
   ]
  },
  {
   "cell_type": "markdown",
   "metadata": {
    "id": "JolODAqr_Zcu"
   },
   "source": [
    "### Жанровые предпочтения в Москве и Петербурге\n",
    "\n",
    "Гипотеза: Москва и Петербург предпочитают разные жанры музыки. В Москве чаще слушают поп-музыку, в Петербурге — русский рэп.\n",
    "___\n",
    "### Genre preferences in Moscow and St. Petersburg\n",
    "\n",
    "Hypothesis: Moscow and St. Petersburg prefer different genres of music. In Moscow, they listen to pop music more often, in St. Petersburg - Russian rap."
   ]
  },
  {
   "cell_type": "code",
   "execution_count": 69,
   "metadata": {
    "id": "r19lIPke_Zcu"
   },
   "outputs": [],
   "source": [
    "moscow_genneral_grouped_by_genre = moscow_general.groupby('genre') \n",
    "moscow_genneral_grouped_by_genre = moscow_genneral_grouped_by_genre['genre'].count() \n",
    "moscow_genres = moscow_genneral_grouped_by_genre.sort_values(ascending=False) "
   ]
  },
  {
   "cell_type": "code",
   "execution_count": 70,
   "metadata": {
    "id": "WhCSooF8_Zcv"
   },
   "outputs": [
    {
     "data": {
      "text/plain": [
       "genre\n",
       "pop            5892\n",
       "dance          4435\n",
       "rock           3965\n",
       "electronic     3786\n",
       "hiphop         2096\n",
       "classical      1616\n",
       "world          1432\n",
       "alternative    1379\n",
       "ruspop         1372\n",
       "rusrap         1161\n",
       "Name: genre, dtype: int64"
      ]
     },
     "metadata": {},
     "output_type": "display_data"
    }
   ],
   "source": [
    "display(moscow_genres.head(10))"
   ]
  },
  {
   "cell_type": "code",
   "execution_count": 73,
   "metadata": {
    "id": "gluLIpE7_Zcv"
   },
   "outputs": [],
   "source": [
    "spb_genneral_grouped_by_genre = spb_general.groupby('genre')\n",
    "spb_genneral_grouped_by_genre = spb_genneral_grouped_by_genre['genre'].count() \n",
    "spb_genres = spb_genneral_grouped_by_genre.sort_values(ascending=False)"
   ]
  },
  {
   "cell_type": "code",
   "execution_count": 74,
   "metadata": {
    "id": "uaGJHjVU_Zcv"
   },
   "outputs": [
    {
     "name": "stdout",
     "output_type": "stream",
     "text": [
      "genre\n",
      "pop            2431\n",
      "dance          1932\n",
      "rock           1879\n",
      "electronic     1736\n",
      "hiphop          960\n",
      "alternative     649\n",
      "classical       646\n",
      "rusrap          564\n",
      "ruspop          538\n",
      "world           515\n",
      "Name: genre, dtype: int64\n"
     ]
    }
   ],
   "source": [
    "print(spb_genres.head(10))"
   ]
  },
  {
   "cell_type": "markdown",
   "metadata": {
    "id": "RY51YJYu_Zcv"
   },
   "source": [
    "**Выводы**\n",
    "___\n",
    "**Conclusions**"
   ]
  },
  {
   "cell_type": "markdown",
   "metadata": {
    "id": "nVhnJEm__Zcv"
   },
   "source": [
    "Гипотеза частично подтвердилась:\n",
    "* Поп-музыка является жанром №1 в Москве;\n",
    "* Однако рэп-исполнители одинаково популярны в Москве и Петербурге. \n",
    "___\n",
    "The hypothesis was partially confirmed:\n",
    "* Pop music is genre No. 1 in Moscow;\n",
    "* However, rap artists are equally popular in Moscow and St. Petersburg."
   ]
  }
 ],
 "metadata": {
  "ExecuteTimeLog": [
   {
    "duration": 78,
    "start_time": "2022-03-29T16:05:51.474Z"
   },
   {
    "duration": 7,
    "start_time": "2022-03-29T16:06:03.182Z"
   },
   {
    "duration": 452,
    "start_time": "2022-03-29T16:06:06.282Z"
   },
   {
    "duration": 112,
    "start_time": "2022-03-29T16:06:08.626Z"
   },
   {
    "duration": 242,
    "start_time": "2022-03-29T16:08:02.182Z"
   },
   {
    "duration": 250,
    "start_time": "2022-03-29T16:08:05.680Z"
   },
   {
    "duration": 8,
    "start_time": "2022-03-29T16:08:08.463Z"
   },
   {
    "duration": 19,
    "start_time": "2022-03-29T16:08:19.106Z"
   },
   {
    "duration": 11,
    "start_time": "2022-03-29T16:08:45.475Z"
   },
   {
    "duration": 34,
    "start_time": "2022-03-29T16:08:58.025Z"
   },
   {
    "duration": 9,
    "start_time": "2022-03-29T16:10:02.652Z"
   },
   {
    "duration": 5,
    "start_time": "2022-03-29T16:10:07.187Z"
   },
   {
    "duration": 13,
    "start_time": "2022-03-29T16:16:30.705Z"
   },
   {
    "duration": 15,
    "start_time": "2022-03-29T16:16:35.726Z"
   },
   {
    "duration": 9,
    "start_time": "2022-03-29T16:17:13.751Z"
   },
   {
    "duration": 9,
    "start_time": "2022-03-29T16:17:15.096Z"
   },
   {
    "duration": 11,
    "start_time": "2022-03-29T16:17:15.611Z"
   },
   {
    "duration": 11,
    "start_time": "2022-03-29T16:17:16.210Z"
   },
   {
    "duration": 12,
    "start_time": "2022-03-29T16:17:40.503Z"
   },
   {
    "duration": 12,
    "start_time": "2022-03-29T16:17:41.858Z"
   },
   {
    "duration": 12,
    "start_time": "2022-03-29T16:17:42.896Z"
   },
   {
    "duration": 10,
    "start_time": "2022-03-29T16:19:45.586Z"
   },
   {
    "duration": 9,
    "start_time": "2022-03-29T16:21:51.597Z"
   },
   {
    "duration": 10,
    "start_time": "2022-03-29T16:23:12.579Z"
   },
   {
    "duration": 164,
    "start_time": "2022-03-29T16:23:50.776Z"
   },
   {
    "duration": 138,
    "start_time": "2022-03-29T16:25:51.702Z"
   },
   {
    "duration": 10,
    "start_time": "2022-03-29T16:27:47.801Z"
   },
   {
    "duration": 7,
    "start_time": "2022-03-29T16:27:50.850Z"
   },
   {
    "duration": 8,
    "start_time": "2022-03-29T16:28:12.694Z"
   },
   {
    "duration": 9,
    "start_time": "2022-03-29T16:31:47.679Z"
   },
   {
    "duration": 10,
    "start_time": "2022-03-29T16:34:14.636Z"
   },
   {
    "duration": 9,
    "start_time": "2022-03-29T16:35:08.041Z"
   },
   {
    "duration": 9,
    "start_time": "2022-03-29T16:35:14.167Z"
   },
   {
    "duration": 6,
    "start_time": "2022-03-29T16:42:37.362Z"
   },
   {
    "duration": 428,
    "start_time": "2022-03-29T16:42:52.859Z"
   },
   {
    "duration": 187,
    "start_time": "2022-03-29T16:42:55.024Z"
   },
   {
    "duration": 18,
    "start_time": "2022-03-29T16:42:57.322Z"
   },
   {
    "duration": 33,
    "start_time": "2022-03-29T16:43:00.010Z"
   },
   {
    "duration": 4,
    "start_time": "2022-03-29T16:43:03.504Z"
   },
   {
    "duration": 15,
    "start_time": "2022-03-29T16:43:06.452Z"
   },
   {
    "duration": 4,
    "start_time": "2022-03-29T16:43:29.322Z"
   },
   {
    "duration": 27,
    "start_time": "2022-03-29T16:44:19.803Z"
   },
   {
    "duration": 2968,
    "start_time": "2022-03-29T16:46:18.396Z"
   },
   {
    "duration": 2722,
    "start_time": "2022-03-29T16:46:26.122Z"
   },
   {
    "duration": 1414,
    "start_time": "2022-03-29T16:46:59.722Z"
   },
   {
    "duration": 10,
    "start_time": "2022-03-29T16:50:32.330Z"
   },
   {
    "duration": 11,
    "start_time": "2022-03-29T16:50:58.420Z"
   },
   {
    "duration": 10,
    "start_time": "2022-03-29T16:51:37.791Z"
   },
   {
    "duration": 9,
    "start_time": "2022-03-29T16:52:07.943Z"
   },
   {
    "duration": 8,
    "start_time": "2022-03-29T16:53:49.436Z"
   },
   {
    "duration": 12,
    "start_time": "2022-03-29T17:00:01.862Z"
   },
   {
    "duration": 11,
    "start_time": "2022-03-29T17:00:25.767Z"
   },
   {
    "duration": 10,
    "start_time": "2022-03-29T17:00:56.061Z"
   },
   {
    "duration": 6,
    "start_time": "2022-03-29T17:01:18.590Z"
   },
   {
    "duration": 5,
    "start_time": "2022-03-29T17:01:26.535Z"
   },
   {
    "duration": 12,
    "start_time": "2022-03-29T17:01:32.714Z"
   },
   {
    "duration": 8,
    "start_time": "2022-03-29T17:02:32.507Z"
   },
   {
    "duration": 8,
    "start_time": "2022-03-29T17:02:53.256Z"
   },
   {
    "duration": 9,
    "start_time": "2022-03-29T17:04:43.440Z"
   },
   {
    "duration": 8,
    "start_time": "2022-03-29T17:06:38.575Z"
   },
   {
    "duration": 10,
    "start_time": "2022-03-29T17:06:44.964Z"
   },
   {
    "duration": 11,
    "start_time": "2022-03-29T17:07:01.604Z"
   },
   {
    "duration": 9,
    "start_time": "2022-03-29T17:07:16.813Z"
   },
   {
    "duration": 4,
    "start_time": "2022-03-29T17:07:24.885Z"
   },
   {
    "duration": 416,
    "start_time": "2022-03-30T16:19:53.163Z"
   },
   {
    "duration": 150,
    "start_time": "2022-03-30T16:19:54.330Z"
   },
   {
    "duration": 16,
    "start_time": "2022-03-30T16:19:54.965Z"
   },
   {
    "duration": 29,
    "start_time": "2022-03-30T16:19:55.467Z"
   },
   {
    "duration": 3,
    "start_time": "2022-03-30T16:19:59.750Z"
   },
   {
    "duration": 14,
    "start_time": "2022-03-30T16:20:03.918Z"
   },
   {
    "duration": 3,
    "start_time": "2022-03-30T16:20:05.974Z"
   },
   {
    "duration": 26,
    "start_time": "2022-03-30T16:20:10.403Z"
   },
   {
    "duration": 87,
    "start_time": "2022-03-30T16:22:56.908Z"
   },
   {
    "duration": 16,
    "start_time": "2022-03-30T16:23:21.502Z"
   },
   {
    "duration": 24,
    "start_time": "2022-03-30T16:23:41.471Z"
   },
   {
    "duration": 15,
    "start_time": "2022-03-30T16:23:49.313Z"
   },
   {
    "duration": 24,
    "start_time": "2022-03-30T16:23:52.852Z"
   },
   {
    "duration": 15,
    "start_time": "2022-03-30T16:26:38.537Z"
   },
   {
    "duration": 17,
    "start_time": "2022-03-30T16:28:17.610Z"
   },
   {
    "duration": 26,
    "start_time": "2022-03-30T16:28:20.388Z"
   },
   {
    "duration": 8,
    "start_time": "2022-03-30T16:33:01.893Z"
   },
   {
    "duration": 18,
    "start_time": "2022-03-30T16:33:09.367Z"
   },
   {
    "duration": 26,
    "start_time": "2022-03-30T16:33:13.192Z"
   },
   {
    "duration": 21,
    "start_time": "2022-03-30T16:34:21.752Z"
   },
   {
    "duration": 10,
    "start_time": "2022-03-30T16:35:02.202Z"
   },
   {
    "duration": 10,
    "start_time": "2022-03-30T16:35:26.306Z"
   },
   {
    "duration": 9,
    "start_time": "2022-03-30T16:35:57.829Z"
   },
   {
    "duration": 9,
    "start_time": "2022-03-30T16:36:07.123Z"
   },
   {
    "duration": 3,
    "start_time": "2022-03-30T16:36:07.134Z"
   },
   {
    "duration": 4,
    "start_time": "2022-03-30T16:36:07.138Z"
   },
   {
    "duration": 6,
    "start_time": "2022-03-30T16:36:07.144Z"
   },
   {
    "duration": 5,
    "start_time": "2022-03-30T16:36:07.152Z"
   },
   {
    "duration": 6,
    "start_time": "2022-03-30T16:36:07.158Z"
   },
   {
    "duration": 7,
    "start_time": "2022-03-30T16:36:07.166Z"
   },
   {
    "duration": 12,
    "start_time": "2022-03-30T16:36:07.175Z"
   },
   {
    "duration": 10,
    "start_time": "2022-03-30T16:36:07.188Z"
   },
   {
    "duration": 9,
    "start_time": "2022-03-30T16:36:07.200Z"
   },
   {
    "duration": 8,
    "start_time": "2022-03-30T16:36:07.211Z"
   },
   {
    "duration": 12,
    "start_time": "2022-03-30T16:36:07.220Z"
   },
   {
    "duration": 7,
    "start_time": "2022-03-30T16:36:07.234Z"
   },
   {
    "duration": 8,
    "start_time": "2022-03-30T16:36:07.243Z"
   },
   {
    "duration": 10,
    "start_time": "2022-03-30T16:36:07.253Z"
   },
   {
    "duration": 9,
    "start_time": "2022-03-30T16:36:07.265Z"
   },
   {
    "duration": 11,
    "start_time": "2022-03-30T16:36:07.275Z"
   },
   {
    "duration": 8,
    "start_time": "2022-03-30T16:36:07.288Z"
   },
   {
    "duration": 8,
    "start_time": "2022-03-30T16:36:07.298Z"
   },
   {
    "duration": 13,
    "start_time": "2022-03-30T16:36:07.308Z"
   },
   {
    "duration": 8,
    "start_time": "2022-03-30T16:36:07.323Z"
   },
   {
    "duration": 10,
    "start_time": "2022-03-30T16:36:07.332Z"
   },
   {
    "duration": 9,
    "start_time": "2022-03-30T16:36:07.344Z"
   },
   {
    "duration": 13,
    "start_time": "2022-03-30T16:36:07.355Z"
   },
   {
    "duration": 8,
    "start_time": "2022-03-30T16:36:07.369Z"
   },
   {
    "duration": 8,
    "start_time": "2022-03-30T16:36:07.378Z"
   },
   {
    "duration": 7,
    "start_time": "2022-03-30T16:36:07.388Z"
   },
   {
    "duration": 8,
    "start_time": "2022-03-30T16:36:07.397Z"
   },
   {
    "duration": 11,
    "start_time": "2022-03-30T16:36:07.407Z"
   },
   {
    "duration": 8,
    "start_time": "2022-03-30T16:36:17.359Z"
   },
   {
    "duration": 9,
    "start_time": "2022-03-30T16:36:35.108Z"
   },
   {
    "duration": 7,
    "start_time": "2022-03-30T16:37:25.157Z"
   },
   {
    "duration": 8,
    "start_time": "2022-03-30T16:37:27.587Z"
   },
   {
    "duration": 7,
    "start_time": "2022-03-30T16:37:50.723Z"
   },
   {
    "duration": 9,
    "start_time": "2022-03-30T16:38:09.122Z"
   },
   {
    "duration": 9,
    "start_time": "2022-03-30T16:38:36.751Z"
   },
   {
    "duration": 2,
    "start_time": "2022-03-30T16:38:54.899Z"
   },
   {
    "duration": 151,
    "start_time": "2022-03-30T16:38:54.903Z"
   },
   {
    "duration": 13,
    "start_time": "2022-03-30T16:38:55.056Z"
   },
   {
    "duration": 37,
    "start_time": "2022-03-30T16:38:55.070Z"
   },
   {
    "duration": 3,
    "start_time": "2022-03-30T16:38:55.110Z"
   },
   {
    "duration": 10,
    "start_time": "2022-03-30T16:38:55.115Z"
   },
   {
    "duration": 3,
    "start_time": "2022-03-30T16:38:55.127Z"
   },
   {
    "duration": 25,
    "start_time": "2022-03-30T16:38:55.132Z"
   },
   {
    "duration": 12,
    "start_time": "2022-03-30T16:38:58.246Z"
   },
   {
    "duration": 7,
    "start_time": "2022-03-30T16:39:07.773Z"
   },
   {
    "duration": 9,
    "start_time": "2022-03-30T16:39:09.919Z"
   },
   {
    "duration": 9,
    "start_time": "2022-03-30T16:39:45.228Z"
   },
   {
    "duration": 3,
    "start_time": "2022-03-30T16:42:20.783Z"
   },
   {
    "duration": 4,
    "start_time": "2022-03-30T16:42:22.942Z"
   },
   {
    "duration": 9,
    "start_time": "2022-03-30T16:43:12.850Z"
   },
   {
    "duration": 240,
    "start_time": "2022-03-30T16:44:15.204Z"
   },
   {
    "duration": 11,
    "start_time": "2022-03-30T16:44:20.021Z"
   },
   {
    "duration": 9,
    "start_time": "2022-03-30T16:44:53.019Z"
   },
   {
    "duration": 10,
    "start_time": "2022-03-30T16:46:02.745Z"
   },
   {
    "duration": 11,
    "start_time": "2022-03-30T16:46:23.866Z"
   },
   {
    "duration": 8,
    "start_time": "2022-03-30T16:46:48.858Z"
   },
   {
    "duration": 5,
    "start_time": "2022-03-30T16:52:58.731Z"
   },
   {
    "duration": 5,
    "start_time": "2022-03-30T16:53:03.872Z"
   },
   {
    "duration": 10,
    "start_time": "2022-03-30T16:53:07.335Z"
   },
   {
    "duration": 9,
    "start_time": "2022-03-30T16:53:09.902Z"
   },
   {
    "duration": 8,
    "start_time": "2022-03-30T16:53:20.097Z"
   },
   {
    "duration": 0,
    "start_time": "2022-03-30T16:53:20.107Z"
   },
   {
    "duration": 15,
    "start_time": "2022-03-30T16:53:20.109Z"
   },
   {
    "duration": 25,
    "start_time": "2022-03-30T16:53:20.126Z"
   },
   {
    "duration": 0,
    "start_time": "2022-03-30T16:53:20.153Z"
   },
   {
    "duration": 0,
    "start_time": "2022-03-30T16:53:20.154Z"
   },
   {
    "duration": 0,
    "start_time": "2022-03-30T16:53:20.156Z"
   },
   {
    "duration": 0,
    "start_time": "2022-03-30T16:53:20.157Z"
   },
   {
    "duration": 0,
    "start_time": "2022-03-30T16:53:20.159Z"
   },
   {
    "duration": 0,
    "start_time": "2022-03-30T16:53:20.161Z"
   },
   {
    "duration": 0,
    "start_time": "2022-03-30T16:53:20.163Z"
   },
   {
    "duration": 0,
    "start_time": "2022-03-30T16:53:20.164Z"
   },
   {
    "duration": 3,
    "start_time": "2022-03-30T16:53:20.166Z"
   },
   {
    "duration": 10,
    "start_time": "2022-03-30T16:53:20.202Z"
   },
   {
    "duration": 25,
    "start_time": "2022-03-30T16:53:20.213Z"
   },
   {
    "duration": 34,
    "start_time": "2022-03-30T16:53:20.241Z"
   },
   {
    "duration": 15,
    "start_time": "2022-03-30T16:53:20.277Z"
   },
   {
    "duration": 15,
    "start_time": "2022-03-30T16:53:20.294Z"
   },
   {
    "duration": 39,
    "start_time": "2022-03-30T16:53:20.311Z"
   },
   {
    "duration": 23,
    "start_time": "2022-03-30T16:53:20.352Z"
   },
   {
    "duration": 31,
    "start_time": "2022-03-30T16:53:20.377Z"
   },
   {
    "duration": 16,
    "start_time": "2022-03-30T16:53:20.410Z"
   },
   {
    "duration": 26,
    "start_time": "2022-03-30T16:53:20.428Z"
   },
   {
    "duration": 24,
    "start_time": "2022-03-30T16:53:20.457Z"
   },
   {
    "duration": 15,
    "start_time": "2022-03-30T16:53:20.483Z"
   },
   {
    "duration": 26,
    "start_time": "2022-03-30T16:53:20.500Z"
   },
   {
    "duration": 24,
    "start_time": "2022-03-30T16:53:20.528Z"
   },
   {
    "duration": 23,
    "start_time": "2022-03-30T16:53:20.554Z"
   },
   {
    "duration": 25,
    "start_time": "2022-03-30T16:53:20.579Z"
   },
   {
    "duration": 21,
    "start_time": "2022-03-30T16:53:20.606Z"
   },
   {
    "duration": 11,
    "start_time": "2022-03-30T16:53:20.629Z"
   },
   {
    "duration": 24,
    "start_time": "2022-03-30T16:53:20.642Z"
   },
   {
    "duration": 24,
    "start_time": "2022-03-30T16:53:20.668Z"
   },
   {
    "duration": 2,
    "start_time": "2022-03-30T16:53:54.335Z"
   },
   {
    "duration": 4,
    "start_time": "2022-03-30T16:53:57.737Z"
   },
   {
    "duration": 3,
    "start_time": "2022-03-30T16:54:01.420Z"
   },
   {
    "duration": 4,
    "start_time": "2022-03-30T16:54:03.781Z"
   },
   {
    "duration": 8,
    "start_time": "2022-03-30T16:54:06.499Z"
   },
   {
    "duration": 3,
    "start_time": "2022-03-30T16:54:13.785Z"
   },
   {
    "duration": 2,
    "start_time": "2022-03-30T16:54:17.149Z"
   },
   {
    "duration": 2,
    "start_time": "2022-03-30T16:54:25.719Z"
   },
   {
    "duration": 149,
    "start_time": "2022-03-30T16:54:25.723Z"
   },
   {
    "duration": 11,
    "start_time": "2022-03-30T16:54:25.874Z"
   },
   {
    "duration": 37,
    "start_time": "2022-03-30T16:54:25.887Z"
   },
   {
    "duration": 3,
    "start_time": "2022-03-30T16:54:25.925Z"
   },
   {
    "duration": 11,
    "start_time": "2022-03-30T16:54:25.930Z"
   },
   {
    "duration": 3,
    "start_time": "2022-03-30T16:54:25.942Z"
   },
   {
    "duration": 55,
    "start_time": "2022-03-30T16:54:25.947Z"
   },
   {
    "duration": 2,
    "start_time": "2022-03-30T16:54:26.005Z"
   },
   {
    "duration": 8,
    "start_time": "2022-03-30T16:54:26.009Z"
   },
   {
    "duration": 5,
    "start_time": "2022-03-30T16:54:26.018Z"
   },
   {
    "duration": 4,
    "start_time": "2022-03-30T16:54:26.024Z"
   },
   {
    "duration": 8,
    "start_time": "2022-03-30T16:54:26.029Z"
   },
   {
    "duration": 7,
    "start_time": "2022-03-30T16:54:26.038Z"
   },
   {
    "duration": 7,
    "start_time": "2022-03-30T16:54:26.047Z"
   },
   {
    "duration": 11,
    "start_time": "2022-03-30T16:54:26.056Z"
   },
   {
    "duration": 6,
    "start_time": "2022-03-30T16:54:26.069Z"
   },
   {
    "duration": 8,
    "start_time": "2022-03-30T16:54:26.077Z"
   },
   {
    "duration": 8,
    "start_time": "2022-03-30T16:54:26.086Z"
   },
   {
    "duration": 12,
    "start_time": "2022-03-30T16:54:26.095Z"
   },
   {
    "duration": 13,
    "start_time": "2022-03-30T16:54:26.109Z"
   },
   {
    "duration": 8,
    "start_time": "2022-03-30T16:54:26.123Z"
   },
   {
    "duration": 9,
    "start_time": "2022-03-30T16:54:26.132Z"
   },
   {
    "duration": 6,
    "start_time": "2022-03-30T16:54:26.144Z"
   },
   {
    "duration": 8,
    "start_time": "2022-03-30T16:54:26.152Z"
   },
   {
    "duration": 11,
    "start_time": "2022-03-30T16:54:26.161Z"
   },
   {
    "duration": 8,
    "start_time": "2022-03-30T16:54:26.174Z"
   },
   {
    "duration": 8,
    "start_time": "2022-03-30T16:54:26.184Z"
   },
   {
    "duration": 7,
    "start_time": "2022-03-30T16:54:26.193Z"
   },
   {
    "duration": 8,
    "start_time": "2022-03-30T16:54:26.202Z"
   },
   {
    "duration": 12,
    "start_time": "2022-03-30T16:54:26.211Z"
   },
   {
    "duration": 9,
    "start_time": "2022-03-30T16:54:26.225Z"
   },
   {
    "duration": 11,
    "start_time": "2022-03-30T16:54:26.235Z"
   },
   {
    "duration": 8,
    "start_time": "2022-03-30T16:54:26.248Z"
   },
   {
    "duration": 9,
    "start_time": "2022-03-30T16:54:26.258Z"
   },
   {
    "duration": 8,
    "start_time": "2022-03-30T16:54:26.268Z"
   },
   {
    "duration": 8,
    "start_time": "2022-03-30T16:54:26.278Z"
   },
   {
    "duration": 7,
    "start_time": "2022-03-30T16:54:26.288Z"
   },
   {
    "duration": 3,
    "start_time": "2022-03-30T16:54:33.030Z"
   },
   {
    "duration": 157,
    "start_time": "2022-03-30T16:54:36.522Z"
   },
   {
    "duration": 10,
    "start_time": "2022-03-30T16:54:38.729Z"
   },
   {
    "duration": 29,
    "start_time": "2022-03-30T16:54:41.607Z"
   },
   {
    "duration": 3,
    "start_time": "2022-03-30T16:54:45.207Z"
   },
   {
    "duration": 9,
    "start_time": "2022-03-30T16:54:47.819Z"
   },
   {
    "duration": 3,
    "start_time": "2022-03-30T16:54:50.018Z"
   },
   {
    "duration": 26,
    "start_time": "2022-03-30T16:54:52.576Z"
   },
   {
    "duration": 229,
    "start_time": "2022-03-30T16:56:19.241Z"
   },
   {
    "duration": 376,
    "start_time": "2022-03-30T17:04:30.254Z"
   },
   {
    "duration": 162,
    "start_time": "2022-03-30T17:04:30.678Z"
   },
   {
    "duration": 19,
    "start_time": "2022-03-30T17:04:31.043Z"
   },
   {
    "duration": 33,
    "start_time": "2022-03-30T17:04:31.434Z"
   },
   {
    "duration": 3,
    "start_time": "2022-03-30T17:04:32.859Z"
   },
   {
    "duration": 14,
    "start_time": "2022-03-30T17:04:34.458Z"
   },
   {
    "duration": 3,
    "start_time": "2022-03-30T17:04:37.159Z"
   },
   {
    "duration": 34,
    "start_time": "2022-03-30T17:04:40.740Z"
   },
   {
    "duration": 199,
    "start_time": "2022-03-30T17:05:10.444Z"
   },
   {
    "duration": 60,
    "start_time": "2022-03-30T17:05:25.751Z"
   },
   {
    "duration": 20,
    "start_time": "2022-03-30T17:05:34.284Z"
   },
   {
    "duration": 11,
    "start_time": "2022-03-30T17:06:09.281Z"
   },
   {
    "duration": 12,
    "start_time": "2022-03-30T17:07:21.863Z"
   },
   {
    "duration": 22,
    "start_time": "2022-03-30T17:08:05.522Z"
   },
   {
    "duration": 10,
    "start_time": "2022-03-30T17:08:17.464Z"
   },
   {
    "duration": 11,
    "start_time": "2022-03-30T17:08:29.511Z"
   },
   {
    "duration": 10,
    "start_time": "2022-03-30T17:08:34.887Z"
   },
   {
    "duration": 415,
    "start_time": "2022-03-30T20:15:29.995Z"
   },
   {
    "duration": 166,
    "start_time": "2022-03-30T20:15:30.412Z"
   },
   {
    "duration": 17,
    "start_time": "2022-03-30T20:15:30.641Z"
   },
   {
    "duration": 29,
    "start_time": "2022-03-30T20:15:30.971Z"
   },
   {
    "duration": 4,
    "start_time": "2022-03-30T20:15:31.865Z"
   },
   {
    "duration": 12,
    "start_time": "2022-03-30T20:15:32.846Z"
   },
   {
    "duration": 3,
    "start_time": "2022-03-30T20:15:34.530Z"
   },
   {
    "duration": 23,
    "start_time": "2022-03-30T20:15:35.869Z"
   },
   {
    "duration": 21,
    "start_time": "2022-03-30T20:15:47.479Z"
   },
   {
    "duration": 30,
    "start_time": "2022-03-30T20:16:01.548Z"
   },
   {
    "duration": 25,
    "start_time": "2022-03-30T20:16:17.806Z"
   },
   {
    "duration": 540,
    "start_time": "2022-04-01T16:22:20.024Z"
   },
   {
    "duration": 192,
    "start_time": "2022-04-01T16:22:20.569Z"
   },
   {
    "duration": 36,
    "start_time": "2022-04-01T16:22:20.763Z"
   },
   {
    "duration": 66,
    "start_time": "2022-04-01T16:22:20.803Z"
   },
   {
    "duration": 7,
    "start_time": "2022-04-01T16:22:20.872Z"
   },
   {
    "duration": 21,
    "start_time": "2022-04-01T16:22:20.881Z"
   },
   {
    "duration": 7,
    "start_time": "2022-04-01T16:22:20.904Z"
   },
   {
    "duration": 68,
    "start_time": "2022-04-01T16:22:20.913Z"
   },
   {
    "duration": 28,
    "start_time": "2022-04-01T16:22:20.983Z"
   },
   {
    "duration": 30,
    "start_time": "2022-04-01T16:22:21.014Z"
   },
   {
    "duration": 92,
    "start_time": "2022-04-01T16:23:05.593Z"
   },
   {
    "duration": 90,
    "start_time": "2022-04-01T16:24:16.668Z"
   },
   {
    "duration": 152,
    "start_time": "2022-04-01T16:24:33.941Z"
   },
   {
    "duration": 89,
    "start_time": "2022-04-01T16:24:41.433Z"
   },
   {
    "duration": 25,
    "start_time": "2022-04-01T16:26:33.157Z"
   },
   {
    "duration": 26,
    "start_time": "2022-04-01T16:26:53.812Z"
   },
   {
    "duration": 35,
    "start_time": "2022-04-01T16:26:58.957Z"
   },
   {
    "duration": 5,
    "start_time": "2022-04-01T16:29:41.430Z"
   },
   {
    "duration": 4,
    "start_time": "2022-04-01T16:30:48.854Z"
   },
   {
    "duration": 12,
    "start_time": "2022-04-01T16:31:19.562Z"
   },
   {
    "duration": 12,
    "start_time": "2022-04-01T16:31:39.100Z"
   },
   {
    "duration": 5,
    "start_time": "2022-04-01T16:32:08.125Z"
   },
   {
    "duration": 4,
    "start_time": "2022-04-01T16:32:17.198Z"
   },
   {
    "duration": 13,
    "start_time": "2022-04-01T16:32:18.987Z"
   },
   {
    "duration": 4,
    "start_time": "2022-04-01T16:32:27.517Z"
   },
   {
    "duration": 4,
    "start_time": "2022-04-01T16:32:32.217Z"
   },
   {
    "duration": 15,
    "start_time": "2022-04-01T16:32:32.224Z"
   },
   {
    "duration": 0,
    "start_time": "2022-04-01T16:32:32.241Z"
   },
   {
    "duration": 0,
    "start_time": "2022-04-01T16:32:32.243Z"
   },
   {
    "duration": 0,
    "start_time": "2022-04-01T16:32:32.244Z"
   },
   {
    "duration": 0,
    "start_time": "2022-04-01T16:32:32.245Z"
   },
   {
    "duration": 0,
    "start_time": "2022-04-01T16:32:32.247Z"
   },
   {
    "duration": 3,
    "start_time": "2022-04-01T16:32:32.250Z"
   },
   {
    "duration": 4,
    "start_time": "2022-04-01T16:32:32.256Z"
   },
   {
    "duration": 5,
    "start_time": "2022-04-01T16:32:32.262Z"
   },
   {
    "duration": 6,
    "start_time": "2022-04-01T16:32:32.269Z"
   },
   {
    "duration": 5,
    "start_time": "2022-04-01T16:32:32.279Z"
   },
   {
    "duration": 8,
    "start_time": "2022-04-01T16:32:32.286Z"
   },
   {
    "duration": 6,
    "start_time": "2022-04-01T16:32:32.296Z"
   },
   {
    "duration": 8,
    "start_time": "2022-04-01T16:32:32.304Z"
   },
   {
    "duration": 8,
    "start_time": "2022-04-01T16:32:32.314Z"
   },
   {
    "duration": 43,
    "start_time": "2022-04-01T16:32:32.324Z"
   },
   {
    "duration": 7,
    "start_time": "2022-04-01T16:32:32.369Z"
   },
   {
    "duration": 8,
    "start_time": "2022-04-01T16:32:32.378Z"
   },
   {
    "duration": 8,
    "start_time": "2022-04-01T16:32:32.388Z"
   },
   {
    "duration": 6,
    "start_time": "2022-04-01T16:32:32.398Z"
   },
   {
    "duration": 3,
    "start_time": "2022-04-01T16:32:32.407Z"
   },
   {
    "duration": 6,
    "start_time": "2022-04-01T16:32:32.413Z"
   },
   {
    "duration": 5,
    "start_time": "2022-04-01T16:32:32.421Z"
   },
   {
    "duration": 3,
    "start_time": "2022-04-01T16:32:44.153Z"
   },
   {
    "duration": 198,
    "start_time": "2022-04-01T16:32:44.159Z"
   },
   {
    "duration": 16,
    "start_time": "2022-04-01T16:32:44.359Z"
   },
   {
    "duration": 58,
    "start_time": "2022-04-01T16:32:44.377Z"
   },
   {
    "duration": 5,
    "start_time": "2022-04-01T16:32:44.437Z"
   },
   {
    "duration": 23,
    "start_time": "2022-04-01T16:32:44.444Z"
   },
   {
    "duration": 4,
    "start_time": "2022-04-01T16:32:44.470Z"
   },
   {
    "duration": 47,
    "start_time": "2022-04-01T16:32:44.476Z"
   },
   {
    "duration": 27,
    "start_time": "2022-04-01T16:32:44.526Z"
   },
   {
    "duration": 32,
    "start_time": "2022-04-01T16:32:44.568Z"
   },
   {
    "duration": 108,
    "start_time": "2022-04-01T16:32:44.602Z"
   },
   {
    "duration": 118,
    "start_time": "2022-04-01T16:32:44.712Z"
   },
   {
    "duration": 90,
    "start_time": "2022-04-01T16:32:44.832Z"
   },
   {
    "duration": 45,
    "start_time": "2022-04-01T16:32:44.924Z"
   },
   {
    "duration": 12,
    "start_time": "2022-04-01T16:32:44.971Z"
   },
   {
    "duration": 12,
    "start_time": "2022-04-01T16:32:50.999Z"
   },
   {
    "duration": 4,
    "start_time": "2022-04-01T16:34:12.798Z"
   },
   {
    "duration": 111,
    "start_time": "2022-04-01T16:34:14.484Z"
   },
   {
    "duration": 10,
    "start_time": "2022-04-01T16:34:41.638Z"
   },
   {
    "duration": 9,
    "start_time": "2022-04-01T16:35:44.312Z"
   },
   {
    "duration": 9,
    "start_time": "2022-04-01T16:35:57.336Z"
   },
   {
    "duration": 10,
    "start_time": "2022-04-01T16:36:55.083Z"
   },
   {
    "duration": 10,
    "start_time": "2022-04-01T16:37:10.279Z"
   },
   {
    "duration": 10,
    "start_time": "2022-04-01T16:37:33.050Z"
   },
   {
    "duration": 10,
    "start_time": "2022-04-01T16:38:04.527Z"
   },
   {
    "duration": 10,
    "start_time": "2022-04-01T16:38:19.427Z"
   },
   {
    "duration": 9,
    "start_time": "2022-04-01T16:38:26.877Z"
   },
   {
    "duration": 3,
    "start_time": "2022-04-01T16:38:35.133Z"
   },
   {
    "duration": 189,
    "start_time": "2022-04-01T16:38:35.139Z"
   },
   {
    "duration": 16,
    "start_time": "2022-04-01T16:38:35.330Z"
   },
   {
    "duration": 59,
    "start_time": "2022-04-01T16:38:35.349Z"
   },
   {
    "duration": 4,
    "start_time": "2022-04-01T16:38:35.412Z"
   },
   {
    "duration": 25,
    "start_time": "2022-04-01T16:38:35.419Z"
   },
   {
    "duration": 22,
    "start_time": "2022-04-01T16:38:35.446Z"
   },
   {
    "duration": 38,
    "start_time": "2022-04-01T16:38:35.471Z"
   },
   {
    "duration": 24,
    "start_time": "2022-04-01T16:38:35.511Z"
   },
   {
    "duration": 55,
    "start_time": "2022-04-01T16:38:35.538Z"
   },
   {
    "duration": 109,
    "start_time": "2022-04-01T16:38:35.596Z"
   },
   {
    "duration": 111,
    "start_time": "2022-04-01T16:38:35.708Z"
   },
   {
    "duration": 92,
    "start_time": "2022-04-01T16:38:35.821Z"
   },
   {
    "duration": 39,
    "start_time": "2022-04-01T16:38:37.559Z"
   },
   {
    "duration": 4,
    "start_time": "2022-04-01T16:38:46.962Z"
   },
   {
    "duration": 119,
    "start_time": "2022-04-01T16:38:49.638Z"
   },
   {
    "duration": 10,
    "start_time": "2022-04-01T16:38:52.212Z"
   },
   {
    "duration": 19,
    "start_time": "2022-04-01T16:39:17.575Z"
   },
   {
    "duration": 4,
    "start_time": "2022-04-01T16:40:08.818Z"
   },
   {
    "duration": 12,
    "start_time": "2022-04-01T16:40:10.762Z"
   },
   {
    "duration": 4,
    "start_time": "2022-04-01T16:40:21.211Z"
   },
   {
    "duration": 12,
    "start_time": "2022-04-01T16:40:22.770Z"
   },
   {
    "duration": 4,
    "start_time": "2022-04-01T16:40:33.479Z"
   },
   {
    "duration": 198,
    "start_time": "2022-04-01T16:40:33.485Z"
   },
   {
    "duration": 16,
    "start_time": "2022-04-01T16:40:33.686Z"
   },
   {
    "duration": 42,
    "start_time": "2022-04-01T16:40:33.704Z"
   },
   {
    "duration": 5,
    "start_time": "2022-04-01T16:40:33.768Z"
   },
   {
    "duration": 14,
    "start_time": "2022-04-01T16:40:33.775Z"
   },
   {
    "duration": 5,
    "start_time": "2022-04-01T16:40:33.791Z"
   },
   {
    "duration": 69,
    "start_time": "2022-04-01T16:40:33.798Z"
   },
   {
    "duration": 24,
    "start_time": "2022-04-01T16:40:33.870Z"
   },
   {
    "duration": 38,
    "start_time": "2022-04-01T16:40:33.896Z"
   },
   {
    "duration": 119,
    "start_time": "2022-04-01T16:40:33.938Z"
   },
   {
    "duration": 107,
    "start_time": "2022-04-01T16:40:34.068Z"
   },
   {
    "duration": 97,
    "start_time": "2022-04-01T16:40:34.177Z"
   },
   {
    "duration": 3,
    "start_time": "2022-04-01T16:40:37.609Z"
   },
   {
    "duration": 108,
    "start_time": "2022-04-01T16:40:39.410Z"
   },
   {
    "duration": 9,
    "start_time": "2022-04-01T16:41:08.945Z"
   },
   {
    "duration": 4,
    "start_time": "2022-04-01T16:43:49.060Z"
   },
   {
    "duration": 11,
    "start_time": "2022-04-01T16:43:50.839Z"
   },
   {
    "duration": 4,
    "start_time": "2022-04-01T16:44:05.233Z"
   },
   {
    "duration": 12,
    "start_time": "2022-04-01T16:44:07.134Z"
   },
   {
    "duration": 4,
    "start_time": "2022-04-01T16:44:11.456Z"
   },
   {
    "duration": 197,
    "start_time": "2022-04-01T16:44:11.464Z"
   },
   {
    "duration": 16,
    "start_time": "2022-04-01T16:44:11.666Z"
   },
   {
    "duration": 47,
    "start_time": "2022-04-01T16:44:11.686Z"
   },
   {
    "duration": 5,
    "start_time": "2022-04-01T16:44:11.735Z"
   },
   {
    "duration": 35,
    "start_time": "2022-04-01T16:44:11.742Z"
   },
   {
    "duration": 5,
    "start_time": "2022-04-01T16:44:11.779Z"
   },
   {
    "duration": 35,
    "start_time": "2022-04-01T16:44:11.786Z"
   },
   {
    "duration": 62,
    "start_time": "2022-04-01T16:44:11.824Z"
   },
   {
    "duration": 34,
    "start_time": "2022-04-01T16:44:11.888Z"
   },
   {
    "duration": 115,
    "start_time": "2022-04-01T16:44:11.925Z"
   },
   {
    "duration": 108,
    "start_time": "2022-04-01T16:44:12.042Z"
   },
   {
    "duration": 95,
    "start_time": "2022-04-01T16:44:12.153Z"
   },
   {
    "duration": 48,
    "start_time": "2022-04-01T16:44:12.251Z"
   },
   {
    "duration": 39,
    "start_time": "2022-04-01T16:44:13.427Z"
   },
   {
    "duration": 9,
    "start_time": "2022-04-01T16:44:16.344Z"
   },
   {
    "duration": 4,
    "start_time": "2022-04-01T16:45:42.166Z"
   },
   {
    "duration": 195,
    "start_time": "2022-04-01T16:45:42.173Z"
   },
   {
    "duration": 15,
    "start_time": "2022-04-01T16:45:42.371Z"
   },
   {
    "duration": 41,
    "start_time": "2022-04-01T16:45:42.389Z"
   },
   {
    "duration": 4,
    "start_time": "2022-04-01T16:45:42.432Z"
   },
   {
    "duration": 37,
    "start_time": "2022-04-01T16:45:42.439Z"
   },
   {
    "duration": 5,
    "start_time": "2022-04-01T16:45:42.478Z"
   },
   {
    "duration": 47,
    "start_time": "2022-04-01T16:45:42.485Z"
   },
   {
    "duration": 55,
    "start_time": "2022-04-01T16:45:42.536Z"
   },
   {
    "duration": 35,
    "start_time": "2022-04-01T16:45:42.593Z"
   },
   {
    "duration": 117,
    "start_time": "2022-04-01T16:45:42.630Z"
   },
   {
    "duration": 118,
    "start_time": "2022-04-01T16:45:42.749Z"
   },
   {
    "duration": 86,
    "start_time": "2022-04-01T16:45:42.870Z"
   },
   {
    "duration": 38,
    "start_time": "2022-04-01T16:45:42.968Z"
   },
   {
    "duration": 33,
    "start_time": "2022-04-01T16:45:44.451Z"
   },
   {
    "duration": 11,
    "start_time": "2022-04-01T16:45:46.634Z"
   },
   {
    "duration": 6,
    "start_time": "2022-04-01T16:49:32.950Z"
   },
   {
    "duration": 4,
    "start_time": "2022-04-01T16:49:43.480Z"
   },
   {
    "duration": 198,
    "start_time": "2022-04-01T16:49:43.486Z"
   },
   {
    "duration": 16,
    "start_time": "2022-04-01T16:49:43.687Z"
   },
   {
    "duration": 49,
    "start_time": "2022-04-01T16:49:43.704Z"
   },
   {
    "duration": 4,
    "start_time": "2022-04-01T16:49:43.769Z"
   },
   {
    "duration": 14,
    "start_time": "2022-04-01T16:49:43.776Z"
   },
   {
    "duration": 5,
    "start_time": "2022-04-01T16:49:43.792Z"
   },
   {
    "duration": 67,
    "start_time": "2022-04-01T16:49:43.799Z"
   },
   {
    "duration": 24,
    "start_time": "2022-04-01T16:49:43.869Z"
   },
   {
    "duration": 32,
    "start_time": "2022-04-01T16:49:43.896Z"
   },
   {
    "duration": 116,
    "start_time": "2022-04-01T16:49:43.932Z"
   },
   {
    "duration": 106,
    "start_time": "2022-04-01T16:49:44.050Z"
   },
   {
    "duration": 92,
    "start_time": "2022-04-01T16:49:44.158Z"
   },
   {
    "duration": 35,
    "start_time": "2022-04-01T16:49:44.268Z"
   },
   {
    "duration": 6,
    "start_time": "2022-04-01T16:49:44.306Z"
   },
   {
    "duration": 62,
    "start_time": "2022-04-01T16:49:44.314Z"
   },
   {
    "duration": 13,
    "start_time": "2022-04-01T16:49:44.379Z"
   },
   {
    "duration": 7,
    "start_time": "2022-04-01T16:49:46.224Z"
   },
   {
    "duration": 49,
    "start_time": "2022-04-01T16:50:02.229Z"
   },
   {
    "duration": 47,
    "start_time": "2022-04-01T16:50:44.407Z"
   },
   {
    "duration": 4,
    "start_time": "2022-04-01T18:00:36.734Z"
   },
   {
    "duration": 299,
    "start_time": "2022-04-01T18:00:36.741Z"
   },
   {
    "duration": 28,
    "start_time": "2022-04-01T18:00:37.043Z"
   },
   {
    "duration": 63,
    "start_time": "2022-04-01T18:00:37.075Z"
   },
   {
    "duration": 5,
    "start_time": "2022-04-01T18:00:37.141Z"
   },
   {
    "duration": 16,
    "start_time": "2022-04-01T18:00:37.169Z"
   },
   {
    "duration": 6,
    "start_time": "2022-04-01T18:00:37.188Z"
   },
   {
    "duration": 72,
    "start_time": "2022-04-01T18:00:37.197Z"
   },
   {
    "duration": 27,
    "start_time": "2022-04-01T18:00:37.273Z"
   },
   {
    "duration": 35,
    "start_time": "2022-04-01T18:00:37.303Z"
   },
   {
    "duration": 132,
    "start_time": "2022-04-01T18:00:37.369Z"
   },
   {
    "duration": 152,
    "start_time": "2022-04-01T18:00:37.503Z"
   },
   {
    "duration": 131,
    "start_time": "2022-04-01T18:00:37.657Z"
   },
   {
    "duration": 61,
    "start_time": "2022-04-01T18:00:37.791Z"
   },
   {
    "duration": 4,
    "start_time": "2022-04-01T18:00:37.867Z"
   },
   {
    "duration": 40,
    "start_time": "2022-04-01T18:00:37.873Z"
   },
   {
    "duration": 11,
    "start_time": "2022-04-01T18:00:37.916Z"
   },
   {
    "duration": 80,
    "start_time": "2022-04-01T18:00:37.929Z"
   },
   {
    "duration": 69,
    "start_time": "2022-04-01T18:00:38.012Z"
   },
   {
    "duration": 95,
    "start_time": "2022-04-01T18:00:54.104Z"
   },
   {
    "duration": 5,
    "start_time": "2022-04-01T18:03:24.925Z"
   },
   {
    "duration": 21,
    "start_time": "2022-04-01T18:04:16.812Z"
   },
   {
    "duration": 6,
    "start_time": "2022-04-01T18:08:16.857Z"
   },
   {
    "duration": 20,
    "start_time": "2022-04-01T18:08:19.458Z"
   },
   {
    "duration": 95,
    "start_time": "2022-04-01T18:09:05.723Z"
   },
   {
    "duration": 5,
    "start_time": "2022-04-01T18:09:21.049Z"
   },
   {
    "duration": 13,
    "start_time": "2022-04-01T18:09:23.888Z"
   },
   {
    "duration": 5,
    "start_time": "2022-04-01T18:11:41.934Z"
   },
   {
    "duration": 12,
    "start_time": "2022-04-01T18:11:44.283Z"
   },
   {
    "duration": 5,
    "start_time": "2022-04-01T18:15:19.543Z"
   },
   {
    "duration": 12,
    "start_time": "2022-04-01T18:15:22.199Z"
   },
   {
    "duration": 5,
    "start_time": "2022-04-01T18:18:34.911Z"
   },
   {
    "duration": 13,
    "start_time": "2022-04-01T18:18:37.675Z"
   },
   {
    "duration": 5,
    "start_time": "2022-04-01T18:27:44.559Z"
   },
   {
    "duration": 13,
    "start_time": "2022-04-01T18:27:47.035Z"
   },
   {
    "duration": 5,
    "start_time": "2022-04-01T18:29:52.473Z"
   },
   {
    "duration": 22,
    "start_time": "2022-04-01T18:29:55.588Z"
   },
   {
    "duration": 21,
    "start_time": "2022-04-01T18:30:10.677Z"
   },
   {
    "duration": 22,
    "start_time": "2022-04-01T18:30:11.718Z"
   },
   {
    "duration": 23,
    "start_time": "2022-04-01T18:30:49.728Z"
   },
   {
    "duration": 5,
    "start_time": "2022-04-01T18:31:27.086Z"
   },
   {
    "duration": 24,
    "start_time": "2022-04-01T18:31:29.327Z"
   },
   {
    "duration": 24,
    "start_time": "2022-04-01T18:32:47.071Z"
   },
   {
    "duration": 23,
    "start_time": "2022-04-01T18:32:49.718Z"
   },
   {
    "duration": 5,
    "start_time": "2022-04-01T18:33:56.770Z"
   },
   {
    "duration": 20,
    "start_time": "2022-04-01T18:33:58.436Z"
   },
   {
    "duration": 20,
    "start_time": "2022-04-01T18:34:00.442Z"
   },
   {
    "duration": 22,
    "start_time": "2022-04-01T18:34:04.984Z"
   },
   {
    "duration": 6,
    "start_time": "2022-04-01T18:34:38.218Z"
   },
   {
    "duration": 34,
    "start_time": "2022-04-01T18:34:39.849Z"
   },
   {
    "duration": 4,
    "start_time": "2022-04-01T18:35:42.318Z"
   },
   {
    "duration": 34,
    "start_time": "2022-04-01T18:35:45.016Z"
   },
   {
    "duration": 23,
    "start_time": "2022-04-01T18:36:11.907Z"
   },
   {
    "duration": 21,
    "start_time": "2022-04-01T18:37:06.940Z"
   },
   {
    "duration": 22,
    "start_time": "2022-04-01T18:37:15.496Z"
   },
   {
    "duration": 26,
    "start_time": "2022-04-01T18:37:20.609Z"
   },
   {
    "duration": 23,
    "start_time": "2022-04-01T18:37:26.459Z"
   },
   {
    "duration": 14,
    "start_time": "2022-04-01T18:39:23.314Z"
   },
   {
    "duration": 10,
    "start_time": "2022-04-01T18:39:40.512Z"
   },
   {
    "duration": 12,
    "start_time": "2022-04-01T18:40:18.034Z"
   },
   {
    "duration": 11,
    "start_time": "2022-04-01T18:41:07.226Z"
   },
   {
    "duration": 23,
    "start_time": "2022-04-01T18:43:48.189Z"
   },
   {
    "duration": 20,
    "start_time": "2022-04-01T18:50:04.700Z"
   },
   {
    "duration": 19,
    "start_time": "2022-04-01T18:52:11.640Z"
   },
   {
    "duration": 18,
    "start_time": "2022-04-01T18:54:11.124Z"
   },
   {
    "duration": 18,
    "start_time": "2022-04-01T18:55:48.081Z"
   },
   {
    "duration": 17,
    "start_time": "2022-04-01T18:56:56.592Z"
   },
   {
    "duration": 16,
    "start_time": "2022-04-01T18:58:04.713Z"
   },
   {
    "duration": 13,
    "start_time": "2022-04-01T18:58:29.018Z"
   },
   {
    "duration": 6,
    "start_time": "2022-04-01T19:04:50.723Z"
   },
   {
    "duration": 1459,
    "start_time": "2022-04-01T19:05:23.263Z"
   },
   {
    "duration": 0,
    "start_time": "2022-04-01T19:05:35.807Z"
   },
   {
    "duration": 1471,
    "start_time": "2022-04-01T19:05:36.648Z"
   },
   {
    "duration": 5,
    "start_time": "2022-04-01T19:08:04.409Z"
   },
   {
    "duration": 0,
    "start_time": "2022-04-01T19:08:09.612Z"
   },
   {
    "duration": 1548,
    "start_time": "2022-04-01T19:08:11.603Z"
   },
   {
    "duration": 6,
    "start_time": "2022-04-01T19:09:52.178Z"
   },
   {
    "duration": 1901,
    "start_time": "2022-04-01T19:09:54.947Z"
   },
   {
    "duration": 1488,
    "start_time": "2022-04-01T19:12:10.732Z"
   },
   {
    "duration": 6,
    "start_time": "2022-04-01T19:13:13.704Z"
   },
   {
    "duration": 1602,
    "start_time": "2022-04-01T19:13:15.985Z"
   },
   {
    "duration": 6,
    "start_time": "2022-04-01T19:13:39.831Z"
   },
   {
    "duration": 1619,
    "start_time": "2022-04-01T19:13:42.862Z"
   },
   {
    "duration": 12,
    "start_time": "2022-04-01T19:14:58.917Z"
   },
   {
    "duration": 1533,
    "start_time": "2022-04-01T19:15:02.634Z"
   },
   {
    "duration": 6,
    "start_time": "2022-04-01T19:15:42.605Z"
   },
   {
    "duration": 27,
    "start_time": "2022-04-01T19:15:46.314Z"
   },
   {
    "duration": 27,
    "start_time": "2022-04-01T19:15:48.333Z"
   },
   {
    "duration": 4,
    "start_time": "2022-04-01T19:15:54.613Z"
   },
   {
    "duration": 201,
    "start_time": "2022-04-01T19:15:54.621Z"
   },
   {
    "duration": 16,
    "start_time": "2022-04-01T19:15:54.825Z"
   },
   {
    "duration": 52,
    "start_time": "2022-04-01T19:15:54.844Z"
   },
   {
    "duration": 5,
    "start_time": "2022-04-01T19:15:54.898Z"
   },
   {
    "duration": 16,
    "start_time": "2022-04-01T19:15:54.905Z"
   },
   {
    "duration": 5,
    "start_time": "2022-04-01T19:15:54.923Z"
   },
   {
    "duration": 65,
    "start_time": "2022-04-01T19:15:54.930Z"
   },
   {
    "duration": 23,
    "start_time": "2022-04-01T19:15:54.998Z"
   },
   {
    "duration": 67,
    "start_time": "2022-04-01T19:15:55.023Z"
   },
   {
    "duration": 103,
    "start_time": "2022-04-01T19:15:55.092Z"
   },
   {
    "duration": 97,
    "start_time": "2022-04-01T19:15:55.197Z"
   },
   {
    "duration": 94,
    "start_time": "2022-04-01T19:15:55.296Z"
   },
   {
    "duration": 37,
    "start_time": "2022-04-01T19:15:55.392Z"
   },
   {
    "duration": 4,
    "start_time": "2022-04-01T19:15:55.432Z"
   },
   {
    "duration": 39,
    "start_time": "2022-04-01T19:15:55.438Z"
   },
   {
    "duration": 11,
    "start_time": "2022-04-01T19:15:55.479Z"
   },
   {
    "duration": 50,
    "start_time": "2022-04-01T19:15:55.492Z"
   },
   {
    "duration": 63,
    "start_time": "2022-04-01T19:15:55.544Z"
   },
   {
    "duration": 6,
    "start_time": "2022-04-01T19:15:55.609Z"
   },
   {
    "duration": 55,
    "start_time": "2022-04-01T19:15:55.616Z"
   },
   {
    "duration": 29,
    "start_time": "2022-04-01T19:15:55.674Z"
   },
   {
    "duration": 65,
    "start_time": "2022-04-01T19:15:55.705Z"
   },
   {
    "duration": 18,
    "start_time": "2022-04-01T19:15:55.774Z"
   },
   {
    "duration": 21,
    "start_time": "2022-04-01T19:15:55.794Z"
   },
   {
    "duration": 56,
    "start_time": "2022-04-01T19:15:55.817Z"
   },
   {
    "duration": 12,
    "start_time": "2022-04-01T19:15:55.876Z"
   },
   {
    "duration": 16,
    "start_time": "2022-04-01T19:15:55.890Z"
   },
   {
    "duration": 72,
    "start_time": "2022-04-01T19:15:55.909Z"
   },
   {
    "duration": 6,
    "start_time": "2022-04-01T19:16:10.727Z"
   },
   {
    "duration": 26,
    "start_time": "2022-04-01T19:16:13.235Z"
   },
   {
    "duration": 6,
    "start_time": "2022-04-01T19:16:22.983Z"
   },
   {
    "duration": 26,
    "start_time": "2022-04-01T19:16:25.936Z"
   },
   {
    "duration": 5,
    "start_time": "2022-04-01T19:18:52.068Z"
   },
   {
    "duration": 18,
    "start_time": "2022-04-01T19:18:55.318Z"
   },
   {
    "duration": 20,
    "start_time": "2022-04-01T19:19:01.208Z"
   },
   {
    "duration": 5,
    "start_time": "2022-04-01T19:19:09.905Z"
   },
   {
    "duration": 19,
    "start_time": "2022-04-01T19:19:12.649Z"
   },
   {
    "duration": 18,
    "start_time": "2022-04-01T19:22:56.360Z"
   },
   {
    "duration": 4,
    "start_time": "2022-04-01T19:37:59.241Z"
   },
   {
    "duration": 220,
    "start_time": "2022-04-01T19:37:59.248Z"
   },
   {
    "duration": 16,
    "start_time": "2022-04-01T19:37:59.470Z"
   },
   {
    "duration": 48,
    "start_time": "2022-04-01T19:37:59.489Z"
   },
   {
    "duration": 5,
    "start_time": "2022-04-01T19:37:59.566Z"
   },
   {
    "duration": 14,
    "start_time": "2022-04-01T19:37:59.574Z"
   },
   {
    "duration": 5,
    "start_time": "2022-04-01T19:37:59.592Z"
   },
   {
    "duration": 78,
    "start_time": "2022-04-01T19:37:59.600Z"
   },
   {
    "duration": 25,
    "start_time": "2022-04-01T19:37:59.682Z"
   },
   {
    "duration": 60,
    "start_time": "2022-04-01T19:37:59.709Z"
   },
   {
    "duration": 128,
    "start_time": "2022-04-01T19:37:59.772Z"
   },
   {
    "duration": 142,
    "start_time": "2022-04-01T19:37:59.903Z"
   },
   {
    "duration": 110,
    "start_time": "2022-04-01T19:38:00.049Z"
   },
   {
    "duration": 47,
    "start_time": "2022-04-01T19:38:00.168Z"
   },
   {
    "duration": 5,
    "start_time": "2022-04-01T19:38:00.218Z"
   },
   {
    "duration": 66,
    "start_time": "2022-04-01T19:38:00.225Z"
   },
   {
    "duration": 14,
    "start_time": "2022-04-01T19:38:00.293Z"
   },
   {
    "duration": 79,
    "start_time": "2022-04-01T19:38:00.310Z"
   },
   {
    "duration": 87,
    "start_time": "2022-04-01T19:38:00.392Z"
   },
   {
    "duration": 5,
    "start_time": "2022-04-01T19:38:00.481Z"
   },
   {
    "duration": 53,
    "start_time": "2022-04-01T19:38:00.488Z"
   },
   {
    "duration": 22,
    "start_time": "2022-04-01T19:38:00.543Z"
   },
   {
    "duration": 25,
    "start_time": "2022-04-01T19:38:00.568Z"
   },
   {
    "duration": 22,
    "start_time": "2022-04-01T19:38:00.598Z"
   },
   {
    "duration": 55,
    "start_time": "2022-04-01T19:38:00.622Z"
   },
   {
    "duration": 24,
    "start_time": "2022-04-01T19:38:00.680Z"
   },
   {
    "duration": 26,
    "start_time": "2022-04-01T19:38:00.707Z"
   },
   {
    "duration": 41,
    "start_time": "2022-04-01T19:38:00.735Z"
   },
   {
    "duration": 31,
    "start_time": "2022-04-01T19:38:00.779Z"
   },
   {
    "duration": 6,
    "start_time": "2022-04-01T19:38:04.119Z"
   },
   {
    "duration": 18,
    "start_time": "2022-04-01T19:38:08.665Z"
   },
   {
    "duration": 7,
    "start_time": "2022-04-01T19:38:53.080Z"
   },
   {
    "duration": 25,
    "start_time": "2022-04-01T19:38:55.695Z"
   },
   {
    "duration": 94,
    "start_time": "2022-04-01T19:39:11.438Z"
   },
   {
    "duration": 86,
    "start_time": "2022-04-01T19:39:17.935Z"
   },
   {
    "duration": 5,
    "start_time": "2022-04-01T19:40:01.935Z"
   },
   {
    "duration": 19,
    "start_time": "2022-04-01T19:40:04.227Z"
   },
   {
    "duration": 29,
    "start_time": "2022-04-01T19:41:21.996Z"
   },
   {
    "duration": 18,
    "start_time": "2022-04-01T19:41:30.369Z"
   },
   {
    "duration": 14,
    "start_time": "2022-04-01T19:41:32.663Z"
   },
   {
    "duration": 6,
    "start_time": "2022-04-01T19:41:35.238Z"
   },
   {
    "duration": 19,
    "start_time": "2022-04-01T19:41:37.504Z"
   },
   {
    "duration": 6,
    "start_time": "2022-04-01T19:42:57.415Z"
   },
   {
    "duration": 6,
    "start_time": "2022-04-01T19:55:52.681Z"
   },
   {
    "duration": 19,
    "start_time": "2022-04-01T19:55:55.785Z"
   },
   {
    "duration": 5,
    "start_time": "2022-04-01T19:59:13.041Z"
   },
   {
    "duration": 18,
    "start_time": "2022-04-01T19:59:15.945Z"
   },
   {
    "duration": 6,
    "start_time": "2022-04-01T19:59:48.538Z"
   },
   {
    "duration": 1752,
    "start_time": "2022-04-01T19:59:51.259Z"
   },
   {
    "duration": 6,
    "start_time": "2022-04-01T20:00:08.776Z"
   },
   {
    "duration": 19,
    "start_time": "2022-04-01T20:00:11.125Z"
   },
   {
    "duration": 14,
    "start_time": "2022-04-01T20:00:34.985Z"
   },
   {
    "duration": 4,
    "start_time": "2022-04-01T20:00:50.342Z"
   },
   {
    "duration": 235,
    "start_time": "2022-04-01T20:00:50.350Z"
   },
   {
    "duration": 28,
    "start_time": "2022-04-01T20:00:50.588Z"
   },
   {
    "duration": 54,
    "start_time": "2022-04-01T20:00:50.618Z"
   },
   {
    "duration": 6,
    "start_time": "2022-04-01T20:00:50.676Z"
   },
   {
    "duration": 24,
    "start_time": "2022-04-01T20:00:50.685Z"
   },
   {
    "duration": 6,
    "start_time": "2022-04-01T20:00:50.712Z"
   },
   {
    "duration": 86,
    "start_time": "2022-04-01T20:00:50.721Z"
   },
   {
    "duration": 59,
    "start_time": "2022-04-01T20:00:50.809Z"
   },
   {
    "duration": 44,
    "start_time": "2022-04-01T20:00:50.871Z"
   },
   {
    "duration": 128,
    "start_time": "2022-04-01T20:00:50.919Z"
   },
   {
    "duration": 125,
    "start_time": "2022-04-01T20:00:51.050Z"
   },
   {
    "duration": 103,
    "start_time": "2022-04-01T20:00:51.178Z"
   },
   {
    "duration": 38,
    "start_time": "2022-04-01T20:00:51.283Z"
   },
   {
    "duration": 5,
    "start_time": "2022-04-01T20:00:51.324Z"
   },
   {
    "duration": 79,
    "start_time": "2022-04-01T20:00:51.332Z"
   },
   {
    "duration": 16,
    "start_time": "2022-04-01T20:00:51.414Z"
   },
   {
    "duration": 94,
    "start_time": "2022-04-01T20:00:51.434Z"
   },
   {
    "duration": 91,
    "start_time": "2022-04-01T20:00:51.531Z"
   },
   {
    "duration": 7,
    "start_time": "2022-04-01T20:00:51.625Z"
   },
   {
    "duration": 43,
    "start_time": "2022-04-01T20:00:51.634Z"
   },
   {
    "duration": 31,
    "start_time": "2022-04-01T20:00:51.680Z"
   },
   {
    "duration": 58,
    "start_time": "2022-04-01T20:00:51.714Z"
   },
   {
    "duration": 26,
    "start_time": "2022-04-01T20:00:51.775Z"
   },
   {
    "duration": 32,
    "start_time": "2022-04-01T20:00:51.804Z"
   },
   {
    "duration": 49,
    "start_time": "2022-04-01T20:00:51.839Z"
   },
   {
    "duration": 16,
    "start_time": "2022-04-01T20:00:51.891Z"
   },
   {
    "duration": 23,
    "start_time": "2022-04-01T20:00:51.909Z"
   },
   {
    "duration": 23,
    "start_time": "2022-04-01T20:00:51.971Z"
   },
   {
    "duration": 6,
    "start_time": "2022-04-01T20:03:39.175Z"
   },
   {
    "duration": 19,
    "start_time": "2022-04-01T20:03:41.243Z"
   },
   {
    "duration": 435,
    "start_time": "2022-04-02T12:11:04.908Z"
   },
   {
    "duration": 162,
    "start_time": "2022-04-02T12:11:05.345Z"
   },
   {
    "duration": 16,
    "start_time": "2022-04-02T12:11:05.508Z"
   },
   {
    "duration": 35,
    "start_time": "2022-04-02T12:11:05.526Z"
   },
   {
    "duration": 4,
    "start_time": "2022-04-02T12:11:05.562Z"
   },
   {
    "duration": 15,
    "start_time": "2022-04-02T12:11:05.567Z"
   },
   {
    "duration": 9,
    "start_time": "2022-04-02T12:11:05.584Z"
   },
   {
    "duration": 44,
    "start_time": "2022-04-02T12:11:05.594Z"
   },
   {
    "duration": 19,
    "start_time": "2022-04-02T12:11:05.640Z"
   },
   {
    "duration": 61,
    "start_time": "2022-04-02T12:11:05.661Z"
   },
   {
    "duration": 73,
    "start_time": "2022-04-02T12:11:05.724Z"
   },
   {
    "duration": 81,
    "start_time": "2022-04-02T12:11:05.799Z"
   },
   {
    "duration": 68,
    "start_time": "2022-04-02T12:11:05.881Z"
   },
   {
    "duration": 23,
    "start_time": "2022-04-02T12:11:05.951Z"
   },
   {
    "duration": 5,
    "start_time": "2022-04-02T12:11:05.976Z"
   },
   {
    "duration": 31,
    "start_time": "2022-04-02T12:11:05.983Z"
   },
   {
    "duration": 26,
    "start_time": "2022-04-02T12:11:06.017Z"
   },
   {
    "duration": 35,
    "start_time": "2022-04-02T12:11:06.045Z"
   },
   {
    "duration": 56,
    "start_time": "2022-04-02T12:11:06.081Z"
   },
   {
    "duration": 3,
    "start_time": "2022-04-02T12:11:06.139Z"
   },
   {
    "duration": 23,
    "start_time": "2022-04-02T12:11:06.144Z"
   },
   {
    "duration": 15,
    "start_time": "2022-04-02T12:11:06.169Z"
   },
   {
    "duration": 16,
    "start_time": "2022-04-02T12:11:06.186Z"
   },
   {
    "duration": 42,
    "start_time": "2022-04-02T12:11:06.203Z"
   },
   {
    "duration": 19,
    "start_time": "2022-04-02T12:11:06.246Z"
   },
   {
    "duration": 16,
    "start_time": "2022-04-02T12:11:06.267Z"
   },
   {
    "duration": 8,
    "start_time": "2022-04-02T12:11:06.284Z"
   },
   {
    "duration": 15,
    "start_time": "2022-04-02T12:11:06.295Z"
   },
   {
    "duration": 10,
    "start_time": "2022-04-02T12:11:06.338Z"
   },
   {
    "duration": 4,
    "start_time": "2022-04-02T12:11:14.389Z"
   },
   {
    "duration": 15,
    "start_time": "2022-04-02T12:11:19.170Z"
   },
   {
    "duration": 63,
    "start_time": "2022-04-02T12:13:07.841Z"
   },
   {
    "duration": 5,
    "start_time": "2022-04-02T12:13:41.519Z"
   },
   {
    "duration": 16,
    "start_time": "2022-04-02T12:13:43.097Z"
   },
   {
    "duration": 4,
    "start_time": "2022-04-02T12:39:47.062Z"
   },
   {
    "duration": 15,
    "start_time": "2022-04-02T12:39:49.517Z"
   },
   {
    "duration": 12,
    "start_time": "2022-04-02T12:39:51.562Z"
   },
   {
    "duration": 3,
    "start_time": "2022-04-02T12:40:23.919Z"
   },
   {
    "duration": 15,
    "start_time": "2022-04-02T12:40:27.030Z"
   },
   {
    "duration": 4,
    "start_time": "2022-04-02T12:40:42.287Z"
   },
   {
    "duration": 16,
    "start_time": "2022-04-02T12:40:44.141Z"
   },
   {
    "duration": 13,
    "start_time": "2022-04-02T12:40:50.779Z"
   },
   {
    "duration": 5,
    "start_time": "2022-04-02T12:41:14.616Z"
   },
   {
    "duration": 14,
    "start_time": "2022-04-02T12:41:17.024Z"
   },
   {
    "duration": 5,
    "start_time": "2022-04-02T12:47:20.669Z"
   },
   {
    "duration": 19,
    "start_time": "2022-04-02T12:47:22.665Z"
   },
   {
    "duration": 25,
    "start_time": "2022-04-02T12:47:35.350Z"
   },
   {
    "duration": 13,
    "start_time": "2022-04-02T12:49:15.617Z"
   },
   {
    "duration": 18,
    "start_time": "2022-04-02T12:50:00.805Z"
   },
   {
    "duration": 13,
    "start_time": "2022-04-02T12:50:03.174Z"
   },
   {
    "duration": 10,
    "start_time": "2022-04-02T12:52:13.277Z"
   },
   {
    "duration": 8,
    "start_time": "2022-04-02T12:57:53.396Z"
   },
   {
    "duration": 9,
    "start_time": "2022-04-02T12:58:02.205Z"
   },
   {
    "duration": 10,
    "start_time": "2022-04-02T12:58:18.123Z"
   },
   {
    "duration": 4,
    "start_time": "2022-04-02T12:58:45.147Z"
   },
   {
    "duration": 10,
    "start_time": "2022-04-02T13:00:02.958Z"
   },
   {
    "duration": 5,
    "start_time": "2022-04-02T13:00:27.354Z"
   },
   {
    "duration": 2568,
    "start_time": "2022-04-02T13:01:17.059Z"
   },
   {
    "duration": 10,
    "start_time": "2022-04-02T13:01:32.454Z"
   },
   {
    "duration": 5,
    "start_time": "2022-04-02T13:01:34.848Z"
   },
   {
    "duration": 12,
    "start_time": "2022-04-02T13:03:06.489Z"
   },
   {
    "duration": 7,
    "start_time": "2022-04-02T13:03:20.816Z"
   },
   {
    "duration": 4,
    "start_time": "2022-04-02T13:03:33.666Z"
   },
   {
    "duration": 16,
    "start_time": "2022-04-02T13:04:32.516Z"
   },
   {
    "duration": 20,
    "start_time": "2022-04-02T13:04:36.822Z"
   },
   {
    "duration": 23,
    "start_time": "2022-04-02T13:05:06.565Z"
   },
   {
    "duration": 14,
    "start_time": "2022-04-02T13:05:18.591Z"
   },
   {
    "duration": 11,
    "start_time": "2022-04-02T13:05:26.200Z"
   },
   {
    "duration": 3,
    "start_time": "2022-04-02T13:06:23.122Z"
   },
   {
    "duration": 171,
    "start_time": "2022-04-02T13:06:23.128Z"
   },
   {
    "duration": 10,
    "start_time": "2022-04-02T13:06:23.301Z"
   },
   {
    "duration": 47,
    "start_time": "2022-04-02T13:06:23.313Z"
   },
   {
    "duration": 4,
    "start_time": "2022-04-02T13:06:23.362Z"
   },
   {
    "duration": 15,
    "start_time": "2022-04-02T13:06:23.368Z"
   },
   {
    "duration": 4,
    "start_time": "2022-04-02T13:06:23.385Z"
   },
   {
    "duration": 48,
    "start_time": "2022-04-02T13:06:23.391Z"
   },
   {
    "duration": 25,
    "start_time": "2022-04-02T13:06:23.443Z"
   },
   {
    "duration": 24,
    "start_time": "2022-04-02T13:06:23.470Z"
   },
   {
    "duration": 90,
    "start_time": "2022-04-02T13:06:23.496Z"
   },
   {
    "duration": 77,
    "start_time": "2022-04-02T13:06:26.790Z"
   },
   {
    "duration": 72,
    "start_time": "2022-04-02T13:06:30.521Z"
   },
   {
    "duration": 2,
    "start_time": "2022-04-02T13:08:25.386Z"
   },
   {
    "duration": 196,
    "start_time": "2022-04-02T13:08:25.390Z"
   },
   {
    "duration": 10,
    "start_time": "2022-04-02T13:08:25.588Z"
   },
   {
    "duration": 57,
    "start_time": "2022-04-02T13:08:25.600Z"
   },
   {
    "duration": 4,
    "start_time": "2022-04-02T13:08:25.660Z"
   },
   {
    "duration": 16,
    "start_time": "2022-04-02T13:08:25.666Z"
   },
   {
    "duration": 6,
    "start_time": "2022-04-02T13:08:25.684Z"
   },
   {
    "duration": 29,
    "start_time": "2022-04-02T13:08:25.692Z"
   },
   {
    "duration": 40,
    "start_time": "2022-04-02T13:08:25.722Z"
   },
   {
    "duration": 26,
    "start_time": "2022-04-02T13:08:25.764Z"
   },
   {
    "duration": 92,
    "start_time": "2022-04-02T13:08:25.793Z"
   },
   {
    "duration": 85,
    "start_time": "2022-04-02T13:08:25.887Z"
   },
   {
    "duration": 67,
    "start_time": "2022-04-02T13:08:25.974Z"
   },
   {
    "duration": 36,
    "start_time": "2022-04-02T13:08:26.044Z"
   },
   {
    "duration": 8,
    "start_time": "2022-04-02T13:08:26.083Z"
   },
   {
    "duration": 55,
    "start_time": "2022-04-02T13:08:26.093Z"
   },
   {
    "duration": 13,
    "start_time": "2022-04-02T13:08:26.151Z"
   },
   {
    "duration": 36,
    "start_time": "2022-04-02T13:08:26.165Z"
   },
   {
    "duration": 61,
    "start_time": "2022-04-02T13:08:26.202Z"
   },
   {
    "duration": 4,
    "start_time": "2022-04-02T13:08:26.265Z"
   },
   {
    "duration": 24,
    "start_time": "2022-04-02T13:08:26.270Z"
   },
   {
    "duration": 15,
    "start_time": "2022-04-02T13:08:26.295Z"
   },
   {
    "duration": 38,
    "start_time": "2022-04-02T13:08:26.312Z"
   },
   {
    "duration": 18,
    "start_time": "2022-04-02T13:08:26.352Z"
   },
   {
    "duration": 18,
    "start_time": "2022-04-02T13:08:26.372Z"
   },
   {
    "duration": 46,
    "start_time": "2022-04-02T13:08:26.392Z"
   },
   {
    "duration": 9,
    "start_time": "2022-04-02T13:08:26.441Z"
   },
   {
    "duration": 34,
    "start_time": "2022-04-02T13:08:26.451Z"
   },
   {
    "duration": 14,
    "start_time": "2022-04-02T13:08:26.488Z"
   },
   {
    "duration": 5,
    "start_time": "2022-04-02T13:08:26.503Z"
   },
   {
    "duration": 39,
    "start_time": "2022-04-02T13:08:26.509Z"
   },
   {
    "duration": 18,
    "start_time": "2022-04-02T13:08:26.551Z"
   },
   {
    "duration": 16,
    "start_time": "2022-04-02T13:08:26.571Z"
   },
   {
    "duration": 11,
    "start_time": "2022-04-02T13:08:26.588Z"
   },
   {
    "duration": 41,
    "start_time": "2022-04-02T13:08:26.601Z"
   },
   {
    "duration": 5,
    "start_time": "2022-04-02T13:08:28.958Z"
   },
   {
    "duration": 7,
    "start_time": "2022-04-02T13:09:01.712Z"
   },
   {
    "duration": 4,
    "start_time": "2022-04-02T13:09:03.185Z"
   },
   {
    "duration": 6,
    "start_time": "2022-04-02T13:09:51.725Z"
   },
   {
    "duration": 7,
    "start_time": "2022-04-02T13:10:07.775Z"
   },
   {
    "duration": 7,
    "start_time": "2022-04-02T13:10:10.739Z"
   },
   {
    "duration": 4,
    "start_time": "2022-04-02T13:11:41.298Z"
   },
   {
    "duration": 392,
    "start_time": "2022-04-16T13:59:26.449Z"
   },
   {
    "duration": 152,
    "start_time": "2022-04-16T13:59:26.843Z"
   },
   {
    "duration": 17,
    "start_time": "2022-04-16T13:59:26.997Z"
   },
   {
    "duration": 67,
    "start_time": "2022-04-16T13:59:27.016Z"
   },
   {
    "duration": 4,
    "start_time": "2022-04-16T13:59:27.087Z"
   },
   {
    "duration": 35,
    "start_time": "2022-04-16T13:59:27.093Z"
   },
   {
    "duration": 19,
    "start_time": "2022-04-16T13:59:27.130Z"
   },
   {
    "duration": 59,
    "start_time": "2022-04-16T13:59:27.152Z"
   },
   {
    "duration": 30,
    "start_time": "2022-04-16T13:59:27.212Z"
   },
   {
    "duration": 45,
    "start_time": "2022-04-16T13:59:27.244Z"
   },
   {
    "duration": 114,
    "start_time": "2022-04-16T13:59:27.292Z"
   },
   {
    "duration": 120,
    "start_time": "2022-04-16T13:59:27.408Z"
   },
   {
    "duration": 56,
    "start_time": "2022-04-16T13:59:27.530Z"
   },
   {
    "duration": 40,
    "start_time": "2022-04-16T13:59:27.590Z"
   },
   {
    "duration": 14,
    "start_time": "2022-04-16T13:59:27.631Z"
   },
   {
    "duration": 37,
    "start_time": "2022-04-16T13:59:27.646Z"
   },
   {
    "duration": 20,
    "start_time": "2022-04-16T13:59:27.684Z"
   },
   {
    "duration": 38,
    "start_time": "2022-04-16T13:59:27.705Z"
   },
   {
    "duration": 32,
    "start_time": "2022-04-16T13:59:27.745Z"
   },
   {
    "duration": 4,
    "start_time": "2022-04-16T13:59:27.778Z"
   },
   {
    "duration": 40,
    "start_time": "2022-04-16T13:59:27.784Z"
   },
   {
    "duration": 14,
    "start_time": "2022-04-16T13:59:27.826Z"
   },
   {
    "duration": 20,
    "start_time": "2022-04-16T13:59:27.842Z"
   },
   {
    "duration": 14,
    "start_time": "2022-04-16T13:59:27.863Z"
   },
   {
    "duration": 50,
    "start_time": "2022-04-16T13:59:27.879Z"
   },
   {
    "duration": 24,
    "start_time": "2022-04-16T13:59:27.931Z"
   },
   {
    "duration": 7,
    "start_time": "2022-04-16T13:59:27.957Z"
   },
   {
    "duration": 16,
    "start_time": "2022-04-16T13:59:27.966Z"
   },
   {
    "duration": 13,
    "start_time": "2022-04-16T13:59:27.984Z"
   },
   {
    "duration": 25,
    "start_time": "2022-04-16T13:59:27.999Z"
   },
   {
    "duration": 35,
    "start_time": "2022-04-16T13:59:28.025Z"
   },
   {
    "duration": 13,
    "start_time": "2022-04-16T13:59:28.062Z"
   },
   {
    "duration": 16,
    "start_time": "2022-04-16T13:59:28.076Z"
   },
   {
    "duration": 19,
    "start_time": "2022-04-16T13:59:28.093Z"
   },
   {
    "duration": 18,
    "start_time": "2022-04-16T13:59:28.114Z"
   },
   {
    "duration": 14,
    "start_time": "2022-04-16T13:59:28.134Z"
   },
   {
    "duration": 23,
    "start_time": "2022-04-16T13:59:28.150Z"
   },
   {
    "duration": 37,
    "start_time": "2022-04-16T13:59:28.175Z"
   },
   {
    "duration": 10,
    "start_time": "2022-04-16T14:00:20.103Z"
   },
   {
    "duration": 25,
    "start_time": "2022-04-16T14:00:35.731Z"
   },
   {
    "duration": 5,
    "start_time": "2022-04-16T14:06:46.810Z"
   },
   {
    "duration": 5,
    "start_time": "2022-04-16T14:06:55.551Z"
   },
   {
    "duration": 50,
    "start_time": "2022-04-16T14:08:35.671Z"
   },
   {
    "duration": 85,
    "start_time": "2022-04-16T14:10:02.798Z"
   },
   {
    "duration": 10,
    "start_time": "2022-04-16T14:11:08.902Z"
   },
   {
    "duration": 53,
    "start_time": "2022-04-16T14:11:15.458Z"
   },
   {
    "duration": 49,
    "start_time": "2022-04-16T14:13:55.850Z"
   },
   {
    "duration": 79,
    "start_time": "2022-04-16T14:16:07.798Z"
   },
   {
    "duration": 3,
    "start_time": "2022-04-16T14:16:18.352Z"
   },
   {
    "duration": 159,
    "start_time": "2022-04-16T14:16:18.358Z"
   },
   {
    "duration": 10,
    "start_time": "2022-04-16T14:16:18.519Z"
   },
   {
    "duration": 32,
    "start_time": "2022-04-16T14:16:18.531Z"
   },
   {
    "duration": 3,
    "start_time": "2022-04-16T14:16:18.566Z"
   },
   {
    "duration": 11,
    "start_time": "2022-04-16T14:16:18.571Z"
   },
   {
    "duration": 6,
    "start_time": "2022-04-16T14:16:18.583Z"
   },
   {
    "duration": 25,
    "start_time": "2022-04-16T14:16:18.623Z"
   },
   {
    "duration": 19,
    "start_time": "2022-04-16T14:16:18.649Z"
   },
   {
    "duration": 27,
    "start_time": "2022-04-16T14:16:18.669Z"
   },
   {
    "duration": 91,
    "start_time": "2022-04-16T14:16:18.697Z"
   },
   {
    "duration": 92,
    "start_time": "2022-04-16T14:16:18.789Z"
   },
   {
    "duration": 70,
    "start_time": "2022-04-16T14:16:18.884Z"
   },
   {
    "duration": 51,
    "start_time": "2022-04-16T14:16:18.956Z"
   },
   {
    "duration": 16,
    "start_time": "2022-04-16T14:16:19.008Z"
   },
   {
    "duration": 24,
    "start_time": "2022-04-16T14:16:19.026Z"
   },
   {
    "duration": 50,
    "start_time": "2022-04-16T14:16:19.052Z"
   },
   {
    "duration": 51,
    "start_time": "2022-04-16T14:16:19.104Z"
   },
   {
    "duration": 36,
    "start_time": "2022-04-16T14:16:19.157Z"
   },
   {
    "duration": 4,
    "start_time": "2022-04-16T14:16:19.194Z"
   },
   {
    "duration": 18,
    "start_time": "2022-04-16T14:16:19.223Z"
   },
   {
    "duration": 15,
    "start_time": "2022-04-16T14:16:19.243Z"
   },
   {
    "duration": 15,
    "start_time": "2022-04-16T14:16:19.260Z"
   },
   {
    "duration": 47,
    "start_time": "2022-04-16T14:16:19.277Z"
   },
   {
    "duration": 18,
    "start_time": "2022-04-16T14:16:19.325Z"
   },
   {
    "duration": 16,
    "start_time": "2022-04-16T14:16:19.344Z"
   },
   {
    "duration": 9,
    "start_time": "2022-04-16T14:16:19.361Z"
   },
   {
    "duration": 15,
    "start_time": "2022-04-16T14:16:19.371Z"
   },
   {
    "duration": 43,
    "start_time": "2022-04-16T14:16:19.387Z"
   },
   {
    "duration": 3,
    "start_time": "2022-04-16T14:16:19.432Z"
   },
   {
    "duration": 21,
    "start_time": "2022-04-16T14:16:19.437Z"
   },
   {
    "duration": 12,
    "start_time": "2022-04-16T14:16:19.459Z"
   },
   {
    "duration": 55,
    "start_time": "2022-04-16T14:16:19.473Z"
   },
   {
    "duration": 11,
    "start_time": "2022-04-16T14:16:19.530Z"
   },
   {
    "duration": 8,
    "start_time": "2022-04-16T14:16:19.542Z"
   },
   {
    "duration": 5,
    "start_time": "2022-04-16T14:16:19.551Z"
   },
   {
    "duration": 6,
    "start_time": "2022-04-16T14:16:19.560Z"
   },
   {
    "duration": 8,
    "start_time": "2022-04-16T14:16:19.568Z"
   },
   {
    "duration": 12,
    "start_time": "2022-04-16T14:21:31.311Z"
   },
   {
    "duration": 12,
    "start_time": "2022-04-16T14:21:49.331Z"
   },
   {
    "duration": 545,
    "start_time": "2022-04-17T15:20:34.567Z"
   },
   {
    "duration": 202,
    "start_time": "2022-04-17T15:20:35.115Z"
   },
   {
    "duration": 28,
    "start_time": "2022-04-17T15:20:35.319Z"
   },
   {
    "duration": 62,
    "start_time": "2022-04-17T15:20:35.350Z"
   },
   {
    "duration": 6,
    "start_time": "2022-04-17T15:20:35.415Z"
   },
   {
    "duration": 18,
    "start_time": "2022-04-17T15:20:35.423Z"
   },
   {
    "duration": 14,
    "start_time": "2022-04-17T15:20:35.443Z"
   },
   {
    "duration": 56,
    "start_time": "2022-04-17T15:20:35.458Z"
   },
   {
    "duration": 30,
    "start_time": "2022-04-17T15:20:35.516Z"
   },
   {
    "duration": 49,
    "start_time": "2022-04-17T15:20:35.549Z"
   },
   {
    "duration": 114,
    "start_time": "2022-04-17T15:20:35.600Z"
   },
   {
    "duration": 140,
    "start_time": "2022-04-17T15:20:35.716Z"
   },
   {
    "duration": 102,
    "start_time": "2022-04-17T15:20:35.859Z"
   },
   {
    "duration": 183,
    "start_time": "2022-04-17T15:20:35.963Z"
   },
   {
    "duration": 0,
    "start_time": "2022-04-17T15:20:36.149Z"
   },
   {
    "duration": 0,
    "start_time": "2022-04-17T15:20:36.151Z"
   },
   {
    "duration": 0,
    "start_time": "2022-04-17T15:20:36.154Z"
   },
   {
    "duration": 1,
    "start_time": "2022-04-17T15:20:36.156Z"
   },
   {
    "duration": 0,
    "start_time": "2022-04-17T15:20:36.159Z"
   },
   {
    "duration": 0,
    "start_time": "2022-04-17T15:20:36.161Z"
   },
   {
    "duration": 0,
    "start_time": "2022-04-17T15:20:36.183Z"
   },
   {
    "duration": 0,
    "start_time": "2022-04-17T15:20:36.185Z"
   },
   {
    "duration": 0,
    "start_time": "2022-04-17T15:20:36.187Z"
   },
   {
    "duration": 0,
    "start_time": "2022-04-17T15:20:36.189Z"
   },
   {
    "duration": 0,
    "start_time": "2022-04-17T15:20:36.191Z"
   },
   {
    "duration": 0,
    "start_time": "2022-04-17T15:20:36.194Z"
   },
   {
    "duration": 0,
    "start_time": "2022-04-17T15:20:36.196Z"
   },
   {
    "duration": 0,
    "start_time": "2022-04-17T15:20:36.198Z"
   },
   {
    "duration": 0,
    "start_time": "2022-04-17T15:20:36.201Z"
   },
   {
    "duration": 0,
    "start_time": "2022-04-17T15:20:36.203Z"
   },
   {
    "duration": 0,
    "start_time": "2022-04-17T15:20:36.205Z"
   },
   {
    "duration": 0,
    "start_time": "2022-04-17T15:20:36.207Z"
   },
   {
    "duration": 0,
    "start_time": "2022-04-17T15:20:36.209Z"
   },
   {
    "duration": 0,
    "start_time": "2022-04-17T15:20:36.211Z"
   },
   {
    "duration": 0,
    "start_time": "2022-04-17T15:20:36.213Z"
   },
   {
    "duration": 0,
    "start_time": "2022-04-17T15:20:36.215Z"
   },
   {
    "duration": 0,
    "start_time": "2022-04-17T15:20:36.217Z"
   },
   {
    "duration": 0,
    "start_time": "2022-04-17T15:20:36.219Z"
   },
   {
    "duration": 71,
    "start_time": "2022-04-17T15:20:52.335Z"
   },
   {
    "duration": 67,
    "start_time": "2022-04-17T15:22:21.281Z"
   },
   {
    "duration": 71,
    "start_time": "2022-04-17T15:23:16.208Z"
   },
   {
    "duration": 68,
    "start_time": "2022-04-17T15:23:38.767Z"
   },
   {
    "duration": 4,
    "start_time": "2022-04-17T15:23:57.329Z"
   },
   {
    "duration": 216,
    "start_time": "2022-04-17T15:23:57.335Z"
   },
   {
    "duration": 16,
    "start_time": "2022-04-17T15:23:57.553Z"
   },
   {
    "duration": 44,
    "start_time": "2022-04-17T15:23:57.571Z"
   },
   {
    "duration": 6,
    "start_time": "2022-04-17T15:23:57.618Z"
   },
   {
    "duration": 17,
    "start_time": "2022-04-17T15:23:57.626Z"
   },
   {
    "duration": 38,
    "start_time": "2022-04-17T15:23:57.645Z"
   },
   {
    "duration": 34,
    "start_time": "2022-04-17T15:23:57.685Z"
   },
   {
    "duration": 30,
    "start_time": "2022-04-17T15:23:57.722Z"
   },
   {
    "duration": 57,
    "start_time": "2022-04-17T15:23:57.754Z"
   },
   {
    "duration": 115,
    "start_time": "2022-04-17T15:23:57.815Z"
   },
   {
    "duration": 118,
    "start_time": "2022-04-17T15:23:57.932Z"
   },
   {
    "duration": 100,
    "start_time": "2022-04-17T15:23:58.052Z"
   },
   {
    "duration": 79,
    "start_time": "2022-04-17T15:23:58.154Z"
   },
   {
    "duration": 4,
    "start_time": "2022-04-17T15:23:58.235Z"
   },
   {
    "duration": 3,
    "start_time": "2022-04-17T15:24:09.009Z"
   },
   {
    "duration": 221,
    "start_time": "2022-04-17T15:24:09.014Z"
   },
   {
    "duration": 16,
    "start_time": "2022-04-17T15:24:09.237Z"
   },
   {
    "duration": 53,
    "start_time": "2022-04-17T15:24:09.256Z"
   },
   {
    "duration": 5,
    "start_time": "2022-04-17T15:24:09.313Z"
   },
   {
    "duration": 10,
    "start_time": "2022-04-17T15:24:09.320Z"
   },
   {
    "duration": 6,
    "start_time": "2022-04-17T15:24:09.332Z"
   },
   {
    "duration": 70,
    "start_time": "2022-04-17T15:24:09.341Z"
   },
   {
    "duration": 25,
    "start_time": "2022-04-17T15:24:09.414Z"
   },
   {
    "duration": 61,
    "start_time": "2022-04-17T15:24:09.442Z"
   },
   {
    "duration": 111,
    "start_time": "2022-04-17T15:24:09.509Z"
   },
   {
    "duration": 118,
    "start_time": "2022-04-17T15:24:09.623Z"
   },
   {
    "duration": 104,
    "start_time": "2022-04-17T15:24:09.743Z"
   },
   {
    "duration": 79,
    "start_time": "2022-04-17T15:24:09.850Z"
   },
   {
    "duration": 5,
    "start_time": "2022-04-17T15:24:09.932Z"
   },
   {
    "duration": 64,
    "start_time": "2022-04-17T15:24:09.940Z"
   },
   {
    "duration": 81,
    "start_time": "2022-04-17T15:24:10.006Z"
   },
   {
    "duration": 19,
    "start_time": "2022-04-17T15:24:10.090Z"
   },
   {
    "duration": 18,
    "start_time": "2022-04-17T15:24:10.111Z"
   },
   {
    "duration": 6,
    "start_time": "2022-04-17T15:24:10.132Z"
   },
   {
    "duration": 61,
    "start_time": "2022-04-17T15:24:10.140Z"
   },
   {
    "duration": 21,
    "start_time": "2022-04-17T15:24:10.204Z"
   },
   {
    "duration": 53,
    "start_time": "2022-04-17T15:24:10.228Z"
   },
   {
    "duration": 20,
    "start_time": "2022-04-17T15:24:10.284Z"
   },
   {
    "duration": 22,
    "start_time": "2022-04-17T15:24:10.306Z"
   },
   {
    "duration": 53,
    "start_time": "2022-04-17T15:24:10.330Z"
   },
   {
    "duration": 12,
    "start_time": "2022-04-17T15:24:10.385Z"
   },
   {
    "duration": 15,
    "start_time": "2022-04-17T15:24:10.399Z"
   },
   {
    "duration": 12,
    "start_time": "2022-04-17T15:24:10.419Z"
   },
   {
    "duration": 7,
    "start_time": "2022-04-17T15:24:10.433Z"
   },
   {
    "duration": 58,
    "start_time": "2022-04-17T15:24:10.442Z"
   },
   {
    "duration": 15,
    "start_time": "2022-04-17T15:24:10.503Z"
   },
   {
    "duration": 21,
    "start_time": "2022-04-17T15:24:10.520Z"
   },
   {
    "duration": 49,
    "start_time": "2022-04-17T15:24:10.544Z"
   },
   {
    "duration": 13,
    "start_time": "2022-04-17T15:24:10.595Z"
   },
   {
    "duration": 6,
    "start_time": "2022-04-17T15:24:10.610Z"
   },
   {
    "duration": 18,
    "start_time": "2022-04-17T15:24:10.619Z"
   },
   {
    "duration": 19,
    "start_time": "2022-04-17T15:24:10.639Z"
   },
   {
    "duration": 4,
    "start_time": "2022-04-17T15:26:04.953Z"
   },
   {
    "duration": 222,
    "start_time": "2022-04-17T15:26:04.959Z"
   },
   {
    "duration": 16,
    "start_time": "2022-04-17T15:26:05.183Z"
   },
   {
    "duration": 43,
    "start_time": "2022-04-17T15:26:05.201Z"
   },
   {
    "duration": 6,
    "start_time": "2022-04-17T15:26:05.247Z"
   },
   {
    "duration": 9,
    "start_time": "2022-04-17T15:26:05.282Z"
   },
   {
    "duration": 9,
    "start_time": "2022-04-17T15:26:05.293Z"
   },
   {
    "duration": 44,
    "start_time": "2022-04-17T15:26:05.304Z"
   },
   {
    "duration": 45,
    "start_time": "2022-04-17T15:26:05.351Z"
   },
   {
    "duration": 33,
    "start_time": "2022-04-17T15:26:05.399Z"
   },
   {
    "duration": 121,
    "start_time": "2022-04-17T15:26:05.436Z"
   },
   {
    "duration": 115,
    "start_time": "2022-04-17T15:26:05.559Z"
   },
   {
    "duration": 93,
    "start_time": "2022-04-17T15:26:05.676Z"
   },
   {
    "duration": 79,
    "start_time": "2022-04-17T15:26:05.771Z"
   },
   {
    "duration": 3,
    "start_time": "2022-04-17T15:26:05.853Z"
   },
   {
    "duration": 55,
    "start_time": "2022-04-17T15:26:05.858Z"
   },
   {
    "duration": 86,
    "start_time": "2022-04-17T15:26:05.916Z"
   },
   {
    "duration": 18,
    "start_time": "2022-04-17T15:26:06.004Z"
   },
   {
    "duration": 16,
    "start_time": "2022-04-17T15:26:06.024Z"
   },
   {
    "duration": 5,
    "start_time": "2022-04-17T15:26:06.042Z"
   },
   {
    "duration": 52,
    "start_time": "2022-04-17T15:26:06.049Z"
   },
   {
    "duration": 20,
    "start_time": "2022-04-17T15:26:06.103Z"
   },
   {
    "duration": 20,
    "start_time": "2022-04-17T15:26:06.125Z"
   },
   {
    "duration": 49,
    "start_time": "2022-04-17T15:26:06.147Z"
   },
   {
    "duration": 26,
    "start_time": "2022-04-17T15:26:06.198Z"
   },
   {
    "duration": 21,
    "start_time": "2022-04-17T15:26:06.226Z"
   },
   {
    "duration": 14,
    "start_time": "2022-04-17T15:26:06.281Z"
   },
   {
    "duration": 22,
    "start_time": "2022-04-17T15:26:06.297Z"
   },
   {
    "duration": 15,
    "start_time": "2022-04-17T15:26:06.324Z"
   },
   {
    "duration": 8,
    "start_time": "2022-04-17T15:26:06.341Z"
   },
   {
    "duration": 26,
    "start_time": "2022-04-17T15:26:06.381Z"
   },
   {
    "duration": 16,
    "start_time": "2022-04-17T15:26:06.409Z"
   },
   {
    "duration": 21,
    "start_time": "2022-04-17T15:26:06.427Z"
   },
   {
    "duration": 46,
    "start_time": "2022-04-17T15:26:06.450Z"
   },
   {
    "duration": 12,
    "start_time": "2022-04-17T15:26:06.498Z"
   },
   {
    "duration": 6,
    "start_time": "2022-04-17T15:26:06.512Z"
   },
   {
    "duration": 9,
    "start_time": "2022-04-17T15:26:06.520Z"
   },
   {
    "duration": 7,
    "start_time": "2022-04-17T15:26:06.531Z"
   }
  ],
  "colab": {
   "collapsed_sections": [
    "E0vqbgi9ay0H",
    "VUC88oWjTJw2"
   ],
   "name": "yandex_music_project.ipynb",
   "provenance": []
  },
  "kernelspec": {
   "display_name": "Python 3 (ipykernel)",
   "language": "python",
   "name": "python3"
  },
  "language_info": {
   "codemirror_mode": {
    "name": "ipython",
    "version": 3
   },
   "file_extension": ".py",
   "mimetype": "text/x-python",
   "name": "python",
   "nbconvert_exporter": "python",
   "pygments_lexer": "ipython3",
   "version": "3.9.7"
  },
  "toc": {
   "base_numbering": 1,
   "nav_menu": {},
   "number_sections": true,
   "sideBar": true,
   "skip_h1_title": true,
   "title_cell": "Table of Contents",
   "title_sidebar": "Contents",
   "toc_cell": false,
   "toc_position": {
    "height": "calc(100% - 180px)",
    "left": "10px",
    "top": "150px",
    "width": "165px"
   },
   "toc_section_display": true,
   "toc_window_display": false
  }
 },
 "nbformat": 4,
 "nbformat_minor": 4
}
