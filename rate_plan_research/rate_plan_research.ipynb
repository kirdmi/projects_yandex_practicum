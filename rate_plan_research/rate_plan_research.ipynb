{
 "cells": [
  {
   "cell_type": "markdown",
   "metadata": {},
   "source": [
    "## 1. Анализ тарифов\n",
    "___\n",
    "## 1. Analysis of tariffs"
   ]
  },
  {
   "cell_type": "markdown",
   "metadata": {},
   "source": [
    "- Необходимо совершить предварительный анализ различных тарифов на выборке клиентов.\n",
    "- Доступны данные 500 пользователей за 2018 год.\n",
    "- Нужно, проанализировав поведение клиентов, сделать вывод - какой тариф лучше.\n",
    "___\n",
    "- It is necessary to make a preliminary analysis of various tariffs on a sample of customers.\n",
    "- Data of 500 users for 2018 is available.\n",
    "- After analyzing the behavior of customers, it is necessary to draw a conclusion - which tariff is better."
   ]
  },
  {
   "cell_type": "markdown",
   "metadata": {},
   "source": [
    "**Основные гипотезы**\n",
    "___\n",
    "**Main hypotheses**"
   ]
  },
  {
   "cell_type": "markdown",
   "metadata": {},
   "source": [
    "- средняя выручка пользователей тарифов «Ультра» и «Смарт» различаются;\n",
    "- средняя выручка пользователей из Москвы отличается от выручки пользователей из других регионов.\n"
   ]
  },
  {
   "cell_type": "markdown",
   "metadata": {},
   "source": [
    "alpha = .05 по умолчанию"
   ]
  },
  {
   "cell_type": "markdown",
   "metadata": {},
   "source": [
    "## 2. Исследование данных"
   ]
  },
  {
   "cell_type": "code",
   "execution_count": 1,
   "metadata": {},
   "outputs": [],
   "source": [
    "import pandas as pd\n",
    "import matplotlib.pyplot as plt\n",
    "import numpy as np\n",
    "from scipy import stats as st"
   ]
  },
  {
   "cell_type": "code",
   "execution_count": 2,
   "metadata": {},
   "outputs": [],
   "source": [
    "pd.options.display.float_format = '{:,.2f}'.format"
   ]
  },
  {
   "cell_type": "code",
   "execution_count": 3,
   "metadata": {},
   "outputs": [],
   "source": [
    "df_users = pd.read_csv('users.csv', sep=\",\")\n",
    "df_tariffs = pd.read_csv('tariffs.csv', sep=\",\")\n",
    "df_messages = pd.read_csv('messages.csv', sep=\",\")\n",
    "df_internet = pd.read_csv('internet.csv', sep=\",\", index_col=0)\n",
    "df_calls = pd.read_csv('calls.csv', sep=\",\")"
   ]
  },
  {
   "cell_type": "code",
   "execution_count": 4,
   "metadata": {},
   "outputs": [
    {
     "data": {
      "text/html": [
       "<div>\n",
       "<style scoped>\n",
       "    .dataframe tbody tr th:only-of-type {\n",
       "        vertical-align: middle;\n",
       "    }\n",
       "\n",
       "    .dataframe tbody tr th {\n",
       "        vertical-align: top;\n",
       "    }\n",
       "\n",
       "    .dataframe thead th {\n",
       "        text-align: right;\n",
       "    }\n",
       "</style>\n",
       "<table border=\"1\" class=\"dataframe\">\n",
       "  <thead>\n",
       "    <tr style=\"text-align: right;\">\n",
       "      <th></th>\n",
       "      <th>user_id</th>\n",
       "      <th>age</th>\n",
       "      <th>churn_date</th>\n",
       "      <th>city</th>\n",
       "      <th>first_name</th>\n",
       "      <th>last_name</th>\n",
       "      <th>reg_date</th>\n",
       "      <th>tariff</th>\n",
       "    </tr>\n",
       "  </thead>\n",
       "  <tbody>\n",
       "    <tr>\n",
       "      <th>0</th>\n",
       "      <td>1000</td>\n",
       "      <td>52</td>\n",
       "      <td>NaN</td>\n",
       "      <td>Краснодар</td>\n",
       "      <td>Рафаил</td>\n",
       "      <td>Верещагин</td>\n",
       "      <td>2018-05-25</td>\n",
       "      <td>ultra</td>\n",
       "    </tr>\n",
       "    <tr>\n",
       "      <th>1</th>\n",
       "      <td>1001</td>\n",
       "      <td>41</td>\n",
       "      <td>NaN</td>\n",
       "      <td>Москва</td>\n",
       "      <td>Иван</td>\n",
       "      <td>Ежов</td>\n",
       "      <td>2018-11-01</td>\n",
       "      <td>smart</td>\n",
       "    </tr>\n",
       "    <tr>\n",
       "      <th>2</th>\n",
       "      <td>1002</td>\n",
       "      <td>59</td>\n",
       "      <td>NaN</td>\n",
       "      <td>Стерлитамак</td>\n",
       "      <td>Евгений</td>\n",
       "      <td>Абрамович</td>\n",
       "      <td>2018-06-17</td>\n",
       "      <td>smart</td>\n",
       "    </tr>\n",
       "    <tr>\n",
       "      <th>3</th>\n",
       "      <td>1003</td>\n",
       "      <td>23</td>\n",
       "      <td>NaN</td>\n",
       "      <td>Москва</td>\n",
       "      <td>Белла</td>\n",
       "      <td>Белякова</td>\n",
       "      <td>2018-08-17</td>\n",
       "      <td>ultra</td>\n",
       "    </tr>\n",
       "    <tr>\n",
       "      <th>4</th>\n",
       "      <td>1004</td>\n",
       "      <td>68</td>\n",
       "      <td>NaN</td>\n",
       "      <td>Новокузнецк</td>\n",
       "      <td>Татьяна</td>\n",
       "      <td>Авдеенко</td>\n",
       "      <td>2018-05-14</td>\n",
       "      <td>ultra</td>\n",
       "    </tr>\n",
       "  </tbody>\n",
       "</table>\n",
       "</div>"
      ],
      "text/plain": [
       "   user_id  age churn_date         city first_name  last_name    reg_date  \\\n",
       "0     1000   52        NaN    Краснодар     Рафаил  Верещагин  2018-05-25   \n",
       "1     1001   41        NaN       Москва       Иван       Ежов  2018-11-01   \n",
       "2     1002   59        NaN  Стерлитамак    Евгений  Абрамович  2018-06-17   \n",
       "3     1003   23        NaN       Москва      Белла   Белякова  2018-08-17   \n",
       "4     1004   68        NaN  Новокузнецк    Татьяна   Авдеенко  2018-05-14   \n",
       "\n",
       "  tariff  \n",
       "0  ultra  \n",
       "1  smart  \n",
       "2  smart  \n",
       "3  ultra  \n",
       "4  ultra  "
      ]
     },
     "metadata": {},
     "output_type": "display_data"
    },
    {
     "name": "stdout",
     "output_type": "stream",
     "text": [
      "<class 'pandas.core.frame.DataFrame'>\n",
      "RangeIndex: 500 entries, 0 to 499\n",
      "Data columns (total 8 columns):\n",
      " #   Column      Non-Null Count  Dtype \n",
      "---  ------      --------------  ----- \n",
      " 0   user_id     500 non-null    int64 \n",
      " 1   age         500 non-null    int64 \n",
      " 2   churn_date  38 non-null     object\n",
      " 3   city        500 non-null    object\n",
      " 4   first_name  500 non-null    object\n",
      " 5   last_name   500 non-null    object\n",
      " 6   reg_date    500 non-null    object\n",
      " 7   tariff      500 non-null    object\n",
      "dtypes: int64(2), object(6)\n",
      "memory usage: 31.4+ KB\n"
     ]
    }
   ],
   "source": [
    "display(df_users.head(5))\n",
    "df_users.info()"
   ]
  },
  {
   "cell_type": "code",
   "execution_count": 5,
   "metadata": {
    "scrolled": true
   },
   "outputs": [
    {
     "data": {
      "text/plain": [
       "0.0"
      ]
     },
     "execution_count": 5,
     "metadata": {},
     "output_type": "execute_result"
    }
   ],
   "source": [
    "df_users.duplicated().mean()"
   ]
  },
  {
   "cell_type": "code",
   "execution_count": 6,
   "metadata": {
    "scrolled": true
   },
   "outputs": [
    {
     "name": "stdout",
     "output_type": "stream",
     "text": [
      "Процентное содержание пропусков: user_id       0.00\n",
      "age           0.00\n",
      "churn_date   92.40\n",
      "city          0.00\n",
      "first_name    0.00\n",
      "last_name     0.00\n",
      "reg_date      0.00\n",
      "tariff        0.00\n",
      "dtype: float64\n"
     ]
    }
   ],
   "source": [
    "print(\"Процентное содержание пропусков:\", df_users.isnull().mean()*100)"
   ]
  },
  {
   "cell_type": "code",
   "execution_count": 7,
   "metadata": {},
   "outputs": [],
   "source": [
    "df_users['churn_date'] = df_users['churn_date'].fillna('2018-12-31')"
   ]
  },
  {
   "cell_type": "code",
   "execution_count": 8,
   "metadata": {},
   "outputs": [
    {
     "data": {
      "text/plain": [
       "500"
      ]
     },
     "execution_count": 8,
     "metadata": {},
     "output_type": "execute_result"
    }
   ],
   "source": [
    "df_users['user_id'].nunique()"
   ]
  },
  {
   "cell_type": "code",
   "execution_count": 9,
   "metadata": {
    "scrolled": true
   },
   "outputs": [
    {
     "data": {
      "text/html": [
       "<div>\n",
       "<style scoped>\n",
       "    .dataframe tbody tr th:only-of-type {\n",
       "        vertical-align: middle;\n",
       "    }\n",
       "\n",
       "    .dataframe tbody tr th {\n",
       "        vertical-align: top;\n",
       "    }\n",
       "\n",
       "    .dataframe thead th {\n",
       "        text-align: right;\n",
       "    }\n",
       "</style>\n",
       "<table border=\"1\" class=\"dataframe\">\n",
       "  <thead>\n",
       "    <tr style=\"text-align: right;\">\n",
       "      <th></th>\n",
       "      <th>messages_included</th>\n",
       "      <th>mb_per_month_included</th>\n",
       "      <th>minutes_included</th>\n",
       "      <th>rub_monthly_fee</th>\n",
       "      <th>rub_per_gb</th>\n",
       "      <th>rub_per_message</th>\n",
       "      <th>rub_per_minute</th>\n",
       "      <th>tariff_name</th>\n",
       "    </tr>\n",
       "  </thead>\n",
       "  <tbody>\n",
       "    <tr>\n",
       "      <th>0</th>\n",
       "      <td>50</td>\n",
       "      <td>15360</td>\n",
       "      <td>500</td>\n",
       "      <td>550</td>\n",
       "      <td>200</td>\n",
       "      <td>3</td>\n",
       "      <td>3</td>\n",
       "      <td>smart</td>\n",
       "    </tr>\n",
       "    <tr>\n",
       "      <th>1</th>\n",
       "      <td>1000</td>\n",
       "      <td>30720</td>\n",
       "      <td>3000</td>\n",
       "      <td>1950</td>\n",
       "      <td>150</td>\n",
       "      <td>1</td>\n",
       "      <td>1</td>\n",
       "      <td>ultra</td>\n",
       "    </tr>\n",
       "  </tbody>\n",
       "</table>\n",
       "</div>"
      ],
      "text/plain": [
       "   messages_included  mb_per_month_included  minutes_included  \\\n",
       "0                 50                  15360               500   \n",
       "1               1000                  30720              3000   \n",
       "\n",
       "   rub_monthly_fee  rub_per_gb  rub_per_message  rub_per_minute tariff_name  \n",
       "0              550         200                3               3       smart  \n",
       "1             1950         150                1               1       ultra  "
      ]
     },
     "metadata": {},
     "output_type": "display_data"
    },
    {
     "name": "stdout",
     "output_type": "stream",
     "text": [
      "<class 'pandas.core.frame.DataFrame'>\n",
      "RangeIndex: 2 entries, 0 to 1\n",
      "Data columns (total 8 columns):\n",
      " #   Column                 Non-Null Count  Dtype \n",
      "---  ------                 --------------  ----- \n",
      " 0   messages_included      2 non-null      int64 \n",
      " 1   mb_per_month_included  2 non-null      int64 \n",
      " 2   minutes_included       2 non-null      int64 \n",
      " 3   rub_monthly_fee        2 non-null      int64 \n",
      " 4   rub_per_gb             2 non-null      int64 \n",
      " 5   rub_per_message        2 non-null      int64 \n",
      " 6   rub_per_minute         2 non-null      int64 \n",
      " 7   tariff_name            2 non-null      object\n",
      "dtypes: int64(7), object(1)\n",
      "memory usage: 256.0+ bytes\n"
     ]
    }
   ],
   "source": [
    "display(df_tariffs.head(5))\n",
    "df_tariffs.info()"
   ]
  },
  {
   "cell_type": "code",
   "execution_count": 10,
   "metadata": {},
   "outputs": [
    {
     "data": {
      "text/plain": [
       "0"
      ]
     },
     "execution_count": 10,
     "metadata": {},
     "output_type": "execute_result"
    }
   ],
   "source": [
    "df_tariffs.duplicated().sum()"
   ]
  },
  {
   "cell_type": "code",
   "execution_count": 11,
   "metadata": {
    "scrolled": true
   },
   "outputs": [
    {
     "data": {
      "text/html": [
       "<div>\n",
       "<style scoped>\n",
       "    .dataframe tbody tr th:only-of-type {\n",
       "        vertical-align: middle;\n",
       "    }\n",
       "\n",
       "    .dataframe tbody tr th {\n",
       "        vertical-align: top;\n",
       "    }\n",
       "\n",
       "    .dataframe thead th {\n",
       "        text-align: right;\n",
       "    }\n",
       "</style>\n",
       "<table border=\"1\" class=\"dataframe\">\n",
       "  <thead>\n",
       "    <tr style=\"text-align: right;\">\n",
       "      <th></th>\n",
       "      <th>id</th>\n",
       "      <th>message_date</th>\n",
       "      <th>user_id</th>\n",
       "    </tr>\n",
       "  </thead>\n",
       "  <tbody>\n",
       "    <tr>\n",
       "      <th>0</th>\n",
       "      <td>1000_0</td>\n",
       "      <td>2018-06-27</td>\n",
       "      <td>1000</td>\n",
       "    </tr>\n",
       "    <tr>\n",
       "      <th>1</th>\n",
       "      <td>1000_1</td>\n",
       "      <td>2018-10-08</td>\n",
       "      <td>1000</td>\n",
       "    </tr>\n",
       "    <tr>\n",
       "      <th>2</th>\n",
       "      <td>1000_2</td>\n",
       "      <td>2018-08-04</td>\n",
       "      <td>1000</td>\n",
       "    </tr>\n",
       "    <tr>\n",
       "      <th>3</th>\n",
       "      <td>1000_3</td>\n",
       "      <td>2018-06-16</td>\n",
       "      <td>1000</td>\n",
       "    </tr>\n",
       "    <tr>\n",
       "      <th>4</th>\n",
       "      <td>1000_4</td>\n",
       "      <td>2018-12-05</td>\n",
       "      <td>1000</td>\n",
       "    </tr>\n",
       "  </tbody>\n",
       "</table>\n",
       "</div>"
      ],
      "text/plain": [
       "       id message_date  user_id\n",
       "0  1000_0   2018-06-27     1000\n",
       "1  1000_1   2018-10-08     1000\n",
       "2  1000_2   2018-08-04     1000\n",
       "3  1000_3   2018-06-16     1000\n",
       "4  1000_4   2018-12-05     1000"
      ]
     },
     "metadata": {},
     "output_type": "display_data"
    },
    {
     "name": "stdout",
     "output_type": "stream",
     "text": [
      "<class 'pandas.core.frame.DataFrame'>\n",
      "RangeIndex: 123036 entries, 0 to 123035\n",
      "Data columns (total 3 columns):\n",
      " #   Column        Non-Null Count   Dtype \n",
      "---  ------        --------------   ----- \n",
      " 0   id            123036 non-null  object\n",
      " 1   message_date  123036 non-null  object\n",
      " 2   user_id       123036 non-null  int64 \n",
      "dtypes: int64(1), object(2)\n",
      "memory usage: 2.8+ MB\n"
     ]
    }
   ],
   "source": [
    "display(df_messages.head(5))\n",
    "df_messages.info()"
   ]
  },
  {
   "cell_type": "code",
   "execution_count": 12,
   "metadata": {
    "scrolled": true
   },
   "outputs": [
    {
     "data": {
      "text/plain": [
       "0.0"
      ]
     },
     "execution_count": 12,
     "metadata": {},
     "output_type": "execute_result"
    }
   ],
   "source": [
    "df_messages.duplicated().mean()"
   ]
  },
  {
   "cell_type": "code",
   "execution_count": 13,
   "metadata": {
    "scrolled": true
   },
   "outputs": [
    {
     "data": {
      "text/plain": [
       "426"
      ]
     },
     "execution_count": 13,
     "metadata": {},
     "output_type": "execute_result"
    }
   ],
   "source": [
    "df_messages['user_id'].nunique()"
   ]
  },
  {
   "cell_type": "code",
   "execution_count": 14,
   "metadata": {},
   "outputs": [
    {
     "name": "stdout",
     "output_type": "stream",
     "text": [
      "Процентное содержание пропусков: id             0.00\n",
      "message_date   0.00\n",
      "user_id        0.00\n",
      "dtype: float64\n"
     ]
    }
   ],
   "source": [
    "print(\"Процентное содержание пропусков:\", df_messages.isnull().mean()*100)"
   ]
  },
  {
   "cell_type": "code",
   "execution_count": 15,
   "metadata": {
    "scrolled": true
   },
   "outputs": [
    {
     "data": {
      "text/html": [
       "<div>\n",
       "<style scoped>\n",
       "    .dataframe tbody tr th:only-of-type {\n",
       "        vertical-align: middle;\n",
       "    }\n",
       "\n",
       "    .dataframe tbody tr th {\n",
       "        vertical-align: top;\n",
       "    }\n",
       "\n",
       "    .dataframe thead th {\n",
       "        text-align: right;\n",
       "    }\n",
       "</style>\n",
       "<table border=\"1\" class=\"dataframe\">\n",
       "  <thead>\n",
       "    <tr style=\"text-align: right;\">\n",
       "      <th></th>\n",
       "      <th>id</th>\n",
       "      <th>mb_used</th>\n",
       "      <th>session_date</th>\n",
       "      <th>user_id</th>\n",
       "    </tr>\n",
       "  </thead>\n",
       "  <tbody>\n",
       "    <tr>\n",
       "      <th>0</th>\n",
       "      <td>1000_0</td>\n",
       "      <td>112.95</td>\n",
       "      <td>2018-11-25</td>\n",
       "      <td>1000</td>\n",
       "    </tr>\n",
       "    <tr>\n",
       "      <th>1</th>\n",
       "      <td>1000_1</td>\n",
       "      <td>1,052.81</td>\n",
       "      <td>2018-09-07</td>\n",
       "      <td>1000</td>\n",
       "    </tr>\n",
       "    <tr>\n",
       "      <th>2</th>\n",
       "      <td>1000_2</td>\n",
       "      <td>1,197.26</td>\n",
       "      <td>2018-06-25</td>\n",
       "      <td>1000</td>\n",
       "    </tr>\n",
       "    <tr>\n",
       "      <th>3</th>\n",
       "      <td>1000_3</td>\n",
       "      <td>550.27</td>\n",
       "      <td>2018-08-22</td>\n",
       "      <td>1000</td>\n",
       "    </tr>\n",
       "    <tr>\n",
       "      <th>4</th>\n",
       "      <td>1000_4</td>\n",
       "      <td>302.56</td>\n",
       "      <td>2018-09-24</td>\n",
       "      <td>1000</td>\n",
       "    </tr>\n",
       "  </tbody>\n",
       "</table>\n",
       "</div>"
      ],
      "text/plain": [
       "       id  mb_used session_date  user_id\n",
       "0  1000_0   112.95   2018-11-25     1000\n",
       "1  1000_1 1,052.81   2018-09-07     1000\n",
       "2  1000_2 1,197.26   2018-06-25     1000\n",
       "3  1000_3   550.27   2018-08-22     1000\n",
       "4  1000_4   302.56   2018-09-24     1000"
      ]
     },
     "metadata": {},
     "output_type": "display_data"
    },
    {
     "name": "stdout",
     "output_type": "stream",
     "text": [
      "<class 'pandas.core.frame.DataFrame'>\n",
      "Int64Index: 149396 entries, 0 to 149395\n",
      "Data columns (total 4 columns):\n",
      " #   Column        Non-Null Count   Dtype  \n",
      "---  ------        --------------   -----  \n",
      " 0   id            149396 non-null  object \n",
      " 1   mb_used       149396 non-null  float64\n",
      " 2   session_date  149396 non-null  object \n",
      " 3   user_id       149396 non-null  int64  \n",
      "dtypes: float64(1), int64(1), object(2)\n",
      "memory usage: 5.7+ MB\n"
     ]
    }
   ],
   "source": [
    "display(df_internet.head(5))\n",
    "df_internet.info()"
   ]
  },
  {
   "cell_type": "code",
   "execution_count": 16,
   "metadata": {
    "scrolled": true
   },
   "outputs": [
    {
     "data": {
      "text/plain": [
       "0.0"
      ]
     },
     "execution_count": 16,
     "metadata": {},
     "output_type": "execute_result"
    }
   ],
   "source": [
    "df_internet.duplicated().mean()"
   ]
  },
  {
   "cell_type": "code",
   "execution_count": 17,
   "metadata": {
    "scrolled": true
   },
   "outputs": [
    {
     "data": {
      "text/plain": [
       "497"
      ]
     },
     "execution_count": 17,
     "metadata": {},
     "output_type": "execute_result"
    }
   ],
   "source": [
    "df_internet['user_id'].nunique()"
   ]
  },
  {
   "cell_type": "code",
   "execution_count": 18,
   "metadata": {},
   "outputs": [
    {
     "name": "stdout",
     "output_type": "stream",
     "text": [
      "Процентное содержание пропусков: id             0.00\n",
      "mb_used        0.00\n",
      "session_date   0.00\n",
      "user_id        0.00\n",
      "dtype: float64\n"
     ]
    }
   ],
   "source": [
    "print(\"Процентное содержание пропусков:\",df_internet.isnull().mean()*100)"
   ]
  },
  {
   "cell_type": "code",
   "execution_count": 19,
   "metadata": {},
   "outputs": [
    {
     "data": {
      "text/plain": [
       "array([[<AxesSubplot:title={'center':'mb_used'}>,\n",
       "        <AxesSubplot:title={'center':'user_id'}>]], dtype=object)"
      ]
     },
     "execution_count": 19,
     "metadata": {},
     "output_type": "execute_result"
    },
    {
     "data": {
      "image/png": "[encoded data removed]",
      "text/plain": [
       "<Figure size 432x288 with 2 Axes>"
      ]
     },
     "metadata": {
      "needs_background": "light"
     },
     "output_type": "display_data"
    }
   ],
   "source": [
    "df_internet.hist()"
   ]
  },
  {
   "cell_type": "code",
   "execution_count": 20,
   "metadata": {
    "scrolled": true
   },
   "outputs": [
    {
     "data": {
      "text/plain": [
       "<AxesSubplot:>"
      ]
     },
     "execution_count": 20,
     "metadata": {},
     "output_type": "execute_result"
    },
    {
     "data": {
      "image/png": "[encoded data removed]",
      "text/plain": [
       "<Figure size 432x288 with 1 Axes>"
      ]
     },
     "metadata": {
      "needs_background": "light"
     },
     "output_type": "display_data"
    }
   ],
   "source": [
    "df_internet['mb_used'].hist(bins = 100)"
   ]
  },
  {
   "cell_type": "code",
   "execution_count": 21,
   "metadata": {},
   "outputs": [
    {
     "data": {
      "text/plain": [
       "<AxesSubplot:>"
      ]
     },
     "execution_count": 21,
     "metadata": {},
     "output_type": "execute_result"
    },
    {
     "data": {
      "image/png": "[encoded data removed]",
      "text/plain": [
       "<Figure size 432x288 with 1 Axes>"
      ]
     },
     "metadata": {
      "needs_background": "light"
     },
     "output_type": "display_data"
    }
   ],
   "source": [
    "df_internet.boxplot() "
   ]
  },
  {
   "cell_type": "code",
   "execution_count": 22,
   "metadata": {},
   "outputs": [
    {
     "data": {
      "text/plain": [
       "id              19598\n",
       "mb_used         19598\n",
       "session_date    19598\n",
       "user_id         19598\n",
       "dtype: int64"
      ]
     },
     "execution_count": 22,
     "metadata": {},
     "output_type": "execute_result"
    }
   ],
   "source": [
    "df_internet[df_internet['mb_used'] == 0].count()"
   ]
  },
  {
   "cell_type": "markdown",
   "metadata": {},
   "source": [
    "Необходимо избавиться от мешающих нормальным подсчетам аномалий.\n",
    "___\n",
    "It is necessary to get rid of anomalies interfering with normal calculations."
   ]
  },
  {
   "cell_type": "code",
   "execution_count": 23,
   "metadata": {},
   "outputs": [],
   "source": [
    "df_internet = df_internet.drop(np.where(df_internet['mb_used'] == 0)[0])"
   ]
  },
  {
   "cell_type": "code",
   "execution_count": 24,
   "metadata": {},
   "outputs": [
    {
     "data": {
      "text/plain": [
       "id              0\n",
       "mb_used         0\n",
       "session_date    0\n",
       "user_id         0\n",
       "dtype: int64"
      ]
     },
     "execution_count": 24,
     "metadata": {},
     "output_type": "execute_result"
    }
   ],
   "source": [
    "df_internet[df_internet['mb_used'] == 0].count()"
   ]
  },
  {
   "cell_type": "code",
   "execution_count": 25,
   "metadata": {
    "scrolled": true
   },
   "outputs": [
    {
     "data": {
      "text/plain": [
       "<AxesSubplot:>"
      ]
     },
     "execution_count": 25,
     "metadata": {},
     "output_type": "execute_result"
    },
    {
     "data": {
      "image/png": "[encoded data removed]",
      "text/plain": [
       "<Figure size 432x288 with 1 Axes>"
      ]
     },
     "metadata": {
      "needs_background": "light"
     },
     "output_type": "display_data"
    }
   ],
   "source": [
    "df_internet['mb_used'].hist(bins = 100)"
   ]
  },
  {
   "cell_type": "code",
   "execution_count": 26,
   "metadata": {
    "scrolled": true
   },
   "outputs": [
    {
     "data": {
      "text/plain": [
       "<AxesSubplot:>"
      ]
     },
     "execution_count": 26,
     "metadata": {},
     "output_type": "execute_result"
    },
    {
     "data": {
      "image/png": "[encoded data removed]",
      "text/plain": [
       "<Figure size 432x288 with 1 Axes>"
      ]
     },
     "metadata": {
      "needs_background": "light"
     },
     "output_type": "display_data"
    }
   ],
   "source": [
    "df_internet.boxplot() "
   ]
  },
  {
   "cell_type": "markdown",
   "metadata": {},
   "source": [
    "Аномалии убраны, данные похожи на правдоподобные.\n",
    "___\n",
    "Anomalies are removed, the data is similar to believable."
   ]
  },
  {
   "cell_type": "code",
   "execution_count": 27,
   "metadata": {
    "scrolled": true
   },
   "outputs": [
    {
     "data": {
      "text/html": [
       "<div>\n",
       "<style scoped>\n",
       "    .dataframe tbody tr th:only-of-type {\n",
       "        vertical-align: middle;\n",
       "    }\n",
       "\n",
       "    .dataframe tbody tr th {\n",
       "        vertical-align: top;\n",
       "    }\n",
       "\n",
       "    .dataframe thead th {\n",
       "        text-align: right;\n",
       "    }\n",
       "</style>\n",
       "<table border=\"1\" class=\"dataframe\">\n",
       "  <thead>\n",
       "    <tr style=\"text-align: right;\">\n",
       "      <th></th>\n",
       "      <th>id</th>\n",
       "      <th>call_date</th>\n",
       "      <th>duration</th>\n",
       "      <th>user_id</th>\n",
       "    </tr>\n",
       "  </thead>\n",
       "  <tbody>\n",
       "    <tr>\n",
       "      <th>0</th>\n",
       "      <td>1000_0</td>\n",
       "      <td>2018-07-25</td>\n",
       "      <td>0.00</td>\n",
       "      <td>1000</td>\n",
       "    </tr>\n",
       "    <tr>\n",
       "      <th>1</th>\n",
       "      <td>1000_1</td>\n",
       "      <td>2018-08-17</td>\n",
       "      <td>0.00</td>\n",
       "      <td>1000</td>\n",
       "    </tr>\n",
       "    <tr>\n",
       "      <th>2</th>\n",
       "      <td>1000_2</td>\n",
       "      <td>2018-06-11</td>\n",
       "      <td>2.85</td>\n",
       "      <td>1000</td>\n",
       "    </tr>\n",
       "    <tr>\n",
       "      <th>3</th>\n",
       "      <td>1000_3</td>\n",
       "      <td>2018-09-21</td>\n",
       "      <td>13.80</td>\n",
       "      <td>1000</td>\n",
       "    </tr>\n",
       "    <tr>\n",
       "      <th>4</th>\n",
       "      <td>1000_4</td>\n",
       "      <td>2018-12-15</td>\n",
       "      <td>5.18</td>\n",
       "      <td>1000</td>\n",
       "    </tr>\n",
       "  </tbody>\n",
       "</table>\n",
       "</div>"
      ],
      "text/plain": [
       "       id   call_date  duration  user_id\n",
       "0  1000_0  2018-07-25      0.00     1000\n",
       "1  1000_1  2018-08-17      0.00     1000\n",
       "2  1000_2  2018-06-11      2.85     1000\n",
       "3  1000_3  2018-09-21     13.80     1000\n",
       "4  1000_4  2018-12-15      5.18     1000"
      ]
     },
     "metadata": {},
     "output_type": "display_data"
    },
    {
     "name": "stdout",
     "output_type": "stream",
     "text": [
      "<class 'pandas.core.frame.DataFrame'>\n",
      "RangeIndex: 202607 entries, 0 to 202606\n",
      "Data columns (total 4 columns):\n",
      " #   Column     Non-Null Count   Dtype  \n",
      "---  ------     --------------   -----  \n",
      " 0   id         202607 non-null  object \n",
      " 1   call_date  202607 non-null  object \n",
      " 2   duration   202607 non-null  float64\n",
      " 3   user_id    202607 non-null  int64  \n",
      "dtypes: float64(1), int64(1), object(2)\n",
      "memory usage: 6.2+ MB\n"
     ]
    }
   ],
   "source": [
    "display(df_calls.head(5))\n",
    "df_calls.info()"
   ]
  },
  {
   "cell_type": "code",
   "execution_count": 28,
   "metadata": {},
   "outputs": [
    {
     "data": {
      "text/plain": [
       "0.0"
      ]
     },
     "execution_count": 28,
     "metadata": {},
     "output_type": "execute_result"
    }
   ],
   "source": [
    "df_calls.duplicated().mean()"
   ]
  },
  {
   "cell_type": "code",
   "execution_count": 29,
   "metadata": {
    "scrolled": true
   },
   "outputs": [
    {
     "data": {
      "text/plain": [
       "492"
      ]
     },
     "execution_count": 29,
     "metadata": {},
     "output_type": "execute_result"
    }
   ],
   "source": [
    "df_calls['user_id'].nunique()"
   ]
  },
  {
   "cell_type": "code",
   "execution_count": 30,
   "metadata": {
    "scrolled": true
   },
   "outputs": [
    {
     "name": "stdout",
     "output_type": "stream",
     "text": [
      "Процентное содержание пропусков: id          0.00\n",
      "call_date   0.00\n",
      "duration    0.00\n",
      "user_id     0.00\n",
      "dtype: float64\n"
     ]
    }
   ],
   "source": [
    "print(\"Процентное содержание пропусков:\", df_calls.isnull().mean()*100)"
   ]
  },
  {
   "cell_type": "markdown",
   "metadata": {},
   "source": [
    "- Проблема аномалий в датафрейме интернет-сессий решена;\n",
    "- Дата прекращения пользования тарифами была изменена в случае NaN на последний день 2018 года, чтобы была возможность производить подсчеты и не терять данные;\n",
    "- Была проверена уникальность первичных ключей в таблицах, обнаружено различное количество уникальных значений.\n",
    "___\n",
    "- The problem of anomalies in the dataframe of Internet sessions is solved;\n",
    "- The tariff expiration date has been changed in the case of NaN to the last day of 2018 in order to be able to make calculations and not lose data;\n",
    "- The uniqueness of the primary keys in the tables was checked, a different number of unique values were found."
   ]
  },
  {
   "cell_type": "markdown",
   "metadata": {
    "tags": []
   },
   "source": [
    "## 3. Предобработка данных\n",
    "___\n",
    "## 3. Data preprocessing"
   ]
  },
  {
   "cell_type": "markdown",
   "metadata": {},
   "source": [
    "**Приведение данных к нужным типам**\n",
    "___\n",
    "**Correction of data to the required types**"
   ]
  },
  {
   "cell_type": "code",
   "execution_count": 31,
   "metadata": {},
   "outputs": [],
   "source": [
    "df_users = df_users.astype({ \"user_id\": \"int32\", \"age\": \"int32\", \"churn_date\": \"datetime64\", \"reg_date\": \"datetime64\"})"
   ]
  },
  {
   "cell_type": "code",
   "execution_count": 32,
   "metadata": {},
   "outputs": [],
   "source": [
    "df_tariffs = df_tariffs.astype({ \"messages_included\": \"int32\", \"mb_per_month_included\": \"int32\", \"minutes_included\": \"int32\", \"rub_monthly_fee\": \"int32\", \"rub_per_gb\": \"int32\", \"rub_per_message\": \"int32\", \"rub_per_minute\": \"int32\"})"
   ]
  },
  {
   "cell_type": "code",
   "execution_count": 33,
   "metadata": {},
   "outputs": [],
   "source": [
    "df_messages = df_messages.astype({ \"user_id\": \"int32\", \"message_date\": \"datetime64\"})"
   ]
  },
  {
   "cell_type": "code",
   "execution_count": 34,
   "metadata": {
    "scrolled": true
   },
   "outputs": [],
   "source": [
    "df_internet = df_internet.astype({ \"mb_used\": \"float32\", \"session_date\": \"datetime64\", \"user_id\": \"int32\"})"
   ]
  },
  {
   "cell_type": "markdown",
   "metadata": {},
   "source": [
    "Пришлось обратиться к данному методу только в случае одной таблицы, в других нужная информация могла стать индексом.\n",
    "___\n",
    "I had to turn to this method only in the case of one table, in others the necessary information could become an index."
   ]
  },
  {
   "cell_type": "code",
   "execution_count": 35,
   "metadata": {},
   "outputs": [],
   "source": [
    "df_calls = df_calls.astype({ \"user_id\": \"int32\", \"call_date\": \"datetime64\"})"
   ]
  },
  {
   "cell_type": "code",
   "execution_count": 36,
   "metadata": {},
   "outputs": [],
   "source": [
    "df_calls['duration'] = np.ceil(df_calls['duration'])"
   ]
  },
  {
   "cell_type": "markdown",
   "metadata": {},
   "source": [
    "Пояснение\n",
    "\n",
    "Данные преобразованы в корректные типы, в некоторых случаях в более \"легкие\" для меньшего использования памяти.\n",
    "___\n",
    "Explanation\n",
    "\n",
    "The data is converted to the correct types, in some cases more \"light\" ones for less memory usage."
   ]
  },
  {
   "cell_type": "markdown",
   "metadata": {},
   "source": [
    "**Подсчеты**\n",
    "___\n",
    "**Calculation**"
   ]
  },
  {
   "cell_type": "markdown",
   "metadata": {},
   "source": [
    "Количество сделанных звонков и израсходованных минут разговора по месяцам\n",
    "___\n",
    "Number of calls made and spent minutes of conversation by month"
   ]
  },
  {
   "cell_type": "code",
   "execution_count": 37,
   "metadata": {},
   "outputs": [],
   "source": [
    "df_calls['month'] = pd.DatetimeIndex(df_calls['call_date']).month"
   ]
  },
  {
   "cell_type": "code",
   "execution_count": 38,
   "metadata": {},
   "outputs": [],
   "source": [
    "pt_df_calls = df_calls.pivot_table(index=['month', 'user_id'], values=['duration'],  aggfunc={'sum', 'count'})"
   ]
  },
  {
   "cell_type": "code",
   "execution_count": 39,
   "metadata": {},
   "outputs": [],
   "source": [
    "pt_df_calls.columns = ['count_calls', 'spent_minutes']"
   ]
  },
  {
   "cell_type": "code",
   "execution_count": 40,
   "metadata": {
    "scrolled": true
   },
   "outputs": [
    {
     "data": {
      "text/html": [
       "<div>\n",
       "<style scoped>\n",
       "    .dataframe tbody tr th:only-of-type {\n",
       "        vertical-align: middle;\n",
       "    }\n",
       "\n",
       "    .dataframe tbody tr th {\n",
       "        vertical-align: top;\n",
       "    }\n",
       "\n",
       "    .dataframe thead th {\n",
       "        text-align: right;\n",
       "    }\n",
       "</style>\n",
       "<table border=\"1\" class=\"dataframe\">\n",
       "  <thead>\n",
       "    <tr style=\"text-align: right;\">\n",
       "      <th></th>\n",
       "      <th></th>\n",
       "      <th>count_calls</th>\n",
       "      <th>spent_minutes</th>\n",
       "    </tr>\n",
       "    <tr>\n",
       "      <th>month</th>\n",
       "      <th>user_id</th>\n",
       "      <th></th>\n",
       "      <th></th>\n",
       "    </tr>\n",
       "  </thead>\n",
       "  <tbody>\n",
       "    <tr>\n",
       "      <th rowspan=\"5\" valign=\"top\">1</th>\n",
       "      <th>1005</th>\n",
       "      <td>15</td>\n",
       "      <td>95.00</td>\n",
       "    </tr>\n",
       "    <tr>\n",
       "      <th>1032</th>\n",
       "      <td>61</td>\n",
       "      <td>380.00</td>\n",
       "    </tr>\n",
       "    <tr>\n",
       "      <th>1045</th>\n",
       "      <td>1</td>\n",
       "      <td>9.00</td>\n",
       "    </tr>\n",
       "    <tr>\n",
       "      <th>1055</th>\n",
       "      <td>64</td>\n",
       "      <td>551.00</td>\n",
       "    </tr>\n",
       "    <tr>\n",
       "      <th>1071</th>\n",
       "      <td>24</td>\n",
       "      <td>194.00</td>\n",
       "    </tr>\n",
       "    <tr>\n",
       "      <th>...</th>\n",
       "      <th>...</th>\n",
       "      <td>...</td>\n",
       "      <td>...</td>\n",
       "    </tr>\n",
       "    <tr>\n",
       "      <th rowspan=\"5\" valign=\"top\">12</th>\n",
       "      <th>1494</th>\n",
       "      <td>62</td>\n",
       "      <td>418.00</td>\n",
       "    </tr>\n",
       "    <tr>\n",
       "      <th>1495</th>\n",
       "      <td>155</td>\n",
       "      <td>1,031.00</td>\n",
       "    </tr>\n",
       "    <tr>\n",
       "      <th>1496</th>\n",
       "      <td>80</td>\n",
       "      <td>518.00</td>\n",
       "    </tr>\n",
       "    <tr>\n",
       "      <th>1497</th>\n",
       "      <td>71</td>\n",
       "      <td>545.00</td>\n",
       "    </tr>\n",
       "    <tr>\n",
       "      <th>1499</th>\n",
       "      <td>69</td>\n",
       "      <td>492.00</td>\n",
       "    </tr>\n",
       "  </tbody>\n",
       "</table>\n",
       "<p>3174 rows × 2 columns</p>\n",
       "</div>"
      ],
      "text/plain": [
       "               count_calls  spent_minutes\n",
       "month user_id                            \n",
       "1     1005              15          95.00\n",
       "      1032              61         380.00\n",
       "      1045               1           9.00\n",
       "      1055              64         551.00\n",
       "      1071              24         194.00\n",
       "...                    ...            ...\n",
       "12    1494              62         418.00\n",
       "      1495             155       1,031.00\n",
       "      1496              80         518.00\n",
       "      1497              71         545.00\n",
       "      1499              69         492.00\n",
       "\n",
       "[3174 rows x 2 columns]"
      ]
     },
     "execution_count": 40,
     "metadata": {},
     "output_type": "execute_result"
    }
   ],
   "source": [
    "pt_df_calls"
   ]
  },
  {
   "cell_type": "markdown",
   "metadata": {},
   "source": [
    "Количество отправленных сообщений по месяцам\n",
    "___\n",
    "Number of messages sent by month"
   ]
  },
  {
   "cell_type": "code",
   "execution_count": 41,
   "metadata": {},
   "outputs": [],
   "source": [
    "df_messages['month'] = pd.DatetimeIndex(df_messages['message_date']).month"
   ]
  },
  {
   "cell_type": "code",
   "execution_count": 42,
   "metadata": {},
   "outputs": [],
   "source": [
    "pt_df_messages = df_messages.pivot_table(index=['month', 'user_id'], values=['id'],  aggfunc={'id': 'count'})"
   ]
  },
  {
   "cell_type": "code",
   "execution_count": 43,
   "metadata": {
    "scrolled": true
   },
   "outputs": [
    {
     "data": {
      "text/html": [
       "<div>\n",
       "<style scoped>\n",
       "    .dataframe tbody tr th:only-of-type {\n",
       "        vertical-align: middle;\n",
       "    }\n",
       "\n",
       "    .dataframe tbody tr th {\n",
       "        vertical-align: top;\n",
       "    }\n",
       "\n",
       "    .dataframe thead th {\n",
       "        text-align: right;\n",
       "    }\n",
       "</style>\n",
       "<table border=\"1\" class=\"dataframe\">\n",
       "  <thead>\n",
       "    <tr style=\"text-align: right;\">\n",
       "      <th></th>\n",
       "      <th></th>\n",
       "      <th>messages</th>\n",
       "    </tr>\n",
       "    <tr>\n",
       "      <th>month</th>\n",
       "      <th>user_id</th>\n",
       "      <th></th>\n",
       "    </tr>\n",
       "  </thead>\n",
       "  <tbody>\n",
       "    <tr>\n",
       "      <th rowspan=\"5\" valign=\"top\">1</th>\n",
       "      <th>1005</th>\n",
       "      <td>7</td>\n",
       "    </tr>\n",
       "    <tr>\n",
       "      <th>1032</th>\n",
       "      <td>38</td>\n",
       "    </tr>\n",
       "    <tr>\n",
       "      <th>1045</th>\n",
       "      <td>5</td>\n",
       "    </tr>\n",
       "    <tr>\n",
       "      <th>1055</th>\n",
       "      <td>30</td>\n",
       "    </tr>\n",
       "    <tr>\n",
       "      <th>1071</th>\n",
       "      <td>16</td>\n",
       "    </tr>\n",
       "    <tr>\n",
       "      <th>...</th>\n",
       "      <th>...</th>\n",
       "      <td>...</td>\n",
       "    </tr>\n",
       "    <tr>\n",
       "      <th rowspan=\"5\" valign=\"top\">12</th>\n",
       "      <th>1493</th>\n",
       "      <td>78</td>\n",
       "    </tr>\n",
       "    <tr>\n",
       "      <th>1495</th>\n",
       "      <td>84</td>\n",
       "    </tr>\n",
       "    <tr>\n",
       "      <th>1496</th>\n",
       "      <td>51</td>\n",
       "    </tr>\n",
       "    <tr>\n",
       "      <th>1497</th>\n",
       "      <td>17</td>\n",
       "    </tr>\n",
       "    <tr>\n",
       "      <th>1499</th>\n",
       "      <td>66</td>\n",
       "    </tr>\n",
       "  </tbody>\n",
       "</table>\n",
       "<p>2717 rows × 1 columns</p>\n",
       "</div>"
      ],
      "text/plain": [
       "               messages\n",
       "month user_id          \n",
       "1     1005            7\n",
       "      1032           38\n",
       "      1045            5\n",
       "      1055           30\n",
       "      1071           16\n",
       "...                 ...\n",
       "12    1493           78\n",
       "      1495           84\n",
       "      1496           51\n",
       "      1497           17\n",
       "      1499           66\n",
       "\n",
       "[2717 rows x 1 columns]"
      ]
     },
     "execution_count": 43,
     "metadata": {},
     "output_type": "execute_result"
    }
   ],
   "source": [
    "pt_df_messages.rename(columns = {'id':'messages'})"
   ]
  },
  {
   "cell_type": "markdown",
   "metadata": {},
   "source": [
    "Объем израсходованного интернет-трафика по месяцам\n",
    "___\n",
    "The amount of Internet traffic used by months"
   ]
  },
  {
   "cell_type": "code",
   "execution_count": 44,
   "metadata": {},
   "outputs": [],
   "source": [
    "df_internet['month'] = pd.DatetimeIndex(df_internet['session_date']).month"
   ]
  },
  {
   "cell_type": "code",
   "execution_count": 45,
   "metadata": {},
   "outputs": [],
   "source": [
    "pt_df_internet = df_internet.pivot_table(index=['month', 'user_id'], values=['mb_used'],  aggfunc={'mb_used': 'sum'})"
   ]
  },
  {
   "cell_type": "code",
   "execution_count": 46,
   "metadata": {},
   "outputs": [],
   "source": [
    "pt_df_internet['mb_used'] = pt_df_internet['mb_used']/1024\n",
    "pt_df_internet = pt_df_internet.rename(columns = {'mb_used':'gb_used'})"
   ]
  },
  {
   "cell_type": "code",
   "execution_count": 47,
   "metadata": {},
   "outputs": [
    {
     "data": {
      "text/html": [
       "<div>\n",
       "<style scoped>\n",
       "    .dataframe tbody tr th:only-of-type {\n",
       "        vertical-align: middle;\n",
       "    }\n",
       "\n",
       "    .dataframe tbody tr th {\n",
       "        vertical-align: top;\n",
       "    }\n",
       "\n",
       "    .dataframe thead th {\n",
       "        text-align: right;\n",
       "    }\n",
       "</style>\n",
       "<table border=\"1\" class=\"dataframe\">\n",
       "  <thead>\n",
       "    <tr style=\"text-align: right;\">\n",
       "      <th></th>\n",
       "      <th></th>\n",
       "      <th>gb_used</th>\n",
       "    </tr>\n",
       "    <tr>\n",
       "      <th>month</th>\n",
       "      <th>user_id</th>\n",
       "      <th></th>\n",
       "    </tr>\n",
       "  </thead>\n",
       "  <tbody>\n",
       "    <tr>\n",
       "      <th rowspan=\"5\" valign=\"top\">1</th>\n",
       "      <th>1005</th>\n",
       "      <td>2.66</td>\n",
       "    </tr>\n",
       "    <tr>\n",
       "      <th>1032</th>\n",
       "      <td>23.56</td>\n",
       "    </tr>\n",
       "    <tr>\n",
       "      <th>1045</th>\n",
       "      <td>2.29</td>\n",
       "    </tr>\n",
       "    <tr>\n",
       "      <th>1055</th>\n",
       "      <td>16.69</td>\n",
       "    </tr>\n",
       "    <tr>\n",
       "      <th>1071</th>\n",
       "      <td>15.24</td>\n",
       "    </tr>\n",
       "    <tr>\n",
       "      <th>...</th>\n",
       "      <th>...</th>\n",
       "      <td>...</td>\n",
       "    </tr>\n",
       "    <tr>\n",
       "      <th rowspan=\"5\" valign=\"top\">12</th>\n",
       "      <th>1494</th>\n",
       "      <td>17.21</td>\n",
       "    </tr>\n",
       "    <tr>\n",
       "      <th>1495</th>\n",
       "      <td>22.88</td>\n",
       "    </tr>\n",
       "    <tr>\n",
       "      <th>1496</th>\n",
       "      <td>20.25</td>\n",
       "    </tr>\n",
       "    <tr>\n",
       "      <th>1497</th>\n",
       "      <td>19.45</td>\n",
       "    </tr>\n",
       "    <tr>\n",
       "      <th>1499</th>\n",
       "      <td>12.75</td>\n",
       "    </tr>\n",
       "  </tbody>\n",
       "</table>\n",
       "<p>3201 rows × 1 columns</p>\n",
       "</div>"
      ],
      "text/plain": [
       "               gb_used\n",
       "month user_id         \n",
       "1     1005        2.66\n",
       "      1032       23.56\n",
       "      1045        2.29\n",
       "      1055       16.69\n",
       "      1071       15.24\n",
       "...                ...\n",
       "12    1494       17.21\n",
       "      1495       22.88\n",
       "      1496       20.25\n",
       "      1497       19.45\n",
       "      1499       12.75\n",
       "\n",
       "[3201 rows x 1 columns]"
      ]
     },
     "execution_count": 47,
     "metadata": {},
     "output_type": "execute_result"
    }
   ],
   "source": [
    "pt_df_internet"
   ]
  },
  {
   "cell_type": "code",
   "execution_count": 48,
   "metadata": {},
   "outputs": [],
   "source": [
    "pt_df_internet['gb_used'] = np.ceil(pt_df_internet['gb_used'])"
   ]
  },
  {
   "cell_type": "code",
   "execution_count": 49,
   "metadata": {},
   "outputs": [
    {
     "data": {
      "text/html": [
       "<div>\n",
       "<style scoped>\n",
       "    .dataframe tbody tr th:only-of-type {\n",
       "        vertical-align: middle;\n",
       "    }\n",
       "\n",
       "    .dataframe tbody tr th {\n",
       "        vertical-align: top;\n",
       "    }\n",
       "\n",
       "    .dataframe thead th {\n",
       "        text-align: right;\n",
       "    }\n",
       "</style>\n",
       "<table border=\"1\" class=\"dataframe\">\n",
       "  <thead>\n",
       "    <tr style=\"text-align: right;\">\n",
       "      <th></th>\n",
       "      <th></th>\n",
       "      <th>gb_used</th>\n",
       "    </tr>\n",
       "    <tr>\n",
       "      <th>month</th>\n",
       "      <th>user_id</th>\n",
       "      <th></th>\n",
       "    </tr>\n",
       "  </thead>\n",
       "  <tbody>\n",
       "    <tr>\n",
       "      <th rowspan=\"5\" valign=\"top\">1</th>\n",
       "      <th>1005</th>\n",
       "      <td>3.00</td>\n",
       "    </tr>\n",
       "    <tr>\n",
       "      <th>1032</th>\n",
       "      <td>24.00</td>\n",
       "    </tr>\n",
       "    <tr>\n",
       "      <th>1045</th>\n",
       "      <td>3.00</td>\n",
       "    </tr>\n",
       "    <tr>\n",
       "      <th>1055</th>\n",
       "      <td>17.00</td>\n",
       "    </tr>\n",
       "    <tr>\n",
       "      <th>1071</th>\n",
       "      <td>16.00</td>\n",
       "    </tr>\n",
       "    <tr>\n",
       "      <th>...</th>\n",
       "      <th>...</th>\n",
       "      <td>...</td>\n",
       "    </tr>\n",
       "    <tr>\n",
       "      <th rowspan=\"5\" valign=\"top\">12</th>\n",
       "      <th>1494</th>\n",
       "      <td>18.00</td>\n",
       "    </tr>\n",
       "    <tr>\n",
       "      <th>1495</th>\n",
       "      <td>23.00</td>\n",
       "    </tr>\n",
       "    <tr>\n",
       "      <th>1496</th>\n",
       "      <td>21.00</td>\n",
       "    </tr>\n",
       "    <tr>\n",
       "      <th>1497</th>\n",
       "      <td>20.00</td>\n",
       "    </tr>\n",
       "    <tr>\n",
       "      <th>1499</th>\n",
       "      <td>13.00</td>\n",
       "    </tr>\n",
       "  </tbody>\n",
       "</table>\n",
       "<p>3201 rows × 1 columns</p>\n",
       "</div>"
      ],
      "text/plain": [
       "               gb_used\n",
       "month user_id         \n",
       "1     1005        3.00\n",
       "      1032       24.00\n",
       "      1045        3.00\n",
       "      1055       17.00\n",
       "      1071       16.00\n",
       "...                ...\n",
       "12    1494       18.00\n",
       "      1495       23.00\n",
       "      1496       21.00\n",
       "      1497       20.00\n",
       "      1499       13.00\n",
       "\n",
       "[3201 rows x 1 columns]"
      ]
     },
     "execution_count": 49,
     "metadata": {},
     "output_type": "execute_result"
    }
   ],
   "source": [
    "pt_df_internet"
   ]
  },
  {
   "cell_type": "markdown",
   "metadata": {},
   "source": [
    "Помесячная выручка с каждого пользователя (вычитание бесплатного лимита из суммарного количества звонков, сообщений и интернет-трафика; остаток умножить на значение из тарифного плана; прибавить абонентскую плату, соответствующую тарифному плану)\n",
    "___\n",
    "Monthly revenue from each user (subtracting the free limit from the total number of calls, messages and Internet traffic; multiply the remainder by the value from the tariff plan; add the subscription fee corresponding to the tariff plan)"
   ]
  },
  {
   "cell_type": "code",
   "execution_count": 50,
   "metadata": {},
   "outputs": [],
   "source": [
    "group_mess_call = pt_df_messages.merge(pt_df_calls, on = ['month', 'user_id'], how = 'outer')"
   ]
  },
  {
   "cell_type": "code",
   "execution_count": 51,
   "metadata": {},
   "outputs": [
    {
     "data": {
      "text/html": [
       "<div>\n",
       "<style scoped>\n",
       "    .dataframe tbody tr th:only-of-type {\n",
       "        vertical-align: middle;\n",
       "    }\n",
       "\n",
       "    .dataframe tbody tr th {\n",
       "        vertical-align: top;\n",
       "    }\n",
       "\n",
       "    .dataframe thead th {\n",
       "        text-align: right;\n",
       "    }\n",
       "</style>\n",
       "<table border=\"1\" class=\"dataframe\">\n",
       "  <thead>\n",
       "    <tr style=\"text-align: right;\">\n",
       "      <th></th>\n",
       "      <th></th>\n",
       "      <th>id</th>\n",
       "      <th>count_calls</th>\n",
       "      <th>spent_minutes</th>\n",
       "    </tr>\n",
       "    <tr>\n",
       "      <th>month</th>\n",
       "      <th>user_id</th>\n",
       "      <th></th>\n",
       "      <th></th>\n",
       "      <th></th>\n",
       "    </tr>\n",
       "  </thead>\n",
       "  <tbody>\n",
       "    <tr>\n",
       "      <th rowspan=\"5\" valign=\"top\">1</th>\n",
       "      <th>1005</th>\n",
       "      <td>7.00</td>\n",
       "      <td>15.00</td>\n",
       "      <td>95.00</td>\n",
       "    </tr>\n",
       "    <tr>\n",
       "      <th>1032</th>\n",
       "      <td>38.00</td>\n",
       "      <td>61.00</td>\n",
       "      <td>380.00</td>\n",
       "    </tr>\n",
       "    <tr>\n",
       "      <th>1045</th>\n",
       "      <td>5.00</td>\n",
       "      <td>1.00</td>\n",
       "      <td>9.00</td>\n",
       "    </tr>\n",
       "    <tr>\n",
       "      <th>1055</th>\n",
       "      <td>30.00</td>\n",
       "      <td>64.00</td>\n",
       "      <td>551.00</td>\n",
       "    </tr>\n",
       "    <tr>\n",
       "      <th>1071</th>\n",
       "      <td>16.00</td>\n",
       "      <td>24.00</td>\n",
       "      <td>194.00</td>\n",
       "    </tr>\n",
       "    <tr>\n",
       "      <th>...</th>\n",
       "      <th>...</th>\n",
       "      <td>...</td>\n",
       "      <td>...</td>\n",
       "      <td>...</td>\n",
       "    </tr>\n",
       "    <tr>\n",
       "      <th rowspan=\"5\" valign=\"top\">12</th>\n",
       "      <th>1462</th>\n",
       "      <td>NaN</td>\n",
       "      <td>136.00</td>\n",
       "      <td>878.00</td>\n",
       "    </tr>\n",
       "    <tr>\n",
       "      <th>1466</th>\n",
       "      <td>NaN</td>\n",
       "      <td>82.00</td>\n",
       "      <td>659.00</td>\n",
       "    </tr>\n",
       "    <tr>\n",
       "      <th>1469</th>\n",
       "      <td>NaN</td>\n",
       "      <td>106.00</td>\n",
       "      <td>635.00</td>\n",
       "    </tr>\n",
       "    <tr>\n",
       "      <th>1479</th>\n",
       "      <td>NaN</td>\n",
       "      <td>81.00</td>\n",
       "      <td>576.00</td>\n",
       "    </tr>\n",
       "    <tr>\n",
       "      <th>1494</th>\n",
       "      <td>NaN</td>\n",
       "      <td>62.00</td>\n",
       "      <td>418.00</td>\n",
       "    </tr>\n",
       "  </tbody>\n",
       "</table>\n",
       "<p>3213 rows × 3 columns</p>\n",
       "</div>"
      ],
      "text/plain": [
       "                 id  count_calls  spent_minutes\n",
       "month user_id                                  \n",
       "1     1005     7.00        15.00          95.00\n",
       "      1032    38.00        61.00         380.00\n",
       "      1045     5.00         1.00           9.00\n",
       "      1055    30.00        64.00         551.00\n",
       "      1071    16.00        24.00         194.00\n",
       "...             ...          ...            ...\n",
       "12    1462      NaN       136.00         878.00\n",
       "      1466      NaN        82.00         659.00\n",
       "      1469      NaN       106.00         635.00\n",
       "      1479      NaN        81.00         576.00\n",
       "      1494      NaN        62.00         418.00\n",
       "\n",
       "[3213 rows x 3 columns]"
      ]
     },
     "execution_count": 51,
     "metadata": {},
     "output_type": "execute_result"
    }
   ],
   "source": [
    "group_mess_call"
   ]
  },
  {
   "cell_type": "code",
   "execution_count": 52,
   "metadata": {},
   "outputs": [],
   "source": [
    "group_mess_call_int = group_mess_call.merge(pt_df_internet, on = ['month', 'user_id'], how = 'outer').reset_index()"
   ]
  },
  {
   "cell_type": "code",
   "execution_count": 53,
   "metadata": {
    "scrolled": true
   },
   "outputs": [
    {
     "data": {
      "text/html": [
       "<div>\n",
       "<style scoped>\n",
       "    .dataframe tbody tr th:only-of-type {\n",
       "        vertical-align: middle;\n",
       "    }\n",
       "\n",
       "    .dataframe tbody tr th {\n",
       "        vertical-align: top;\n",
       "    }\n",
       "\n",
       "    .dataframe thead th {\n",
       "        text-align: right;\n",
       "    }\n",
       "</style>\n",
       "<table border=\"1\" class=\"dataframe\">\n",
       "  <thead>\n",
       "    <tr style=\"text-align: right;\">\n",
       "      <th></th>\n",
       "      <th>month</th>\n",
       "      <th>user_id</th>\n",
       "      <th>id</th>\n",
       "      <th>count_calls</th>\n",
       "      <th>spent_minutes</th>\n",
       "      <th>gb_used</th>\n",
       "    </tr>\n",
       "  </thead>\n",
       "  <tbody>\n",
       "    <tr>\n",
       "      <th>0</th>\n",
       "      <td>1</td>\n",
       "      <td>1005</td>\n",
       "      <td>7.00</td>\n",
       "      <td>15.00</td>\n",
       "      <td>95.00</td>\n",
       "      <td>3.00</td>\n",
       "    </tr>\n",
       "    <tr>\n",
       "      <th>1</th>\n",
       "      <td>1</td>\n",
       "      <td>1032</td>\n",
       "      <td>38.00</td>\n",
       "      <td>61.00</td>\n",
       "      <td>380.00</td>\n",
       "      <td>24.00</td>\n",
       "    </tr>\n",
       "    <tr>\n",
       "      <th>2</th>\n",
       "      <td>1</td>\n",
       "      <td>1045</td>\n",
       "      <td>5.00</td>\n",
       "      <td>1.00</td>\n",
       "      <td>9.00</td>\n",
       "      <td>3.00</td>\n",
       "    </tr>\n",
       "    <tr>\n",
       "      <th>3</th>\n",
       "      <td>1</td>\n",
       "      <td>1055</td>\n",
       "      <td>30.00</td>\n",
       "      <td>64.00</td>\n",
       "      <td>551.00</td>\n",
       "      <td>17.00</td>\n",
       "    </tr>\n",
       "    <tr>\n",
       "      <th>4</th>\n",
       "      <td>1</td>\n",
       "      <td>1071</td>\n",
       "      <td>16.00</td>\n",
       "      <td>24.00</td>\n",
       "      <td>194.00</td>\n",
       "      <td>16.00</td>\n",
       "    </tr>\n",
       "    <tr>\n",
       "      <th>...</th>\n",
       "      <td>...</td>\n",
       "      <td>...</td>\n",
       "      <td>...</td>\n",
       "      <td>...</td>\n",
       "      <td>...</td>\n",
       "      <td>...</td>\n",
       "    </tr>\n",
       "    <tr>\n",
       "      <th>3209</th>\n",
       "      <td>12</td>\n",
       "      <td>1466</td>\n",
       "      <td>NaN</td>\n",
       "      <td>82.00</td>\n",
       "      <td>659.00</td>\n",
       "      <td>15.00</td>\n",
       "    </tr>\n",
       "    <tr>\n",
       "      <th>3210</th>\n",
       "      <td>12</td>\n",
       "      <td>1469</td>\n",
       "      <td>NaN</td>\n",
       "      <td>106.00</td>\n",
       "      <td>635.00</td>\n",
       "      <td>28.00</td>\n",
       "    </tr>\n",
       "    <tr>\n",
       "      <th>3211</th>\n",
       "      <td>12</td>\n",
       "      <td>1479</td>\n",
       "      <td>NaN</td>\n",
       "      <td>81.00</td>\n",
       "      <td>576.00</td>\n",
       "      <td>23.00</td>\n",
       "    </tr>\n",
       "    <tr>\n",
       "      <th>3212</th>\n",
       "      <td>12</td>\n",
       "      <td>1494</td>\n",
       "      <td>NaN</td>\n",
       "      <td>62.00</td>\n",
       "      <td>418.00</td>\n",
       "      <td>18.00</td>\n",
       "    </tr>\n",
       "    <tr>\n",
       "      <th>3213</th>\n",
       "      <td>4</td>\n",
       "      <td>1476</td>\n",
       "      <td>NaN</td>\n",
       "      <td>NaN</td>\n",
       "      <td>NaN</td>\n",
       "      <td>1.00</td>\n",
       "    </tr>\n",
       "  </tbody>\n",
       "</table>\n",
       "<p>3214 rows × 6 columns</p>\n",
       "</div>"
      ],
      "text/plain": [
       "      month  user_id    id  count_calls  spent_minutes  gb_used\n",
       "0         1     1005  7.00        15.00          95.00     3.00\n",
       "1         1     1032 38.00        61.00         380.00    24.00\n",
       "2         1     1045  5.00         1.00           9.00     3.00\n",
       "3         1     1055 30.00        64.00         551.00    17.00\n",
       "4         1     1071 16.00        24.00         194.00    16.00\n",
       "...     ...      ...   ...          ...            ...      ...\n",
       "3209     12     1466   NaN        82.00         659.00    15.00\n",
       "3210     12     1469   NaN       106.00         635.00    28.00\n",
       "3211     12     1479   NaN        81.00         576.00    23.00\n",
       "3212     12     1494   NaN        62.00         418.00    18.00\n",
       "3213      4     1476   NaN          NaN            NaN     1.00\n",
       "\n",
       "[3214 rows x 6 columns]"
      ]
     },
     "execution_count": 53,
     "metadata": {},
     "output_type": "execute_result"
    }
   ],
   "source": [
    "group_mess_call_int"
   ]
  },
  {
   "cell_type": "code",
   "execution_count": 54,
   "metadata": {},
   "outputs": [],
   "source": [
    "general_df = group_mess_call_int.merge(df_users[['user_id', 'city', 'tariff']], on = ['user_id'], how = 'outer')"
   ]
  },
  {
   "cell_type": "code",
   "execution_count": 55,
   "metadata": {},
   "outputs": [],
   "source": [
    "general_df = general_df.rename(columns = {'id':'messages'})"
   ]
  },
  {
   "cell_type": "code",
   "execution_count": 56,
   "metadata": {
    "scrolled": true
   },
   "outputs": [
    {
     "data": {
      "text/html": [
       "<div>\n",
       "<style scoped>\n",
       "    .dataframe tbody tr th:only-of-type {\n",
       "        vertical-align: middle;\n",
       "    }\n",
       "\n",
       "    .dataframe tbody tr th {\n",
       "        vertical-align: top;\n",
       "    }\n",
       "\n",
       "    .dataframe thead th {\n",
       "        text-align: right;\n",
       "    }\n",
       "</style>\n",
       "<table border=\"1\" class=\"dataframe\">\n",
       "  <thead>\n",
       "    <tr style=\"text-align: right;\">\n",
       "      <th></th>\n",
       "      <th>month</th>\n",
       "      <th>user_id</th>\n",
       "      <th>messages</th>\n",
       "      <th>count_calls</th>\n",
       "      <th>spent_minutes</th>\n",
       "      <th>gb_used</th>\n",
       "      <th>city</th>\n",
       "      <th>tariff</th>\n",
       "    </tr>\n",
       "  </thead>\n",
       "  <tbody>\n",
       "    <tr>\n",
       "      <th>0</th>\n",
       "      <td>1.00</td>\n",
       "      <td>1005</td>\n",
       "      <td>7.00</td>\n",
       "      <td>15.00</td>\n",
       "      <td>95.00</td>\n",
       "      <td>3.00</td>\n",
       "      <td>Набережные Челны</td>\n",
       "      <td>smart</td>\n",
       "    </tr>\n",
       "    <tr>\n",
       "      <th>1</th>\n",
       "      <td>2.00</td>\n",
       "      <td>1005</td>\n",
       "      <td>38.00</td>\n",
       "      <td>69.00</td>\n",
       "      <td>456.00</td>\n",
       "      <td>8.00</td>\n",
       "      <td>Набережные Челны</td>\n",
       "      <td>smart</td>\n",
       "    </tr>\n",
       "    <tr>\n",
       "      <th>2</th>\n",
       "      <td>3.00</td>\n",
       "      <td>1005</td>\n",
       "      <td>56.00</td>\n",
       "      <td>77.00</td>\n",
       "      <td>606.00</td>\n",
       "      <td>11.00</td>\n",
       "      <td>Набережные Челны</td>\n",
       "      <td>smart</td>\n",
       "    </tr>\n",
       "    <tr>\n",
       "      <th>3</th>\n",
       "      <td>4.00</td>\n",
       "      <td>1005</td>\n",
       "      <td>41.00</td>\n",
       "      <td>101.00</td>\n",
       "      <td>712.00</td>\n",
       "      <td>10.00</td>\n",
       "      <td>Набережные Челны</td>\n",
       "      <td>smart</td>\n",
       "    </tr>\n",
       "    <tr>\n",
       "      <th>4</th>\n",
       "      <td>5.00</td>\n",
       "      <td>1005</td>\n",
       "      <td>42.00</td>\n",
       "      <td>73.00</td>\n",
       "      <td>595.00</td>\n",
       "      <td>8.00</td>\n",
       "      <td>Набережные Челны</td>\n",
       "      <td>smart</td>\n",
       "    </tr>\n",
       "  </tbody>\n",
       "</table>\n",
       "</div>"
      ],
      "text/plain": [
       "   month  user_id  messages  count_calls  spent_minutes  gb_used  \\\n",
       "0   1.00     1005      7.00        15.00          95.00     3.00   \n",
       "1   2.00     1005     38.00        69.00         456.00     8.00   \n",
       "2   3.00     1005     56.00        77.00         606.00    11.00   \n",
       "3   4.00     1005     41.00       101.00         712.00    10.00   \n",
       "4   5.00     1005     42.00        73.00         595.00     8.00   \n",
       "\n",
       "               city tariff  \n",
       "0  Набережные Челны  smart  \n",
       "1  Набережные Челны  smart  \n",
       "2  Набережные Челны  smart  \n",
       "3  Набережные Челны  smart  \n",
       "4  Набережные Челны  smart  "
      ]
     },
     "execution_count": 56,
     "metadata": {},
     "output_type": "execute_result"
    }
   ],
   "source": [
    "general_df.head(5)"
   ]
  },
  {
   "cell_type": "code",
   "execution_count": 57,
   "metadata": {},
   "outputs": [
    {
     "data": {
      "text/html": [
       "<div>\n",
       "<style scoped>\n",
       "    .dataframe tbody tr th:only-of-type {\n",
       "        vertical-align: middle;\n",
       "    }\n",
       "\n",
       "    .dataframe tbody tr th {\n",
       "        vertical-align: top;\n",
       "    }\n",
       "\n",
       "    .dataframe thead th {\n",
       "        text-align: right;\n",
       "    }\n",
       "</style>\n",
       "<table border=\"1\" class=\"dataframe\">\n",
       "  <thead>\n",
       "    <tr style=\"text-align: right;\">\n",
       "      <th></th>\n",
       "      <th>month</th>\n",
       "      <th>user_id</th>\n",
       "      <th>messages</th>\n",
       "      <th>count_calls</th>\n",
       "      <th>spent_minutes</th>\n",
       "      <th>gb_used</th>\n",
       "      <th>city</th>\n",
       "      <th>tariff</th>\n",
       "    </tr>\n",
       "  </thead>\n",
       "  <tbody>\n",
       "    <tr>\n",
       "      <th>277</th>\n",
       "      <td>6.00</td>\n",
       "      <td>1373</td>\n",
       "      <td>48.00</td>\n",
       "      <td>NaN</td>\n",
       "      <td>NaN</td>\n",
       "      <td>13.00</td>\n",
       "      <td>Улан-Удэ</td>\n",
       "      <td>smart</td>\n",
       "    </tr>\n",
       "    <tr>\n",
       "      <th>1143</th>\n",
       "      <td>4.00</td>\n",
       "      <td>1106</td>\n",
       "      <td>9.00</td>\n",
       "      <td>NaN</td>\n",
       "      <td>NaN</td>\n",
       "      <td>3.00</td>\n",
       "      <td>Калуга</td>\n",
       "      <td>ultra</td>\n",
       "    </tr>\n",
       "    <tr>\n",
       "      <th>1144</th>\n",
       "      <td>5.00</td>\n",
       "      <td>1106</td>\n",
       "      <td>28.00</td>\n",
       "      <td>NaN</td>\n",
       "      <td>NaN</td>\n",
       "      <td>17.00</td>\n",
       "      <td>Калуга</td>\n",
       "      <td>ultra</td>\n",
       "    </tr>\n",
       "    <tr>\n",
       "      <th>1145</th>\n",
       "      <td>6.00</td>\n",
       "      <td>1106</td>\n",
       "      <td>30.00</td>\n",
       "      <td>NaN</td>\n",
       "      <td>NaN</td>\n",
       "      <td>20.00</td>\n",
       "      <td>Калуга</td>\n",
       "      <td>ultra</td>\n",
       "    </tr>\n",
       "    <tr>\n",
       "      <th>1146</th>\n",
       "      <td>7.00</td>\n",
       "      <td>1106</td>\n",
       "      <td>24.00</td>\n",
       "      <td>NaN</td>\n",
       "      <td>NaN</td>\n",
       "      <td>22.00</td>\n",
       "      <td>Калуга</td>\n",
       "      <td>ultra</td>\n",
       "    </tr>\n",
       "    <tr>\n",
       "      <th>1147</th>\n",
       "      <td>8.00</td>\n",
       "      <td>1106</td>\n",
       "      <td>25.00</td>\n",
       "      <td>NaN</td>\n",
       "      <td>NaN</td>\n",
       "      <td>19.00</td>\n",
       "      <td>Калуга</td>\n",
       "      <td>ultra</td>\n",
       "    </tr>\n",
       "    <tr>\n",
       "      <th>1148</th>\n",
       "      <td>9.00</td>\n",
       "      <td>1106</td>\n",
       "      <td>23.00</td>\n",
       "      <td>NaN</td>\n",
       "      <td>NaN</td>\n",
       "      <td>22.00</td>\n",
       "      <td>Калуга</td>\n",
       "      <td>ultra</td>\n",
       "    </tr>\n",
       "    <tr>\n",
       "      <th>1149</th>\n",
       "      <td>10.00</td>\n",
       "      <td>1106</td>\n",
       "      <td>33.00</td>\n",
       "      <td>NaN</td>\n",
       "      <td>NaN</td>\n",
       "      <td>14.00</td>\n",
       "      <td>Калуга</td>\n",
       "      <td>ultra</td>\n",
       "    </tr>\n",
       "    <tr>\n",
       "      <th>1150</th>\n",
       "      <td>11.00</td>\n",
       "      <td>1106</td>\n",
       "      <td>29.00</td>\n",
       "      <td>NaN</td>\n",
       "      <td>NaN</td>\n",
       "      <td>21.00</td>\n",
       "      <td>Калуга</td>\n",
       "      <td>ultra</td>\n",
       "    </tr>\n",
       "    <tr>\n",
       "      <th>1151</th>\n",
       "      <td>12.00</td>\n",
       "      <td>1106</td>\n",
       "      <td>24.00</td>\n",
       "      <td>NaN</td>\n",
       "      <td>NaN</td>\n",
       "      <td>19.00</td>\n",
       "      <td>Калуга</td>\n",
       "      <td>ultra</td>\n",
       "    </tr>\n",
       "    <tr>\n",
       "      <th>1467</th>\n",
       "      <td>5.00</td>\n",
       "      <td>1091</td>\n",
       "      <td>30.00</td>\n",
       "      <td>NaN</td>\n",
       "      <td>NaN</td>\n",
       "      <td>11.00</td>\n",
       "      <td>Набережные Челны</td>\n",
       "      <td>ultra</td>\n",
       "    </tr>\n",
       "    <tr>\n",
       "      <th>1468</th>\n",
       "      <td>6.00</td>\n",
       "      <td>1091</td>\n",
       "      <td>30.00</td>\n",
       "      <td>NaN</td>\n",
       "      <td>NaN</td>\n",
       "      <td>10.00</td>\n",
       "      <td>Набережные Челны</td>\n",
       "      <td>ultra</td>\n",
       "    </tr>\n",
       "    <tr>\n",
       "      <th>1469</th>\n",
       "      <td>7.00</td>\n",
       "      <td>1091</td>\n",
       "      <td>35.00</td>\n",
       "      <td>NaN</td>\n",
       "      <td>NaN</td>\n",
       "      <td>17.00</td>\n",
       "      <td>Набережные Челны</td>\n",
       "      <td>ultra</td>\n",
       "    </tr>\n",
       "    <tr>\n",
       "      <th>1470</th>\n",
       "      <td>8.00</td>\n",
       "      <td>1091</td>\n",
       "      <td>31.00</td>\n",
       "      <td>NaN</td>\n",
       "      <td>NaN</td>\n",
       "      <td>13.00</td>\n",
       "      <td>Набережные Челны</td>\n",
       "      <td>ultra</td>\n",
       "    </tr>\n",
       "    <tr>\n",
       "      <th>1471</th>\n",
       "      <td>9.00</td>\n",
       "      <td>1091</td>\n",
       "      <td>32.00</td>\n",
       "      <td>NaN</td>\n",
       "      <td>NaN</td>\n",
       "      <td>17.00</td>\n",
       "      <td>Набережные Челны</td>\n",
       "      <td>ultra</td>\n",
       "    </tr>\n",
       "    <tr>\n",
       "      <th>1472</th>\n",
       "      <td>10.00</td>\n",
       "      <td>1091</td>\n",
       "      <td>44.00</td>\n",
       "      <td>NaN</td>\n",
       "      <td>NaN</td>\n",
       "      <td>16.00</td>\n",
       "      <td>Набережные Челны</td>\n",
       "      <td>ultra</td>\n",
       "    </tr>\n",
       "    <tr>\n",
       "      <th>1473</th>\n",
       "      <td>11.00</td>\n",
       "      <td>1091</td>\n",
       "      <td>28.00</td>\n",
       "      <td>NaN</td>\n",
       "      <td>NaN</td>\n",
       "      <td>12.00</td>\n",
       "      <td>Набережные Челны</td>\n",
       "      <td>ultra</td>\n",
       "    </tr>\n",
       "    <tr>\n",
       "      <th>1474</th>\n",
       "      <td>12.00</td>\n",
       "      <td>1091</td>\n",
       "      <td>42.00</td>\n",
       "      <td>NaN</td>\n",
       "      <td>NaN</td>\n",
       "      <td>13.00</td>\n",
       "      <td>Набережные Челны</td>\n",
       "      <td>ultra</td>\n",
       "    </tr>\n",
       "    <tr>\n",
       "      <th>1539</th>\n",
       "      <td>5.00</td>\n",
       "      <td>1231</td>\n",
       "      <td>55.00</td>\n",
       "      <td>NaN</td>\n",
       "      <td>NaN</td>\n",
       "      <td>11.00</td>\n",
       "      <td>Чебоксары</td>\n",
       "      <td>ultra</td>\n",
       "    </tr>\n",
       "    <tr>\n",
       "      <th>1540</th>\n",
       "      <td>6.00</td>\n",
       "      <td>1231</td>\n",
       "      <td>201.00</td>\n",
       "      <td>NaN</td>\n",
       "      <td>NaN</td>\n",
       "      <td>28.00</td>\n",
       "      <td>Чебоксары</td>\n",
       "      <td>ultra</td>\n",
       "    </tr>\n",
       "    <tr>\n",
       "      <th>1541</th>\n",
       "      <td>7.00</td>\n",
       "      <td>1231</td>\n",
       "      <td>211.00</td>\n",
       "      <td>NaN</td>\n",
       "      <td>NaN</td>\n",
       "      <td>28.00</td>\n",
       "      <td>Чебоксары</td>\n",
       "      <td>ultra</td>\n",
       "    </tr>\n",
       "    <tr>\n",
       "      <th>1542</th>\n",
       "      <td>8.00</td>\n",
       "      <td>1231</td>\n",
       "      <td>180.00</td>\n",
       "      <td>NaN</td>\n",
       "      <td>NaN</td>\n",
       "      <td>32.00</td>\n",
       "      <td>Чебоксары</td>\n",
       "      <td>ultra</td>\n",
       "    </tr>\n",
       "    <tr>\n",
       "      <th>1543</th>\n",
       "      <td>9.00</td>\n",
       "      <td>1231</td>\n",
       "      <td>188.00</td>\n",
       "      <td>NaN</td>\n",
       "      <td>NaN</td>\n",
       "      <td>33.00</td>\n",
       "      <td>Чебоксары</td>\n",
       "      <td>ultra</td>\n",
       "    </tr>\n",
       "    <tr>\n",
       "      <th>1544</th>\n",
       "      <td>10.00</td>\n",
       "      <td>1231</td>\n",
       "      <td>185.00</td>\n",
       "      <td>NaN</td>\n",
       "      <td>NaN</td>\n",
       "      <td>31.00</td>\n",
       "      <td>Чебоксары</td>\n",
       "      <td>ultra</td>\n",
       "    </tr>\n",
       "    <tr>\n",
       "      <th>1545</th>\n",
       "      <td>11.00</td>\n",
       "      <td>1231</td>\n",
       "      <td>173.00</td>\n",
       "      <td>NaN</td>\n",
       "      <td>NaN</td>\n",
       "      <td>27.00</td>\n",
       "      <td>Чебоксары</td>\n",
       "      <td>ultra</td>\n",
       "    </tr>\n",
       "    <tr>\n",
       "      <th>1546</th>\n",
       "      <td>12.00</td>\n",
       "      <td>1231</td>\n",
       "      <td>191.00</td>\n",
       "      <td>NaN</td>\n",
       "      <td>NaN</td>\n",
       "      <td>32.00</td>\n",
       "      <td>Чебоксары</td>\n",
       "      <td>ultra</td>\n",
       "    </tr>\n",
       "    <tr>\n",
       "      <th>2380</th>\n",
       "      <td>8.00</td>\n",
       "      <td>1473</td>\n",
       "      <td>17.00</td>\n",
       "      <td>NaN</td>\n",
       "      <td>NaN</td>\n",
       "      <td>13.00</td>\n",
       "      <td>Красноярск</td>\n",
       "      <td>ultra</td>\n",
       "    </tr>\n",
       "    <tr>\n",
       "      <th>2381</th>\n",
       "      <td>9.00</td>\n",
       "      <td>1473</td>\n",
       "      <td>19.00</td>\n",
       "      <td>NaN</td>\n",
       "      <td>NaN</td>\n",
       "      <td>17.00</td>\n",
       "      <td>Красноярск</td>\n",
       "      <td>ultra</td>\n",
       "    </tr>\n",
       "    <tr>\n",
       "      <th>2382</th>\n",
       "      <td>10.00</td>\n",
       "      <td>1473</td>\n",
       "      <td>20.00</td>\n",
       "      <td>NaN</td>\n",
       "      <td>NaN</td>\n",
       "      <td>14.00</td>\n",
       "      <td>Красноярск</td>\n",
       "      <td>ultra</td>\n",
       "    </tr>\n",
       "    <tr>\n",
       "      <th>2383</th>\n",
       "      <td>11.00</td>\n",
       "      <td>1473</td>\n",
       "      <td>14.00</td>\n",
       "      <td>NaN</td>\n",
       "      <td>NaN</td>\n",
       "      <td>22.00</td>\n",
       "      <td>Красноярск</td>\n",
       "      <td>ultra</td>\n",
       "    </tr>\n",
       "    <tr>\n",
       "      <th>2384</th>\n",
       "      <td>12.00</td>\n",
       "      <td>1473</td>\n",
       "      <td>20.00</td>\n",
       "      <td>NaN</td>\n",
       "      <td>NaN</td>\n",
       "      <td>18.00</td>\n",
       "      <td>Красноярск</td>\n",
       "      <td>ultra</td>\n",
       "    </tr>\n",
       "    <tr>\n",
       "      <th>2395</th>\n",
       "      <td>8.00</td>\n",
       "      <td>1489</td>\n",
       "      <td>17.00</td>\n",
       "      <td>NaN</td>\n",
       "      <td>NaN</td>\n",
       "      <td>11.00</td>\n",
       "      <td>Санкт-Петербург</td>\n",
       "      <td>smart</td>\n",
       "    </tr>\n",
       "    <tr>\n",
       "      <th>2396</th>\n",
       "      <td>9.00</td>\n",
       "      <td>1489</td>\n",
       "      <td>32.00</td>\n",
       "      <td>NaN</td>\n",
       "      <td>NaN</td>\n",
       "      <td>17.00</td>\n",
       "      <td>Санкт-Петербург</td>\n",
       "      <td>smart</td>\n",
       "    </tr>\n",
       "    <tr>\n",
       "      <th>2397</th>\n",
       "      <td>10.00</td>\n",
       "      <td>1489</td>\n",
       "      <td>21.00</td>\n",
       "      <td>NaN</td>\n",
       "      <td>NaN</td>\n",
       "      <td>20.00</td>\n",
       "      <td>Санкт-Петербург</td>\n",
       "      <td>smart</td>\n",
       "    </tr>\n",
       "    <tr>\n",
       "      <th>2398</th>\n",
       "      <td>11.00</td>\n",
       "      <td>1489</td>\n",
       "      <td>20.00</td>\n",
       "      <td>NaN</td>\n",
       "      <td>NaN</td>\n",
       "      <td>18.00</td>\n",
       "      <td>Санкт-Петербург</td>\n",
       "      <td>smart</td>\n",
       "    </tr>\n",
       "    <tr>\n",
       "      <th>2399</th>\n",
       "      <td>12.00</td>\n",
       "      <td>1489</td>\n",
       "      <td>35.00</td>\n",
       "      <td>NaN</td>\n",
       "      <td>NaN</td>\n",
       "      <td>17.00</td>\n",
       "      <td>Санкт-Петербург</td>\n",
       "      <td>smart</td>\n",
       "    </tr>\n",
       "    <tr>\n",
       "      <th>2595</th>\n",
       "      <td>10.00</td>\n",
       "      <td>1328</td>\n",
       "      <td>6.00</td>\n",
       "      <td>NaN</td>\n",
       "      <td>NaN</td>\n",
       "      <td>22.00</td>\n",
       "      <td>Мурманск</td>\n",
       "      <td>ultra</td>\n",
       "    </tr>\n",
       "    <tr>\n",
       "      <th>2596</th>\n",
       "      <td>11.00</td>\n",
       "      <td>1328</td>\n",
       "      <td>8.00</td>\n",
       "      <td>NaN</td>\n",
       "      <td>NaN</td>\n",
       "      <td>35.00</td>\n",
       "      <td>Мурманск</td>\n",
       "      <td>ultra</td>\n",
       "    </tr>\n",
       "    <tr>\n",
       "      <th>2597</th>\n",
       "      <td>12.00</td>\n",
       "      <td>1328</td>\n",
       "      <td>7.00</td>\n",
       "      <td>NaN</td>\n",
       "      <td>NaN</td>\n",
       "      <td>39.00</td>\n",
       "      <td>Мурманск</td>\n",
       "      <td>ultra</td>\n",
       "    </tr>\n",
       "  </tbody>\n",
       "</table>\n",
       "</div>"
      ],
      "text/plain": [
       "      month  user_id  messages  count_calls  spent_minutes  gb_used  \\\n",
       "277    6.00     1373     48.00          NaN            NaN    13.00   \n",
       "1143   4.00     1106      9.00          NaN            NaN     3.00   \n",
       "1144   5.00     1106     28.00          NaN            NaN    17.00   \n",
       "1145   6.00     1106     30.00          NaN            NaN    20.00   \n",
       "1146   7.00     1106     24.00          NaN            NaN    22.00   \n",
       "1147   8.00     1106     25.00          NaN            NaN    19.00   \n",
       "1148   9.00     1106     23.00          NaN            NaN    22.00   \n",
       "1149  10.00     1106     33.00          NaN            NaN    14.00   \n",
       "1150  11.00     1106     29.00          NaN            NaN    21.00   \n",
       "1151  12.00     1106     24.00          NaN            NaN    19.00   \n",
       "1467   5.00     1091     30.00          NaN            NaN    11.00   \n",
       "1468   6.00     1091     30.00          NaN            NaN    10.00   \n",
       "1469   7.00     1091     35.00          NaN            NaN    17.00   \n",
       "1470   8.00     1091     31.00          NaN            NaN    13.00   \n",
       "1471   9.00     1091     32.00          NaN            NaN    17.00   \n",
       "1472  10.00     1091     44.00          NaN            NaN    16.00   \n",
       "1473  11.00     1091     28.00          NaN            NaN    12.00   \n",
       "1474  12.00     1091     42.00          NaN            NaN    13.00   \n",
       "1539   5.00     1231     55.00          NaN            NaN    11.00   \n",
       "1540   6.00     1231    201.00          NaN            NaN    28.00   \n",
       "1541   7.00     1231    211.00          NaN            NaN    28.00   \n",
       "1542   8.00     1231    180.00          NaN            NaN    32.00   \n",
       "1543   9.00     1231    188.00          NaN            NaN    33.00   \n",
       "1544  10.00     1231    185.00          NaN            NaN    31.00   \n",
       "1545  11.00     1231    173.00          NaN            NaN    27.00   \n",
       "1546  12.00     1231    191.00          NaN            NaN    32.00   \n",
       "2380   8.00     1473     17.00          NaN            NaN    13.00   \n",
       "2381   9.00     1473     19.00          NaN            NaN    17.00   \n",
       "2382  10.00     1473     20.00          NaN            NaN    14.00   \n",
       "2383  11.00     1473     14.00          NaN            NaN    22.00   \n",
       "2384  12.00     1473     20.00          NaN            NaN    18.00   \n",
       "2395   8.00     1489     17.00          NaN            NaN    11.00   \n",
       "2396   9.00     1489     32.00          NaN            NaN    17.00   \n",
       "2397  10.00     1489     21.00          NaN            NaN    20.00   \n",
       "2398  11.00     1489     20.00          NaN            NaN    18.00   \n",
       "2399  12.00     1489     35.00          NaN            NaN    17.00   \n",
       "2595  10.00     1328      6.00          NaN            NaN    22.00   \n",
       "2596  11.00     1328      8.00          NaN            NaN    35.00   \n",
       "2597  12.00     1328      7.00          NaN            NaN    39.00   \n",
       "\n",
       "                  city tariff  \n",
       "277           Улан-Удэ  smart  \n",
       "1143            Калуга  ultra  \n",
       "1144            Калуга  ultra  \n",
       "1145            Калуга  ultra  \n",
       "1146            Калуга  ultra  \n",
       "1147            Калуга  ultra  \n",
       "1148            Калуга  ultra  \n",
       "1149            Калуга  ultra  \n",
       "1150            Калуга  ultra  \n",
       "1151            Калуга  ultra  \n",
       "1467  Набережные Челны  ultra  \n",
       "1468  Набережные Челны  ultra  \n",
       "1469  Набережные Челны  ultra  \n",
       "1470  Набережные Челны  ultra  \n",
       "1471  Набережные Челны  ultra  \n",
       "1472  Набережные Челны  ultra  \n",
       "1473  Набережные Челны  ultra  \n",
       "1474  Набережные Челны  ultra  \n",
       "1539         Чебоксары  ultra  \n",
       "1540         Чебоксары  ultra  \n",
       "1541         Чебоксары  ultra  \n",
       "1542         Чебоксары  ultra  \n",
       "1543         Чебоксары  ultra  \n",
       "1544         Чебоксары  ultra  \n",
       "1545         Чебоксары  ultra  \n",
       "1546         Чебоксары  ultra  \n",
       "2380        Красноярск  ultra  \n",
       "2381        Красноярск  ultra  \n",
       "2382        Красноярск  ultra  \n",
       "2383        Красноярск  ultra  \n",
       "2384        Красноярск  ultra  \n",
       "2395   Санкт-Петербург  smart  \n",
       "2396   Санкт-Петербург  smart  \n",
       "2397   Санкт-Петербург  smart  \n",
       "2398   Санкт-Петербург  smart  \n",
       "2399   Санкт-Петербург  smart  \n",
       "2595          Мурманск  ultra  \n",
       "2596          Мурманск  ultra  \n",
       "2597          Мурманск  ultra  "
      ]
     },
     "execution_count": 57,
     "metadata": {},
     "output_type": "execute_result"
    }
   ],
   "source": [
    "general_df[(general_df.count_calls.isna()) & (general_df.messages.notna())]"
   ]
  },
  {
   "cell_type": "code",
   "execution_count": 58,
   "metadata": {},
   "outputs": [
    {
     "name": "stdout",
     "output_type": "stream",
     "text": [
      "Процентное содержание пропусков: month            0.06\n",
      "user_id          0.00\n",
      "messages        15.52\n",
      "count_calls      1.31\n",
      "spent_minutes    1.31\n",
      "gb_used          0.47\n",
      "city             0.00\n",
      "tariff           0.00\n",
      "dtype: float64\n"
     ]
    }
   ],
   "source": [
    "print(\"Процентное содержание пропусков:\", general_df.isnull().mean()*100)"
   ]
  },
  {
   "cell_type": "code",
   "execution_count": 59,
   "metadata": {
    "scrolled": true
   },
   "outputs": [],
   "source": [
    "general_df = general_df.fillna(value=0)"
   ]
  },
  {
   "cell_type": "code",
   "execution_count": 60,
   "metadata": {},
   "outputs": [
    {
     "name": "stdout",
     "output_type": "stream",
     "text": [
      "Процентное содержание пропусков: month           0.00\n",
      "user_id         0.00\n",
      "messages        0.00\n",
      "count_calls     0.00\n",
      "spent_minutes   0.00\n",
      "gb_used         0.00\n",
      "city            0.00\n",
      "tariff          0.00\n",
      "dtype: float64\n"
     ]
    }
   ],
   "source": [
    "print(\"Процентное содержание пропусков:\", general_df.isnull().mean()*100)"
   ]
  },
  {
   "cell_type": "code",
   "execution_count": 61,
   "metadata": {},
   "outputs": [
    {
     "data": {
      "text/html": [
       "<div>\n",
       "<style scoped>\n",
       "    .dataframe tbody tr th:only-of-type {\n",
       "        vertical-align: middle;\n",
       "    }\n",
       "\n",
       "    .dataframe tbody tr th {\n",
       "        vertical-align: top;\n",
       "    }\n",
       "\n",
       "    .dataframe thead th {\n",
       "        text-align: right;\n",
       "    }\n",
       "</style>\n",
       "<table border=\"1\" class=\"dataframe\">\n",
       "  <thead>\n",
       "    <tr style=\"text-align: right;\">\n",
       "      <th></th>\n",
       "      <th>month</th>\n",
       "      <th>user_id</th>\n",
       "      <th>messages</th>\n",
       "      <th>count_calls</th>\n",
       "      <th>spent_minutes</th>\n",
       "      <th>gb_used</th>\n",
       "      <th>city</th>\n",
       "      <th>tariff</th>\n",
       "    </tr>\n",
       "  </thead>\n",
       "  <tbody>\n",
       "    <tr>\n",
       "      <th>0</th>\n",
       "      <td>1.00</td>\n",
       "      <td>1005</td>\n",
       "      <td>7.00</td>\n",
       "      <td>15.00</td>\n",
       "      <td>95.00</td>\n",
       "      <td>3.00</td>\n",
       "      <td>Набережные Челны</td>\n",
       "      <td>smart</td>\n",
       "    </tr>\n",
       "    <tr>\n",
       "      <th>1</th>\n",
       "      <td>2.00</td>\n",
       "      <td>1005</td>\n",
       "      <td>38.00</td>\n",
       "      <td>69.00</td>\n",
       "      <td>456.00</td>\n",
       "      <td>8.00</td>\n",
       "      <td>Набережные Челны</td>\n",
       "      <td>smart</td>\n",
       "    </tr>\n",
       "    <tr>\n",
       "      <th>2</th>\n",
       "      <td>3.00</td>\n",
       "      <td>1005</td>\n",
       "      <td>56.00</td>\n",
       "      <td>77.00</td>\n",
       "      <td>606.00</td>\n",
       "      <td>11.00</td>\n",
       "      <td>Набережные Челны</td>\n",
       "      <td>smart</td>\n",
       "    </tr>\n",
       "    <tr>\n",
       "      <th>3</th>\n",
       "      <td>4.00</td>\n",
       "      <td>1005</td>\n",
       "      <td>41.00</td>\n",
       "      <td>101.00</td>\n",
       "      <td>712.00</td>\n",
       "      <td>10.00</td>\n",
       "      <td>Набережные Челны</td>\n",
       "      <td>smart</td>\n",
       "    </tr>\n",
       "    <tr>\n",
       "      <th>4</th>\n",
       "      <td>5.00</td>\n",
       "      <td>1005</td>\n",
       "      <td>42.00</td>\n",
       "      <td>73.00</td>\n",
       "      <td>595.00</td>\n",
       "      <td>8.00</td>\n",
       "      <td>Набережные Челны</td>\n",
       "      <td>smart</td>\n",
       "    </tr>\n",
       "  </tbody>\n",
       "</table>\n",
       "</div>"
      ],
      "text/plain": [
       "   month  user_id  messages  count_calls  spent_minutes  gb_used  \\\n",
       "0   1.00     1005      7.00        15.00          95.00     3.00   \n",
       "1   2.00     1005     38.00        69.00         456.00     8.00   \n",
       "2   3.00     1005     56.00        77.00         606.00    11.00   \n",
       "3   4.00     1005     41.00       101.00         712.00    10.00   \n",
       "4   5.00     1005     42.00        73.00         595.00     8.00   \n",
       "\n",
       "               city tariff  \n",
       "0  Набережные Челны  smart  \n",
       "1  Набережные Челны  smart  \n",
       "2  Набережные Челны  smart  \n",
       "3  Набережные Челны  smart  \n",
       "4  Набережные Челны  smart  "
      ]
     },
     "execution_count": 61,
     "metadata": {},
     "output_type": "execute_result"
    }
   ],
   "source": [
    "general_df.head(5)"
   ]
  },
  {
   "cell_type": "code",
   "execution_count": 62,
   "metadata": {},
   "outputs": [],
   "source": [
    "general_df['month'] = general_df['month'].drop(np.where(general_df['month'] == 0)[0])"
   ]
  },
  {
   "cell_type": "code",
   "execution_count": 63,
   "metadata": {
    "scrolled": true
   },
   "outputs": [],
   "source": [
    "general_df = general_df.dropna()"
   ]
  },
  {
   "cell_type": "code",
   "execution_count": 64,
   "metadata": {},
   "outputs": [
    {
     "data": {
      "text/html": [
       "<div>\n",
       "<style scoped>\n",
       "    .dataframe tbody tr th:only-of-type {\n",
       "        vertical-align: middle;\n",
       "    }\n",
       "\n",
       "    .dataframe tbody tr th {\n",
       "        vertical-align: top;\n",
       "    }\n",
       "\n",
       "    .dataframe thead th {\n",
       "        text-align: right;\n",
       "    }\n",
       "</style>\n",
       "<table border=\"1\" class=\"dataframe\">\n",
       "  <thead>\n",
       "    <tr style=\"text-align: right;\">\n",
       "      <th></th>\n",
       "      <th>month</th>\n",
       "      <th>user_id</th>\n",
       "      <th>messages</th>\n",
       "      <th>count_calls</th>\n",
       "      <th>spent_minutes</th>\n",
       "      <th>gb_used</th>\n",
       "      <th>city</th>\n",
       "      <th>tariff</th>\n",
       "    </tr>\n",
       "  </thead>\n",
       "  <tbody>\n",
       "    <tr>\n",
       "      <th>0</th>\n",
       "      <td>1.00</td>\n",
       "      <td>1005</td>\n",
       "      <td>7.00</td>\n",
       "      <td>15.00</td>\n",
       "      <td>95.00</td>\n",
       "      <td>3.00</td>\n",
       "      <td>Набережные Челны</td>\n",
       "      <td>smart</td>\n",
       "    </tr>\n",
       "    <tr>\n",
       "      <th>1</th>\n",
       "      <td>2.00</td>\n",
       "      <td>1005</td>\n",
       "      <td>38.00</td>\n",
       "      <td>69.00</td>\n",
       "      <td>456.00</td>\n",
       "      <td>8.00</td>\n",
       "      <td>Набережные Челны</td>\n",
       "      <td>smart</td>\n",
       "    </tr>\n",
       "    <tr>\n",
       "      <th>2</th>\n",
       "      <td>3.00</td>\n",
       "      <td>1005</td>\n",
       "      <td>56.00</td>\n",
       "      <td>77.00</td>\n",
       "      <td>606.00</td>\n",
       "      <td>11.00</td>\n",
       "      <td>Набережные Челны</td>\n",
       "      <td>smart</td>\n",
       "    </tr>\n",
       "    <tr>\n",
       "      <th>3</th>\n",
       "      <td>4.00</td>\n",
       "      <td>1005</td>\n",
       "      <td>41.00</td>\n",
       "      <td>101.00</td>\n",
       "      <td>712.00</td>\n",
       "      <td>10.00</td>\n",
       "      <td>Набережные Челны</td>\n",
       "      <td>smart</td>\n",
       "    </tr>\n",
       "    <tr>\n",
       "      <th>4</th>\n",
       "      <td>5.00</td>\n",
       "      <td>1005</td>\n",
       "      <td>42.00</td>\n",
       "      <td>73.00</td>\n",
       "      <td>595.00</td>\n",
       "      <td>8.00</td>\n",
       "      <td>Набережные Челны</td>\n",
       "      <td>smart</td>\n",
       "    </tr>\n",
       "  </tbody>\n",
       "</table>\n",
       "</div>"
      ],
      "text/plain": [
       "   month  user_id  messages  count_calls  spent_minutes  gb_used  \\\n",
       "0   1.00     1005      7.00        15.00          95.00     3.00   \n",
       "1   2.00     1005     38.00        69.00         456.00     8.00   \n",
       "2   3.00     1005     56.00        77.00         606.00    11.00   \n",
       "3   4.00     1005     41.00       101.00         712.00    10.00   \n",
       "4   5.00     1005     42.00        73.00         595.00     8.00   \n",
       "\n",
       "               city tariff  \n",
       "0  Набережные Челны  smart  \n",
       "1  Набережные Челны  smart  \n",
       "2  Набережные Челны  smart  \n",
       "3  Набережные Челны  smart  \n",
       "4  Набережные Челны  smart  "
      ]
     },
     "execution_count": 64,
     "metadata": {},
     "output_type": "execute_result"
    }
   ],
   "source": [
    "general_df.head(5)"
   ]
  },
  {
   "cell_type": "code",
   "execution_count": 65,
   "metadata": {},
   "outputs": [],
   "source": [
    "df_tariffs['mb_per_month_included'] = df_tariffs['mb_per_month_included']/1024"
   ]
  },
  {
   "cell_type": "code",
   "execution_count": 66,
   "metadata": {},
   "outputs": [],
   "source": [
    "df_tariffs = df_tariffs.rename(columns = {'mb_per_month_included':'gb_per_month_included'})"
   ]
  },
  {
   "cell_type": "code",
   "execution_count": 67,
   "metadata": {},
   "outputs": [],
   "source": [
    "general_df_с = general_df.copy()"
   ]
  },
  {
   "cell_type": "code",
   "execution_count": 68,
   "metadata": {},
   "outputs": [],
   "source": [
    "def income(row):\n",
    "    pay = 0\n",
    "    if row['tariff'] == 'ultra':\n",
    "        pay = pay + df_tariffs['rub_monthly_fee'][1]\n",
    "        if row['spent_minutes'] > df_tariffs['minutes_included'][1]:\n",
    "            pay += ((row['spent_minutes'] - df_tariffs['minutes_included'][1])*df_tariffs['rub_per_minute'][1])\n",
    "        if row['gb_used'] > df_tariffs['gb_per_month_included'][1]:\n",
    "            pay += ((row['gb_used'] - df_tariffs['gb_per_month_included'][1])*df_tariffs['rub_per_gb'][1])\n",
    "        if row['messages'] > df_tariffs['messages_included'][1]:\n",
    "            pay += ((row['messages'] - df_tariffs['messages_included'][1])*df_tariffs['rub_per_message'][1])\n",
    "    else:\n",
    "        pay = pay + df_tariffs['rub_monthly_fee'][0]\n",
    "        if row['spent_minutes'] > df_tariffs['minutes_included'][0]:\n",
    "            pay += ((row['spent_minutes'] - df_tariffs['minutes_included'][0])*df_tariffs['rub_per_minute'][0])\n",
    "        if row['gb_used'] > df_tariffs['gb_per_month_included'][0]:\n",
    "            pay += ((row['gb_used'] - df_tariffs['gb_per_month_included'][0])*df_tariffs['rub_per_gb'][0])\n",
    "        if row['messages'] > df_tariffs['messages_included'][0]:\n",
    "            pay += ((row['messages'] - df_tariffs['messages_included'][0])*df_tariffs['rub_per_message'][0])\n",
    "    return pay\n",
    "\n",
    "general_df_с['pay'] = general_df_с.apply(income, axis=1)\n"
   ]
  },
  {
   "cell_type": "code",
   "execution_count": 69,
   "metadata": {
    "scrolled": true
   },
   "outputs": [
    {
     "data": {
      "text/html": [
       "<div>\n",
       "<style scoped>\n",
       "    .dataframe tbody tr th:only-of-type {\n",
       "        vertical-align: middle;\n",
       "    }\n",
       "\n",
       "    .dataframe tbody tr th {\n",
       "        vertical-align: top;\n",
       "    }\n",
       "\n",
       "    .dataframe thead th {\n",
       "        text-align: right;\n",
       "    }\n",
       "</style>\n",
       "<table border=\"1\" class=\"dataframe\">\n",
       "  <thead>\n",
       "    <tr style=\"text-align: right;\">\n",
       "      <th></th>\n",
       "      <th>month</th>\n",
       "      <th>user_id</th>\n",
       "      <th>messages</th>\n",
       "      <th>count_calls</th>\n",
       "      <th>spent_minutes</th>\n",
       "      <th>gb_used</th>\n",
       "      <th>city</th>\n",
       "      <th>tariff</th>\n",
       "      <th>pay</th>\n",
       "    </tr>\n",
       "  </thead>\n",
       "  <tbody>\n",
       "    <tr>\n",
       "      <th>0</th>\n",
       "      <td>1.00</td>\n",
       "      <td>1005</td>\n",
       "      <td>7.00</td>\n",
       "      <td>15.00</td>\n",
       "      <td>95.00</td>\n",
       "      <td>3.00</td>\n",
       "      <td>Набережные Челны</td>\n",
       "      <td>smart</td>\n",
       "      <td>550.00</td>\n",
       "    </tr>\n",
       "    <tr>\n",
       "      <th>1</th>\n",
       "      <td>2.00</td>\n",
       "      <td>1005</td>\n",
       "      <td>38.00</td>\n",
       "      <td>69.00</td>\n",
       "      <td>456.00</td>\n",
       "      <td>8.00</td>\n",
       "      <td>Набережные Челны</td>\n",
       "      <td>smart</td>\n",
       "      <td>550.00</td>\n",
       "    </tr>\n",
       "    <tr>\n",
       "      <th>2</th>\n",
       "      <td>3.00</td>\n",
       "      <td>1005</td>\n",
       "      <td>56.00</td>\n",
       "      <td>77.00</td>\n",
       "      <td>606.00</td>\n",
       "      <td>11.00</td>\n",
       "      <td>Набережные Челны</td>\n",
       "      <td>smart</td>\n",
       "      <td>886.00</td>\n",
       "    </tr>\n",
       "    <tr>\n",
       "      <th>3</th>\n",
       "      <td>4.00</td>\n",
       "      <td>1005</td>\n",
       "      <td>41.00</td>\n",
       "      <td>101.00</td>\n",
       "      <td>712.00</td>\n",
       "      <td>10.00</td>\n",
       "      <td>Набережные Челны</td>\n",
       "      <td>smart</td>\n",
       "      <td>1,186.00</td>\n",
       "    </tr>\n",
       "    <tr>\n",
       "      <th>4</th>\n",
       "      <td>5.00</td>\n",
       "      <td>1005</td>\n",
       "      <td>42.00</td>\n",
       "      <td>73.00</td>\n",
       "      <td>595.00</td>\n",
       "      <td>8.00</td>\n",
       "      <td>Набережные Челны</td>\n",
       "      <td>smart</td>\n",
       "      <td>835.00</td>\n",
       "    </tr>\n",
       "    <tr>\n",
       "      <th>...</th>\n",
       "      <td>...</td>\n",
       "      <td>...</td>\n",
       "      <td>...</td>\n",
       "      <td>...</td>\n",
       "      <td>...</td>\n",
       "      <td>...</td>\n",
       "      <td>...</td>\n",
       "      <td>...</td>\n",
       "      <td>...</td>\n",
       "    </tr>\n",
       "    <tr>\n",
       "      <th>3209</th>\n",
       "      <td>12.00</td>\n",
       "      <td>1095</td>\n",
       "      <td>0.00</td>\n",
       "      <td>64.00</td>\n",
       "      <td>540.00</td>\n",
       "      <td>18.00</td>\n",
       "      <td>Новосибирск</td>\n",
       "      <td>smart</td>\n",
       "      <td>1,270.00</td>\n",
       "    </tr>\n",
       "    <tr>\n",
       "      <th>3210</th>\n",
       "      <td>12.00</td>\n",
       "      <td>1117</td>\n",
       "      <td>0.00</td>\n",
       "      <td>36.00</td>\n",
       "      <td>282.00</td>\n",
       "      <td>12.00</td>\n",
       "      <td>Тюмень</td>\n",
       "      <td>smart</td>\n",
       "      <td>550.00</td>\n",
       "    </tr>\n",
       "    <tr>\n",
       "      <th>3211</th>\n",
       "      <td>12.00</td>\n",
       "      <td>1129</td>\n",
       "      <td>0.00</td>\n",
       "      <td>60.00</td>\n",
       "      <td>452.00</td>\n",
       "      <td>17.00</td>\n",
       "      <td>Курган</td>\n",
       "      <td>smart</td>\n",
       "      <td>950.00</td>\n",
       "    </tr>\n",
       "    <tr>\n",
       "      <th>3212</th>\n",
       "      <td>12.00</td>\n",
       "      <td>1297</td>\n",
       "      <td>0.00</td>\n",
       "      <td>47.00</td>\n",
       "      <td>404.00</td>\n",
       "      <td>19.00</td>\n",
       "      <td>Иркутск</td>\n",
       "      <td>smart</td>\n",
       "      <td>1,350.00</td>\n",
       "    </tr>\n",
       "    <tr>\n",
       "      <th>3213</th>\n",
       "      <td>12.00</td>\n",
       "      <td>1397</td>\n",
       "      <td>0.00</td>\n",
       "      <td>33.00</td>\n",
       "      <td>232.00</td>\n",
       "      <td>23.00</td>\n",
       "      <td>Воронеж</td>\n",
       "      <td>ultra</td>\n",
       "      <td>1,950.00</td>\n",
       "    </tr>\n",
       "  </tbody>\n",
       "</table>\n",
       "<p>3214 rows × 9 columns</p>\n",
       "</div>"
      ],
      "text/plain": [
       "      month  user_id  messages  count_calls  spent_minutes  gb_used  \\\n",
       "0      1.00     1005      7.00        15.00          95.00     3.00   \n",
       "1      2.00     1005     38.00        69.00         456.00     8.00   \n",
       "2      3.00     1005     56.00        77.00         606.00    11.00   \n",
       "3      4.00     1005     41.00       101.00         712.00    10.00   \n",
       "4      5.00     1005     42.00        73.00         595.00     8.00   \n",
       "...     ...      ...       ...          ...            ...      ...   \n",
       "3209  12.00     1095      0.00        64.00         540.00    18.00   \n",
       "3210  12.00     1117      0.00        36.00         282.00    12.00   \n",
       "3211  12.00     1129      0.00        60.00         452.00    17.00   \n",
       "3212  12.00     1297      0.00        47.00         404.00    19.00   \n",
       "3213  12.00     1397      0.00        33.00         232.00    23.00   \n",
       "\n",
       "                  city tariff      pay  \n",
       "0     Набережные Челны  smart   550.00  \n",
       "1     Набережные Челны  smart   550.00  \n",
       "2     Набережные Челны  smart   886.00  \n",
       "3     Набережные Челны  smart 1,186.00  \n",
       "4     Набережные Челны  smart   835.00  \n",
       "...                ...    ...      ...  \n",
       "3209       Новосибирск  smart 1,270.00  \n",
       "3210            Тюмень  smart   550.00  \n",
       "3211            Курган  smart   950.00  \n",
       "3212           Иркутск  smart 1,350.00  \n",
       "3213           Воронеж  ultra 1,950.00  \n",
       "\n",
       "[3214 rows x 9 columns]"
      ]
     },
     "execution_count": 69,
     "metadata": {},
     "output_type": "execute_result"
    }
   ],
   "source": [
    "general_df_с"
   ]
  },
  {
   "cell_type": "markdown",
   "metadata": {},
   "source": [
    "Все необходимые подсчеты произведены. Приступаем к анализу данных!\n",
    "___\n",
    "All necessary calculations have been made. Let's start analyzing the data!"
   ]
  },
  {
   "cell_type": "code",
   "execution_count": 70,
   "metadata": {},
   "outputs": [
    {
     "data": {
      "text/plain": [
       "4914451.0"
      ]
     },
     "execution_count": 70,
     "metadata": {},
     "output_type": "execute_result"
    }
   ],
   "source": [
    "general_df_с['pay'].sum()"
   ]
  },
  {
   "cell_type": "code",
   "execution_count": 71,
   "metadata": {},
   "outputs": [
    {
     "data": {
      "text/html": [
       "<div>\n",
       "<style scoped>\n",
       "    .dataframe tbody tr th:only-of-type {\n",
       "        vertical-align: middle;\n",
       "    }\n",
       "\n",
       "    .dataframe tbody tr th {\n",
       "        vertical-align: top;\n",
       "    }\n",
       "\n",
       "    .dataframe thead th {\n",
       "        text-align: right;\n",
       "    }\n",
       "</style>\n",
       "<table border=\"1\" class=\"dataframe\">\n",
       "  <thead>\n",
       "    <tr style=\"text-align: right;\">\n",
       "      <th></th>\n",
       "      <th>month</th>\n",
       "      <th>user_id</th>\n",
       "      <th>messages</th>\n",
       "      <th>count_calls</th>\n",
       "      <th>spent_minutes</th>\n",
       "      <th>gb_used</th>\n",
       "      <th>city</th>\n",
       "      <th>tariff</th>\n",
       "      <th>pay</th>\n",
       "    </tr>\n",
       "  </thead>\n",
       "  <tbody>\n",
       "    <tr>\n",
       "      <th>2</th>\n",
       "      <td>3.00</td>\n",
       "      <td>1005</td>\n",
       "      <td>56.00</td>\n",
       "      <td>77.00</td>\n",
       "      <td>606.00</td>\n",
       "      <td>11.00</td>\n",
       "      <td>Набережные Челны</td>\n",
       "      <td>smart</td>\n",
       "      <td>886.00</td>\n",
       "    </tr>\n",
       "    <tr>\n",
       "      <th>3</th>\n",
       "      <td>4.00</td>\n",
       "      <td>1005</td>\n",
       "      <td>41.00</td>\n",
       "      <td>101.00</td>\n",
       "      <td>712.00</td>\n",
       "      <td>10.00</td>\n",
       "      <td>Набережные Челны</td>\n",
       "      <td>smart</td>\n",
       "      <td>1,186.00</td>\n",
       "    </tr>\n",
       "    <tr>\n",
       "      <th>4</th>\n",
       "      <td>5.00</td>\n",
       "      <td>1005</td>\n",
       "      <td>42.00</td>\n",
       "      <td>73.00</td>\n",
       "      <td>595.00</td>\n",
       "      <td>8.00</td>\n",
       "      <td>Набережные Челны</td>\n",
       "      <td>smart</td>\n",
       "      <td>835.00</td>\n",
       "    </tr>\n",
       "    <tr>\n",
       "      <th>5</th>\n",
       "      <td>6.00</td>\n",
       "      <td>1005</td>\n",
       "      <td>47.00</td>\n",
       "      <td>80.00</td>\n",
       "      <td>612.00</td>\n",
       "      <td>10.00</td>\n",
       "      <td>Набережные Челны</td>\n",
       "      <td>smart</td>\n",
       "      <td>886.00</td>\n",
       "    </tr>\n",
       "    <tr>\n",
       "      <th>6</th>\n",
       "      <td>7.00</td>\n",
       "      <td>1005</td>\n",
       "      <td>56.00</td>\n",
       "      <td>77.00</td>\n",
       "      <td>569.00</td>\n",
       "      <td>8.00</td>\n",
       "      <td>Набережные Челны</td>\n",
       "      <td>smart</td>\n",
       "      <td>775.00</td>\n",
       "    </tr>\n",
       "    <tr>\n",
       "      <th>...</th>\n",
       "      <td>...</td>\n",
       "      <td>...</td>\n",
       "      <td>...</td>\n",
       "      <td>...</td>\n",
       "      <td>...</td>\n",
       "      <td>...</td>\n",
       "      <td>...</td>\n",
       "      <td>...</td>\n",
       "      <td>...</td>\n",
       "    </tr>\n",
       "    <tr>\n",
       "      <th>3193</th>\n",
       "      <td>12.00</td>\n",
       "      <td>1305</td>\n",
       "      <td>0.00</td>\n",
       "      <td>87.00</td>\n",
       "      <td>645.00</td>\n",
       "      <td>21.00</td>\n",
       "      <td>Москва</td>\n",
       "      <td>smart</td>\n",
       "      <td>2,185.00</td>\n",
       "    </tr>\n",
       "    <tr>\n",
       "      <th>3195</th>\n",
       "      <td>11.00</td>\n",
       "      <td>1462</td>\n",
       "      <td>0.00</td>\n",
       "      <td>126.00</td>\n",
       "      <td>933.00</td>\n",
       "      <td>23.00</td>\n",
       "      <td>Тольятти</td>\n",
       "      <td>smart</td>\n",
       "      <td>3,449.00</td>\n",
       "    </tr>\n",
       "    <tr>\n",
       "      <th>3196</th>\n",
       "      <td>12.00</td>\n",
       "      <td>1462</td>\n",
       "      <td>0.00</td>\n",
       "      <td>136.00</td>\n",
       "      <td>878.00</td>\n",
       "      <td>24.00</td>\n",
       "      <td>Тольятти</td>\n",
       "      <td>smart</td>\n",
       "      <td>3,484.00</td>\n",
       "    </tr>\n",
       "    <tr>\n",
       "      <th>3200</th>\n",
       "      <td>12.00</td>\n",
       "      <td>1220</td>\n",
       "      <td>0.00</td>\n",
       "      <td>102.00</td>\n",
       "      <td>766.00</td>\n",
       "      <td>21.00</td>\n",
       "      <td>Ростов-на-Дону</td>\n",
       "      <td>smart</td>\n",
       "      <td>2,548.00</td>\n",
       "    </tr>\n",
       "    <tr>\n",
       "      <th>3209</th>\n",
       "      <td>12.00</td>\n",
       "      <td>1095</td>\n",
       "      <td>0.00</td>\n",
       "      <td>64.00</td>\n",
       "      <td>540.00</td>\n",
       "      <td>18.00</td>\n",
       "      <td>Новосибирск</td>\n",
       "      <td>smart</td>\n",
       "      <td>1,270.00</td>\n",
       "    </tr>\n",
       "  </tbody>\n",
       "</table>\n",
       "<p>1269 rows × 9 columns</p>\n",
       "</div>"
      ],
      "text/plain": [
       "      month  user_id  messages  count_calls  spent_minutes  gb_used  \\\n",
       "2      3.00     1005     56.00        77.00         606.00    11.00   \n",
       "3      4.00     1005     41.00       101.00         712.00    10.00   \n",
       "4      5.00     1005     42.00        73.00         595.00     8.00   \n",
       "5      6.00     1005     47.00        80.00         612.00    10.00   \n",
       "6      7.00     1005     56.00        77.00         569.00     8.00   \n",
       "...     ...      ...       ...          ...            ...      ...   \n",
       "3193  12.00     1305      0.00        87.00         645.00    21.00   \n",
       "3195  11.00     1462      0.00       126.00         933.00    23.00   \n",
       "3196  12.00     1462      0.00       136.00         878.00    24.00   \n",
       "3200  12.00     1220      0.00       102.00         766.00    21.00   \n",
       "3209  12.00     1095      0.00        64.00         540.00    18.00   \n",
       "\n",
       "                  city tariff      pay  \n",
       "2     Набережные Челны  smart   886.00  \n",
       "3     Набережные Челны  smart 1,186.00  \n",
       "4     Набережные Челны  smart   835.00  \n",
       "5     Набережные Челны  smart   886.00  \n",
       "6     Набережные Челны  smart   775.00  \n",
       "...                ...    ...      ...  \n",
       "3193            Москва  smart 2,185.00  \n",
       "3195          Тольятти  smart 3,449.00  \n",
       "3196          Тольятти  smart 3,484.00  \n",
       "3200    Ростов-на-Дону  smart 2,548.00  \n",
       "3209       Новосибирск  smart 1,270.00  \n",
       "\n",
       "[1269 rows x 9 columns]"
      ]
     },
     "execution_count": 71,
     "metadata": {},
     "output_type": "execute_result"
    }
   ],
   "source": [
    "general_df_с[general_df_с['spent_minutes'] > 500]"
   ]
  },
  {
   "cell_type": "code",
   "execution_count": 72,
   "metadata": {},
   "outputs": [
    {
     "data": {
      "text/html": [
       "<div>\n",
       "<style scoped>\n",
       "    .dataframe tbody tr th:only-of-type {\n",
       "        vertical-align: middle;\n",
       "    }\n",
       "\n",
       "    .dataframe tbody tr th {\n",
       "        vertical-align: top;\n",
       "    }\n",
       "\n",
       "    .dataframe thead th {\n",
       "        text-align: right;\n",
       "    }\n",
       "</style>\n",
       "<table border=\"1\" class=\"dataframe\">\n",
       "  <thead>\n",
       "    <tr style=\"text-align: right;\">\n",
       "      <th></th>\n",
       "      <th>month</th>\n",
       "      <th>user_id</th>\n",
       "      <th>messages</th>\n",
       "      <th>count_calls</th>\n",
       "      <th>spent_minutes</th>\n",
       "      <th>gb_used</th>\n",
       "      <th>city</th>\n",
       "      <th>tariff</th>\n",
       "      <th>pay</th>\n",
       "    </tr>\n",
       "  </thead>\n",
       "  <tbody>\n",
       "    <tr>\n",
       "      <th>2518</th>\n",
       "      <td>11.00</td>\n",
       "      <td>1499</td>\n",
       "      <td>59.00</td>\n",
       "      <td>74.00</td>\n",
       "      <td>612.00</td>\n",
       "      <td>18.00</td>\n",
       "      <td>Пермь</td>\n",
       "      <td>smart</td>\n",
       "      <td>1,513.00</td>\n",
       "    </tr>\n",
       "  </tbody>\n",
       "</table>\n",
       "</div>"
      ],
      "text/plain": [
       "      month  user_id  messages  count_calls  spent_minutes  gb_used   city  \\\n",
       "2518  11.00     1499     59.00        74.00         612.00    18.00  Пермь   \n",
       "\n",
       "     tariff      pay  \n",
       "2518  smart 1,513.00  "
      ]
     },
     "execution_count": 72,
     "metadata": {},
     "output_type": "execute_result"
    }
   ],
   "source": [
    "general_df_с[(general_df_с['spent_minutes'] > 500) & (general_df_с['user_id'] == 1499)]"
   ]
  },
  {
   "cell_type": "markdown",
   "metadata": {},
   "source": [
    "## 4. Анализ данных\n",
    "___\n",
    "## 4. Data analysis"
   ]
  },
  {
   "cell_type": "markdown",
   "metadata": {},
   "source": [
    "Описание поведения клиентов оператора, исходя из выборки.\n",
    "___\n",
    "Description of the behavior of the operator's clients, based on the sample."
   ]
  },
  {
   "cell_type": "markdown",
   "metadata": {},
   "source": [
    "Сколько минут разговора, сколько сообщений и какой объём интернет-трафика требуется пользователям каждого тарифа в месяц?\n",
    "___\n",
    "How many minutes of conversation, how many messages and how much Internet traffic do users of each tariff need per month?"
   ]
  },
  {
   "cell_type": "code",
   "execution_count": 73,
   "metadata": {},
   "outputs": [
    {
     "data": {
      "text/html": [
       "<div>\n",
       "<style scoped>\n",
       "    .dataframe tbody tr th:only-of-type {\n",
       "        vertical-align: middle;\n",
       "    }\n",
       "\n",
       "    .dataframe tbody tr th {\n",
       "        vertical-align: top;\n",
       "    }\n",
       "\n",
       "    .dataframe thead th {\n",
       "        text-align: right;\n",
       "    }\n",
       "</style>\n",
       "<table border=\"1\" class=\"dataframe\">\n",
       "  <thead>\n",
       "    <tr style=\"text-align: right;\">\n",
       "      <th></th>\n",
       "      <th></th>\n",
       "      <th>gb_used</th>\n",
       "      <th>messages</th>\n",
       "      <th>spent_minutes</th>\n",
       "    </tr>\n",
       "    <tr>\n",
       "      <th>month</th>\n",
       "      <th>tariff</th>\n",
       "      <th></th>\n",
       "      <th></th>\n",
       "      <th></th>\n",
       "    </tr>\n",
       "  </thead>\n",
       "  <tbody>\n",
       "    <tr>\n",
       "      <th rowspan=\"2\" valign=\"top\">1.00</th>\n",
       "      <th>smart</th>\n",
       "      <td>297.00</td>\n",
       "      <td>620.00</td>\n",
       "      <td>6,931.00</td>\n",
       "    </tr>\n",
       "    <tr>\n",
       "      <th>ultra</th>\n",
       "      <td>119.00</td>\n",
       "      <td>304.00</td>\n",
       "      <td>3,853.00</td>\n",
       "    </tr>\n",
       "    <tr>\n",
       "      <th rowspan=\"2\" valign=\"top\">2.00</th>\n",
       "      <th>smart</th>\n",
       "      <td>687.00</td>\n",
       "      <td>1,397.00</td>\n",
       "      <td>17,324.00</td>\n",
       "    </tr>\n",
       "    <tr>\n",
       "      <th>ultra</th>\n",
       "      <td>288.00</td>\n",
       "      <td>527.00</td>\n",
       "      <td>7,131.00</td>\n",
       "    </tr>\n",
       "    <tr>\n",
       "      <th rowspan=\"2\" valign=\"top\">3.00</th>\n",
       "      <th>smart</th>\n",
       "      <td>1,173.00</td>\n",
       "      <td>2,453.00</td>\n",
       "      <td>30,034.00</td>\n",
       "    </tr>\n",
       "    <tr>\n",
       "      <th>ultra</th>\n",
       "      <td>653.00</td>\n",
       "      <td>1,195.00</td>\n",
       "      <td>18,117.00</td>\n",
       "    </tr>\n",
       "    <tr>\n",
       "      <th rowspan=\"2\" valign=\"top\">4.00</th>\n",
       "      <th>smart</th>\n",
       "      <td>1,526.00</td>\n",
       "      <td>3,443.00</td>\n",
       "      <td>41,119.00</td>\n",
       "    </tr>\n",
       "    <tr>\n",
       "      <th>ultra</th>\n",
       "      <td>933.00</td>\n",
       "      <td>1,736.00</td>\n",
       "      <td>25,191.00</td>\n",
       "    </tr>\n",
       "    <tr>\n",
       "      <th rowspan=\"2\" valign=\"top\">5.00</th>\n",
       "      <th>smart</th>\n",
       "      <td>2,243.00</td>\n",
       "      <td>4,762.00</td>\n",
       "      <td>54,618.00</td>\n",
       "    </tr>\n",
       "    <tr>\n",
       "      <th>ultra</th>\n",
       "      <td>1,298.00</td>\n",
       "      <td>2,536.00</td>\n",
       "      <td>34,192.00</td>\n",
       "    </tr>\n",
       "    <tr>\n",
       "      <th rowspan=\"2\" valign=\"top\">6.00</th>\n",
       "      <th>smart</th>\n",
       "      <td>2,616.00</td>\n",
       "      <td>5,478.00</td>\n",
       "      <td>64,885.00</td>\n",
       "    </tr>\n",
       "    <tr>\n",
       "      <th>ultra</th>\n",
       "      <td>1,591.00</td>\n",
       "      <td>3,505.00</td>\n",
       "      <td>40,295.00</td>\n",
       "    </tr>\n",
       "    <tr>\n",
       "      <th rowspan=\"2\" valign=\"top\">7.00</th>\n",
       "      <th>smart</th>\n",
       "      <td>3,191.00</td>\n",
       "      <td>6,784.00</td>\n",
       "      <td>82,079.00</td>\n",
       "    </tr>\n",
       "    <tr>\n",
       "      <th>ultra</th>\n",
       "      <td>1,866.00</td>\n",
       "      <td>4,536.00</td>\n",
       "      <td>49,667.00</td>\n",
       "    </tr>\n",
       "    <tr>\n",
       "      <th rowspan=\"2\" valign=\"top\">8.00</th>\n",
       "      <th>smart</th>\n",
       "      <td>3,933.00</td>\n",
       "      <td>7,905.00</td>\n",
       "      <td>99,045.00</td>\n",
       "    </tr>\n",
       "    <tr>\n",
       "      <th>ultra</th>\n",
       "      <td>2,097.00</td>\n",
       "      <td>5,183.00</td>\n",
       "      <td>54,653.00</td>\n",
       "    </tr>\n",
       "    <tr>\n",
       "      <th rowspan=\"2\" valign=\"top\">9.00</th>\n",
       "      <th>smart</th>\n",
       "      <td>4,262.00</td>\n",
       "      <td>8,746.00</td>\n",
       "      <td>111,439.00</td>\n",
       "    </tr>\n",
       "    <tr>\n",
       "      <th>ultra</th>\n",
       "      <td>2,213.00</td>\n",
       "      <td>6,013.00</td>\n",
       "      <td>62,036.00</td>\n",
       "    </tr>\n",
       "    <tr>\n",
       "      <th rowspan=\"2\" valign=\"top\">10.00</th>\n",
       "      <th>smart</th>\n",
       "      <td>4,963.00</td>\n",
       "      <td>9,927.00</td>\n",
       "      <td>125,284.00</td>\n",
       "    </tr>\n",
       "    <tr>\n",
       "      <th>ultra</th>\n",
       "      <td>2,468.00</td>\n",
       "      <td>7,187.00</td>\n",
       "      <td>68,644.00</td>\n",
       "    </tr>\n",
       "    <tr>\n",
       "      <th rowspan=\"2\" valign=\"top\">11.00</th>\n",
       "      <th>smart</th>\n",
       "      <td>5,372.00</td>\n",
       "      <td>10,768.00</td>\n",
       "      <td>137,544.00</td>\n",
       "    </tr>\n",
       "    <tr>\n",
       "      <th>ultra</th>\n",
       "      <td>2,654.00</td>\n",
       "      <td>7,476.00</td>\n",
       "      <td>72,545.00</td>\n",
       "    </tr>\n",
       "    <tr>\n",
       "      <th rowspan=\"2\" valign=\"top\">12.00</th>\n",
       "      <th>smart</th>\n",
       "      <td>6,134.00</td>\n",
       "      <td>12,130.00</td>\n",
       "      <td>161,275.00</td>\n",
       "    </tr>\n",
       "    <tr>\n",
       "      <th>ultra</th>\n",
       "      <td>3,022.00</td>\n",
       "      <td>8,425.00</td>\n",
       "      <td>82,400.00</td>\n",
       "    </tr>\n",
       "  </tbody>\n",
       "</table>\n",
       "</div>"
      ],
      "text/plain": [
       "              gb_used  messages  spent_minutes\n",
       "month tariff                                  \n",
       "1.00  smart    297.00    620.00       6,931.00\n",
       "      ultra    119.00    304.00       3,853.00\n",
       "2.00  smart    687.00  1,397.00      17,324.00\n",
       "      ultra    288.00    527.00       7,131.00\n",
       "3.00  smart  1,173.00  2,453.00      30,034.00\n",
       "      ultra    653.00  1,195.00      18,117.00\n",
       "4.00  smart  1,526.00  3,443.00      41,119.00\n",
       "      ultra    933.00  1,736.00      25,191.00\n",
       "5.00  smart  2,243.00  4,762.00      54,618.00\n",
       "      ultra  1,298.00  2,536.00      34,192.00\n",
       "6.00  smart  2,616.00  5,478.00      64,885.00\n",
       "      ultra  1,591.00  3,505.00      40,295.00\n",
       "7.00  smart  3,191.00  6,784.00      82,079.00\n",
       "      ultra  1,866.00  4,536.00      49,667.00\n",
       "8.00  smart  3,933.00  7,905.00      99,045.00\n",
       "      ultra  2,097.00  5,183.00      54,653.00\n",
       "9.00  smart  4,262.00  8,746.00     111,439.00\n",
       "      ultra  2,213.00  6,013.00      62,036.00\n",
       "10.00 smart  4,963.00  9,927.00     125,284.00\n",
       "      ultra  2,468.00  7,187.00      68,644.00\n",
       "11.00 smart  5,372.00 10,768.00     137,544.00\n",
       "      ultra  2,654.00  7,476.00      72,545.00\n",
       "12.00 smart  6,134.00 12,130.00     161,275.00\n",
       "      ultra  3,022.00  8,425.00      82,400.00"
      ]
     },
     "execution_count": 73,
     "metadata": {},
     "output_type": "execute_result"
    }
   ],
   "source": [
    "av_general_df = general_df_с.pivot_table(index=['month', 'tariff'], values=['spent_minutes', 'messages', 'gb_used'],  aggfunc={'spent_minutes': 'sum', 'messages': 'sum', 'gb_used': 'sum'})\n",
    "av_general_df"
   ]
  },
  {
   "cell_type": "markdown",
   "metadata": {},
   "source": [
    "Подсчет среднего количества, дисперсии и стандартного отклонения.\n",
    "___\n",
    "Calculation of the mean, variance and standard deviation."
   ]
  },
  {
   "cell_type": "code",
   "execution_count": 74,
   "metadata": {
    "scrolled": true
   },
   "outputs": [
    {
     "data": {
      "text/html": [
       "<div>\n",
       "<style scoped>\n",
       "    .dataframe tbody tr th:only-of-type {\n",
       "        vertical-align: middle;\n",
       "    }\n",
       "\n",
       "    .dataframe tbody tr th {\n",
       "        vertical-align: top;\n",
       "    }\n",
       "\n",
       "    .dataframe thead tr th {\n",
       "        text-align: left;\n",
       "    }\n",
       "\n",
       "    .dataframe thead tr:last-of-type th {\n",
       "        text-align: right;\n",
       "    }\n",
       "</style>\n",
       "<table border=\"1\" class=\"dataframe\">\n",
       "  <thead>\n",
       "    <tr>\n",
       "      <th></th>\n",
       "      <th colspan=\"2\" halign=\"left\">month</th>\n",
       "      <th colspan=\"2\" halign=\"left\">user_id</th>\n",
       "      <th colspan=\"2\" halign=\"left\">messages</th>\n",
       "      <th colspan=\"2\" halign=\"left\">count_calls</th>\n",
       "      <th colspan=\"2\" halign=\"left\">spent_minutes</th>\n",
       "      <th colspan=\"2\" halign=\"left\">gb_used</th>\n",
       "      <th colspan=\"2\" halign=\"left\">pay</th>\n",
       "    </tr>\n",
       "    <tr>\n",
       "      <th></th>\n",
       "      <th>var</th>\n",
       "      <th>std</th>\n",
       "      <th>var</th>\n",
       "      <th>std</th>\n",
       "      <th>var</th>\n",
       "      <th>std</th>\n",
       "      <th>var</th>\n",
       "      <th>std</th>\n",
       "      <th>var</th>\n",
       "      <th>std</th>\n",
       "      <th>var</th>\n",
       "      <th>std</th>\n",
       "      <th>var</th>\n",
       "      <th>std</th>\n",
       "    </tr>\n",
       "    <tr>\n",
       "      <th>tariff</th>\n",
       "      <th></th>\n",
       "      <th></th>\n",
       "      <th></th>\n",
       "      <th></th>\n",
       "      <th></th>\n",
       "      <th></th>\n",
       "      <th></th>\n",
       "      <th></th>\n",
       "      <th></th>\n",
       "      <th></th>\n",
       "      <th></th>\n",
       "      <th></th>\n",
       "      <th></th>\n",
       "      <th></th>\n",
       "    </tr>\n",
       "  </thead>\n",
       "  <tbody>\n",
       "    <tr>\n",
       "      <th>smart</th>\n",
       "      <td>8.53</td>\n",
       "      <td>2.92</td>\n",
       "      <td>21,350.91</td>\n",
       "      <td>146.12</td>\n",
       "      <td>796.81</td>\n",
       "      <td>28.23</td>\n",
       "      <td>672.88</td>\n",
       "      <td>25.94</td>\n",
       "      <td>36,219.32</td>\n",
       "      <td>190.31</td>\n",
       "      <td>33.03</td>\n",
       "      <td>5.75</td>\n",
       "      <td>669,785.71</td>\n",
       "      <td>818.40</td>\n",
       "    </tr>\n",
       "    <tr>\n",
       "      <th>ultra</th>\n",
       "      <td>8.25</td>\n",
       "      <td>2.87</td>\n",
       "      <td>19,795.06</td>\n",
       "      <td>140.69</td>\n",
       "      <td>2,285.27</td>\n",
       "      <td>47.80</td>\n",
       "      <td>1,928.69</td>\n",
       "      <td>43.92</td>\n",
       "      <td>100,873.63</td>\n",
       "      <td>317.61</td>\n",
       "      <td>97.09</td>\n",
       "      <td>9.85</td>\n",
       "      <td>141,516.75</td>\n",
       "      <td>376.19</td>\n",
       "    </tr>\n",
       "  </tbody>\n",
       "</table>\n",
       "</div>"
      ],
      "text/plain": [
       "       month        user_id        messages       count_calls        \\\n",
       "         var  std       var    std      var   std         var   std   \n",
       "tariff                                                                \n",
       "smart   8.53 2.92 21,350.91 146.12   796.81 28.23      672.88 25.94   \n",
       "ultra   8.25 2.87 19,795.06 140.69 2,285.27 47.80    1,928.69 43.92   \n",
       "\n",
       "       spent_minutes        gb_used             pay         \n",
       "                 var    std     var  std        var    std  \n",
       "tariff                                                      \n",
       "smart      36,219.32 190.31   33.03 5.75 669,785.71 818.40  \n",
       "ultra     100,873.63 317.61   97.09 9.85 141,516.75 376.19  "
      ]
     },
     "execution_count": 74,
     "metadata": {},
     "output_type": "execute_result"
    }
   ],
   "source": [
    "general_df_с.groupby(['tariff']).agg(['var', 'std'])"
   ]
  },
  {
   "cell_type": "markdown",
   "metadata": {},
   "source": [
    "Визуализация с помощью гистограмм. \n",
    "___\n",
    "Visualization with histograms."
   ]
  },
  {
   "cell_type": "code",
   "execution_count": 75,
   "metadata": {
    "scrolled": true
   },
   "outputs": [
    {
     "data": {
      "text/html": [
       "<div>\n",
       "<style scoped>\n",
       "    .dataframe tbody tr th:only-of-type {\n",
       "        vertical-align: middle;\n",
       "    }\n",
       "\n",
       "    .dataframe tbody tr th {\n",
       "        vertical-align: top;\n",
       "    }\n",
       "\n",
       "    .dataframe thead th {\n",
       "        text-align: right;\n",
       "    }\n",
       "</style>\n",
       "<table border=\"1\" class=\"dataframe\">\n",
       "  <thead>\n",
       "    <tr style=\"text-align: right;\">\n",
       "      <th></th>\n",
       "      <th>month</th>\n",
       "      <th>user_id</th>\n",
       "      <th>messages</th>\n",
       "      <th>count_calls</th>\n",
       "      <th>spent_minutes</th>\n",
       "      <th>gb_used</th>\n",
       "      <th>city</th>\n",
       "      <th>tariff</th>\n",
       "      <th>pay</th>\n",
       "    </tr>\n",
       "  </thead>\n",
       "  <tbody>\n",
       "    <tr>\n",
       "      <th>0</th>\n",
       "      <td>1.00</td>\n",
       "      <td>1005</td>\n",
       "      <td>7.00</td>\n",
       "      <td>15.00</td>\n",
       "      <td>95.00</td>\n",
       "      <td>3.00</td>\n",
       "      <td>Набережные Челны</td>\n",
       "      <td>smart</td>\n",
       "      <td>550.00</td>\n",
       "    </tr>\n",
       "    <tr>\n",
       "      <th>1</th>\n",
       "      <td>2.00</td>\n",
       "      <td>1005</td>\n",
       "      <td>38.00</td>\n",
       "      <td>69.00</td>\n",
       "      <td>456.00</td>\n",
       "      <td>8.00</td>\n",
       "      <td>Набережные Челны</td>\n",
       "      <td>smart</td>\n",
       "      <td>550.00</td>\n",
       "    </tr>\n",
       "    <tr>\n",
       "      <th>2</th>\n",
       "      <td>3.00</td>\n",
       "      <td>1005</td>\n",
       "      <td>56.00</td>\n",
       "      <td>77.00</td>\n",
       "      <td>606.00</td>\n",
       "      <td>11.00</td>\n",
       "      <td>Набережные Челны</td>\n",
       "      <td>smart</td>\n",
       "      <td>886.00</td>\n",
       "    </tr>\n",
       "    <tr>\n",
       "      <th>3</th>\n",
       "      <td>4.00</td>\n",
       "      <td>1005</td>\n",
       "      <td>41.00</td>\n",
       "      <td>101.00</td>\n",
       "      <td>712.00</td>\n",
       "      <td>10.00</td>\n",
       "      <td>Набережные Челны</td>\n",
       "      <td>smart</td>\n",
       "      <td>1,186.00</td>\n",
       "    </tr>\n",
       "    <tr>\n",
       "      <th>4</th>\n",
       "      <td>5.00</td>\n",
       "      <td>1005</td>\n",
       "      <td>42.00</td>\n",
       "      <td>73.00</td>\n",
       "      <td>595.00</td>\n",
       "      <td>8.00</td>\n",
       "      <td>Набережные Челны</td>\n",
       "      <td>smart</td>\n",
       "      <td>835.00</td>\n",
       "    </tr>\n",
       "  </tbody>\n",
       "</table>\n",
       "</div>"
      ],
      "text/plain": [
       "   month  user_id  messages  count_calls  spent_minutes  gb_used  \\\n",
       "0   1.00     1005      7.00        15.00          95.00     3.00   \n",
       "1   2.00     1005     38.00        69.00         456.00     8.00   \n",
       "2   3.00     1005     56.00        77.00         606.00    11.00   \n",
       "3   4.00     1005     41.00       101.00         712.00    10.00   \n",
       "4   5.00     1005     42.00        73.00         595.00     8.00   \n",
       "\n",
       "               city tariff      pay  \n",
       "0  Набережные Челны  smart   550.00  \n",
       "1  Набережные Челны  smart   550.00  \n",
       "2  Набережные Челны  smart   886.00  \n",
       "3  Набережные Челны  smart 1,186.00  \n",
       "4  Набережные Челны  smart   835.00  "
      ]
     },
     "execution_count": 75,
     "metadata": {},
     "output_type": "execute_result"
    }
   ],
   "source": [
    "general_df_с.head(5)"
   ]
  },
  {
   "cell_type": "code",
   "execution_count": 76,
   "metadata": {},
   "outputs": [],
   "source": [
    "general_df_с = general_df_с.astype({\"month\":\"int32\", \"messages\":\"int32\", \"count_calls\":\"int32\", \"spent_minutes\":\"int32\", \"gb_used\":\"int32\", \"pay\":\"int32\"})"
   ]
  },
  {
   "cell_type": "code",
   "execution_count": 77,
   "metadata": {},
   "outputs": [
    {
     "data": {
      "image/png": "[encoded data removed]",
      "text/plain": [
       "<Figure size 432x288 with 2 Axes>"
      ]
     },
     "metadata": {
      "needs_background": "light"
     },
     "output_type": "display_data"
    }
   ],
   "source": [
    "general_df_с.hist(column='spent_minutes', by='tariff', bins=100, sharey = True) ;"
   ]
  },
  {
   "cell_type": "code",
   "execution_count": 78,
   "metadata": {},
   "outputs": [
    {
     "data": {
      "text/plain": [
       "count     985.00\n",
       "mean      526.62\n",
       "std       317.61\n",
       "min         0.00\n",
       "25%       284.00\n",
       "50%       518.00\n",
       "75%       752.00\n",
       "max     1,673.00\n",
       "Name: spent_minutes, dtype: float64"
      ]
     },
     "execution_count": 78,
     "metadata": {},
     "output_type": "execute_result"
    }
   ],
   "source": [
    "general_df_с.query('tariff == \"ultra\"')['spent_minutes'].describe()"
   ]
  },
  {
   "cell_type": "code",
   "execution_count": 79,
   "metadata": {
    "scrolled": true
   },
   "outputs": [
    {
     "data": {
      "text/plain": [
       "count   2,229.00\n",
       "mean      417.93\n",
       "std       190.31\n",
       "min         0.00\n",
       "25%       282.00\n",
       "50%       422.00\n",
       "75%       545.00\n",
       "max     1,435.00\n",
       "Name: spent_minutes, dtype: float64"
      ]
     },
     "execution_count": 79,
     "metadata": {},
     "output_type": "execute_result"
    }
   ],
   "source": [
    "general_df_с.query('tariff == \"smart\"')['spent_minutes'].describe()"
   ]
  },
  {
   "cell_type": "markdown",
   "metadata": {},
   "source": [
    "Из гистограмм видно нормальное распределение информации с пиком в области значения количества минут, равном 500. Визуальные данные подтверждаются усредненными данными. \n",
    "Однако стоит отметить, что клиенты с тарифом **ultra** используют большее количество минут в среднем - 557 (в сравнении с 421 при **smart**).\n",
    "___\n",
    "The histograms show a normal distribution of information with a peak in the area of the number of minutes value equal to 500. The visual data is confirmed by the averaged data.\n",
    "However, it is worth noting that **ultra** customers use more minutes on average - 557 (compared to 421 with **smart**)."
   ]
  },
  {
   "cell_type": "code",
   "execution_count": 80,
   "metadata": {},
   "outputs": [
    {
     "data": {
      "image/png": "[encoded data removed]",
      "text/plain": [
       "<Figure size 432x288 with 2 Axes>"
      ]
     },
     "metadata": {
      "needs_background": "light"
     },
     "output_type": "display_data"
    }
   ],
   "source": [
    "general_df_с.hist(column='messages', by='tariff', bins=100, sharey = True) ;"
   ]
  },
  {
   "cell_type": "code",
   "execution_count": 81,
   "metadata": {},
   "outputs": [
    {
     "data": {
      "text/plain": [
       "count   985.00\n",
       "mean     49.36\n",
       "std      47.80\n",
       "min       0.00\n",
       "25%       6.00\n",
       "50%      38.00\n",
       "75%      79.00\n",
       "max     224.00\n",
       "Name: messages, dtype: float64"
      ]
     },
     "execution_count": 81,
     "metadata": {},
     "output_type": "execute_result"
    }
   ],
   "source": [
    "general_df_с.query('tariff == \"ultra\"')['messages'].describe()"
   ]
  },
  {
   "cell_type": "code",
   "execution_count": 82,
   "metadata": {
    "scrolled": true
   },
   "outputs": [
    {
     "data": {
      "text/plain": [
       "count   2,229.00\n",
       "mean       33.38\n",
       "std        28.23\n",
       "min         0.00\n",
       "25%        10.00\n",
       "50%        28.00\n",
       "75%        51.00\n",
       "max       143.00\n",
       "Name: messages, dtype: float64"
      ]
     },
     "execution_count": 82,
     "metadata": {},
     "output_type": "execute_result"
    }
   ],
   "source": [
    "general_df_с.query('tariff == \"smart\"')['messages'].describe()"
   ]
  },
  {
   "cell_type": "markdown",
   "metadata": {},
   "source": [
    "Из гистограмм видно нормальное распределение информации в случае обоих тарифов. Однако стоит отметить, что клиенты с тарифом ultra используют большее количество сообщений, в среднем - 61.72 (в сравнении с 38.79 при smart). Разница довольно велика.\n",
    "___\n",
    "The histograms show the normal distribution of information in the case of both tariffs. However, it's worth noting that ultra customers use more messages, averaging 61.72 (compared to 38.79 for smart). The difference is quite big."
   ]
  },
  {
   "cell_type": "code",
   "execution_count": 83,
   "metadata": {
    "scrolled": true
   },
   "outputs": [
    {
     "data": {
      "image/png": "[encoded data removed]",
      "text/plain": [
       "<Figure size 432x288 with 2 Axes>"
      ]
     },
     "metadata": {
      "needs_background": "light"
     },
     "output_type": "display_data"
    }
   ],
   "source": [
    "general_df_с.hist(column='gb_used', by='tariff', bins=100, sharey = True) ;"
   ]
  },
  {
   "cell_type": "code",
   "execution_count": 84,
   "metadata": {},
   "outputs": [
    {
     "data": {
      "text/plain": [
       "count   985.00\n",
       "mean     19.49\n",
       "std       9.85\n",
       "min       0.00\n",
       "25%      12.00\n",
       "50%      19.00\n",
       "75%      27.00\n",
       "max      49.00\n",
       "Name: gb_used, dtype: float64"
      ]
     },
     "execution_count": 84,
     "metadata": {},
     "output_type": "execute_result"
    }
   ],
   "source": [
    "general_df_с.query('tariff == \"ultra\"')['gb_used'].describe()"
   ]
  },
  {
   "cell_type": "code",
   "execution_count": 85,
   "metadata": {
    "scrolled": true
   },
   "outputs": [
    {
     "data": {
      "text/plain": [
       "count   2,229.00\n",
       "mean       16.33\n",
       "std         5.75\n",
       "min         0.00\n",
       "25%        13.00\n",
       "50%        17.00\n",
       "75%        20.00\n",
       "max        38.00\n",
       "Name: gb_used, dtype: float64"
      ]
     },
     "execution_count": 85,
     "metadata": {},
     "output_type": "execute_result"
    }
   ],
   "source": [
    "general_df_с.query('tariff == \"smart\"')['gb_used'].describe()"
   ]
  },
  {
   "cell_type": "markdown",
   "metadata": {},
   "source": [
    "Из гистограмм видно нормальное распределение информации в случае обоих тарифов. Однако стоит отметить, что клиенты с тарифом ultra используют большее количество гигабайт, в среднем - 19.64 (в сравнении с 16.37 при smart). \n",
    "___\n",
    "The histograms show the normal distribution of information in the case of both tariffs. However, it's worth noting that ultra customers use more gigabytes, averaging 19.64 (compared to 16.37 for smart)."
   ]
  },
  {
   "cell_type": "markdown",
   "metadata": {},
   "source": [
    "## 5. Проверка гипотез\n",
    "___\n",
    "## 5. Hypothesis testing"
   ]
  },
  {
   "cell_type": "markdown",
   "metadata": {},
   "source": [
    "**Гипотеза №1**: средняя выручка пользователей тарифов «Ультра» и «Смарт» различаются\n",
    "\n",
    "- Нулевая гипотеза - \"Средняя выручка пользователей тарифов «Ультра» и «Смарт» равна\";\n",
    "- Альтернативная гипотеза - \"Средняя выручка пользователей тарифов «Ультра» и «Смарт» не равна\"\n",
    "___\n",
    "**Hypothesis No. 1**: the average revenue of users of the Ultra and Smart tariffs are different\n",
    "\n",
    "- Null hypothesis - \"The average revenue of users of tariffs \"Ultra\" and \"Smart\" is equal to\";\n",
    "- Alternative hypothesis - \"The average revenue of users of the \"Ultra\" and \"Smart\" tariffs is not equal\""
   ]
  },
  {
   "cell_type": "code",
   "execution_count": 86,
   "metadata": {},
   "outputs": [
    {
     "name": "stdout",
     "output_type": "stream",
     "text": [
      "p-значение:  1.4229814360764067e-160\n",
      "Отвергаем нулевую гипотезу\n"
     ]
    }
   ],
   "source": [
    "sample_1 = general_df_с[general_df_с['tariff'] == 'ultra']['pay']\n",
    "sample_2 = general_df_с[general_df_с['tariff'] == 'smart']['pay']\n",
    "\n",
    "alpha = .05\n",
    "\n",
    "results = st.ttest_ind(sample_1, sample_2, equal_var = True)\n",
    "\n",
    "print('p-значение: ', results.pvalue)\n",
    "\n",
    "if results.pvalue < alpha:\n",
    "    print(\"Отвергаем нулевую гипотезу\")\n",
    "else:\n",
    "    print(\"Не получилось отвергнуть нулевую гипотезу\") "
   ]
  },
  {
   "cell_type": "markdown",
   "metadata": {},
   "source": [
    "Полученное значение p-value говорит о том, что cредняя выручка пользователей тарифов «Ультра» и «Смарт» не равны. С вероятностью в 1.4229814360764067e-160 такое или большее различие можно получить случайно. Данная вероятность достаточно мала, чтобы делать вывод о значимом различии между выручками пользователей тарифов «Ультра» и «Смарт».\n",
    "___\n",
    "The resulting p-value indicates that the average revenue of users of the Ultra and Smart tariffs are not equal. With a probability of 1.4229814360764067e-160, such or greater difference can be obtained by chance. This probability is small enough to conclude that there is a significant difference between the revenues of users of the Ultra and Smart tariffs."
   ]
  },
  {
   "cell_type": "code",
   "execution_count": 87,
   "metadata": {
    "scrolled": true
   },
   "outputs": [
    {
     "data": {
      "image/png": "[encoded data removed]",
      "text/plain": [
       "<Figure size 432x288 with 2 Axes>"
      ]
     },
     "metadata": {
      "needs_background": "light"
     },
     "output_type": "display_data"
    }
   ],
   "source": [
    "general_df_с.hist(column='pay', by='tariff', bins=100, sharey = True) ;"
   ]
  },
  {
   "cell_type": "code",
   "execution_count": 88,
   "metadata": {},
   "outputs": [
    {
     "data": {
      "text/plain": [
       "count     985.00\n",
       "mean    2,070.15\n",
       "std       376.19\n",
       "min     1,950.00\n",
       "25%     1,950.00\n",
       "50%     1,950.00\n",
       "75%     1,950.00\n",
       "max     4,800.00\n",
       "Name: pay, dtype: float64"
      ]
     },
     "execution_count": 88,
     "metadata": {},
     "output_type": "execute_result"
    }
   ],
   "source": [
    "general_df_с.query('tariff == \"ultra\"')['pay'].describe()"
   ]
  },
  {
   "cell_type": "code",
   "execution_count": 89,
   "metadata": {
    "scrolled": true
   },
   "outputs": [
    {
     "data": {
      "text/plain": [
       "count   2,229.00\n",
       "mean    1,289.97\n",
       "std       818.40\n",
       "min       550.00\n",
       "25%       550.00\n",
       "50%     1,023.00\n",
       "75%     1,750.00\n",
       "max     6,770.00\n",
       "Name: pay, dtype: float64"
      ]
     },
     "execution_count": 89,
     "metadata": {},
     "output_type": "execute_result"
    }
   ],
   "source": [
    "general_df_с.query('tariff == \"smart\"')['pay'].describe()"
   ]
  },
  {
   "cell_type": "code",
   "execution_count": 90,
   "metadata": {},
   "outputs": [],
   "source": [
    "tariff_diff = general_df_с.query('tariff == \"ultra\"')['pay'].mean()/general_df_с.query('tariff == \"smart\"')['pay'].mean()"
   ]
  },
  {
   "cell_type": "code",
   "execution_count": 91,
   "metadata": {},
   "outputs": [
    {
     "data": {
      "text/plain": [
       "1.6048021412427091"
      ]
     },
     "execution_count": 91,
     "metadata": {},
     "output_type": "execute_result"
    }
   ],
   "source": [
    "tariff_diff"
   ]
  },
  {
   "cell_type": "markdown",
   "metadata": {},
   "source": [
    "Из описания видно, что выручка различается в 1.61 раза, то есть на почти 61% больше в случае тарифа **ultra**, что, в свою очередь, говорит о его **выгодности** для компании.\n",
    "___\n",
    "From the description it can be seen that the revenue differs by 1.61 times, that is, almost 61% more in the case of the **ultra** tariff, which, in turn, indicates its **profitability** for the company."
   ]
  },
  {
   "cell_type": "markdown",
   "metadata": {},
   "source": [
    "**Гипотеза №2**:средняя выручка пользователей из Москвы отличается от выручки пользователей из других регионов\n",
    "\n",
    "- Нулевая гипотеза - \"Средняя выручка пользователей из Москвы равна выручке пользователей из других регионов\";\n",
    "- Альтернативная гипотеза - \"Средняя выручка пользователей из Москвы не равна выручке пользователей из других регионов\"\n",
    "___\n",
    "**Hypothesis #2**: The average revenue of users from Moscow differs from the revenue of users from other regions\n",
    "\n",
    "- Null hypothesis - \"The average revenue of users from Moscow is equal to the revenue of users from other regions\";\n",
    "- Alternative hypothesis - \"The average revenue of users from Moscow is not equal to the revenue of users from other regions\""
   ]
  },
  {
   "cell_type": "code",
   "execution_count": 92,
   "metadata": {
    "scrolled": true
   },
   "outputs": [
    {
     "name": "stdout",
     "output_type": "stream",
     "text": [
      "p-значение:  0.5440152911670224\n",
      "Не получилось отвергнуть нулевую гипотезу\n"
     ]
    }
   ],
   "source": [
    "sample_1 = general_df_с[general_df_с['city'] == 'Москва']['pay']\n",
    "sample_2 = general_df_с[general_df_с['city'] != 'Москва']['pay']\n",
    "\n",
    "alpha = .05\n",
    "\n",
    "results = st.ttest_ind(sample_1, sample_2, equal_var = True)\n",
    "\n",
    "print('p-значение: ', results.pvalue)\n",
    "\n",
    "if results.pvalue < alpha:\n",
    "    print(\"Отвергаем нулевую гипотезу\")\n",
    "else:\n",
    "    print(\"Не получилось отвергнуть нулевую гипотезу\") "
   ]
  },
  {
   "cell_type": "markdown",
   "metadata": {},
   "source": [
    "Полученное значение p-value говорит о том, что хотя cредняя выручка пользователей из Москвы и других городов не равнозначны, с вероятностью в 54,4% такое или большее различие можно получить случайно. Данная вероятность слишком велика, чтобы делать вывод о значимом различии между выручками жителей Мсоквы и других городов.\n",
    "___\n",
    "The resulting p-value indicates that although the average revenue of users from Moscow and other cities is not equivalent, with a probability of 54.4% such a difference or more can be obtained by chance. This probability is too high to conclude that there is a significant difference between the incomes of residents of Moscow and other cities."
   ]
  },
  {
   "cell_type": "code",
   "execution_count": 93,
   "metadata": {
    "scrolled": true
   },
   "outputs": [
    {
     "data": {
      "text/plain": [
       "count     611.00\n",
       "mean    1,546.71\n",
       "std       752.09\n",
       "min       550.00\n",
       "25%       780.50\n",
       "50%     1,750.00\n",
       "75%     1,950.00\n",
       "max     5,321.00\n",
       "Name: pay, dtype: float64"
      ]
     },
     "execution_count": 93,
     "metadata": {},
     "output_type": "execute_result"
    }
   ],
   "source": [
    "sample_1.describe()"
   ]
  },
  {
   "cell_type": "code",
   "execution_count": 94,
   "metadata": {
    "scrolled": true
   },
   "outputs": [
    {
     "data": {
      "text/plain": [
       "count   2,603.00\n",
       "mean    1,524.94\n",
       "std       808.79\n",
       "min       550.00\n",
       "25%       750.00\n",
       "50%     1,583.00\n",
       "75%     1,950.00\n",
       "max     6,770.00\n",
       "Name: pay, dtype: float64"
      ]
     },
     "execution_count": 94,
     "metadata": {},
     "output_type": "execute_result"
    }
   ],
   "source": [
    "sample_2.describe()"
   ]
  },
  {
   "cell_type": "markdown",
   "metadata": {},
   "source": [
    "Из описательных величин видно малозначительное различие в цифрах.\n",
    "___\n",
    "The descriptive values show little difference in numbers."
   ]
  },
  {
   "cell_type": "markdown",
   "metadata": {},
   "source": [
    "## 6. Выводы\n",
    "___\n",
    "## 6. Conclusions"
   ]
  },
  {
   "cell_type": "markdown",
   "metadata": {},
   "source": [
    "В результате исследования было выяснено, что клиенты с тарифом **ultra** используют:\n",
    "\n",
    "- большее количество минут в среднем - 557 (в сравнении с 421 при **smart**);\n",
    "- большее количество сообщений, в среднем - 61.72 (в сравнении с 38.79 при **smart**). Разница довольно велика;\n",
    "- большее количество гигабайт, в среднем - 19.64 (в сравнении с 16.37 при **smart**).\n",
    "\n",
    "Предпосылки к этому ясны, тариф **ultra** дает сравнительно больший ресурс. \n",
    "\n",
    "Пользователи тарифа **smart** стараются не превышать траты на связь, это очевидно из данных, они в среднем не превышают лимит тарифа, **за исключением интернет-трафика** - 16.37 Гб в среднем. Это превышение - возможность для заработка компании.\n",
    "\n",
    "Но даже в случае превышения лимита пользователями тарифа **smart**, выручка от пользователей с тарифом **ultra** выше, разница значительна.\n",
    "\n",
    "С точки зрения клиента - лучше тариф **smart**, даже в случае переплат траты меньше чем в случае исключительно абонентской платы за тариф **ultra**.\n",
    "\n",
    "С точки зрения компании - лучше тариф **ultra**, и вероятно стоит более прицельно его рекламировать, добавить большее количество сообщений и интернета в лимит для привлекательности. Поведение клиентов показывает довольно ровную линию, даже в случае условного добавления ряда услуг - их востребованность будет не так велика, соответственно дополнительных затрат также не будет в значительном объеме.\n",
    "\n",
    "Другой вариант - незначительно уменьшить цену на тариф **ultra** и поднять на **smart**, чтобы сгладить впечатление о резком контрасте между ними.\n",
    "___\n",
    "As a result of the study, it was found that customers with the **ultra** tariff use:\n",
    "\n",
    "- more minutes on average - 557 (compared to 421 with **smart**);\n",
    "- more messages, on average - 61.72 (compared to 38.79 with **smart**). The difference is quite large;\n",
    "- more gigabytes, on average - 19.64 (compared to 16.37 with **smart**).\n",
    "\n",
    "The prerequisites for this are clear, the **ultra** tariff gives a relatively larger resource.\n",
    "\n",
    "**smart** tariff users try not to exceed the communication costs, it is obvious from the data, they do not exceed the tariff limit on average, **excluding Internet traffic** - 16.37 GB on average. This excess is an opportunity for the company to earn.\n",
    "\n",
    "But even if users of the **smart** tariff exceed the limit, the revenue from users with the **ultra** tariff is higher, the difference is significant.\n",
    "\n",
    "From the point of view of the client, the **smart** tariff is better, even in case of overpayments, the spending is less than in the case of an exclusively subscription fee for the **ultra** tariff.\n",
    "\n",
    "From the point of view of the company, the **ultra** tariff is better, and it is probably worth advertising it more precisely, adding more messages and the Internet to the limit for attractiveness. The behavior of customers shows a fairly flat line, even in the case of the conditional addition of a number of services - their demand will not be so great, respectively, additional costs will not be significant either.\n",
    "\n",
    "Another option is to slightly reduce the price of the **ultra** fare and raise it by **smart** to smooth out the sharp contrast between the two."
   ]
  }
 ],
 "metadata": {
  "ExecuteTimeLog": [
   {
    "duration": 6980,
    "start_time": "2022-05-18T13:18:21.033Z"
   },
   {
    "duration": 131,
    "start_time": "2022-05-18T13:19:11.841Z"
   },
   {
    "duration": 690,
    "start_time": "2022-05-18T13:20:46.858Z"
   },
   {
    "duration": 8,
    "start_time": "2022-05-18T13:21:06.711Z"
   },
   {
    "duration": 9,
    "start_time": "2022-05-18T13:24:07.893Z"
   },
   {
    "duration": 857,
    "start_time": "2022-05-18T13:24:16.806Z"
   },
   {
    "duration": 452,
    "start_time": "2022-05-18T13:24:27.106Z"
   },
   {
    "duration": 11,
    "start_time": "2022-05-18T13:24:29.109Z"
   },
   {
    "duration": 400,
    "start_time": "2022-05-18T13:24:44.489Z"
   },
   {
    "duration": 14,
    "start_time": "2022-05-18T13:24:46.474Z"
   },
   {
    "duration": 9,
    "start_time": "2022-05-18T13:24:58.621Z"
   },
   {
    "duration": 8,
    "start_time": "2022-05-18T13:25:37.889Z"
   },
   {
    "duration": 12,
    "start_time": "2022-05-18T13:25:39.922Z"
   },
   {
    "duration": 12,
    "start_time": "2022-05-18T13:25:42.282Z"
   },
   {
    "duration": 20,
    "start_time": "2022-05-18T13:25:52.106Z"
   },
   {
    "duration": 20,
    "start_time": "2022-05-18T13:26:11.413Z"
   },
   {
    "duration": 30,
    "start_time": "2022-05-18T13:26:30.042Z"
   },
   {
    "duration": 20,
    "start_time": "2022-05-18T13:26:31.764Z"
   },
   {
    "duration": 41,
    "start_time": "2022-05-18T13:26:42.706Z"
   },
   {
    "duration": 31,
    "start_time": "2022-05-18T13:26:51.681Z"
   },
   {
    "duration": 44,
    "start_time": "2022-05-18T13:28:00.041Z"
   },
   {
    "duration": 17,
    "start_time": "2022-05-18T13:32:50.561Z"
   },
   {
    "duration": 9,
    "start_time": "2022-05-18T13:34:17.154Z"
   },
   {
    "duration": 8,
    "start_time": "2022-05-18T13:34:28.023Z"
   },
   {
    "duration": 5,
    "start_time": "2022-05-18T13:35:17.793Z"
   },
   {
    "duration": 26,
    "start_time": "2022-05-18T13:36:30.289Z"
   },
   {
    "duration": 36,
    "start_time": "2022-05-18T13:36:32.980Z"
   },
   {
    "duration": 48,
    "start_time": "2022-05-18T13:36:36.203Z"
   },
   {
    "duration": 12,
    "start_time": "2022-05-18T13:42:35.971Z"
   },
   {
    "duration": 6,
    "start_time": "2022-05-18T13:44:55.912Z"
   },
   {
    "duration": 10,
    "start_time": "2022-05-18T13:45:10.952Z"
   },
   {
    "duration": 20,
    "start_time": "2022-05-18T14:15:55.581Z"
   },
   {
    "duration": 36,
    "start_time": "2022-05-18T14:16:10.253Z"
   },
   {
    "duration": 13,
    "start_time": "2022-05-18T14:16:19.913Z"
   },
   {
    "duration": 8,
    "start_time": "2022-05-18T14:17:20.814Z"
   },
   {
    "duration": 7,
    "start_time": "2022-05-18T14:18:21.335Z"
   },
   {
    "duration": 31,
    "start_time": "2022-05-18T14:18:34.696Z"
   },
   {
    "duration": 15,
    "start_time": "2022-05-18T14:18:36.365Z"
   },
   {
    "duration": 11,
    "start_time": "2022-05-18T14:18:58.154Z"
   },
   {
    "duration": 5,
    "start_time": "2022-05-18T14:19:48.442Z"
   },
   {
    "duration": 10,
    "start_time": "2022-05-18T14:19:51.315Z"
   },
   {
    "duration": 7,
    "start_time": "2022-05-18T14:20:38.327Z"
   },
   {
    "duration": 23,
    "start_time": "2022-05-18T14:21:18.055Z"
   },
   {
    "duration": 9,
    "start_time": "2022-05-18T14:21:27.666Z"
   },
   {
    "duration": 9,
    "start_time": "2022-05-18T14:21:34.806Z"
   },
   {
    "duration": 18,
    "start_time": "2022-05-18T14:21:44.354Z"
   },
   {
    "duration": 38,
    "start_time": "2022-05-18T14:21:57.230Z"
   },
   {
    "duration": 16,
    "start_time": "2022-05-18T14:21:58.554Z"
   },
   {
    "duration": 31,
    "start_time": "2022-05-18T14:22:26.433Z"
   },
   {
    "duration": 28,
    "start_time": "2022-05-18T14:22:54.556Z"
   },
   {
    "duration": 11,
    "start_time": "2022-05-18T14:30:56.214Z"
   },
   {
    "duration": 16,
    "start_time": "2022-05-18T14:30:57.738Z"
   },
   {
    "duration": 20,
    "start_time": "2022-05-18T14:31:09.953Z"
   },
   {
    "duration": 31,
    "start_time": "2022-05-18T14:31:55.633Z"
   },
   {
    "duration": 25,
    "start_time": "2022-05-18T14:32:03.115Z"
   },
   {
    "duration": 30,
    "start_time": "2022-05-18T14:32:23.546Z"
   },
   {
    "duration": 58,
    "start_time": "2022-05-18T14:33:29.382Z"
   },
   {
    "duration": 30,
    "start_time": "2022-05-18T14:33:38.374Z"
   },
   {
    "duration": 6,
    "start_time": "2022-05-18T14:33:51.870Z"
   },
   {
    "duration": 16,
    "start_time": "2022-05-18T14:33:53.555Z"
   },
   {
    "duration": 5,
    "start_time": "2022-05-18T14:34:39.533Z"
   },
   {
    "duration": 12,
    "start_time": "2022-05-18T14:34:41.066Z"
   },
   {
    "duration": 33,
    "start_time": "2022-05-18T14:34:55.733Z"
   },
   {
    "duration": 3,
    "start_time": "2022-05-18T14:35:07.956Z"
   },
   {
    "duration": 371,
    "start_time": "2022-05-18T14:35:07.961Z"
   },
   {
    "duration": 18,
    "start_time": "2022-05-18T14:35:08.334Z"
   },
   {
    "duration": 17,
    "start_time": "2022-05-18T14:35:08.354Z"
   },
   {
    "duration": 39,
    "start_time": "2022-05-18T14:35:08.372Z"
   },
   {
    "duration": 39,
    "start_time": "2022-05-18T14:35:08.412Z"
   },
   {
    "duration": 54,
    "start_time": "2022-05-18T14:35:08.452Z"
   },
   {
    "duration": 9,
    "start_time": "2022-05-18T14:35:08.508Z"
   },
   {
    "duration": 10,
    "start_time": "2022-05-18T14:35:12.327Z"
   },
   {
    "duration": 8,
    "start_time": "2022-05-18T14:35:52.433Z"
   },
   {
    "duration": 11,
    "start_time": "2022-05-18T14:35:53.985Z"
   },
   {
    "duration": 6,
    "start_time": "2022-05-18T14:35:58.665Z"
   },
   {
    "duration": 13,
    "start_time": "2022-05-18T14:36:00.242Z"
   },
   {
    "duration": 24,
    "start_time": "2022-05-18T14:36:04.415Z"
   },
   {
    "duration": 14,
    "start_time": "2022-05-18T14:36:05.714Z"
   },
   {
    "duration": 44,
    "start_time": "2022-05-18T14:36:35.453Z"
   },
   {
    "duration": 18,
    "start_time": "2022-05-18T14:36:45.434Z"
   },
   {
    "duration": 9,
    "start_time": "2022-05-18T14:37:03.054Z"
   },
   {
    "duration": 10,
    "start_time": "2022-05-18T14:37:21.553Z"
   },
   {
    "duration": 4,
    "start_time": "2022-05-18T14:37:25.304Z"
   },
   {
    "duration": 369,
    "start_time": "2022-05-18T14:37:25.309Z"
   },
   {
    "duration": 18,
    "start_time": "2022-05-18T14:37:25.680Z"
   },
   {
    "duration": 27,
    "start_time": "2022-05-18T14:37:25.700Z"
   },
   {
    "duration": 24,
    "start_time": "2022-05-18T14:37:25.729Z"
   },
   {
    "duration": 27,
    "start_time": "2022-05-18T14:37:25.755Z"
   },
   {
    "duration": 58,
    "start_time": "2022-05-18T14:37:25.784Z"
   },
   {
    "duration": 9,
    "start_time": "2022-05-18T14:37:25.844Z"
   },
   {
    "duration": 12,
    "start_time": "2022-05-18T14:37:25.854Z"
   },
   {
    "duration": 16,
    "start_time": "2022-05-18T14:37:25.867Z"
   },
   {
    "duration": 19,
    "start_time": "2022-05-18T14:37:25.884Z"
   },
   {
    "duration": 19,
    "start_time": "2022-05-18T14:37:25.904Z"
   },
   {
    "duration": 39,
    "start_time": "2022-05-18T14:37:25.924Z"
   },
   {
    "duration": 21,
    "start_time": "2022-05-18T14:37:25.966Z"
   },
   {
    "duration": 9,
    "start_time": "2022-05-18T14:37:28.025Z"
   },
   {
    "duration": 47,
    "start_time": "2022-05-18T14:37:49.922Z"
   },
   {
    "duration": 31,
    "start_time": "2022-05-18T14:38:01.372Z"
   },
   {
    "duration": 3,
    "start_time": "2022-05-18T14:38:11.315Z"
   },
   {
    "duration": 391,
    "start_time": "2022-05-18T14:38:11.320Z"
   },
   {
    "duration": 18,
    "start_time": "2022-05-18T14:38:11.713Z"
   },
   {
    "duration": 16,
    "start_time": "2022-05-18T14:38:11.733Z"
   },
   {
    "duration": 24,
    "start_time": "2022-05-18T14:38:11.752Z"
   },
   {
    "duration": 58,
    "start_time": "2022-05-18T14:38:11.778Z"
   },
   {
    "duration": 30,
    "start_time": "2022-05-18T14:38:11.839Z"
   },
   {
    "duration": 10,
    "start_time": "2022-05-18T14:38:11.871Z"
   },
   {
    "duration": 9,
    "start_time": "2022-05-18T14:38:11.883Z"
   },
   {
    "duration": 37,
    "start_time": "2022-05-18T14:38:11.894Z"
   },
   {
    "duration": 5,
    "start_time": "2022-05-18T14:38:11.933Z"
   },
   {
    "duration": 14,
    "start_time": "2022-05-18T14:38:11.940Z"
   },
   {
    "duration": 26,
    "start_time": "2022-05-18T14:38:11.956Z"
   },
   {
    "duration": 16,
    "start_time": "2022-05-18T14:38:11.984Z"
   },
   {
    "duration": 24,
    "start_time": "2022-05-18T14:38:18.713Z"
   },
   {
    "duration": 21,
    "start_time": "2022-05-18T14:39:01.193Z"
   },
   {
    "duration": 22,
    "start_time": "2022-05-18T14:39:16.122Z"
   },
   {
    "duration": 9,
    "start_time": "2022-05-18T14:39:21.393Z"
   },
   {
    "duration": 49,
    "start_time": "2022-05-18T14:39:52.354Z"
   },
   {
    "duration": 31,
    "start_time": "2022-05-18T14:40:06.573Z"
   },
   {
    "duration": 29,
    "start_time": "2022-05-18T14:40:15.074Z"
   },
   {
    "duration": 3,
    "start_time": "2022-05-18T14:40:20.916Z"
   },
   {
    "duration": 421,
    "start_time": "2022-05-18T14:40:20.921Z"
   },
   {
    "duration": 18,
    "start_time": "2022-05-18T14:40:21.344Z"
   },
   {
    "duration": 20,
    "start_time": "2022-05-18T14:40:21.364Z"
   },
   {
    "duration": 27,
    "start_time": "2022-05-18T14:40:21.386Z"
   },
   {
    "duration": 38,
    "start_time": "2022-05-18T14:40:21.414Z"
   },
   {
    "duration": 31,
    "start_time": "2022-05-18T14:40:21.454Z"
   },
   {
    "duration": 10,
    "start_time": "2022-05-18T14:40:21.487Z"
   },
   {
    "duration": 8,
    "start_time": "2022-05-18T14:40:21.526Z"
   },
   {
    "duration": 28,
    "start_time": "2022-05-18T14:40:21.535Z"
   },
   {
    "duration": 14,
    "start_time": "2022-05-18T14:40:21.565Z"
   },
   {
    "duration": 23,
    "start_time": "2022-05-18T14:40:21.581Z"
   },
   {
    "duration": 39,
    "start_time": "2022-05-18T14:40:21.606Z"
   },
   {
    "duration": 15,
    "start_time": "2022-05-18T14:40:21.648Z"
   },
   {
    "duration": 26,
    "start_time": "2022-05-18T14:40:21.665Z"
   },
   {
    "duration": 23,
    "start_time": "2022-05-18T14:40:24.600Z"
   },
   {
    "duration": 65,
    "start_time": "2022-05-18T14:40:26.355Z"
   },
   {
    "duration": 9,
    "start_time": "2022-05-18T14:40:43.114Z"
   },
   {
    "duration": 15,
    "start_time": "2022-05-18T14:40:46.773Z"
   },
   {
    "duration": 11,
    "start_time": "2022-05-18T14:42:30.336Z"
   },
   {
    "duration": 5,
    "start_time": "2022-05-18T14:42:37.735Z"
   },
   {
    "duration": 11,
    "start_time": "2022-05-18T14:42:38.933Z"
   },
   {
    "duration": 3,
    "start_time": "2022-05-18T14:42:48.949Z"
   },
   {
    "duration": 403,
    "start_time": "2022-05-18T14:42:48.954Z"
   },
   {
    "duration": 17,
    "start_time": "2022-05-18T14:42:49.358Z"
   },
   {
    "duration": 14,
    "start_time": "2022-05-18T14:42:49.376Z"
   },
   {
    "duration": 23,
    "start_time": "2022-05-18T14:42:49.426Z"
   },
   {
    "duration": 81,
    "start_time": "2022-05-18T14:42:49.451Z"
   },
   {
    "duration": 30,
    "start_time": "2022-05-18T14:42:49.534Z"
   },
   {
    "duration": 6,
    "start_time": "2022-05-18T14:42:49.565Z"
   },
   {
    "duration": 11,
    "start_time": "2022-05-18T14:42:50.893Z"
   },
   {
    "duration": 8,
    "start_time": "2022-05-18T14:43:26.913Z"
   },
   {
    "duration": 24,
    "start_time": "2022-05-18T14:43:39.385Z"
   },
   {
    "duration": 9,
    "start_time": "2022-05-18T14:43:41.365Z"
   },
   {
    "duration": 5,
    "start_time": "2022-05-18T14:44:26.613Z"
   },
   {
    "duration": 5,
    "start_time": "2022-05-18T14:44:28.473Z"
   },
   {
    "duration": 6,
    "start_time": "2022-05-18T14:44:29.792Z"
   },
   {
    "duration": 8,
    "start_time": "2022-05-18T14:44:32.253Z"
   },
   {
    "duration": 8,
    "start_time": "2022-05-18T14:44:33.583Z"
   },
   {
    "duration": 32,
    "start_time": "2022-05-18T14:44:43.174Z"
   },
   {
    "duration": 8,
    "start_time": "2022-05-18T14:44:54.253Z"
   },
   {
    "duration": 37,
    "start_time": "2022-05-18T14:45:25.053Z"
   },
   {
    "duration": 10,
    "start_time": "2022-05-18T14:45:30.525Z"
   },
   {
    "duration": 15,
    "start_time": "2022-05-18T14:51:53.881Z"
   },
   {
    "duration": 9,
    "start_time": "2022-05-18T14:52:01.225Z"
   },
   {
    "duration": 14,
    "start_time": "2022-05-18T14:52:41.933Z"
   },
   {
    "duration": 8,
    "start_time": "2022-05-18T14:52:43.161Z"
   },
   {
    "duration": 14,
    "start_time": "2022-05-18T14:52:53.593Z"
   },
   {
    "duration": 9,
    "start_time": "2022-05-18T14:52:54.947Z"
   },
   {
    "duration": 11,
    "start_time": "2022-05-18T14:53:21.520Z"
   },
   {
    "duration": 9,
    "start_time": "2022-05-18T14:53:33.994Z"
   },
   {
    "duration": 2,
    "start_time": "2022-05-18T14:53:37.656Z"
   },
   {
    "duration": 400,
    "start_time": "2022-05-18T14:53:37.660Z"
   },
   {
    "duration": 21,
    "start_time": "2022-05-18T14:53:38.062Z"
   },
   {
    "duration": 26,
    "start_time": "2022-05-18T14:53:38.085Z"
   },
   {
    "duration": 44,
    "start_time": "2022-05-18T14:53:38.113Z"
   },
   {
    "duration": 43,
    "start_time": "2022-05-18T14:53:38.159Z"
   },
   {
    "duration": 57,
    "start_time": "2022-05-18T14:53:38.204Z"
   },
   {
    "duration": 7,
    "start_time": "2022-05-18T14:53:38.263Z"
   },
   {
    "duration": 9,
    "start_time": "2022-05-18T14:53:38.272Z"
   },
   {
    "duration": 52,
    "start_time": "2022-05-18T14:53:38.282Z"
   },
   {
    "duration": 32,
    "start_time": "2022-05-18T14:53:38.335Z"
   },
   {
    "duration": 12,
    "start_time": "2022-05-18T14:53:40.663Z"
   },
   {
    "duration": 38,
    "start_time": "2022-05-18T14:53:55.621Z"
   },
   {
    "duration": 10,
    "start_time": "2022-05-18T14:53:56.912Z"
   },
   {
    "duration": 12,
    "start_time": "2022-05-18T14:54:05.613Z"
   },
   {
    "duration": 4,
    "start_time": "2022-05-18T14:54:08.536Z"
   },
   {
    "duration": 535,
    "start_time": "2022-05-18T14:54:08.542Z"
   },
   {
    "duration": 24,
    "start_time": "2022-05-18T14:54:09.079Z"
   },
   {
    "duration": 27,
    "start_time": "2022-05-18T14:54:09.105Z"
   },
   {
    "duration": 23,
    "start_time": "2022-05-18T14:54:09.134Z"
   },
   {
    "duration": 32,
    "start_time": "2022-05-18T14:54:09.160Z"
   },
   {
    "duration": 80,
    "start_time": "2022-05-18T14:54:09.194Z"
   },
   {
    "duration": 10,
    "start_time": "2022-05-18T14:54:09.277Z"
   },
   {
    "duration": 17,
    "start_time": "2022-05-18T14:54:09.289Z"
   },
   {
    "duration": 42,
    "start_time": "2022-05-18T14:54:09.308Z"
   },
   {
    "duration": 32,
    "start_time": "2022-05-18T14:54:12.224Z"
   },
   {
    "duration": 24,
    "start_time": "2022-05-18T14:54:16.192Z"
   },
   {
    "duration": 8,
    "start_time": "2022-05-18T14:54:41.112Z"
   },
   {
    "duration": 31,
    "start_time": "2022-05-18T14:54:43.556Z"
   },
   {
    "duration": 583,
    "start_time": "2022-05-18T14:54:51.643Z"
   },
   {
    "duration": 7,
    "start_time": "2022-05-18T14:55:11.993Z"
   },
   {
    "duration": 10,
    "start_time": "2022-05-18T14:55:18.545Z"
   },
   {
    "duration": 14,
    "start_time": "2022-05-18T14:55:20.561Z"
   },
   {
    "duration": 12,
    "start_time": "2022-05-18T14:55:24.813Z"
   },
   {
    "duration": 12,
    "start_time": "2022-05-18T14:55:35.752Z"
   },
   {
    "duration": 16,
    "start_time": "2022-05-18T14:57:06.953Z"
   },
   {
    "duration": 6,
    "start_time": "2022-05-18T14:58:12.913Z"
   },
   {
    "duration": 22,
    "start_time": "2022-05-18T14:58:36.372Z"
   },
   {
    "duration": 3,
    "start_time": "2022-05-18T14:59:07.890Z"
   },
   {
    "duration": 409,
    "start_time": "2022-05-18T14:59:07.894Z"
   },
   {
    "duration": 17,
    "start_time": "2022-05-18T14:59:08.305Z"
   },
   {
    "duration": 29,
    "start_time": "2022-05-18T14:59:08.334Z"
   },
   {
    "duration": 22,
    "start_time": "2022-05-18T14:59:08.365Z"
   },
   {
    "duration": 27,
    "start_time": "2022-05-18T14:59:08.388Z"
   },
   {
    "duration": 52,
    "start_time": "2022-05-18T14:59:08.416Z"
   },
   {
    "duration": 6,
    "start_time": "2022-05-18T14:59:29.873Z"
   },
   {
    "duration": 16,
    "start_time": "2022-05-18T14:59:31.374Z"
   },
   {
    "duration": 8,
    "start_time": "2022-05-18T15:00:24.753Z"
   },
   {
    "duration": 15,
    "start_time": "2022-05-18T15:00:35.273Z"
   },
   {
    "duration": 11,
    "start_time": "2022-05-18T15:00:47.965Z"
   },
   {
    "duration": 14,
    "start_time": "2022-05-18T15:02:39.292Z"
   },
   {
    "duration": 9,
    "start_time": "2022-05-18T15:04:32.485Z"
   },
   {
    "duration": 49,
    "start_time": "2022-05-18T15:05:05.745Z"
   },
   {
    "duration": 30,
    "start_time": "2022-05-18T15:05:36.315Z"
   },
   {
    "duration": 9,
    "start_time": "2022-05-18T15:05:49.412Z"
   },
   {
    "duration": 7,
    "start_time": "2022-05-18T15:05:53.912Z"
   },
   {
    "duration": 10,
    "start_time": "2022-05-18T15:06:20.473Z"
   },
   {
    "duration": 10,
    "start_time": "2022-05-18T15:06:24.410Z"
   },
   {
    "duration": 7,
    "start_time": "2022-05-18T15:06:32.313Z"
   },
   {
    "duration": 57,
    "start_time": "2022-05-18T15:07:37.553Z"
   },
   {
    "duration": 33,
    "start_time": "2022-05-18T15:08:03.672Z"
   },
   {
    "duration": 3,
    "start_time": "2022-05-18T15:08:25.142Z"
   },
   {
    "duration": 429,
    "start_time": "2022-05-18T15:08:25.148Z"
   },
   {
    "duration": 19,
    "start_time": "2022-05-18T15:08:25.579Z"
   },
   {
    "duration": 32,
    "start_time": "2022-05-18T15:08:25.600Z"
   },
   {
    "duration": 24,
    "start_time": "2022-05-18T15:08:25.636Z"
   },
   {
    "duration": 28,
    "start_time": "2022-05-18T15:08:25.661Z"
   },
   {
    "duration": 58,
    "start_time": "2022-05-18T15:08:25.691Z"
   },
   {
    "duration": 7,
    "start_time": "2022-05-18T15:08:25.751Z"
   },
   {
    "duration": 14,
    "start_time": "2022-05-18T15:08:25.760Z"
   },
   {
    "duration": 29,
    "start_time": "2022-05-18T15:08:25.775Z"
   },
   {
    "duration": 46,
    "start_time": "2022-05-18T15:08:25.806Z"
   },
   {
    "duration": 41,
    "start_time": "2022-05-18T15:08:25.854Z"
   },
   {
    "duration": 33,
    "start_time": "2022-05-18T15:08:25.897Z"
   },
   {
    "duration": 21,
    "start_time": "2022-05-18T15:08:29.781Z"
   },
   {
    "duration": 48,
    "start_time": "2022-05-18T15:08:31.915Z"
   },
   {
    "duration": 16,
    "start_time": "2022-05-18T15:09:32.552Z"
   },
   {
    "duration": 46,
    "start_time": "2022-05-18T15:10:08.512Z"
   },
   {
    "duration": 30,
    "start_time": "2022-05-18T15:10:10.513Z"
   },
   {
    "duration": 23,
    "start_time": "2022-05-18T15:10:17.212Z"
   },
   {
    "duration": 18,
    "start_time": "2022-05-18T15:10:58.734Z"
   },
   {
    "duration": 23,
    "start_time": "2022-05-18T15:11:19.541Z"
   },
   {
    "duration": 14,
    "start_time": "2022-05-18T15:11:47.194Z"
   },
   {
    "duration": 17,
    "start_time": "2022-05-18T15:12:25.804Z"
   },
   {
    "duration": 62,
    "start_time": "2022-05-25T12:44:46.180Z"
   },
   {
    "duration": 878,
    "start_time": "2022-05-25T12:44:52.065Z"
   },
   {
    "duration": 1168,
    "start_time": "2022-05-25T12:44:52.945Z"
   },
   {
    "duration": 24,
    "start_time": "2022-05-25T12:44:54.114Z"
   },
   {
    "duration": 15,
    "start_time": "2022-05-25T12:44:54.139Z"
   },
   {
    "duration": 23,
    "start_time": "2022-05-25T12:44:54.156Z"
   },
   {
    "duration": 45,
    "start_time": "2022-05-25T12:44:54.181Z"
   },
   {
    "duration": 31,
    "start_time": "2022-05-25T12:44:54.228Z"
   },
   {
    "duration": 7,
    "start_time": "2022-05-25T12:44:54.261Z"
   },
   {
    "duration": 27,
    "start_time": "2022-05-25T12:44:54.270Z"
   },
   {
    "duration": 27,
    "start_time": "2022-05-25T12:44:54.299Z"
   },
   {
    "duration": 32,
    "start_time": "2022-05-25T12:44:54.328Z"
   },
   {
    "duration": 64,
    "start_time": "2022-05-25T12:44:54.362Z"
   },
   {
    "duration": 24,
    "start_time": "2022-05-25T12:44:54.428Z"
   },
   {
    "duration": 53,
    "start_time": "2022-05-25T12:44:54.455Z"
   },
   {
    "duration": 15,
    "start_time": "2022-05-25T12:44:54.509Z"
   },
   {
    "duration": 42,
    "start_time": "2022-05-25T12:44:54.526Z"
   },
   {
    "duration": 26,
    "start_time": "2022-05-25T12:44:54.570Z"
   },
   {
    "duration": 18,
    "start_time": "2022-05-25T12:44:54.598Z"
   },
   {
    "duration": 13,
    "start_time": "2022-05-25T12:44:58.016Z"
   },
   {
    "duration": 38,
    "start_time": "2022-05-25T12:45:49.158Z"
   },
   {
    "duration": 8,
    "start_time": "2022-05-25T12:46:02.398Z"
   },
   {
    "duration": 27,
    "start_time": "2022-05-25T12:46:06.784Z"
   },
   {
    "duration": 13,
    "start_time": "2022-05-25T12:46:16.952Z"
   },
   {
    "duration": 376,
    "start_time": "2022-05-25T12:49:49.488Z"
   },
   {
    "duration": 18,
    "start_time": "2022-05-25T12:50:06.592Z"
   },
   {
    "duration": 3,
    "start_time": "2022-05-25T12:50:28.217Z"
   },
   {
    "duration": 454,
    "start_time": "2022-05-25T12:50:28.224Z"
   },
   {
    "duration": 23,
    "start_time": "2022-05-25T12:50:28.680Z"
   },
   {
    "duration": 17,
    "start_time": "2022-05-25T12:50:28.704Z"
   },
   {
    "duration": 25,
    "start_time": "2022-05-25T12:50:28.723Z"
   },
   {
    "duration": 54,
    "start_time": "2022-05-25T12:50:28.749Z"
   },
   {
    "duration": 29,
    "start_time": "2022-05-25T12:50:28.805Z"
   },
   {
    "duration": 7,
    "start_time": "2022-05-25T12:50:28.836Z"
   },
   {
    "duration": 8,
    "start_time": "2022-05-25T12:50:28.844Z"
   },
   {
    "duration": 46,
    "start_time": "2022-05-25T12:50:28.854Z"
   },
   {
    "duration": 29,
    "start_time": "2022-05-25T12:50:28.902Z"
   },
   {
    "duration": 43,
    "start_time": "2022-05-25T12:50:28.933Z"
   },
   {
    "duration": 22,
    "start_time": "2022-05-25T12:50:34.020Z"
   },
   {
    "duration": 16,
    "start_time": "2022-05-25T12:50:35.748Z"
   },
   {
    "duration": 13,
    "start_time": "2022-05-25T12:50:49.124Z"
   },
   {
    "duration": 55,
    "start_time": "2022-05-25T12:51:23.209Z"
   },
   {
    "duration": 43,
    "start_time": "2022-05-25T12:51:56.802Z"
   },
   {
    "duration": 3,
    "start_time": "2022-05-25T12:52:33.310Z"
   },
   {
    "duration": 12,
    "start_time": "2022-05-25T12:52:41.386Z"
   },
   {
    "duration": 15,
    "start_time": "2022-05-25T12:53:51.113Z"
   },
   {
    "duration": 14,
    "start_time": "2022-05-25T12:54:15.668Z"
   },
   {
    "duration": 17,
    "start_time": "2022-05-25T12:54:18.143Z"
   },
   {
    "duration": 6,
    "start_time": "2022-05-25T12:54:33.543Z"
   },
   {
    "duration": 13,
    "start_time": "2022-05-25T12:54:49.001Z"
   },
   {
    "duration": 22,
    "start_time": "2022-05-25T12:55:50.449Z"
   },
   {
    "duration": 11,
    "start_time": "2022-05-25T12:55:52.279Z"
   },
   {
    "duration": 17,
    "start_time": "2022-05-25T12:56:30.292Z"
   },
   {
    "duration": 14,
    "start_time": "2022-05-25T12:56:50.065Z"
   },
   {
    "duration": 20,
    "start_time": "2022-05-25T12:57:24.142Z"
   },
   {
    "duration": 13,
    "start_time": "2022-05-25T12:57:32.925Z"
   },
   {
    "duration": 811,
    "start_time": "2022-05-25T19:21:41.649Z"
   },
   {
    "duration": 1050,
    "start_time": "2022-05-25T19:21:42.462Z"
   },
   {
    "duration": 22,
    "start_time": "2022-05-25T19:21:43.513Z"
   },
   {
    "duration": 14,
    "start_time": "2022-05-25T19:21:43.537Z"
   },
   {
    "duration": 22,
    "start_time": "2022-05-25T19:21:43.552Z"
   },
   {
    "duration": 42,
    "start_time": "2022-05-25T19:21:43.577Z"
   },
   {
    "duration": 30,
    "start_time": "2022-05-25T19:21:43.621Z"
   },
   {
    "duration": 7,
    "start_time": "2022-05-25T19:21:43.652Z"
   },
   {
    "duration": 7,
    "start_time": "2022-05-25T19:21:43.660Z"
   },
   {
    "duration": 44,
    "start_time": "2022-05-25T19:21:43.668Z"
   },
   {
    "duration": 29,
    "start_time": "2022-05-25T19:21:43.713Z"
   },
   {
    "duration": 40,
    "start_time": "2022-05-25T19:21:43.744Z"
   },
   {
    "duration": 32,
    "start_time": "2022-05-25T19:21:43.786Z"
   },
   {
    "duration": 33,
    "start_time": "2022-05-25T19:21:43.820Z"
   },
   {
    "duration": 3,
    "start_time": "2022-05-25T19:21:46.453Z"
   },
   {
    "duration": 13,
    "start_time": "2022-05-25T19:21:54.374Z"
   },
   {
    "duration": 15,
    "start_time": "2022-05-25T19:22:00.145Z"
   },
   {
    "duration": 24,
    "start_time": "2022-05-25T19:22:02.874Z"
   },
   {
    "duration": 12,
    "start_time": "2022-05-25T19:22:08.448Z"
   },
   {
    "duration": 18,
    "start_time": "2022-05-25T19:22:13.360Z"
   },
   {
    "duration": 28,
    "start_time": "2022-05-25T19:22:14.912Z"
   },
   {
    "duration": 12,
    "start_time": "2022-05-25T19:22:18.477Z"
   },
   {
    "duration": 1273,
    "start_time": "2022-05-25T19:25:47.347Z"
   },
   {
    "duration": 19,
    "start_time": "2022-05-25T19:25:53.212Z"
   },
   {
    "duration": 1636,
    "start_time": "2022-05-25T19:26:42.323Z"
   },
   {
    "duration": 1081,
    "start_time": "2022-05-25T19:26:43.961Z"
   },
   {
    "duration": 25,
    "start_time": "2022-05-25T19:26:45.044Z"
   },
   {
    "duration": 14,
    "start_time": "2022-05-25T19:26:45.071Z"
   },
   {
    "duration": 25,
    "start_time": "2022-05-25T19:26:45.087Z"
   },
   {
    "duration": 28,
    "start_time": "2022-05-25T19:26:45.114Z"
   },
   {
    "duration": 58,
    "start_time": "2022-05-25T19:26:45.144Z"
   },
   {
    "duration": 8,
    "start_time": "2022-05-25T19:26:45.204Z"
   },
   {
    "duration": 9,
    "start_time": "2022-05-25T19:26:45.214Z"
   },
   {
    "duration": 27,
    "start_time": "2022-05-25T19:26:45.225Z"
   },
   {
    "duration": 48,
    "start_time": "2022-05-25T19:26:45.254Z"
   },
   {
    "duration": 41,
    "start_time": "2022-05-25T19:26:45.303Z"
   },
   {
    "duration": 21,
    "start_time": "2022-05-25T19:26:45.346Z"
   },
   {
    "duration": 58,
    "start_time": "2022-05-25T19:26:45.369Z"
   },
   {
    "duration": 2,
    "start_time": "2022-05-25T19:26:45.429Z"
   },
   {
    "duration": 15,
    "start_time": "2022-05-25T19:26:45.433Z"
   },
   {
    "duration": 17,
    "start_time": "2022-05-25T19:26:45.450Z"
   },
   {
    "duration": 34,
    "start_time": "2022-05-25T19:26:45.469Z"
   },
   {
    "duration": 12,
    "start_time": "2022-05-25T19:26:45.505Z"
   },
   {
    "duration": 20,
    "start_time": "2022-05-25T19:26:45.518Z"
   },
   {
    "duration": 20,
    "start_time": "2022-05-25T19:26:45.540Z"
   },
   {
    "duration": 11,
    "start_time": "2022-05-25T19:26:45.562Z"
   },
   {
    "duration": 3,
    "start_time": "2022-05-25T19:27:14.202Z"
   },
   {
    "duration": 417,
    "start_time": "2022-05-25T19:27:14.207Z"
   },
   {
    "duration": 18,
    "start_time": "2022-05-25T19:27:14.626Z"
   },
   {
    "duration": 15,
    "start_time": "2022-05-25T19:27:14.646Z"
   },
   {
    "duration": 44,
    "start_time": "2022-05-25T19:27:14.663Z"
   },
   {
    "duration": 32,
    "start_time": "2022-05-25T19:27:14.708Z"
   },
   {
    "duration": 29,
    "start_time": "2022-05-25T19:27:14.742Z"
   },
   {
    "duration": 7,
    "start_time": "2022-05-25T19:27:14.772Z"
   },
   {
    "duration": 5,
    "start_time": "2022-05-25T19:27:14.803Z"
   },
   {
    "duration": 26,
    "start_time": "2022-05-25T19:27:14.810Z"
   },
   {
    "duration": 31,
    "start_time": "2022-05-25T19:27:14.837Z"
   },
   {
    "duration": 55,
    "start_time": "2022-05-25T19:27:14.869Z"
   },
   {
    "duration": 20,
    "start_time": "2022-05-25T19:27:14.926Z"
   },
   {
    "duration": 23,
    "start_time": "2022-05-25T19:27:14.949Z"
   },
   {
    "duration": 3,
    "start_time": "2022-05-25T19:27:14.973Z"
   },
   {
    "duration": 34,
    "start_time": "2022-05-25T19:27:14.977Z"
   },
   {
    "duration": 24,
    "start_time": "2022-05-25T19:27:15.012Z"
   },
   {
    "duration": 22,
    "start_time": "2022-05-25T19:27:15.038Z"
   },
   {
    "duration": 10,
    "start_time": "2022-05-25T19:27:15.061Z"
   },
   {
    "duration": 34,
    "start_time": "2022-05-25T19:27:15.073Z"
   },
   {
    "duration": 16,
    "start_time": "2022-05-25T19:27:15.109Z"
   },
   {
    "duration": 11,
    "start_time": "2022-05-25T19:27:15.127Z"
   },
   {
    "duration": 21,
    "start_time": "2022-05-25T19:27:24.141Z"
   },
   {
    "duration": 22,
    "start_time": "2022-05-25T19:27:37.095Z"
   },
   {
    "duration": 15,
    "start_time": "2022-05-25T19:27:43.063Z"
   },
   {
    "duration": 94,
    "start_time": "2022-05-25T19:29:00.112Z"
   },
   {
    "duration": 36,
    "start_time": "2022-05-25T19:29:48.427Z"
   },
   {
    "duration": 710,
    "start_time": "2022-05-25T19:29:58.107Z"
   },
   {
    "duration": 40,
    "start_time": "2022-05-25T19:30:16.326Z"
   },
   {
    "duration": 25,
    "start_time": "2022-05-25T19:30:21.753Z"
   },
   {
    "duration": 67,
    "start_time": "2022-05-25T19:34:31.699Z"
   },
   {
    "duration": 28,
    "start_time": "2022-05-25T19:36:04.864Z"
   },
   {
    "duration": 33,
    "start_time": "2022-05-25T19:36:15.398Z"
   },
   {
    "duration": 64,
    "start_time": "2022-05-25T19:36:32.579Z"
   },
   {
    "duration": 48,
    "start_time": "2022-05-25T19:36:37.178Z"
   },
   {
    "duration": 28,
    "start_time": "2022-05-25T19:36:39.640Z"
   },
   {
    "duration": 19,
    "start_time": "2022-05-25T19:38:40.580Z"
   },
   {
    "duration": 28,
    "start_time": "2022-05-25T19:41:29.178Z"
   },
   {
    "duration": 12,
    "start_time": "2022-05-25T19:47:10.117Z"
   },
   {
    "duration": 12,
    "start_time": "2022-05-25T19:47:22.843Z"
   },
   {
    "duration": 28,
    "start_time": "2022-05-25T19:47:35.515Z"
   },
   {
    "duration": 27,
    "start_time": "2022-05-25T19:47:37.402Z"
   },
   {
    "duration": 20,
    "start_time": "2022-05-25T19:47:38.956Z"
   },
   {
    "duration": 3,
    "start_time": "2022-05-25T19:48:02.153Z"
   },
   {
    "duration": 1057,
    "start_time": "2022-05-25T19:48:02.158Z"
   },
   {
    "duration": 20,
    "start_time": "2022-05-25T19:48:03.217Z"
   },
   {
    "duration": 17,
    "start_time": "2022-05-25T19:48:03.239Z"
   },
   {
    "duration": 31,
    "start_time": "2022-05-25T19:48:03.257Z"
   },
   {
    "duration": 46,
    "start_time": "2022-05-25T19:48:03.290Z"
   },
   {
    "duration": 48,
    "start_time": "2022-05-25T19:48:03.338Z"
   },
   {
    "duration": 7,
    "start_time": "2022-05-25T19:48:03.402Z"
   },
   {
    "duration": 14,
    "start_time": "2022-05-25T19:48:03.410Z"
   },
   {
    "duration": 25,
    "start_time": "2022-05-25T19:48:03.427Z"
   },
   {
    "duration": 54,
    "start_time": "2022-05-25T19:48:03.455Z"
   },
   {
    "duration": 40,
    "start_time": "2022-05-25T19:48:03.510Z"
   },
   {
    "duration": 22,
    "start_time": "2022-05-25T19:48:03.552Z"
   },
   {
    "duration": 45,
    "start_time": "2022-05-25T19:48:03.576Z"
   },
   {
    "duration": 4,
    "start_time": "2022-05-25T19:48:03.623Z"
   },
   {
    "duration": 15,
    "start_time": "2022-05-25T19:48:03.628Z"
   },
   {
    "duration": 17,
    "start_time": "2022-05-25T19:48:03.644Z"
   },
   {
    "duration": 44,
    "start_time": "2022-05-25T19:48:03.663Z"
   },
   {
    "duration": 10,
    "start_time": "2022-05-25T19:48:03.709Z"
   },
   {
    "duration": 19,
    "start_time": "2022-05-25T19:48:03.721Z"
   },
   {
    "duration": 17,
    "start_time": "2022-05-25T19:48:03.741Z"
   },
   {
    "duration": 11,
    "start_time": "2022-05-25T19:48:03.760Z"
   },
   {
    "duration": 27,
    "start_time": "2022-05-25T19:53:10.424Z"
   },
   {
    "duration": 15,
    "start_time": "2022-05-25T19:53:19.116Z"
   },
   {
    "duration": 121,
    "start_time": "2022-05-25T19:53:38.916Z"
   },
   {
    "duration": 16,
    "start_time": "2022-05-25T19:53:40.574Z"
   },
   {
    "duration": 24,
    "start_time": "2022-05-25T19:53:55.183Z"
   },
   {
    "duration": 15,
    "start_time": "2022-05-25T19:53:56.642Z"
   },
   {
    "duration": 12,
    "start_time": "2022-05-25T19:54:29.497Z"
   },
   {
    "duration": 27,
    "start_time": "2022-05-25T19:54:30.737Z"
   },
   {
    "duration": 8,
    "start_time": "2022-05-25T19:54:40.884Z"
   },
   {
    "duration": 16,
    "start_time": "2022-05-25T19:54:42.471Z"
   },
   {
    "duration": 7,
    "start_time": "2022-05-25T19:54:55.068Z"
   },
   {
    "duration": 30,
    "start_time": "2022-05-25T19:54:56.741Z"
   },
   {
    "duration": 10,
    "start_time": "2022-05-25T19:58:31.090Z"
   },
   {
    "duration": 17,
    "start_time": "2022-05-25T19:58:33.217Z"
   },
   {
    "duration": 11,
    "start_time": "2022-05-25T19:59:08.115Z"
   },
   {
    "duration": 11,
    "start_time": "2022-05-25T19:59:11.081Z"
   },
   {
    "duration": 7,
    "start_time": "2022-05-25T19:59:19.711Z"
   },
   {
    "duration": 8,
    "start_time": "2022-05-25T19:59:21.737Z"
   },
   {
    "duration": 21,
    "start_time": "2022-05-25T19:59:35.658Z"
   },
   {
    "duration": 6,
    "start_time": "2022-05-25T19:59:52.774Z"
   },
   {
    "duration": 8,
    "start_time": "2022-05-25T20:00:00.097Z"
   },
   {
    "duration": 5,
    "start_time": "2022-05-25T20:00:06.170Z"
   },
   {
    "duration": 31,
    "start_time": "2022-05-25T20:00:59.785Z"
   },
   {
    "duration": 9,
    "start_time": "2022-05-25T20:01:25.388Z"
   },
   {
    "duration": 26,
    "start_time": "2022-05-25T20:01:27.162Z"
   },
   {
    "duration": 3,
    "start_time": "2022-05-25T20:01:47.416Z"
   },
   {
    "duration": 410,
    "start_time": "2022-05-25T20:01:47.421Z"
   },
   {
    "duration": 24,
    "start_time": "2022-05-25T20:01:47.833Z"
   },
   {
    "duration": 20,
    "start_time": "2022-05-25T20:01:47.860Z"
   },
   {
    "duration": 26,
    "start_time": "2022-05-25T20:01:47.903Z"
   },
   {
    "duration": 40,
    "start_time": "2022-05-25T20:01:47.932Z"
   },
   {
    "duration": 53,
    "start_time": "2022-05-25T20:01:47.973Z"
   },
   {
    "duration": 6,
    "start_time": "2022-05-25T20:01:48.028Z"
   },
   {
    "duration": 7,
    "start_time": "2022-05-25T20:01:48.036Z"
   },
   {
    "duration": 30,
    "start_time": "2022-05-25T20:01:48.045Z"
   },
   {
    "duration": 32,
    "start_time": "2022-05-25T20:01:48.101Z"
   },
   {
    "duration": 40,
    "start_time": "2022-05-25T20:01:48.134Z"
   },
   {
    "duration": 43,
    "start_time": "2022-05-25T20:01:48.176Z"
   },
   {
    "duration": 35,
    "start_time": "2022-05-25T20:01:48.222Z"
   },
   {
    "duration": 4,
    "start_time": "2022-05-25T20:01:48.260Z"
   },
   {
    "duration": 43,
    "start_time": "2022-05-25T20:01:48.267Z"
   },
   {
    "duration": 20,
    "start_time": "2022-05-25T20:01:48.312Z"
   },
   {
    "duration": 22,
    "start_time": "2022-05-25T20:01:48.334Z"
   },
   {
    "duration": 15,
    "start_time": "2022-05-25T20:01:48.357Z"
   },
   {
    "duration": 41,
    "start_time": "2022-05-25T20:01:48.374Z"
   },
   {
    "duration": 17,
    "start_time": "2022-05-25T20:01:48.417Z"
   },
   {
    "duration": 15,
    "start_time": "2022-05-25T20:01:48.435Z"
   },
   {
    "duration": 49,
    "start_time": "2022-05-25T20:01:48.453Z"
   },
   {
    "duration": 14,
    "start_time": "2022-05-25T20:01:48.504Z"
   },
   {
    "duration": 10,
    "start_time": "2022-05-25T20:01:48.519Z"
   },
   {
    "duration": 12,
    "start_time": "2022-05-25T20:01:51.218Z"
   },
   {
    "duration": 16,
    "start_time": "2022-05-25T20:01:52.823Z"
   },
   {
    "duration": 11,
    "start_time": "2022-05-25T20:02:09.581Z"
   },
   {
    "duration": 46,
    "start_time": "2022-05-25T20:02:11.226Z"
   },
   {
    "duration": 13,
    "start_time": "2022-05-25T20:02:44.795Z"
   },
   {
    "duration": 19,
    "start_time": "2022-05-25T20:02:51.019Z"
   },
   {
    "duration": 10,
    "start_time": "2022-05-25T20:02:56.843Z"
   },
   {
    "duration": 32,
    "start_time": "2022-05-25T20:03:19.955Z"
   },
   {
    "duration": 26,
    "start_time": "2022-05-25T20:03:42.960Z"
   },
   {
    "duration": 5,
    "start_time": "2022-05-25T20:04:24.175Z"
   },
   {
    "duration": 5,
    "start_time": "2022-05-25T20:04:31.254Z"
   },
   {
    "duration": 24,
    "start_time": "2022-05-25T20:04:36.109Z"
   },
   {
    "duration": 8,
    "start_time": "2022-05-25T20:05:42.186Z"
   },
   {
    "duration": 6,
    "start_time": "2022-05-25T20:06:00.352Z"
   },
   {
    "duration": 6,
    "start_time": "2022-05-25T20:06:17.287Z"
   },
   {
    "duration": 5,
    "start_time": "2022-05-25T20:06:24.940Z"
   },
   {
    "duration": 31,
    "start_time": "2022-05-25T20:06:41.219Z"
   },
   {
    "duration": 8,
    "start_time": "2022-05-25T20:06:55.956Z"
   },
   {
    "duration": 4,
    "start_time": "2022-05-25T20:06:57.529Z"
   },
   {
    "duration": 26,
    "start_time": "2022-05-25T20:06:58.857Z"
   },
   {
    "duration": 970,
    "start_time": "2022-05-26T10:59:29.446Z"
   },
   {
    "duration": 1034,
    "start_time": "2022-05-26T10:59:30.418Z"
   },
   {
    "duration": 26,
    "start_time": "2022-05-26T10:59:31.454Z"
   },
   {
    "duration": 18,
    "start_time": "2022-05-26T10:59:31.482Z"
   },
   {
    "duration": 23,
    "start_time": "2022-05-26T10:59:31.503Z"
   },
   {
    "duration": 52,
    "start_time": "2022-05-26T10:59:31.528Z"
   },
   {
    "duration": 31,
    "start_time": "2022-05-26T10:59:31.582Z"
   },
   {
    "duration": 7,
    "start_time": "2022-05-26T10:59:31.615Z"
   },
   {
    "duration": 9,
    "start_time": "2022-05-26T10:59:31.623Z"
   },
   {
    "duration": 51,
    "start_time": "2022-05-26T10:59:31.635Z"
   },
   {
    "duration": 34,
    "start_time": "2022-05-26T10:59:31.688Z"
   },
   {
    "duration": 63,
    "start_time": "2022-05-26T10:59:31.724Z"
   },
   {
    "duration": 24,
    "start_time": "2022-05-26T10:59:31.788Z"
   },
   {
    "duration": 50,
    "start_time": "2022-05-26T10:59:31.815Z"
   },
   {
    "duration": 4,
    "start_time": "2022-05-26T10:59:31.867Z"
   },
   {
    "duration": 25,
    "start_time": "2022-05-26T10:59:31.872Z"
   },
   {
    "duration": 18,
    "start_time": "2022-05-26T10:59:31.899Z"
   },
   {
    "duration": 45,
    "start_time": "2022-05-26T10:59:31.919Z"
   },
   {
    "duration": 12,
    "start_time": "2022-05-26T10:59:31.967Z"
   },
   {
    "duration": 22,
    "start_time": "2022-05-26T10:59:31.981Z"
   },
   {
    "duration": 24,
    "start_time": "2022-05-26T10:59:32.005Z"
   },
   {
    "duration": 34,
    "start_time": "2022-05-26T10:59:32.031Z"
   },
   {
    "duration": 12,
    "start_time": "2022-05-26T10:59:32.068Z"
   },
   {
    "duration": 15,
    "start_time": "2022-05-26T10:59:32.082Z"
   },
   {
    "duration": 10,
    "start_time": "2022-05-26T10:59:32.098Z"
   },
   {
    "duration": 13,
    "start_time": "2022-05-26T10:59:54.037Z"
   },
   {
    "duration": 3,
    "start_time": "2022-05-26T11:00:02.416Z"
   },
   {
    "duration": 527,
    "start_time": "2022-05-26T11:00:02.422Z"
   },
   {
    "duration": 34,
    "start_time": "2022-05-26T11:00:02.950Z"
   },
   {
    "duration": 16,
    "start_time": "2022-05-26T11:00:02.986Z"
   },
   {
    "duration": 25,
    "start_time": "2022-05-26T11:00:03.004Z"
   },
   {
    "duration": 63,
    "start_time": "2022-05-26T11:00:03.030Z"
   },
   {
    "duration": 32,
    "start_time": "2022-05-26T11:00:03.095Z"
   },
   {
    "duration": 7,
    "start_time": "2022-05-26T11:00:03.128Z"
   },
   {
    "duration": 42,
    "start_time": "2022-05-26T11:00:03.137Z"
   },
   {
    "duration": 29,
    "start_time": "2022-05-26T11:00:03.183Z"
   },
   {
    "duration": 32,
    "start_time": "2022-05-26T11:00:03.214Z"
   },
   {
    "duration": 62,
    "start_time": "2022-05-26T11:00:03.248Z"
   },
   {
    "duration": 25,
    "start_time": "2022-05-26T11:00:03.312Z"
   },
   {
    "duration": 47,
    "start_time": "2022-05-26T11:00:03.339Z"
   },
   {
    "duration": 4,
    "start_time": "2022-05-26T11:00:03.388Z"
   },
   {
    "duration": 18,
    "start_time": "2022-05-26T11:00:03.394Z"
   },
   {
    "duration": 16,
    "start_time": "2022-05-26T11:00:03.413Z"
   },
   {
    "duration": 53,
    "start_time": "2022-05-26T11:00:03.431Z"
   },
   {
    "duration": 12,
    "start_time": "2022-05-26T11:00:03.486Z"
   },
   {
    "duration": 24,
    "start_time": "2022-05-26T11:00:03.499Z"
   },
   {
    "duration": 18,
    "start_time": "2022-05-26T11:00:03.525Z"
   },
   {
    "duration": 40,
    "start_time": "2022-05-26T11:00:03.544Z"
   },
   {
    "duration": 15,
    "start_time": "2022-05-26T11:00:03.586Z"
   },
   {
    "duration": 20,
    "start_time": "2022-05-26T11:00:03.604Z"
   },
   {
    "duration": 14,
    "start_time": "2022-05-26T11:00:03.626Z"
   },
   {
    "duration": 15,
    "start_time": "2022-05-26T11:00:06.997Z"
   },
   {
    "duration": 13,
    "start_time": "2022-05-26T11:00:09.208Z"
   },
   {
    "duration": 5,
    "start_time": "2022-05-26T11:00:12.406Z"
   },
   {
    "duration": 21,
    "start_time": "2022-05-26T11:00:14.109Z"
   },
   {
    "duration": 105,
    "start_time": "2022-05-26T11:00:49.503Z"
   },
   {
    "duration": 14,
    "start_time": "2022-05-26T11:02:10.776Z"
   },
   {
    "duration": 6,
    "start_time": "2022-05-26T11:02:13.482Z"
   },
   {
    "duration": 34,
    "start_time": "2022-05-26T11:02:14.745Z"
   },
   {
    "duration": 3,
    "start_time": "2022-05-26T11:02:27.931Z"
   },
   {
    "duration": 493,
    "start_time": "2022-05-26T11:02:27.937Z"
   },
   {
    "duration": 19,
    "start_time": "2022-05-26T11:02:28.432Z"
   },
   {
    "duration": 35,
    "start_time": "2022-05-26T11:02:28.452Z"
   },
   {
    "duration": 24,
    "start_time": "2022-05-26T11:02:28.489Z"
   },
   {
    "duration": 28,
    "start_time": "2022-05-26T11:02:28.515Z"
   },
   {
    "duration": 49,
    "start_time": "2022-05-26T11:02:28.574Z"
   },
   {
    "duration": 6,
    "start_time": "2022-05-26T11:02:28.625Z"
   },
   {
    "duration": 8,
    "start_time": "2022-05-26T11:02:28.633Z"
   },
   {
    "duration": 54,
    "start_time": "2022-05-26T11:02:28.643Z"
   },
   {
    "duration": 32,
    "start_time": "2022-05-26T11:02:28.699Z"
   },
   {
    "duration": 57,
    "start_time": "2022-05-26T11:02:28.732Z"
   },
   {
    "duration": 24,
    "start_time": "2022-05-26T11:02:28.791Z"
   },
   {
    "duration": 29,
    "start_time": "2022-05-26T11:02:28.818Z"
   },
   {
    "duration": 28,
    "start_time": "2022-05-26T11:02:28.854Z"
   },
   {
    "duration": 27,
    "start_time": "2022-05-26T11:02:28.888Z"
   },
   {
    "duration": 28,
    "start_time": "2022-05-26T11:02:28.918Z"
   },
   {
    "duration": 34,
    "start_time": "2022-05-26T11:02:28.948Z"
   },
   {
    "duration": 15,
    "start_time": "2022-05-26T11:02:28.985Z"
   },
   {
    "duration": 80,
    "start_time": "2022-05-26T11:02:29.002Z"
   },
   {
    "duration": 21,
    "start_time": "2022-05-26T11:02:29.085Z"
   },
   {
    "duration": 76,
    "start_time": "2022-05-26T11:02:29.108Z"
   },
   {
    "duration": 11,
    "start_time": "2022-05-26T11:02:34.411Z"
   },
   {
    "duration": 16,
    "start_time": "2022-05-26T11:02:36.608Z"
   },
   {
    "duration": 11,
    "start_time": "2022-05-26T11:02:44.086Z"
   },
   {
    "duration": 24,
    "start_time": "2022-05-26T11:02:47.776Z"
   },
   {
    "duration": 10,
    "start_time": "2022-05-26T11:02:57.481Z"
   },
   {
    "duration": 5,
    "start_time": "2022-05-26T11:02:59.736Z"
   },
   {
    "duration": 19,
    "start_time": "2022-05-26T11:03:01.634Z"
   },
   {
    "duration": 3,
    "start_time": "2022-05-26T11:08:12.858Z"
   },
   {
    "duration": 498,
    "start_time": "2022-05-26T11:08:12.863Z"
   },
   {
    "duration": 32,
    "start_time": "2022-05-26T11:08:13.363Z"
   },
   {
    "duration": 19,
    "start_time": "2022-05-26T11:08:13.396Z"
   },
   {
    "duration": 40,
    "start_time": "2022-05-26T11:08:13.417Z"
   },
   {
    "duration": 51,
    "start_time": "2022-05-26T11:08:13.459Z"
   },
   {
    "duration": 35,
    "start_time": "2022-05-26T11:08:13.512Z"
   },
   {
    "duration": 7,
    "start_time": "2022-05-26T11:08:13.549Z"
   },
   {
    "duration": 33,
    "start_time": "2022-05-26T11:08:13.557Z"
   },
   {
    "duration": 47,
    "start_time": "2022-05-26T11:08:13.592Z"
   },
   {
    "duration": 42,
    "start_time": "2022-05-26T11:08:13.641Z"
   },
   {
    "duration": 45,
    "start_time": "2022-05-26T11:08:13.685Z"
   },
   {
    "duration": 42,
    "start_time": "2022-05-26T11:08:13.732Z"
   },
   {
    "duration": 32,
    "start_time": "2022-05-26T11:08:13.777Z"
   },
   {
    "duration": 3,
    "start_time": "2022-05-26T11:08:13.811Z"
   },
   {
    "duration": 21,
    "start_time": "2022-05-26T11:08:13.816Z"
   },
   {
    "duration": 36,
    "start_time": "2022-05-26T11:08:13.839Z"
   },
   {
    "duration": 23,
    "start_time": "2022-05-26T11:08:13.877Z"
   },
   {
    "duration": 14,
    "start_time": "2022-05-26T11:09:13.930Z"
   },
   {
    "duration": 12,
    "start_time": "2022-05-26T11:09:29.308Z"
   },
   {
    "duration": 15,
    "start_time": "2022-05-26T11:09:32.018Z"
   },
   {
    "duration": 27,
    "start_time": "2022-05-26T11:09:34.960Z"
   },
   {
    "duration": 18,
    "start_time": "2022-05-26T11:09:35.396Z"
   },
   {
    "duration": 14,
    "start_time": "2022-05-26T11:09:35.748Z"
   },
   {
    "duration": 18,
    "start_time": "2022-05-26T11:09:38.257Z"
   },
   {
    "duration": 17,
    "start_time": "2022-05-26T11:09:39.501Z"
   },
   {
    "duration": 11,
    "start_time": "2022-05-26T11:09:41.276Z"
   },
   {
    "duration": 17,
    "start_time": "2022-05-26T11:09:41.470Z"
   },
   {
    "duration": 8,
    "start_time": "2022-05-26T11:09:41.727Z"
   },
   {
    "duration": 5,
    "start_time": "2022-05-26T11:09:43.440Z"
   },
   {
    "duration": 36,
    "start_time": "2022-05-26T11:09:43.643Z"
   },
   {
    "duration": 11,
    "start_time": "2022-05-26T11:11:36.153Z"
   },
   {
    "duration": 23,
    "start_time": "2022-05-26T11:11:37.954Z"
   },
   {
    "duration": 9,
    "start_time": "2022-05-26T11:11:44.831Z"
   },
   {
    "duration": 6,
    "start_time": "2022-05-26T11:11:47.197Z"
   },
   {
    "duration": 20,
    "start_time": "2022-05-26T11:11:49.505Z"
   },
   {
    "duration": 16,
    "start_time": "2022-05-26T11:12:28.624Z"
   },
   {
    "duration": 3,
    "start_time": "2022-05-26T11:12:37.403Z"
   },
   {
    "duration": 493,
    "start_time": "2022-05-26T11:12:37.408Z"
   },
   {
    "duration": 18,
    "start_time": "2022-05-26T11:12:37.902Z"
   },
   {
    "duration": 15,
    "start_time": "2022-05-26T11:12:37.922Z"
   },
   {
    "duration": 50,
    "start_time": "2022-05-26T11:12:37.940Z"
   },
   {
    "duration": 30,
    "start_time": "2022-05-26T11:12:37.992Z"
   },
   {
    "duration": 59,
    "start_time": "2022-05-26T11:12:38.024Z"
   },
   {
    "duration": 7,
    "start_time": "2022-05-26T11:12:38.084Z"
   },
   {
    "duration": 8,
    "start_time": "2022-05-26T11:12:38.092Z"
   },
   {
    "duration": 29,
    "start_time": "2022-05-26T11:12:38.101Z"
   },
   {
    "duration": 55,
    "start_time": "2022-05-26T11:12:38.132Z"
   },
   {
    "duration": 39,
    "start_time": "2022-05-26T11:12:38.188Z"
   },
   {
    "duration": 24,
    "start_time": "2022-05-26T11:12:38.228Z"
   },
   {
    "duration": 40,
    "start_time": "2022-05-26T11:12:38.254Z"
   },
   {
    "duration": 3,
    "start_time": "2022-05-26T11:12:38.296Z"
   },
   {
    "duration": 16,
    "start_time": "2022-05-26T11:12:38.300Z"
   },
   {
    "duration": 17,
    "start_time": "2022-05-26T11:12:38.318Z"
   },
   {
    "duration": 23,
    "start_time": "2022-05-26T11:12:40.787Z"
   },
   {
    "duration": 23,
    "start_time": "2022-05-26T11:12:42.251Z"
   },
   {
    "duration": 19,
    "start_time": "2022-05-26T11:12:49.907Z"
   },
   {
    "duration": 21,
    "start_time": "2022-05-26T11:12:52.577Z"
   },
   {
    "duration": 13,
    "start_time": "2022-05-26T11:12:55.184Z"
   },
   {
    "duration": 12,
    "start_time": "2022-05-26T11:12:59.706Z"
   },
   {
    "duration": 25,
    "start_time": "2022-05-26T11:13:01.860Z"
   },
   {
    "duration": 19,
    "start_time": "2022-05-26T11:13:23.776Z"
   },
   {
    "duration": 11,
    "start_time": "2022-05-26T11:13:28.177Z"
   },
   {
    "duration": 15,
    "start_time": "2022-05-26T11:13:30.330Z"
   },
   {
    "duration": 11,
    "start_time": "2022-05-26T11:13:36.275Z"
   },
   {
    "duration": 5,
    "start_time": "2022-05-26T11:13:37.744Z"
   },
   {
    "duration": 19,
    "start_time": "2022-05-26T11:13:40.179Z"
   },
   {
    "duration": 9,
    "start_time": "2022-05-26T11:14:17.122Z"
   },
   {
    "duration": 14,
    "start_time": "2022-05-26T11:14:18.640Z"
   },
   {
    "duration": 11,
    "start_time": "2022-05-26T11:14:21.017Z"
   },
   {
    "duration": 16,
    "start_time": "2022-05-26T11:14:22.989Z"
   },
   {
    "duration": 9,
    "start_time": "2022-05-26T11:14:25.083Z"
   },
   {
    "duration": 20,
    "start_time": "2022-05-26T11:14:30.694Z"
   },
   {
    "duration": 54,
    "start_time": "2022-05-26T11:19:33.191Z"
   },
   {
    "duration": 18,
    "start_time": "2022-05-26T11:19:37.706Z"
   },
   {
    "duration": 7,
    "start_time": "2022-05-26T11:22:21.086Z"
   },
   {
    "duration": 21,
    "start_time": "2022-05-26T11:22:25.476Z"
   },
   {
    "duration": 3,
    "start_time": "2022-05-26T11:22:33.694Z"
   },
   {
    "duration": 497,
    "start_time": "2022-05-26T11:22:33.699Z"
   },
   {
    "duration": 19,
    "start_time": "2022-05-26T11:22:34.198Z"
   },
   {
    "duration": 17,
    "start_time": "2022-05-26T11:22:34.219Z"
   },
   {
    "duration": 58,
    "start_time": "2022-05-26T11:22:34.239Z"
   },
   {
    "duration": 30,
    "start_time": "2022-05-26T11:22:34.299Z"
   },
   {
    "duration": 56,
    "start_time": "2022-05-26T11:22:34.331Z"
   },
   {
    "duration": 7,
    "start_time": "2022-05-26T11:22:34.389Z"
   },
   {
    "duration": 12,
    "start_time": "2022-05-26T11:22:34.398Z"
   },
   {
    "duration": 38,
    "start_time": "2022-05-26T11:22:34.412Z"
   },
   {
    "duration": 54,
    "start_time": "2022-05-26T11:22:34.451Z"
   },
   {
    "duration": 40,
    "start_time": "2022-05-26T11:22:34.507Z"
   },
   {
    "duration": 44,
    "start_time": "2022-05-26T11:22:34.549Z"
   },
   {
    "duration": 29,
    "start_time": "2022-05-26T11:22:34.597Z"
   },
   {
    "duration": 3,
    "start_time": "2022-05-26T11:22:34.628Z"
   },
   {
    "duration": 42,
    "start_time": "2022-05-26T11:22:34.633Z"
   },
   {
    "duration": 16,
    "start_time": "2022-05-26T11:22:34.678Z"
   },
   {
    "duration": 27,
    "start_time": "2022-05-26T11:22:34.696Z"
   },
   {
    "duration": 13,
    "start_time": "2022-05-26T11:22:34.725Z"
   },
   {
    "duration": 47,
    "start_time": "2022-05-26T11:22:34.739Z"
   },
   {
    "duration": 20,
    "start_time": "2022-05-26T11:22:34.788Z"
   },
   {
    "duration": 13,
    "start_time": "2022-05-26T11:22:34.810Z"
   },
   {
    "duration": 12,
    "start_time": "2022-05-26T11:22:34.825Z"
   },
   {
    "duration": 40,
    "start_time": "2022-05-26T11:22:34.839Z"
   },
   {
    "duration": 18,
    "start_time": "2022-05-26T11:22:34.880Z"
   },
   {
    "duration": 16,
    "start_time": "2022-05-26T11:22:34.900Z"
   },
   {
    "duration": 9,
    "start_time": "2022-05-26T11:22:38.679Z"
   },
   {
    "duration": 6,
    "start_time": "2022-05-26T11:22:46.808Z"
   },
   {
    "duration": 7,
    "start_time": "2022-05-26T11:23:00.023Z"
   },
   {
    "duration": 23,
    "start_time": "2022-05-26T11:23:02.179Z"
   },
   {
    "duration": 2,
    "start_time": "2022-05-26T11:23:16.432Z"
   },
   {
    "duration": 654,
    "start_time": "2022-05-26T11:23:16.436Z"
   },
   {
    "duration": 19,
    "start_time": "2022-05-26T11:23:17.092Z"
   },
   {
    "duration": 15,
    "start_time": "2022-05-26T11:23:17.113Z"
   },
   {
    "duration": 50,
    "start_time": "2022-05-26T11:23:17.130Z"
   },
   {
    "duration": 29,
    "start_time": "2022-05-26T11:23:17.182Z"
   },
   {
    "duration": 32,
    "start_time": "2022-05-26T11:23:17.212Z"
   },
   {
    "duration": 29,
    "start_time": "2022-05-26T11:23:17.246Z"
   },
   {
    "duration": 8,
    "start_time": "2022-05-26T11:23:17.277Z"
   },
   {
    "duration": 32,
    "start_time": "2022-05-26T11:23:17.287Z"
   },
   {
    "duration": 55,
    "start_time": "2022-05-26T11:23:17.320Z"
   },
   {
    "duration": 47,
    "start_time": "2022-05-26T11:23:17.377Z"
   },
   {
    "duration": 48,
    "start_time": "2022-05-26T11:23:17.426Z"
   },
   {
    "duration": 33,
    "start_time": "2022-05-26T11:23:17.481Z"
   },
   {
    "duration": 3,
    "start_time": "2022-05-26T11:23:17.516Z"
   },
   {
    "duration": 17,
    "start_time": "2022-05-26T11:23:17.520Z"
   },
   {
    "duration": 30,
    "start_time": "2022-05-26T11:23:17.539Z"
   },
   {
    "duration": 28,
    "start_time": "2022-05-26T11:23:17.571Z"
   },
   {
    "duration": 13,
    "start_time": "2022-05-26T11:23:17.601Z"
   },
   {
    "duration": 22,
    "start_time": "2022-05-26T11:23:17.616Z"
   },
   {
    "duration": 52,
    "start_time": "2022-05-26T11:23:17.639Z"
   },
   {
    "duration": 15,
    "start_time": "2022-05-26T11:23:17.693Z"
   },
   {
    "duration": 15,
    "start_time": "2022-05-26T11:23:17.710Z"
   },
   {
    "duration": 21,
    "start_time": "2022-05-26T11:23:17.727Z"
   },
   {
    "duration": 30,
    "start_time": "2022-05-26T11:23:17.750Z"
   },
   {
    "duration": 17,
    "start_time": "2022-05-26T11:23:17.783Z"
   },
   {
    "duration": 10,
    "start_time": "2022-05-26T11:23:19.913Z"
   },
   {
    "duration": 366,
    "start_time": "2022-05-26T11:23:21.377Z"
   },
   {
    "duration": 467,
    "start_time": "2022-05-26T11:23:43.977Z"
   },
   {
    "duration": 330,
    "start_time": "2022-05-26T11:26:41.993Z"
   },
   {
    "duration": 3,
    "start_time": "2022-05-26T11:26:56.410Z"
   },
   {
    "duration": 461,
    "start_time": "2022-05-26T11:26:56.415Z"
   },
   {
    "duration": 21,
    "start_time": "2022-05-26T11:26:56.877Z"
   },
   {
    "duration": 18,
    "start_time": "2022-05-26T11:26:56.900Z"
   },
   {
    "duration": 57,
    "start_time": "2022-05-26T11:26:56.921Z"
   },
   {
    "duration": 31,
    "start_time": "2022-05-26T11:26:56.979Z"
   },
   {
    "duration": 53,
    "start_time": "2022-05-26T11:26:57.012Z"
   },
   {
    "duration": 7,
    "start_time": "2022-05-26T11:26:57.067Z"
   },
   {
    "duration": 9,
    "start_time": "2022-05-26T11:26:57.076Z"
   },
   {
    "duration": 35,
    "start_time": "2022-05-26T11:26:57.088Z"
   },
   {
    "duration": 56,
    "start_time": "2022-05-26T11:26:57.125Z"
   },
   {
    "duration": 43,
    "start_time": "2022-05-26T11:26:57.183Z"
   },
   {
    "duration": 38,
    "start_time": "2022-05-26T11:26:57.228Z"
   },
   {
    "duration": 29,
    "start_time": "2022-05-26T11:26:57.269Z"
   },
   {
    "duration": 3,
    "start_time": "2022-05-26T11:26:57.300Z"
   },
   {
    "duration": 19,
    "start_time": "2022-05-26T11:26:57.304Z"
   },
   {
    "duration": 20,
    "start_time": "2022-05-26T11:26:57.325Z"
   },
   {
    "duration": 25,
    "start_time": "2022-05-26T11:26:57.364Z"
   },
   {
    "duration": 14,
    "start_time": "2022-05-26T11:26:57.391Z"
   },
   {
    "duration": 23,
    "start_time": "2022-05-26T11:26:57.406Z"
   },
   {
    "duration": 49,
    "start_time": "2022-05-26T11:26:57.431Z"
   },
   {
    "duration": 19,
    "start_time": "2022-05-26T11:26:57.482Z"
   },
   {
    "duration": 13,
    "start_time": "2022-05-26T11:26:57.503Z"
   },
   {
    "duration": 19,
    "start_time": "2022-05-26T11:26:57.519Z"
   },
   {
    "duration": 29,
    "start_time": "2022-05-26T11:26:57.542Z"
   },
   {
    "duration": 21,
    "start_time": "2022-05-26T11:26:57.573Z"
   },
   {
    "duration": 9,
    "start_time": "2022-05-26T11:27:00.200Z"
   },
   {
    "duration": 3,
    "start_time": "2022-05-26T11:27:03.456Z"
   },
   {
    "duration": 4,
    "start_time": "2022-05-26T11:27:15.030Z"
   },
   {
    "duration": 21,
    "start_time": "2022-05-26T11:27:17.013Z"
   },
   {
    "duration": 10,
    "start_time": "2022-05-26T11:28:35.815Z"
   },
   {
    "duration": 9,
    "start_time": "2022-05-26T11:29:14.491Z"
   },
   {
    "duration": 10,
    "start_time": "2022-05-26T11:29:24.148Z"
   },
   {
    "duration": 9,
    "start_time": "2022-05-26T11:29:59.291Z"
   },
   {
    "duration": 6,
    "start_time": "2022-05-26T11:30:14.742Z"
   },
   {
    "duration": 17,
    "start_time": "2022-05-26T11:30:16.608Z"
   },
   {
    "duration": 3,
    "start_time": "2022-05-26T11:30:20.900Z"
   },
   {
    "duration": 451,
    "start_time": "2022-05-26T11:30:20.904Z"
   },
   {
    "duration": 19,
    "start_time": "2022-05-26T11:30:21.357Z"
   },
   {
    "duration": 15,
    "start_time": "2022-05-26T11:30:21.378Z"
   },
   {
    "duration": 24,
    "start_time": "2022-05-26T11:30:21.395Z"
   },
   {
    "duration": 60,
    "start_time": "2022-05-26T11:30:21.420Z"
   },
   {
    "duration": 31,
    "start_time": "2022-05-26T11:30:21.482Z"
   },
   {
    "duration": 6,
    "start_time": "2022-05-26T11:30:21.515Z"
   },
   {
    "duration": 8,
    "start_time": "2022-05-26T11:30:21.523Z"
   },
   {
    "duration": 46,
    "start_time": "2022-05-26T11:30:21.532Z"
   },
   {
    "duration": 31,
    "start_time": "2022-05-26T11:30:21.580Z"
   },
   {
    "duration": 60,
    "start_time": "2022-05-26T11:30:21.613Z"
   },
   {
    "duration": 24,
    "start_time": "2022-05-26T11:30:21.675Z"
   },
   {
    "duration": 28,
    "start_time": "2022-05-26T11:30:21.703Z"
   },
   {
    "duration": 3,
    "start_time": "2022-05-26T11:30:21.732Z"
   },
   {
    "duration": 34,
    "start_time": "2022-05-26T11:30:21.737Z"
   },
   {
    "duration": 15,
    "start_time": "2022-05-26T11:30:21.773Z"
   },
   {
    "duration": 22,
    "start_time": "2022-05-26T11:30:21.789Z"
   },
   {
    "duration": 13,
    "start_time": "2022-05-26T11:30:21.813Z"
   },
   {
    "duration": 46,
    "start_time": "2022-05-26T11:30:21.828Z"
   },
   {
    "duration": 20,
    "start_time": "2022-05-26T11:30:21.876Z"
   },
   {
    "duration": 12,
    "start_time": "2022-05-26T11:30:21.897Z"
   },
   {
    "duration": 11,
    "start_time": "2022-05-26T11:30:21.911Z"
   },
   {
    "duration": 15,
    "start_time": "2022-05-26T11:30:21.923Z"
   },
   {
    "duration": 12,
    "start_time": "2022-05-26T11:30:21.965Z"
   },
   {
    "duration": 14,
    "start_time": "2022-05-26T11:30:21.978Z"
   },
   {
    "duration": 10,
    "start_time": "2022-05-26T11:30:21.993Z"
   },
   {
    "duration": 3,
    "start_time": "2022-05-26T11:30:22.005Z"
   },
   {
    "duration": 5,
    "start_time": "2022-05-26T11:30:22.009Z"
   },
   {
    "duration": 4,
    "start_time": "2022-05-26T11:30:26.670Z"
   },
   {
    "duration": 14,
    "start_time": "2022-05-26T11:30:28.510Z"
   },
   {
    "duration": 18,
    "start_time": "2022-05-26T11:30:42.296Z"
   },
   {
    "duration": 16,
    "start_time": "2022-05-26T11:30:52.999Z"
   },
   {
    "duration": 65,
    "start_time": "2022-05-26T11:31:10.478Z"
   },
   {
    "duration": 21,
    "start_time": "2022-05-26T11:31:15.896Z"
   },
   {
    "duration": 16,
    "start_time": "2022-05-26T11:34:53.778Z"
   },
   {
    "duration": 13,
    "start_time": "2022-05-26T11:35:34.526Z"
   },
   {
    "duration": 20,
    "start_time": "2022-05-26T11:35:43.917Z"
   },
   {
    "duration": 18,
    "start_time": "2022-05-26T11:37:53.759Z"
   },
   {
    "duration": 15,
    "start_time": "2022-05-26T11:38:26.779Z"
   },
   {
    "duration": 21,
    "start_time": "2022-05-26T11:38:32.558Z"
   },
   {
    "duration": 35,
    "start_time": "2022-05-26T11:38:58.348Z"
   },
   {
    "duration": 11,
    "start_time": "2022-05-26T11:39:13.330Z"
   },
   {
    "duration": 9,
    "start_time": "2022-05-26T11:39:33.956Z"
   },
   {
    "duration": 9,
    "start_time": "2022-05-26T11:39:57.926Z"
   },
   {
    "duration": 8,
    "start_time": "2022-05-26T11:40:00.197Z"
   },
   {
    "duration": 521,
    "start_time": "2022-05-26T11:40:35.415Z"
   },
   {
    "duration": 176,
    "start_time": "2022-05-26T11:41:02.562Z"
   },
   {
    "duration": 173,
    "start_time": "2022-05-26T11:41:04.541Z"
   },
   {
    "duration": 157,
    "start_time": "2022-05-26T11:41:38.402Z"
   },
   {
    "duration": 197,
    "start_time": "2022-05-26T11:41:43.579Z"
   },
   {
    "duration": 181,
    "start_time": "2022-05-26T11:41:48.781Z"
   },
   {
    "duration": 15,
    "start_time": "2022-05-26T11:43:59.641Z"
   },
   {
    "duration": 22,
    "start_time": "2022-05-26T11:44:10.806Z"
   },
   {
    "duration": 27,
    "start_time": "2022-05-26T11:44:29.288Z"
   },
   {
    "duration": 31,
    "start_time": "2022-05-26T11:46:23.823Z"
   },
   {
    "duration": 398,
    "start_time": "2022-05-26T11:47:34.655Z"
   },
   {
    "duration": 140,
    "start_time": "2022-05-26T11:47:45.882Z"
   },
   {
    "duration": 240,
    "start_time": "2022-05-26T11:47:52.224Z"
   },
   {
    "duration": 143,
    "start_time": "2022-05-26T11:47:55.180Z"
   },
   {
    "duration": 280,
    "start_time": "2022-05-26T11:49:24.456Z"
   },
   {
    "duration": 280,
    "start_time": "2022-05-26T11:49:32.520Z"
   },
   {
    "duration": 252,
    "start_time": "2022-05-26T11:49:39.606Z"
   },
   {
    "duration": 267,
    "start_time": "2022-05-26T11:49:44.344Z"
   },
   {
    "duration": 812,
    "start_time": "2022-05-26T11:52:33.671Z"
   },
   {
    "duration": 3,
    "start_time": "2022-05-26T11:52:36.951Z"
   },
   {
    "duration": 486,
    "start_time": "2022-05-26T11:52:36.956Z"
   },
   {
    "duration": 28,
    "start_time": "2022-05-26T11:52:37.445Z"
   },
   {
    "duration": 20,
    "start_time": "2022-05-26T11:52:37.476Z"
   },
   {
    "duration": 29,
    "start_time": "2022-05-26T11:52:37.498Z"
   },
   {
    "duration": 54,
    "start_time": "2022-05-26T11:52:37.529Z"
   },
   {
    "duration": 33,
    "start_time": "2022-05-26T11:52:37.586Z"
   },
   {
    "duration": 6,
    "start_time": "2022-05-26T11:52:37.622Z"
   },
   {
    "duration": 35,
    "start_time": "2022-05-26T11:52:37.630Z"
   },
   {
    "duration": 29,
    "start_time": "2022-05-26T11:52:37.667Z"
   },
   {
    "duration": 34,
    "start_time": "2022-05-26T11:52:37.698Z"
   },
   {
    "duration": 80,
    "start_time": "2022-05-26T11:52:37.733Z"
   },
   {
    "duration": 24,
    "start_time": "2022-05-26T11:52:37.816Z"
   },
   {
    "duration": 60,
    "start_time": "2022-05-26T11:52:37.842Z"
   },
   {
    "duration": 2,
    "start_time": "2022-05-26T11:52:37.904Z"
   },
   {
    "duration": 18,
    "start_time": "2022-05-26T11:52:37.908Z"
   },
   {
    "duration": 23,
    "start_time": "2022-05-26T11:52:37.928Z"
   },
   {
    "duration": 39,
    "start_time": "2022-05-26T11:52:37.953Z"
   },
   {
    "duration": 14,
    "start_time": "2022-05-26T11:52:37.994Z"
   },
   {
    "duration": 23,
    "start_time": "2022-05-26T11:52:38.010Z"
   },
   {
    "duration": 56,
    "start_time": "2022-05-26T11:52:38.035Z"
   },
   {
    "duration": 13,
    "start_time": "2022-05-26T11:52:38.093Z"
   },
   {
    "duration": 11,
    "start_time": "2022-05-26T11:52:38.108Z"
   },
   {
    "duration": 46,
    "start_time": "2022-05-26T11:52:38.121Z"
   },
   {
    "duration": 16,
    "start_time": "2022-05-26T11:52:38.169Z"
   },
   {
    "duration": 14,
    "start_time": "2022-05-26T11:52:38.187Z"
   },
   {
    "duration": 13,
    "start_time": "2022-05-26T11:52:38.203Z"
   },
   {
    "duration": 3,
    "start_time": "2022-05-26T11:52:38.218Z"
   },
   {
    "duration": 5,
    "start_time": "2022-05-26T11:52:38.223Z"
   },
   {
    "duration": 34,
    "start_time": "2022-05-26T11:52:38.230Z"
   },
   {
    "duration": 65,
    "start_time": "2022-05-26T11:52:38.266Z"
   },
   {
    "duration": 36,
    "start_time": "2022-05-26T11:52:38.333Z"
   },
   {
    "duration": 30,
    "start_time": "2022-05-26T11:52:38.371Z"
   },
   {
    "duration": 31,
    "start_time": "2022-05-26T11:52:38.403Z"
   },
   {
    "duration": 299,
    "start_time": "2022-05-26T11:52:38.436Z"
   },
   {
    "duration": 290,
    "start_time": "2022-05-26T11:52:38.737Z"
   },
   {
    "duration": 321,
    "start_time": "2022-05-26T11:52:39.032Z"
   },
   {
    "duration": 453,
    "start_time": "2022-05-26T11:54:49.290Z"
   },
   {
    "duration": 1295,
    "start_time": "2022-05-26T11:55:02.541Z"
   },
   {
    "duration": 6,
    "start_time": "2022-05-26T11:56:01.219Z"
   },
   {
    "duration": 9,
    "start_time": "2022-05-26T11:56:06.836Z"
   },
   {
    "duration": 8,
    "start_time": "2022-05-26T11:56:19.253Z"
   },
   {
    "duration": 10,
    "start_time": "2022-05-26T12:01:08.622Z"
   },
   {
    "duration": 52,
    "start_time": "2022-05-26T12:01:16.332Z"
   },
   {
    "duration": 10,
    "start_time": "2022-05-26T12:01:20.077Z"
   },
   {
    "duration": 10,
    "start_time": "2022-05-26T12:02:01.729Z"
   },
   {
    "duration": 8,
    "start_time": "2022-05-26T12:03:43.181Z"
   },
   {
    "duration": 8,
    "start_time": "2022-05-26T12:04:34.347Z"
   },
   {
    "duration": 9,
    "start_time": "2022-05-26T12:04:42.252Z"
   },
   {
    "duration": 56,
    "start_time": "2022-05-26T13:00:27.579Z"
   },
   {
    "duration": 1135,
    "start_time": "2022-05-26T13:00:34.831Z"
   },
   {
    "duration": 439,
    "start_time": "2022-05-26T13:00:35.969Z"
   },
   {
    "duration": 24,
    "start_time": "2022-05-26T13:00:36.410Z"
   },
   {
    "duration": 32,
    "start_time": "2022-05-26T13:00:36.436Z"
   },
   {
    "duration": 24,
    "start_time": "2022-05-26T13:00:36.470Z"
   },
   {
    "duration": 28,
    "start_time": "2022-05-26T13:00:36.496Z"
   },
   {
    "duration": 56,
    "start_time": "2022-05-26T13:00:36.526Z"
   },
   {
    "duration": 8,
    "start_time": "2022-05-26T13:00:36.583Z"
   },
   {
    "duration": 16,
    "start_time": "2022-05-26T13:00:36.592Z"
   },
   {
    "duration": 37,
    "start_time": "2022-05-26T13:00:36.610Z"
   },
   {
    "duration": 31,
    "start_time": "2022-05-26T13:00:36.649Z"
   },
   {
    "duration": 44,
    "start_time": "2022-05-26T13:00:36.681Z"
   },
   {
    "duration": 44,
    "start_time": "2022-05-26T13:00:36.727Z"
   },
   {
    "duration": 35,
    "start_time": "2022-05-26T13:00:36.775Z"
   },
   {
    "duration": 2,
    "start_time": "2022-05-26T13:00:36.812Z"
   },
   {
    "duration": 15,
    "start_time": "2022-05-26T13:00:36.816Z"
   },
   {
    "duration": 37,
    "start_time": "2022-05-26T13:00:36.833Z"
   },
   {
    "duration": 24,
    "start_time": "2022-05-26T13:00:36.872Z"
   },
   {
    "duration": 12,
    "start_time": "2022-05-26T13:00:36.897Z"
   },
   {
    "duration": 23,
    "start_time": "2022-05-26T13:00:36.911Z"
   },
   {
    "duration": 41,
    "start_time": "2022-05-26T13:00:36.936Z"
   },
   {
    "duration": 11,
    "start_time": "2022-05-26T13:00:36.979Z"
   },
   {
    "duration": 11,
    "start_time": "2022-05-26T13:00:36.992Z"
   },
   {
    "duration": 15,
    "start_time": "2022-05-26T13:00:37.005Z"
   },
   {
    "duration": 37,
    "start_time": "2022-05-26T13:00:37.022Z"
   },
   {
    "duration": 14,
    "start_time": "2022-05-26T13:00:37.061Z"
   },
   {
    "duration": 9,
    "start_time": "2022-05-26T13:00:37.077Z"
   },
   {
    "duration": 10,
    "start_time": "2022-05-26T13:00:37.087Z"
   },
   {
    "duration": 7,
    "start_time": "2022-05-26T13:00:37.098Z"
   },
   {
    "duration": 5,
    "start_time": "2022-05-26T13:00:37.107Z"
   },
   {
    "duration": 46,
    "start_time": "2022-05-26T13:00:37.115Z"
   },
   {
    "duration": 76,
    "start_time": "2022-05-26T13:00:37.164Z"
   },
   {
    "duration": 38,
    "start_time": "2022-05-26T13:00:37.243Z"
   },
   {
    "duration": 32,
    "start_time": "2022-05-26T13:00:37.283Z"
   },
   {
    "duration": 57,
    "start_time": "2022-05-26T13:00:37.318Z"
   },
   {
    "duration": 258,
    "start_time": "2022-05-26T13:00:37.377Z"
   },
   {
    "duration": 311,
    "start_time": "2022-05-26T13:00:37.636Z"
   },
   {
    "duration": 239,
    "start_time": "2022-05-26T13:00:37.949Z"
   },
   {
    "duration": 8,
    "start_time": "2022-05-26T13:00:38.190Z"
   },
   {
    "duration": 9,
    "start_time": "2022-05-26T13:00:38.200Z"
   },
   {
    "duration": 5,
    "start_time": "2022-05-26T13:05:22.022Z"
   },
   {
    "duration": 11,
    "start_time": "2022-05-26T13:05:35.143Z"
   },
   {
    "duration": 22,
    "start_time": "2022-05-26T13:05:52.655Z"
   },
   {
    "duration": 21,
    "start_time": "2022-05-26T13:22:38.439Z"
   },
   {
    "duration": 1087,
    "start_time": "2022-05-26T13:32:01.370Z"
   },
   {
    "duration": 433,
    "start_time": "2022-05-26T13:32:02.459Z"
   },
   {
    "duration": 25,
    "start_time": "2022-05-26T13:32:02.893Z"
   },
   {
    "duration": 38,
    "start_time": "2022-05-26T13:32:02.921Z"
   },
   {
    "duration": 24,
    "start_time": "2022-05-26T13:32:02.961Z"
   },
   {
    "duration": 34,
    "start_time": "2022-05-26T13:32:02.987Z"
   },
   {
    "duration": 65,
    "start_time": "2022-05-26T13:32:03.023Z"
   },
   {
    "duration": 9,
    "start_time": "2022-05-26T13:32:03.090Z"
   },
   {
    "duration": 11,
    "start_time": "2022-05-26T13:32:03.101Z"
   },
   {
    "duration": 44,
    "start_time": "2022-05-26T13:32:03.115Z"
   },
   {
    "duration": 30,
    "start_time": "2022-05-26T13:32:03.161Z"
   },
   {
    "duration": 41,
    "start_time": "2022-05-26T13:32:03.193Z"
   },
   {
    "duration": 37,
    "start_time": "2022-05-26T13:32:03.235Z"
   },
   {
    "duration": 33,
    "start_time": "2022-05-26T13:32:03.274Z"
   },
   {
    "duration": 3,
    "start_time": "2022-05-26T13:32:03.309Z"
   },
   {
    "duration": 18,
    "start_time": "2022-05-26T13:32:03.314Z"
   },
   {
    "duration": 33,
    "start_time": "2022-05-26T13:32:03.334Z"
   },
   {
    "duration": 29,
    "start_time": "2022-05-26T13:32:03.369Z"
   },
   {
    "duration": 18,
    "start_time": "2022-05-26T13:32:03.400Z"
   },
   {
    "duration": 20,
    "start_time": "2022-05-26T13:32:03.420Z"
   },
   {
    "duration": 32,
    "start_time": "2022-05-26T13:32:03.442Z"
   },
   {
    "duration": 10,
    "start_time": "2022-05-26T13:32:03.476Z"
   },
   {
    "duration": 8,
    "start_time": "2022-05-26T13:32:03.488Z"
   },
   {
    "duration": 16,
    "start_time": "2022-05-26T13:32:03.498Z"
   },
   {
    "duration": 16,
    "start_time": "2022-05-26T13:32:03.516Z"
   },
   {
    "duration": 36,
    "start_time": "2022-05-26T13:32:03.534Z"
   },
   {
    "duration": 14,
    "start_time": "2022-05-26T13:32:03.572Z"
   },
   {
    "duration": 8,
    "start_time": "2022-05-26T13:32:03.590Z"
   },
   {
    "duration": 13,
    "start_time": "2022-05-26T13:32:03.600Z"
   },
   {
    "duration": 12,
    "start_time": "2022-05-26T13:32:03.615Z"
   },
   {
    "duration": 62,
    "start_time": "2022-05-26T13:32:03.629Z"
   },
   {
    "duration": 18,
    "start_time": "2022-05-26T13:32:03.693Z"
   },
   {
    "duration": 9,
    "start_time": "2022-05-26T13:32:03.713Z"
   },
   {
    "duration": 36,
    "start_time": "2022-05-26T13:32:03.723Z"
   },
   {
    "duration": 23,
    "start_time": "2022-05-26T13:32:03.761Z"
   },
   {
    "duration": 33,
    "start_time": "2022-05-26T13:32:03.785Z"
   },
   {
    "duration": 43,
    "start_time": "2022-05-26T13:32:03.819Z"
   },
   {
    "duration": 233,
    "start_time": "2022-05-26T13:32:03.864Z"
   },
   {
    "duration": 297,
    "start_time": "2022-05-26T13:32:04.098Z"
   },
   {
    "duration": 216,
    "start_time": "2022-05-26T13:32:04.397Z"
   },
   {
    "duration": 10,
    "start_time": "2022-05-26T13:32:04.615Z"
   },
   {
    "duration": 9,
    "start_time": "2022-05-26T13:32:04.627Z"
   },
   {
    "duration": 1641,
    "start_time": "2022-05-29T12:51:38.240Z"
   },
   {
    "duration": 980,
    "start_time": "2022-05-29T12:51:39.884Z"
   },
   {
    "duration": 25,
    "start_time": "2022-05-29T12:51:40.866Z"
   },
   {
    "duration": 9,
    "start_time": "2022-05-29T12:51:50.121Z"
   },
   {
    "duration": 6,
    "start_time": "2022-05-29T12:51:57.303Z"
   },
   {
    "duration": 8,
    "start_time": "2022-05-29T12:52:09.879Z"
   },
   {
    "duration": 57,
    "start_time": "2022-05-29T12:52:26.509Z"
   },
   {
    "duration": 88,
    "start_time": "2022-05-29T12:52:37.690Z"
   },
   {
    "duration": 125,
    "start_time": "2022-05-29T12:52:50.643Z"
   },
   {
    "duration": 149,
    "start_time": "2022-05-29T12:52:57.866Z"
   },
   {
    "duration": 125,
    "start_time": "2022-05-29T12:53:10.917Z"
   },
   {
    "duration": 508,
    "start_time": "2022-05-29T12:55:27.639Z"
   },
   {
    "duration": 7,
    "start_time": "2022-05-29T12:57:38.560Z"
   },
   {
    "duration": 126,
    "start_time": "2022-05-29T13:00:47.349Z"
   },
   {
    "duration": 315,
    "start_time": "2022-05-29T13:01:45.420Z"
   },
   {
    "duration": 11,
    "start_time": "2022-05-29T13:02:08.143Z"
   },
   {
    "duration": 6,
    "start_time": "2022-05-29T13:02:25.508Z"
   },
   {
    "duration": 12,
    "start_time": "2022-05-29T13:02:28.119Z"
   },
   {
    "duration": 3,
    "start_time": "2022-05-29T13:02:46.865Z"
   },
   {
    "duration": 486,
    "start_time": "2022-05-29T13:02:46.871Z"
   },
   {
    "duration": 21,
    "start_time": "2022-05-29T13:02:47.359Z"
   },
   {
    "duration": 8,
    "start_time": "2022-05-29T13:02:47.382Z"
   },
   {
    "duration": 5,
    "start_time": "2022-05-29T13:04:54.358Z"
   },
   {
    "duration": 6,
    "start_time": "2022-05-29T13:05:26.246Z"
   },
   {
    "duration": 3,
    "start_time": "2022-05-29T13:05:38.114Z"
   },
   {
    "duration": 443,
    "start_time": "2022-05-29T13:05:38.119Z"
   },
   {
    "duration": 21,
    "start_time": "2022-05-29T13:05:38.565Z"
   },
   {
    "duration": 7,
    "start_time": "2022-05-29T13:05:38.587Z"
   },
   {
    "duration": 18,
    "start_time": "2022-05-29T13:05:38.597Z"
   },
   {
    "duration": 40,
    "start_time": "2022-05-29T13:06:00.659Z"
   },
   {
    "duration": 11,
    "start_time": "2022-05-29T13:06:05.891Z"
   },
   {
    "duration": 9,
    "start_time": "2022-05-29T13:06:11.692Z"
   },
   {
    "duration": 5,
    "start_time": "2022-05-29T13:06:20.869Z"
   },
   {
    "duration": 8,
    "start_time": "2022-05-29T13:06:25.770Z"
   },
   {
    "duration": 8,
    "start_time": "2022-05-29T13:15:42.503Z"
   },
   {
    "duration": 10,
    "start_time": "2022-05-29T13:15:51.208Z"
   },
   {
    "duration": 8,
    "start_time": "2022-05-29T13:16:11.971Z"
   },
   {
    "duration": 3,
    "start_time": "2022-05-29T13:16:21.256Z"
   },
   {
    "duration": 443,
    "start_time": "2022-05-29T13:16:21.262Z"
   },
   {
    "duration": 19,
    "start_time": "2022-05-29T13:16:21.707Z"
   },
   {
    "duration": 7,
    "start_time": "2022-05-29T13:16:21.728Z"
   },
   {
    "duration": 17,
    "start_time": "2022-05-29T13:16:21.738Z"
   },
   {
    "duration": 4,
    "start_time": "2022-05-29T13:17:25.914Z"
   },
   {
    "duration": 14,
    "start_time": "2022-05-29T13:17:28.621Z"
   },
   {
    "duration": 7,
    "start_time": "2022-05-29T13:17:57.269Z"
   },
   {
    "duration": 20,
    "start_time": "2022-05-29T13:18:35.056Z"
   },
   {
    "duration": 6,
    "start_time": "2022-05-29T13:18:43.308Z"
   },
   {
    "duration": 3,
    "start_time": "2022-05-29T13:19:29.115Z"
   },
   {
    "duration": 446,
    "start_time": "2022-05-29T13:19:29.120Z"
   },
   {
    "duration": 19,
    "start_time": "2022-05-29T13:19:29.568Z"
   },
   {
    "duration": 6,
    "start_time": "2022-05-29T13:19:29.588Z"
   },
   {
    "duration": 5,
    "start_time": "2022-05-29T13:19:29.597Z"
   },
   {
    "duration": 5,
    "start_time": "2022-05-29T13:19:29.603Z"
   },
   {
    "duration": 17,
    "start_time": "2022-05-29T13:19:29.609Z"
   },
   {
    "duration": 40,
    "start_time": "2022-05-29T13:19:29.627Z"
   },
   {
    "duration": 24,
    "start_time": "2022-05-29T13:19:29.668Z"
   },
   {
    "duration": 43,
    "start_time": "2022-05-29T13:19:29.694Z"
   },
   {
    "duration": 53,
    "start_time": "2022-05-29T13:19:29.740Z"
   },
   {
    "duration": 71,
    "start_time": "2022-05-29T13:19:29.794Z"
   },
   {
    "duration": 336,
    "start_time": "2022-05-29T13:19:29.867Z"
   },
   {
    "duration": 34,
    "start_time": "2022-05-29T13:19:30.205Z"
   },
   {
    "duration": 129,
    "start_time": "2022-05-29T13:19:30.241Z"
   },
   {
    "duration": 9,
    "start_time": "2022-05-29T13:19:30.372Z"
   },
   {
    "duration": 18,
    "start_time": "2022-05-29T13:19:30.383Z"
   },
   {
    "duration": 48,
    "start_time": "2022-05-29T13:19:30.403Z"
   },
   {
    "duration": 31,
    "start_time": "2022-05-29T13:19:30.453Z"
   },
   {
    "duration": 40,
    "start_time": "2022-05-29T13:19:30.486Z"
   },
   {
    "duration": 22,
    "start_time": "2022-05-29T13:19:30.528Z"
   },
   {
    "duration": 32,
    "start_time": "2022-05-29T13:19:30.565Z"
   },
   {
    "duration": 3,
    "start_time": "2022-05-29T13:19:30.599Z"
   },
   {
    "duration": 35,
    "start_time": "2022-05-29T13:19:30.603Z"
   },
   {
    "duration": 18,
    "start_time": "2022-05-29T13:19:30.640Z"
   },
   {
    "duration": 26,
    "start_time": "2022-05-29T13:19:30.660Z"
   },
   {
    "duration": 14,
    "start_time": "2022-05-29T13:19:30.687Z"
   },
   {
    "duration": 33,
    "start_time": "2022-05-29T13:19:30.703Z"
   },
   {
    "duration": 27,
    "start_time": "2022-05-29T13:19:30.740Z"
   },
   {
    "duration": 22,
    "start_time": "2022-05-29T13:19:30.769Z"
   },
   {
    "duration": 28,
    "start_time": "2022-05-29T13:19:30.793Z"
   },
   {
    "duration": 29,
    "start_time": "2022-05-29T13:19:30.822Z"
   },
   {
    "duration": 33,
    "start_time": "2022-05-29T13:19:30.853Z"
   },
   {
    "duration": 26,
    "start_time": "2022-05-29T13:19:30.887Z"
   },
   {
    "duration": 23,
    "start_time": "2022-05-29T13:19:30.915Z"
   },
   {
    "duration": 36,
    "start_time": "2022-05-29T13:19:30.940Z"
   },
   {
    "duration": 19,
    "start_time": "2022-05-29T13:19:30.978Z"
   },
   {
    "duration": 25,
    "start_time": "2022-05-29T13:19:30.999Z"
   },
   {
    "duration": 78,
    "start_time": "2022-05-29T13:19:31.026Z"
   },
   {
    "duration": 21,
    "start_time": "2022-05-29T13:19:31.106Z"
   },
   {
    "duration": 11,
    "start_time": "2022-05-29T13:19:31.129Z"
   },
   {
    "duration": 34,
    "start_time": "2022-05-29T13:19:31.141Z"
   },
   {
    "duration": 20,
    "start_time": "2022-05-29T13:19:31.177Z"
   },
   {
    "duration": 26,
    "start_time": "2022-05-29T13:19:31.199Z"
   },
   {
    "duration": 54,
    "start_time": "2022-05-29T13:19:31.227Z"
   },
   {
    "duration": 268,
    "start_time": "2022-05-29T13:19:31.282Z"
   },
   {
    "duration": 245,
    "start_time": "2022-05-29T13:19:31.552Z"
   },
   {
    "duration": 261,
    "start_time": "2022-05-29T13:19:31.799Z"
   },
   {
    "duration": 8,
    "start_time": "2022-05-29T13:19:32.064Z"
   },
   {
    "duration": 7,
    "start_time": "2022-05-29T13:19:32.074Z"
   },
   {
    "duration": 3,
    "start_time": "2022-05-29T13:20:00.758Z"
   },
   {
    "duration": 467,
    "start_time": "2022-05-29T13:20:00.763Z"
   },
   {
    "duration": 22,
    "start_time": "2022-05-29T13:20:01.232Z"
   },
   {
    "duration": 9,
    "start_time": "2022-05-29T13:20:01.266Z"
   },
   {
    "duration": 24,
    "start_time": "2022-05-29T13:20:01.276Z"
   },
   {
    "duration": 4,
    "start_time": "2022-05-29T13:20:05.551Z"
   },
   {
    "duration": 5,
    "start_time": "2022-05-29T13:20:29.211Z"
   },
   {
    "duration": 7,
    "start_time": "2022-05-29T13:20:38.608Z"
   },
   {
    "duration": 9,
    "start_time": "2022-05-29T13:20:48.117Z"
   },
   {
    "duration": 5,
    "start_time": "2022-05-29T13:20:56.979Z"
   },
   {
    "duration": 20,
    "start_time": "2022-05-29T13:22:01.195Z"
   },
   {
    "duration": 5,
    "start_time": "2022-05-29T13:22:04.077Z"
   },
   {
    "duration": 25,
    "start_time": "2022-05-29T13:22:06.528Z"
   },
   {
    "duration": 48,
    "start_time": "2022-05-29T13:22:09.174Z"
   },
   {
    "duration": 10,
    "start_time": "2022-05-29T13:22:10.829Z"
   },
   {
    "duration": 6,
    "start_time": "2022-05-29T13:22:23.926Z"
   },
   {
    "duration": 6,
    "start_time": "2022-05-29T13:23:25.967Z"
   },
   {
    "duration": 4,
    "start_time": "2022-05-29T13:23:33.477Z"
   },
   {
    "duration": 10,
    "start_time": "2022-05-29T13:24:19.074Z"
   },
   {
    "duration": 8,
    "start_time": "2022-05-29T13:24:43.795Z"
   },
   {
    "duration": 15,
    "start_time": "2022-05-29T13:25:30.503Z"
   },
   {
    "duration": 18,
    "start_time": "2022-05-29T13:25:51.266Z"
   },
   {
    "duration": 26,
    "start_time": "2022-05-29T13:26:07.372Z"
   },
   {
    "duration": 3,
    "start_time": "2022-05-29T13:27:19.947Z"
   },
   {
    "duration": 458,
    "start_time": "2022-05-29T13:27:19.954Z"
   },
   {
    "duration": 19,
    "start_time": "2022-05-29T13:27:20.414Z"
   },
   {
    "duration": 7,
    "start_time": "2022-05-29T13:27:20.435Z"
   },
   {
    "duration": 24,
    "start_time": "2022-05-29T13:27:20.445Z"
   },
   {
    "duration": 8,
    "start_time": "2022-05-29T13:27:20.471Z"
   },
   {
    "duration": 13,
    "start_time": "2022-05-29T13:27:20.481Z"
   },
   {
    "duration": 24,
    "start_time": "2022-05-29T13:27:20.497Z"
   },
   {
    "duration": 8,
    "start_time": "2022-05-29T13:27:20.523Z"
   },
   {
    "duration": 52,
    "start_time": "2022-05-29T13:27:20.532Z"
   },
   {
    "duration": 43,
    "start_time": "2022-05-29T13:27:20.586Z"
   },
   {
    "duration": 6,
    "start_time": "2022-05-29T13:27:20.631Z"
   },
   {
    "duration": 33,
    "start_time": "2022-05-29T13:27:20.639Z"
   },
   {
    "duration": 30,
    "start_time": "2022-05-29T13:27:20.674Z"
   },
   {
    "duration": 76,
    "start_time": "2022-05-29T13:27:20.706Z"
   },
   {
    "duration": 6,
    "start_time": "2022-05-29T13:27:20.784Z"
   },
   {
    "duration": 20,
    "start_time": "2022-05-29T13:27:20.792Z"
   },
   {
    "duration": 354,
    "start_time": "2022-05-29T13:27:20.813Z"
   },
   {
    "duration": 33,
    "start_time": "2022-05-29T13:27:21.169Z"
   },
   {
    "duration": 110,
    "start_time": "2022-05-29T13:27:21.203Z"
   },
   {
    "duration": 7,
    "start_time": "2022-05-29T13:27:21.315Z"
   },
   {
    "duration": 21,
    "start_time": "2022-05-29T13:27:24.630Z"
   },
   {
    "duration": 5,
    "start_time": "2022-05-29T13:28:35.669Z"
   },
   {
    "duration": 8,
    "start_time": "2022-05-29T13:31:40.043Z"
   },
   {
    "duration": 15,
    "start_time": "2022-05-29T13:31:45.458Z"
   },
   {
    "duration": 272,
    "start_time": "2022-05-29T13:32:56.866Z"
   },
   {
    "duration": 5,
    "start_time": "2022-05-29T13:33:45.842Z"
   },
   {
    "duration": 5,
    "start_time": "2022-05-29T13:33:52.147Z"
   },
   {
    "duration": 11,
    "start_time": "2022-05-29T13:33:57.198Z"
   },
   {
    "duration": 6,
    "start_time": "2022-05-29T13:34:01.020Z"
   },
   {
    "duration": 5,
    "start_time": "2022-05-29T13:34:15.906Z"
   },
   {
    "duration": 14,
    "start_time": "2022-05-29T13:34:23.410Z"
   },
   {
    "duration": 377,
    "start_time": "2022-05-29T13:38:51.595Z"
   },
   {
    "duration": 13,
    "start_time": "2022-05-29T13:40:06.955Z"
   },
   {
    "duration": 11,
    "start_time": "2022-05-29T13:46:13.326Z"
   },
   {
    "duration": 311,
    "start_time": "2022-05-29T13:46:24.169Z"
   },
   {
    "duration": 399,
    "start_time": "2022-05-29T13:47:08.858Z"
   },
   {
    "duration": 66,
    "start_time": "2022-05-29T17:37:13.689Z"
   },
   {
    "duration": 6,
    "start_time": "2022-05-29T17:37:32.911Z"
   },
   {
    "duration": 6,
    "start_time": "2022-05-29T17:37:35.674Z"
   },
   {
    "duration": 1379,
    "start_time": "2022-05-29T17:37:45.311Z"
   },
   {
    "duration": 1197,
    "start_time": "2022-05-29T17:37:46.692Z"
   },
   {
    "duration": 30,
    "start_time": "2022-05-29T17:37:47.891Z"
   },
   {
    "duration": 7,
    "start_time": "2022-05-29T17:37:47.923Z"
   },
   {
    "duration": 13,
    "start_time": "2022-05-29T17:37:47.932Z"
   },
   {
    "duration": 8,
    "start_time": "2022-05-29T17:37:47.946Z"
   },
   {
    "duration": 27,
    "start_time": "2022-05-29T17:37:47.956Z"
   },
   {
    "duration": 27,
    "start_time": "2022-05-29T17:37:47.985Z"
   },
   {
    "duration": 6,
    "start_time": "2022-05-29T17:37:48.013Z"
   },
   {
    "duration": 31,
    "start_time": "2022-05-29T17:37:48.021Z"
   },
   {
    "duration": 85,
    "start_time": "2022-05-29T17:37:48.054Z"
   },
   {
    "duration": 7,
    "start_time": "2022-05-29T17:37:48.141Z"
   },
   {
    "duration": 19,
    "start_time": "2022-05-29T17:37:48.149Z"
   },
   {
    "duration": 79,
    "start_time": "2022-05-29T17:37:48.170Z"
   },
   {
    "duration": 78,
    "start_time": "2022-05-29T17:37:48.251Z"
   },
   {
    "duration": 5,
    "start_time": "2022-05-29T17:37:48.330Z"
   },
   {
    "duration": 56,
    "start_time": "2022-05-29T17:37:48.337Z"
   },
   {
    "duration": 309,
    "start_time": "2022-05-29T17:37:48.394Z"
   },
   {
    "duration": 9,
    "start_time": "2022-05-29T17:37:48.704Z"
   },
   {
    "duration": 323,
    "start_time": "2022-05-29T17:37:48.714Z"
   },
   {
    "duration": 294,
    "start_time": "2022-05-29T17:37:49.039Z"
   },
   {
    "duration": 12,
    "start_time": "2022-05-29T17:37:49.335Z"
   },
   {
    "duration": 14,
    "start_time": "2022-05-29T17:37:55.006Z"
   },
   {
    "duration": 6,
    "start_time": "2022-05-29T17:38:04.528Z"
   },
   {
    "duration": 18,
    "start_time": "2022-05-29T17:38:38.515Z"
   },
   {
    "duration": 249,
    "start_time": "2022-05-29T17:39:13.903Z"
   },
   {
    "duration": 239,
    "start_time": "2022-05-29T17:39:51.205Z"
   },
   {
    "duration": 5,
    "start_time": "2022-05-29T17:40:38.569Z"
   },
   {
    "duration": 11,
    "start_time": "2022-05-29T17:47:01.574Z"
   },
   {
    "duration": 3,
    "start_time": "2022-05-29T17:47:07.017Z"
   },
   {
    "duration": 443,
    "start_time": "2022-05-29T17:47:07.021Z"
   },
   {
    "duration": 23,
    "start_time": "2022-05-29T17:47:07.466Z"
   },
   {
    "duration": 6,
    "start_time": "2022-05-29T17:47:07.492Z"
   },
   {
    "duration": 7,
    "start_time": "2022-05-29T17:47:07.500Z"
   },
   {
    "duration": 16,
    "start_time": "2022-05-29T17:47:07.508Z"
   },
   {
    "duration": 13,
    "start_time": "2022-05-29T17:47:07.525Z"
   },
   {
    "duration": 32,
    "start_time": "2022-05-29T17:47:07.539Z"
   },
   {
    "duration": 6,
    "start_time": "2022-05-29T17:47:07.573Z"
   },
   {
    "duration": 27,
    "start_time": "2022-05-29T17:47:07.580Z"
   },
   {
    "duration": 64,
    "start_time": "2022-05-29T17:47:07.609Z"
   },
   {
    "duration": 6,
    "start_time": "2022-05-29T17:47:07.674Z"
   },
   {
    "duration": 17,
    "start_time": "2022-05-29T17:47:07.682Z"
   },
   {
    "duration": 27,
    "start_time": "2022-05-29T17:47:07.700Z"
   },
   {
    "duration": 88,
    "start_time": "2022-05-29T17:47:07.728Z"
   },
   {
    "duration": 6,
    "start_time": "2022-05-29T17:47:07.818Z"
   },
   {
    "duration": 42,
    "start_time": "2022-05-29T17:47:07.826Z"
   },
   {
    "duration": 371,
    "start_time": "2022-05-29T17:47:07.870Z"
   },
   {
    "duration": 8,
    "start_time": "2022-05-29T17:47:08.242Z"
   },
   {
    "duration": 265,
    "start_time": "2022-05-29T17:47:08.259Z"
   },
   {
    "duration": 297,
    "start_time": "2022-05-29T17:47:08.526Z"
   },
   {
    "duration": 12,
    "start_time": "2022-05-29T17:47:08.824Z"
   },
   {
    "duration": 25,
    "start_time": "2022-05-29T17:47:08.837Z"
   },
   {
    "duration": 7,
    "start_time": "2022-05-29T17:47:08.864Z"
   },
   {
    "duration": 412,
    "start_time": "2022-05-29T17:47:08.873Z"
   },
   {
    "duration": 326,
    "start_time": "2022-05-29T17:47:09.287Z"
   },
   {
    "duration": 49,
    "start_time": "2022-05-29T17:47:09.614Z"
   },
   {
    "duration": 109,
    "start_time": "2022-05-29T17:47:09.664Z"
   },
   {
    "duration": 9,
    "start_time": "2022-05-29T17:47:09.775Z"
   },
   {
    "duration": 19,
    "start_time": "2022-05-29T17:47:09.787Z"
   },
   {
    "duration": 11,
    "start_time": "2022-05-29T17:47:13.592Z"
   },
   {
    "duration": 6,
    "start_time": "2022-05-29T17:47:24.113Z"
   },
   {
    "duration": 37,
    "start_time": "2022-05-29T17:47:33.886Z"
   },
   {
    "duration": 67,
    "start_time": "2022-05-29T17:47:35.532Z"
   },
   {
    "duration": 24,
    "start_time": "2022-05-29T17:47:44.513Z"
   },
   {
    "duration": 3,
    "start_time": "2022-05-29T17:49:17.623Z"
   },
   {
    "duration": 532,
    "start_time": "2022-05-29T17:49:17.627Z"
   },
   {
    "duration": 24,
    "start_time": "2022-05-29T17:49:19.771Z"
   },
   {
    "duration": 3,
    "start_time": "2022-05-29T17:50:15.314Z"
   },
   {
    "duration": 449,
    "start_time": "2022-05-29T17:50:15.319Z"
   },
   {
    "duration": 21,
    "start_time": "2022-05-29T17:50:15.769Z"
   },
   {
    "duration": 6,
    "start_time": "2022-05-29T17:50:15.793Z"
   },
   {
    "duration": 10,
    "start_time": "2022-05-29T17:50:15.801Z"
   },
   {
    "duration": 7,
    "start_time": "2022-05-29T17:50:15.812Z"
   },
   {
    "duration": 473,
    "start_time": "2022-05-29T17:50:15.820Z"
   },
   {
    "duration": 0,
    "start_time": "2022-05-29T17:50:16.296Z"
   },
   {
    "duration": 0,
    "start_time": "2022-05-29T17:50:16.297Z"
   },
   {
    "duration": 0,
    "start_time": "2022-05-29T17:50:16.298Z"
   },
   {
    "duration": 0,
    "start_time": "2022-05-29T17:50:16.303Z"
   },
   {
    "duration": 0,
    "start_time": "2022-05-29T17:50:16.304Z"
   },
   {
    "duration": 0,
    "start_time": "2022-05-29T17:50:16.306Z"
   },
   {
    "duration": 0,
    "start_time": "2022-05-29T17:50:16.308Z"
   },
   {
    "duration": 0,
    "start_time": "2022-05-29T17:50:16.309Z"
   },
   {
    "duration": 0,
    "start_time": "2022-05-29T17:50:16.311Z"
   },
   {
    "duration": 0,
    "start_time": "2022-05-29T17:50:16.313Z"
   },
   {
    "duration": 418,
    "start_time": "2022-05-29T17:50:39.853Z"
   },
   {
    "duration": 631,
    "start_time": "2022-05-29T17:50:57.594Z"
   },
   {
    "duration": 511,
    "start_time": "2022-05-29T17:51:23.016Z"
   },
   {
    "duration": 506,
    "start_time": "2022-05-29T17:51:40.224Z"
   },
   {
    "duration": 442,
    "start_time": "2022-05-29T17:52:08.591Z"
   },
   {
    "duration": 10,
    "start_time": "2022-05-29T17:52:12.356Z"
   },
   {
    "duration": 8,
    "start_time": "2022-05-29T17:52:18.985Z"
   },
   {
    "duration": 18,
    "start_time": "2022-05-29T17:52:28.969Z"
   },
   {
    "duration": 752,
    "start_time": "2022-05-29T17:53:12.819Z"
   },
   {
    "duration": 3,
    "start_time": "2022-05-29T17:53:18.124Z"
   },
   {
    "duration": 535,
    "start_time": "2022-05-29T17:53:18.132Z"
   },
   {
    "duration": 26,
    "start_time": "2022-05-29T17:53:18.673Z"
   },
   {
    "duration": 6,
    "start_time": "2022-05-29T17:53:18.701Z"
   },
   {
    "duration": 21,
    "start_time": "2022-05-29T17:53:18.709Z"
   },
   {
    "duration": 5,
    "start_time": "2022-05-29T17:53:18.731Z"
   },
   {
    "duration": 12,
    "start_time": "2022-05-29T17:54:59.965Z"
   },
   {
    "duration": 10,
    "start_time": "2022-05-29T17:55:02.115Z"
   },
   {
    "duration": 8,
    "start_time": "2022-05-29T17:55:11.248Z"
   },
   {
    "duration": 531,
    "start_time": "2022-05-29T17:55:29.155Z"
   },
   {
    "duration": 24,
    "start_time": "2022-05-29T17:55:31.186Z"
   },
   {
    "duration": 4,
    "start_time": "2022-05-29T17:55:42.382Z"
   },
   {
    "duration": 5,
    "start_time": "2022-05-29T17:55:53.175Z"
   },
   {
    "duration": 478,
    "start_time": "2022-05-29T17:55:53.182Z"
   },
   {
    "duration": 18,
    "start_time": "2022-05-29T17:55:53.661Z"
   },
   {
    "duration": 30,
    "start_time": "2022-05-29T17:55:53.681Z"
   },
   {
    "duration": 15,
    "start_time": "2022-05-29T17:55:53.713Z"
   },
   {
    "duration": 7,
    "start_time": "2022-05-29T17:55:53.730Z"
   },
   {
    "duration": 7,
    "start_time": "2022-05-29T17:55:53.739Z"
   },
   {
    "duration": 24,
    "start_time": "2022-05-29T17:55:53.748Z"
   },
   {
    "duration": 9,
    "start_time": "2022-05-29T17:55:53.779Z"
   },
   {
    "duration": 23,
    "start_time": "2022-05-29T17:55:53.789Z"
   },
   {
    "duration": 23,
    "start_time": "2022-05-29T17:55:53.814Z"
   },
   {
    "duration": 10,
    "start_time": "2022-05-29T17:55:53.838Z"
   },
   {
    "duration": 26,
    "start_time": "2022-05-29T17:55:53.850Z"
   },
   {
    "duration": 45,
    "start_time": "2022-05-29T17:55:53.878Z"
   },
   {
    "duration": 61,
    "start_time": "2022-05-29T17:55:53.925Z"
   },
   {
    "duration": 8,
    "start_time": "2022-05-29T17:55:53.989Z"
   },
   {
    "duration": 35,
    "start_time": "2022-05-29T17:55:53.999Z"
   },
   {
    "duration": 309,
    "start_time": "2022-05-29T17:55:54.037Z"
   },
   {
    "duration": 284,
    "start_time": "2022-05-29T17:55:54.348Z"
   },
   {
    "duration": 361,
    "start_time": "2022-05-29T17:55:54.636Z"
   },
   {
    "duration": 12,
    "start_time": "2022-05-29T17:55:54.999Z"
   },
   {
    "duration": 20,
    "start_time": "2022-05-29T17:55:55.013Z"
   },
   {
    "duration": 7,
    "start_time": "2022-05-29T17:55:55.034Z"
   },
   {
    "duration": 315,
    "start_time": "2022-05-29T17:55:55.043Z"
   },
   {
    "duration": 351,
    "start_time": "2022-05-29T17:55:55.359Z"
   },
   {
    "duration": 25,
    "start_time": "2022-05-29T17:55:55.712Z"
   },
   {
    "duration": 42,
    "start_time": "2022-05-29T17:55:55.739Z"
   },
   {
    "duration": 18,
    "start_time": "2022-05-29T17:55:55.783Z"
   },
   {
    "duration": 19,
    "start_time": "2022-05-29T17:55:58.881Z"
   },
   {
    "duration": 9,
    "start_time": "2022-05-29T17:56:20.291Z"
   },
   {
    "duration": 10,
    "start_time": "2022-05-29T17:56:22.908Z"
   },
   {
    "duration": 403,
    "start_time": "2022-05-29T17:58:45.481Z"
   },
   {
    "duration": 3,
    "start_time": "2022-05-29T17:58:56.928Z"
   },
   {
    "duration": 395,
    "start_time": "2022-05-29T17:58:56.942Z"
   },
   {
    "duration": 30,
    "start_time": "2022-05-29T17:58:57.340Z"
   },
   {
    "duration": 6,
    "start_time": "2022-05-29T17:58:57.377Z"
   },
   {
    "duration": 6,
    "start_time": "2022-05-29T17:58:57.384Z"
   },
   {
    "duration": 6,
    "start_time": "2022-05-29T17:58:57.393Z"
   },
   {
    "duration": 6,
    "start_time": "2022-05-29T17:58:57.400Z"
   },
   {
    "duration": 18,
    "start_time": "2022-05-29T17:58:57.408Z"
   },
   {
    "duration": 5,
    "start_time": "2022-05-29T17:58:57.427Z"
   },
   {
    "duration": 173,
    "start_time": "2022-05-29T17:58:57.433Z"
   },
   {
    "duration": 42,
    "start_time": "2022-05-29T17:58:57.608Z"
   },
   {
    "duration": 7,
    "start_time": "2022-05-29T17:58:57.659Z"
   },
   {
    "duration": 24,
    "start_time": "2022-05-29T17:58:57.668Z"
   },
   {
    "duration": 25,
    "start_time": "2022-05-29T17:58:57.694Z"
   },
   {
    "duration": 63,
    "start_time": "2022-05-29T17:58:57.722Z"
   },
   {
    "duration": 8,
    "start_time": "2022-05-29T17:58:57.787Z"
   },
   {
    "duration": 28,
    "start_time": "2022-05-29T17:58:57.797Z"
   },
   {
    "duration": 288,
    "start_time": "2022-05-29T17:58:57.827Z"
   },
   {
    "duration": 273,
    "start_time": "2022-05-29T17:58:58.117Z"
   },
   {
    "duration": 320,
    "start_time": "2022-05-29T17:58:58.392Z"
   },
   {
    "duration": 12,
    "start_time": "2022-05-29T17:58:58.713Z"
   },
   {
    "duration": 40,
    "start_time": "2022-05-29T17:58:58.726Z"
   },
   {
    "duration": 10,
    "start_time": "2022-05-29T17:58:58.771Z"
   },
   {
    "duration": 247,
    "start_time": "2022-05-29T17:58:58.783Z"
   },
   {
    "duration": 289,
    "start_time": "2022-05-29T17:58:59.032Z"
   },
   {
    "duration": 55,
    "start_time": "2022-05-29T17:58:59.323Z"
   },
   {
    "duration": 93,
    "start_time": "2022-05-29T17:58:59.380Z"
   },
   {
    "duration": 7,
    "start_time": "2022-05-29T17:58:59.474Z"
   },
   {
    "duration": 22,
    "start_time": "2022-05-29T17:58:59.482Z"
   },
   {
    "duration": 9,
    "start_time": "2022-05-29T17:58:59.505Z"
   },
   {
    "duration": 20,
    "start_time": "2022-05-29T17:58:59.516Z"
   },
   {
    "duration": 39,
    "start_time": "2022-05-29T17:58:59.537Z"
   },
   {
    "duration": 29,
    "start_time": "2022-05-29T17:59:04.500Z"
   },
   {
    "duration": 46,
    "start_time": "2022-05-29T17:59:52.978Z"
   },
   {
    "duration": 548,
    "start_time": "2022-05-29T18:03:42.723Z"
   },
   {
    "duration": 4,
    "start_time": "2022-05-29T18:04:19.905Z"
   },
   {
    "duration": 16,
    "start_time": "2022-05-29T18:04:25.242Z"
   },
   {
    "duration": 2,
    "start_time": "2022-05-29T18:05:41.142Z"
   },
   {
    "duration": 383,
    "start_time": "2022-05-29T18:05:41.146Z"
   },
   {
    "duration": 19,
    "start_time": "2022-05-29T18:05:41.530Z"
   },
   {
    "duration": 9,
    "start_time": "2022-05-29T18:05:41.551Z"
   },
   {
    "duration": 10,
    "start_time": "2022-05-29T18:05:41.562Z"
   },
   {
    "duration": 10,
    "start_time": "2022-05-29T18:05:41.574Z"
   },
   {
    "duration": 13,
    "start_time": "2022-05-29T18:05:41.586Z"
   },
   {
    "duration": 30,
    "start_time": "2022-05-29T18:05:41.601Z"
   },
   {
    "duration": 8,
    "start_time": "2022-05-29T18:05:41.633Z"
   },
   {
    "duration": 59,
    "start_time": "2022-05-29T18:05:41.643Z"
   },
   {
    "duration": 71,
    "start_time": "2022-05-29T18:05:41.705Z"
   },
   {
    "duration": 7,
    "start_time": "2022-05-29T18:05:41.778Z"
   },
   {
    "duration": 25,
    "start_time": "2022-05-29T18:05:41.787Z"
   },
   {
    "duration": 55,
    "start_time": "2022-05-29T18:05:41.814Z"
   },
   {
    "duration": 43,
    "start_time": "2022-05-29T18:05:41.871Z"
   },
   {
    "duration": 6,
    "start_time": "2022-05-29T18:05:41.915Z"
   },
   {
    "duration": 16,
    "start_time": "2022-05-29T18:05:41.922Z"
   },
   {
    "duration": 258,
    "start_time": "2022-05-29T18:05:41.958Z"
   },
   {
    "duration": 266,
    "start_time": "2022-05-29T18:05:42.218Z"
   },
   {
    "duration": 305,
    "start_time": "2022-05-29T18:05:42.486Z"
   },
   {
    "duration": 16,
    "start_time": "2022-05-29T18:05:42.793Z"
   },
   {
    "duration": 18,
    "start_time": "2022-05-29T18:05:42.811Z"
   },
   {
    "duration": 5,
    "start_time": "2022-05-29T18:05:42.831Z"
   },
   {
    "duration": 369,
    "start_time": "2022-05-29T18:05:42.837Z"
   },
   {
    "duration": 272,
    "start_time": "2022-05-29T18:05:43.208Z"
   },
   {
    "duration": 37,
    "start_time": "2022-05-29T18:05:43.481Z"
   },
   {
    "duration": 118,
    "start_time": "2022-05-29T18:05:43.519Z"
   },
   {
    "duration": 6,
    "start_time": "2022-05-29T18:05:43.638Z"
   },
   {
    "duration": 34,
    "start_time": "2022-05-29T18:05:43.659Z"
   },
   {
    "duration": 11,
    "start_time": "2022-05-29T18:05:43.695Z"
   },
   {
    "duration": 11,
    "start_time": "2022-05-29T18:05:43.708Z"
   },
   {
    "duration": 27,
    "start_time": "2022-05-29T18:05:43.721Z"
   },
   {
    "duration": 41,
    "start_time": "2022-05-29T18:05:43.749Z"
   },
   {
    "duration": 48,
    "start_time": "2022-05-29T18:05:43.793Z"
   },
   {
    "duration": 19,
    "start_time": "2022-05-29T18:05:43.843Z"
   },
   {
    "duration": 26,
    "start_time": "2022-05-29T18:05:43.864Z"
   },
   {
    "duration": 24,
    "start_time": "2022-05-29T18:05:43.892Z"
   },
   {
    "duration": 4,
    "start_time": "2022-05-29T18:05:43.918Z"
   },
   {
    "duration": 12,
    "start_time": "2022-05-29T18:05:43.926Z"
   },
   {
    "duration": 30,
    "start_time": "2022-05-29T18:05:43.939Z"
   },
   {
    "duration": 30,
    "start_time": "2022-05-29T18:05:43.970Z"
   },
   {
    "duration": 13,
    "start_time": "2022-05-29T18:05:44.002Z"
   },
   {
    "duration": 14,
    "start_time": "2022-05-29T18:05:44.016Z"
   },
   {
    "duration": 40,
    "start_time": "2022-05-29T18:05:44.031Z"
   },
   {
    "duration": 11,
    "start_time": "2022-05-29T18:05:44.073Z"
   },
   {
    "duration": 14,
    "start_time": "2022-05-29T18:05:44.085Z"
   },
   {
    "duration": 13,
    "start_time": "2022-05-29T18:05:44.101Z"
   },
   {
    "duration": 10,
    "start_time": "2022-05-29T18:05:44.116Z"
   },
   {
    "duration": 32,
    "start_time": "2022-05-29T18:05:44.128Z"
   },
   {
    "duration": 11,
    "start_time": "2022-05-29T18:06:39.202Z"
   },
   {
    "duration": 4,
    "start_time": "2022-05-29T18:06:45.582Z"
   },
   {
    "duration": 24,
    "start_time": "2022-05-29T18:06:59.118Z"
   },
   {
    "duration": 4,
    "start_time": "2022-05-29T18:10:06.466Z"
   },
   {
    "duration": 21,
    "start_time": "2022-05-29T18:10:10.707Z"
   },
   {
    "duration": 4,
    "start_time": "2022-05-29T18:10:28.745Z"
   },
   {
    "duration": 22,
    "start_time": "2022-05-29T18:10:33.315Z"
   },
   {
    "duration": 7,
    "start_time": "2022-05-29T18:11:11.076Z"
   },
   {
    "duration": 4,
    "start_time": "2022-05-29T18:11:14.856Z"
   },
   {
    "duration": 4,
    "start_time": "2022-05-29T18:11:24.041Z"
   },
   {
    "duration": 5,
    "start_time": "2022-05-29T18:12:57.587Z"
   },
   {
    "duration": 5,
    "start_time": "2022-05-29T18:13:04.623Z"
   },
   {
    "duration": 6,
    "start_time": "2022-05-29T18:13:09.822Z"
   },
   {
    "duration": 5,
    "start_time": "2022-05-29T18:13:22.143Z"
   },
   {
    "duration": 5,
    "start_time": "2022-05-29T18:13:47.361Z"
   },
   {
    "duration": 4,
    "start_time": "2022-05-29T18:13:54.045Z"
   },
   {
    "duration": 4,
    "start_time": "2022-05-29T18:13:59.349Z"
   },
   {
    "duration": 5,
    "start_time": "2022-05-29T18:14:04.017Z"
   },
   {
    "duration": 4,
    "start_time": "2022-05-29T18:14:08.621Z"
   },
   {
    "duration": 6,
    "start_time": "2022-05-29T18:14:12.612Z"
   },
   {
    "duration": 4,
    "start_time": "2022-05-29T18:14:16.242Z"
   },
   {
    "duration": 6,
    "start_time": "2022-05-29T18:14:20.408Z"
   },
   {
    "duration": 9,
    "start_time": "2022-05-29T18:14:29.106Z"
   },
   {
    "duration": 28,
    "start_time": "2022-05-29T18:17:53.454Z"
   },
   {
    "duration": 8,
    "start_time": "2022-05-29T18:18:12.793Z"
   },
   {
    "duration": 7,
    "start_time": "2022-05-29T18:18:21.152Z"
   },
   {
    "duration": 6,
    "start_time": "2022-05-29T18:18:23.452Z"
   },
   {
    "duration": 78,
    "start_time": "2022-05-30T08:42:49.321Z"
   },
   {
    "duration": 6,
    "start_time": "2022-05-30T08:42:58.739Z"
   },
   {
    "duration": 0,
    "start_time": "2022-05-30T08:42:58.747Z"
   },
   {
    "duration": 0,
    "start_time": "2022-05-30T08:42:58.749Z"
   },
   {
    "duration": 0,
    "start_time": "2022-05-30T08:42:58.750Z"
   },
   {
    "duration": 0,
    "start_time": "2022-05-30T08:42:58.751Z"
   },
   {
    "duration": 7,
    "start_time": "2022-05-30T08:42:58.753Z"
   },
   {
    "duration": 0,
    "start_time": "2022-05-30T08:42:58.767Z"
   },
   {
    "duration": 53,
    "start_time": "2022-05-30T08:42:58.774Z"
   },
   {
    "duration": 0,
    "start_time": "2022-05-30T08:42:58.830Z"
   },
   {
    "duration": 0,
    "start_time": "2022-05-30T08:42:58.831Z"
   },
   {
    "duration": 0,
    "start_time": "2022-05-30T08:42:58.833Z"
   },
   {
    "duration": 0,
    "start_time": "2022-05-30T08:42:58.834Z"
   },
   {
    "duration": 0,
    "start_time": "2022-05-30T08:42:58.836Z"
   },
   {
    "duration": 2067,
    "start_time": "2022-05-30T08:43:01.426Z"
   },
   {
    "duration": 1329,
    "start_time": "2022-05-30T08:43:03.495Z"
   },
   {
    "duration": 23,
    "start_time": "2022-05-30T08:43:04.825Z"
   },
   {
    "duration": 7,
    "start_time": "2022-05-30T08:43:04.850Z"
   },
   {
    "duration": 47,
    "start_time": "2022-05-30T08:43:04.867Z"
   },
   {
    "duration": 17,
    "start_time": "2022-05-30T08:43:04.915Z"
   },
   {
    "duration": 11,
    "start_time": "2022-05-30T08:43:04.934Z"
   },
   {
    "duration": 73,
    "start_time": "2022-05-30T08:43:04.947Z"
   },
   {
    "duration": 10,
    "start_time": "2022-05-30T08:43:05.021Z"
   },
   {
    "duration": 34,
    "start_time": "2022-05-30T08:43:05.034Z"
   },
   {
    "duration": 80,
    "start_time": "2022-05-30T08:43:05.070Z"
   },
   {
    "duration": 11,
    "start_time": "2022-05-30T08:43:05.152Z"
   },
   {
    "duration": 55,
    "start_time": "2022-05-30T08:43:05.165Z"
   },
   {
    "duration": 29,
    "start_time": "2022-05-30T08:43:05.222Z"
   },
   {
    "duration": 77,
    "start_time": "2022-05-30T08:43:05.252Z"
   },
   {
    "duration": 7,
    "start_time": "2022-05-30T08:43:05.332Z"
   },
   {
    "duration": 40,
    "start_time": "2022-05-30T08:43:05.341Z"
   },
   {
    "duration": 348,
    "start_time": "2022-05-30T08:43:05.383Z"
   },
   {
    "duration": 457,
    "start_time": "2022-05-30T08:43:05.733Z"
   },
   {
    "duration": 454,
    "start_time": "2022-05-30T08:43:06.192Z"
   },
   {
    "duration": 26,
    "start_time": "2022-05-30T08:43:06.648Z"
   },
   {
    "duration": 62,
    "start_time": "2022-05-30T08:43:06.675Z"
   },
   {
    "duration": 9,
    "start_time": "2022-05-30T08:43:06.739Z"
   },
   {
    "duration": 412,
    "start_time": "2022-05-30T08:43:06.750Z"
   },
   {
    "duration": 485,
    "start_time": "2022-05-30T08:43:07.164Z"
   },
   {
    "duration": 60,
    "start_time": "2022-05-30T08:43:07.655Z"
   },
   {
    "duration": 181,
    "start_time": "2022-05-30T08:43:07.716Z"
   },
   {
    "duration": 10,
    "start_time": "2022-05-30T08:43:07.904Z"
   },
   {
    "duration": 70,
    "start_time": "2022-05-30T08:43:07.916Z"
   },
   {
    "duration": 35,
    "start_time": "2022-05-30T08:43:07.988Z"
   },
   {
    "duration": 10,
    "start_time": "2022-05-30T08:43:08.025Z"
   },
   {
    "duration": 42,
    "start_time": "2022-05-30T08:43:08.037Z"
   },
   {
    "duration": 60,
    "start_time": "2022-05-30T08:43:08.083Z"
   },
   {
    "duration": 76,
    "start_time": "2022-05-30T08:43:08.145Z"
   },
   {
    "duration": 6,
    "start_time": "2022-05-30T08:43:08.223Z"
   },
   {
    "duration": 39,
    "start_time": "2022-05-30T08:43:08.231Z"
   },
   {
    "duration": 44,
    "start_time": "2022-05-30T08:43:08.282Z"
   },
   {
    "duration": 8,
    "start_time": "2022-05-30T08:43:08.328Z"
   },
   {
    "duration": 74,
    "start_time": "2022-05-30T08:43:08.338Z"
   },
   {
    "duration": 33,
    "start_time": "2022-05-30T08:43:08.414Z"
   },
   {
    "duration": 74,
    "start_time": "2022-05-30T08:43:08.449Z"
   },
   {
    "duration": 23,
    "start_time": "2022-05-30T08:43:08.525Z"
   },
   {
    "duration": 72,
    "start_time": "2022-05-30T08:43:08.550Z"
   },
   {
    "duration": 32,
    "start_time": "2022-05-30T08:43:08.623Z"
   },
   {
    "duration": 71,
    "start_time": "2022-05-30T08:43:08.658Z"
   },
   {
    "duration": 34,
    "start_time": "2022-05-30T08:43:08.731Z"
   },
   {
    "duration": 75,
    "start_time": "2022-05-30T08:43:08.767Z"
   },
   {
    "duration": 57,
    "start_time": "2022-05-30T08:43:08.844Z"
   },
   {
    "duration": 29,
    "start_time": "2022-05-30T08:43:08.902Z"
   },
   {
    "duration": 23,
    "start_time": "2022-05-30T08:43:08.933Z"
   },
   {
    "duration": 61,
    "start_time": "2022-05-30T08:43:08.958Z"
   },
   {
    "duration": 51,
    "start_time": "2022-05-30T08:43:09.021Z"
   },
   {
    "duration": 30,
    "start_time": "2022-05-30T08:43:09.074Z"
   },
   {
    "duration": 34,
    "start_time": "2022-05-30T08:43:09.106Z"
   },
   {
    "duration": 79,
    "start_time": "2022-05-30T08:43:09.142Z"
   },
   {
    "duration": 20,
    "start_time": "2022-05-30T08:43:09.223Z"
   },
   {
    "duration": 68,
    "start_time": "2022-05-30T08:43:09.245Z"
   },
   {
    "duration": 24,
    "start_time": "2022-05-30T08:43:09.315Z"
   },
   {
    "duration": 127,
    "start_time": "2022-05-30T08:43:09.341Z"
   },
   {
    "duration": 39,
    "start_time": "2022-05-30T08:43:09.469Z"
   },
   {
    "duration": 16,
    "start_time": "2022-05-30T08:43:09.510Z"
   },
   {
    "duration": 85,
    "start_time": "2022-05-30T08:43:09.528Z"
   },
   {
    "duration": 30,
    "start_time": "2022-05-30T08:43:09.617Z"
   },
   {
    "duration": 49,
    "start_time": "2022-05-30T08:43:09.649Z"
   },
   {
    "duration": 55,
    "start_time": "2022-05-30T08:43:09.700Z"
   },
   {
    "duration": 279,
    "start_time": "2022-05-30T08:43:09.757Z"
   },
   {
    "duration": 298,
    "start_time": "2022-05-30T08:43:10.038Z"
   },
   {
    "duration": 269,
    "start_time": "2022-05-30T08:43:10.337Z"
   },
   {
    "duration": 17,
    "start_time": "2022-05-30T08:43:10.608Z"
   },
   {
    "duration": 15,
    "start_time": "2022-05-30T08:43:10.629Z"
   },
   {
    "duration": 3,
    "start_time": "2022-05-30T08:45:31.729Z"
   },
   {
    "duration": 91,
    "start_time": "2022-05-30T08:45:40.684Z"
   },
   {
    "duration": 6,
    "start_time": "2022-05-30T08:46:47.532Z"
   },
   {
    "duration": 1351,
    "start_time": "2022-05-30T08:46:53.679Z"
   },
   {
    "duration": 8,
    "start_time": "2022-05-30T08:47:01.106Z"
   },
   {
    "duration": 15,
    "start_time": "2022-05-30T08:47:39.991Z"
   },
   {
    "duration": 7,
    "start_time": "2022-05-30T08:50:06.487Z"
   },
   {
    "duration": 19,
    "start_time": "2022-05-30T08:50:16.278Z"
   },
   {
    "duration": 19,
    "start_time": "2022-05-30T08:55:10.189Z"
   },
   {
    "duration": 55,
    "start_time": "2022-05-30T08:55:53.584Z"
   },
   {
    "duration": 18,
    "start_time": "2022-05-30T08:56:18.286Z"
   },
   {
    "duration": 43,
    "start_time": "2022-05-30T08:56:26.155Z"
   },
   {
    "duration": 3,
    "start_time": "2022-05-30T08:56:35.125Z"
   },
   {
    "duration": 641,
    "start_time": "2022-05-30T08:56:35.130Z"
   },
   {
    "duration": 29,
    "start_time": "2022-05-30T08:56:35.777Z"
   },
   {
    "duration": 34,
    "start_time": "2022-05-30T08:56:35.811Z"
   },
   {
    "duration": 63,
    "start_time": "2022-05-30T08:56:35.847Z"
   },
   {
    "duration": 24,
    "start_time": "2022-05-30T08:56:35.912Z"
   },
   {
    "duration": 32,
    "start_time": "2022-05-30T08:56:35.938Z"
   },
   {
    "duration": 79,
    "start_time": "2022-05-30T08:56:35.972Z"
   },
   {
    "duration": 12,
    "start_time": "2022-05-30T08:56:36.053Z"
   },
   {
    "duration": 78,
    "start_time": "2022-05-30T08:56:36.068Z"
   },
   {
    "duration": 75,
    "start_time": "2022-05-30T08:56:36.149Z"
   },
   {
    "duration": 14,
    "start_time": "2022-05-30T08:56:36.230Z"
   },
   {
    "duration": 59,
    "start_time": "2022-05-30T08:56:36.247Z"
   },
   {
    "duration": 65,
    "start_time": "2022-05-30T08:56:36.310Z"
   },
   {
    "duration": 74,
    "start_time": "2022-05-30T08:56:36.379Z"
   },
   {
    "duration": 16,
    "start_time": "2022-05-30T08:56:36.462Z"
   },
   {
    "duration": 74,
    "start_time": "2022-05-30T08:56:36.480Z"
   },
   {
    "duration": 403,
    "start_time": "2022-05-30T08:56:36.556Z"
   },
   {
    "duration": 484,
    "start_time": "2022-05-30T08:56:36.961Z"
   },
   {
    "duration": 528,
    "start_time": "2022-05-30T08:56:37.448Z"
   },
   {
    "duration": 23,
    "start_time": "2022-05-30T08:56:37.981Z"
   },
   {
    "duration": 70,
    "start_time": "2022-05-30T08:56:38.008Z"
   },
   {
    "duration": 61,
    "start_time": "2022-05-30T08:56:38.084Z"
   },
   {
    "duration": 415,
    "start_time": "2022-05-30T08:56:38.147Z"
   },
   {
    "duration": 437,
    "start_time": "2022-05-30T08:56:38.576Z"
   },
   {
    "duration": 61,
    "start_time": "2022-05-30T08:56:39.018Z"
   },
   {
    "duration": 251,
    "start_time": "2022-05-30T08:56:39.085Z"
   },
   {
    "duration": 29,
    "start_time": "2022-05-30T08:56:39.341Z"
   },
   {
    "duration": 75,
    "start_time": "2022-05-30T08:56:39.380Z"
   },
   {
    "duration": 29,
    "start_time": "2022-05-30T08:56:39.457Z"
   },
   {
    "duration": 94,
    "start_time": "2022-05-30T08:56:39.514Z"
   },
   {
    "duration": 146,
    "start_time": "2022-05-30T08:56:39.614Z"
   },
   {
    "duration": 100,
    "start_time": "2022-05-30T08:56:39.766Z"
   },
   {
    "duration": 92,
    "start_time": "2022-05-30T08:56:39.870Z"
   },
   {
    "duration": 59,
    "start_time": "2022-05-30T08:56:39.967Z"
   },
   {
    "duration": 41,
    "start_time": "2022-05-30T08:56:40.037Z"
   },
   {
    "duration": 52,
    "start_time": "2022-05-30T08:56:40.082Z"
   },
   {
    "duration": 8,
    "start_time": "2022-05-30T08:56:40.136Z"
   },
   {
    "duration": 23,
    "start_time": "2022-05-30T08:56:40.146Z"
   },
   {
    "duration": 72,
    "start_time": "2022-05-30T08:56:40.171Z"
   },
   {
    "duration": 29,
    "start_time": "2022-05-30T08:56:40.245Z"
   },
   {
    "duration": 47,
    "start_time": "2022-05-30T08:56:40.275Z"
   },
   {
    "duration": 24,
    "start_time": "2022-05-30T08:56:40.324Z"
   },
   {
    "duration": 26,
    "start_time": "2022-05-30T08:56:40.350Z"
   },
   {
    "duration": 35,
    "start_time": "2022-05-30T08:56:40.377Z"
   },
   {
    "duration": 32,
    "start_time": "2022-05-30T08:56:40.413Z"
   },
   {
    "duration": 24,
    "start_time": "2022-05-30T08:56:40.447Z"
   },
   {
    "duration": 55,
    "start_time": "2022-05-30T08:56:40.473Z"
   },
   {
    "duration": 21,
    "start_time": "2022-05-30T08:56:40.529Z"
   },
   {
    "duration": 26,
    "start_time": "2022-05-30T08:56:40.552Z"
   },
   {
    "duration": 52,
    "start_time": "2022-05-30T08:56:40.580Z"
   },
   {
    "duration": 21,
    "start_time": "2022-05-30T08:56:40.634Z"
   },
   {
    "duration": 64,
    "start_time": "2022-05-30T08:56:40.657Z"
   },
   {
    "duration": 20,
    "start_time": "2022-05-30T08:56:40.724Z"
   },
   {
    "duration": 40,
    "start_time": "2022-05-30T08:56:40.746Z"
   },
   {
    "duration": 38,
    "start_time": "2022-05-30T08:56:40.799Z"
   },
   {
    "duration": 9,
    "start_time": "2022-05-30T08:56:40.839Z"
   },
   {
    "duration": 72,
    "start_time": "2022-05-30T08:56:40.850Z"
   },
   {
    "duration": 26,
    "start_time": "2022-05-30T08:56:40.924Z"
   },
   {
    "duration": 94,
    "start_time": "2022-05-30T08:56:40.952Z"
   },
   {
    "duration": 92,
    "start_time": "2022-05-30T08:56:41.049Z"
   },
   {
    "duration": 6,
    "start_time": "2022-05-30T08:56:44.048Z"
   },
   {
    "duration": 25,
    "start_time": "2022-05-30T08:56:46.416Z"
   },
   {
    "duration": 7,
    "start_time": "2022-05-30T08:57:03.147Z"
   },
   {
    "duration": 27,
    "start_time": "2022-05-30T08:58:25.161Z"
   },
   {
    "duration": 10,
    "start_time": "2022-05-30T08:59:04.280Z"
   },
   {
    "duration": 605,
    "start_time": "2022-05-30T08:59:04.292Z"
   },
   {
    "duration": 27,
    "start_time": "2022-05-30T08:59:04.907Z"
   },
   {
    "duration": 63,
    "start_time": "2022-05-30T08:59:04.935Z"
   },
   {
    "duration": 44,
    "start_time": "2022-05-30T08:59:05.003Z"
   },
   {
    "duration": 69,
    "start_time": "2022-05-30T08:59:05.049Z"
   },
   {
    "duration": 33,
    "start_time": "2022-05-30T08:59:05.120Z"
   },
   {
    "duration": 86,
    "start_time": "2022-05-30T08:59:05.156Z"
   },
   {
    "duration": 29,
    "start_time": "2022-05-30T08:59:05.244Z"
   },
   {
    "duration": 72,
    "start_time": "2022-05-30T08:59:05.275Z"
   },
   {
    "duration": 79,
    "start_time": "2022-05-30T08:59:05.349Z"
   },
   {
    "duration": 25,
    "start_time": "2022-05-30T08:59:05.430Z"
   },
   {
    "duration": 91,
    "start_time": "2022-05-30T08:59:05.457Z"
   },
   {
    "duration": 102,
    "start_time": "2022-05-30T08:59:05.551Z"
   },
   {
    "duration": 96,
    "start_time": "2022-05-30T08:59:05.655Z"
   },
   {
    "duration": 17,
    "start_time": "2022-05-30T08:59:05.753Z"
   },
   {
    "duration": 75,
    "start_time": "2022-05-30T08:59:05.772Z"
   },
   {
    "duration": 335,
    "start_time": "2022-05-30T08:59:05.849Z"
   },
   {
    "duration": 378,
    "start_time": "2022-05-30T08:59:06.186Z"
   },
   {
    "duration": 495,
    "start_time": "2022-05-30T08:59:06.573Z"
   },
   {
    "duration": 16,
    "start_time": "2022-05-30T08:59:07.070Z"
   },
   {
    "duration": 139,
    "start_time": "2022-05-30T08:59:07.090Z"
   },
   {
    "duration": 100,
    "start_time": "2022-05-30T08:59:07.231Z"
   },
   {
    "duration": 584,
    "start_time": "2022-05-30T08:59:07.333Z"
   },
   {
    "duration": 450,
    "start_time": "2022-05-30T08:59:07.922Z"
   },
   {
    "duration": 66,
    "start_time": "2022-05-30T08:59:08.380Z"
   },
   {
    "duration": 168,
    "start_time": "2022-05-30T08:59:08.452Z"
   },
   {
    "duration": 17,
    "start_time": "2022-05-30T08:59:08.626Z"
   },
   {
    "duration": 56,
    "start_time": "2022-05-30T08:59:08.646Z"
   },
   {
    "duration": 52,
    "start_time": "2022-05-30T08:59:08.704Z"
   },
   {
    "duration": 33,
    "start_time": "2022-05-30T08:59:08.765Z"
   },
   {
    "duration": 95,
    "start_time": "2022-05-30T08:59:08.802Z"
   },
   {
    "duration": 89,
    "start_time": "2022-05-30T08:59:08.903Z"
   },
   {
    "duration": 102,
    "start_time": "2022-05-30T08:59:09.001Z"
   },
   {
    "duration": 51,
    "start_time": "2022-05-30T08:59:09.110Z"
   },
   {
    "duration": 73,
    "start_time": "2022-05-30T08:59:09.167Z"
   },
   {
    "duration": 80,
    "start_time": "2022-05-30T08:59:09.246Z"
   },
   {
    "duration": 50,
    "start_time": "2022-05-30T08:59:09.334Z"
   },
   {
    "duration": 194,
    "start_time": "2022-05-30T08:59:09.396Z"
   },
   {
    "duration": 74,
    "start_time": "2022-05-30T08:59:09.599Z"
   },
   {
    "duration": 48,
    "start_time": "2022-05-30T08:59:09.682Z"
   },
   {
    "duration": 44,
    "start_time": "2022-05-30T08:59:09.739Z"
   },
   {
    "duration": 66,
    "start_time": "2022-05-30T08:59:09.788Z"
   },
   {
    "duration": 54,
    "start_time": "2022-05-30T08:59:09.856Z"
   },
   {
    "duration": 25,
    "start_time": "2022-05-30T08:59:09.916Z"
   },
   {
    "duration": 13,
    "start_time": "2022-05-30T08:59:09.943Z"
   },
   {
    "duration": 32,
    "start_time": "2022-05-30T08:59:09.963Z"
   },
   {
    "duration": 51,
    "start_time": "2022-05-30T08:59:10.002Z"
   },
   {
    "duration": 26,
    "start_time": "2022-05-30T08:59:10.055Z"
   },
   {
    "duration": 22,
    "start_time": "2022-05-30T09:01:04.403Z"
   },
   {
    "duration": 40,
    "start_time": "2022-05-30T09:01:33.787Z"
   },
   {
    "duration": 20,
    "start_time": "2022-05-30T09:01:46.136Z"
   },
   {
    "duration": 50,
    "start_time": "2022-05-30T09:01:57.668Z"
   },
   {
    "duration": 17,
    "start_time": "2022-05-30T09:03:12.573Z"
   },
   {
    "duration": 11,
    "start_time": "2022-05-30T09:03:20.056Z"
   },
   {
    "duration": 19,
    "start_time": "2022-05-30T09:03:23.918Z"
   },
   {
    "duration": 45,
    "start_time": "2022-05-30T09:04:47.648Z"
   },
   {
    "duration": 10,
    "start_time": "2022-05-30T09:05:20.749Z"
   },
   {
    "duration": 9,
    "start_time": "2022-05-30T09:05:24.820Z"
   },
   {
    "duration": 55,
    "start_time": "2022-05-30T09:05:26.477Z"
   },
   {
    "duration": 14,
    "start_time": "2022-05-30T09:05:29.302Z"
   },
   {
    "duration": 18,
    "start_time": "2022-05-30T09:05:31.796Z"
   },
   {
    "duration": 17,
    "start_time": "2022-05-30T09:05:33.831Z"
   },
   {
    "duration": 12,
    "start_time": "2022-05-30T09:05:35.602Z"
   },
   {
    "duration": 17,
    "start_time": "2022-05-30T09:05:37.995Z"
   },
   {
    "duration": 14,
    "start_time": "2022-05-30T09:05:41.084Z"
   },
   {
    "duration": 27,
    "start_time": "2022-05-30T09:05:46.774Z"
   },
   {
    "duration": 29,
    "start_time": "2022-05-30T09:05:51.284Z"
   },
   {
    "duration": 11,
    "start_time": "2022-05-30T09:07:26.884Z"
   },
   {
    "duration": 33,
    "start_time": "2022-05-30T09:07:32.316Z"
   },
   {
    "duration": 9,
    "start_time": "2022-05-30T09:08:18.563Z"
   },
   {
    "duration": 97,
    "start_time": "2022-05-30T09:10:23.168Z"
   },
   {
    "duration": 65,
    "start_time": "2022-05-30T09:10:24.821Z"
   },
   {
    "duration": 7,
    "start_time": "2022-05-30T09:10:37.358Z"
   },
   {
    "duration": 26,
    "start_time": "2022-05-30T09:10:43.067Z"
   },
   {
    "duration": 83,
    "start_time": "2022-05-30T09:11:02.435Z"
   },
   {
    "duration": 52,
    "start_time": "2022-05-30T09:11:41.642Z"
   },
   {
    "duration": 39,
    "start_time": "2022-05-30T09:12:37.927Z"
   },
   {
    "duration": 46,
    "start_time": "2022-05-30T09:13:47.672Z"
   },
   {
    "duration": 92,
    "start_time": "2022-05-30T09:14:08.148Z"
   },
   {
    "duration": 62,
    "start_time": "2022-05-30T09:14:19.780Z"
   },
   {
    "duration": 5,
    "start_time": "2022-05-30T09:16:56.342Z"
   },
   {
    "duration": 62,
    "start_time": "2022-05-30T09:17:40.385Z"
   },
   {
    "duration": 19,
    "start_time": "2022-05-30T09:17:45.823Z"
   },
   {
    "duration": 12,
    "start_time": "2022-05-30T09:17:53.334Z"
   },
   {
    "duration": 1167,
    "start_time": "2022-05-30T09:18:15.485Z"
   },
   {
    "duration": 991,
    "start_time": "2022-05-30T09:19:08.342Z"
   },
   {
    "duration": 725,
    "start_time": "2022-05-30T09:19:16.215Z"
   },
   {
    "duration": 861,
    "start_time": "2022-05-30T09:19:34.386Z"
   },
   {
    "duration": 11,
    "start_time": "2022-05-30T09:19:40.016Z"
   },
   {
    "duration": 10,
    "start_time": "2022-05-30T09:19:40.030Z"
   },
   {
    "duration": 804,
    "start_time": "2022-05-30T09:19:40.042Z"
   },
   {
    "duration": 66,
    "start_time": "2022-05-30T09:19:40.853Z"
   },
   {
    "duration": 13,
    "start_time": "2022-05-30T09:19:40.929Z"
   },
   {
    "duration": 64,
    "start_time": "2022-05-30T09:19:40.946Z"
   },
   {
    "duration": 19,
    "start_time": "2022-05-30T09:19:41.016Z"
   },
   {
    "duration": 45,
    "start_time": "2022-05-30T09:19:41.037Z"
   },
   {
    "duration": 71,
    "start_time": "2022-05-30T09:19:41.085Z"
   },
   {
    "duration": 72,
    "start_time": "2022-05-30T09:19:41.158Z"
   },
   {
    "duration": 64,
    "start_time": "2022-05-30T09:19:41.232Z"
   },
   {
    "duration": 74,
    "start_time": "2022-05-30T09:19:41.298Z"
   },
   {
    "duration": 15,
    "start_time": "2022-05-30T09:19:41.378Z"
   },
   {
    "duration": 77,
    "start_time": "2022-05-30T09:19:41.399Z"
   },
   {
    "duration": 127,
    "start_time": "2022-05-30T09:19:41.485Z"
   },
   {
    "duration": 122,
    "start_time": "2022-05-30T09:19:41.615Z"
   },
   {
    "duration": 51,
    "start_time": "2022-05-30T09:19:41.739Z"
   },
   {
    "duration": 103,
    "start_time": "2022-05-30T09:19:41.799Z"
   },
   {
    "duration": 408,
    "start_time": "2022-05-30T09:19:41.908Z"
   },
   {
    "duration": 404,
    "start_time": "2022-05-30T09:19:42.318Z"
   },
   {
    "duration": 575,
    "start_time": "2022-05-30T09:19:42.739Z"
   },
   {
    "duration": 64,
    "start_time": "2022-05-30T09:19:43.323Z"
   },
   {
    "duration": 198,
    "start_time": "2022-05-30T09:19:43.394Z"
   },
   {
    "duration": 56,
    "start_time": "2022-05-30T09:19:43.607Z"
   },
   {
    "duration": 442,
    "start_time": "2022-05-30T09:19:43.667Z"
   },
   {
    "duration": 434,
    "start_time": "2022-05-30T09:19:44.114Z"
   },
   {
    "duration": 55,
    "start_time": "2022-05-30T09:19:44.554Z"
   },
   {
    "duration": 202,
    "start_time": "2022-05-30T09:19:44.615Z"
   },
   {
    "duration": 11,
    "start_time": "2022-05-30T09:19:44.822Z"
   },
   {
    "duration": 212,
    "start_time": "2022-05-30T09:19:44.838Z"
   },
   {
    "duration": 147,
    "start_time": "2022-05-30T09:19:45.052Z"
   },
   {
    "duration": 49,
    "start_time": "2022-05-30T09:19:45.204Z"
   },
   {
    "duration": 193,
    "start_time": "2022-05-30T09:19:45.255Z"
   },
   {
    "duration": 136,
    "start_time": "2022-05-30T09:19:45.450Z"
   },
   {
    "duration": 143,
    "start_time": "2022-05-30T09:19:45.591Z"
   },
   {
    "duration": 108,
    "start_time": "2022-05-30T09:19:45.746Z"
   },
   {
    "duration": 137,
    "start_time": "2022-05-30T09:19:45.856Z"
   },
   {
    "duration": 160,
    "start_time": "2022-05-30T09:19:45.995Z"
   },
   {
    "duration": 30,
    "start_time": "2022-05-30T09:19:46.157Z"
   },
   {
    "duration": 19,
    "start_time": "2022-05-30T09:19:46.189Z"
   },
   {
    "duration": 85,
    "start_time": "2022-05-30T09:19:46.215Z"
   },
   {
    "duration": 160,
    "start_time": "2022-05-30T09:19:46.306Z"
   },
   {
    "duration": 94,
    "start_time": "2022-05-30T09:19:46.470Z"
   },
   {
    "duration": 101,
    "start_time": "2022-05-30T09:19:46.572Z"
   },
   {
    "duration": 68,
    "start_time": "2022-05-30T09:19:46.679Z"
   },
   {
    "duration": 35,
    "start_time": "2022-05-30T09:19:54.554Z"
   },
   {
    "duration": 865,
    "start_time": "2022-05-30T09:20:00.824Z"
   },
   {
    "duration": 738,
    "start_time": "2022-05-30T09:20:29.714Z"
   },
   {
    "duration": 1141,
    "start_time": "2022-05-30T09:20:32.615Z"
   },
   {
    "duration": 857,
    "start_time": "2022-05-30T09:21:34.851Z"
   },
   {
    "duration": 7,
    "start_time": "2022-05-30T09:21:39.084Z"
   },
   {
    "duration": 55,
    "start_time": "2022-05-30T09:21:39.093Z"
   },
   {
    "duration": 600,
    "start_time": "2022-05-30T09:21:39.150Z"
   },
   {
    "duration": 54,
    "start_time": "2022-05-30T09:21:39.752Z"
   },
   {
    "duration": 40,
    "start_time": "2022-05-30T09:21:39.808Z"
   },
   {
    "duration": 85,
    "start_time": "2022-05-30T09:21:39.850Z"
   },
   {
    "duration": 15,
    "start_time": "2022-05-30T09:21:39.937Z"
   },
   {
    "duration": 83,
    "start_time": "2022-05-30T09:21:39.955Z"
   },
   {
    "duration": 64,
    "start_time": "2022-05-30T09:21:40.040Z"
   },
   {
    "duration": 41,
    "start_time": "2022-05-30T09:21:40.109Z"
   },
   {
    "duration": 116,
    "start_time": "2022-05-30T09:21:40.152Z"
   },
   {
    "duration": 122,
    "start_time": "2022-05-30T09:21:40.270Z"
   },
   {
    "duration": 45,
    "start_time": "2022-05-30T09:21:40.399Z"
   },
   {
    "duration": 67,
    "start_time": "2022-05-30T09:21:40.448Z"
   },
   {
    "duration": 103,
    "start_time": "2022-05-30T09:21:40.519Z"
   },
   {
    "duration": 156,
    "start_time": "2022-05-30T09:21:40.630Z"
   },
   {
    "duration": 34,
    "start_time": "2022-05-30T09:21:40.792Z"
   },
   {
    "duration": 139,
    "start_time": "2022-05-30T09:21:40.831Z"
   },
   {
    "duration": 552,
    "start_time": "2022-05-30T09:21:40.972Z"
   },
   {
    "duration": 308,
    "start_time": "2022-05-30T09:21:41.526Z"
   },
   {
    "duration": 502,
    "start_time": "2022-05-30T09:21:41.836Z"
   },
   {
    "duration": 30,
    "start_time": "2022-05-30T09:21:42.342Z"
   },
   {
    "duration": 83,
    "start_time": "2022-05-30T09:21:42.374Z"
   },
   {
    "duration": 84,
    "start_time": "2022-05-30T09:21:42.459Z"
   },
   {
    "duration": 521,
    "start_time": "2022-05-30T09:21:42.545Z"
   },
   {
    "duration": 509,
    "start_time": "2022-05-30T09:21:43.072Z"
   },
   {
    "duration": 53,
    "start_time": "2022-05-30T09:21:43.587Z"
   },
   {
    "duration": 254,
    "start_time": "2022-05-30T09:21:43.646Z"
   },
   {
    "duration": 12,
    "start_time": "2022-05-30T09:21:43.906Z"
   },
   {
    "duration": 76,
    "start_time": "2022-05-30T09:21:43.923Z"
   },
   {
    "duration": 35,
    "start_time": "2022-05-30T09:21:44.004Z"
   },
   {
    "duration": 95,
    "start_time": "2022-05-30T09:21:44.040Z"
   },
   {
    "duration": 111,
    "start_time": "2022-05-30T09:21:44.137Z"
   },
   {
    "duration": 89,
    "start_time": "2022-05-30T09:21:44.250Z"
   },
   {
    "duration": 91,
    "start_time": "2022-05-30T09:21:44.341Z"
   },
   {
    "duration": 23,
    "start_time": "2022-05-30T09:21:44.434Z"
   },
   {
    "duration": 98,
    "start_time": "2022-05-30T09:21:44.459Z"
   },
   {
    "duration": 76,
    "start_time": "2022-05-30T09:21:44.558Z"
   },
   {
    "duration": 12,
    "start_time": "2022-05-30T09:21:44.636Z"
   },
   {
    "duration": 87,
    "start_time": "2022-05-30T09:21:44.650Z"
   },
   {
    "duration": 51,
    "start_time": "2022-05-30T09:21:44.741Z"
   },
   {
    "duration": 98,
    "start_time": "2022-05-30T09:21:44.795Z"
   },
   {
    "duration": 44,
    "start_time": "2022-05-30T09:21:44.898Z"
   },
   {
    "duration": 106,
    "start_time": "2022-05-30T09:21:44.944Z"
   },
   {
    "duration": 77,
    "start_time": "2022-05-30T09:21:45.052Z"
   },
   {
    "duration": 70,
    "start_time": "2022-05-30T09:21:45.131Z"
   },
   {
    "duration": 889,
    "start_time": "2022-05-30T09:21:47.649Z"
   },
   {
    "duration": 6,
    "start_time": "2022-05-30T09:25:21.246Z"
   },
   {
    "duration": 12,
    "start_time": "2022-05-30T09:25:23.098Z"
   },
   {
    "duration": 29,
    "start_time": "2022-05-30T09:25:31.581Z"
   },
   {
    "duration": 25,
    "start_time": "2022-05-30T09:25:33.696Z"
   },
   {
    "duration": 31,
    "start_time": "2022-05-30T09:25:37.948Z"
   },
   {
    "duration": 904,
    "start_time": "2022-05-30T09:25:53.012Z"
   },
   {
    "duration": 8,
    "start_time": "2022-05-30T09:25:56.495Z"
   },
   {
    "duration": 20,
    "start_time": "2022-05-30T09:25:56.506Z"
   },
   {
    "duration": 606,
    "start_time": "2022-05-30T09:25:56.528Z"
   },
   {
    "duration": 33,
    "start_time": "2022-05-30T09:25:57.137Z"
   },
   {
    "duration": 66,
    "start_time": "2022-05-30T09:25:57.185Z"
   },
   {
    "duration": 77,
    "start_time": "2022-05-30T09:25:57.253Z"
   },
   {
    "duration": 18,
    "start_time": "2022-05-30T09:25:57.331Z"
   },
   {
    "duration": 114,
    "start_time": "2022-05-30T09:25:57.351Z"
   },
   {
    "duration": 104,
    "start_time": "2022-05-30T09:25:57.474Z"
   },
   {
    "duration": 73,
    "start_time": "2022-05-30T09:25:57.581Z"
   },
   {
    "duration": 178,
    "start_time": "2022-05-30T09:25:57.656Z"
   },
   {
    "duration": 197,
    "start_time": "2022-05-30T09:25:57.842Z"
   },
   {
    "duration": 9,
    "start_time": "2022-05-30T09:25:58.044Z"
   },
   {
    "duration": 227,
    "start_time": "2022-05-30T09:25:58.059Z"
   },
   {
    "duration": 223,
    "start_time": "2022-05-30T09:25:58.299Z"
   },
   {
    "duration": 248,
    "start_time": "2022-05-30T09:25:58.524Z"
   },
   {
    "duration": 39,
    "start_time": "2022-05-30T09:25:58.782Z"
   },
   {
    "duration": 126,
    "start_time": "2022-05-30T09:25:58.825Z"
   },
   {
    "duration": 533,
    "start_time": "2022-05-30T09:25:58.953Z"
   },
   {
    "duration": 389,
    "start_time": "2022-05-30T09:25:59.491Z"
   },
   {
    "duration": 466,
    "start_time": "2022-05-30T09:25:59.882Z"
   },
   {
    "duration": 24,
    "start_time": "2022-05-30T09:26:00.350Z"
   },
   {
    "duration": 74,
    "start_time": "2022-05-30T09:26:00.376Z"
   },
   {
    "duration": 86,
    "start_time": "2022-05-30T09:26:00.452Z"
   },
   {
    "duration": 369,
    "start_time": "2022-05-30T09:26:00.540Z"
   },
   {
    "duration": 380,
    "start_time": "2022-05-30T09:26:00.918Z"
   },
   {
    "duration": 47,
    "start_time": "2022-05-30T09:26:01.300Z"
   },
   {
    "duration": 230,
    "start_time": "2022-05-30T09:26:01.352Z"
   },
   {
    "duration": 31,
    "start_time": "2022-05-30T09:26:01.595Z"
   },
   {
    "duration": 146,
    "start_time": "2022-05-30T09:26:01.628Z"
   },
   {
    "duration": 58,
    "start_time": "2022-05-30T09:26:01.777Z"
   },
   {
    "duration": 98,
    "start_time": "2022-05-30T09:26:01.839Z"
   },
   {
    "duration": 126,
    "start_time": "2022-05-30T09:26:01.940Z"
   },
   {
    "duration": 100,
    "start_time": "2022-05-30T09:26:02.079Z"
   },
   {
    "duration": 102,
    "start_time": "2022-05-30T09:26:02.181Z"
   },
   {
    "duration": 67,
    "start_time": "2022-05-30T09:26:02.285Z"
   },
   {
    "duration": 102,
    "start_time": "2022-05-30T09:26:02.354Z"
   },
   {
    "duration": 139,
    "start_time": "2022-05-30T09:26:02.458Z"
   },
   {
    "duration": 39,
    "start_time": "2022-05-30T09:26:02.599Z"
   },
   {
    "duration": 72,
    "start_time": "2022-05-30T09:26:02.640Z"
   },
   {
    "duration": 33,
    "start_time": "2022-05-30T09:26:02.714Z"
   },
   {
    "duration": 89,
    "start_time": "2022-05-30T09:26:02.754Z"
   },
   {
    "duration": 69,
    "start_time": "2022-05-30T09:26:02.845Z"
   },
   {
    "duration": 100,
    "start_time": "2022-05-30T09:26:02.916Z"
   },
   {
    "duration": 66,
    "start_time": "2022-05-30T09:26:03.017Z"
   },
   {
    "duration": 8,
    "start_time": "2022-05-30T09:26:47.494Z"
   },
   {
    "duration": 15,
    "start_time": "2022-05-30T09:26:51.711Z"
   },
   {
    "duration": 10,
    "start_time": "2022-05-30T09:26:57.055Z"
   },
   {
    "duration": 21,
    "start_time": "2022-05-30T09:26:59.009Z"
   },
   {
    "duration": 17,
    "start_time": "2022-05-30T09:27:12.434Z"
   },
   {
    "duration": 25,
    "start_time": "2022-05-30T09:27:14.002Z"
   },
   {
    "duration": 25,
    "start_time": "2022-05-30T09:27:16.750Z"
   },
   {
    "duration": 46,
    "start_time": "2022-05-30T09:27:18.260Z"
   },
   {
    "duration": 19,
    "start_time": "2022-05-30T09:27:22.388Z"
   },
   {
    "duration": 7,
    "start_time": "2022-05-30T09:27:26.861Z"
   },
   {
    "duration": 30,
    "start_time": "2022-05-30T09:27:28.792Z"
   },
   {
    "duration": 967,
    "start_time": "2022-05-30T09:27:34.034Z"
   },
   {
    "duration": 4,
    "start_time": "2022-05-30T09:27:49.294Z"
   },
   {
    "duration": 45,
    "start_time": "2022-05-30T09:27:49.300Z"
   },
   {
    "duration": 651,
    "start_time": "2022-05-30T09:27:49.347Z"
   },
   {
    "duration": 23,
    "start_time": "2022-05-30T09:27:50.001Z"
   },
   {
    "duration": 20,
    "start_time": "2022-05-30T09:27:50.027Z"
   },
   {
    "duration": 57,
    "start_time": "2022-05-30T09:27:50.049Z"
   },
   {
    "duration": 42,
    "start_time": "2022-05-30T09:27:50.108Z"
   },
   {
    "duration": 100,
    "start_time": "2022-05-30T09:27:50.152Z"
   },
   {
    "duration": 121,
    "start_time": "2022-05-30T09:27:50.254Z"
   },
   {
    "duration": 41,
    "start_time": "2022-05-30T09:27:50.380Z"
   },
   {
    "duration": 70,
    "start_time": "2022-05-30T09:27:50.423Z"
   },
   {
    "duration": 115,
    "start_time": "2022-05-30T09:27:50.498Z"
   },
   {
    "duration": 18,
    "start_time": "2022-05-30T09:27:50.615Z"
   },
   {
    "duration": 95,
    "start_time": "2022-05-30T09:27:50.635Z"
   },
   {
    "duration": 79,
    "start_time": "2022-05-30T09:27:50.734Z"
   },
   {
    "duration": 160,
    "start_time": "2022-05-30T09:27:50.819Z"
   },
   {
    "duration": 11,
    "start_time": "2022-05-30T09:27:50.981Z"
   },
   {
    "duration": 69,
    "start_time": "2022-05-30T09:27:50.994Z"
   },
   {
    "duration": 585,
    "start_time": "2022-05-30T09:27:51.064Z"
   },
   {
    "duration": 380,
    "start_time": "2022-05-30T09:27:51.661Z"
   },
   {
    "duration": 484,
    "start_time": "2022-05-30T09:27:52.043Z"
   },
   {
    "duration": 38,
    "start_time": "2022-05-30T09:27:52.529Z"
   },
   {
    "duration": 48,
    "start_time": "2022-05-30T09:27:52.569Z"
   },
   {
    "duration": 8,
    "start_time": "2022-05-30T09:27:52.620Z"
   },
   {
    "duration": 400,
    "start_time": "2022-05-30T09:27:52.630Z"
   },
   {
    "duration": 440,
    "start_time": "2022-05-30T09:27:53.036Z"
   },
   {
    "duration": 53,
    "start_time": "2022-05-30T09:27:53.481Z"
   },
   {
    "duration": 154,
    "start_time": "2022-05-30T09:27:53.542Z"
   },
   {
    "duration": 16,
    "start_time": "2022-05-30T09:27:53.702Z"
   },
   {
    "duration": 70,
    "start_time": "2022-05-30T09:27:53.725Z"
   },
   {
    "duration": 89,
    "start_time": "2022-05-30T09:27:53.801Z"
   },
   {
    "duration": 61,
    "start_time": "2022-05-30T09:27:53.896Z"
   },
   {
    "duration": 156,
    "start_time": "2022-05-30T09:27:53.965Z"
   },
   {
    "duration": 54,
    "start_time": "2022-05-30T09:27:54.123Z"
   },
   {
    "duration": 65,
    "start_time": "2022-05-30T09:27:54.184Z"
   },
   {
    "duration": 76,
    "start_time": "2022-05-30T09:27:54.252Z"
   },
   {
    "duration": 135,
    "start_time": "2022-05-30T09:27:54.331Z"
   },
   {
    "duration": 83,
    "start_time": "2022-05-30T09:27:54.471Z"
   },
   {
    "duration": 53,
    "start_time": "2022-05-30T09:27:54.556Z"
   },
   {
    "duration": 70,
    "start_time": "2022-05-30T09:27:54.611Z"
   },
   {
    "duration": 102,
    "start_time": "2022-05-30T09:27:54.686Z"
   },
   {
    "duration": 85,
    "start_time": "2022-05-30T09:27:54.794Z"
   },
   {
    "duration": 38,
    "start_time": "2022-05-30T09:27:54.881Z"
   },
   {
    "duration": 35,
    "start_time": "2022-05-30T09:27:54.920Z"
   },
   {
    "duration": 78,
    "start_time": "2022-05-30T09:27:54.957Z"
   },
   {
    "duration": 76,
    "start_time": "2022-05-30T09:27:55.037Z"
   },
   {
    "duration": 38,
    "start_time": "2022-05-30T09:27:55.115Z"
   },
   {
    "duration": 60,
    "start_time": "2022-05-30T09:27:55.155Z"
   },
   {
    "duration": 76,
    "start_time": "2022-05-30T09:27:55.217Z"
   },
   {
    "duration": 27,
    "start_time": "2022-05-30T09:27:55.297Z"
   },
   {
    "duration": 44,
    "start_time": "2022-05-30T09:27:55.327Z"
   },
   {
    "duration": 79,
    "start_time": "2022-05-30T09:27:55.377Z"
   },
   {
    "duration": 91,
    "start_time": "2022-05-30T09:27:55.462Z"
   },
   {
    "duration": 71,
    "start_time": "2022-05-30T09:27:55.556Z"
   },
   {
    "duration": 28,
    "start_time": "2022-05-30T09:27:55.629Z"
   },
   {
    "duration": 25,
    "start_time": "2022-05-30T09:27:59.417Z"
   },
   {
    "duration": 9,
    "start_time": "2022-05-30T09:28:16.814Z"
   },
   {
    "duration": 8,
    "start_time": "2022-05-30T09:28:18.938Z"
   },
   {
    "duration": 17,
    "start_time": "2022-05-30T09:28:20.796Z"
   },
   {
    "duration": 33,
    "start_time": "2022-05-30T09:28:23.489Z"
   },
   {
    "duration": 3,
    "start_time": "2022-05-30T09:28:49.493Z"
   },
   {
    "duration": 5,
    "start_time": "2022-05-30T09:28:50.809Z"
   },
   {
    "duration": 3,
    "start_time": "2022-05-30T09:28:54.037Z"
   },
   {
    "duration": 9,
    "start_time": "2022-05-30T09:28:55.982Z"
   },
   {
    "duration": 913,
    "start_time": "2022-05-30T09:28:59.206Z"
   },
   {
    "duration": 937,
    "start_time": "2022-05-30T09:29:13.157Z"
   },
   {
    "duration": 99,
    "start_time": "2022-05-30T09:29:26.775Z"
   },
   {
    "duration": 26,
    "start_time": "2022-05-30T09:29:28.877Z"
   },
   {
    "duration": 13,
    "start_time": "2022-05-30T09:29:42.853Z"
   },
   {
    "duration": 40,
    "start_time": "2022-05-30T09:30:18.056Z"
   },
   {
    "duration": 4,
    "start_time": "2022-05-30T09:31:43.732Z"
   },
   {
    "duration": 10,
    "start_time": "2022-05-30T09:31:43.739Z"
   },
   {
    "duration": 687,
    "start_time": "2022-05-30T09:31:43.751Z"
   },
   {
    "duration": 52,
    "start_time": "2022-05-30T09:31:44.440Z"
   },
   {
    "duration": 55,
    "start_time": "2022-05-30T09:31:44.499Z"
   },
   {
    "duration": 78,
    "start_time": "2022-05-30T09:31:44.559Z"
   },
   {
    "duration": 78,
    "start_time": "2022-05-30T09:31:44.639Z"
   },
   {
    "duration": 19,
    "start_time": "2022-05-30T09:31:44.720Z"
   },
   {
    "duration": 54,
    "start_time": "2022-05-30T09:31:44.741Z"
   },
   {
    "duration": 65,
    "start_time": "2022-05-30T09:31:44.805Z"
   },
   {
    "duration": 122,
    "start_time": "2022-05-30T09:31:44.876Z"
   },
   {
    "duration": 87,
    "start_time": "2022-05-30T09:31:45.003Z"
   },
   {
    "duration": 13,
    "start_time": "2022-05-30T09:31:45.094Z"
   },
   {
    "duration": 64,
    "start_time": "2022-05-30T09:31:45.113Z"
   },
   {
    "duration": 69,
    "start_time": "2022-05-30T09:31:45.179Z"
   },
   {
    "duration": 90,
    "start_time": "2022-05-30T09:31:45.250Z"
   },
   {
    "duration": 7,
    "start_time": "2022-05-30T09:31:45.341Z"
   },
   {
    "duration": 88,
    "start_time": "2022-05-30T09:31:45.350Z"
   },
   {
    "duration": 401,
    "start_time": "2022-05-30T09:31:45.440Z"
   },
   {
    "duration": 389,
    "start_time": "2022-05-30T09:31:45.843Z"
   },
   {
    "duration": 545,
    "start_time": "2022-05-30T09:31:46.239Z"
   },
   {
    "duration": 21,
    "start_time": "2022-05-30T09:31:46.789Z"
   },
   {
    "duration": 33,
    "start_time": "2022-05-30T09:31:46.812Z"
   },
   {
    "duration": 56,
    "start_time": "2022-05-30T09:31:46.848Z"
   },
   {
    "duration": 401,
    "start_time": "2022-05-30T09:31:46.911Z"
   },
   {
    "duration": 442,
    "start_time": "2022-05-30T09:31:47.314Z"
   },
   {
    "duration": 79,
    "start_time": "2022-05-30T09:31:47.769Z"
   },
   {
    "duration": 160,
    "start_time": "2022-05-30T09:31:47.850Z"
   },
   {
    "duration": 21,
    "start_time": "2022-05-30T09:31:48.017Z"
   },
   {
    "duration": 85,
    "start_time": "2022-05-30T09:31:48.047Z"
   },
   {
    "duration": 41,
    "start_time": "2022-05-30T09:31:48.133Z"
   },
   {
    "duration": 62,
    "start_time": "2022-05-30T09:31:48.181Z"
   },
   {
    "duration": 112,
    "start_time": "2022-05-30T09:31:48.244Z"
   },
   {
    "duration": 55,
    "start_time": "2022-05-30T09:31:48.363Z"
   },
   {
    "duration": 85,
    "start_time": "2022-05-30T09:31:48.420Z"
   },
   {
    "duration": 36,
    "start_time": "2022-05-30T09:31:48.507Z"
   },
   {
    "duration": 70,
    "start_time": "2022-05-30T09:31:48.546Z"
   },
   {
    "duration": 60,
    "start_time": "2022-05-30T09:31:48.618Z"
   },
   {
    "duration": 3,
    "start_time": "2022-05-30T09:31:48.680Z"
   },
   {
    "duration": 51,
    "start_time": "2022-05-30T09:31:48.686Z"
   },
   {
    "duration": 34,
    "start_time": "2022-05-30T09:31:48.742Z"
   },
   {
    "duration": 74,
    "start_time": "2022-05-30T09:31:48.778Z"
   },
   {
    "duration": 24,
    "start_time": "2022-05-30T09:31:48.854Z"
   },
   {
    "duration": 56,
    "start_time": "2022-05-30T09:31:48.881Z"
   },
   {
    "duration": 21,
    "start_time": "2022-05-30T09:31:48.940Z"
   },
   {
    "duration": 7,
    "start_time": "2022-05-30T09:31:48.962Z"
   },
   {
    "duration": 66,
    "start_time": "2022-05-30T09:31:48.970Z"
   },
   {
    "duration": 12,
    "start_time": "2022-05-30T09:31:49.039Z"
   },
   {
    "duration": 69,
    "start_time": "2022-05-30T09:31:49.053Z"
   },
   {
    "duration": 28,
    "start_time": "2022-05-30T09:31:49.124Z"
   },
   {
    "duration": 26,
    "start_time": "2022-05-30T09:31:49.154Z"
   },
   {
    "duration": 56,
    "start_time": "2022-05-30T09:31:49.182Z"
   },
   {
    "duration": 15,
    "start_time": "2022-05-30T09:31:49.240Z"
   },
   {
    "duration": 65,
    "start_time": "2022-05-30T09:31:49.257Z"
   },
   {
    "duration": 4,
    "start_time": "2022-05-30T09:31:49.324Z"
   },
   {
    "duration": 19,
    "start_time": "2022-05-30T09:31:49.330Z"
   },
   {
    "duration": 66,
    "start_time": "2022-05-30T09:31:49.352Z"
   },
   {
    "duration": 15,
    "start_time": "2022-05-30T09:31:49.420Z"
   },
   {
    "duration": 19,
    "start_time": "2022-05-30T09:31:49.437Z"
   },
   {
    "duration": 77,
    "start_time": "2022-05-30T09:31:49.459Z"
   },
   {
    "duration": 2,
    "start_time": "2022-05-30T09:31:49.538Z"
   },
   {
    "duration": 7,
    "start_time": "2022-05-30T09:31:49.542Z"
   },
   {
    "duration": 66,
    "start_time": "2022-05-30T09:31:49.551Z"
   },
   {
    "duration": 15,
    "start_time": "2022-05-30T09:31:49.620Z"
   },
   {
    "duration": 157,
    "start_time": "2022-05-30T09:31:52.494Z"
   },
   {
    "duration": 42,
    "start_time": "2022-05-30T09:31:53.963Z"
   },
   {
    "duration": 6,
    "start_time": "2022-05-30T09:32:27.121Z"
   },
   {
    "duration": 20,
    "start_time": "2022-05-30T09:32:28.399Z"
   },
   {
    "duration": 32,
    "start_time": "2022-05-30T09:32:33.861Z"
   },
   {
    "duration": 28,
    "start_time": "2022-05-30T09:32:43.712Z"
   },
   {
    "duration": 59,
    "start_time": "2022-05-30T09:32:55.752Z"
   },
   {
    "duration": 276,
    "start_time": "2022-05-30T09:33:08.887Z"
   },
   {
    "duration": 302,
    "start_time": "2022-05-30T09:33:11.612Z"
   },
   {
    "duration": 905,
    "start_time": "2022-05-30T09:33:14.233Z"
   },
   {
    "duration": 323,
    "start_time": "2022-05-30T09:33:20.581Z"
   },
   {
    "duration": 712,
    "start_time": "2022-05-30T09:34:20.789Z"
   },
   {
    "duration": 50,
    "start_time": "2022-05-30T09:34:56.734Z"
   },
   {
    "duration": 19,
    "start_time": "2022-05-30T09:35:27.122Z"
   },
   {
    "duration": 18,
    "start_time": "2022-05-30T09:35:38.580Z"
   },
   {
    "duration": 10,
    "start_time": "2022-05-30T09:51:32.038Z"
   },
   {
    "duration": 4,
    "start_time": "2022-05-30T09:51:35.092Z"
   },
   {
    "duration": 13,
    "start_time": "2022-05-30T09:51:35.098Z"
   },
   {
    "duration": 502,
    "start_time": "2022-05-30T09:51:35.112Z"
   },
   {
    "duration": 293,
    "start_time": "2022-05-30T09:51:35.616Z"
   },
   {
    "duration": 8,
    "start_time": "2022-05-30T09:51:35.911Z"
   },
   {
    "duration": 25,
    "start_time": "2022-05-30T09:51:35.921Z"
   },
   {
    "duration": 52,
    "start_time": "2022-05-30T09:51:35.947Z"
   },
   {
    "duration": 18,
    "start_time": "2022-05-30T09:51:36.001Z"
   },
   {
    "duration": 43,
    "start_time": "2022-05-30T09:51:36.021Z"
   },
   {
    "duration": 23,
    "start_time": "2022-05-30T09:51:36.067Z"
   },
   {
    "duration": 63,
    "start_time": "2022-05-30T09:51:36.092Z"
   },
   {
    "duration": 96,
    "start_time": "2022-05-30T09:51:36.157Z"
   },
   {
    "duration": 20,
    "start_time": "2022-05-30T09:51:36.255Z"
   },
   {
    "duration": 48,
    "start_time": "2022-05-30T09:51:36.277Z"
   },
   {
    "duration": 53,
    "start_time": "2022-05-30T09:51:36.327Z"
   },
   {
    "duration": 95,
    "start_time": "2022-05-30T09:51:36.382Z"
   },
   {
    "duration": 8,
    "start_time": "2022-05-30T09:51:36.478Z"
   },
   {
    "duration": 45,
    "start_time": "2022-05-30T09:51:36.488Z"
   },
   {
    "duration": 338,
    "start_time": "2022-05-30T09:51:36.535Z"
   },
   {
    "duration": 355,
    "start_time": "2022-05-30T09:51:36.875Z"
   },
   {
    "duration": 415,
    "start_time": "2022-05-30T09:51:37.232Z"
   },
   {
    "duration": 27,
    "start_time": "2022-05-30T09:51:37.659Z"
   },
   {
    "duration": 43,
    "start_time": "2022-05-30T09:51:37.692Z"
   },
   {
    "duration": 7,
    "start_time": "2022-05-30T09:51:37.737Z"
   },
   {
    "duration": 286,
    "start_time": "2022-05-30T09:51:37.746Z"
   },
   {
    "duration": 305,
    "start_time": "2022-05-30T09:51:38.035Z"
   },
   {
    "duration": 54,
    "start_time": "2022-05-30T09:51:38.342Z"
   },
   {
    "duration": 119,
    "start_time": "2022-05-30T09:51:38.400Z"
   },
   {
    "duration": 6,
    "start_time": "2022-05-30T09:51:38.521Z"
   },
   {
    "duration": 46,
    "start_time": "2022-05-30T09:51:38.529Z"
   },
   {
    "duration": 12,
    "start_time": "2022-05-30T09:51:38.576Z"
   },
   {
    "duration": 22,
    "start_time": "2022-05-30T09:51:38.590Z"
   },
   {
    "duration": 37,
    "start_time": "2022-05-30T09:51:38.614Z"
   },
   {
    "duration": 40,
    "start_time": "2022-05-30T09:51:38.653Z"
   },
   {
    "duration": 42,
    "start_time": "2022-05-30T09:51:38.695Z"
   },
   {
    "duration": 5,
    "start_time": "2022-05-30T09:51:38.739Z"
   },
   {
    "duration": 70,
    "start_time": "2022-05-30T09:51:38.763Z"
   },
   {
    "duration": 33,
    "start_time": "2022-05-30T09:51:38.835Z"
   },
   {
    "duration": 23,
    "start_time": "2022-05-30T09:51:38.870Z"
   },
   {
    "duration": 28,
    "start_time": "2022-05-30T09:51:38.894Z"
   },
   {
    "duration": 24,
    "start_time": "2022-05-30T09:51:38.924Z"
   },
   {
    "duration": 40,
    "start_time": "2022-05-30T09:51:38.950Z"
   },
   {
    "duration": 21,
    "start_time": "2022-05-30T09:51:38.996Z"
   },
   {
    "duration": 28,
    "start_time": "2022-05-30T09:51:39.019Z"
   },
   {
    "duration": 20,
    "start_time": "2022-05-30T09:51:39.049Z"
   },
   {
    "duration": 30,
    "start_time": "2022-05-30T09:51:39.076Z"
   },
   {
    "duration": 14,
    "start_time": "2022-05-30T09:51:39.108Z"
   },
   {
    "duration": 8,
    "start_time": "2022-05-30T09:51:39.123Z"
   },
   {
    "duration": 16,
    "start_time": "2022-05-30T09:51:39.133Z"
   },
   {
    "duration": 51,
    "start_time": "2022-05-30T09:51:39.151Z"
   },
   {
    "duration": 13,
    "start_time": "2022-05-30T09:51:39.204Z"
   },
   {
    "duration": 15,
    "start_time": "2022-05-30T09:51:39.218Z"
   },
   {
    "duration": 13,
    "start_time": "2022-05-30T09:51:39.234Z"
   },
   {
    "duration": 44,
    "start_time": "2022-05-30T09:51:39.248Z"
   },
   {
    "duration": 49,
    "start_time": "2022-05-30T09:51:39.294Z"
   },
   {
    "duration": 43,
    "start_time": "2022-05-30T09:51:39.345Z"
   },
   {
    "duration": 16,
    "start_time": "2022-05-30T09:51:39.390Z"
   },
   {
    "duration": 12,
    "start_time": "2022-05-30T09:51:39.407Z"
   },
   {
    "duration": 13,
    "start_time": "2022-05-30T09:51:39.421Z"
   },
   {
    "duration": 18,
    "start_time": "2022-05-30T09:51:39.436Z"
   },
   {
    "duration": 31,
    "start_time": "2022-05-30T09:51:39.455Z"
   },
   {
    "duration": 11,
    "start_time": "2022-05-30T09:51:39.490Z"
   },
   {
    "duration": 18,
    "start_time": "2022-05-30T09:51:39.503Z"
   },
   {
    "duration": 25,
    "start_time": "2022-05-30T09:51:39.523Z"
   },
   {
    "duration": 90,
    "start_time": "2022-05-30T09:51:39.550Z"
   },
   {
    "duration": 28,
    "start_time": "2022-05-30T09:51:39.642Z"
   },
   {
    "duration": 21,
    "start_time": "2022-05-30T09:51:39.677Z"
   },
   {
    "duration": 12,
    "start_time": "2022-05-30T09:51:44.206Z"
   },
   {
    "duration": 17,
    "start_time": "2022-05-30T09:51:55.935Z"
   },
   {
    "duration": 21,
    "start_time": "2022-05-30T09:52:10.102Z"
   },
   {
    "duration": 30,
    "start_time": "2022-05-30T09:52:18.687Z"
   },
   {
    "duration": 18,
    "start_time": "2022-05-30T09:53:01.332Z"
   },
   {
    "duration": 276,
    "start_time": "2022-05-30T09:53:06.290Z"
   },
   {
    "duration": 21,
    "start_time": "2022-05-30T09:53:32.175Z"
   },
   {
    "duration": 16,
    "start_time": "2022-05-30T09:53:46.394Z"
   },
   {
    "duration": 4,
    "start_time": "2022-05-30T09:53:55.385Z"
   },
   {
    "duration": 37,
    "start_time": "2022-05-30T09:53:55.391Z"
   },
   {
    "duration": 524,
    "start_time": "2022-05-30T09:53:55.430Z"
   },
   {
    "duration": 37,
    "start_time": "2022-05-30T09:53:55.959Z"
   },
   {
    "duration": 30,
    "start_time": "2022-05-30T09:53:55.998Z"
   },
   {
    "duration": 22,
    "start_time": "2022-05-30T09:53:56.030Z"
   },
   {
    "duration": 59,
    "start_time": "2022-05-30T09:53:56.054Z"
   },
   {
    "duration": 48,
    "start_time": "2022-05-30T09:53:56.115Z"
   },
   {
    "duration": 50,
    "start_time": "2022-05-30T09:53:56.165Z"
   },
   {
    "duration": 43,
    "start_time": "2022-05-30T09:53:56.218Z"
   },
   {
    "duration": 71,
    "start_time": "2022-05-30T09:53:56.264Z"
   },
   {
    "duration": 64,
    "start_time": "2022-05-30T09:53:56.336Z"
   },
   {
    "duration": 7,
    "start_time": "2022-05-30T09:53:56.402Z"
   },
   {
    "duration": 24,
    "start_time": "2022-05-30T09:53:56.410Z"
   },
   {
    "duration": 53,
    "start_time": "2022-05-30T09:53:56.436Z"
   },
   {
    "duration": 59,
    "start_time": "2022-05-30T09:53:56.491Z"
   },
   {
    "duration": 15,
    "start_time": "2022-05-30T09:53:56.563Z"
   },
   {
    "duration": 53,
    "start_time": "2022-05-30T09:53:56.580Z"
   },
   {
    "duration": 263,
    "start_time": "2022-05-30T09:53:56.635Z"
   },
   {
    "duration": 303,
    "start_time": "2022-05-30T09:53:56.900Z"
   },
   {
    "duration": 417,
    "start_time": "2022-05-30T09:53:57.205Z"
   },
   {
    "duration": 15,
    "start_time": "2022-05-30T09:53:57.624Z"
   },
   {
    "duration": 49,
    "start_time": "2022-05-30T09:53:57.640Z"
   },
   {
    "duration": 32,
    "start_time": "2022-05-30T09:53:57.691Z"
   },
   {
    "duration": 286,
    "start_time": "2022-05-30T09:53:57.724Z"
   },
   {
    "duration": 323,
    "start_time": "2022-05-30T09:53:58.012Z"
   },
   {
    "duration": 53,
    "start_time": "2022-05-30T09:53:58.337Z"
   },
   {
    "duration": 131,
    "start_time": "2022-05-30T09:53:58.394Z"
   },
   {
    "duration": 7,
    "start_time": "2022-05-30T09:53:58.526Z"
   },
   {
    "duration": 52,
    "start_time": "2022-05-30T09:53:58.534Z"
   },
   {
    "duration": 17,
    "start_time": "2022-05-30T09:53:58.590Z"
   },
   {
    "duration": 11,
    "start_time": "2022-05-30T09:53:58.609Z"
   },
   {
    "duration": 29,
    "start_time": "2022-05-30T09:53:58.622Z"
   },
   {
    "duration": 45,
    "start_time": "2022-05-30T09:53:58.653Z"
   },
   {
    "duration": 43,
    "start_time": "2022-05-30T09:53:58.700Z"
   },
   {
    "duration": 8,
    "start_time": "2022-05-30T09:53:58.745Z"
   },
   {
    "duration": 55,
    "start_time": "2022-05-30T09:53:58.765Z"
   },
   {
    "duration": 29,
    "start_time": "2022-05-30T09:53:58.822Z"
   },
   {
    "duration": 3,
    "start_time": "2022-05-30T09:53:58.853Z"
   },
   {
    "duration": 54,
    "start_time": "2022-05-30T09:53:58.857Z"
   },
   {
    "duration": 19,
    "start_time": "2022-05-30T09:53:58.913Z"
   },
   {
    "duration": 34,
    "start_time": "2022-05-30T09:53:58.934Z"
   },
   {
    "duration": 14,
    "start_time": "2022-05-30T09:53:58.969Z"
   },
   {
    "duration": 24,
    "start_time": "2022-05-30T09:53:58.985Z"
   },
   {
    "duration": 17,
    "start_time": "2022-05-30T09:53:59.011Z"
   },
   {
    "duration": 16,
    "start_time": "2022-05-30T09:53:59.029Z"
   },
   {
    "duration": 58,
    "start_time": "2022-05-30T09:53:59.047Z"
   },
   {
    "duration": 14,
    "start_time": "2022-05-30T09:53:59.107Z"
   },
   {
    "duration": 30,
    "start_time": "2022-05-30T09:53:59.122Z"
   },
   {
    "duration": 45,
    "start_time": "2022-05-30T09:53:59.154Z"
   },
   {
    "duration": 13,
    "start_time": "2022-05-30T09:53:59.201Z"
   },
   {
    "duration": 15,
    "start_time": "2022-05-30T09:53:59.216Z"
   },
   {
    "duration": 15,
    "start_time": "2022-05-30T09:53:59.233Z"
   },
   {
    "duration": 48,
    "start_time": "2022-05-30T09:53:59.250Z"
   },
   {
    "duration": 13,
    "start_time": "2022-05-30T09:53:59.300Z"
   },
   {
    "duration": 19,
    "start_time": "2022-05-30T09:53:59.315Z"
   },
   {
    "duration": 20,
    "start_time": "2022-05-30T09:53:59.336Z"
   },
   {
    "duration": 42,
    "start_time": "2022-05-30T09:53:59.358Z"
   },
   {
    "duration": 14,
    "start_time": "2022-05-30T09:53:59.401Z"
   },
   {
    "duration": 19,
    "start_time": "2022-05-30T09:53:59.417Z"
   },
   {
    "duration": 13,
    "start_time": "2022-05-30T09:53:59.438Z"
   },
   {
    "duration": 38,
    "start_time": "2022-05-30T09:53:59.452Z"
   },
   {
    "duration": 7,
    "start_time": "2022-05-30T09:53:59.492Z"
   },
   {
    "duration": 19,
    "start_time": "2022-05-30T09:53:59.500Z"
   },
   {
    "duration": 96,
    "start_time": "2022-05-30T09:53:59.521Z"
   },
   {
    "duration": 21,
    "start_time": "2022-05-30T09:53:59.619Z"
   },
   {
    "duration": 4,
    "start_time": "2022-05-30T09:53:59.642Z"
   },
   {
    "duration": 12,
    "start_time": "2022-05-30T09:53:59.659Z"
   },
   {
    "duration": 40,
    "start_time": "2022-05-30T09:53:59.672Z"
   },
   {
    "duration": 33,
    "start_time": "2022-05-30T09:53:59.714Z"
   },
   {
    "duration": 31,
    "start_time": "2022-05-30T09:53:59.749Z"
   },
   {
    "duration": 39,
    "start_time": "2022-05-30T09:53:59.782Z"
   },
   {
    "duration": 15,
    "start_time": "2022-05-30T09:54:33.148Z"
   },
   {
    "duration": 15,
    "start_time": "2022-05-30T09:54:57.788Z"
   },
   {
    "duration": 13,
    "start_time": "2022-05-30T09:58:03.552Z"
   },
   {
    "duration": 6,
    "start_time": "2022-05-30T09:58:33.084Z"
   },
   {
    "duration": 113,
    "start_time": "2022-05-30T09:58:33.093Z"
   },
   {
    "duration": 715,
    "start_time": "2022-05-30T09:58:33.210Z"
   },
   {
    "duration": 24,
    "start_time": "2022-05-30T09:58:33.927Z"
   },
   {
    "duration": 48,
    "start_time": "2022-05-30T09:58:33.962Z"
   },
   {
    "duration": 24,
    "start_time": "2022-05-30T09:58:34.012Z"
   },
   {
    "duration": 68,
    "start_time": "2022-05-30T09:58:34.039Z"
   },
   {
    "duration": 41,
    "start_time": "2022-05-30T09:58:34.109Z"
   },
   {
    "duration": 98,
    "start_time": "2022-05-30T09:58:34.152Z"
   },
   {
    "duration": 46,
    "start_time": "2022-05-30T09:58:34.252Z"
   },
   {
    "duration": 64,
    "start_time": "2022-05-30T09:58:34.302Z"
   },
   {
    "duration": 103,
    "start_time": "2022-05-30T09:58:34.379Z"
   },
   {
    "duration": 14,
    "start_time": "2022-05-30T09:58:34.491Z"
   },
   {
    "duration": 36,
    "start_time": "2022-05-30T09:58:34.512Z"
   },
   {
    "duration": 76,
    "start_time": "2022-05-30T09:58:34.549Z"
   },
   {
    "duration": 66,
    "start_time": "2022-05-30T09:58:34.628Z"
   },
   {
    "duration": 19,
    "start_time": "2022-05-30T09:58:34.696Z"
   },
   {
    "duration": 91,
    "start_time": "2022-05-30T09:58:34.717Z"
   },
   {
    "duration": 326,
    "start_time": "2022-05-30T09:58:34.815Z"
   },
   {
    "duration": 376,
    "start_time": "2022-05-30T09:58:35.143Z"
   },
   {
    "duration": 387,
    "start_time": "2022-05-30T09:58:35.521Z"
   },
   {
    "duration": 19,
    "start_time": "2022-05-30T09:58:35.911Z"
   },
   {
    "duration": 50,
    "start_time": "2022-05-30T09:58:35.932Z"
   },
   {
    "duration": 63,
    "start_time": "2022-05-30T09:58:35.984Z"
   },
   {
    "duration": 751,
    "start_time": "2022-05-30T09:58:36.049Z"
   },
   {
    "duration": 356,
    "start_time": "2022-05-30T09:58:36.806Z"
   },
   {
    "duration": 57,
    "start_time": "2022-05-30T09:58:37.163Z"
   },
   {
    "duration": 156,
    "start_time": "2022-05-30T09:58:37.222Z"
   },
   {
    "duration": 25,
    "start_time": "2022-05-30T09:58:37.386Z"
   },
   {
    "duration": 52,
    "start_time": "2022-05-30T09:58:37.417Z"
   },
   {
    "duration": 64,
    "start_time": "2022-05-30T09:58:37.478Z"
   },
   {
    "duration": 89,
    "start_time": "2022-05-30T09:58:37.544Z"
   },
   {
    "duration": 117,
    "start_time": "2022-05-30T09:58:37.638Z"
   },
   {
    "duration": 118,
    "start_time": "2022-05-30T09:58:37.757Z"
   },
   {
    "duration": 58,
    "start_time": "2022-05-30T09:58:37.881Z"
   },
   {
    "duration": 5,
    "start_time": "2022-05-30T09:58:37.941Z"
   },
   {
    "duration": 71,
    "start_time": "2022-05-30T09:58:37.948Z"
   },
   {
    "duration": 58,
    "start_time": "2022-05-30T09:58:38.022Z"
   },
   {
    "duration": 32,
    "start_time": "2022-05-30T09:58:38.082Z"
   },
   {
    "duration": 32,
    "start_time": "2022-05-30T09:58:38.116Z"
   },
   {
    "duration": 74,
    "start_time": "2022-05-30T09:58:38.152Z"
   },
   {
    "duration": 52,
    "start_time": "2022-05-30T09:58:38.228Z"
   },
   {
    "duration": 35,
    "start_time": "2022-05-30T09:58:38.283Z"
   },
   {
    "duration": 37,
    "start_time": "2022-05-30T09:58:38.319Z"
   },
   {
    "duration": 67,
    "start_time": "2022-05-30T09:58:38.359Z"
   },
   {
    "duration": 23,
    "start_time": "2022-05-30T09:58:38.428Z"
   },
   {
    "duration": 73,
    "start_time": "2022-05-30T09:58:38.453Z"
   },
   {
    "duration": 70,
    "start_time": "2022-05-30T09:58:38.528Z"
   },
   {
    "duration": 28,
    "start_time": "2022-05-30T09:58:38.599Z"
   },
   {
    "duration": 38,
    "start_time": "2022-05-30T09:58:38.629Z"
   },
   {
    "duration": 39,
    "start_time": "2022-05-30T09:58:38.678Z"
   },
   {
    "duration": 23,
    "start_time": "2022-05-30T09:58:38.718Z"
   },
   {
    "duration": 58,
    "start_time": "2022-05-30T09:58:38.743Z"
   },
   {
    "duration": 28,
    "start_time": "2022-05-30T09:58:38.803Z"
   },
   {
    "duration": 19,
    "start_time": "2022-05-30T09:58:38.833Z"
   },
   {
    "duration": 73,
    "start_time": "2022-05-30T09:58:38.854Z"
   },
   {
    "duration": 35,
    "start_time": "2022-05-30T09:58:38.930Z"
   },
   {
    "duration": 40,
    "start_time": "2022-05-30T09:58:38.970Z"
   },
   {
    "duration": 35,
    "start_time": "2022-05-30T09:58:39.012Z"
   },
   {
    "duration": 65,
    "start_time": "2022-05-30T09:58:39.048Z"
   },
   {
    "duration": 13,
    "start_time": "2022-05-30T09:58:39.115Z"
   },
   {
    "duration": 27,
    "start_time": "2022-05-30T09:58:39.130Z"
   },
   {
    "duration": 40,
    "start_time": "2022-05-30T09:58:39.159Z"
   },
   {
    "duration": 40,
    "start_time": "2022-05-30T09:58:39.200Z"
   },
   {
    "duration": 127,
    "start_time": "2022-05-30T09:58:39.241Z"
   },
   {
    "duration": 29,
    "start_time": "2022-05-30T09:58:39.370Z"
   },
   {
    "duration": 45,
    "start_time": "2022-05-30T09:58:39.400Z"
   },
   {
    "duration": 62,
    "start_time": "2022-05-30T09:58:39.447Z"
   },
   {
    "duration": 36,
    "start_time": "2022-05-30T09:58:39.510Z"
   },
   {
    "duration": 66,
    "start_time": "2022-05-30T09:58:39.548Z"
   },
   {
    "duration": 29,
    "start_time": "2022-05-30T09:58:39.616Z"
   },
   {
    "duration": 45,
    "start_time": "2022-05-30T09:58:39.647Z"
   },
   {
    "duration": 12,
    "start_time": "2022-05-30T09:58:43.013Z"
   },
   {
    "duration": 8,
    "start_time": "2022-05-30T09:59:23.286Z"
   },
   {
    "duration": 20,
    "start_time": "2022-05-30T09:59:27.318Z"
   },
   {
    "duration": 272,
    "start_time": "2022-05-30T09:59:45.544Z"
   },
   {
    "duration": 263,
    "start_time": "2022-05-30T10:00:22.329Z"
   },
   {
    "duration": 256,
    "start_time": "2022-05-30T10:00:24.546Z"
   },
   {
    "duration": 252,
    "start_time": "2022-05-30T10:00:41.414Z"
   },
   {
    "duration": 15,
    "start_time": "2022-05-30T10:00:57.988Z"
   },
   {
    "duration": 242,
    "start_time": "2022-05-30T10:04:34.758Z"
   },
   {
    "duration": 270,
    "start_time": "2022-05-30T10:04:38.728Z"
   },
   {
    "duration": 487,
    "start_time": "2022-05-30T10:05:31.387Z"
   },
   {
    "duration": 8,
    "start_time": "2022-05-30T10:05:53.012Z"
   },
   {
    "duration": 488,
    "start_time": "2022-05-30T10:06:20.657Z"
   },
   {
    "duration": 816,
    "start_time": "2022-05-30T10:06:34.990Z"
   },
   {
    "duration": 12,
    "start_time": "2022-05-30T10:08:09.364Z"
   },
   {
    "duration": 10,
    "start_time": "2022-05-30T10:09:36.346Z"
   },
   {
    "duration": 9,
    "start_time": "2022-05-30T10:10:13.238Z"
   },
   {
    "duration": 43,
    "start_time": "2022-05-30T10:10:20.650Z"
   },
   {
    "duration": 28,
    "start_time": "2022-05-30T10:10:44.053Z"
   },
   {
    "duration": 8,
    "start_time": "2022-05-30T10:11:08.989Z"
   },
   {
    "duration": 20,
    "start_time": "2022-05-30T10:11:14.548Z"
   },
   {
    "duration": 12,
    "start_time": "2022-05-30T10:11:23.885Z"
   },
   {
    "duration": 15,
    "start_time": "2022-05-30T10:14:46.151Z"
   },
   {
    "duration": 12,
    "start_time": "2022-05-30T10:14:48.085Z"
   },
   {
    "duration": 11,
    "start_time": "2022-05-30T10:16:40.610Z"
   },
   {
    "duration": 16,
    "start_time": "2022-05-30T10:16:42.252Z"
   },
   {
    "duration": 5,
    "start_time": "2022-05-30T10:19:00.386Z"
   },
   {
    "duration": 15,
    "start_time": "2022-05-30T10:19:00.393Z"
   },
   {
    "duration": 543,
    "start_time": "2022-05-30T10:19:00.410Z"
   },
   {
    "duration": 29,
    "start_time": "2022-05-30T10:19:00.955Z"
   },
   {
    "duration": 42,
    "start_time": "2022-05-30T10:19:00.992Z"
   },
   {
    "duration": 12,
    "start_time": "2022-05-30T10:19:01.035Z"
   },
   {
    "duration": 37,
    "start_time": "2022-05-30T10:19:01.049Z"
   },
   {
    "duration": 34,
    "start_time": "2022-05-30T10:19:01.088Z"
   },
   {
    "duration": 82,
    "start_time": "2022-05-30T10:19:01.123Z"
   },
   {
    "duration": 13,
    "start_time": "2022-05-30T10:19:01.207Z"
   },
   {
    "duration": 33,
    "start_time": "2022-05-30T10:19:01.222Z"
   },
   {
    "duration": 75,
    "start_time": "2022-05-30T10:19:01.257Z"
   },
   {
    "duration": 6,
    "start_time": "2022-05-30T10:19:01.334Z"
   },
   {
    "duration": 43,
    "start_time": "2022-05-30T10:19:01.343Z"
   },
   {
    "duration": 35,
    "start_time": "2022-05-30T10:19:01.390Z"
   },
   {
    "duration": 58,
    "start_time": "2022-05-30T10:19:01.427Z"
   },
   {
    "duration": 7,
    "start_time": "2022-05-30T10:19:01.491Z"
   },
   {
    "duration": 27,
    "start_time": "2022-05-30T10:19:01.499Z"
   },
   {
    "duration": 334,
    "start_time": "2022-05-30T10:19:01.529Z"
   },
   {
    "duration": 335,
    "start_time": "2022-05-30T10:19:01.865Z"
   },
   {
    "duration": 376,
    "start_time": "2022-05-30T10:19:02.202Z"
   },
   {
    "duration": 15,
    "start_time": "2022-05-30T10:19:02.590Z"
   },
   {
    "duration": 97,
    "start_time": "2022-05-30T10:19:02.606Z"
   },
   {
    "duration": 33,
    "start_time": "2022-05-30T10:19:02.705Z"
   },
   {
    "duration": 299,
    "start_time": "2022-05-30T10:19:02.740Z"
   },
   {
    "duration": 340,
    "start_time": "2022-05-30T10:19:03.041Z"
   },
   {
    "duration": 36,
    "start_time": "2022-05-30T10:19:03.386Z"
   },
   {
    "duration": 129,
    "start_time": "2022-05-30T10:19:03.424Z"
   },
   {
    "duration": 16,
    "start_time": "2022-05-30T10:19:03.562Z"
   },
   {
    "duration": 36,
    "start_time": "2022-05-30T10:19:03.579Z"
   },
   {
    "duration": 8,
    "start_time": "2022-05-30T10:19:03.617Z"
   },
   {
    "duration": 11,
    "start_time": "2022-05-30T10:19:03.626Z"
   },
   {
    "duration": 38,
    "start_time": "2022-05-30T10:19:03.639Z"
   },
   {
    "duration": 30,
    "start_time": "2022-05-30T10:19:03.681Z"
   },
   {
    "duration": 44,
    "start_time": "2022-05-30T10:19:03.713Z"
   },
   {
    "duration": 11,
    "start_time": "2022-05-30T10:19:03.772Z"
   },
   {
    "duration": 33,
    "start_time": "2022-05-30T10:19:03.785Z"
   },
   {
    "duration": 29,
    "start_time": "2022-05-30T10:19:03.819Z"
   },
   {
    "duration": 3,
    "start_time": "2022-05-30T10:19:03.850Z"
   },
   {
    "duration": 47,
    "start_time": "2022-05-30T10:19:03.855Z"
   },
   {
    "duration": 20,
    "start_time": "2022-05-30T10:19:03.911Z"
   },
   {
    "duration": 27,
    "start_time": "2022-05-30T10:19:03.933Z"
   },
   {
    "duration": 22,
    "start_time": "2022-05-30T10:19:03.962Z"
   },
   {
    "duration": 28,
    "start_time": "2022-05-30T10:19:03.991Z"
   },
   {
    "duration": 21,
    "start_time": "2022-05-30T10:19:04.022Z"
   },
   {
    "duration": 4,
    "start_time": "2022-05-30T10:19:04.046Z"
   },
   {
    "duration": 55,
    "start_time": "2022-05-30T10:19:04.052Z"
   },
   {
    "duration": 14,
    "start_time": "2022-05-30T10:19:04.109Z"
   },
   {
    "duration": 20,
    "start_time": "2022-05-30T10:19:04.124Z"
   },
   {
    "duration": 20,
    "start_time": "2022-05-30T10:19:04.146Z"
   },
   {
    "duration": 44,
    "start_time": "2022-05-30T10:19:04.167Z"
   },
   {
    "duration": 15,
    "start_time": "2022-05-30T10:19:04.213Z"
   },
   {
    "duration": 14,
    "start_time": "2022-05-30T10:19:04.230Z"
   },
   {
    "duration": 22,
    "start_time": "2022-05-30T10:19:04.246Z"
   },
   {
    "duration": 10,
    "start_time": "2022-05-30T10:19:04.278Z"
   },
   {
    "duration": 29,
    "start_time": "2022-05-30T10:19:04.290Z"
   },
   {
    "duration": 10,
    "start_time": "2022-05-30T10:19:04.321Z"
   },
   {
    "duration": 7,
    "start_time": "2022-05-30T10:19:04.333Z"
   },
   {
    "duration": 9,
    "start_time": "2022-05-30T10:19:04.342Z"
   },
   {
    "duration": 32,
    "start_time": "2022-05-30T10:19:04.353Z"
   },
   {
    "duration": 6,
    "start_time": "2022-05-30T10:19:04.388Z"
   },
   {
    "duration": 10,
    "start_time": "2022-05-30T10:19:04.395Z"
   },
   {
    "duration": 6,
    "start_time": "2022-05-30T10:19:04.407Z"
   },
   {
    "duration": 8,
    "start_time": "2022-05-30T10:19:04.414Z"
   },
   {
    "duration": 71,
    "start_time": "2022-05-30T10:19:04.424Z"
   },
   {
    "duration": 17,
    "start_time": "2022-05-30T10:19:04.497Z"
   },
   {
    "duration": 6,
    "start_time": "2022-05-30T10:19:04.516Z"
   },
   {
    "duration": 12,
    "start_time": "2022-05-30T10:19:04.524Z"
   },
   {
    "duration": 45,
    "start_time": "2022-05-30T10:19:04.538Z"
   },
   {
    "duration": 29,
    "start_time": "2022-05-30T10:19:04.587Z"
   },
   {
    "duration": 42,
    "start_time": "2022-05-30T10:19:04.618Z"
   },
   {
    "duration": 21,
    "start_time": "2022-05-30T10:19:04.667Z"
   },
   {
    "duration": 34,
    "start_time": "2022-05-30T10:19:04.689Z"
   },
   {
    "duration": 550,
    "start_time": "2022-05-30T10:19:04.725Z"
   },
   {
    "duration": 14,
    "start_time": "2022-05-30T10:19:05.283Z"
   },
   {
    "duration": 17,
    "start_time": "2022-05-30T10:19:05.299Z"
   },
   {
    "duration": 486,
    "start_time": "2022-05-30T10:19:05.317Z"
   },
   {
    "duration": 11,
    "start_time": "2022-05-30T10:19:05.805Z"
   },
   {
    "duration": 13,
    "start_time": "2022-05-30T10:19:05.817Z"
   },
   {
    "duration": 495,
    "start_time": "2022-05-30T10:19:05.832Z"
   },
   {
    "duration": 11,
    "start_time": "2022-05-30T10:19:06.329Z"
   },
   {
    "duration": 38,
    "start_time": "2022-05-30T10:19:06.342Z"
   },
   {
    "duration": 9,
    "start_time": "2022-05-30T10:19:16.107Z"
   },
   {
    "duration": 22,
    "start_time": "2022-05-30T10:20:30.854Z"
   },
   {
    "duration": 524,
    "start_time": "2022-05-30T10:22:45.736Z"
   },
   {
    "duration": 11,
    "start_time": "2022-05-30T10:23:15.407Z"
   },
   {
    "duration": 12,
    "start_time": "2022-05-30T10:23:18.684Z"
   },
   {
    "duration": 12,
    "start_time": "2022-05-30T10:24:25.280Z"
   },
   {
    "duration": 11,
    "start_time": "2022-05-30T10:25:12.105Z"
   },
   {
    "duration": 7,
    "start_time": "2022-05-30T10:25:15.959Z"
   },
   {
    "duration": 9,
    "start_time": "2022-05-30T10:26:59.896Z"
   },
   {
    "duration": 8,
    "start_time": "2022-05-30T10:27:08.313Z"
   },
   {
    "duration": 7,
    "start_time": "2022-05-30T10:44:04.391Z"
   },
   {
    "duration": 9,
    "start_time": "2022-05-30T10:44:04.402Z"
   },
   {
    "duration": 1294,
    "start_time": "2022-05-30T10:44:04.413Z"
   },
   {
    "duration": 21,
    "start_time": "2022-05-30T10:44:05.709Z"
   },
   {
    "duration": 17,
    "start_time": "2022-05-30T10:44:05.732Z"
   },
   {
    "duration": 51,
    "start_time": "2022-05-30T10:44:05.751Z"
   },
   {
    "duration": 13,
    "start_time": "2022-05-30T10:44:05.803Z"
   },
   {
    "duration": 20,
    "start_time": "2022-05-30T10:44:05.817Z"
   },
   {
    "duration": 53,
    "start_time": "2022-05-30T10:44:05.839Z"
   },
   {
    "duration": 23,
    "start_time": "2022-05-30T10:44:05.894Z"
   },
   {
    "duration": 51,
    "start_time": "2022-05-30T10:44:05.919Z"
   },
   {
    "duration": 66,
    "start_time": "2022-05-30T10:44:05.977Z"
   },
   {
    "duration": 6,
    "start_time": "2022-05-30T10:44:06.045Z"
   },
   {
    "duration": 62,
    "start_time": "2022-05-30T10:44:06.054Z"
   },
   {
    "duration": 43,
    "start_time": "2022-05-30T10:44:06.118Z"
   },
   {
    "duration": 67,
    "start_time": "2022-05-30T10:44:06.162Z"
   },
   {
    "duration": 5,
    "start_time": "2022-05-30T10:44:06.231Z"
   },
   {
    "duration": 66,
    "start_time": "2022-05-30T10:44:06.238Z"
   },
   {
    "duration": 722,
    "start_time": "2022-05-30T10:44:06.306Z"
   },
   {
    "duration": 383,
    "start_time": "2022-05-30T10:44:07.030Z"
   },
   {
    "duration": 392,
    "start_time": "2022-05-30T10:44:07.415Z"
   },
   {
    "duration": 12,
    "start_time": "2022-05-30T10:44:07.809Z"
   },
   {
    "duration": 29,
    "start_time": "2022-05-30T10:44:07.823Z"
   },
   {
    "duration": 50,
    "start_time": "2022-05-30T10:44:07.854Z"
   },
   {
    "duration": 309,
    "start_time": "2022-05-30T10:44:07.906Z"
   },
   {
    "duration": 320,
    "start_time": "2022-05-30T10:44:08.217Z"
   },
   {
    "duration": 44,
    "start_time": "2022-05-30T10:44:08.539Z"
   },
   {
    "duration": 120,
    "start_time": "2022-05-30T10:44:08.585Z"
   },
   {
    "duration": 6,
    "start_time": "2022-05-30T10:44:08.707Z"
   },
   {
    "duration": 77,
    "start_time": "2022-05-30T10:44:08.715Z"
   },
   {
    "duration": 13,
    "start_time": "2022-05-30T10:44:08.796Z"
   },
   {
    "duration": 25,
    "start_time": "2022-05-30T10:44:08.811Z"
   },
   {
    "duration": 75,
    "start_time": "2022-05-30T10:44:08.837Z"
   },
   {
    "duration": 37,
    "start_time": "2022-05-30T10:44:08.914Z"
   },
   {
    "duration": 59,
    "start_time": "2022-05-30T10:44:08.952Z"
   },
   {
    "duration": 24,
    "start_time": "2022-05-30T10:44:09.012Z"
   },
   {
    "duration": 34,
    "start_time": "2022-05-30T10:44:09.038Z"
   },
   {
    "duration": 50,
    "start_time": "2022-05-30T10:44:09.079Z"
   },
   {
    "duration": 6,
    "start_time": "2022-05-30T10:44:09.131Z"
   },
   {
    "duration": 70,
    "start_time": "2022-05-30T10:44:09.138Z"
   },
   {
    "duration": 43,
    "start_time": "2022-05-30T10:44:09.212Z"
   },
   {
    "duration": 42,
    "start_time": "2022-05-30T10:44:09.257Z"
   },
   {
    "duration": 31,
    "start_time": "2022-05-30T10:44:09.303Z"
   },
   {
    "duration": 39,
    "start_time": "2022-05-30T10:44:09.335Z"
   },
   {
    "duration": 40,
    "start_time": "2022-05-30T10:44:09.376Z"
   },
   {
    "duration": 13,
    "start_time": "2022-05-30T10:44:09.417Z"
   },
   {
    "duration": 55,
    "start_time": "2022-05-30T10:44:09.431Z"
   },
   {
    "duration": 36,
    "start_time": "2022-05-30T10:44:09.488Z"
   },
   {
    "duration": 25,
    "start_time": "2022-05-30T10:44:09.526Z"
   },
   {
    "duration": 75,
    "start_time": "2022-05-30T10:44:09.552Z"
   },
   {
    "duration": 66,
    "start_time": "2022-05-30T10:44:09.628Z"
   },
   {
    "duration": 38,
    "start_time": "2022-05-30T10:44:09.704Z"
   },
   {
    "duration": 30,
    "start_time": "2022-05-30T10:44:09.744Z"
   },
   {
    "duration": 44,
    "start_time": "2022-05-30T10:44:09.775Z"
   },
   {
    "duration": 17,
    "start_time": "2022-05-30T10:44:09.821Z"
   },
   {
    "duration": 45,
    "start_time": "2022-05-30T10:44:09.839Z"
   },
   {
    "duration": 19,
    "start_time": "2022-05-30T10:44:09.894Z"
   },
   {
    "duration": 32,
    "start_time": "2022-05-30T10:44:09.915Z"
   },
   {
    "duration": 87,
    "start_time": "2022-05-30T10:44:09.949Z"
   },
   {
    "duration": 35,
    "start_time": "2022-05-30T10:44:10.038Z"
   },
   {
    "duration": 9,
    "start_time": "2022-05-30T10:44:19.559Z"
   },
   {
    "duration": 12,
    "start_time": "2022-05-30T10:44:21.786Z"
   },
   {
    "duration": 3,
    "start_time": "2022-05-30T10:44:26.450Z"
   },
   {
    "duration": 4,
    "start_time": "2022-05-30T10:45:14.590Z"
   },
   {
    "duration": 4,
    "start_time": "2022-05-30T10:45:25.445Z"
   },
   {
    "duration": 4,
    "start_time": "2022-05-30T10:46:53.392Z"
   },
   {
    "duration": 399,
    "start_time": "2022-05-30T10:48:34.133Z"
   },
   {
    "duration": 30705,
    "start_time": "2022-05-30T10:49:28.625Z"
   },
   {
    "duration": 3,
    "start_time": "2022-05-30T10:50:20.219Z"
   },
   {
    "duration": 9,
    "start_time": "2022-05-30T10:50:20.224Z"
   },
   {
    "duration": 471,
    "start_time": "2022-05-30T10:50:20.236Z"
   },
   {
    "duration": 19,
    "start_time": "2022-05-30T10:50:20.709Z"
   },
   {
    "duration": 7,
    "start_time": "2022-05-30T10:50:20.730Z"
   },
   {
    "duration": 30,
    "start_time": "2022-05-30T10:50:20.743Z"
   },
   {
    "duration": 39,
    "start_time": "2022-05-30T10:50:20.775Z"
   },
   {
    "duration": 27,
    "start_time": "2022-05-30T10:50:20.819Z"
   },
   {
    "duration": 73,
    "start_time": "2022-05-30T10:50:20.847Z"
   },
   {
    "duration": 17,
    "start_time": "2022-05-30T10:50:20.923Z"
   },
   {
    "duration": 80,
    "start_time": "2022-05-30T10:50:20.941Z"
   },
   {
    "duration": 73,
    "start_time": "2022-05-30T10:50:21.023Z"
   },
   {
    "duration": 17,
    "start_time": "2022-05-30T10:50:21.097Z"
   },
   {
    "duration": 43,
    "start_time": "2022-05-30T10:50:21.116Z"
   },
   {
    "duration": 60,
    "start_time": "2022-05-30T10:50:21.161Z"
   },
   {
    "duration": 72,
    "start_time": "2022-05-30T10:50:21.222Z"
   },
   {
    "duration": 6,
    "start_time": "2022-05-30T10:50:21.296Z"
   },
   {
    "duration": 27,
    "start_time": "2022-05-30T10:50:21.303Z"
   },
   {
    "duration": 310,
    "start_time": "2022-05-30T10:50:21.332Z"
   },
   {
    "duration": 318,
    "start_time": "2022-05-30T10:50:21.644Z"
   },
   {
    "duration": 356,
    "start_time": "2022-05-30T10:50:21.966Z"
   },
   {
    "duration": 13,
    "start_time": "2022-05-30T10:50:22.324Z"
   },
   {
    "duration": 35,
    "start_time": "2022-05-30T10:50:22.339Z"
   },
   {
    "duration": 11,
    "start_time": "2022-05-30T10:50:22.381Z"
   },
   {
    "duration": 286,
    "start_time": "2022-05-30T10:50:22.394Z"
   },
   {
    "duration": 335,
    "start_time": "2022-05-30T10:50:22.684Z"
   },
   {
    "duration": 74,
    "start_time": "2022-05-30T10:50:23.021Z"
   },
   {
    "duration": 170,
    "start_time": "2022-05-30T10:50:23.103Z"
   },
   {
    "duration": 11,
    "start_time": "2022-05-30T10:50:23.278Z"
   },
   {
    "duration": 41,
    "start_time": "2022-05-30T10:50:23.293Z"
   },
   {
    "duration": 8,
    "start_time": "2022-05-30T10:50:23.336Z"
   },
   {
    "duration": 52,
    "start_time": "2022-05-30T10:50:23.346Z"
   },
   {
    "duration": 38,
    "start_time": "2022-05-30T10:50:23.401Z"
   },
   {
    "duration": 44,
    "start_time": "2022-05-30T10:50:23.442Z"
   },
   {
    "duration": 47,
    "start_time": "2022-05-30T10:50:23.492Z"
   },
   {
    "duration": 5,
    "start_time": "2022-05-30T10:50:23.541Z"
   },
   {
    "duration": 33,
    "start_time": "2022-05-30T10:50:23.548Z"
   },
   {
    "duration": 27,
    "start_time": "2022-05-30T10:50:23.588Z"
   },
   {
    "duration": 3,
    "start_time": "2022-05-30T10:50:23.617Z"
   },
   {
    "duration": 18,
    "start_time": "2022-05-30T10:50:23.621Z"
   },
   {
    "duration": 30,
    "start_time": "2022-05-30T10:50:23.641Z"
   },
   {
    "duration": 33,
    "start_time": "2022-05-30T10:50:23.676Z"
   },
   {
    "duration": 16,
    "start_time": "2022-05-30T10:50:23.711Z"
   },
   {
    "duration": 27,
    "start_time": "2022-05-30T10:50:23.729Z"
   },
   {
    "duration": 31,
    "start_time": "2022-05-30T10:50:23.773Z"
   },
   {
    "duration": 16,
    "start_time": "2022-05-30T10:50:23.807Z"
   },
   {
    "duration": 15,
    "start_time": "2022-05-30T10:50:23.825Z"
   },
   {
    "duration": 7,
    "start_time": "2022-05-30T10:50:23.842Z"
   },
   {
    "duration": 21,
    "start_time": "2022-05-30T10:50:23.851Z"
   },
   {
    "duration": 44,
    "start_time": "2022-05-30T10:50:23.874Z"
   },
   {
    "duration": 20,
    "start_time": "2022-05-30T10:50:23.920Z"
   },
   {
    "duration": 29,
    "start_time": "2022-05-30T10:50:23.942Z"
   },
   {
    "duration": 18,
    "start_time": "2022-05-30T10:50:23.978Z"
   },
   {
    "duration": 16,
    "start_time": "2022-05-30T10:50:23.998Z"
   },
   {
    "duration": 6,
    "start_time": "2022-05-30T10:50:24.016Z"
   },
   {
    "duration": 21,
    "start_time": "2022-05-30T10:50:24.024Z"
   },
   {
    "duration": 15,
    "start_time": "2022-05-30T10:50:24.047Z"
   },
   {
    "duration": 32,
    "start_time": "2022-05-30T10:50:24.064Z"
   },
   {
    "duration": 14,
    "start_time": "2022-05-30T10:50:24.099Z"
   },
   {
    "duration": 21,
    "start_time": "2022-05-30T10:50:24.115Z"
   },
   {
    "duration": 9,
    "start_time": "2022-05-30T10:50:24.137Z"
   },
   {
    "duration": 15,
    "start_time": "2022-05-30T10:50:24.148Z"
   },
   {
    "duration": 37,
    "start_time": "2022-05-30T10:50:24.164Z"
   },
   {
    "duration": 5,
    "start_time": "2022-05-30T10:50:29.705Z"
   },
   {
    "duration": 995,
    "start_time": "2022-05-30T10:50:30.652Z"
   },
   {
    "duration": 906,
    "start_time": "2022-05-30T10:51:07.219Z"
   },
   {
    "duration": 12,
    "start_time": "2022-05-30T10:52:26.135Z"
   },
   {
    "duration": 6,
    "start_time": "2022-05-30T10:52:29.079Z"
   },
   {
    "duration": 3,
    "start_time": "2022-05-30T10:52:48.989Z"
   },
   {
    "duration": 4,
    "start_time": "2022-05-30T10:52:50.809Z"
   },
   {
    "duration": 4,
    "start_time": "2022-05-30T10:52:53.642Z"
   },
   {
    "duration": 152,
    "start_time": "2022-05-30T10:52:55.095Z"
   },
   {
    "duration": 3,
    "start_time": "2022-05-30T10:53:22.008Z"
   },
   {
    "duration": 3,
    "start_time": "2022-05-30T10:53:28.409Z"
   },
   {
    "duration": 14,
    "start_time": "2022-05-30T10:53:28.414Z"
   },
   {
    "duration": 529,
    "start_time": "2022-05-30T10:53:28.431Z"
   },
   {
    "duration": 33,
    "start_time": "2022-05-30T10:53:28.965Z"
   },
   {
    "duration": 6,
    "start_time": "2022-05-30T10:53:29.000Z"
   },
   {
    "duration": 10,
    "start_time": "2022-05-30T10:53:29.008Z"
   },
   {
    "duration": 7,
    "start_time": "2022-05-30T10:53:29.020Z"
   },
   {
    "duration": 13,
    "start_time": "2022-05-30T10:53:29.028Z"
   },
   {
    "duration": 37,
    "start_time": "2022-05-30T10:53:29.043Z"
   },
   {
    "duration": 16,
    "start_time": "2022-05-30T10:53:29.083Z"
   },
   {
    "duration": 31,
    "start_time": "2022-05-30T10:53:29.101Z"
   },
   {
    "duration": 75,
    "start_time": "2022-05-30T10:53:29.134Z"
   },
   {
    "duration": 6,
    "start_time": "2022-05-30T10:53:29.211Z"
   },
   {
    "duration": 17,
    "start_time": "2022-05-30T10:53:29.219Z"
   },
   {
    "duration": 69,
    "start_time": "2022-05-30T10:53:29.237Z"
   },
   {
    "duration": 65,
    "start_time": "2022-05-30T10:53:29.309Z"
   },
   {
    "duration": 12,
    "start_time": "2022-05-30T10:53:29.383Z"
   },
   {
    "duration": 18,
    "start_time": "2022-05-30T10:53:29.397Z"
   },
   {
    "duration": 280,
    "start_time": "2022-05-30T10:53:29.417Z"
   },
   {
    "duration": 290,
    "start_time": "2022-05-30T10:53:29.699Z"
   },
   {
    "duration": 327,
    "start_time": "2022-05-30T10:53:29.992Z"
   },
   {
    "duration": 12,
    "start_time": "2022-05-30T10:53:30.321Z"
   },
   {
    "duration": 38,
    "start_time": "2022-05-30T10:53:30.335Z"
   },
   {
    "duration": 11,
    "start_time": "2022-05-30T10:53:30.380Z"
   },
   {
    "duration": 301,
    "start_time": "2022-05-30T10:53:30.392Z"
   },
   {
    "duration": 332,
    "start_time": "2022-05-30T10:53:30.695Z"
   },
   {
    "duration": 64,
    "start_time": "2022-05-30T10:53:31.030Z"
   },
   {
    "duration": 122,
    "start_time": "2022-05-30T10:53:31.098Z"
   },
   {
    "duration": 9,
    "start_time": "2022-05-30T10:53:31.222Z"
   },
   {
    "duration": 133,
    "start_time": "2022-05-30T10:53:31.234Z"
   },
   {
    "duration": 23,
    "start_time": "2022-05-30T10:53:31.369Z"
   },
   {
    "duration": 20,
    "start_time": "2022-05-30T10:53:31.394Z"
   },
   {
    "duration": 36,
    "start_time": "2022-05-30T10:53:31.416Z"
   },
   {
    "duration": 42,
    "start_time": "2022-05-30T10:53:31.454Z"
   },
   {
    "duration": 46,
    "start_time": "2022-05-30T10:53:31.498Z"
   },
   {
    "duration": 20,
    "start_time": "2022-05-30T10:53:31.546Z"
   },
   {
    "duration": 44,
    "start_time": "2022-05-30T10:53:31.575Z"
   },
   {
    "duration": 80,
    "start_time": "2022-05-30T10:53:31.621Z"
   },
   {
    "duration": 10,
    "start_time": "2022-05-30T10:53:31.703Z"
   },
   {
    "duration": 19,
    "start_time": "2022-05-30T10:53:31.716Z"
   },
   {
    "duration": 39,
    "start_time": "2022-05-30T10:53:31.737Z"
   },
   {
    "duration": 37,
    "start_time": "2022-05-30T10:53:31.778Z"
   },
   {
    "duration": 14,
    "start_time": "2022-05-30T10:53:31.818Z"
   },
   {
    "duration": 46,
    "start_time": "2022-05-30T10:53:31.834Z"
   },
   {
    "duration": 35,
    "start_time": "2022-05-30T10:53:31.885Z"
   },
   {
    "duration": 4,
    "start_time": "2022-05-30T10:53:31.922Z"
   },
   {
    "duration": 21,
    "start_time": "2022-05-30T10:53:31.928Z"
   },
   {
    "duration": 43,
    "start_time": "2022-05-30T10:53:31.950Z"
   },
   {
    "duration": 28,
    "start_time": "2022-05-30T10:53:31.997Z"
   },
   {
    "duration": 16,
    "start_time": "2022-05-30T10:53:32.027Z"
   },
   {
    "duration": 31,
    "start_time": "2022-05-30T10:53:32.045Z"
   },
   {
    "duration": 55,
    "start_time": "2022-05-30T10:53:32.081Z"
   },
   {
    "duration": 14,
    "start_time": "2022-05-30T10:53:32.138Z"
   },
   {
    "duration": 48,
    "start_time": "2022-05-30T10:53:32.153Z"
   },
   {
    "duration": 9,
    "start_time": "2022-05-30T10:53:32.204Z"
   },
   {
    "duration": 24,
    "start_time": "2022-05-30T10:53:32.216Z"
   },
   {
    "duration": 14,
    "start_time": "2022-05-30T10:53:32.242Z"
   },
   {
    "duration": 50,
    "start_time": "2022-05-30T10:53:32.258Z"
   },
   {
    "duration": 25,
    "start_time": "2022-05-30T10:53:32.310Z"
   },
   {
    "duration": 25,
    "start_time": "2022-05-30T10:53:32.337Z"
   },
   {
    "duration": 49,
    "start_time": "2022-05-30T10:53:32.363Z"
   },
   {
    "duration": 14,
    "start_time": "2022-05-30T10:53:32.413Z"
   },
   {
    "duration": 14,
    "start_time": "2022-05-30T10:53:32.428Z"
   },
   {
    "duration": 8,
    "start_time": "2022-05-30T10:53:32.444Z"
   },
   {
    "duration": 158,
    "start_time": "2022-05-30T10:53:32.454Z"
   },
   {
    "duration": 3,
    "start_time": "2022-05-30T10:53:32.615Z"
   },
   {
    "duration": 28,
    "start_time": "2022-05-30T10:53:32.620Z"
   },
   {
    "duration": 41,
    "start_time": "2022-05-30T10:53:32.650Z"
   },
   {
    "duration": 11,
    "start_time": "2022-05-30T10:53:32.693Z"
   },
   {
    "duration": 19,
    "start_time": "2022-05-30T10:53:32.705Z"
   },
   {
    "duration": 24,
    "start_time": "2022-05-30T10:53:32.726Z"
   },
   {
    "duration": 49,
    "start_time": "2022-05-30T10:53:32.752Z"
   },
   {
    "duration": 23,
    "start_time": "2022-05-30T10:53:32.804Z"
   },
   {
    "duration": 11,
    "start_time": "2022-05-30T10:53:32.829Z"
   },
   {
    "duration": 546,
    "start_time": "2022-05-30T10:53:32.842Z"
   },
   {
    "duration": 13,
    "start_time": "2022-05-30T10:53:33.391Z"
   },
   {
    "duration": 14,
    "start_time": "2022-05-30T10:53:33.405Z"
   },
   {
    "duration": 494,
    "start_time": "2022-05-30T10:53:33.421Z"
   },
   {
    "duration": 12,
    "start_time": "2022-05-30T10:53:33.918Z"
   },
   {
    "duration": 41,
    "start_time": "2022-05-30T10:53:33.931Z"
   },
   {
    "duration": 514,
    "start_time": "2022-05-30T10:53:37.394Z"
   },
   {
    "duration": 12,
    "start_time": "2022-05-30T10:53:38.834Z"
   },
   {
    "duration": 14,
    "start_time": "2022-05-30T10:53:40.403Z"
   },
   {
    "duration": 14,
    "start_time": "2022-05-30T10:53:41.760Z"
   },
   {
    "duration": 1082,
    "start_time": "2022-05-30T10:53:42.199Z"
   },
   {
    "duration": 14,
    "start_time": "2022-05-30T10:53:43.283Z"
   },
   {
    "duration": 11,
    "start_time": "2022-05-30T10:53:43.299Z"
   },
   {
    "duration": 11,
    "start_time": "2022-05-30T10:53:43.960Z"
   },
   {
    "duration": 4,
    "start_time": "2022-05-30T10:53:44.121Z"
   },
   {
    "duration": 8,
    "start_time": "2022-05-30T10:53:48.847Z"
   },
   {
    "duration": 9,
    "start_time": "2022-05-30T10:53:49.087Z"
   },
   {
    "duration": 8,
    "start_time": "2022-05-30T10:53:49.536Z"
   },
   {
    "duration": 1161,
    "start_time": "2022-05-30T10:54:26.036Z"
   },
   {
    "duration": 4,
    "start_time": "2022-05-30T10:54:27.201Z"
   },
   {
    "duration": 585,
    "start_time": "2022-05-30T10:54:27.206Z"
   },
   {
    "duration": 23,
    "start_time": "2022-05-30T10:54:27.793Z"
   },
   {
    "duration": 7,
    "start_time": "2022-05-30T10:54:27.817Z"
   },
   {
    "duration": 6,
    "start_time": "2022-05-30T10:54:27.825Z"
   },
   {
    "duration": 14,
    "start_time": "2022-05-30T10:54:27.864Z"
   },
   {
    "duration": 14,
    "start_time": "2022-05-30T10:54:27.886Z"
   },
   {
    "duration": 18,
    "start_time": "2022-05-30T10:54:27.902Z"
   },
   {
    "duration": 6,
    "start_time": "2022-05-30T10:54:27.923Z"
   },
   {
    "duration": 56,
    "start_time": "2022-05-30T10:54:27.930Z"
   },
   {
    "duration": 54,
    "start_time": "2022-05-30T10:54:27.988Z"
   },
   {
    "duration": 18,
    "start_time": "2022-05-30T10:54:28.044Z"
   },
   {
    "duration": 27,
    "start_time": "2022-05-30T10:54:28.064Z"
   },
   {
    "duration": 39,
    "start_time": "2022-05-30T10:54:28.093Z"
   },
   {
    "duration": 71,
    "start_time": "2022-05-30T10:54:28.134Z"
   },
   {
    "duration": 6,
    "start_time": "2022-05-30T10:54:28.207Z"
   },
   {
    "duration": 19,
    "start_time": "2022-05-30T10:54:28.214Z"
   },
   {
    "duration": 346,
    "start_time": "2022-05-30T10:54:28.234Z"
   },
   {
    "duration": 368,
    "start_time": "2022-05-30T10:54:28.582Z"
   },
   {
    "duration": 396,
    "start_time": "2022-05-30T10:54:28.952Z"
   },
   {
    "duration": 24,
    "start_time": "2022-05-30T10:54:29.350Z"
   },
   {
    "duration": 42,
    "start_time": "2022-05-30T10:54:29.377Z"
   },
   {
    "duration": 8,
    "start_time": "2022-05-30T10:54:29.420Z"
   },
   {
    "duration": 355,
    "start_time": "2022-05-30T10:54:29.429Z"
   },
   {
    "duration": 357,
    "start_time": "2022-05-30T10:54:29.787Z"
   },
   {
    "duration": 60,
    "start_time": "2022-05-30T10:54:30.146Z"
   },
   {
    "duration": 131,
    "start_time": "2022-05-30T10:54:30.212Z"
   },
   {
    "duration": 21,
    "start_time": "2022-05-30T10:54:30.345Z"
   },
   {
    "duration": 41,
    "start_time": "2022-05-30T10:54:30.370Z"
   },
   {
    "duration": 25,
    "start_time": "2022-05-30T10:54:30.413Z"
   },
   {
    "duration": 10,
    "start_time": "2022-05-30T10:54:30.440Z"
   },
   {
    "duration": 62,
    "start_time": "2022-05-30T10:54:30.452Z"
   },
   {
    "duration": 29,
    "start_time": "2022-05-30T10:54:30.516Z"
   },
   {
    "duration": 60,
    "start_time": "2022-05-30T10:54:30.548Z"
   },
   {
    "duration": 5,
    "start_time": "2022-05-30T10:54:30.609Z"
   },
   {
    "duration": 29,
    "start_time": "2022-05-30T10:54:30.616Z"
   },
   {
    "duration": 51,
    "start_time": "2022-05-30T10:54:30.658Z"
   },
   {
    "duration": 4,
    "start_time": "2022-05-30T10:54:30.711Z"
   },
   {
    "duration": 23,
    "start_time": "2022-05-30T10:54:30.716Z"
   },
   {
    "duration": 37,
    "start_time": "2022-05-30T10:54:30.740Z"
   },
   {
    "duration": 48,
    "start_time": "2022-05-30T10:54:30.781Z"
   },
   {
    "duration": 11,
    "start_time": "2022-05-30T10:54:30.831Z"
   },
   {
    "duration": 57,
    "start_time": "2022-05-30T10:54:30.844Z"
   },
   {
    "duration": 24,
    "start_time": "2022-05-30T10:54:30.903Z"
   },
   {
    "duration": 5,
    "start_time": "2022-05-30T10:54:30.929Z"
   },
   {
    "duration": 41,
    "start_time": "2022-05-30T10:54:30.936Z"
   },
   {
    "duration": 12,
    "start_time": "2022-05-30T10:54:30.985Z"
   },
   {
    "duration": 36,
    "start_time": "2022-05-30T10:54:30.999Z"
   },
   {
    "duration": 60,
    "start_time": "2022-05-30T10:54:31.037Z"
   },
   {
    "duration": 38,
    "start_time": "2022-05-30T10:54:31.098Z"
   },
   {
    "duration": 68,
    "start_time": "2022-05-30T10:54:31.138Z"
   },
   {
    "duration": 85,
    "start_time": "2022-05-30T10:54:31.208Z"
   },
   {
    "duration": 56,
    "start_time": "2022-05-30T10:54:31.295Z"
   },
   {
    "duration": 78,
    "start_time": "2022-05-30T10:54:31.353Z"
   },
   {
    "duration": 102,
    "start_time": "2022-05-30T10:54:31.433Z"
   },
   {
    "duration": 17,
    "start_time": "2022-05-30T10:54:31.537Z"
   },
   {
    "duration": 43,
    "start_time": "2022-05-30T10:54:31.556Z"
   },
   {
    "duration": 43,
    "start_time": "2022-05-30T10:54:31.601Z"
   },
   {
    "duration": 63,
    "start_time": "2022-05-30T10:54:31.646Z"
   },
   {
    "duration": 35,
    "start_time": "2022-05-30T10:54:31.711Z"
   },
   {
    "duration": 10,
    "start_time": "2022-05-30T10:54:31.747Z"
   },
   {
    "duration": 44,
    "start_time": "2022-05-30T10:54:31.761Z"
   },
   {
    "duration": 9,
    "start_time": "2022-05-30T10:54:31.807Z"
   },
   {
    "duration": 162,
    "start_time": "2022-05-30T10:54:31.818Z"
   },
   {
    "duration": 21,
    "start_time": "2022-05-30T10:54:31.987Z"
   },
   {
    "duration": 5,
    "start_time": "2022-05-30T10:54:32.010Z"
   },
   {
    "duration": 20,
    "start_time": "2022-05-30T10:54:32.017Z"
   },
   {
    "duration": 36,
    "start_time": "2022-05-30T10:54:32.039Z"
   },
   {
    "duration": 50,
    "start_time": "2022-05-30T10:54:32.078Z"
   },
   {
    "duration": 43,
    "start_time": "2022-05-30T10:54:32.131Z"
   },
   {
    "duration": 26,
    "start_time": "2022-05-30T10:54:32.183Z"
   },
   {
    "duration": 26,
    "start_time": "2022-05-30T10:54:32.211Z"
   },
   {
    "duration": 559,
    "start_time": "2022-05-30T10:54:32.239Z"
   },
   {
    "duration": 13,
    "start_time": "2022-05-30T10:54:32.800Z"
   },
   {
    "duration": 14,
    "start_time": "2022-05-30T10:54:32.815Z"
   },
   {
    "duration": 647,
    "start_time": "2022-05-30T10:54:32.831Z"
   },
   {
    "duration": 12,
    "start_time": "2022-05-30T10:54:33.485Z"
   },
   {
    "duration": 18,
    "start_time": "2022-05-30T10:54:33.499Z"
   },
   {
    "duration": 522,
    "start_time": "2022-05-30T10:54:33.520Z"
   },
   {
    "duration": 17,
    "start_time": "2022-05-30T10:54:34.044Z"
   },
   {
    "duration": 29,
    "start_time": "2022-05-30T10:54:34.073Z"
   },
   {
    "duration": 8,
    "start_time": "2022-05-30T10:54:34.104Z"
   },
   {
    "duration": 475,
    "start_time": "2022-05-30T10:54:34.113Z"
   },
   {
    "duration": 12,
    "start_time": "2022-05-30T10:54:34.593Z"
   },
   {
    "duration": 45,
    "start_time": "2022-05-30T10:54:34.607Z"
   },
   {
    "duration": 38,
    "start_time": "2022-05-30T10:54:34.654Z"
   },
   {
    "duration": 7,
    "start_time": "2022-05-30T10:54:34.693Z"
   },
   {
    "duration": 10,
    "start_time": "2022-05-30T10:54:34.701Z"
   },
   {
    "duration": 20,
    "start_time": "2022-05-30T10:54:34.712Z"
   },
   {
    "duration": 13,
    "start_time": "2022-05-30T10:54:34.735Z"
   },
   {
    "duration": 74,
    "start_time": "2022-05-30T17:56:02.917Z"
   },
   {
    "duration": 1088,
    "start_time": "2022-05-30T17:56:10.872Z"
   },
   {
    "duration": 7,
    "start_time": "2022-05-30T17:56:11.963Z"
   },
   {
    "duration": 509,
    "start_time": "2022-05-30T17:56:11.971Z"
   },
   {
    "duration": 22,
    "start_time": "2022-05-30T17:56:12.481Z"
   },
   {
    "duration": 5,
    "start_time": "2022-05-30T17:56:12.505Z"
   },
   {
    "duration": 22,
    "start_time": "2022-05-30T17:56:12.512Z"
   },
   {
    "duration": 4,
    "start_time": "2022-05-30T17:56:12.538Z"
   },
   {
    "duration": 27,
    "start_time": "2022-05-30T17:56:12.544Z"
   },
   {
    "duration": 16,
    "start_time": "2022-05-30T17:56:12.573Z"
   },
   {
    "duration": 6,
    "start_time": "2022-05-30T17:56:12.591Z"
   },
   {
    "duration": 34,
    "start_time": "2022-05-30T17:56:12.598Z"
   },
   {
    "duration": 57,
    "start_time": "2022-05-30T17:56:12.634Z"
   },
   {
    "duration": 6,
    "start_time": "2022-05-30T17:56:12.693Z"
   },
   {
    "duration": 21,
    "start_time": "2022-05-30T17:56:12.701Z"
   },
   {
    "duration": 69,
    "start_time": "2022-05-30T17:56:12.729Z"
   },
   {
    "duration": 58,
    "start_time": "2022-05-30T17:56:12.799Z"
   },
   {
    "duration": 11,
    "start_time": "2022-05-30T17:56:12.860Z"
   },
   {
    "duration": 19,
    "start_time": "2022-05-30T17:56:12.876Z"
   },
   {
    "duration": 290,
    "start_time": "2022-05-30T17:56:12.897Z"
   },
   {
    "duration": 357,
    "start_time": "2022-05-30T17:56:13.189Z"
   },
   {
    "duration": 349,
    "start_time": "2022-05-30T17:56:13.547Z"
   },
   {
    "duration": 15,
    "start_time": "2022-05-30T17:56:13.898Z"
   },
   {
    "duration": 41,
    "start_time": "2022-05-30T17:56:13.915Z"
   },
   {
    "duration": 17,
    "start_time": "2022-05-30T17:56:13.961Z"
   },
   {
    "duration": 264,
    "start_time": "2022-05-30T17:56:13.979Z"
   },
   {
    "duration": 291,
    "start_time": "2022-05-30T17:56:14.250Z"
   },
   {
    "duration": 48,
    "start_time": "2022-05-30T17:56:14.544Z"
   },
   {
    "duration": 119,
    "start_time": "2022-05-30T17:56:14.594Z"
   },
   {
    "duration": 12,
    "start_time": "2022-05-30T17:56:14.715Z"
   },
   {
    "duration": 42,
    "start_time": "2022-05-30T17:56:14.729Z"
   },
   {
    "duration": 14,
    "start_time": "2022-05-30T17:56:14.775Z"
   },
   {
    "duration": 7,
    "start_time": "2022-05-30T17:56:14.791Z"
   },
   {
    "duration": 33,
    "start_time": "2022-05-30T17:56:14.799Z"
   },
   {
    "duration": 68,
    "start_time": "2022-05-30T17:56:14.838Z"
   },
   {
    "duration": 59,
    "start_time": "2022-05-30T17:56:14.908Z"
   },
   {
    "duration": 5,
    "start_time": "2022-05-30T17:56:14.970Z"
   },
   {
    "duration": 28,
    "start_time": "2022-05-30T17:56:14.976Z"
   },
   {
    "duration": 42,
    "start_time": "2022-05-30T17:56:15.006Z"
   },
   {
    "duration": 4,
    "start_time": "2022-05-30T17:56:15.051Z"
   },
   {
    "duration": 35,
    "start_time": "2022-05-30T17:56:15.056Z"
   },
   {
    "duration": 23,
    "start_time": "2022-05-30T17:56:15.095Z"
   },
   {
    "duration": 46,
    "start_time": "2022-05-30T17:56:15.120Z"
   },
   {
    "duration": 12,
    "start_time": "2022-05-30T17:56:15.170Z"
   },
   {
    "duration": 17,
    "start_time": "2022-05-30T17:56:15.183Z"
   },
   {
    "duration": 16,
    "start_time": "2022-05-30T17:56:15.202Z"
   },
   {
    "duration": 4,
    "start_time": "2022-05-30T17:56:15.220Z"
   },
   {
    "duration": 60,
    "start_time": "2022-05-30T17:56:15.225Z"
   },
   {
    "duration": 8,
    "start_time": "2022-05-30T17:56:15.286Z"
   },
   {
    "duration": 16,
    "start_time": "2022-05-30T17:56:15.295Z"
   },
   {
    "duration": 12,
    "start_time": "2022-05-30T17:56:15.312Z"
   },
   {
    "duration": 14,
    "start_time": "2022-05-30T17:56:15.325Z"
   },
   {
    "duration": 36,
    "start_time": "2022-05-30T17:56:15.343Z"
   },
   {
    "duration": 11,
    "start_time": "2022-05-30T17:56:15.380Z"
   },
   {
    "duration": 7,
    "start_time": "2022-05-30T17:56:15.392Z"
   },
   {
    "duration": 5,
    "start_time": "2022-05-30T17:56:15.401Z"
   },
   {
    "duration": 15,
    "start_time": "2022-05-30T17:56:15.407Z"
   },
   {
    "duration": 46,
    "start_time": "2022-05-30T17:56:15.424Z"
   },
   {
    "duration": 11,
    "start_time": "2022-05-30T17:56:15.472Z"
   },
   {
    "duration": 7,
    "start_time": "2022-05-30T17:56:15.484Z"
   },
   {
    "duration": 12,
    "start_time": "2022-05-30T17:56:15.492Z"
   },
   {
    "duration": 6,
    "start_time": "2022-05-30T17:56:15.505Z"
   },
   {
    "duration": 7,
    "start_time": "2022-05-30T17:56:15.512Z"
   },
   {
    "duration": 49,
    "start_time": "2022-05-30T17:56:15.520Z"
   },
   {
    "duration": 26,
    "start_time": "2022-05-30T17:56:15.570Z"
   },
   {
    "duration": 194,
    "start_time": "2022-05-30T17:56:15.598Z"
   },
   {
    "duration": 15,
    "start_time": "2022-05-30T17:56:15.794Z"
   },
   {
    "duration": 24,
    "start_time": "2022-05-30T17:56:15.811Z"
   },
   {
    "duration": 52,
    "start_time": "2022-05-30T17:56:15.843Z"
   },
   {
    "duration": 57,
    "start_time": "2022-05-30T17:56:15.897Z"
   },
   {
    "duration": 45,
    "start_time": "2022-05-30T17:56:15.958Z"
   },
   {
    "duration": 43,
    "start_time": "2022-05-30T17:56:16.006Z"
   },
   {
    "duration": 34,
    "start_time": "2022-05-30T17:56:16.051Z"
   },
   {
    "duration": 17,
    "start_time": "2022-05-30T17:56:16.086Z"
   },
   {
    "duration": 590,
    "start_time": "2022-05-30T17:56:16.104Z"
   },
   {
    "duration": 11,
    "start_time": "2022-05-30T17:56:16.695Z"
   },
   {
    "duration": 11,
    "start_time": "2022-05-30T17:56:16.707Z"
   },
   {
    "duration": 578,
    "start_time": "2022-05-30T17:56:16.719Z"
   },
   {
    "duration": 12,
    "start_time": "2022-05-30T17:56:17.300Z"
   },
   {
    "duration": 28,
    "start_time": "2022-05-30T17:56:17.314Z"
   },
   {
    "duration": 546,
    "start_time": "2022-05-30T17:56:17.344Z"
   },
   {
    "duration": 13,
    "start_time": "2022-05-30T17:56:17.893Z"
   },
   {
    "duration": 35,
    "start_time": "2022-05-30T17:56:17.908Z"
   },
   {
    "duration": 44,
    "start_time": "2022-05-30T17:56:17.947Z"
   },
   {
    "duration": 503,
    "start_time": "2022-05-30T17:56:17.993Z"
   },
   {
    "duration": 12,
    "start_time": "2022-05-30T17:56:18.498Z"
   },
   {
    "duration": 26,
    "start_time": "2022-05-30T17:56:18.512Z"
   },
   {
    "duration": 24,
    "start_time": "2022-05-30T17:56:18.540Z"
   },
   {
    "duration": 10,
    "start_time": "2022-05-30T17:56:18.567Z"
   },
   {
    "duration": 11,
    "start_time": "2022-05-30T17:56:18.579Z"
   },
   {
    "duration": 11,
    "start_time": "2022-05-30T17:56:18.591Z"
   },
   {
    "duration": 9,
    "start_time": "2022-05-30T17:56:18.604Z"
   },
   {
    "duration": 1089,
    "start_time": "2022-05-30T17:57:39.051Z"
   },
   {
    "duration": 3,
    "start_time": "2022-05-30T17:57:40.142Z"
   },
   {
    "duration": 512,
    "start_time": "2022-05-30T17:57:40.147Z"
   },
   {
    "duration": 21,
    "start_time": "2022-05-30T17:57:40.665Z"
   },
   {
    "duration": 5,
    "start_time": "2022-05-30T17:57:40.687Z"
   },
   {
    "duration": 7,
    "start_time": "2022-05-30T17:57:40.693Z"
   },
   {
    "duration": 6,
    "start_time": "2022-05-30T17:57:40.701Z"
   },
   {
    "duration": 6,
    "start_time": "2022-05-30T17:57:40.708Z"
   },
   {
    "duration": 39,
    "start_time": "2022-05-30T17:57:40.715Z"
   },
   {
    "duration": 14,
    "start_time": "2022-05-30T17:57:40.758Z"
   },
   {
    "duration": 27,
    "start_time": "2022-05-30T17:57:40.773Z"
   },
   {
    "duration": 50,
    "start_time": "2022-05-30T17:57:40.801Z"
   },
   {
    "duration": 7,
    "start_time": "2022-05-30T17:57:40.853Z"
   },
   {
    "duration": 26,
    "start_time": "2022-05-30T17:57:40.863Z"
   },
   {
    "duration": 26,
    "start_time": "2022-05-30T17:57:40.891Z"
   },
   {
    "duration": 64,
    "start_time": "2022-05-30T17:57:40.918Z"
   },
   {
    "duration": 7,
    "start_time": "2022-05-30T17:57:40.983Z"
   },
   {
    "duration": 16,
    "start_time": "2022-05-30T17:57:40.992Z"
   },
   {
    "duration": 315,
    "start_time": "2022-05-30T17:57:41.010Z"
   },
   {
    "duration": 365,
    "start_time": "2022-05-30T17:57:41.327Z"
   },
   {
    "duration": 326,
    "start_time": "2022-05-30T17:57:41.694Z"
   },
   {
    "duration": 43,
    "start_time": "2022-05-30T17:57:42.022Z"
   },
   {
    "duration": 17,
    "start_time": "2022-05-30T17:57:42.068Z"
   },
   {
    "duration": 5,
    "start_time": "2022-05-30T17:57:42.087Z"
   },
   {
    "duration": 273,
    "start_time": "2022-05-30T17:57:42.093Z"
   },
   {
    "duration": 299,
    "start_time": "2022-05-30T17:57:42.368Z"
   },
   {
    "duration": 29,
    "start_time": "2022-05-30T17:57:42.669Z"
   },
   {
    "duration": 128,
    "start_time": "2022-05-30T17:57:42.701Z"
   },
   {
    "duration": 18,
    "start_time": "2022-05-30T17:57:42.830Z"
   },
   {
    "duration": 41,
    "start_time": "2022-05-30T17:57:42.849Z"
   },
   {
    "duration": 7,
    "start_time": "2022-05-30T17:57:42.891Z"
   },
   {
    "duration": 9,
    "start_time": "2022-05-30T17:57:42.900Z"
   },
   {
    "duration": 38,
    "start_time": "2022-05-30T17:57:42.910Z"
   },
   {
    "duration": 35,
    "start_time": "2022-05-30T17:57:42.950Z"
   },
   {
    "duration": 37,
    "start_time": "2022-05-30T17:57:42.987Z"
   },
   {
    "duration": 10,
    "start_time": "2022-05-30T17:57:43.026Z"
   },
   {
    "duration": 50,
    "start_time": "2022-05-30T17:57:43.038Z"
   },
   {
    "duration": 29,
    "start_time": "2022-05-30T17:57:43.089Z"
   },
   {
    "duration": 3,
    "start_time": "2022-05-30T17:57:43.120Z"
   },
   {
    "duration": 41,
    "start_time": "2022-05-30T17:57:43.124Z"
   },
   {
    "duration": 20,
    "start_time": "2022-05-30T17:57:43.167Z"
   },
   {
    "duration": 21,
    "start_time": "2022-05-30T17:57:43.188Z"
   },
   {
    "duration": 10,
    "start_time": "2022-05-30T17:57:43.210Z"
   },
   {
    "duration": 28,
    "start_time": "2022-05-30T17:57:43.222Z"
   },
   {
    "duration": 40,
    "start_time": "2022-05-30T17:57:43.252Z"
   },
   {
    "duration": 4,
    "start_time": "2022-05-30T17:57:43.294Z"
   },
   {
    "duration": 15,
    "start_time": "2022-05-30T17:57:43.300Z"
   },
   {
    "duration": 6,
    "start_time": "2022-05-30T17:57:43.317Z"
   },
   {
    "duration": 52,
    "start_time": "2022-05-30T17:57:43.324Z"
   },
   {
    "duration": 8,
    "start_time": "2022-05-30T17:57:43.378Z"
   },
   {
    "duration": 14,
    "start_time": "2022-05-30T17:57:43.387Z"
   },
   {
    "duration": 9,
    "start_time": "2022-05-30T17:57:43.402Z"
   },
   {
    "duration": 10,
    "start_time": "2022-05-30T17:57:43.413Z"
   },
   {
    "duration": 19,
    "start_time": "2022-05-30T17:57:43.425Z"
   },
   {
    "duration": 30,
    "start_time": "2022-05-30T17:57:43.446Z"
   },
   {
    "duration": 15,
    "start_time": "2022-05-30T17:57:43.477Z"
   },
   {
    "duration": 9,
    "start_time": "2022-05-30T17:57:43.493Z"
   },
   {
    "duration": 2,
    "start_time": "2022-05-30T17:57:43.504Z"
   },
   {
    "duration": 8,
    "start_time": "2022-05-30T17:57:43.507Z"
   },
   {
    "duration": 14,
    "start_time": "2022-05-30T17:57:43.516Z"
   },
   {
    "duration": 35,
    "start_time": "2022-05-30T17:57:43.534Z"
   },
   {
    "duration": 7,
    "start_time": "2022-05-30T17:57:43.571Z"
   },
   {
    "duration": 6,
    "start_time": "2022-05-30T17:57:43.579Z"
   },
   {
    "duration": 6,
    "start_time": "2022-05-30T17:57:43.586Z"
   },
   {
    "duration": 158,
    "start_time": "2022-05-30T17:57:43.593Z"
   },
   {
    "duration": 20,
    "start_time": "2022-05-30T17:57:43.763Z"
   },
   {
    "duration": 4,
    "start_time": "2022-05-30T17:57:43.785Z"
   },
   {
    "duration": 18,
    "start_time": "2022-05-30T17:57:43.791Z"
   },
   {
    "duration": 30,
    "start_time": "2022-05-30T17:57:43.811Z"
   },
   {
    "duration": 28,
    "start_time": "2022-05-30T17:57:43.843Z"
   },
   {
    "duration": 24,
    "start_time": "2022-05-30T17:57:43.873Z"
   },
   {
    "duration": 45,
    "start_time": "2022-05-30T17:57:43.899Z"
   },
   {
    "duration": 128,
    "start_time": "2022-05-30T17:57:43.946Z"
   },
   {
    "duration": 0,
    "start_time": "2022-05-30T17:57:44.076Z"
   },
   {
    "duration": 0,
    "start_time": "2022-05-30T17:57:44.077Z"
   },
   {
    "duration": 0,
    "start_time": "2022-05-30T17:57:44.078Z"
   },
   {
    "duration": 0,
    "start_time": "2022-05-30T17:57:44.079Z"
   },
   {
    "duration": 0,
    "start_time": "2022-05-30T17:57:44.080Z"
   },
   {
    "duration": 0,
    "start_time": "2022-05-30T17:57:44.081Z"
   },
   {
    "duration": 0,
    "start_time": "2022-05-30T17:57:44.082Z"
   },
   {
    "duration": 0,
    "start_time": "2022-05-30T17:57:44.083Z"
   },
   {
    "duration": 0,
    "start_time": "2022-05-30T17:57:44.084Z"
   },
   {
    "duration": 0,
    "start_time": "2022-05-30T17:57:44.084Z"
   },
   {
    "duration": 0,
    "start_time": "2022-05-30T17:57:44.085Z"
   },
   {
    "duration": 0,
    "start_time": "2022-05-30T17:57:44.087Z"
   },
   {
    "duration": 0,
    "start_time": "2022-05-30T17:57:44.088Z"
   },
   {
    "duration": 0,
    "start_time": "2022-05-30T17:57:44.088Z"
   },
   {
    "duration": 0,
    "start_time": "2022-05-30T17:57:44.090Z"
   },
   {
    "duration": 0,
    "start_time": "2022-05-30T17:57:44.091Z"
   },
   {
    "duration": 0,
    "start_time": "2022-05-30T17:57:44.092Z"
   },
   {
    "duration": 0,
    "start_time": "2022-05-30T17:57:44.093Z"
   },
   {
    "duration": 18,
    "start_time": "2022-05-30T17:58:51.816Z"
   },
   {
    "duration": 1129,
    "start_time": "2022-05-30T17:59:55.972Z"
   },
   {
    "duration": 2,
    "start_time": "2022-05-30T17:59:57.103Z"
   },
   {
    "duration": 473,
    "start_time": "2022-05-30T17:59:57.107Z"
   },
   {
    "duration": 20,
    "start_time": "2022-05-30T17:59:57.582Z"
   },
   {
    "duration": 5,
    "start_time": "2022-05-30T17:59:57.603Z"
   },
   {
    "duration": 22,
    "start_time": "2022-05-30T17:59:57.610Z"
   },
   {
    "duration": 30,
    "start_time": "2022-05-30T17:59:57.634Z"
   },
   {
    "duration": 8,
    "start_time": "2022-05-30T17:59:57.666Z"
   },
   {
    "duration": 19,
    "start_time": "2022-05-30T17:59:57.676Z"
   },
   {
    "duration": 5,
    "start_time": "2022-05-30T17:59:57.696Z"
   },
   {
    "duration": 27,
    "start_time": "2022-05-30T17:59:57.702Z"
   },
   {
    "duration": 67,
    "start_time": "2022-05-30T17:59:57.734Z"
   },
   {
    "duration": 5,
    "start_time": "2022-05-30T17:59:57.803Z"
   },
   {
    "duration": 29,
    "start_time": "2022-05-30T17:59:57.811Z"
   },
   {
    "duration": 43,
    "start_time": "2022-05-30T17:59:57.845Z"
   },
   {
    "duration": 52,
    "start_time": "2022-05-30T17:59:57.890Z"
   },
   {
    "duration": 9,
    "start_time": "2022-05-30T17:59:57.946Z"
   },
   {
    "duration": 28,
    "start_time": "2022-05-30T17:59:57.957Z"
   },
   {
    "duration": 254,
    "start_time": "2022-05-30T17:59:57.987Z"
   },
   {
    "duration": 343,
    "start_time": "2022-05-30T17:59:58.246Z"
   },
   {
    "duration": 323,
    "start_time": "2022-05-30T17:59:58.590Z"
   },
   {
    "duration": 21,
    "start_time": "2022-05-30T17:59:58.915Z"
   },
   {
    "duration": 22,
    "start_time": "2022-05-30T17:59:58.938Z"
   },
   {
    "duration": 11,
    "start_time": "2022-05-30T17:59:58.964Z"
   },
   {
    "duration": 259,
    "start_time": "2022-05-30T17:59:58.976Z"
   },
   {
    "duration": 302,
    "start_time": "2022-05-30T17:59:59.238Z"
   },
   {
    "duration": 46,
    "start_time": "2022-05-30T17:59:59.542Z"
   },
   {
    "duration": 110,
    "start_time": "2022-05-30T17:59:59.590Z"
   },
   {
    "duration": 7,
    "start_time": "2022-05-30T17:59:59.702Z"
   },
   {
    "duration": 35,
    "start_time": "2022-05-30T17:59:59.711Z"
   },
   {
    "duration": 24,
    "start_time": "2022-05-30T17:59:59.748Z"
   },
   {
    "duration": 7,
    "start_time": "2022-05-30T17:59:59.774Z"
   },
   {
    "duration": 28,
    "start_time": "2022-05-30T17:59:59.783Z"
   },
   {
    "duration": 39,
    "start_time": "2022-05-30T17:59:59.812Z"
   },
   {
    "duration": 39,
    "start_time": "2022-05-30T17:59:59.855Z"
   },
   {
    "duration": 3,
    "start_time": "2022-05-30T17:59:59.896Z"
   },
   {
    "duration": 26,
    "start_time": "2022-05-30T17:59:59.901Z"
   },
   {
    "duration": 37,
    "start_time": "2022-05-30T17:59:59.928Z"
   },
   {
    "duration": 4,
    "start_time": "2022-05-30T17:59:59.966Z"
   },
   {
    "duration": 15,
    "start_time": "2022-05-30T17:59:59.971Z"
   },
   {
    "duration": 14,
    "start_time": "2022-05-30T17:59:59.991Z"
   },
   {
    "duration": 53,
    "start_time": "2022-05-30T18:00:00.006Z"
   },
   {
    "duration": 17,
    "start_time": "2022-05-30T18:00:00.061Z"
   },
   {
    "duration": 20,
    "start_time": "2022-05-30T18:00:00.080Z"
   },
   {
    "duration": 33,
    "start_time": "2022-05-30T18:00:00.101Z"
   },
   {
    "duration": 8,
    "start_time": "2022-05-30T18:00:00.139Z"
   },
   {
    "duration": 28,
    "start_time": "2022-05-30T18:00:00.148Z"
   },
   {
    "duration": 19,
    "start_time": "2022-05-30T18:00:00.178Z"
   },
   {
    "duration": 18,
    "start_time": "2022-05-30T18:00:00.198Z"
   },
   {
    "duration": 41,
    "start_time": "2022-05-30T18:00:00.217Z"
   },
   {
    "duration": 12,
    "start_time": "2022-05-30T18:00:00.259Z"
   },
   {
    "duration": 12,
    "start_time": "2022-05-30T18:00:00.272Z"
   },
   {
    "duration": 10,
    "start_time": "2022-05-30T18:00:00.286Z"
   },
   {
    "duration": 8,
    "start_time": "2022-05-30T18:00:00.298Z"
   },
   {
    "duration": 8,
    "start_time": "2022-05-30T18:00:00.307Z"
   },
   {
    "duration": 21,
    "start_time": "2022-05-30T18:00:00.316Z"
   },
   {
    "duration": 34,
    "start_time": "2022-05-30T18:00:00.338Z"
   },
   {
    "duration": 20,
    "start_time": "2022-05-30T18:00:00.373Z"
   },
   {
    "duration": 10,
    "start_time": "2022-05-30T18:00:00.395Z"
   },
   {
    "duration": 16,
    "start_time": "2022-05-30T18:00:00.406Z"
   },
   {
    "duration": 22,
    "start_time": "2022-05-30T18:00:00.423Z"
   },
   {
    "duration": 20,
    "start_time": "2022-05-30T18:00:00.446Z"
   },
   {
    "duration": 62,
    "start_time": "2022-05-30T18:00:00.468Z"
   },
   {
    "duration": 52,
    "start_time": "2022-05-30T18:00:00.534Z"
   },
   {
    "duration": 162,
    "start_time": "2022-05-30T18:00:00.587Z"
   },
   {
    "duration": 17,
    "start_time": "2022-05-30T18:00:00.750Z"
   },
   {
    "duration": 44,
    "start_time": "2022-05-30T18:00:00.769Z"
   },
   {
    "duration": 101,
    "start_time": "2022-05-30T18:00:00.814Z"
   },
   {
    "duration": 72,
    "start_time": "2022-05-30T18:00:00.917Z"
   },
   {
    "duration": 35,
    "start_time": "2022-05-30T18:00:00.990Z"
   },
   {
    "duration": 140,
    "start_time": "2022-05-30T18:00:01.029Z"
   },
   {
    "duration": 28,
    "start_time": "2022-05-30T18:00:01.171Z"
   },
   {
    "duration": 22,
    "start_time": "2022-05-30T18:00:01.201Z"
   },
   {
    "duration": 566,
    "start_time": "2022-05-30T18:00:01.225Z"
   },
   {
    "duration": 10,
    "start_time": "2022-05-30T18:00:01.793Z"
   },
   {
    "duration": 71,
    "start_time": "2022-05-30T18:00:01.805Z"
   },
   {
    "duration": 665,
    "start_time": "2022-05-30T18:00:01.878Z"
   },
   {
    "duration": 16,
    "start_time": "2022-05-30T18:00:02.545Z"
   },
   {
    "duration": 44,
    "start_time": "2022-05-30T18:00:02.563Z"
   },
   {
    "duration": 465,
    "start_time": "2022-05-30T18:00:02.609Z"
   },
   {
    "duration": 9,
    "start_time": "2022-05-30T18:00:03.076Z"
   },
   {
    "duration": 78,
    "start_time": "2022-05-30T18:00:03.086Z"
   },
   {
    "duration": 17,
    "start_time": "2022-05-30T18:00:03.166Z"
   },
   {
    "duration": 442,
    "start_time": "2022-05-30T18:00:03.184Z"
   },
   {
    "duration": 11,
    "start_time": "2022-05-30T18:00:03.632Z"
   },
   {
    "duration": 42,
    "start_time": "2022-05-30T18:00:03.645Z"
   },
   {
    "duration": 16,
    "start_time": "2022-05-30T18:00:03.689Z"
   },
   {
    "duration": 17,
    "start_time": "2022-05-30T18:00:03.707Z"
   },
   {
    "duration": 46,
    "start_time": "2022-05-30T18:00:03.725Z"
   },
   {
    "duration": 22,
    "start_time": "2022-05-30T18:00:03.773Z"
   },
   {
    "duration": 18,
    "start_time": "2022-05-30T18:00:03.797Z"
   },
   {
    "duration": 438,
    "start_time": "2022-05-30T18:01:26.760Z"
   },
   {
    "duration": 8,
    "start_time": "2022-05-30T18:07:03.514Z"
   },
   {
    "duration": 1185,
    "start_time": "2022-05-30T18:14:15.016Z"
   },
   {
    "duration": 3,
    "start_time": "2022-05-30T18:14:16.203Z"
   },
   {
    "duration": 568,
    "start_time": "2022-05-30T18:14:16.207Z"
   },
   {
    "duration": 26,
    "start_time": "2022-05-30T18:14:16.780Z"
   },
   {
    "duration": 11,
    "start_time": "2022-05-30T18:14:16.808Z"
   },
   {
    "duration": 69,
    "start_time": "2022-05-30T18:14:16.821Z"
   },
   {
    "duration": 22,
    "start_time": "2022-05-30T18:14:16.892Z"
   },
   {
    "duration": 59,
    "start_time": "2022-05-30T18:14:16.916Z"
   },
   {
    "duration": 24,
    "start_time": "2022-05-30T18:14:16.980Z"
   },
   {
    "duration": 10,
    "start_time": "2022-05-30T18:14:17.007Z"
   },
   {
    "duration": 54,
    "start_time": "2022-05-30T18:14:17.020Z"
   },
   {
    "duration": 76,
    "start_time": "2022-05-30T18:14:17.078Z"
   },
   {
    "duration": 11,
    "start_time": "2022-05-30T18:14:17.158Z"
   },
   {
    "duration": 30,
    "start_time": "2022-05-30T18:14:17.173Z"
   },
   {
    "duration": 32,
    "start_time": "2022-05-30T18:14:17.206Z"
   },
   {
    "duration": 106,
    "start_time": "2022-05-30T18:14:17.240Z"
   },
   {
    "duration": 7,
    "start_time": "2022-05-30T18:14:17.347Z"
   },
   {
    "duration": 37,
    "start_time": "2022-05-30T18:14:17.357Z"
   },
   {
    "duration": 295,
    "start_time": "2022-05-30T18:14:17.395Z"
   },
   {
    "duration": 565,
    "start_time": "2022-05-30T18:14:17.691Z"
   },
   {
    "duration": 619,
    "start_time": "2022-05-30T18:14:18.258Z"
   },
   {
    "duration": 67,
    "start_time": "2022-05-30T18:14:18.879Z"
   },
   {
    "duration": 33,
    "start_time": "2022-05-30T18:14:18.948Z"
   },
   {
    "duration": 57,
    "start_time": "2022-05-30T18:14:18.983Z"
   },
   {
    "duration": 286,
    "start_time": "2022-05-30T18:14:19.042Z"
   },
   {
    "duration": 298,
    "start_time": "2022-05-30T18:14:19.345Z"
   },
   {
    "duration": 47,
    "start_time": "2022-05-30T18:14:19.645Z"
   },
   {
    "duration": 116,
    "start_time": "2022-05-30T18:14:19.696Z"
   },
   {
    "duration": 14,
    "start_time": "2022-05-30T18:14:19.814Z"
   },
   {
    "duration": 63,
    "start_time": "2022-05-30T18:14:19.830Z"
   },
   {
    "duration": 7,
    "start_time": "2022-05-30T18:14:19.895Z"
   },
   {
    "duration": 19,
    "start_time": "2022-05-30T18:14:19.904Z"
   },
   {
    "duration": 86,
    "start_time": "2022-05-30T18:14:19.925Z"
   },
   {
    "duration": 50,
    "start_time": "2022-05-30T18:14:20.030Z"
   },
   {
    "duration": 162,
    "start_time": "2022-05-30T18:14:20.083Z"
   },
   {
    "duration": 7,
    "start_time": "2022-05-30T18:14:20.246Z"
   },
   {
    "duration": 102,
    "start_time": "2022-05-30T18:14:20.255Z"
   },
   {
    "duration": 77,
    "start_time": "2022-05-30T18:14:20.362Z"
   },
   {
    "duration": 3,
    "start_time": "2022-05-30T18:14:20.441Z"
   },
   {
    "duration": 87,
    "start_time": "2022-05-30T18:14:20.445Z"
   },
   {
    "duration": 67,
    "start_time": "2022-05-30T18:14:20.534Z"
   },
   {
    "duration": 82,
    "start_time": "2022-05-30T18:14:20.602Z"
   },
   {
    "duration": 70,
    "start_time": "2022-05-30T18:14:20.685Z"
   },
   {
    "duration": 41,
    "start_time": "2022-05-30T18:14:20.758Z"
   },
   {
    "duration": 57,
    "start_time": "2022-05-30T18:14:20.801Z"
   },
   {
    "duration": 71,
    "start_time": "2022-05-30T18:14:20.862Z"
   },
   {
    "duration": 64,
    "start_time": "2022-05-30T18:14:20.937Z"
   },
   {
    "duration": 4,
    "start_time": "2022-05-30T18:14:21.039Z"
   },
   {
    "duration": 50,
    "start_time": "2022-05-30T18:14:21.045Z"
   },
   {
    "duration": 73,
    "start_time": "2022-05-30T18:14:21.097Z"
   },
   {
    "duration": 67,
    "start_time": "2022-05-30T18:14:21.173Z"
   },
   {
    "duration": 87,
    "start_time": "2022-05-30T18:14:21.243Z"
   },
   {
    "duration": 21,
    "start_time": "2022-05-30T18:14:21.332Z"
   },
   {
    "duration": 84,
    "start_time": "2022-05-30T18:14:21.357Z"
   },
   {
    "duration": 9,
    "start_time": "2022-05-30T18:14:21.443Z"
   },
   {
    "duration": 40,
    "start_time": "2022-05-30T18:14:21.455Z"
   },
   {
    "duration": 50,
    "start_time": "2022-05-30T18:14:21.529Z"
   },
   {
    "duration": 10,
    "start_time": "2022-05-30T18:14:21.581Z"
   },
   {
    "duration": 43,
    "start_time": "2022-05-30T18:14:21.593Z"
   },
   {
    "duration": 50,
    "start_time": "2022-05-30T18:14:21.640Z"
   },
   {
    "duration": 12,
    "start_time": "2022-05-30T18:14:21.692Z"
   },
   {
    "duration": 18,
    "start_time": "2022-05-30T18:14:21.706Z"
   },
   {
    "duration": 51,
    "start_time": "2022-05-30T18:14:21.725Z"
   },
   {
    "duration": 7,
    "start_time": "2022-05-30T18:14:21.778Z"
   },
   {
    "duration": 136,
    "start_time": "2022-05-30T18:14:21.786Z"
   },
   {
    "duration": 29,
    "start_time": "2022-05-30T18:14:21.924Z"
   },
   {
    "duration": 29,
    "start_time": "2022-05-30T18:14:21.955Z"
   },
   {
    "duration": 18,
    "start_time": "2022-05-30T18:14:21.986Z"
   },
   {
    "duration": 11,
    "start_time": "2022-05-30T18:14:22.006Z"
   },
   {
    "duration": 54,
    "start_time": "2022-05-30T18:14:22.018Z"
   },
   {
    "duration": 28,
    "start_time": "2022-05-30T18:14:22.074Z"
   },
   {
    "duration": 27,
    "start_time": "2022-05-30T18:14:22.104Z"
   },
   {
    "duration": 13,
    "start_time": "2022-05-30T18:14:22.133Z"
   },
   {
    "duration": 892,
    "start_time": "2022-05-30T18:14:22.151Z"
   },
   {
    "duration": 15,
    "start_time": "2022-05-30T18:14:23.045Z"
   },
   {
    "duration": 31,
    "start_time": "2022-05-30T18:14:23.062Z"
   },
   {
    "duration": 600,
    "start_time": "2022-05-30T18:14:23.094Z"
   },
   {
    "duration": 10,
    "start_time": "2022-05-30T18:14:23.696Z"
   },
   {
    "duration": 31,
    "start_time": "2022-05-30T18:14:23.707Z"
   },
   {
    "duration": 549,
    "start_time": "2022-05-30T18:14:23.742Z"
   },
   {
    "duration": 9,
    "start_time": "2022-05-30T18:14:24.293Z"
   },
   {
    "duration": 38,
    "start_time": "2022-05-30T18:14:24.307Z"
   },
   {
    "duration": 16,
    "start_time": "2022-05-30T18:14:24.349Z"
   },
   {
    "duration": 453,
    "start_time": "2022-05-30T18:14:24.374Z"
   },
   {
    "duration": 20,
    "start_time": "2022-05-30T18:14:24.831Z"
   },
   {
    "duration": 46,
    "start_time": "2022-05-30T18:14:24.852Z"
   },
   {
    "duration": 8,
    "start_time": "2022-05-30T18:14:24.900Z"
   },
   {
    "duration": 8,
    "start_time": "2022-05-30T18:14:24.909Z"
   },
   {
    "duration": 10,
    "start_time": "2022-05-30T18:14:24.918Z"
   },
   {
    "duration": 51,
    "start_time": "2022-05-30T18:14:24.930Z"
   },
   {
    "duration": 7,
    "start_time": "2022-05-30T18:14:24.983Z"
   },
   {
    "duration": 1557,
    "start_time": "2022-05-31T06:21:59.729Z"
   },
   {
    "duration": 3,
    "start_time": "2022-05-31T06:22:01.288Z"
   },
   {
    "duration": 1897,
    "start_time": "2022-05-31T06:22:01.292Z"
   },
   {
    "duration": 31,
    "start_time": "2022-05-31T06:22:03.192Z"
   },
   {
    "duration": 13,
    "start_time": "2022-05-31T06:22:03.225Z"
   },
   {
    "duration": 33,
    "start_time": "2022-05-31T06:22:03.243Z"
   },
   {
    "duration": 27,
    "start_time": "2022-05-31T06:22:03.278Z"
   },
   {
    "duration": 8,
    "start_time": "2022-05-31T06:22:03.307Z"
   },
   {
    "duration": 23,
    "start_time": "2022-05-31T06:22:03.316Z"
   },
   {
    "duration": 47,
    "start_time": "2022-05-31T06:22:03.343Z"
   },
   {
    "duration": 45,
    "start_time": "2022-05-31T06:22:03.392Z"
   },
   {
    "duration": 104,
    "start_time": "2022-05-31T06:22:03.442Z"
   },
   {
    "duration": 14,
    "start_time": "2022-05-31T06:22:03.552Z"
   },
   {
    "duration": 31,
    "start_time": "2022-05-31T06:22:03.574Z"
   },
   {
    "duration": 38,
    "start_time": "2022-05-31T06:22:03.607Z"
   },
   {
    "duration": 62,
    "start_time": "2022-05-31T06:22:03.649Z"
   },
   {
    "duration": 6,
    "start_time": "2022-05-31T06:22:03.712Z"
   },
   {
    "duration": 33,
    "start_time": "2022-05-31T06:22:03.720Z"
   },
   {
    "duration": 350,
    "start_time": "2022-05-31T06:22:03.755Z"
   },
   {
    "duration": 574,
    "start_time": "2022-05-31T06:22:04.107Z"
   },
   {
    "duration": 375,
    "start_time": "2022-05-31T06:22:04.685Z"
   },
   {
    "duration": 18,
    "start_time": "2022-05-31T06:22:05.061Z"
   },
   {
    "duration": 49,
    "start_time": "2022-05-31T06:22:05.083Z"
   },
   {
    "duration": 12,
    "start_time": "2022-05-31T06:22:05.143Z"
   },
   {
    "duration": 382,
    "start_time": "2022-05-31T06:22:05.157Z"
   },
   {
    "duration": 457,
    "start_time": "2022-05-31T06:22:05.540Z"
   },
   {
    "duration": 47,
    "start_time": "2022-05-31T06:22:06.002Z"
   },
   {
    "duration": 204,
    "start_time": "2022-05-31T06:22:06.058Z"
   },
   {
    "duration": 16,
    "start_time": "2022-05-31T06:22:06.267Z"
   },
   {
    "duration": 62,
    "start_time": "2022-05-31T06:22:06.289Z"
   },
   {
    "duration": 20,
    "start_time": "2022-05-31T06:22:06.357Z"
   },
   {
    "duration": 116,
    "start_time": "2022-05-31T06:22:06.384Z"
   },
   {
    "duration": 80,
    "start_time": "2022-05-31T06:22:06.506Z"
   },
   {
    "duration": 76,
    "start_time": "2022-05-31T06:22:06.592Z"
   },
   {
    "duration": 128,
    "start_time": "2022-05-31T06:22:06.674Z"
   },
   {
    "duration": 7,
    "start_time": "2022-05-31T06:22:06.806Z"
   },
   {
    "duration": 33,
    "start_time": "2022-05-31T06:22:06.815Z"
   },
   {
    "duration": 74,
    "start_time": "2022-05-31T06:22:06.850Z"
   },
   {
    "duration": 19,
    "start_time": "2022-05-31T06:22:06.938Z"
   },
   {
    "duration": 39,
    "start_time": "2022-05-31T06:22:06.964Z"
   },
   {
    "duration": 27,
    "start_time": "2022-05-31T06:22:07.006Z"
   },
   {
    "duration": 52,
    "start_time": "2022-05-31T06:22:07.035Z"
   },
   {
    "duration": 29,
    "start_time": "2022-05-31T06:22:07.091Z"
   },
   {
    "duration": 71,
    "start_time": "2022-05-31T06:22:07.124Z"
   },
   {
    "duration": 22,
    "start_time": "2022-05-31T06:22:07.197Z"
   },
   {
    "duration": 10,
    "start_time": "2022-05-31T06:22:07.221Z"
   },
   {
    "duration": 75,
    "start_time": "2022-05-31T06:22:07.239Z"
   },
   {
    "duration": 9,
    "start_time": "2022-05-31T06:22:07.317Z"
   },
   {
    "duration": 63,
    "start_time": "2022-05-31T06:22:07.334Z"
   },
   {
    "duration": 20,
    "start_time": "2022-05-31T06:22:07.399Z"
   },
   {
    "duration": 102,
    "start_time": "2022-05-31T06:22:07.422Z"
   },
   {
    "duration": 23,
    "start_time": "2022-05-31T06:22:07.533Z"
   },
   {
    "duration": 33,
    "start_time": "2022-05-31T06:22:07.558Z"
   },
   {
    "duration": 26,
    "start_time": "2022-05-31T06:22:07.593Z"
   },
   {
    "duration": 70,
    "start_time": "2022-05-31T06:22:07.622Z"
   },
   {
    "duration": 25,
    "start_time": "2022-05-31T06:22:07.694Z"
   },
   {
    "duration": 10,
    "start_time": "2022-05-31T06:22:07.722Z"
   },
   {
    "duration": 14,
    "start_time": "2022-05-31T06:22:16.652Z"
   },
   {
    "duration": 8,
    "start_time": "2022-05-31T06:22:18.681Z"
   },
   {
    "duration": 4,
    "start_time": "2022-05-31T06:22:33.380Z"
   },
   {
    "duration": 8,
    "start_time": "2022-05-31T06:22:35.092Z"
   },
   {
    "duration": 4,
    "start_time": "2022-05-31T06:22:39.805Z"
   },
   {
    "duration": 7,
    "start_time": "2022-05-31T06:22:41.458Z"
   },
   {
    "duration": 11,
    "start_time": "2022-05-31T06:22:44.376Z"
   },
   {
    "duration": 3,
    "start_time": "2022-05-31T06:22:49.018Z"
   },
   {
    "duration": 70,
    "start_time": "2022-05-31T06:22:49.023Z"
   },
   {
    "duration": 586,
    "start_time": "2022-05-31T06:22:49.095Z"
   },
   {
    "duration": 22,
    "start_time": "2022-05-31T06:22:49.684Z"
   },
   {
    "duration": 8,
    "start_time": "2022-05-31T06:22:49.708Z"
   },
   {
    "duration": 35,
    "start_time": "2022-05-31T06:22:49.717Z"
   },
   {
    "duration": 37,
    "start_time": "2022-05-31T06:22:49.753Z"
   },
   {
    "duration": 7,
    "start_time": "2022-05-31T06:22:49.792Z"
   },
   {
    "duration": 24,
    "start_time": "2022-05-31T06:22:49.800Z"
   },
   {
    "duration": 25,
    "start_time": "2022-05-31T06:22:49.827Z"
   },
   {
    "duration": 47,
    "start_time": "2022-05-31T06:22:49.862Z"
   },
   {
    "duration": 80,
    "start_time": "2022-05-31T06:22:49.911Z"
   },
   {
    "duration": 6,
    "start_time": "2022-05-31T06:22:49.995Z"
   },
   {
    "duration": 21,
    "start_time": "2022-05-31T06:22:50.003Z"
   },
   {
    "duration": 89,
    "start_time": "2022-05-31T06:22:50.027Z"
   },
   {
    "duration": 64,
    "start_time": "2022-05-31T06:22:50.118Z"
   },
   {
    "duration": 16,
    "start_time": "2022-05-31T06:22:50.184Z"
   },
   {
    "duration": 16,
    "start_time": "2022-05-31T06:22:50.202Z"
   },
   {
    "duration": 398,
    "start_time": "2022-05-31T06:22:50.219Z"
   },
   {
    "duration": 437,
    "start_time": "2022-05-31T06:22:50.627Z"
   },
   {
    "duration": 350,
    "start_time": "2022-05-31T06:22:51.066Z"
   },
   {
    "duration": 28,
    "start_time": "2022-05-31T06:22:51.429Z"
   },
   {
    "duration": 46,
    "start_time": "2022-05-31T06:22:51.462Z"
   },
   {
    "duration": 6,
    "start_time": "2022-05-31T06:22:51.510Z"
   },
   {
    "duration": 435,
    "start_time": "2022-05-31T06:22:51.517Z"
   },
   {
    "duration": 332,
    "start_time": "2022-05-31T06:22:51.953Z"
   },
   {
    "duration": 46,
    "start_time": "2022-05-31T06:22:52.289Z"
   },
   {
    "duration": 148,
    "start_time": "2022-05-31T06:22:52.343Z"
   },
   {
    "duration": 10,
    "start_time": "2022-05-31T06:22:52.493Z"
   },
   {
    "duration": 69,
    "start_time": "2022-05-31T06:22:52.504Z"
   },
   {
    "duration": 14,
    "start_time": "2022-05-31T06:22:52.575Z"
   },
   {
    "duration": 27,
    "start_time": "2022-05-31T06:22:52.593Z"
   },
   {
    "duration": 90,
    "start_time": "2022-05-31T06:22:52.622Z"
   },
   {
    "duration": 49,
    "start_time": "2022-05-31T06:22:52.714Z"
   },
   {
    "duration": 48,
    "start_time": "2022-05-31T06:22:52.774Z"
   },
   {
    "duration": 21,
    "start_time": "2022-05-31T06:22:52.824Z"
   },
   {
    "duration": 56,
    "start_time": "2022-05-31T06:22:52.860Z"
   },
   {
    "duration": 35,
    "start_time": "2022-05-31T06:22:52.918Z"
   },
   {
    "duration": 40,
    "start_time": "2022-05-31T06:22:52.956Z"
   },
   {
    "duration": 20,
    "start_time": "2022-05-31T06:22:52.998Z"
   },
   {
    "duration": 22,
    "start_time": "2022-05-31T06:22:53.020Z"
   },
   {
    "duration": 102,
    "start_time": "2022-05-31T06:22:53.049Z"
   },
   {
    "duration": 25,
    "start_time": "2022-05-31T06:22:53.155Z"
   },
   {
    "duration": 29,
    "start_time": "2022-05-31T06:22:53.188Z"
   },
   {
    "duration": 26,
    "start_time": "2022-05-31T06:22:53.219Z"
   },
   {
    "duration": 55,
    "start_time": "2022-05-31T06:22:53.246Z"
   },
   {
    "duration": 16,
    "start_time": "2022-05-31T06:22:53.303Z"
   },
   {
    "duration": 69,
    "start_time": "2022-05-31T06:22:53.322Z"
   },
   {
    "duration": 21,
    "start_time": "2022-05-31T06:22:53.393Z"
   },
   {
    "duration": 32,
    "start_time": "2022-05-31T06:22:53.416Z"
   },
   {
    "duration": 57,
    "start_time": "2022-05-31T06:22:53.453Z"
   },
   {
    "duration": 12,
    "start_time": "2022-05-31T06:22:53.512Z"
   },
   {
    "duration": 23,
    "start_time": "2022-05-31T06:22:53.534Z"
   },
   {
    "duration": 33,
    "start_time": "2022-05-31T06:22:53.560Z"
   },
   {
    "duration": 10,
    "start_time": "2022-05-31T06:22:53.596Z"
   },
   {
    "duration": 31,
    "start_time": "2022-05-31T06:22:53.608Z"
   },
   {
    "duration": 38,
    "start_time": "2022-05-31T06:22:53.641Z"
   },
   {
    "duration": 9,
    "start_time": "2022-05-31T06:25:32.580Z"
   },
   {
    "duration": 20,
    "start_time": "2022-05-31T06:25:35.052Z"
   },
   {
    "duration": 18,
    "start_time": "2022-05-31T06:25:58.367Z"
   },
   {
    "duration": 34,
    "start_time": "2022-05-31T06:25:59.555Z"
   },
   {
    "duration": 12,
    "start_time": "2022-05-31T06:27:33.558Z"
   },
   {
    "duration": 4,
    "start_time": "2022-05-31T06:27:33.918Z"
   },
   {
    "duration": 8,
    "start_time": "2022-05-31T06:27:34.087Z"
   },
   {
    "duration": 8,
    "start_time": "2022-05-31T06:27:34.264Z"
   },
   {
    "duration": 269,
    "start_time": "2022-05-31T06:28:49.706Z"
   },
   {
    "duration": 8,
    "start_time": "2022-05-31T06:31:18.466Z"
   },
   {
    "duration": 10,
    "start_time": "2022-05-31T06:31:47.370Z"
   },
   {
    "duration": 9,
    "start_time": "2022-05-31T06:31:53.668Z"
   },
   {
    "duration": 8,
    "start_time": "2022-05-31T06:32:04.268Z"
   },
   {
    "duration": 18,
    "start_time": "2022-05-31T06:32:14.134Z"
   },
   {
    "duration": 7,
    "start_time": "2022-05-31T06:32:28.266Z"
   },
   {
    "duration": 23,
    "start_time": "2022-05-31T06:34:34.472Z"
   },
   {
    "duration": 571,
    "start_time": "2022-05-31T06:35:52.375Z"
   },
   {
    "duration": 9,
    "start_time": "2022-05-31T06:35:58.181Z"
   },
   {
    "duration": 11,
    "start_time": "2022-05-31T06:35:58.192Z"
   },
   {
    "duration": 613,
    "start_time": "2022-05-31T06:35:58.206Z"
   },
   {
    "duration": 29,
    "start_time": "2022-05-31T06:35:58.821Z"
   },
   {
    "duration": 44,
    "start_time": "2022-05-31T06:35:58.852Z"
   },
   {
    "duration": 8,
    "start_time": "2022-05-31T06:35:58.897Z"
   },
   {
    "duration": 7,
    "start_time": "2022-05-31T06:35:58.907Z"
   },
   {
    "duration": 7,
    "start_time": "2022-05-31T06:35:58.916Z"
   },
   {
    "duration": 59,
    "start_time": "2022-05-31T06:35:58.924Z"
   },
   {
    "duration": 12,
    "start_time": "2022-05-31T06:35:58.984Z"
   },
   {
    "duration": 28,
    "start_time": "2022-05-31T06:35:58.997Z"
   },
   {
    "duration": 69,
    "start_time": "2022-05-31T06:35:59.039Z"
   },
   {
    "duration": 6,
    "start_time": "2022-05-31T06:35:59.110Z"
   },
   {
    "duration": 35,
    "start_time": "2022-05-31T06:35:59.119Z"
   },
   {
    "duration": 84,
    "start_time": "2022-05-31T06:35:59.156Z"
   },
   {
    "duration": 73,
    "start_time": "2022-05-31T06:35:59.245Z"
   },
   {
    "duration": 17,
    "start_time": "2022-05-31T06:35:59.320Z"
   },
   {
    "duration": 63,
    "start_time": "2022-05-31T06:35:59.339Z"
   },
   {
    "duration": 297,
    "start_time": "2022-05-31T06:35:59.403Z"
   },
   {
    "duration": 369,
    "start_time": "2022-05-31T06:35:59.702Z"
   },
   {
    "duration": 380,
    "start_time": "2022-05-31T06:36:00.073Z"
   },
   {
    "duration": 16,
    "start_time": "2022-05-31T06:36:00.455Z"
   },
   {
    "duration": 57,
    "start_time": "2022-05-31T06:36:00.472Z"
   },
   {
    "duration": 73,
    "start_time": "2022-05-31T06:36:00.535Z"
   },
   {
    "duration": 549,
    "start_time": "2022-05-31T06:36:00.610Z"
   },
   {
    "duration": 327,
    "start_time": "2022-05-31T06:36:01.161Z"
   },
   {
    "duration": 75,
    "start_time": "2022-05-31T06:36:01.489Z"
   },
   {
    "duration": 172,
    "start_time": "2022-05-31T06:36:01.569Z"
   },
   {
    "duration": 8,
    "start_time": "2022-05-31T06:36:01.746Z"
   },
   {
    "duration": 65,
    "start_time": "2022-05-31T06:36:01.755Z"
   },
   {
    "duration": 83,
    "start_time": "2022-05-31T06:36:01.823Z"
   },
   {
    "duration": 143,
    "start_time": "2022-05-31T06:36:01.909Z"
   },
   {
    "duration": 205,
    "start_time": "2022-05-31T06:36:02.055Z"
   },
   {
    "duration": 61,
    "start_time": "2022-05-31T06:36:02.269Z"
   },
   {
    "duration": 86,
    "start_time": "2022-05-31T06:36:02.332Z"
   },
   {
    "duration": 73,
    "start_time": "2022-05-31T06:36:02.421Z"
   },
   {
    "duration": 93,
    "start_time": "2022-05-31T06:36:02.496Z"
   },
   {
    "duration": 51,
    "start_time": "2022-05-31T06:36:02.592Z"
   },
   {
    "duration": 31,
    "start_time": "2022-05-31T06:36:02.648Z"
   },
   {
    "duration": 21,
    "start_time": "2022-05-31T06:36:02.681Z"
   },
   {
    "duration": 17,
    "start_time": "2022-05-31T06:36:02.706Z"
   },
   {
    "duration": 57,
    "start_time": "2022-05-31T06:36:02.729Z"
   },
   {
    "duration": 25,
    "start_time": "2022-05-31T06:36:02.788Z"
   },
   {
    "duration": 76,
    "start_time": "2022-05-31T06:36:02.815Z"
   },
   {
    "duration": 28,
    "start_time": "2022-05-31T06:36:02.893Z"
   },
   {
    "duration": 13,
    "start_time": "2022-05-31T06:36:02.923Z"
   },
   {
    "duration": 72,
    "start_time": "2022-05-31T06:36:02.937Z"
   },
   {
    "duration": 11,
    "start_time": "2022-05-31T06:36:03.011Z"
   },
   {
    "duration": 96,
    "start_time": "2022-05-31T06:36:03.024Z"
   },
   {
    "duration": 79,
    "start_time": "2022-05-31T06:36:03.121Z"
   },
   {
    "duration": 19,
    "start_time": "2022-05-31T06:36:03.201Z"
   },
   {
    "duration": 70,
    "start_time": "2022-05-31T06:36:03.222Z"
   },
   {
    "duration": 24,
    "start_time": "2022-05-31T06:36:03.296Z"
   },
   {
    "duration": 18,
    "start_time": "2022-05-31T06:36:03.322Z"
   },
   {
    "duration": 58,
    "start_time": "2022-05-31T06:36:03.349Z"
   },
   {
    "duration": 21,
    "start_time": "2022-05-31T06:36:03.409Z"
   },
   {
    "duration": 78,
    "start_time": "2022-05-31T06:36:03.433Z"
   },
   {
    "duration": 9,
    "start_time": "2022-05-31T06:36:03.513Z"
   },
   {
    "duration": 61,
    "start_time": "2022-05-31T06:36:03.524Z"
   },
   {
    "duration": 28,
    "start_time": "2022-05-31T06:36:03.588Z"
   },
   {
    "duration": 67,
    "start_time": "2022-05-31T06:36:03.618Z"
   },
   {
    "duration": 14,
    "start_time": "2022-05-31T06:36:03.691Z"
   },
   {
    "duration": 14,
    "start_time": "2022-05-31T06:36:03.707Z"
   },
   {
    "duration": 271,
    "start_time": "2022-05-31T06:36:03.723Z"
   },
   {
    "duration": 7,
    "start_time": "2022-05-31T06:36:03.995Z"
   },
   {
    "duration": 11,
    "start_time": "2022-05-31T06:36:04.004Z"
   },
   {
    "duration": 67,
    "start_time": "2022-05-31T06:36:04.028Z"
   },
   {
    "duration": 14,
    "start_time": "2022-05-31T06:36:04.097Z"
   },
   {
    "duration": 60,
    "start_time": "2022-05-31T06:36:04.113Z"
   },
   {
    "duration": 29,
    "start_time": "2022-05-31T06:36:04.174Z"
   },
   {
    "duration": 45,
    "start_time": "2022-05-31T06:36:04.205Z"
   },
   {
    "duration": 66,
    "start_time": "2022-05-31T06:36:04.253Z"
   },
   {
    "duration": 28,
    "start_time": "2022-05-31T06:36:04.320Z"
   },
   {
    "duration": 28,
    "start_time": "2022-05-31T06:36:07.056Z"
   },
   {
    "duration": 184,
    "start_time": "2022-05-31T06:36:08.024Z"
   },
   {
    "duration": 3,
    "start_time": "2022-05-31T06:37:56.706Z"
   },
   {
    "duration": 10,
    "start_time": "2022-05-31T06:37:56.711Z"
   },
   {
    "duration": 577,
    "start_time": "2022-05-31T06:37:56.722Z"
   },
   {
    "duration": 18,
    "start_time": "2022-05-31T06:37:57.301Z"
   },
   {
    "duration": 7,
    "start_time": "2022-05-31T06:37:57.326Z"
   },
   {
    "duration": 59,
    "start_time": "2022-05-31T06:37:57.336Z"
   },
   {
    "duration": 8,
    "start_time": "2022-05-31T06:37:57.397Z"
   },
   {
    "duration": 12,
    "start_time": "2022-05-31T06:37:57.406Z"
   },
   {
    "duration": 42,
    "start_time": "2022-05-31T06:37:57.420Z"
   },
   {
    "duration": 32,
    "start_time": "2022-05-31T06:37:57.465Z"
   },
   {
    "duration": 48,
    "start_time": "2022-05-31T06:37:57.499Z"
   },
   {
    "duration": 115,
    "start_time": "2022-05-31T06:37:57.549Z"
   },
   {
    "duration": 20,
    "start_time": "2022-05-31T06:37:57.666Z"
   },
   {
    "duration": 18,
    "start_time": "2022-05-31T06:37:57.690Z"
   },
   {
    "duration": 62,
    "start_time": "2022-05-31T06:37:57.709Z"
   },
   {
    "duration": 77,
    "start_time": "2022-05-31T06:37:57.778Z"
   },
   {
    "duration": 8,
    "start_time": "2022-05-31T06:37:57.861Z"
   },
   {
    "duration": 31,
    "start_time": "2022-05-31T06:37:57.870Z"
   },
   {
    "duration": 295,
    "start_time": "2022-05-31T06:37:57.902Z"
   },
   {
    "duration": 320,
    "start_time": "2022-05-31T06:37:58.199Z"
   },
   {
    "duration": 366,
    "start_time": "2022-05-31T06:37:58.521Z"
   },
   {
    "duration": 13,
    "start_time": "2022-05-31T06:37:58.890Z"
   },
   {
    "duration": 29,
    "start_time": "2022-05-31T06:37:58.904Z"
   },
   {
    "duration": 21,
    "start_time": "2022-05-31T06:37:58.942Z"
   },
   {
    "duration": 350,
    "start_time": "2022-05-31T06:37:58.965Z"
   },
   {
    "duration": 374,
    "start_time": "2022-05-31T06:37:59.317Z"
   },
   {
    "duration": 33,
    "start_time": "2022-05-31T06:37:59.692Z"
   },
   {
    "duration": 139,
    "start_time": "2022-05-31T06:37:59.734Z"
   },
   {
    "duration": 13,
    "start_time": "2022-05-31T06:37:59.877Z"
   },
   {
    "duration": 29,
    "start_time": "2022-05-31T06:37:59.895Z"
   },
   {
    "duration": 10,
    "start_time": "2022-05-31T06:37:59.931Z"
   },
   {
    "duration": 57,
    "start_time": "2022-05-31T06:37:59.943Z"
   },
   {
    "duration": 41,
    "start_time": "2022-05-31T06:38:00.002Z"
   },
   {
    "duration": 89,
    "start_time": "2022-05-31T06:38:00.045Z"
   },
   {
    "duration": 79,
    "start_time": "2022-05-31T06:38:00.137Z"
   },
   {
    "duration": 5,
    "start_time": "2022-05-31T06:38:00.218Z"
   },
   {
    "duration": 78,
    "start_time": "2022-05-31T06:38:00.224Z"
   },
   {
    "duration": 60,
    "start_time": "2022-05-31T06:38:00.305Z"
   },
   {
    "duration": 31,
    "start_time": "2022-05-31T06:38:00.368Z"
   },
   {
    "duration": 35,
    "start_time": "2022-05-31T06:38:00.401Z"
   },
   {
    "duration": 75,
    "start_time": "2022-05-31T06:38:00.438Z"
   },
   {
    "duration": 48,
    "start_time": "2022-05-31T06:38:00.515Z"
   },
   {
    "duration": 44,
    "start_time": "2022-05-31T06:38:00.567Z"
   },
   {
    "duration": 97,
    "start_time": "2022-05-31T06:38:00.612Z"
   },
   {
    "duration": 22,
    "start_time": "2022-05-31T06:38:00.711Z"
   },
   {
    "duration": 42,
    "start_time": "2022-05-31T06:38:00.735Z"
   },
   {
    "duration": 36,
    "start_time": "2022-05-31T06:38:00.778Z"
   },
   {
    "duration": 22,
    "start_time": "2022-05-31T06:38:00.818Z"
   },
   {
    "duration": 77,
    "start_time": "2022-05-31T06:38:00.842Z"
   },
   {
    "duration": 81,
    "start_time": "2022-05-31T06:38:00.921Z"
   },
   {
    "duration": 16,
    "start_time": "2022-05-31T06:38:01.004Z"
   },
   {
    "duration": 40,
    "start_time": "2022-05-31T06:38:01.022Z"
   },
   {
    "duration": 47,
    "start_time": "2022-05-31T06:38:01.064Z"
   },
   {
    "duration": 86,
    "start_time": "2022-05-31T06:38:01.112Z"
   },
   {
    "duration": 4,
    "start_time": "2022-05-31T06:38:01.201Z"
   },
   {
    "duration": 31,
    "start_time": "2022-05-31T06:38:01.206Z"
   },
   {
    "duration": 62,
    "start_time": "2022-05-31T06:38:01.238Z"
   },
   {
    "duration": 12,
    "start_time": "2022-05-31T06:38:06.958Z"
   },
   {
    "duration": 6,
    "start_time": "2022-05-31T06:38:09.884Z"
   },
   {
    "duration": 4,
    "start_time": "2022-05-31T06:38:10.602Z"
   },
   {
    "duration": 5,
    "start_time": "2022-05-31T06:40:34.211Z"
   },
   {
    "duration": 32,
    "start_time": "2022-05-31T06:40:37.127Z"
   },
   {
    "duration": 4,
    "start_time": "2022-05-31T06:41:00.594Z"
   },
   {
    "duration": 52,
    "start_time": "2022-05-31T06:41:00.600Z"
   },
   {
    "duration": 581,
    "start_time": "2022-05-31T06:41:00.654Z"
   },
   {
    "duration": 26,
    "start_time": "2022-05-31T06:41:01.237Z"
   },
   {
    "duration": 41,
    "start_time": "2022-05-31T06:41:01.270Z"
   },
   {
    "duration": 48,
    "start_time": "2022-05-31T06:41:01.312Z"
   },
   {
    "duration": 30,
    "start_time": "2022-05-31T06:41:01.364Z"
   },
   {
    "duration": 17,
    "start_time": "2022-05-31T06:41:01.395Z"
   },
   {
    "duration": 92,
    "start_time": "2022-05-31T06:41:01.414Z"
   },
   {
    "duration": 104,
    "start_time": "2022-05-31T06:41:01.508Z"
   },
   {
    "duration": 107,
    "start_time": "2022-05-31T06:41:01.614Z"
   },
   {
    "duration": 114,
    "start_time": "2022-05-31T06:41:01.723Z"
   },
   {
    "duration": 104,
    "start_time": "2022-05-31T06:41:01.838Z"
   },
   {
    "duration": 81,
    "start_time": "2022-05-31T06:41:01.951Z"
   },
   {
    "duration": 128,
    "start_time": "2022-05-31T06:41:02.034Z"
   },
   {
    "duration": 156,
    "start_time": "2022-05-31T06:41:02.165Z"
   },
   {
    "duration": 30,
    "start_time": "2022-05-31T06:41:02.324Z"
   },
   {
    "duration": 60,
    "start_time": "2022-05-31T06:41:02.360Z"
   },
   {
    "duration": 567,
    "start_time": "2022-05-31T06:41:02.421Z"
   },
   {
    "duration": 318,
    "start_time": "2022-05-31T06:41:02.989Z"
   },
   {
    "duration": 401,
    "start_time": "2022-05-31T06:41:03.309Z"
   },
   {
    "duration": 43,
    "start_time": "2022-05-31T06:41:03.712Z"
   },
   {
    "duration": 58,
    "start_time": "2022-05-31T06:41:03.757Z"
   },
   {
    "duration": 20,
    "start_time": "2022-05-31T06:41:03.818Z"
   },
   {
    "duration": 440,
    "start_time": "2022-05-31T06:41:03.842Z"
   },
   {
    "duration": 424,
    "start_time": "2022-05-31T06:41:04.285Z"
   },
   {
    "duration": 38,
    "start_time": "2022-05-31T06:41:04.711Z"
   },
   {
    "duration": 212,
    "start_time": "2022-05-31T06:41:04.751Z"
   },
   {
    "duration": 18,
    "start_time": "2022-05-31T06:41:04.965Z"
   },
   {
    "duration": 61,
    "start_time": "2022-05-31T06:41:04.988Z"
   },
   {
    "duration": 23,
    "start_time": "2022-05-31T06:41:05.059Z"
   },
   {
    "duration": 30,
    "start_time": "2022-05-31T06:41:05.087Z"
   },
   {
    "duration": 50,
    "start_time": "2022-05-31T06:41:05.119Z"
   },
   {
    "duration": 55,
    "start_time": "2022-05-31T06:41:05.172Z"
   },
   {
    "duration": 58,
    "start_time": "2022-05-31T06:41:05.232Z"
   },
   {
    "duration": 11,
    "start_time": "2022-05-31T06:41:05.296Z"
   },
   {
    "duration": 46,
    "start_time": "2022-05-31T06:41:05.309Z"
   },
   {
    "duration": 57,
    "start_time": "2022-05-31T06:41:05.361Z"
   },
   {
    "duration": 4,
    "start_time": "2022-05-31T06:41:05.421Z"
   },
   {
    "duration": 81,
    "start_time": "2022-05-31T06:41:05.427Z"
   },
   {
    "duration": 22,
    "start_time": "2022-05-31T06:41:05.515Z"
   },
   {
    "duration": 32,
    "start_time": "2022-05-31T06:41:05.543Z"
   },
   {
    "duration": 66,
    "start_time": "2022-05-31T06:41:05.578Z"
   },
   {
    "duration": 59,
    "start_time": "2022-05-31T06:41:05.655Z"
   },
   {
    "duration": 60,
    "start_time": "2022-05-31T06:41:05.717Z"
   },
   {
    "duration": 30,
    "start_time": "2022-05-31T06:41:05.782Z"
   },
   {
    "duration": 96,
    "start_time": "2022-05-31T06:41:05.814Z"
   },
   {
    "duration": 45,
    "start_time": "2022-05-31T06:41:05.912Z"
   },
   {
    "duration": 61,
    "start_time": "2022-05-31T06:41:05.960Z"
   },
   {
    "duration": 70,
    "start_time": "2022-05-31T06:41:06.024Z"
   },
   {
    "duration": 149,
    "start_time": "2022-05-31T06:41:06.098Z"
   },
   {
    "duration": 61,
    "start_time": "2022-05-31T06:41:06.249Z"
   },
   {
    "duration": 47,
    "start_time": "2022-05-31T06:41:06.313Z"
   },
   {
    "duration": 58,
    "start_time": "2022-05-31T06:41:06.366Z"
   },
   {
    "duration": 83,
    "start_time": "2022-05-31T06:41:06.435Z"
   },
   {
    "duration": 75,
    "start_time": "2022-05-31T06:41:06.521Z"
   },
   {
    "duration": 19,
    "start_time": "2022-05-31T06:41:06.597Z"
   },
   {
    "duration": 52,
    "start_time": "2022-05-31T06:41:06.618Z"
   },
   {
    "duration": 24,
    "start_time": "2022-05-31T06:41:06.678Z"
   },
   {
    "duration": 13,
    "start_time": "2022-05-31T06:41:06.705Z"
   },
   {
    "duration": 25,
    "start_time": "2022-05-31T06:41:06.720Z"
   },
   {
    "duration": 49,
    "start_time": "2022-05-31T06:41:06.749Z"
   },
   {
    "duration": 8,
    "start_time": "2022-05-31T06:41:06.800Z"
   },
   {
    "duration": 9,
    "start_time": "2022-05-31T06:41:06.810Z"
   },
   {
    "duration": 293,
    "start_time": "2022-05-31T06:41:06.822Z"
   },
   {
    "duration": 40,
    "start_time": "2022-05-31T06:41:07.117Z"
   },
   {
    "duration": 44,
    "start_time": "2022-05-31T06:41:07.163Z"
   },
   {
    "duration": 61,
    "start_time": "2022-05-31T06:41:07.210Z"
   },
   {
    "duration": 21,
    "start_time": "2022-05-31T06:41:07.280Z"
   },
   {
    "duration": 35,
    "start_time": "2022-05-31T06:41:07.303Z"
   },
   {
    "duration": 72,
    "start_time": "2022-05-31T06:41:07.340Z"
   },
   {
    "duration": 32,
    "start_time": "2022-05-31T06:41:07.414Z"
   },
   {
    "duration": 73,
    "start_time": "2022-05-31T06:41:07.448Z"
   },
   {
    "duration": 36,
    "start_time": "2022-05-31T06:41:07.523Z"
   },
   {
    "duration": 21,
    "start_time": "2022-05-31T06:41:32.093Z"
   },
   {
    "duration": 8,
    "start_time": "2022-05-31T06:41:33.301Z"
   },
   {
    "duration": 756,
    "start_time": "2022-05-31T06:42:28.581Z"
   },
   {
    "duration": 799,
    "start_time": "2022-05-31T06:42:37.580Z"
   },
   {
    "duration": 636,
    "start_time": "2022-05-31T06:44:32.965Z"
   },
   {
    "duration": 582,
    "start_time": "2022-05-31T06:45:22.218Z"
   },
   {
    "duration": 508,
    "start_time": "2022-05-31T06:45:38.489Z"
   },
   {
    "duration": 813,
    "start_time": "2022-05-31T06:45:48.897Z"
   },
   {
    "duration": 595,
    "start_time": "2022-05-31T06:46:02.216Z"
   },
   {
    "duration": 530,
    "start_time": "2022-05-31T06:46:07.419Z"
   },
   {
    "duration": 807,
    "start_time": "2022-05-31T06:46:14.408Z"
   },
   {
    "duration": 53,
    "start_time": "2022-05-31T20:31:53.227Z"
   },
   {
    "duration": 1106,
    "start_time": "2022-05-31T20:32:01.405Z"
   },
   {
    "duration": 4,
    "start_time": "2022-05-31T20:32:02.512Z"
   },
   {
    "duration": 422,
    "start_time": "2022-05-31T20:32:02.517Z"
   },
   {
    "duration": 21,
    "start_time": "2022-05-31T20:32:02.941Z"
   },
   {
    "duration": 6,
    "start_time": "2022-05-31T20:32:02.964Z"
   },
   {
    "duration": 8,
    "start_time": "2022-05-31T20:32:02.971Z"
   },
   {
    "duration": 5,
    "start_time": "2022-05-31T20:32:02.980Z"
   },
   {
    "duration": 6,
    "start_time": "2022-05-31T20:32:02.986Z"
   },
   {
    "duration": 44,
    "start_time": "2022-05-31T20:32:02.994Z"
   },
   {
    "duration": 5,
    "start_time": "2022-05-31T20:32:03.040Z"
   },
   {
    "duration": 28,
    "start_time": "2022-05-31T20:32:03.046Z"
   },
   {
    "duration": 53,
    "start_time": "2022-05-31T20:32:03.075Z"
   },
   {
    "duration": 5,
    "start_time": "2022-05-31T20:32:03.130Z"
   },
   {
    "duration": 20,
    "start_time": "2022-05-31T20:32:03.137Z"
   },
   {
    "duration": 31,
    "start_time": "2022-05-31T20:32:03.158Z"
   },
   {
    "duration": 54,
    "start_time": "2022-05-31T20:32:03.190Z"
   },
   {
    "duration": 7,
    "start_time": "2022-05-31T20:32:03.245Z"
   },
   {
    "duration": 40,
    "start_time": "2022-05-31T20:32:03.254Z"
   },
   {
    "duration": 237,
    "start_time": "2022-05-31T20:32:03.295Z"
   },
   {
    "duration": 296,
    "start_time": "2022-05-31T20:32:03.534Z"
   },
   {
    "duration": 300,
    "start_time": "2022-05-31T20:32:03.833Z"
   },
   {
    "duration": 12,
    "start_time": "2022-05-31T20:32:04.134Z"
   },
   {
    "duration": 14,
    "start_time": "2022-05-31T20:32:04.147Z"
   },
   {
    "duration": 6,
    "start_time": "2022-05-31T20:32:04.163Z"
   },
   {
    "duration": 249,
    "start_time": "2022-05-31T20:32:04.170Z"
   },
   {
    "duration": 245,
    "start_time": "2022-05-31T20:32:04.421Z"
   },
   {
    "duration": 27,
    "start_time": "2022-05-31T20:32:04.668Z"
   },
   {
    "duration": 111,
    "start_time": "2022-05-31T20:32:04.699Z"
   },
   {
    "duration": 16,
    "start_time": "2022-05-31T20:32:04.812Z"
   },
   {
    "duration": 20,
    "start_time": "2022-05-31T20:32:04.830Z"
   },
   {
    "duration": 12,
    "start_time": "2022-05-31T20:32:04.852Z"
   },
   {
    "duration": 9,
    "start_time": "2022-05-31T20:32:04.865Z"
   },
   {
    "duration": 26,
    "start_time": "2022-05-31T20:32:04.875Z"
   },
   {
    "duration": 41,
    "start_time": "2022-05-31T20:32:04.903Z"
   },
   {
    "duration": 36,
    "start_time": "2022-05-31T20:32:04.946Z"
   },
   {
    "duration": 4,
    "start_time": "2022-05-31T20:32:04.984Z"
   },
   {
    "duration": 38,
    "start_time": "2022-05-31T20:32:04.989Z"
   },
   {
    "duration": 30,
    "start_time": "2022-05-31T20:32:05.028Z"
   },
   {
    "duration": 3,
    "start_time": "2022-05-31T20:32:05.060Z"
   },
   {
    "duration": 14,
    "start_time": "2022-05-31T20:32:05.064Z"
   },
   {
    "duration": 17,
    "start_time": "2022-05-31T20:32:05.079Z"
   },
   {
    "duration": 41,
    "start_time": "2022-05-31T20:32:05.098Z"
   },
   {
    "duration": 10,
    "start_time": "2022-05-31T20:32:05.141Z"
   },
   {
    "duration": 18,
    "start_time": "2022-05-31T20:32:05.153Z"
   },
   {
    "duration": 16,
    "start_time": "2022-05-31T20:32:05.173Z"
   },
   {
    "duration": 4,
    "start_time": "2022-05-31T20:32:05.190Z"
   },
   {
    "duration": 33,
    "start_time": "2022-05-31T20:32:05.195Z"
   },
   {
    "duration": 3,
    "start_time": "2022-05-31T20:32:05.229Z"
   },
   {
    "duration": 14,
    "start_time": "2022-05-31T20:32:05.234Z"
   },
   {
    "duration": 8,
    "start_time": "2022-05-31T20:32:05.249Z"
   },
   {
    "duration": 12,
    "start_time": "2022-05-31T20:32:05.259Z"
   },
   {
    "duration": 20,
    "start_time": "2022-05-31T20:32:05.272Z"
   },
   {
    "duration": 13,
    "start_time": "2022-05-31T20:32:05.293Z"
   },
   {
    "duration": 24,
    "start_time": "2022-05-31T20:32:05.307Z"
   },
   {
    "duration": 6,
    "start_time": "2022-05-31T20:32:05.332Z"
   },
   {
    "duration": 15,
    "start_time": "2022-05-31T20:32:05.339Z"
   },
   {
    "duration": 105,
    "start_time": "2022-05-31T20:32:05.356Z"
   },
   {
    "duration": 0,
    "start_time": "2022-05-31T20:32:05.463Z"
   },
   {
    "duration": 0,
    "start_time": "2022-05-31T20:32:05.464Z"
   },
   {
    "duration": 0,
    "start_time": "2022-05-31T20:32:05.465Z"
   },
   {
    "duration": 0,
    "start_time": "2022-05-31T20:32:05.466Z"
   },
   {
    "duration": 0,
    "start_time": "2022-05-31T20:32:05.467Z"
   },
   {
    "duration": 0,
    "start_time": "2022-05-31T20:32:05.468Z"
   },
   {
    "duration": 0,
    "start_time": "2022-05-31T20:32:05.470Z"
   },
   {
    "duration": 0,
    "start_time": "2022-05-31T20:32:05.470Z"
   },
   {
    "duration": 0,
    "start_time": "2022-05-31T20:32:05.472Z"
   },
   {
    "duration": 0,
    "start_time": "2022-05-31T20:32:05.472Z"
   },
   {
    "duration": 0,
    "start_time": "2022-05-31T20:32:05.474Z"
   },
   {
    "duration": 0,
    "start_time": "2022-05-31T20:32:05.474Z"
   },
   {
    "duration": 0,
    "start_time": "2022-05-31T20:32:05.475Z"
   },
   {
    "duration": 0,
    "start_time": "2022-05-31T20:32:05.476Z"
   },
   {
    "duration": 0,
    "start_time": "2022-05-31T20:32:05.477Z"
   },
   {
    "duration": 0,
    "start_time": "2022-05-31T20:32:05.478Z"
   },
   {
    "duration": 0,
    "start_time": "2022-05-31T20:32:05.479Z"
   },
   {
    "duration": 0,
    "start_time": "2022-05-31T20:32:05.480Z"
   },
   {
    "duration": 0,
    "start_time": "2022-05-31T20:32:05.482Z"
   },
   {
    "duration": 0,
    "start_time": "2022-05-31T20:32:05.482Z"
   },
   {
    "duration": 0,
    "start_time": "2022-05-31T20:32:05.483Z"
   },
   {
    "duration": 0,
    "start_time": "2022-05-31T20:32:05.485Z"
   },
   {
    "duration": 0,
    "start_time": "2022-05-31T20:32:05.527Z"
   },
   {
    "duration": 0,
    "start_time": "2022-05-31T20:32:05.530Z"
   },
   {
    "duration": 0,
    "start_time": "2022-05-31T20:32:05.531Z"
   },
   {
    "duration": 0,
    "start_time": "2022-05-31T20:32:05.532Z"
   },
   {
    "duration": 0,
    "start_time": "2022-05-31T20:32:05.533Z"
   },
   {
    "duration": 0,
    "start_time": "2022-05-31T20:32:05.534Z"
   },
   {
    "duration": 0,
    "start_time": "2022-05-31T20:32:05.535Z"
   },
   {
    "duration": 0,
    "start_time": "2022-05-31T20:32:05.536Z"
   },
   {
    "duration": 0,
    "start_time": "2022-05-31T20:32:05.537Z"
   },
   {
    "duration": 0,
    "start_time": "2022-05-31T20:32:05.538Z"
   },
   {
    "duration": 0,
    "start_time": "2022-05-31T20:32:05.539Z"
   },
   {
    "duration": 0,
    "start_time": "2022-05-31T20:32:05.540Z"
   },
   {
    "duration": 0,
    "start_time": "2022-05-31T20:32:05.541Z"
   },
   {
    "duration": 0,
    "start_time": "2022-05-31T20:32:05.543Z"
   },
   {
    "duration": 0,
    "start_time": "2022-05-31T20:32:05.544Z"
   },
   {
    "duration": 12,
    "start_time": "2022-05-31T20:32:21.747Z"
   },
   {
    "duration": 6192,
    "start_time": "2022-05-31T20:32:27.680Z"
   },
   {
    "duration": 7,
    "start_time": "2022-05-31T20:32:46.665Z"
   },
   {
    "duration": 14,
    "start_time": "2022-05-31T20:33:11.921Z"
   },
   {
    "duration": 965,
    "start_time": "2022-05-31T20:35:39.237Z"
   },
   {
    "duration": 2,
    "start_time": "2022-05-31T20:35:40.204Z"
   },
   {
    "duration": 396,
    "start_time": "2022-05-31T20:35:40.208Z"
   },
   {
    "duration": 22,
    "start_time": "2022-05-31T20:35:40.606Z"
   },
   {
    "duration": 6,
    "start_time": "2022-05-31T20:35:40.629Z"
   },
   {
    "duration": 6,
    "start_time": "2022-05-31T20:35:40.636Z"
   },
   {
    "duration": 4,
    "start_time": "2022-05-31T20:35:40.643Z"
   },
   {
    "duration": 10,
    "start_time": "2022-05-31T20:35:40.649Z"
   },
   {
    "duration": 15,
    "start_time": "2022-05-31T20:35:40.661Z"
   },
   {
    "duration": 5,
    "start_time": "2022-05-31T20:35:40.678Z"
   },
   {
    "duration": 49,
    "start_time": "2022-05-31T20:35:40.684Z"
   },
   {
    "duration": 41,
    "start_time": "2022-05-31T20:35:40.735Z"
   },
   {
    "duration": 5,
    "start_time": "2022-05-31T20:35:40.777Z"
   },
   {
    "duration": 18,
    "start_time": "2022-05-31T20:35:40.784Z"
   },
   {
    "duration": 40,
    "start_time": "2022-05-31T20:35:40.803Z"
   },
   {
    "duration": 38,
    "start_time": "2022-05-31T20:35:40.845Z"
   },
   {
    "duration": 5,
    "start_time": "2022-05-31T20:35:40.885Z"
   },
   {
    "duration": 38,
    "start_time": "2022-05-31T20:35:40.891Z"
   },
   {
    "duration": 225,
    "start_time": "2022-05-31T20:35:40.931Z"
   },
   {
    "duration": 281,
    "start_time": "2022-05-31T20:35:41.158Z"
   },
   {
    "duration": 257,
    "start_time": "2022-05-31T20:35:41.441Z"
   },
   {
    "duration": 12,
    "start_time": "2022-05-31T20:35:41.700Z"
   },
   {
    "duration": 26,
    "start_time": "2022-05-31T20:35:41.713Z"
   },
   {
    "duration": 6,
    "start_time": "2022-05-31T20:35:41.740Z"
   },
   {
    "duration": 220,
    "start_time": "2022-05-31T20:35:41.747Z"
   },
   {
    "duration": 241,
    "start_time": "2022-05-31T20:35:41.969Z"
   },
   {
    "duration": 36,
    "start_time": "2022-05-31T20:35:42.212Z"
   },
   {
    "duration": 98,
    "start_time": "2022-05-31T20:35:42.253Z"
   },
   {
    "duration": 7,
    "start_time": "2022-05-31T20:35:42.353Z"
   },
   {
    "duration": 19,
    "start_time": "2022-05-31T20:35:42.361Z"
   },
   {
    "duration": 7,
    "start_time": "2022-05-31T20:35:42.382Z"
   },
   {
    "duration": 8,
    "start_time": "2022-05-31T20:35:42.390Z"
   },
   {
    "duration": 45,
    "start_time": "2022-05-31T20:35:42.399Z"
   },
   {
    "duration": 23,
    "start_time": "2022-05-31T20:35:42.446Z"
   },
   {
    "duration": 34,
    "start_time": "2022-05-31T20:35:42.470Z"
   },
   {
    "duration": 3,
    "start_time": "2022-05-31T20:35:42.506Z"
   },
   {
    "duration": 36,
    "start_time": "2022-05-31T20:35:42.510Z"
   },
   {
    "duration": 27,
    "start_time": "2022-05-31T20:35:42.547Z"
   },
   {
    "duration": 3,
    "start_time": "2022-05-31T20:35:42.575Z"
   },
   {
    "duration": 14,
    "start_time": "2022-05-31T20:35:42.579Z"
   },
   {
    "duration": 36,
    "start_time": "2022-05-31T20:35:42.594Z"
   },
   {
    "duration": 20,
    "start_time": "2022-05-31T20:35:42.632Z"
   },
   {
    "duration": 10,
    "start_time": "2022-05-31T20:35:42.653Z"
   },
   {
    "duration": 16,
    "start_time": "2022-05-31T20:35:42.665Z"
   },
   {
    "duration": 14,
    "start_time": "2022-05-31T20:35:42.682Z"
   },
   {
    "duration": 4,
    "start_time": "2022-05-31T20:35:42.698Z"
   },
   {
    "duration": 34,
    "start_time": "2022-05-31T20:35:42.703Z"
   },
   {
    "duration": 5,
    "start_time": "2022-05-31T20:35:42.739Z"
   },
   {
    "duration": 12,
    "start_time": "2022-05-31T20:35:42.746Z"
   },
   {
    "duration": 8,
    "start_time": "2022-05-31T20:35:42.759Z"
   },
   {
    "duration": 10,
    "start_time": "2022-05-31T20:35:42.769Z"
   },
   {
    "duration": 10,
    "start_time": "2022-05-31T20:35:42.781Z"
   },
   {
    "duration": 40,
    "start_time": "2022-05-31T20:35:42.792Z"
   },
   {
    "duration": 8,
    "start_time": "2022-05-31T20:35:42.833Z"
   },
   {
    "duration": 3,
    "start_time": "2022-05-31T20:35:42.842Z"
   },
   {
    "duration": 14,
    "start_time": "2022-05-31T20:35:42.846Z"
   },
   {
    "duration": 15,
    "start_time": "2022-05-31T20:35:42.862Z"
   },
   {
    "duration": 6,
    "start_time": "2022-05-31T20:35:42.878Z"
   },
   {
    "duration": 7,
    "start_time": "2022-05-31T20:35:42.885Z"
   },
   {
    "duration": 7,
    "start_time": "2022-05-31T20:35:42.893Z"
   },
   {
    "duration": 6,
    "start_time": "2022-05-31T20:35:42.927Z"
   },
   {
    "duration": 14,
    "start_time": "2022-05-31T20:35:42.934Z"
   },
   {
    "duration": 6,
    "start_time": "2022-05-31T20:35:42.949Z"
   },
   {
    "duration": 7,
    "start_time": "2022-05-31T20:35:42.956Z"
   },
   {
    "duration": 7,
    "start_time": "2022-05-31T20:35:42.964Z"
   },
   {
    "duration": 165,
    "start_time": "2022-05-31T20:35:42.972Z"
   },
   {
    "duration": 5,
    "start_time": "2022-05-31T20:35:43.139Z"
   },
   {
    "duration": 10,
    "start_time": "2022-05-31T20:35:43.145Z"
   },
   {
    "duration": 18,
    "start_time": "2022-05-31T20:35:43.156Z"
   },
   {
    "duration": 4,
    "start_time": "2022-05-31T20:35:43.175Z"
   },
   {
    "duration": 16,
    "start_time": "2022-05-31T20:35:43.180Z"
   },
   {
    "duration": 9,
    "start_time": "2022-05-31T20:35:43.197Z"
   },
   {
    "duration": 17,
    "start_time": "2022-05-31T20:35:43.226Z"
   },
   {
    "duration": 28,
    "start_time": "2022-05-31T20:35:43.244Z"
   },
   {
    "duration": 20,
    "start_time": "2022-05-31T20:35:43.274Z"
   },
   {
    "duration": 31,
    "start_time": "2022-05-31T20:35:43.296Z"
   },
   {
    "duration": 359,
    "start_time": "2022-05-31T20:35:43.329Z"
   },
   {
    "duration": 10,
    "start_time": "2022-05-31T20:35:43.689Z"
   },
   {
    "duration": 8,
    "start_time": "2022-05-31T20:35:43.700Z"
   },
   {
    "duration": 492,
    "start_time": "2022-05-31T20:35:43.710Z"
   },
   {
    "duration": 9,
    "start_time": "2022-05-31T20:35:44.204Z"
   },
   {
    "duration": 9,
    "start_time": "2022-05-31T20:35:44.228Z"
   },
   {
    "duration": 356,
    "start_time": "2022-05-31T20:35:44.239Z"
   },
   {
    "duration": 10,
    "start_time": "2022-05-31T20:35:44.597Z"
   },
   {
    "duration": 22,
    "start_time": "2022-05-31T20:35:44.609Z"
   },
   {
    "duration": 8,
    "start_time": "2022-05-31T20:35:44.633Z"
   },
   {
    "duration": 385,
    "start_time": "2022-05-31T20:35:44.642Z"
   },
   {
    "duration": 11,
    "start_time": "2022-05-31T20:35:45.029Z"
   },
   {
    "duration": 13,
    "start_time": "2022-05-31T20:35:45.041Z"
   },
   {
    "duration": 7,
    "start_time": "2022-05-31T20:35:45.055Z"
   },
   {
    "duration": 8,
    "start_time": "2022-05-31T20:35:45.064Z"
   },
   {
    "duration": 14,
    "start_time": "2022-05-31T20:35:45.073Z"
   },
   {
    "duration": 9,
    "start_time": "2022-05-31T20:35:45.088Z"
   },
   {
    "duration": 8,
    "start_time": "2022-05-31T20:35:45.098Z"
   },
   {
    "duration": 1097,
    "start_time": "2022-05-31T20:39:35.903Z"
   },
   {
    "duration": 2,
    "start_time": "2022-05-31T20:39:37.002Z"
   },
   {
    "duration": 406,
    "start_time": "2022-05-31T20:39:37.006Z"
   },
   {
    "duration": 22,
    "start_time": "2022-05-31T20:39:37.414Z"
   },
   {
    "duration": 6,
    "start_time": "2022-05-31T20:39:37.438Z"
   },
   {
    "duration": 6,
    "start_time": "2022-05-31T20:39:37.446Z"
   },
   {
    "duration": 4,
    "start_time": "2022-05-31T20:39:37.454Z"
   },
   {
    "duration": 7,
    "start_time": "2022-05-31T20:39:37.459Z"
   },
   {
    "duration": 17,
    "start_time": "2022-05-31T20:39:37.467Z"
   },
   {
    "duration": 6,
    "start_time": "2022-05-31T20:39:37.487Z"
   },
   {
    "duration": 25,
    "start_time": "2022-05-31T20:39:37.527Z"
   },
   {
    "duration": 38,
    "start_time": "2022-05-31T20:39:37.553Z"
   },
   {
    "duration": 5,
    "start_time": "2022-05-31T20:39:37.592Z"
   },
   {
    "duration": 33,
    "start_time": "2022-05-31T20:39:37.599Z"
   },
   {
    "duration": 24,
    "start_time": "2022-05-31T20:39:37.633Z"
   },
   {
    "duration": 38,
    "start_time": "2022-05-31T20:39:37.659Z"
   },
   {
    "duration": 5,
    "start_time": "2022-05-31T20:39:37.698Z"
   },
   {
    "duration": 15,
    "start_time": "2022-05-31T20:39:37.726Z"
   },
   {
    "duration": 236,
    "start_time": "2022-05-31T20:39:37.742Z"
   },
   {
    "duration": 284,
    "start_time": "2022-05-31T20:39:37.979Z"
   },
   {
    "duration": 263,
    "start_time": "2022-05-31T20:39:38.265Z"
   },
   {
    "duration": 13,
    "start_time": "2022-05-31T20:39:38.530Z"
   },
   {
    "duration": 15,
    "start_time": "2022-05-31T20:39:38.545Z"
   },
   {
    "duration": 5,
    "start_time": "2022-05-31T20:39:38.561Z"
   },
   {
    "duration": 245,
    "start_time": "2022-05-31T20:39:38.567Z"
   },
   {
    "duration": 246,
    "start_time": "2022-05-31T20:39:38.813Z"
   },
   {
    "duration": 26,
    "start_time": "2022-05-31T20:39:39.060Z"
   },
   {
    "duration": 105,
    "start_time": "2022-05-31T20:39:39.090Z"
   },
   {
    "duration": 6,
    "start_time": "2022-05-31T20:39:39.197Z"
   },
   {
    "duration": 32,
    "start_time": "2022-05-31T20:39:39.204Z"
   },
   {
    "duration": 10,
    "start_time": "2022-05-31T20:39:39.238Z"
   },
   {
    "duration": 8,
    "start_time": "2022-05-31T20:39:39.250Z"
   },
   {
    "duration": 37,
    "start_time": "2022-05-31T20:39:39.260Z"
   },
   {
    "duration": 42,
    "start_time": "2022-05-31T20:39:39.298Z"
   },
   {
    "duration": 35,
    "start_time": "2022-05-31T20:39:39.342Z"
   },
   {
    "duration": 4,
    "start_time": "2022-05-31T20:39:39.379Z"
   },
   {
    "duration": 26,
    "start_time": "2022-05-31T20:39:39.385Z"
   },
   {
    "duration": 39,
    "start_time": "2022-05-31T20:39:39.412Z"
   },
   {
    "duration": 3,
    "start_time": "2022-05-31T20:39:39.452Z"
   },
   {
    "duration": 12,
    "start_time": "2022-05-31T20:39:39.457Z"
   },
   {
    "duration": 15,
    "start_time": "2022-05-31T20:39:39.470Z"
   },
   {
    "duration": 45,
    "start_time": "2022-05-31T20:39:39.486Z"
   },
   {
    "duration": 11,
    "start_time": "2022-05-31T20:39:39.533Z"
   },
   {
    "duration": 15,
    "start_time": "2022-05-31T20:39:39.546Z"
   },
   {
    "duration": 16,
    "start_time": "2022-05-31T20:39:39.563Z"
   },
   {
    "duration": 4,
    "start_time": "2022-05-31T20:39:39.580Z"
   },
   {
    "duration": 13,
    "start_time": "2022-05-31T20:39:39.585Z"
   },
   {
    "duration": 30,
    "start_time": "2022-05-31T20:39:39.599Z"
   },
   {
    "duration": 12,
    "start_time": "2022-05-31T20:39:39.631Z"
   },
   {
    "duration": 10,
    "start_time": "2022-05-31T20:39:39.644Z"
   },
   {
    "duration": 12,
    "start_time": "2022-05-31T20:39:39.655Z"
   },
   {
    "duration": 10,
    "start_time": "2022-05-31T20:39:39.669Z"
   },
   {
    "duration": 11,
    "start_time": "2022-05-31T20:39:39.680Z"
   },
   {
    "duration": 39,
    "start_time": "2022-05-31T20:39:39.693Z"
   },
   {
    "duration": 5,
    "start_time": "2022-05-31T20:39:39.733Z"
   },
   {
    "duration": 37,
    "start_time": "2022-05-31T20:39:39.739Z"
   },
   {
    "duration": 14,
    "start_time": "2022-05-31T20:39:39.778Z"
   },
   {
    "duration": 6,
    "start_time": "2022-05-31T20:39:39.793Z"
   },
   {
    "duration": 11,
    "start_time": "2022-05-31T20:39:39.800Z"
   },
   {
    "duration": 8,
    "start_time": "2022-05-31T20:39:39.812Z"
   },
   {
    "duration": 9,
    "start_time": "2022-05-31T20:39:39.821Z"
   },
   {
    "duration": 11,
    "start_time": "2022-05-31T20:39:39.832Z"
   },
   {
    "duration": 6,
    "start_time": "2022-05-31T20:39:39.844Z"
   },
   {
    "duration": 8,
    "start_time": "2022-05-31T20:39:39.851Z"
   },
   {
    "duration": 7,
    "start_time": "2022-05-31T20:39:39.861Z"
   },
   {
    "duration": 164,
    "start_time": "2022-05-31T20:39:39.869Z"
   },
   {
    "duration": 6,
    "start_time": "2022-05-31T20:39:40.034Z"
   },
   {
    "duration": 12,
    "start_time": "2022-05-31T20:39:40.042Z"
   },
   {
    "duration": 17,
    "start_time": "2022-05-31T20:39:40.056Z"
   },
   {
    "duration": 4,
    "start_time": "2022-05-31T20:39:40.074Z"
   },
   {
    "duration": 16,
    "start_time": "2022-05-31T20:39:40.079Z"
   },
   {
    "duration": 31,
    "start_time": "2022-05-31T20:39:40.097Z"
   },
   {
    "duration": 19,
    "start_time": "2022-05-31T20:39:40.130Z"
   },
   {
    "duration": 21,
    "start_time": "2022-05-31T20:39:40.151Z"
   },
   {
    "duration": 13,
    "start_time": "2022-05-31T20:39:40.174Z"
   },
   {
    "duration": 7,
    "start_time": "2022-05-31T20:39:40.188Z"
   },
   {
    "duration": 402,
    "start_time": "2022-05-31T20:39:40.196Z"
   },
   {
    "duration": 11,
    "start_time": "2022-05-31T20:39:40.599Z"
   },
   {
    "duration": 22,
    "start_time": "2022-05-31T20:39:40.611Z"
   },
   {
    "duration": 461,
    "start_time": "2022-05-31T20:39:40.634Z"
   },
   {
    "duration": 9,
    "start_time": "2022-05-31T20:39:41.097Z"
   },
   {
    "duration": 21,
    "start_time": "2022-05-31T20:39:41.111Z"
   },
   {
    "duration": 370,
    "start_time": "2022-05-31T20:39:41.133Z"
   },
   {
    "duration": 9,
    "start_time": "2022-05-31T20:39:41.505Z"
   },
   {
    "duration": 9,
    "start_time": "2022-05-31T20:39:41.527Z"
   },
   {
    "duration": 8,
    "start_time": "2022-05-31T20:39:41.538Z"
   },
   {
    "duration": 377,
    "start_time": "2022-05-31T20:39:41.547Z"
   },
   {
    "duration": 10,
    "start_time": "2022-05-31T20:39:41.925Z"
   },
   {
    "duration": 17,
    "start_time": "2022-05-31T20:39:41.936Z"
   },
   {
    "duration": 7,
    "start_time": "2022-05-31T20:39:41.954Z"
   },
   {
    "duration": 7,
    "start_time": "2022-05-31T20:39:41.962Z"
   },
   {
    "duration": 9,
    "start_time": "2022-05-31T20:39:41.970Z"
   },
   {
    "duration": 7,
    "start_time": "2022-05-31T20:39:41.980Z"
   },
   {
    "duration": 124,
    "start_time": "2022-05-31T20:39:41.988Z"
   },
   {
    "duration": 0,
    "start_time": "2022-05-31T20:39:42.113Z"
   },
   {
    "duration": 10,
    "start_time": "2022-05-31T20:40:10.554Z"
   },
   {
    "duration": 1437,
    "start_time": "2022-06-02T08:44:00.564Z"
   },
   {
    "duration": 3,
    "start_time": "2022-06-02T08:44:02.004Z"
   },
   {
    "duration": 1035,
    "start_time": "2022-06-02T08:44:02.009Z"
   },
   {
    "duration": 25,
    "start_time": "2022-06-02T08:44:03.046Z"
   },
   {
    "duration": 7,
    "start_time": "2022-06-02T08:44:03.073Z"
   },
   {
    "duration": 8,
    "start_time": "2022-06-02T08:44:03.082Z"
   },
   {
    "duration": 8,
    "start_time": "2022-06-02T08:44:03.092Z"
   },
   {
    "duration": 10,
    "start_time": "2022-06-02T08:44:03.102Z"
   },
   {
    "duration": 21,
    "start_time": "2022-06-02T08:44:03.114Z"
   },
   {
    "duration": 4,
    "start_time": "2022-06-02T08:44:03.154Z"
   },
   {
    "duration": 41,
    "start_time": "2022-06-02T08:44:03.160Z"
   },
   {
    "duration": 43,
    "start_time": "2022-06-02T08:44:03.202Z"
   },
   {
    "duration": 10,
    "start_time": "2022-06-02T08:44:03.246Z"
   },
   {
    "duration": 13,
    "start_time": "2022-06-02T08:44:03.258Z"
   },
   {
    "duration": 30,
    "start_time": "2022-06-02T08:44:03.273Z"
   },
   {
    "duration": 60,
    "start_time": "2022-06-02T08:44:03.305Z"
   },
   {
    "duration": 6,
    "start_time": "2022-06-02T08:44:03.367Z"
   },
   {
    "duration": 18,
    "start_time": "2022-06-02T08:44:03.374Z"
   },
   {
    "duration": 263,
    "start_time": "2022-06-02T08:44:03.393Z"
   },
   {
    "duration": 291,
    "start_time": "2022-06-02T08:44:03.657Z"
   },
   {
    "duration": 263,
    "start_time": "2022-06-02T08:44:03.949Z"
   },
   {
    "duration": 12,
    "start_time": "2022-06-02T08:44:04.214Z"
   },
   {
    "duration": 32,
    "start_time": "2022-06-02T08:44:04.227Z"
   },
   {
    "duration": 5,
    "start_time": "2022-06-02T08:44:04.261Z"
   },
   {
    "duration": 226,
    "start_time": "2022-06-02T08:44:04.268Z"
   },
   {
    "duration": 252,
    "start_time": "2022-06-02T08:44:04.495Z"
   },
   {
    "duration": 29,
    "start_time": "2022-06-02T08:44:04.754Z"
   },
   {
    "duration": 110,
    "start_time": "2022-06-02T08:44:04.786Z"
   },
   {
    "duration": 7,
    "start_time": "2022-06-02T08:44:04.897Z"
   },
   {
    "duration": 19,
    "start_time": "2022-06-02T08:44:04.905Z"
   },
   {
    "duration": 7,
    "start_time": "2022-06-02T08:44:04.925Z"
   },
   {
    "duration": 26,
    "start_time": "2022-06-02T08:44:04.934Z"
   },
   {
    "duration": 26,
    "start_time": "2022-06-02T08:44:04.961Z"
   },
   {
    "duration": 26,
    "start_time": "2022-06-02T08:44:04.989Z"
   },
   {
    "duration": 56,
    "start_time": "2022-06-02T08:44:05.017Z"
   },
   {
    "duration": 4,
    "start_time": "2022-06-02T08:44:05.075Z"
   },
   {
    "duration": 25,
    "start_time": "2022-06-02T08:44:05.080Z"
   },
   {
    "duration": 47,
    "start_time": "2022-06-02T08:44:05.107Z"
   },
   {
    "duration": 3,
    "start_time": "2022-06-02T08:44:05.156Z"
   },
   {
    "duration": 18,
    "start_time": "2022-06-02T08:44:05.161Z"
   },
   {
    "duration": 13,
    "start_time": "2022-06-02T08:44:05.180Z"
   },
   {
    "duration": 20,
    "start_time": "2022-06-02T08:44:05.195Z"
   },
   {
    "duration": 10,
    "start_time": "2022-06-02T08:44:05.216Z"
   },
   {
    "duration": 36,
    "start_time": "2022-06-02T08:44:05.227Z"
   },
   {
    "duration": 25,
    "start_time": "2022-06-02T08:44:05.265Z"
   },
   {
    "duration": 5,
    "start_time": "2022-06-02T08:44:05.291Z"
   },
   {
    "duration": 26,
    "start_time": "2022-06-02T08:44:05.298Z"
   },
   {
    "duration": 4,
    "start_time": "2022-06-02T08:44:05.326Z"
   },
   {
    "duration": 30,
    "start_time": "2022-06-02T08:44:05.332Z"
   },
   {
    "duration": 11,
    "start_time": "2022-06-02T08:44:05.363Z"
   },
   {
    "duration": 13,
    "start_time": "2022-06-02T08:44:05.375Z"
   },
   {
    "duration": 12,
    "start_time": "2022-06-02T08:44:05.389Z"
   },
   {
    "duration": 11,
    "start_time": "2022-06-02T08:44:05.402Z"
   },
   {
    "duration": 8,
    "start_time": "2022-06-02T08:44:05.415Z"
   },
   {
    "duration": 4,
    "start_time": "2022-06-02T08:44:05.454Z"
   },
   {
    "duration": 18,
    "start_time": "2022-06-02T08:44:05.460Z"
   },
   {
    "duration": 14,
    "start_time": "2022-06-02T08:44:05.479Z"
   },
   {
    "duration": 6,
    "start_time": "2022-06-02T08:44:05.495Z"
   },
   {
    "duration": 4,
    "start_time": "2022-06-02T08:44:37.287Z"
   },
   {
    "duration": 7,
    "start_time": "2022-06-02T08:44:46.775Z"
   },
   {
    "duration": 14,
    "start_time": "2022-06-02T08:44:49.111Z"
   },
   {
    "duration": 5,
    "start_time": "2022-06-02T08:44:57.255Z"
   },
   {
    "duration": 4,
    "start_time": "2022-06-02T08:44:57.799Z"
   },
   {
    "duration": 3,
    "start_time": "2022-06-02T08:44:58.286Z"
   },
   {
    "duration": 176,
    "start_time": "2022-06-02T08:44:59.725Z"
   },
   {
    "duration": 15,
    "start_time": "2022-06-02T08:45:26.542Z"
   },
   {
    "duration": 5,
    "start_time": "2022-06-02T08:45:36.602Z"
   },
   {
    "duration": 15,
    "start_time": "2022-06-02T08:45:41.854Z"
   },
   {
    "duration": 12,
    "start_time": "2022-06-02T08:45:46.292Z"
   },
   {
    "duration": 16,
    "start_time": "2022-06-02T08:45:59.727Z"
   },
   {
    "duration": 30,
    "start_time": "2022-06-02T08:46:05.135Z"
   },
   {
    "duration": 3,
    "start_time": "2022-06-02T08:46:39.281Z"
   },
   {
    "duration": 10,
    "start_time": "2022-06-02T08:46:39.287Z"
   },
   {
    "duration": 410,
    "start_time": "2022-06-02T08:46:39.299Z"
   },
   {
    "duration": 21,
    "start_time": "2022-06-02T08:46:39.711Z"
   },
   {
    "duration": 21,
    "start_time": "2022-06-02T08:46:39.735Z"
   },
   {
    "duration": 7,
    "start_time": "2022-06-02T08:46:39.758Z"
   },
   {
    "duration": 7,
    "start_time": "2022-06-02T08:46:39.767Z"
   },
   {
    "duration": 6,
    "start_time": "2022-06-02T08:46:39.776Z"
   },
   {
    "duration": 16,
    "start_time": "2022-06-02T08:46:39.784Z"
   },
   {
    "duration": 5,
    "start_time": "2022-06-02T08:46:39.801Z"
   },
   {
    "duration": 49,
    "start_time": "2022-06-02T08:46:39.808Z"
   },
   {
    "duration": 52,
    "start_time": "2022-06-02T08:46:39.859Z"
   },
   {
    "duration": 6,
    "start_time": "2022-06-02T08:46:39.912Z"
   },
   {
    "duration": 14,
    "start_time": "2022-06-02T08:46:39.919Z"
   },
   {
    "duration": 56,
    "start_time": "2022-06-02T08:46:39.934Z"
   },
   {
    "duration": 63,
    "start_time": "2022-06-02T08:46:39.992Z"
   },
   {
    "duration": 6,
    "start_time": "2022-06-02T08:46:40.056Z"
   },
   {
    "duration": 21,
    "start_time": "2022-06-02T08:46:40.063Z"
   },
   {
    "duration": 247,
    "start_time": "2022-06-02T08:46:40.086Z"
   },
   {
    "duration": 258,
    "start_time": "2022-06-02T08:46:40.335Z"
   },
   {
    "duration": 278,
    "start_time": "2022-06-02T08:46:40.594Z"
   },
   {
    "duration": 13,
    "start_time": "2022-06-02T08:46:40.873Z"
   },
   {
    "duration": 14,
    "start_time": "2022-06-02T08:46:40.888Z"
   },
   {
    "duration": 7,
    "start_time": "2022-06-02T08:46:40.904Z"
   },
   {
    "duration": 352,
    "start_time": "2022-06-02T08:46:40.912Z"
   },
   {
    "duration": 311,
    "start_time": "2022-06-02T08:46:41.266Z"
   },
   {
    "duration": 47,
    "start_time": "2022-06-02T08:46:41.579Z"
   },
   {
    "duration": 129,
    "start_time": "2022-06-02T08:46:41.627Z"
   },
   {
    "duration": 6,
    "start_time": "2022-06-02T08:46:41.760Z"
   },
   {
    "duration": 22,
    "start_time": "2022-06-02T08:46:41.768Z"
   },
   {
    "duration": 9,
    "start_time": "2022-06-02T08:46:41.791Z"
   },
   {
    "duration": 7,
    "start_time": "2022-06-02T08:46:41.801Z"
   },
   {
    "duration": 47,
    "start_time": "2022-06-02T08:46:41.809Z"
   },
   {
    "duration": 39,
    "start_time": "2022-06-02T08:46:41.857Z"
   },
   {
    "duration": 69,
    "start_time": "2022-06-02T08:46:41.898Z"
   },
   {
    "duration": 4,
    "start_time": "2022-06-02T08:46:41.968Z"
   },
   {
    "duration": 23,
    "start_time": "2022-06-02T08:46:41.974Z"
   },
   {
    "duration": 23,
    "start_time": "2022-06-02T08:46:41.999Z"
   },
   {
    "duration": 30,
    "start_time": "2022-06-02T08:46:42.024Z"
   },
   {
    "duration": 13,
    "start_time": "2022-06-02T08:46:42.056Z"
   },
   {
    "duration": 19,
    "start_time": "2022-06-02T08:46:42.070Z"
   },
   {
    "duration": 21,
    "start_time": "2022-06-02T08:46:42.090Z"
   },
   {
    "duration": 10,
    "start_time": "2022-06-02T08:46:42.112Z"
   },
   {
    "duration": 44,
    "start_time": "2022-06-02T08:46:42.123Z"
   },
   {
    "duration": 16,
    "start_time": "2022-06-02T08:46:42.168Z"
   },
   {
    "duration": 4,
    "start_time": "2022-06-02T08:46:42.186Z"
   },
   {
    "duration": 13,
    "start_time": "2022-06-02T08:46:42.191Z"
   },
   {
    "duration": 5,
    "start_time": "2022-06-02T08:46:42.206Z"
   },
   {
    "duration": 43,
    "start_time": "2022-06-02T08:46:42.212Z"
   },
   {
    "duration": 12,
    "start_time": "2022-06-02T08:46:42.257Z"
   },
   {
    "duration": 23,
    "start_time": "2022-06-02T08:46:42.270Z"
   },
   {
    "duration": 10,
    "start_time": "2022-06-02T08:46:42.295Z"
   },
   {
    "duration": 11,
    "start_time": "2022-06-02T08:46:42.306Z"
   },
   {
    "duration": 8,
    "start_time": "2022-06-02T08:46:42.318Z"
   },
   {
    "duration": 4,
    "start_time": "2022-06-02T08:46:42.354Z"
   },
   {
    "duration": 15,
    "start_time": "2022-06-02T08:46:42.359Z"
   },
   {
    "duration": 13,
    "start_time": "2022-06-02T08:46:42.375Z"
   },
   {
    "duration": 9,
    "start_time": "2022-06-02T08:46:42.389Z"
   },
   {
    "duration": 14,
    "start_time": "2022-06-02T08:46:42.399Z"
   },
   {
    "duration": 9,
    "start_time": "2022-06-02T08:47:33.743Z"
   },
   {
    "duration": 17,
    "start_time": "2022-06-02T08:47:36.867Z"
   },
   {
    "duration": 4,
    "start_time": "2022-06-02T08:47:59.008Z"
   },
   {
    "duration": 14,
    "start_time": "2022-06-02T08:47:59.014Z"
   },
   {
    "duration": 518,
    "start_time": "2022-06-02T08:47:59.029Z"
   },
   {
    "duration": 18,
    "start_time": "2022-06-02T08:47:59.549Z"
   },
   {
    "duration": 7,
    "start_time": "2022-06-02T08:47:59.569Z"
   },
   {
    "duration": 7,
    "start_time": "2022-06-02T08:47:59.578Z"
   },
   {
    "duration": 13,
    "start_time": "2022-06-02T08:47:59.586Z"
   },
   {
    "duration": 19,
    "start_time": "2022-06-02T08:47:59.601Z"
   },
   {
    "duration": 38,
    "start_time": "2022-06-02T08:47:59.624Z"
   },
   {
    "duration": 7,
    "start_time": "2022-06-02T08:47:59.664Z"
   },
   {
    "duration": 46,
    "start_time": "2022-06-02T08:47:59.672Z"
   },
   {
    "duration": 64,
    "start_time": "2022-06-02T08:47:59.720Z"
   },
   {
    "duration": 9,
    "start_time": "2022-06-02T08:47:59.786Z"
   },
   {
    "duration": 19,
    "start_time": "2022-06-02T08:47:59.797Z"
   },
   {
    "duration": 70,
    "start_time": "2022-06-02T08:47:59.819Z"
   },
   {
    "duration": 64,
    "start_time": "2022-06-02T08:47:59.890Z"
   },
   {
    "duration": 7,
    "start_time": "2022-06-02T08:47:59.956Z"
   },
   {
    "duration": 21,
    "start_time": "2022-06-02T08:47:59.964Z"
   },
   {
    "duration": 299,
    "start_time": "2022-06-02T08:47:59.986Z"
   },
   {
    "duration": 313,
    "start_time": "2022-06-02T08:48:00.287Z"
   },
   {
    "duration": 373,
    "start_time": "2022-06-02T08:48:00.602Z"
   },
   {
    "duration": 17,
    "start_time": "2022-06-02T08:48:00.977Z"
   },
   {
    "duration": 21,
    "start_time": "2022-06-02T08:48:00.996Z"
   },
   {
    "duration": 32,
    "start_time": "2022-06-02T08:48:01.023Z"
   },
   {
    "duration": 269,
    "start_time": "2022-06-02T08:48:01.057Z"
   },
   {
    "duration": 436,
    "start_time": "2022-06-02T08:48:01.329Z"
   },
   {
    "duration": 47,
    "start_time": "2022-06-02T08:48:01.767Z"
   },
   {
    "duration": 187,
    "start_time": "2022-06-02T08:48:01.816Z"
   },
   {
    "duration": 9,
    "start_time": "2022-06-02T08:48:02.006Z"
   },
   {
    "duration": 23,
    "start_time": "2022-06-02T08:48:02.016Z"
   },
   {
    "duration": 21,
    "start_time": "2022-06-02T08:48:02.040Z"
   },
   {
    "duration": 22,
    "start_time": "2022-06-02T08:48:02.062Z"
   },
   {
    "duration": 35,
    "start_time": "2022-06-02T08:48:02.086Z"
   },
   {
    "duration": 29,
    "start_time": "2022-06-02T08:48:02.122Z"
   },
   {
    "duration": 69,
    "start_time": "2022-06-02T08:48:02.153Z"
   },
   {
    "duration": 4,
    "start_time": "2022-06-02T08:48:02.224Z"
   },
   {
    "duration": 28,
    "start_time": "2022-06-02T08:48:02.229Z"
   },
   {
    "duration": 39,
    "start_time": "2022-06-02T08:48:02.259Z"
   },
   {
    "duration": 3,
    "start_time": "2022-06-02T08:48:02.300Z"
   },
   {
    "duration": 14,
    "start_time": "2022-06-02T08:48:02.305Z"
   },
   {
    "duration": 17,
    "start_time": "2022-06-02T08:48:02.321Z"
   },
   {
    "duration": 35,
    "start_time": "2022-06-02T08:48:02.340Z"
   },
   {
    "duration": 11,
    "start_time": "2022-06-02T08:48:02.377Z"
   },
   {
    "duration": 20,
    "start_time": "2022-06-02T08:48:02.390Z"
   },
   {
    "duration": 16,
    "start_time": "2022-06-02T08:48:02.412Z"
   },
   {
    "duration": 5,
    "start_time": "2022-06-02T08:48:02.454Z"
   },
   {
    "duration": 18,
    "start_time": "2022-06-02T08:48:02.461Z"
   },
   {
    "duration": 7,
    "start_time": "2022-06-02T08:48:02.481Z"
   },
   {
    "duration": 22,
    "start_time": "2022-06-02T08:48:02.490Z"
   },
   {
    "duration": 22,
    "start_time": "2022-06-02T08:48:02.514Z"
   },
   {
    "duration": 27,
    "start_time": "2022-06-02T08:48:02.538Z"
   },
   {
    "duration": 14,
    "start_time": "2022-06-02T08:48:02.567Z"
   },
   {
    "duration": 18,
    "start_time": "2022-06-02T08:48:02.582Z"
   },
   {
    "duration": 8,
    "start_time": "2022-06-02T08:48:02.602Z"
   },
   {
    "duration": 8,
    "start_time": "2022-06-02T08:48:02.612Z"
   },
   {
    "duration": 49,
    "start_time": "2022-06-02T08:48:02.621Z"
   },
   {
    "duration": 18,
    "start_time": "2022-06-02T08:48:02.672Z"
   },
   {
    "duration": 10,
    "start_time": "2022-06-02T08:48:02.691Z"
   },
   {
    "duration": 4,
    "start_time": "2022-06-02T08:48:02.703Z"
   },
   {
    "duration": 12,
    "start_time": "2022-06-02T08:48:02.709Z"
   },
   {
    "duration": 19,
    "start_time": "2022-06-02T08:48:04.907Z"
   },
   {
    "duration": 4,
    "start_time": "2022-06-02T08:48:34.308Z"
   },
   {
    "duration": 109,
    "start_time": "2022-06-02T08:48:42.294Z"
   },
   {
    "duration": 15,
    "start_time": "2022-06-02T08:49:54.644Z"
   },
   {
    "duration": 16,
    "start_time": "2022-06-02T08:51:23.222Z"
   },
   {
    "duration": 19,
    "start_time": "2022-06-02T08:51:26.161Z"
   },
   {
    "duration": 19,
    "start_time": "2022-06-02T08:51:36.331Z"
   },
   {
    "duration": 5,
    "start_time": "2022-06-02T08:51:39.411Z"
   },
   {
    "duration": 18,
    "start_time": "2022-06-02T08:51:42.659Z"
   },
   {
    "duration": 7,
    "start_time": "2022-06-02T08:51:59.876Z"
   },
   {
    "duration": 14,
    "start_time": "2022-06-02T08:52:04.593Z"
   },
   {
    "duration": 16,
    "start_time": "2022-06-02T08:52:11.345Z"
   },
   {
    "duration": 5,
    "start_time": "2022-06-02T08:52:11.761Z"
   },
   {
    "duration": 4,
    "start_time": "2022-06-02T08:52:12.107Z"
   },
   {
    "duration": 4,
    "start_time": "2022-06-02T08:52:14.127Z"
   },
   {
    "duration": 172,
    "start_time": "2022-06-02T08:52:14.449Z"
   },
   {
    "duration": 22,
    "start_time": "2022-06-02T08:52:17.546Z"
   },
   {
    "duration": 4,
    "start_time": "2022-06-02T08:52:20.312Z"
   },
   {
    "duration": 15,
    "start_time": "2022-06-02T08:52:22.917Z"
   },
   {
    "duration": 10,
    "start_time": "2022-06-02T08:52:38.167Z"
   },
   {
    "duration": 19,
    "start_time": "2022-06-02T08:52:42.280Z"
   },
   {
    "duration": 25,
    "start_time": "2022-06-02T08:52:44.983Z"
   },
   {
    "duration": 14,
    "start_time": "2022-06-02T08:52:46.831Z"
   },
   {
    "duration": 7,
    "start_time": "2022-06-02T08:52:47.060Z"
   },
   {
    "duration": 541,
    "start_time": "2022-06-02T08:52:47.306Z"
   },
   {
    "duration": 10,
    "start_time": "2022-06-02T08:52:48.445Z"
   },
   {
    "duration": 10,
    "start_time": "2022-06-02T08:52:49.014Z"
   },
   {
    "duration": 463,
    "start_time": "2022-06-02T08:52:51.319Z"
   },
   {
    "duration": 11,
    "start_time": "2022-06-02T08:52:53.197Z"
   },
   {
    "duration": 10,
    "start_time": "2022-06-02T08:52:53.946Z"
   },
   {
    "duration": 383,
    "start_time": "2022-06-02T08:52:56.199Z"
   },
   {
    "duration": 12,
    "start_time": "2022-06-02T08:52:57.575Z"
   },
   {
    "duration": 11,
    "start_time": "2022-06-02T08:52:58.888Z"
   },
   {
    "duration": 8,
    "start_time": "2022-06-02T08:53:05.427Z"
   },
   {
    "duration": 551,
    "start_time": "2022-06-02T08:53:07.454Z"
   },
   {
    "duration": 10,
    "start_time": "2022-06-02T08:53:08.933Z"
   },
   {
    "duration": 14,
    "start_time": "2022-06-02T08:53:11.400Z"
   },
   {
    "duration": 11,
    "start_time": "2022-06-02T08:53:12.512Z"
   },
   {
    "duration": 4,
    "start_time": "2022-06-02T08:53:14.752Z"
   },
   {
    "duration": 11,
    "start_time": "2022-06-02T08:53:26.472Z"
   },
   {
    "duration": 12,
    "start_time": "2022-06-02T08:55:39.855Z"
   },
   {
    "duration": 13,
    "start_time": "2022-06-02T08:55:42.127Z"
   },
   {
    "duration": 37,
    "start_time": "2022-06-02T08:56:26.789Z"
   },
   {
    "duration": 4,
    "start_time": "2022-06-02T08:56:31.559Z"
   },
   {
    "duration": 8,
    "start_time": "2022-06-02T09:17:30.137Z"
   },
   {
    "duration": 3,
    "start_time": "2022-06-02T09:18:06.992Z"
   },
   {
    "duration": 9,
    "start_time": "2022-06-02T09:18:06.996Z"
   },
   {
    "duration": 431,
    "start_time": "2022-06-02T09:18:07.006Z"
   },
   {
    "duration": 19,
    "start_time": "2022-06-02T09:18:07.439Z"
   },
   {
    "duration": 6,
    "start_time": "2022-06-02T09:18:07.459Z"
   },
   {
    "duration": 6,
    "start_time": "2022-06-02T09:18:07.467Z"
   },
   {
    "duration": 12,
    "start_time": "2022-06-02T09:18:07.474Z"
   },
   {
    "duration": 13,
    "start_time": "2022-06-02T09:18:07.487Z"
   },
   {
    "duration": 27,
    "start_time": "2022-06-02T09:18:07.501Z"
   },
   {
    "duration": 4,
    "start_time": "2022-06-02T09:18:07.530Z"
   },
   {
    "duration": 34,
    "start_time": "2022-06-02T09:18:07.537Z"
   },
   {
    "duration": 49,
    "start_time": "2022-06-02T09:18:07.572Z"
   },
   {
    "duration": 5,
    "start_time": "2022-06-02T09:18:07.623Z"
   },
   {
    "duration": 43,
    "start_time": "2022-06-02T09:18:07.630Z"
   },
   {
    "duration": 26,
    "start_time": "2022-06-02T09:18:07.674Z"
   },
   {
    "duration": 59,
    "start_time": "2022-06-02T09:18:07.702Z"
   },
   {
    "duration": 6,
    "start_time": "2022-06-02T09:18:07.763Z"
   },
   {
    "duration": 19,
    "start_time": "2022-06-02T09:18:07.770Z"
   },
   {
    "duration": 264,
    "start_time": "2022-06-02T09:18:07.791Z"
   },
   {
    "duration": 265,
    "start_time": "2022-06-02T09:18:08.057Z"
   },
   {
    "duration": 289,
    "start_time": "2022-06-02T09:18:08.323Z"
   },
   {
    "duration": 12,
    "start_time": "2022-06-02T09:18:08.613Z"
   },
   {
    "duration": 27,
    "start_time": "2022-06-02T09:18:08.627Z"
   },
   {
    "duration": 6,
    "start_time": "2022-06-02T09:18:08.656Z"
   },
   {
    "duration": 251,
    "start_time": "2022-06-02T09:18:08.663Z"
   },
   {
    "duration": 281,
    "start_time": "2022-06-02T09:18:08.916Z"
   },
   {
    "duration": 33,
    "start_time": "2022-06-02T09:18:09.199Z"
   },
   {
    "duration": 110,
    "start_time": "2022-06-02T09:18:09.234Z"
   },
   {
    "duration": 6,
    "start_time": "2022-06-02T09:18:09.354Z"
   },
   {
    "duration": 25,
    "start_time": "2022-06-02T09:18:09.362Z"
   },
   {
    "duration": 10,
    "start_time": "2022-06-02T09:18:09.388Z"
   },
   {
    "duration": 14,
    "start_time": "2022-06-02T09:18:09.399Z"
   },
   {
    "duration": 31,
    "start_time": "2022-06-02T09:18:09.414Z"
   },
   {
    "duration": 26,
    "start_time": "2022-06-02T09:18:09.446Z"
   },
   {
    "duration": 38,
    "start_time": "2022-06-02T09:18:09.474Z"
   },
   {
    "duration": 5,
    "start_time": "2022-06-02T09:18:09.514Z"
   },
   {
    "duration": 41,
    "start_time": "2022-06-02T09:18:09.521Z"
   },
   {
    "duration": 30,
    "start_time": "2022-06-02T09:18:09.564Z"
   },
   {
    "duration": 3,
    "start_time": "2022-06-02T09:18:09.596Z"
   },
   {
    "duration": 16,
    "start_time": "2022-06-02T09:18:09.601Z"
   },
   {
    "duration": 14,
    "start_time": "2022-06-02T09:18:09.618Z"
   },
   {
    "duration": 39,
    "start_time": "2022-06-02T09:18:09.633Z"
   },
   {
    "duration": 11,
    "start_time": "2022-06-02T09:18:09.674Z"
   },
   {
    "duration": 17,
    "start_time": "2022-06-02T09:18:09.686Z"
   },
   {
    "duration": 17,
    "start_time": "2022-06-02T09:18:09.704Z"
   },
   {
    "duration": 3,
    "start_time": "2022-06-02T09:18:09.722Z"
   },
   {
    "duration": 34,
    "start_time": "2022-06-02T09:18:09.727Z"
   },
   {
    "duration": 3,
    "start_time": "2022-06-02T09:18:09.762Z"
   },
   {
    "duration": 12,
    "start_time": "2022-06-02T09:18:09.766Z"
   },
   {
    "duration": 10,
    "start_time": "2022-06-02T09:18:09.780Z"
   },
   {
    "duration": 13,
    "start_time": "2022-06-02T09:18:09.791Z"
   },
   {
    "duration": 10,
    "start_time": "2022-06-02T09:18:09.806Z"
   },
   {
    "duration": 37,
    "start_time": "2022-06-02T09:18:09.818Z"
   },
   {
    "duration": 7,
    "start_time": "2022-06-02T09:18:09.857Z"
   },
   {
    "duration": 3,
    "start_time": "2022-06-02T09:18:09.866Z"
   },
   {
    "duration": 19,
    "start_time": "2022-06-02T09:18:09.870Z"
   },
   {
    "duration": 14,
    "start_time": "2022-06-02T09:18:09.891Z"
   },
   {
    "duration": 6,
    "start_time": "2022-06-02T09:18:09.907Z"
   },
   {
    "duration": 4,
    "start_time": "2022-06-02T09:18:09.915Z"
   },
   {
    "duration": 38,
    "start_time": "2022-06-02T09:18:09.920Z"
   },
   {
    "duration": 13,
    "start_time": "2022-06-02T09:18:09.960Z"
   },
   {
    "duration": 5,
    "start_time": "2022-06-02T09:18:09.974Z"
   },
   {
    "duration": 6,
    "start_time": "2022-06-02T09:18:09.980Z"
   },
   {
    "duration": 14,
    "start_time": "2022-06-02T09:18:09.988Z"
   },
   {
    "duration": 9,
    "start_time": "2022-06-02T09:18:10.004Z"
   },
   {
    "duration": 8,
    "start_time": "2022-06-02T09:18:10.015Z"
   },
   {
    "duration": 30,
    "start_time": "2022-06-02T09:18:10.024Z"
   },
   {
    "duration": 169,
    "start_time": "2022-06-02T09:18:10.056Z"
   },
   {
    "duration": 14,
    "start_time": "2022-06-02T09:18:10.227Z"
   },
   {
    "duration": 14,
    "start_time": "2022-06-02T09:18:10.242Z"
   },
   {
    "duration": 17,
    "start_time": "2022-06-02T09:18:10.258Z"
   },
   {
    "duration": 8,
    "start_time": "2022-06-02T09:18:10.276Z"
   },
   {
    "duration": 19,
    "start_time": "2022-06-02T09:18:10.286Z"
   },
   {
    "duration": 22,
    "start_time": "2022-06-02T09:18:10.306Z"
   },
   {
    "duration": 36,
    "start_time": "2022-06-02T09:18:10.329Z"
   },
   {
    "duration": 5,
    "start_time": "2022-06-02T09:18:10.367Z"
   },
   {
    "duration": 519,
    "start_time": "2022-06-02T09:18:10.374Z"
   },
   {
    "duration": 9,
    "start_time": "2022-06-02T09:18:10.895Z"
   },
   {
    "duration": 8,
    "start_time": "2022-06-02T09:18:10.905Z"
   },
   {
    "duration": 451,
    "start_time": "2022-06-02T09:18:10.915Z"
   },
   {
    "duration": 13,
    "start_time": "2022-06-02T09:18:11.368Z"
   },
   {
    "duration": 11,
    "start_time": "2022-06-02T09:18:11.383Z"
   },
   {
    "duration": 713,
    "start_time": "2022-06-02T09:18:11.455Z"
   },
   {
    "duration": 9,
    "start_time": "2022-06-02T09:18:12.170Z"
   },
   {
    "duration": 10,
    "start_time": "2022-06-02T09:18:12.181Z"
   },
   {
    "duration": 9,
    "start_time": "2022-06-02T09:18:17.597Z"
   },
   {
    "duration": 368,
    "start_time": "2022-06-02T09:20:28.533Z"
   },
   {
    "duration": 10,
    "start_time": "2022-06-02T09:20:29.030Z"
   },
   {
    "duration": 9,
    "start_time": "2022-06-02T09:20:30.566Z"
   },
   {
    "duration": 7,
    "start_time": "2022-06-02T09:20:32.822Z"
   },
   {
    "duration": 4,
    "start_time": "2022-06-02T09:20:33.428Z"
   },
   {
    "duration": 8,
    "start_time": "2022-06-02T09:20:56.973Z"
   },
   {
    "duration": 3,
    "start_time": "2022-06-02T09:21:00.810Z"
   },
   {
    "duration": 8,
    "start_time": "2022-06-02T09:21:02.558Z"
   },
   {
    "duration": 9,
    "start_time": "2022-06-02T09:21:04.277Z"
   },
   {
    "duration": 1353,
    "start_time": "2022-06-02T09:54:56.143Z"
   },
   {
    "duration": 3,
    "start_time": "2022-06-02T09:54:57.499Z"
   },
   {
    "duration": 1061,
    "start_time": "2022-06-02T09:54:57.504Z"
   },
   {
    "duration": 23,
    "start_time": "2022-06-02T09:54:58.567Z"
   },
   {
    "duration": 7,
    "start_time": "2022-06-02T09:54:58.591Z"
   },
   {
    "duration": 8,
    "start_time": "2022-06-02T09:54:58.601Z"
   },
   {
    "duration": 30,
    "start_time": "2022-06-02T09:54:58.611Z"
   },
   {
    "duration": 14,
    "start_time": "2022-06-02T09:54:58.645Z"
   },
   {
    "duration": 27,
    "start_time": "2022-06-02T09:54:58.660Z"
   },
   {
    "duration": 7,
    "start_time": "2022-06-02T09:54:58.691Z"
   },
   {
    "duration": 37,
    "start_time": "2022-06-02T09:54:58.700Z"
   },
   {
    "duration": 45,
    "start_time": "2022-06-02T09:54:58.739Z"
   },
   {
    "duration": 8,
    "start_time": "2022-06-02T09:54:58.786Z"
   },
   {
    "duration": 41,
    "start_time": "2022-06-02T09:54:58.795Z"
   },
   {
    "duration": 35,
    "start_time": "2022-06-02T09:54:58.841Z"
   },
   {
    "duration": 61,
    "start_time": "2022-06-02T09:54:58.877Z"
   },
   {
    "duration": 8,
    "start_time": "2022-06-02T09:54:58.945Z"
   },
   {
    "duration": 19,
    "start_time": "2022-06-02T09:54:58.954Z"
   },
   {
    "duration": 302,
    "start_time": "2022-06-02T09:54:58.974Z"
   },
   {
    "duration": 393,
    "start_time": "2022-06-02T09:54:59.278Z"
   },
   {
    "duration": 339,
    "start_time": "2022-06-02T09:54:59.673Z"
   },
   {
    "duration": 36,
    "start_time": "2022-06-02T09:55:00.013Z"
   },
   {
    "duration": 28,
    "start_time": "2022-06-02T09:55:00.051Z"
   },
   {
    "duration": 6,
    "start_time": "2022-06-02T09:55:00.081Z"
   },
   {
    "duration": 291,
    "start_time": "2022-06-02T09:55:00.089Z"
   },
   {
    "duration": 316,
    "start_time": "2022-06-02T09:55:00.382Z"
   },
   {
    "duration": 53,
    "start_time": "2022-06-02T09:55:00.700Z"
   },
   {
    "duration": 115,
    "start_time": "2022-06-02T09:55:00.757Z"
   },
   {
    "duration": 8,
    "start_time": "2022-06-02T09:55:00.874Z"
   },
   {
    "duration": 26,
    "start_time": "2022-06-02T09:55:00.883Z"
   },
   {
    "duration": 33,
    "start_time": "2022-06-02T09:55:00.911Z"
   },
   {
    "duration": 27,
    "start_time": "2022-06-02T09:55:00.946Z"
   },
   {
    "duration": 45,
    "start_time": "2022-06-02T09:55:00.975Z"
   },
   {
    "duration": 35,
    "start_time": "2022-06-02T09:55:01.022Z"
   },
   {
    "duration": 40,
    "start_time": "2022-06-02T09:55:01.058Z"
   },
   {
    "duration": 26,
    "start_time": "2022-06-02T09:55:01.100Z"
   },
   {
    "duration": 35,
    "start_time": "2022-06-02T09:55:01.128Z"
   },
   {
    "duration": 36,
    "start_time": "2022-06-02T09:55:01.164Z"
   },
   {
    "duration": 3,
    "start_time": "2022-06-02T09:55:01.202Z"
   },
   {
    "duration": 30,
    "start_time": "2022-06-02T09:55:01.207Z"
   },
   {
    "duration": 29,
    "start_time": "2022-06-02T09:55:01.238Z"
   },
   {
    "duration": 22,
    "start_time": "2022-06-02T09:55:01.269Z"
   },
   {
    "duration": 11,
    "start_time": "2022-06-02T09:55:01.293Z"
   },
   {
    "duration": 44,
    "start_time": "2022-06-02T09:55:01.306Z"
   },
   {
    "duration": 29,
    "start_time": "2022-06-02T09:55:01.351Z"
   },
   {
    "duration": 4,
    "start_time": "2022-06-02T09:55:01.382Z"
   },
   {
    "duration": 52,
    "start_time": "2022-06-02T09:55:01.387Z"
   },
   {
    "duration": 23,
    "start_time": "2022-06-02T09:55:01.443Z"
   },
   {
    "duration": 28,
    "start_time": "2022-06-02T09:55:01.468Z"
   },
   {
    "duration": 33,
    "start_time": "2022-06-02T09:55:01.499Z"
   },
   {
    "duration": 29,
    "start_time": "2022-06-02T09:55:01.545Z"
   },
   {
    "duration": 38,
    "start_time": "2022-06-02T09:55:01.576Z"
   },
   {
    "duration": 59,
    "start_time": "2022-06-02T09:55:01.616Z"
   },
   {
    "duration": 91,
    "start_time": "2022-06-02T09:55:01.677Z"
   },
   {
    "duration": 32,
    "start_time": "2022-06-02T09:55:01.770Z"
   },
   {
    "duration": 41,
    "start_time": "2022-06-02T09:55:01.803Z"
   },
   {
    "duration": 29,
    "start_time": "2022-06-02T09:55:01.849Z"
   },
   {
    "duration": 37,
    "start_time": "2022-06-02T09:55:01.880Z"
   },
   {
    "duration": 13,
    "start_time": "2022-06-02T09:55:01.920Z"
   },
   {
    "duration": 33,
    "start_time": "2022-06-02T09:55:01.935Z"
   },
   {
    "duration": 41,
    "start_time": "2022-06-02T09:55:01.970Z"
   },
   {
    "duration": 12,
    "start_time": "2022-06-02T09:55:02.013Z"
   },
   {
    "duration": 27,
    "start_time": "2022-06-02T09:55:02.027Z"
   },
   {
    "duration": 21,
    "start_time": "2022-06-02T09:55:02.056Z"
   },
   {
    "duration": 11,
    "start_time": "2022-06-02T09:55:02.079Z"
   },
   {
    "duration": 10,
    "start_time": "2022-06-02T09:55:02.092Z"
   },
   {
    "duration": 18,
    "start_time": "2022-06-02T09:55:02.104Z"
   },
   {
    "duration": 221,
    "start_time": "2022-06-02T09:55:02.124Z"
   },
   {
    "duration": 17,
    "start_time": "2022-06-02T09:55:02.348Z"
   },
   {
    "duration": 15,
    "start_time": "2022-06-02T09:55:02.366Z"
   },
   {
    "duration": 66,
    "start_time": "2022-06-02T09:55:02.383Z"
   },
   {
    "duration": 107,
    "start_time": "2022-06-02T09:55:02.451Z"
   },
   {
    "duration": 41,
    "start_time": "2022-06-02T09:55:02.560Z"
   },
   {
    "duration": 114,
    "start_time": "2022-06-02T09:55:02.603Z"
   },
   {
    "duration": 25,
    "start_time": "2022-06-02T09:55:02.719Z"
   },
   {
    "duration": 17,
    "start_time": "2022-06-02T09:55:02.745Z"
   },
   {
    "duration": 479,
    "start_time": "2022-06-02T09:55:02.764Z"
   },
   {
    "duration": 11,
    "start_time": "2022-06-02T09:55:03.245Z"
   },
   {
    "duration": 109,
    "start_time": "2022-06-02T09:55:03.257Z"
   },
   {
    "duration": 585,
    "start_time": "2022-06-02T09:55:03.367Z"
   },
   {
    "duration": 10,
    "start_time": "2022-06-02T09:55:03.954Z"
   },
   {
    "duration": 25,
    "start_time": "2022-06-02T09:55:03.970Z"
   },
   {
    "duration": 482,
    "start_time": "2022-06-02T09:55:03.997Z"
   },
   {
    "duration": 11,
    "start_time": "2022-06-02T09:55:04.480Z"
   },
   {
    "duration": 16,
    "start_time": "2022-06-02T09:55:04.492Z"
   },
   {
    "duration": 22,
    "start_time": "2022-06-02T09:55:04.510Z"
   },
   {
    "duration": 483,
    "start_time": "2022-06-02T09:55:04.534Z"
   },
   {
    "duration": 26,
    "start_time": "2022-06-02T09:55:05.019Z"
   },
   {
    "duration": 13,
    "start_time": "2022-06-02T09:55:05.047Z"
   },
   {
    "duration": 9,
    "start_time": "2022-06-02T09:55:05.062Z"
   },
   {
    "duration": 14,
    "start_time": "2022-06-02T09:55:05.072Z"
   },
   {
    "duration": 14,
    "start_time": "2022-06-02T09:55:05.087Z"
   },
   {
    "duration": 15,
    "start_time": "2022-06-02T09:55:05.103Z"
   },
   {
    "duration": 30,
    "start_time": "2022-06-02T09:55:05.120Z"
   },
   {
    "duration": 13,
    "start_time": "2022-06-02T09:55:05.152Z"
   },
   {
    "duration": 15,
    "start_time": "2022-06-02T09:57:30.549Z"
   },
   {
    "duration": 16,
    "start_time": "2022-06-02T09:57:35.700Z"
   },
   {
    "duration": 4,
    "start_time": "2022-06-02T09:58:27.375Z"
   },
   {
    "duration": 3,
    "start_time": "2022-06-02T09:58:51.256Z"
   },
   {
    "duration": 168,
    "start_time": "2022-06-02T09:58:53.289Z"
   },
   {
    "duration": 178,
    "start_time": "2022-06-02T09:59:08.443Z"
   },
   {
    "duration": 166,
    "start_time": "2022-06-02T09:59:15.041Z"
   },
   {
    "duration": 56,
    "start_time": "2022-06-02T09:59:17.657Z"
   },
   {
    "duration": 106,
    "start_time": "2022-06-02T09:59:34.026Z"
   },
   {
    "duration": 445,
    "start_time": "2022-06-02T09:59:36.450Z"
   },
   {
    "duration": 1375,
    "start_time": "2022-06-02T09:59:38.520Z"
   },
   {
    "duration": 1211,
    "start_time": "2022-06-02T10:01:22.805Z"
   },
   {
    "duration": 3,
    "start_time": "2022-06-02T10:01:24.017Z"
   },
   {
    "duration": 447,
    "start_time": "2022-06-02T10:01:24.022Z"
   },
   {
    "duration": 25,
    "start_time": "2022-06-02T10:01:24.471Z"
   },
   {
    "duration": 28,
    "start_time": "2022-06-02T10:01:24.499Z"
   },
   {
    "duration": 7,
    "start_time": "2022-06-02T10:01:24.529Z"
   },
   {
    "duration": 8,
    "start_time": "2022-06-02T10:01:24.537Z"
   },
   {
    "duration": 7,
    "start_time": "2022-06-02T10:01:24.547Z"
   },
   {
    "duration": 17,
    "start_time": "2022-06-02T10:01:24.556Z"
   },
   {
    "duration": 6,
    "start_time": "2022-06-02T10:01:24.574Z"
   },
   {
    "duration": 52,
    "start_time": "2022-06-02T10:01:24.581Z"
   },
   {
    "duration": 52,
    "start_time": "2022-06-02T10:01:24.635Z"
   },
   {
    "duration": 6,
    "start_time": "2022-06-02T10:01:24.688Z"
   },
   {
    "duration": 38,
    "start_time": "2022-06-02T10:01:24.698Z"
   },
   {
    "duration": 38,
    "start_time": "2022-06-02T10:01:24.738Z"
   },
   {
    "duration": 74,
    "start_time": "2022-06-02T10:01:24.778Z"
   },
   {
    "duration": 7,
    "start_time": "2022-06-02T10:01:24.853Z"
   },
   {
    "duration": 18,
    "start_time": "2022-06-02T10:01:24.861Z"
   },
   {
    "duration": 278,
    "start_time": "2022-06-02T10:01:24.880Z"
   },
   {
    "duration": 336,
    "start_time": "2022-06-02T10:01:25.161Z"
   },
   {
    "duration": 344,
    "start_time": "2022-06-02T10:01:25.499Z"
   },
   {
    "duration": 17,
    "start_time": "2022-06-02T10:01:25.845Z"
   },
   {
    "duration": 21,
    "start_time": "2022-06-02T10:01:25.863Z"
   },
   {
    "duration": 7,
    "start_time": "2022-06-02T10:01:25.886Z"
   },
   {
    "duration": 291,
    "start_time": "2022-06-02T10:01:25.895Z"
   },
   {
    "duration": 274,
    "start_time": "2022-06-02T10:01:26.190Z"
   },
   {
    "duration": 30,
    "start_time": "2022-06-02T10:01:26.465Z"
   },
   {
    "duration": 119,
    "start_time": "2022-06-02T10:01:26.496Z"
   },
   {
    "duration": 14,
    "start_time": "2022-06-02T10:01:26.618Z"
   },
   {
    "duration": 25,
    "start_time": "2022-06-02T10:01:26.634Z"
   },
   {
    "duration": 6,
    "start_time": "2022-06-02T10:01:26.661Z"
   },
   {
    "duration": 10,
    "start_time": "2022-06-02T10:01:26.669Z"
   },
   {
    "duration": 25,
    "start_time": "2022-06-02T10:01:26.681Z"
   },
   {
    "duration": 41,
    "start_time": "2022-06-02T10:01:26.708Z"
   },
   {
    "duration": 38,
    "start_time": "2022-06-02T10:01:26.751Z"
   },
   {
    "duration": 5,
    "start_time": "2022-06-02T10:01:26.791Z"
   },
   {
    "duration": 43,
    "start_time": "2022-06-02T10:01:26.797Z"
   },
   {
    "duration": 35,
    "start_time": "2022-06-02T10:01:26.841Z"
   },
   {
    "duration": 3,
    "start_time": "2022-06-02T10:01:26.878Z"
   },
   {
    "duration": 21,
    "start_time": "2022-06-02T10:01:26.882Z"
   },
   {
    "duration": 15,
    "start_time": "2022-06-02T10:01:26.926Z"
   },
   {
    "duration": 23,
    "start_time": "2022-06-02T10:01:26.943Z"
   },
   {
    "duration": 11,
    "start_time": "2022-06-02T10:01:26.968Z"
   },
   {
    "duration": 17,
    "start_time": "2022-06-02T10:01:26.980Z"
   },
   {
    "duration": 43,
    "start_time": "2022-06-02T10:01:26.999Z"
   },
   {
    "duration": 3,
    "start_time": "2022-06-02T10:01:27.044Z"
   },
   {
    "duration": 14,
    "start_time": "2022-06-02T10:01:27.049Z"
   },
   {
    "duration": 6,
    "start_time": "2022-06-02T10:01:27.065Z"
   },
   {
    "duration": 13,
    "start_time": "2022-06-02T10:01:27.073Z"
   },
   {
    "duration": 43,
    "start_time": "2022-06-02T10:01:27.088Z"
   },
   {
    "duration": 18,
    "start_time": "2022-06-02T10:01:27.133Z"
   },
   {
    "duration": 12,
    "start_time": "2022-06-02T10:01:27.154Z"
   },
   {
    "duration": 12,
    "start_time": "2022-06-02T10:01:27.168Z"
   },
   {
    "duration": 8,
    "start_time": "2022-06-02T10:01:27.182Z"
   },
   {
    "duration": 36,
    "start_time": "2022-06-02T10:01:27.191Z"
   },
   {
    "duration": 20,
    "start_time": "2022-06-02T10:01:27.229Z"
   },
   {
    "duration": 14,
    "start_time": "2022-06-02T10:01:27.251Z"
   },
   {
    "duration": 14,
    "start_time": "2022-06-02T10:01:27.267Z"
   },
   {
    "duration": 4,
    "start_time": "2022-06-02T10:01:27.283Z"
   },
   {
    "duration": 7,
    "start_time": "2022-06-02T10:01:27.289Z"
   },
   {
    "duration": 39,
    "start_time": "2022-06-02T10:01:27.298Z"
   },
   {
    "duration": 7,
    "start_time": "2022-06-02T10:01:27.339Z"
   },
   {
    "duration": 15,
    "start_time": "2022-06-02T10:01:27.347Z"
   },
   {
    "duration": 15,
    "start_time": "2022-06-02T10:01:27.364Z"
   },
   {
    "duration": 7,
    "start_time": "2022-06-02T10:01:27.380Z"
   },
   {
    "duration": 10,
    "start_time": "2022-06-02T10:01:27.389Z"
   },
   {
    "duration": 9,
    "start_time": "2022-06-02T10:01:27.401Z"
   },
   {
    "duration": 188,
    "start_time": "2022-06-02T10:01:27.411Z"
   },
   {
    "duration": 27,
    "start_time": "2022-06-02T10:01:27.601Z"
   },
   {
    "duration": 9,
    "start_time": "2022-06-02T10:01:27.629Z"
   },
   {
    "duration": 20,
    "start_time": "2022-06-02T10:01:27.639Z"
   },
   {
    "duration": 11,
    "start_time": "2022-06-02T10:01:27.661Z"
   },
   {
    "duration": 22,
    "start_time": "2022-06-02T10:01:27.674Z"
   },
   {
    "duration": 53,
    "start_time": "2022-06-02T10:01:27.698Z"
   },
   {
    "duration": 16,
    "start_time": "2022-06-02T10:01:27.752Z"
   },
   {
    "duration": 9,
    "start_time": "2022-06-02T10:01:27.770Z"
   },
   {
    "duration": 457,
    "start_time": "2022-06-02T10:01:27.780Z"
   },
   {
    "duration": 11,
    "start_time": "2022-06-02T10:01:28.239Z"
   },
   {
    "duration": 9,
    "start_time": "2022-06-02T10:01:28.252Z"
   },
   {
    "duration": 567,
    "start_time": "2022-06-02T10:01:28.263Z"
   },
   {
    "duration": 10,
    "start_time": "2022-06-02T10:01:28.832Z"
   },
   {
    "duration": 10,
    "start_time": "2022-06-02T10:01:28.843Z"
   },
   {
    "duration": 444,
    "start_time": "2022-06-02T10:01:28.855Z"
   },
   {
    "duration": 10,
    "start_time": "2022-06-02T10:01:29.301Z"
   },
   {
    "duration": 22,
    "start_time": "2022-06-02T10:01:29.313Z"
   },
   {
    "duration": 10,
    "start_time": "2022-06-02T10:01:29.337Z"
   },
   {
    "duration": 448,
    "start_time": "2022-06-02T10:01:29.349Z"
   },
   {
    "duration": 10,
    "start_time": "2022-06-02T10:01:29.798Z"
   },
   {
    "duration": 22,
    "start_time": "2022-06-02T10:01:29.810Z"
   },
   {
    "duration": 8,
    "start_time": "2022-06-02T10:01:29.834Z"
   },
   {
    "duration": 16,
    "start_time": "2022-06-02T10:01:29.844Z"
   },
   {
    "duration": 9,
    "start_time": "2022-06-02T10:01:29.862Z"
   },
   {
    "duration": 12,
    "start_time": "2022-06-02T10:01:29.873Z"
   },
   {
    "duration": 12,
    "start_time": "2022-06-02T10:01:29.886Z"
   },
   {
    "duration": 9,
    "start_time": "2022-06-02T10:01:29.900Z"
   },
   {
    "duration": 73,
    "start_time": "2022-06-02T10:01:29.911Z"
   },
   {
    "duration": 1450,
    "start_time": "2022-06-02T10:01:29.985Z"
   },
   {
    "duration": 4,
    "start_time": "2022-06-02T10:01:31.437Z"
   },
   {
    "duration": 428,
    "start_time": "2022-06-02T10:01:31.443Z"
   },
   {
    "duration": 211,
    "start_time": "2022-06-02T10:01:31.873Z"
   },
   {
    "duration": 177,
    "start_time": "2022-06-02T10:01:32.085Z"
   },
   {
    "duration": 54,
    "start_time": "2022-06-02T10:01:32.264Z"
   },
   {
    "duration": 4,
    "start_time": "2022-06-02T10:02:07.952Z"
   },
   {
    "duration": 4,
    "start_time": "2022-06-02T10:02:10.335Z"
   },
   {
    "duration": 12,
    "start_time": "2022-06-02T10:02:18.040Z"
   }
  ],
  "kernelspec": {
   "display_name": "Python 3 (ipykernel)",
   "language": "python",
   "name": "python3"
  },
  "language_info": {
   "codemirror_mode": {
    "name": "ipython",
    "version": 3
   },
   "file_extension": ".py",
   "mimetype": "text/x-python",
   "name": "python",
   "nbconvert_exporter": "python",
   "pygments_lexer": "ipython3",
   "version": "3.7.8"
  },
  "toc": {
   "base_numbering": 1,
   "nav_menu": {},
   "number_sections": true,
   "sideBar": true,
   "skip_h1_title": true,
   "title_cell": "Table of Contents",
   "title_sidebar": "Contents",
   "toc_cell": false,
   "toc_position": {
    "height": "301px",
    "left": "51px",
    "top": "211.137px",
    "width": "165px"
   },
   "toc_section_display": true,
   "toc_window_display": true
  }
 },
 "nbformat": 4,
 "nbformat_minor": 4
}
